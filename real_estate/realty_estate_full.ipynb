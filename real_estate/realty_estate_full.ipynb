{
 "cells": [
  {
   "cell_type": "markdown",
   "metadata": {},
   "source": [
    "# Исследование объявлений о продаже квартир\n",
    "\n",
    "В вашем распоряжении данные сервиса Яндекс.Недвижимость — архив объявлений о продаже квартир в Санкт-Петербурге и соседних населённых пунктов за несколько лет. Нужно научиться определять рыночную стоимость объектов недвижимости. Ваша задача — установить параметры. Это позволит построить автоматизированную систему: она отследит аномалии и мошенническую деятельность. \n",
    "\n",
    "По каждой квартире на продажу доступны два вида данных. Первые вписаны пользователем, вторые — получены автоматически на основе картографических данных. Например, расстояние до центра, аэропорта, ближайшего парка и водоёма. "
   ]
  },
  {
   "cell_type": "markdown",
   "metadata": {},
   "source": [
    "### Откройте файл с данными и изучите общую информацию. "
   ]
  },
  {
   "cell_type": "code",
   "execution_count": 1,
   "metadata": {},
   "outputs": [],
   "source": [
    "import pandas as pd\n",
    "import matplotlib.pyplot as plt\n",
    "import seaborn as sns"
   ]
  },
  {
   "cell_type": "code",
   "execution_count": 2,
   "metadata": {},
   "outputs": [],
   "source": [
    "try:\n",
    "    df = pd.read_csv('/datasets/real_estate_data.csv', sep='\\t')\n",
    "except:\n",
    "    df = pd.read_csv('real_estate_data.csv', sep='\\t')"
   ]
  },
  {
   "cell_type": "code",
   "execution_count": 3,
   "metadata": {},
   "outputs": [
    {
     "data": {
      "text/html": [
       "<div>\n",
       "<style scoped>\n",
       "    .dataframe tbody tr th:only-of-type {\n",
       "        vertical-align: middle;\n",
       "    }\n",
       "\n",
       "    .dataframe tbody tr th {\n",
       "        vertical-align: top;\n",
       "    }\n",
       "\n",
       "    .dataframe thead th {\n",
       "        text-align: right;\n",
       "    }\n",
       "</style>\n",
       "<table border=\"1\" class=\"dataframe\">\n",
       "  <thead>\n",
       "    <tr style=\"text-align: right;\">\n",
       "      <th></th>\n",
       "      <th>total_images</th>\n",
       "      <th>last_price</th>\n",
       "      <th>total_area</th>\n",
       "      <th>first_day_exposition</th>\n",
       "      <th>rooms</th>\n",
       "      <th>ceiling_height</th>\n",
       "      <th>floors_total</th>\n",
       "      <th>living_area</th>\n",
       "      <th>floor</th>\n",
       "      <th>is_apartment</th>\n",
       "      <th>...</th>\n",
       "      <th>kitchen_area</th>\n",
       "      <th>balcony</th>\n",
       "      <th>locality_name</th>\n",
       "      <th>airports_nearest</th>\n",
       "      <th>cityCenters_nearest</th>\n",
       "      <th>parks_around3000</th>\n",
       "      <th>parks_nearest</th>\n",
       "      <th>ponds_around3000</th>\n",
       "      <th>ponds_nearest</th>\n",
       "      <th>days_exposition</th>\n",
       "    </tr>\n",
       "  </thead>\n",
       "  <tbody>\n",
       "    <tr>\n",
       "      <th>0</th>\n",
       "      <td>20</td>\n",
       "      <td>13000000.0</td>\n",
       "      <td>108.0</td>\n",
       "      <td>2019-03-07T00:00:00</td>\n",
       "      <td>3</td>\n",
       "      <td>2.70</td>\n",
       "      <td>16.0</td>\n",
       "      <td>51.0</td>\n",
       "      <td>8</td>\n",
       "      <td>NaN</td>\n",
       "      <td>...</td>\n",
       "      <td>25.0</td>\n",
       "      <td>NaN</td>\n",
       "      <td>Санкт-Петербург</td>\n",
       "      <td>18863.0</td>\n",
       "      <td>16028.0</td>\n",
       "      <td>1.0</td>\n",
       "      <td>482.0</td>\n",
       "      <td>2.0</td>\n",
       "      <td>755.0</td>\n",
       "      <td>NaN</td>\n",
       "    </tr>\n",
       "    <tr>\n",
       "      <th>1</th>\n",
       "      <td>7</td>\n",
       "      <td>3350000.0</td>\n",
       "      <td>40.4</td>\n",
       "      <td>2018-12-04T00:00:00</td>\n",
       "      <td>1</td>\n",
       "      <td>NaN</td>\n",
       "      <td>11.0</td>\n",
       "      <td>18.6</td>\n",
       "      <td>1</td>\n",
       "      <td>NaN</td>\n",
       "      <td>...</td>\n",
       "      <td>11.0</td>\n",
       "      <td>2.0</td>\n",
       "      <td>посёлок Шушары</td>\n",
       "      <td>12817.0</td>\n",
       "      <td>18603.0</td>\n",
       "      <td>0.0</td>\n",
       "      <td>NaN</td>\n",
       "      <td>0.0</td>\n",
       "      <td>NaN</td>\n",
       "      <td>81.0</td>\n",
       "    </tr>\n",
       "    <tr>\n",
       "      <th>2</th>\n",
       "      <td>10</td>\n",
       "      <td>5196000.0</td>\n",
       "      <td>56.0</td>\n",
       "      <td>2015-08-20T00:00:00</td>\n",
       "      <td>2</td>\n",
       "      <td>NaN</td>\n",
       "      <td>5.0</td>\n",
       "      <td>34.3</td>\n",
       "      <td>4</td>\n",
       "      <td>NaN</td>\n",
       "      <td>...</td>\n",
       "      <td>8.3</td>\n",
       "      <td>0.0</td>\n",
       "      <td>Санкт-Петербург</td>\n",
       "      <td>21741.0</td>\n",
       "      <td>13933.0</td>\n",
       "      <td>1.0</td>\n",
       "      <td>90.0</td>\n",
       "      <td>2.0</td>\n",
       "      <td>574.0</td>\n",
       "      <td>558.0</td>\n",
       "    </tr>\n",
       "    <tr>\n",
       "      <th>3</th>\n",
       "      <td>0</td>\n",
       "      <td>64900000.0</td>\n",
       "      <td>159.0</td>\n",
       "      <td>2015-07-24T00:00:00</td>\n",
       "      <td>3</td>\n",
       "      <td>NaN</td>\n",
       "      <td>14.0</td>\n",
       "      <td>NaN</td>\n",
       "      <td>9</td>\n",
       "      <td>NaN</td>\n",
       "      <td>...</td>\n",
       "      <td>NaN</td>\n",
       "      <td>0.0</td>\n",
       "      <td>Санкт-Петербург</td>\n",
       "      <td>28098.0</td>\n",
       "      <td>6800.0</td>\n",
       "      <td>2.0</td>\n",
       "      <td>84.0</td>\n",
       "      <td>3.0</td>\n",
       "      <td>234.0</td>\n",
       "      <td>424.0</td>\n",
       "    </tr>\n",
       "    <tr>\n",
       "      <th>4</th>\n",
       "      <td>2</td>\n",
       "      <td>10000000.0</td>\n",
       "      <td>100.0</td>\n",
       "      <td>2018-06-19T00:00:00</td>\n",
       "      <td>2</td>\n",
       "      <td>3.03</td>\n",
       "      <td>14.0</td>\n",
       "      <td>32.0</td>\n",
       "      <td>13</td>\n",
       "      <td>NaN</td>\n",
       "      <td>...</td>\n",
       "      <td>41.0</td>\n",
       "      <td>NaN</td>\n",
       "      <td>Санкт-Петербург</td>\n",
       "      <td>31856.0</td>\n",
       "      <td>8098.0</td>\n",
       "      <td>2.0</td>\n",
       "      <td>112.0</td>\n",
       "      <td>1.0</td>\n",
       "      <td>48.0</td>\n",
       "      <td>121.0</td>\n",
       "    </tr>\n",
       "  </tbody>\n",
       "</table>\n",
       "<p>5 rows × 22 columns</p>\n",
       "</div>"
      ],
      "text/plain": [
       "   total_images  last_price  total_area first_day_exposition  rooms  \\\n",
       "0            20  13000000.0       108.0  2019-03-07T00:00:00      3   \n",
       "1             7   3350000.0        40.4  2018-12-04T00:00:00      1   \n",
       "2            10   5196000.0        56.0  2015-08-20T00:00:00      2   \n",
       "3             0  64900000.0       159.0  2015-07-24T00:00:00      3   \n",
       "4             2  10000000.0       100.0  2018-06-19T00:00:00      2   \n",
       "\n",
       "   ceiling_height  floors_total  living_area  floor is_apartment  ...  \\\n",
       "0            2.70          16.0         51.0      8          NaN  ...   \n",
       "1             NaN          11.0         18.6      1          NaN  ...   \n",
       "2             NaN           5.0         34.3      4          NaN  ...   \n",
       "3             NaN          14.0          NaN      9          NaN  ...   \n",
       "4            3.03          14.0         32.0     13          NaN  ...   \n",
       "\n",
       "   kitchen_area  balcony    locality_name  airports_nearest  \\\n",
       "0          25.0      NaN  Санкт-Петербург           18863.0   \n",
       "1          11.0      2.0   посёлок Шушары           12817.0   \n",
       "2           8.3      0.0  Санкт-Петербург           21741.0   \n",
       "3           NaN      0.0  Санкт-Петербург           28098.0   \n",
       "4          41.0      NaN  Санкт-Петербург           31856.0   \n",
       "\n",
       "  cityCenters_nearest  parks_around3000  parks_nearest  ponds_around3000  \\\n",
       "0             16028.0               1.0          482.0               2.0   \n",
       "1             18603.0               0.0            NaN               0.0   \n",
       "2             13933.0               1.0           90.0               2.0   \n",
       "3              6800.0               2.0           84.0               3.0   \n",
       "4              8098.0               2.0          112.0               1.0   \n",
       "\n",
       "   ponds_nearest  days_exposition  \n",
       "0          755.0              NaN  \n",
       "1            NaN             81.0  \n",
       "2          574.0            558.0  \n",
       "3          234.0            424.0  \n",
       "4           48.0            121.0  \n",
       "\n",
       "[5 rows x 22 columns]"
      ]
     },
     "execution_count": 3,
     "metadata": {},
     "output_type": "execute_result"
    }
   ],
   "source": [
    "df.head(5)\n",
    "#выведем 5 первых строк на экран"
   ]
  },
  {
   "cell_type": "code",
   "execution_count": 4,
   "metadata": {},
   "outputs": [
    {
     "data": {
      "text/html": [
       "<div>\n",
       "<style scoped>\n",
       "    .dataframe tbody tr th:only-of-type {\n",
       "        vertical-align: middle;\n",
       "    }\n",
       "\n",
       "    .dataframe tbody tr th {\n",
       "        vertical-align: top;\n",
       "    }\n",
       "\n",
       "    .dataframe thead th {\n",
       "        text-align: right;\n",
       "    }\n",
       "</style>\n",
       "<table border=\"1\" class=\"dataframe\">\n",
       "  <thead>\n",
       "    <tr style=\"text-align: right;\">\n",
       "      <th></th>\n",
       "      <th>total_images</th>\n",
       "      <th>last_price</th>\n",
       "      <th>total_area</th>\n",
       "      <th>first_day_exposition</th>\n",
       "      <th>rooms</th>\n",
       "      <th>ceiling_height</th>\n",
       "      <th>floors_total</th>\n",
       "      <th>living_area</th>\n",
       "      <th>floor</th>\n",
       "      <th>is_apartment</th>\n",
       "      <th>...</th>\n",
       "      <th>kitchen_area</th>\n",
       "      <th>balcony</th>\n",
       "      <th>locality_name</th>\n",
       "      <th>airports_nearest</th>\n",
       "      <th>cityCenters_nearest</th>\n",
       "      <th>parks_around3000</th>\n",
       "      <th>parks_nearest</th>\n",
       "      <th>ponds_around3000</th>\n",
       "      <th>ponds_nearest</th>\n",
       "      <th>days_exposition</th>\n",
       "    </tr>\n",
       "  </thead>\n",
       "  <tbody>\n",
       "    <tr>\n",
       "      <th>15691</th>\n",
       "      <td>4</td>\n",
       "      <td>1800000.0</td>\n",
       "      <td>53.5</td>\n",
       "      <td>2017-11-24T00:00:00</td>\n",
       "      <td>2</td>\n",
       "      <td>2.5</td>\n",
       "      <td>5.0</td>\n",
       "      <td>29.7</td>\n",
       "      <td>1</td>\n",
       "      <td>NaN</td>\n",
       "      <td>...</td>\n",
       "      <td>8.1</td>\n",
       "      <td>NaN</td>\n",
       "      <td>Волосово</td>\n",
       "      <td>NaN</td>\n",
       "      <td>NaN</td>\n",
       "      <td>NaN</td>\n",
       "      <td>NaN</td>\n",
       "      <td>NaN</td>\n",
       "      <td>NaN</td>\n",
       "      <td>90.0</td>\n",
       "    </tr>\n",
       "    <tr>\n",
       "      <th>10744</th>\n",
       "      <td>11</td>\n",
       "      <td>5700000.0</td>\n",
       "      <td>63.2</td>\n",
       "      <td>2019-01-23T00:00:00</td>\n",
       "      <td>3</td>\n",
       "      <td>2.7</td>\n",
       "      <td>9.0</td>\n",
       "      <td>39.8</td>\n",
       "      <td>2</td>\n",
       "      <td>NaN</td>\n",
       "      <td>...</td>\n",
       "      <td>10.4</td>\n",
       "      <td>1.0</td>\n",
       "      <td>Санкт-Петербург</td>\n",
       "      <td>29681.0</td>\n",
       "      <td>12542.0</td>\n",
       "      <td>0.0</td>\n",
       "      <td>NaN</td>\n",
       "      <td>0.0</td>\n",
       "      <td>NaN</td>\n",
       "      <td>72.0</td>\n",
       "    </tr>\n",
       "    <tr>\n",
       "      <th>15532</th>\n",
       "      <td>15</td>\n",
       "      <td>3500000.0</td>\n",
       "      <td>35.0</td>\n",
       "      <td>2017-12-25T00:00:00</td>\n",
       "      <td>1</td>\n",
       "      <td>NaN</td>\n",
       "      <td>9.0</td>\n",
       "      <td>15.0</td>\n",
       "      <td>8</td>\n",
       "      <td>NaN</td>\n",
       "      <td>...</td>\n",
       "      <td>11.0</td>\n",
       "      <td>NaN</td>\n",
       "      <td>Пушкин</td>\n",
       "      <td>18271.0</td>\n",
       "      <td>32842.0</td>\n",
       "      <td>1.0</td>\n",
       "      <td>63.0</td>\n",
       "      <td>0.0</td>\n",
       "      <td>NaN</td>\n",
       "      <td>231.0</td>\n",
       "    </tr>\n",
       "    <tr>\n",
       "      <th>15386</th>\n",
       "      <td>14</td>\n",
       "      <td>6900000.0</td>\n",
       "      <td>77.0</td>\n",
       "      <td>2016-06-23T00:00:00</td>\n",
       "      <td>3</td>\n",
       "      <td>2.8</td>\n",
       "      <td>4.0</td>\n",
       "      <td>45.6</td>\n",
       "      <td>4</td>\n",
       "      <td>NaN</td>\n",
       "      <td>...</td>\n",
       "      <td>11.0</td>\n",
       "      <td>NaN</td>\n",
       "      <td>Санкт-Петербург</td>\n",
       "      <td>21681.0</td>\n",
       "      <td>6073.0</td>\n",
       "      <td>1.0</td>\n",
       "      <td>731.0</td>\n",
       "      <td>1.0</td>\n",
       "      <td>266.0</td>\n",
       "      <td>579.0</td>\n",
       "    </tr>\n",
       "    <tr>\n",
       "      <th>21617</th>\n",
       "      <td>8</td>\n",
       "      <td>2750000.0</td>\n",
       "      <td>46.0</td>\n",
       "      <td>2017-06-03T00:00:00</td>\n",
       "      <td>2</td>\n",
       "      <td>NaN</td>\n",
       "      <td>5.0</td>\n",
       "      <td>29.0</td>\n",
       "      <td>1</td>\n",
       "      <td>NaN</td>\n",
       "      <td>...</td>\n",
       "      <td>7.0</td>\n",
       "      <td>0.0</td>\n",
       "      <td>Сертолово</td>\n",
       "      <td>NaN</td>\n",
       "      <td>NaN</td>\n",
       "      <td>NaN</td>\n",
       "      <td>NaN</td>\n",
       "      <td>NaN</td>\n",
       "      <td>NaN</td>\n",
       "      <td>85.0</td>\n",
       "    </tr>\n",
       "  </tbody>\n",
       "</table>\n",
       "<p>5 rows × 22 columns</p>\n",
       "</div>"
      ],
      "text/plain": [
       "       total_images  last_price  total_area first_day_exposition  rooms  \\\n",
       "15691             4   1800000.0        53.5  2017-11-24T00:00:00      2   \n",
       "10744            11   5700000.0        63.2  2019-01-23T00:00:00      3   \n",
       "15532            15   3500000.0        35.0  2017-12-25T00:00:00      1   \n",
       "15386            14   6900000.0        77.0  2016-06-23T00:00:00      3   \n",
       "21617             8   2750000.0        46.0  2017-06-03T00:00:00      2   \n",
       "\n",
       "       ceiling_height  floors_total  living_area  floor is_apartment  ...  \\\n",
       "15691             2.5           5.0         29.7      1          NaN  ...   \n",
       "10744             2.7           9.0         39.8      2          NaN  ...   \n",
       "15532             NaN           9.0         15.0      8          NaN  ...   \n",
       "15386             2.8           4.0         45.6      4          NaN  ...   \n",
       "21617             NaN           5.0         29.0      1          NaN  ...   \n",
       "\n",
       "       kitchen_area  balcony    locality_name  airports_nearest  \\\n",
       "15691           8.1      NaN         Волосово               NaN   \n",
       "10744          10.4      1.0  Санкт-Петербург           29681.0   \n",
       "15532          11.0      NaN           Пушкин           18271.0   \n",
       "15386          11.0      NaN  Санкт-Петербург           21681.0   \n",
       "21617           7.0      0.0        Сертолово               NaN   \n",
       "\n",
       "      cityCenters_nearest  parks_around3000  parks_nearest  ponds_around3000  \\\n",
       "15691                 NaN               NaN            NaN               NaN   \n",
       "10744             12542.0               0.0            NaN               0.0   \n",
       "15532             32842.0               1.0           63.0               0.0   \n",
       "15386              6073.0               1.0          731.0               1.0   \n",
       "21617                 NaN               NaN            NaN               NaN   \n",
       "\n",
       "       ponds_nearest  days_exposition  \n",
       "15691            NaN             90.0  \n",
       "10744            NaN             72.0  \n",
       "15532            NaN            231.0  \n",
       "15386          266.0            579.0  \n",
       "21617            NaN             85.0  \n",
       "\n",
       "[5 rows x 22 columns]"
      ]
     },
     "execution_count": 4,
     "metadata": {},
     "output_type": "execute_result"
    }
   ],
   "source": [
    "df.sample(5)\n",
    "#выведем еще 5 случайных строк на экран"
   ]
  },
  {
   "cell_type": "code",
   "execution_count": 5,
   "metadata": {},
   "outputs": [
    {
     "data": {
      "text/plain": [
       "(23699, 22)"
      ]
     },
     "execution_count": 5,
     "metadata": {},
     "output_type": "execute_result"
    }
   ],
   "source": [
    "df.shape\n",
    "#выведем размер датасета на экран"
   ]
  },
  {
   "cell_type": "code",
   "execution_count": 6,
   "metadata": {},
   "outputs": [
    {
     "name": "stdout",
     "output_type": "stream",
     "text": [
      "<class 'pandas.core.frame.DataFrame'>\n",
      "RangeIndex: 23699 entries, 0 to 23698\n",
      "Data columns (total 22 columns):\n",
      " #   Column                Non-Null Count  Dtype  \n",
      "---  ------                --------------  -----  \n",
      " 0   total_images          23699 non-null  int64  \n",
      " 1   last_price            23699 non-null  float64\n",
      " 2   total_area            23699 non-null  float64\n",
      " 3   first_day_exposition  23699 non-null  object \n",
      " 4   rooms                 23699 non-null  int64  \n",
      " 5   ceiling_height        14504 non-null  float64\n",
      " 6   floors_total          23613 non-null  float64\n",
      " 7   living_area           21796 non-null  float64\n",
      " 8   floor                 23699 non-null  int64  \n",
      " 9   is_apartment          2775 non-null   object \n",
      " 10  studio                23699 non-null  bool   \n",
      " 11  open_plan             23699 non-null  bool   \n",
      " 12  kitchen_area          21421 non-null  float64\n",
      " 13  balcony               12180 non-null  float64\n",
      " 14  locality_name         23650 non-null  object \n",
      " 15  airports_nearest      18157 non-null  float64\n",
      " 16  cityCenters_nearest   18180 non-null  float64\n",
      " 17  parks_around3000      18181 non-null  float64\n",
      " 18  parks_nearest         8079 non-null   float64\n",
      " 19  ponds_around3000      18181 non-null  float64\n",
      " 20  ponds_nearest         9110 non-null   float64\n",
      " 21  days_exposition       20518 non-null  float64\n",
      "dtypes: bool(2), float64(14), int64(3), object(3)\n",
      "memory usage: 3.7+ MB\n"
     ]
    }
   ],
   "source": [
    "df.info()\n",
    "#выведем общую информацию о датасете"
   ]
  },
  {
   "cell_type": "code",
   "execution_count": 7,
   "metadata": {},
   "outputs": [
    {
     "data": {
      "image/png": "[encoded data removed]",
      "text/plain": [
       "<Figure size 1440x1800 with 20 Axes>"
      ]
     },
     "metadata": {
      "needs_background": "light"
     },
     "output_type": "display_data"
    }
   ],
   "source": [
    "df.hist(figsize=(20, 25))\n",
    "plt.show()\n",
    "#построим общую гистограмму для всех столбцов таблицы"
   ]
  },
  {
   "cell_type": "markdown",
   "metadata": {},
   "source": [
    "**Вывод:**\n",
    "В датасете 23699 строк.\n",
    "В данных есть пропуски, у некоторых данных необходимо изменить тип."
   ]
  },
  {
   "cell_type": "markdown",
   "metadata": {},
   "source": [
    "### Предобработка данных"
   ]
  },
  {
   "cell_type": "markdown",
   "metadata": {},
   "source": [
    "**2.1 Найдем и изучим пропущенные значения в столбцах**"
   ]
  },
  {
   "cell_type": "code",
   "execution_count": 8,
   "metadata": {
    "scrolled": true
   },
   "outputs": [
    {
     "data": {
      "text/plain": [
       "total_images                0\n",
       "last_price                  0\n",
       "total_area                  0\n",
       "first_day_exposition        0\n",
       "rooms                       0\n",
       "ceiling_height           9195\n",
       "floors_total               86\n",
       "living_area              1903\n",
       "floor                       0\n",
       "is_apartment            20924\n",
       "studio                      0\n",
       "open_plan                   0\n",
       "kitchen_area             2278\n",
       "balcony                 11519\n",
       "locality_name              49\n",
       "airports_nearest         5542\n",
       "cityCenters_nearest      5519\n",
       "parks_around3000         5518\n",
       "parks_nearest           15620\n",
       "ponds_around3000         5518\n",
       "ponds_nearest           14589\n",
       "days_exposition          3181\n",
       "dtype: int64"
      ]
     },
     "execution_count": 8,
     "metadata": {},
     "output_type": "execute_result"
    }
   ],
   "source": [
    "df.isna().sum()\n",
    "#определим количество пропусков"
   ]
  },
  {
   "cell_type": "markdown",
   "metadata": {},
   "source": [
    "Пропусков в данных немало.\n",
    "\n",
    "Логически можно заполнить столбцы с типом недвижимости (апартаменты) `is_apartment`, с количеством балконов `balcony` и количеством парков и водоемов вблизи 3 км `parks_around3000`, `ponds_around3000`. Эти стобцы содержат пропуски из-за того, что в объекте продавца нет балконов, а также поблизости парков и водоемов. \n",
    "\n",
    "Пропуски в столбце `ceiling_height` заполним медианными значениями, т.к. в данных есть выбросы.\n",
    "\n",
    "Записи с пропусками `locality_name` удалим, т.к. они могут относиться не к Лен. области и Санкт-Петербургу.\n",
    "Записи с отсутствующим общим количеством этажей `floors_total` также можно удалить, т.к. таких строк меньше 0.5%, а итоговые выводы опираются в том числе и на этот параметр.\n",
    "\n",
    "Остальные столбцы оставим без изменений, т.к. пропуски в них не заполнить корректно на основании имеющихся данных."
   ]
  },
  {
   "cell_type": "code",
   "execution_count": 9,
   "metadata": {},
   "outputs": [],
   "source": [
    "df.dropna(subset=['locality_name'], inplace=True)\n",
    "#удаление записей с пропусками в солбце 'locality_name'"
   ]
  },
  {
   "cell_type": "code",
   "execution_count": 10,
   "metadata": {},
   "outputs": [],
   "source": [
    "df.dropna(subset=['floors_total'], inplace=True)\n",
    "#удаление записей с пропусками в солбце 'floors_total'"
   ]
  },
  {
   "cell_type": "code",
   "execution_count": 11,
   "metadata": {},
   "outputs": [
    {
     "data": {
      "text/plain": [
       "array([nan, False, True], dtype=object)"
      ]
     },
     "execution_count": 11,
     "metadata": {},
     "output_type": "execute_result"
    }
   ],
   "source": [
    "df['is_apartment'].unique()\n",
    "# посмотрим на уникальные значения в столбце"
   ]
  },
  {
   "cell_type": "markdown",
   "metadata": {},
   "source": [
    "В столбце `is_apartment` пропуски, скорее всего, связаны с тем, что тип недвижимости не относится к аппартаментам.\n",
    "Заполним пропуски значениями \"False\" "
   ]
  },
  {
   "cell_type": "code",
   "execution_count": 12,
   "metadata": {},
   "outputs": [],
   "source": [
    "df['is_apartment'] = df['is_apartment'].fillna(False)\n",
    "# заполним пропуски значением 'False'"
   ]
  },
  {
   "cell_type": "code",
   "execution_count": 13,
   "metadata": {},
   "outputs": [
    {
     "data": {
      "text/plain": [
       "array([nan,  2.,  0.,  1.,  5.,  4.,  3.])"
      ]
     },
     "execution_count": 13,
     "metadata": {},
     "output_type": "execute_result"
    }
   ],
   "source": [
    "df['balcony'].unique()\n",
    "# посмотрим на уникальные значения в столбце"
   ]
  },
  {
   "cell_type": "markdown",
   "metadata": {},
   "source": [
    "Аналогичная ситуация и в столбце `balcony`: если значения нет - нет и балконов в квартире.\n",
    "Установим количество балконов вместо пропусков равное нулю."
   ]
  },
  {
   "cell_type": "code",
   "execution_count": 14,
   "metadata": {},
   "outputs": [],
   "source": [
    "df['balcony'] = df['balcony'].fillna(0)\n",
    "# заполним пропуски нулями"
   ]
  },
  {
   "cell_type": "code",
   "execution_count": 15,
   "metadata": {},
   "outputs": [
    {
     "data": {
      "text/plain": [
       "array([ 1.,  0.,  2., nan,  3.])"
      ]
     },
     "execution_count": 15,
     "metadata": {},
     "output_type": "execute_result"
    }
   ],
   "source": [
    "df['parks_around3000'].unique()\n",
    "# посмотрим на уникальные значения в столбце"
   ]
  },
  {
   "cell_type": "code",
   "execution_count": 16,
   "metadata": {},
   "outputs": [
    {
     "data": {
      "text/plain": [
       "array([ 2.,  0.,  3.,  1., nan])"
      ]
     },
     "execution_count": 16,
     "metadata": {},
     "output_type": "execute_result"
    }
   ],
   "source": [
    "df['ponds_around3000'].unique()\n",
    "# посмотрим на уникальные значения в столбце"
   ]
  },
  {
   "cell_type": "markdown",
   "metadata": {},
   "source": [
    "В столбцах `parks_around3000` и `ponds_around3000`, вероятно, пропуски связаны с тем, что вблизи 3 км парков и водоемов нет. Заменим пропуски нулями."
   ]
  },
  {
   "cell_type": "code",
   "execution_count": 17,
   "metadata": {},
   "outputs": [],
   "source": [
    "df['parks_around3000'] = df['parks_around3000'].fillna(0)\n",
    "# заполним пропуски нулями"
   ]
  },
  {
   "cell_type": "code",
   "execution_count": 18,
   "metadata": {},
   "outputs": [],
   "source": [
    "df['ponds_around3000'] = df['ponds_around3000'].fillna(0)\n",
    "# заполним пропуски нулями"
   ]
  },
  {
   "cell_type": "code",
   "execution_count": 19,
   "metadata": {},
   "outputs": [],
   "source": [
    "df['ceiling_height'].fillna(df['ceiling_height'].median(), inplace=True)\n",
    "# пропуски в столбце с высотой потолка заполним медианными значениями"
   ]
  },
  {
   "cell_type": "markdown",
   "metadata": {},
   "source": [
    "Проверим, что пропуски в обработанных столбцах исчезли."
   ]
  },
  {
   "cell_type": "code",
   "execution_count": 20,
   "metadata": {},
   "outputs": [
    {
     "data": {
      "text/plain": [
       "total_images                0\n",
       "last_price                  0\n",
       "total_area                  0\n",
       "first_day_exposition        0\n",
       "rooms                       0\n",
       "ceiling_height              0\n",
       "floors_total                0\n",
       "living_area              1865\n",
       "floor                       0\n",
       "is_apartment                0\n",
       "studio                      0\n",
       "open_plan                   0\n",
       "kitchen_area             2222\n",
       "balcony                     0\n",
       "locality_name               0\n",
       "airports_nearest         5524\n",
       "cityCenters_nearest      5501\n",
       "parks_around3000            0\n",
       "parks_nearest           15535\n",
       "ponds_around3000            0\n",
       "ponds_nearest           14529\n",
       "days_exposition          3171\n",
       "dtype: int64"
      ]
     },
     "execution_count": 20,
     "metadata": {},
     "output_type": "execute_result"
    }
   ],
   "source": [
    "df.isna().sum()"
   ]
  },
  {
   "cell_type": "markdown",
   "metadata": {},
   "source": [
    "Пропуски обработаны.\n",
    "Наиболее вероятные причины появления пропусков:\n",
    "* Некоторые картографические данные могут отсутствовать по данным объектам недвижимости\n",
    "* Пользователи сознательно не указали данные, такие как количество балконов, тип недвижимости вместо нулей"
   ]
  },
  {
   "cell_type": "markdown",
   "metadata": {},
   "source": [
    "**2.2 Рассмотрим типы данных в каждом столбце**"
   ]
  },
  {
   "cell_type": "code",
   "execution_count": 21,
   "metadata": {},
   "outputs": [
    {
     "name": "stdout",
     "output_type": "stream",
     "text": [
      "<class 'pandas.core.frame.DataFrame'>\n",
      "Int64Index: 23565 entries, 0 to 23698\n",
      "Data columns (total 22 columns):\n",
      " #   Column                Non-Null Count  Dtype  \n",
      "---  ------                --------------  -----  \n",
      " 0   total_images          23565 non-null  int64  \n",
      " 1   last_price            23565 non-null  float64\n",
      " 2   total_area            23565 non-null  float64\n",
      " 3   first_day_exposition  23565 non-null  object \n",
      " 4   rooms                 23565 non-null  int64  \n",
      " 5   ceiling_height        23565 non-null  float64\n",
      " 6   floors_total          23565 non-null  float64\n",
      " 7   living_area           21700 non-null  float64\n",
      " 8   floor                 23565 non-null  int64  \n",
      " 9   is_apartment          23565 non-null  bool   \n",
      " 10  studio                23565 non-null  bool   \n",
      " 11  open_plan             23565 non-null  bool   \n",
      " 12  kitchen_area          21343 non-null  float64\n",
      " 13  balcony               23565 non-null  float64\n",
      " 14  locality_name         23565 non-null  object \n",
      " 15  airports_nearest      18041 non-null  float64\n",
      " 16  cityCenters_nearest   18064 non-null  float64\n",
      " 17  parks_around3000      23565 non-null  float64\n",
      " 18  parks_nearest         8030 non-null   float64\n",
      " 19  ponds_around3000      23565 non-null  float64\n",
      " 20  ponds_nearest         9036 non-null   float64\n",
      " 21  days_exposition       20394 non-null  float64\n",
      "dtypes: bool(3), float64(14), int64(3), object(2)\n",
      "memory usage: 3.7+ MB\n"
     ]
    }
   ],
   "source": [
    "df.info()"
   ]
  },
  {
   "cell_type": "markdown",
   "metadata": {},
   "source": [
    "Тип данных в столбце `first_day_exposition` следует изменить на дату-время.\n",
    "А тип данных в столбцах `floors_total`, `balcony`, `parks_around3000` и `ponds_around3000` - на целочисленный.\n",
    "\n",
    "Это важно сделать для того, чтобы в дальнейшем производить корректные расчеты, а также убедиться, что в ячейках находится требуемый тип данных."
   ]
  },
  {
   "cell_type": "code",
   "execution_count": 22,
   "metadata": {},
   "outputs": [],
   "source": [
    "df['first_day_exposition'] = pd.to_datetime(df['first_day_exposition'], format='%Y-%m-%dT%H:%M:%S')\n",
    "#изменение типа данных на дата-время"
   ]
  },
  {
   "cell_type": "markdown",
   "metadata": {},
   "source": [
    "Заменим тип данных в столбцах `floors_total`, `balcony`, `parks_around3000` и `ponds_around3000` на целочисленный."
   ]
  },
  {
   "cell_type": "code",
   "execution_count": 23,
   "metadata": {},
   "outputs": [],
   "source": [
    "df['floors_total'] = df['floors_total'].astype('int')\n",
    "df['balcony'] = df['balcony'].astype('int')\n",
    "df['parks_around3000'] = df['parks_around3000'].astype('int')\n",
    "df['ponds_around3000'] = df['ponds_around3000'].astype('int')"
   ]
  },
  {
   "cell_type": "code",
   "execution_count": 24,
   "metadata": {},
   "outputs": [
    {
     "name": "stdout",
     "output_type": "stream",
     "text": [
      "<class 'pandas.core.frame.DataFrame'>\n",
      "Int64Index: 23565 entries, 0 to 23698\n",
      "Data columns (total 22 columns):\n",
      " #   Column                Non-Null Count  Dtype         \n",
      "---  ------                --------------  -----         \n",
      " 0   total_images          23565 non-null  int64         \n",
      " 1   last_price            23565 non-null  float64       \n",
      " 2   total_area            23565 non-null  float64       \n",
      " 3   first_day_exposition  23565 non-null  datetime64[ns]\n",
      " 4   rooms                 23565 non-null  int64         \n",
      " 5   ceiling_height        23565 non-null  float64       \n",
      " 6   floors_total          23565 non-null  int64         \n",
      " 7   living_area           21700 non-null  float64       \n",
      " 8   floor                 23565 non-null  int64         \n",
      " 9   is_apartment          23565 non-null  bool          \n",
      " 10  studio                23565 non-null  bool          \n",
      " 11  open_plan             23565 non-null  bool          \n",
      " 12  kitchen_area          21343 non-null  float64       \n",
      " 13  balcony               23565 non-null  int64         \n",
      " 14  locality_name         23565 non-null  object        \n",
      " 15  airports_nearest      18041 non-null  float64       \n",
      " 16  cityCenters_nearest   18064 non-null  float64       \n",
      " 17  parks_around3000      23565 non-null  int64         \n",
      " 18  parks_nearest         8030 non-null   float64       \n",
      " 19  ponds_around3000      23565 non-null  int64         \n",
      " 20  ponds_nearest         9036 non-null   float64       \n",
      " 21  days_exposition       20394 non-null  float64       \n",
      "dtypes: bool(3), datetime64[ns](1), float64(10), int64(7), object(1)\n",
      "memory usage: 3.7+ MB\n"
     ]
    }
   ],
   "source": [
    "df.info()"
   ]
  },
  {
   "cell_type": "markdown",
   "metadata": {},
   "source": [
    "**2.3 Найдем дубликаты и удалим их**"
   ]
  },
  {
   "cell_type": "code",
   "execution_count": 25,
   "metadata": {},
   "outputs": [
    {
     "data": {
      "text/plain": [
       "0"
      ]
     },
     "execution_count": 25,
     "metadata": {},
     "output_type": "execute_result"
    }
   ],
   "source": [
    "df.duplicated().sum()\n",
    "# поиск явных дубликатов"
   ]
  },
  {
   "cell_type": "code",
   "execution_count": 26,
   "metadata": {},
   "outputs": [
    {
     "data": {
      "text/plain": [
       "array(['Бокситогорск', 'Волосово', 'Волхов', 'Всеволожск', 'Выборг',\n",
       "       'Высоцк', 'Гатчина', 'Зеленогорск', 'Ивангород', 'Каменногорск',\n",
       "       'Кингисепп', 'Кириши', 'Кировск', 'Колпино', 'Коммунар',\n",
       "       'Красное Село', 'Кронштадт', 'Кудрово', 'Лодейное Поле',\n",
       "       'Ломоносов', 'Луга', 'Любань', 'Мурино', 'Никольское',\n",
       "       'Новая Ладога', 'Отрадное', 'Павловск', 'Петергоф', 'Пикалёво',\n",
       "       'Подпорожье', 'Приморск', 'Приозерск', 'Пушкин', 'Санкт-Петербург',\n",
       "       'Светогорск', 'Сертолово', 'Сестрорецк', 'Сланцы', 'Сосновый Бор',\n",
       "       'Сясьстрой', 'Тихвин', 'Тосно', 'Шлиссельбург',\n",
       "       'городской поселок Большая Ижора', 'городской поселок Янино-1',\n",
       "       'городской посёлок Будогощь', 'городской посёлок Виллози',\n",
       "       'городской посёлок Лесогорский', 'городской посёлок Мга',\n",
       "       'городской посёлок Назия', 'городской посёлок Новоселье',\n",
       "       'городской посёлок Павлово', 'городской посёлок Рощино',\n",
       "       'городской посёлок Свирьстрой', 'городской посёлок Советский',\n",
       "       'городской посёлок Фёдоровское', 'городской посёлок Янино-1',\n",
       "       'деревня Агалатово', 'деревня Аро', 'деревня Батово',\n",
       "       'деревня Бегуницы', 'деревня Белогорка', 'деревня Большая Вруда',\n",
       "       'деревня Большая Пустомержа', 'деревня Большие Колпаны',\n",
       "       'деревня Большое Рейзино', 'деревня Большой Сабск', 'деревня Бор',\n",
       "       'деревня Борисова Грива', 'деревня Ваганово', 'деревня Вартемяги',\n",
       "       'деревня Вахнова Кара', 'деревня Выскатка', 'деревня Гарболово',\n",
       "       'деревня Глинка', 'деревня Горбунки', 'деревня Гостилицы',\n",
       "       'деревня Заклинье', 'деревня Заневка', 'деревня Зимитицы',\n",
       "       'деревня Извара', 'деревня Иссад', 'деревня Калитино',\n",
       "       'деревня Кальтино', 'деревня Камышовка', 'деревня Каськово',\n",
       "       'деревня Келози', 'деревня Кипень', 'деревня Кисельня',\n",
       "       'деревня Колтуши', 'деревня Коркино', 'деревня Котлы',\n",
       "       'деревня Кривко', 'деревня Кудрово', 'деревня Кузьмолово',\n",
       "       'деревня Курковицы', 'деревня Куровицы', 'деревня Куттузи',\n",
       "       'деревня Лаврики', 'деревня Лаголово', 'деревня Лампово',\n",
       "       'деревня Лесколово', 'деревня Лопухинка', 'деревня Лупполово',\n",
       "       'деревня Малая Романовка', 'деревня Малое Верево',\n",
       "       'деревня Малое Карлино', 'деревня Малые Колпаны',\n",
       "       'деревня Мануйлово', 'деревня Меньково', 'деревня Мины',\n",
       "       'деревня Мистолово', 'деревня Ненимяки', 'деревня Нижние Осельки',\n",
       "       'деревня Нижняя', 'деревня Низино', 'деревня Новое Девяткино',\n",
       "       'деревня Новолисино', 'деревня Нурма', 'деревня Оржицы',\n",
       "       'деревня Парицы', 'деревня Пельгора', 'деревня Пеники',\n",
       "       'деревня Пижма', 'деревня Пикколово', 'деревня Пудомяги',\n",
       "       'деревня Пустынка', 'деревня Пчева', 'деревня Рабитицы',\n",
       "       'деревня Разбегаево', 'деревня Раздолье', 'деревня Разметелево',\n",
       "       'деревня Рапполово', 'деревня Реброво', 'деревня Русско',\n",
       "       'деревня Сижно', 'деревня Снегирёвка', 'деревня Старая',\n",
       "       'деревня Старая Пустошь', 'деревня Старое Хинколово',\n",
       "       'деревня Старополье', 'деревня Старосиверская',\n",
       "       'деревня Старые Бегуницы', 'деревня Суоранда',\n",
       "       'деревня Сяськелево', 'деревня Тарасово', 'деревня Терпилицы',\n",
       "       'деревня Тихковицы', 'деревня Тойворово', 'деревня Торосово',\n",
       "       'деревня Торошковичи', 'деревня Трубников Бор',\n",
       "       'деревня Фалилеево', 'деревня Фёдоровское', 'деревня Хапо-Ое',\n",
       "       'деревня Хязельки', 'деревня Чудской Бор', 'деревня Шпаньково',\n",
       "       'деревня Щеглово', 'деревня Юкки', 'деревня Ялгино',\n",
       "       'деревня Яльгелево', 'деревня Ям-Тесово',\n",
       "       'коттеджный поселок Кивеннапа Север', 'коттеджный поселок Счастье',\n",
       "       'коттеджный посёлок Лесное', 'поселок Аннино', 'поселок Барышево',\n",
       "       'поселок Бугры', 'поселок Возрождение', 'поселок Войсковицы',\n",
       "       'поселок Володарское', 'поселок Гаврилово', 'поселок Гарболово',\n",
       "       'поселок Гладкое', 'поселок Глажево', 'поселок Глебычево',\n",
       "       'поселок Гончарово', 'поселок Громово', 'поселок Дружноселье',\n",
       "       'поселок Елизаветино', 'поселок Жилгородок', 'поселок Жилпосёлок',\n",
       "       'поселок Житково', 'поселок Заводской', 'поселок Запорожское',\n",
       "       'поселок Зимитицы', 'поселок Ильичёво', 'поселок Калитино',\n",
       "       'поселок Каложицы', 'поселок Кингисеппский', 'поселок Кирпичное',\n",
       "       'поселок Кобралово', 'поселок Кобринское', 'поселок Коммунары',\n",
       "       'поселок Коробицыно', 'поселок Котельский',\n",
       "       'поселок Красная Долина', 'поселок Красносельское',\n",
       "       'поселок Лесное', 'поселок Лисий Нос', 'поселок Лукаши',\n",
       "       'поселок Любань', 'поселок Мельниково', 'поселок Мичуринское',\n",
       "       'поселок Молодцово', 'поселок Мурино', 'поселок Новый Свет',\n",
       "       'поселок Новый Учхоз', 'поселок Оредеж',\n",
       "       'поселок Пансионат Зелёный Бор', 'поселок Первомайское',\n",
       "       'поселок Перово', 'поселок Петровское', 'поселок Победа',\n",
       "       'поселок Поляны', 'поселок Почап', 'поселок Починок',\n",
       "       'поселок Пушное', 'поселок Пчевжа', 'поселок Рабитицы',\n",
       "       'поселок Романовка', 'поселок Ромашки', 'поселок Рябово',\n",
       "       'поселок Севастьяново', 'поселок Селезнёво', 'поселок Сельцо',\n",
       "       'поселок Семиозерье', 'поселок Семрино', 'поселок Серебрянский',\n",
       "       'поселок Совхозный', 'поселок Старая Малукса',\n",
       "       'поселок Стеклянный', 'поселок Сумино', 'поселок Суходолье',\n",
       "       'поселок Тельмана', 'поселок Терволово', 'поселок Торковичи',\n",
       "       'поселок Тёсово-4', 'поселок Углово', 'поселок Усть-Луга',\n",
       "       'поселок Ушаки', 'поселок Цвелодубово', 'поселок Цвылёво',\n",
       "       'поселок городского типа Большая Ижора',\n",
       "       'поселок городского типа Вырица',\n",
       "       'поселок городского типа Дружная Горка',\n",
       "       'поселок городского типа Дубровка',\n",
       "       'поселок городского типа Ефимовский',\n",
       "       'поселок городского типа Кондратьево',\n",
       "       'поселок городского типа Красный Бор',\n",
       "       'поселок городского типа Кузьмоловский',\n",
       "       'поселок городского типа Лебяжье',\n",
       "       'поселок городского типа Лесогорский',\n",
       "       'поселок городского типа Назия',\n",
       "       'поселок городского типа Никольский',\n",
       "       'поселок городского типа Приладожский',\n",
       "       'поселок городского типа Рахья', 'поселок городского типа Рощино',\n",
       "       'поселок городского типа Рябово',\n",
       "       'поселок городского типа Синявино',\n",
       "       'поселок городского типа Советский',\n",
       "       'поселок городского типа Токсово',\n",
       "       'поселок городского типа Форносово',\n",
       "       'поселок городского типа имени Свердлова',\n",
       "       'поселок станции Вещево', 'поселок станции Корнево',\n",
       "       'поселок станции Лужайка', 'поселок станции Приветнинское',\n",
       "       'посёлок Александровская', 'посёлок Алексеевка', 'посёлок Аннино',\n",
       "       'посёлок Белоостров', 'посёлок Бугры', 'посёлок Возрождение',\n",
       "       'посёлок Войскорово', 'посёлок Высокоключевой',\n",
       "       'посёлок Гаврилово', 'посёлок Дзержинского', 'посёлок Жилгородок',\n",
       "       'посёлок Ильичёво', 'посёлок Кикерино', 'посёлок Кобралово',\n",
       "       'посёлок Коробицыно', 'посёлок Левашово', 'посёлок Ленинское',\n",
       "       'посёлок Лисий Нос', 'посёлок Мельниково', 'посёлок Металлострой',\n",
       "       'посёлок Мичуринское', 'посёлок Молодёжное', 'посёлок Мурино',\n",
       "       'посёлок Мыза-Ивановка', 'посёлок Новогорелово',\n",
       "       'посёлок Новый Свет', 'посёлок Пансионат Зелёный Бор',\n",
       "       'посёлок Парголово', 'посёлок Перово', 'посёлок Песочный',\n",
       "       'посёлок Петро-Славянка', 'посёлок Петровское',\n",
       "       'посёлок Платформа 69-й километр', 'посёлок Плодовое',\n",
       "       'посёлок Плоское', 'посёлок Победа', 'посёлок Поляны',\n",
       "       'посёлок Понтонный', 'посёлок Пригородный', 'посёлок Пудость',\n",
       "       'посёлок Репино', 'посёлок Ропша', 'посёлок Сапёрное',\n",
       "       'посёлок Сапёрный', 'посёлок Сосново', 'посёлок Старая Малукса',\n",
       "       'посёлок Стеклянный', 'посёлок Стрельна', 'посёлок Суйда',\n",
       "       'посёлок Сумино', 'посёлок Тельмана', 'посёлок Терволово',\n",
       "       'посёлок Торфяное', 'посёлок Усть-Ижора', 'посёлок Усть-Луга',\n",
       "       'посёлок Форт Красная Горка', 'посёлок Шугозеро', 'посёлок Шушары',\n",
       "       'посёлок Щеглово', 'посёлок городского типа Важины',\n",
       "       'посёлок городского типа Вознесенье',\n",
       "       'посёлок городского типа Вырица',\n",
       "       'посёлок городского типа Красный Бор',\n",
       "       'посёлок городского типа Кузнечное',\n",
       "       'посёлок городского типа Кузьмоловский',\n",
       "       'посёлок городского типа Лебяжье', 'посёлок городского типа Мга',\n",
       "       'посёлок городского типа Павлово',\n",
       "       'посёлок городского типа Рощино', 'посёлок городского типа Рябово',\n",
       "       'посёлок городского типа Сиверский',\n",
       "       'посёлок городского типа Тайцы', 'посёлок городского типа Токсово',\n",
       "       'посёлок городского типа Ульяновка',\n",
       "       'посёлок городского типа Форносово',\n",
       "       'посёлок городского типа имени Морозова',\n",
       "       'посёлок городского типа имени Свердлова',\n",
       "       'посёлок при железнодорожной станции Вещево',\n",
       "       'посёлок при железнодорожной станции Приветнинское',\n",
       "       'посёлок станции Громово', 'посёлок станции Свирь',\n",
       "       'садоводческое некоммерческое товарищество Лесная Поляна',\n",
       "       'садовое товарищество Новая Ропша',\n",
       "       'садовое товарищество Приладожский', 'садовое товарищество Рахья',\n",
       "       'садовое товарищество Садко', 'село Копорье', 'село Никольское',\n",
       "       'село Павлово', 'село Паша', 'село Путилово', 'село Рождествено',\n",
       "       'село Русско-Высоцкое', 'село Старая Ладога', 'село Шум'],\n",
       "      dtype=object)"
      ]
     },
     "execution_count": 26,
     "metadata": {},
     "output_type": "execute_result"
    }
   ],
   "source": [
    "df['locality_name'].sort_values().unique()\n",
    "#выведем на экран уникальные значения локаций"
   ]
  },
  {
   "cell_type": "markdown",
   "metadata": {},
   "source": [
    "Есть неявные дубликаты: \"поселок\" и \"посёлок\", \"поселок городского типа\" и \"поселок\". Их необходимо обработать."
   ]
  },
  {
   "cell_type": "code",
   "execution_count": 27,
   "metadata": {},
   "outputs": [],
   "source": [
    "df['locality_name'] = df['locality_name'].str.replace('поселок', 'посёлок')\n",
    "df['locality_name'] = df['locality_name'].str.replace('посёлок городского типа', 'посёлок')\n",
    "#обработаем дубликаты в столбце с локациями"
   ]
  },
  {
   "cell_type": "code",
   "execution_count": 28,
   "metadata": {},
   "outputs": [
    {
     "data": {
      "text/plain": [
       "array(['Санкт-Петербург', 'посёлок Шушары', 'городской посёлок Янино-1',\n",
       "       'посёлок Парголово', 'посёлок Мурино', 'Ломоносов', 'Сертолово',\n",
       "       'Петергоф', 'Пушкин', 'деревня Кудрово', 'Коммунар', 'Колпино',\n",
       "       'посёлок Красный Бор', 'Гатчина', 'деревня Фёдоровское', 'Выборг',\n",
       "       'Кронштадт', 'Кировск', 'деревня Новое Девяткино',\n",
       "       'посёлок Металлострой', 'посёлок Лебяжье', 'посёлок Сиверский',\n",
       "       'посёлок Молодцово', 'посёлок Кузьмоловский',\n",
       "       'садовое товарищество Новая Ропша', 'Павловск',\n",
       "       'деревня Пикколово', 'Всеволожск', 'Волхов', 'Кингисепп',\n",
       "       'Приозерск', 'Сестрорецк', 'деревня Куттузи', 'посёлок Аннино',\n",
       "       'посёлок Ефимовский', 'посёлок Плодовое', 'деревня Заклинье',\n",
       "       'посёлок Торковичи', 'посёлок Первомайское', 'Красное Село',\n",
       "       'посёлок Понтонный', 'Сясьстрой', 'деревня Старая',\n",
       "       'деревня Лесколово', 'посёлок Новый Свет', 'Сланцы',\n",
       "       'село Путилово', 'Ивангород', 'Мурино', 'Шлиссельбург',\n",
       "       'Никольское', 'Зеленогорск', 'Сосновый Бор', 'деревня Оржицы',\n",
       "       'деревня Кальтино', 'Кудрово', 'посёлок Романовка',\n",
       "       'посёлок Бугры', 'посёлок Рощино', 'Кириши', 'Луга', 'Волосово',\n",
       "       'Отрадное', 'село Павлово', 'посёлок Оредеж', 'село Копорье',\n",
       "       'посёлок Молодёжное', 'Тихвин', 'посёлок Победа', 'деревня Нурма',\n",
       "       'посёлок Синявино', 'Тосно', 'посёлок Стрельна', 'Бокситогорск',\n",
       "       'посёлок Александровская', 'деревня Лопухинка', 'Пикалёво',\n",
       "       'посёлок Терволово', 'посёлок Советский', 'Подпорожье',\n",
       "       'посёлок Петровское', 'посёлок Токсово', 'посёлок Сельцо',\n",
       "       'посёлок Вырица', 'деревня Кипень', 'деревня Келози',\n",
       "       'деревня Вартемяги', 'посёлок Тельмана', 'посёлок Севастьяново',\n",
       "       'городской посёлок Большая Ижора', 'городской посёлок Павлово',\n",
       "       'деревня Агалатово', 'посёлок Новогорелово',\n",
       "       'городской посёлок Лесогорский', 'деревня Лаголово',\n",
       "       'посёлок Цвелодубово', 'посёлок Рахья', 'деревня Белогорка',\n",
       "       'посёлок Заводской', 'городской посёлок Новоселье',\n",
       "       'деревня Большие Колпаны', 'деревня Горбунки', 'деревня Батово',\n",
       "       'деревня Заневка', 'деревня Иссад', 'Приморск',\n",
       "       'городской посёлок Фёдоровское', 'деревня Мистолово',\n",
       "       'Новая Ладога', 'посёлок Зимитицы', 'посёлок Барышево',\n",
       "       'деревня Разметелево', 'посёлок имени Свердлова', 'деревня Пеники',\n",
       "       'посёлок Рябово', 'деревня Пудомяги', 'посёлок станции Корнево',\n",
       "       'деревня Низино', 'деревня Бегуницы', 'посёлок Поляны',\n",
       "       'городской посёлок Мга', 'посёлок Елизаветино',\n",
       "       'посёлок Кузнечное', 'деревня Колтуши', 'посёлок Запорожское',\n",
       "       'деревня Гостилицы', 'деревня Малое Карлино',\n",
       "       'посёлок Мичуринское', 'посёлок имени Морозова',\n",
       "       'посёлок Песочный', 'посёлок Сосново', 'деревня Аро',\n",
       "       'посёлок Ильичёво', 'посёлок Тайцы', 'деревня Малое Верево',\n",
       "       'деревня Извара', 'посёлок станции Вещево', 'село Паша',\n",
       "       'деревня Калитино', 'посёлок Ульяновка', 'деревня Чудской Бор',\n",
       "       'посёлок Дубровка', 'деревня Мины', 'посёлок Войсковицы',\n",
       "       'деревня Коркино', 'посёлок Ропша', 'посёлок Приладожский',\n",
       "       'посёлок Щеглово', 'посёлок Гаврилово', 'Лодейное Поле',\n",
       "       'деревня Рабитицы', 'посёлок Никольский', 'деревня Кузьмолово',\n",
       "       'деревня Малые Колпаны', 'посёлок Петро-Славянка',\n",
       "       'городской посёлок Назия', 'посёлок Репино', 'посёлок Углово',\n",
       "       'посёлок Старая Малукса', 'садовое товарищество Рахья',\n",
       "       'деревня Меньково', 'деревня Старые Бегуницы', 'посёлок Сапёрный',\n",
       "       'посёлок Семрино', 'посёлок Глажево', 'посёлок Кобринское',\n",
       "       'деревня Гарболово', 'деревня Юкки',\n",
       "       'посёлок станции Приветнинское', 'деревня Мануйлово',\n",
       "       'деревня Пчева', 'посёлок Цвылёво', 'посёлок Мельниково',\n",
       "       'посёлок Пудость', 'посёлок Усть-Луга', 'Светогорск', 'Любань',\n",
       "       'посёлок Селезнёво', 'Каменногорск', 'деревня Кривко',\n",
       "       'посёлок Глебычево', 'деревня Парицы', 'посёлок Жилпосёлок',\n",
       "       'посёлок Мга', 'посёлок Войскорово', 'село Никольское',\n",
       "       'посёлок Стеклянный', 'посёлок Важины', 'посёлок Мыза-Ивановка',\n",
       "       'село Русско-Высоцкое', 'посёлок Форносово', 'село Старая Ладога',\n",
       "       'посёлок Житково', 'городской посёлок Виллози', 'деревня Лампово',\n",
       "       'деревня Шпаньково', 'деревня Лаврики', 'посёлок Сумино',\n",
       "       'посёлок Возрождение', 'деревня Старосиверская',\n",
       "       'посёлок Кикерино', 'деревня Старое Хинколово',\n",
       "       'посёлок Пригородный', 'посёлок Торфяное',\n",
       "       'городской посёлок Будогощь', 'посёлок Суходолье',\n",
       "       'посёлок Красная Долина', 'деревня Хапо-Ое',\n",
       "       'посёлок Дружная Горка', 'посёлок Лисий Нос', 'деревня Яльгелево',\n",
       "       'село Рождествено', 'деревня Старополье', 'посёлок Левашово',\n",
       "       'деревня Сяськелево', 'деревня Камышовка',\n",
       "       'садоводческое некоммерческое товарищество Лесная Поляна',\n",
       "       'деревня Хязельки', 'посёлок Жилгородок', 'посёлок Павлово',\n",
       "       'деревня Ялгино', 'посёлок Новый Учхоз',\n",
       "       'городской посёлок Рощино', 'посёлок Гончарово', 'посёлок Почап',\n",
       "       'посёлок Сапёрное', 'посёлок Платформа 69-й километр',\n",
       "       'посёлок Каложицы', 'деревня Фалилеево', 'деревня Пельгора',\n",
       "       'посёлок Лесогорский', 'деревня Торошковичи', 'посёлок Белоостров',\n",
       "       'посёлок Алексеевка', 'посёлок Серебрянский', 'посёлок Лукаши',\n",
       "       'деревня Щеглово', 'деревня Тарасово', 'посёлок Кингисеппский',\n",
       "       'посёлок при железнодорожной станции Вещево', 'посёлок Ушаки',\n",
       "       'деревня Котлы', 'деревня Сижно', 'деревня Торосово',\n",
       "       'посёлок Форт Красная Горка', 'деревня Новолисино',\n",
       "       'посёлок станции Громово', 'деревня Глинка', 'посёлок Назия',\n",
       "       'деревня Старая Пустошь', 'посёлок Коммунары', 'посёлок Починок',\n",
       "       'посёлок Вознесенье', 'деревня Разбегаево', 'посёлок Гладкое',\n",
       "       'посёлок при железнодорожной станции Приветнинское',\n",
       "       'посёлок Тёсово-4', 'деревня Бор', 'посёлок Коробицыно',\n",
       "       'деревня Большая Вруда', 'деревня Курковицы',\n",
       "       'городской посёлок Советский', 'посёлок Кобралово',\n",
       "       'деревня Суоранда', 'посёлок Кондратьево',\n",
       "       'коттеджный посёлок Счастье', 'посёлок Любань', 'деревня Реброво',\n",
       "       'деревня Зимитицы', 'деревня Тойворово', 'посёлок Семиозерье',\n",
       "       'посёлок Лесное', 'посёлок Совхозный', 'посёлок Ленинское',\n",
       "       'посёлок Суйда', 'деревня Нижние Осельки', 'посёлок станции Свирь',\n",
       "       'посёлок Перово', 'Высоцк', 'посёлок Гарболово', 'село Шум',\n",
       "       'посёлок Котельский', 'посёлок станции Лужайка',\n",
       "       'деревня Большая Пустомержа', 'посёлок Красносельское',\n",
       "       'деревня Вахнова Кара', 'деревня Пижма',\n",
       "       'коттеджный посёлок Кивеннапа Север', 'посёлок Ромашки',\n",
       "       'деревня Каськово', 'деревня Куровицы', 'посёлок Плоское',\n",
       "       'посёлок Большая Ижора', 'посёлок Кирпичное', 'деревня Ям-Тесово',\n",
       "       'деревня Раздолье', 'деревня Терпилицы', 'посёлок Шугозеро',\n",
       "       'деревня Ваганово', 'посёлок Пушное', 'садовое товарищество Садко',\n",
       "       'посёлок Усть-Ижора', 'деревня Выскатка',\n",
       "       'городской посёлок Свирьстрой', 'посёлок Громово',\n",
       "       'деревня Кисельня', 'деревня Трубников Бор', 'посёлок Калитино',\n",
       "       'посёлок Высокоключевой', 'садовое товарищество Приладожский',\n",
       "       'посёлок Пансионат Зелёный Бор', 'деревня Ненимяки',\n",
       "       'деревня Снегирёвка', 'деревня Рапполово', 'деревня Пустынка',\n",
       "       'посёлок Рабитицы', 'деревня Большой Сабск', 'деревня Русско',\n",
       "       'деревня Лупполово', 'деревня Большое Рейзино',\n",
       "       'деревня Малая Романовка', 'посёлок Дружноселье', 'посёлок Пчевжа',\n",
       "       'посёлок Володарское', 'деревня Нижняя',\n",
       "       'коттеджный посёлок Лесное', 'деревня Тихковицы',\n",
       "       'деревня Борисова Грива', 'посёлок Дзержинского'], dtype=object)"
      ]
     },
     "execution_count": 28,
     "metadata": {},
     "output_type": "execute_result"
    }
   ],
   "source": [
    "df['locality_name'].unique()\n",
    "#проверим, что изменения внесены"
   ]
  },
  {
   "cell_type": "markdown",
   "metadata": {},
   "source": [
    "**2.4 Найдем и устраним редкие и выбивающиеся значения.**"
   ]
  },
  {
   "cell_type": "code",
   "execution_count": 29,
   "metadata": {},
   "outputs": [
    {
     "data": {
      "text/html": [
       "<div>\n",
       "<style scoped>\n",
       "    .dataframe tbody tr th:only-of-type {\n",
       "        vertical-align: middle;\n",
       "    }\n",
       "\n",
       "    .dataframe tbody tr th {\n",
       "        vertical-align: top;\n",
       "    }\n",
       "\n",
       "    .dataframe thead th {\n",
       "        text-align: right;\n",
       "    }\n",
       "</style>\n",
       "<table border=\"1\" class=\"dataframe\">\n",
       "  <thead>\n",
       "    <tr style=\"text-align: right;\">\n",
       "      <th></th>\n",
       "      <th>total_images</th>\n",
       "      <th>last_price</th>\n",
       "      <th>total_area</th>\n",
       "      <th>rooms</th>\n",
       "      <th>ceiling_height</th>\n",
       "      <th>floors_total</th>\n",
       "      <th>living_area</th>\n",
       "      <th>floor</th>\n",
       "      <th>kitchen_area</th>\n",
       "      <th>balcony</th>\n",
       "      <th>airports_nearest</th>\n",
       "      <th>cityCenters_nearest</th>\n",
       "      <th>parks_around3000</th>\n",
       "      <th>parks_nearest</th>\n",
       "      <th>ponds_around3000</th>\n",
       "      <th>ponds_nearest</th>\n",
       "      <th>days_exposition</th>\n",
       "    </tr>\n",
       "  </thead>\n",
       "  <tbody>\n",
       "    <tr>\n",
       "      <th>count</th>\n",
       "      <td>23565.000000</td>\n",
       "      <td>2.356500e+04</td>\n",
       "      <td>23565.000000</td>\n",
       "      <td>23565.000000</td>\n",
       "      <td>23565.000000</td>\n",
       "      <td>23565.000000</td>\n",
       "      <td>21700.000000</td>\n",
       "      <td>23565.000000</td>\n",
       "      <td>21343.000000</td>\n",
       "      <td>23565.000000</td>\n",
       "      <td>18041.000000</td>\n",
       "      <td>18064.000000</td>\n",
       "      <td>23565.000000</td>\n",
       "      <td>8030.000000</td>\n",
       "      <td>23565.000000</td>\n",
       "      <td>9036.000000</td>\n",
       "      <td>20394.000000</td>\n",
       "    </tr>\n",
       "    <tr>\n",
       "      <th>mean</th>\n",
       "      <td>9.878421</td>\n",
       "      <td>6.540058e+06</td>\n",
       "      <td>60.322824</td>\n",
       "      <td>2.070656</td>\n",
       "      <td>2.724530</td>\n",
       "      <td>10.675875</td>\n",
       "      <td>34.454822</td>\n",
       "      <td>5.878124</td>\n",
       "      <td>10.560994</td>\n",
       "      <td>0.593677</td>\n",
       "      <td>28797.082701</td>\n",
       "      <td>14192.656056</td>\n",
       "      <td>0.468831</td>\n",
       "      <td>490.580448</td>\n",
       "      <td>0.589900</td>\n",
       "      <td>518.289509</td>\n",
       "      <td>180.741395</td>\n",
       "    </tr>\n",
       "    <tr>\n",
       "      <th>std</th>\n",
       "      <td>5.681156</td>\n",
       "      <td>1.091093e+07</td>\n",
       "      <td>35.657060</td>\n",
       "      <td>1.078591</td>\n",
       "      <td>0.991026</td>\n",
       "      <td>6.594823</td>\n",
       "      <td>22.045359</td>\n",
       "      <td>4.871485</td>\n",
       "      <td>5.900630</td>\n",
       "      <td>0.960660</td>\n",
       "      <td>12632.499735</td>\n",
       "      <td>8613.348153</td>\n",
       "      <td>0.748403</td>\n",
       "      <td>341.572956</td>\n",
       "      <td>0.883966</td>\n",
       "      <td>278.009558</td>\n",
       "      <td>219.732782</td>\n",
       "    </tr>\n",
       "    <tr>\n",
       "      <th>min</th>\n",
       "      <td>0.000000</td>\n",
       "      <td>1.219000e+04</td>\n",
       "      <td>12.000000</td>\n",
       "      <td>0.000000</td>\n",
       "      <td>1.000000</td>\n",
       "      <td>1.000000</td>\n",
       "      <td>2.000000</td>\n",
       "      <td>1.000000</td>\n",
       "      <td>1.300000</td>\n",
       "      <td>0.000000</td>\n",
       "      <td>0.000000</td>\n",
       "      <td>181.000000</td>\n",
       "      <td>0.000000</td>\n",
       "      <td>1.000000</td>\n",
       "      <td>0.000000</td>\n",
       "      <td>13.000000</td>\n",
       "      <td>1.000000</td>\n",
       "    </tr>\n",
       "    <tr>\n",
       "      <th>25%</th>\n",
       "      <td>6.000000</td>\n",
       "      <td>3.400000e+06</td>\n",
       "      <td>40.000000</td>\n",
       "      <td>1.000000</td>\n",
       "      <td>2.600000</td>\n",
       "      <td>5.000000</td>\n",
       "      <td>18.600000</td>\n",
       "      <td>2.000000</td>\n",
       "      <td>7.000000</td>\n",
       "      <td>0.000000</td>\n",
       "      <td>18565.000000</td>\n",
       "      <td>9238.000000</td>\n",
       "      <td>0.000000</td>\n",
       "      <td>288.000000</td>\n",
       "      <td>0.000000</td>\n",
       "      <td>293.000000</td>\n",
       "      <td>45.000000</td>\n",
       "    </tr>\n",
       "    <tr>\n",
       "      <th>50%</th>\n",
       "      <td>9.000000</td>\n",
       "      <td>4.646000e+06</td>\n",
       "      <td>52.000000</td>\n",
       "      <td>2.000000</td>\n",
       "      <td>2.650000</td>\n",
       "      <td>9.000000</td>\n",
       "      <td>30.000000</td>\n",
       "      <td>4.000000</td>\n",
       "      <td>9.100000</td>\n",
       "      <td>0.000000</td>\n",
       "      <td>26757.000000</td>\n",
       "      <td>13096.500000</td>\n",
       "      <td>0.000000</td>\n",
       "      <td>455.000000</td>\n",
       "      <td>0.000000</td>\n",
       "      <td>503.000000</td>\n",
       "      <td>95.000000</td>\n",
       "    </tr>\n",
       "    <tr>\n",
       "      <th>75%</th>\n",
       "      <td>14.000000</td>\n",
       "      <td>6.790000e+06</td>\n",
       "      <td>69.700000</td>\n",
       "      <td>3.000000</td>\n",
       "      <td>2.700000</td>\n",
       "      <td>16.000000</td>\n",
       "      <td>42.300000</td>\n",
       "      <td>8.000000</td>\n",
       "      <td>12.000000</td>\n",
       "      <td>1.000000</td>\n",
       "      <td>37273.000000</td>\n",
       "      <td>16285.000000</td>\n",
       "      <td>1.000000</td>\n",
       "      <td>612.000000</td>\n",
       "      <td>1.000000</td>\n",
       "      <td>730.000000</td>\n",
       "      <td>231.000000</td>\n",
       "    </tr>\n",
       "    <tr>\n",
       "      <th>max</th>\n",
       "      <td>50.000000</td>\n",
       "      <td>7.630000e+08</td>\n",
       "      <td>900.000000</td>\n",
       "      <td>19.000000</td>\n",
       "      <td>100.000000</td>\n",
       "      <td>60.000000</td>\n",
       "      <td>409.700000</td>\n",
       "      <td>33.000000</td>\n",
       "      <td>112.000000</td>\n",
       "      <td>5.000000</td>\n",
       "      <td>84869.000000</td>\n",
       "      <td>65968.000000</td>\n",
       "      <td>3.000000</td>\n",
       "      <td>3190.000000</td>\n",
       "      <td>3.000000</td>\n",
       "      <td>1344.000000</td>\n",
       "      <td>1580.000000</td>\n",
       "    </tr>\n",
       "  </tbody>\n",
       "</table>\n",
       "</div>"
      ],
      "text/plain": [
       "       total_images    last_price    total_area         rooms  ceiling_height  \\\n",
       "count  23565.000000  2.356500e+04  23565.000000  23565.000000    23565.000000   \n",
       "mean       9.878421  6.540058e+06     60.322824      2.070656        2.724530   \n",
       "std        5.681156  1.091093e+07     35.657060      1.078591        0.991026   \n",
       "min        0.000000  1.219000e+04     12.000000      0.000000        1.000000   \n",
       "25%        6.000000  3.400000e+06     40.000000      1.000000        2.600000   \n",
       "50%        9.000000  4.646000e+06     52.000000      2.000000        2.650000   \n",
       "75%       14.000000  6.790000e+06     69.700000      3.000000        2.700000   \n",
       "max       50.000000  7.630000e+08    900.000000     19.000000      100.000000   \n",
       "\n",
       "       floors_total   living_area         floor  kitchen_area       balcony  \\\n",
       "count  23565.000000  21700.000000  23565.000000  21343.000000  23565.000000   \n",
       "mean      10.675875     34.454822      5.878124     10.560994      0.593677   \n",
       "std        6.594823     22.045359      4.871485      5.900630      0.960660   \n",
       "min        1.000000      2.000000      1.000000      1.300000      0.000000   \n",
       "25%        5.000000     18.600000      2.000000      7.000000      0.000000   \n",
       "50%        9.000000     30.000000      4.000000      9.100000      0.000000   \n",
       "75%       16.000000     42.300000      8.000000     12.000000      1.000000   \n",
       "max       60.000000    409.700000     33.000000    112.000000      5.000000   \n",
       "\n",
       "       airports_nearest  cityCenters_nearest  parks_around3000  parks_nearest  \\\n",
       "count      18041.000000         18064.000000      23565.000000    8030.000000   \n",
       "mean       28797.082701         14192.656056          0.468831     490.580448   \n",
       "std        12632.499735          8613.348153          0.748403     341.572956   \n",
       "min            0.000000           181.000000          0.000000       1.000000   \n",
       "25%        18565.000000          9238.000000          0.000000     288.000000   \n",
       "50%        26757.000000         13096.500000          0.000000     455.000000   \n",
       "75%        37273.000000         16285.000000          1.000000     612.000000   \n",
       "max        84869.000000         65968.000000          3.000000    3190.000000   \n",
       "\n",
       "       ponds_around3000  ponds_nearest  days_exposition  \n",
       "count      23565.000000    9036.000000     20394.000000  \n",
       "mean           0.589900     518.289509       180.741395  \n",
       "std            0.883966     278.009558       219.732782  \n",
       "min            0.000000      13.000000         1.000000  \n",
       "25%            0.000000     293.000000        45.000000  \n",
       "50%            0.000000     503.000000        95.000000  \n",
       "75%            1.000000     730.000000       231.000000  \n",
       "max            3.000000    1344.000000      1580.000000  "
      ]
     },
     "execution_count": 29,
     "metadata": {},
     "output_type": "execute_result"
    }
   ],
   "source": [
    "df.describe()\n",
    "# посмотрим на основные показатели описательной статистики"
   ]
  },
  {
   "cell_type": "markdown",
   "metadata": {},
   "source": [
    "Видим, что выбросы есть в столбцах `last_price`, `ceiling_height`, `living_area`, `parks_nearest`, `floors_total`, `airports_nearest`"
   ]
  },
  {
   "cell_type": "code",
   "execution_count": 30,
   "metadata": {},
   "outputs": [
    {
     "data": {
      "text/plain": [
       "12971    763000000.0\n",
       "19540    420000000.0\n",
       "14706    401300000.0\n",
       "1436     330000000.0\n",
       "15651    300000000.0\n",
       "            ...     \n",
       "16219       450000.0\n",
       "16274       440000.0\n",
       "17456       430000.0\n",
       "14911       430000.0\n",
       "8793         12190.0\n",
       "Name: last_price, Length: 23565, dtype: float64"
      ]
     },
     "execution_count": 30,
     "metadata": {},
     "output_type": "execute_result"
    }
   ],
   "source": [
    "df['last_price'].sort_values(ascending=False)\n",
    "#отсортируем значения в столбце с ценой по убыванию, чтобы понять, есть ли выбросы"
   ]
  },
  {
   "cell_type": "markdown",
   "metadata": {},
   "source": [
    "Более 300 млн. руб. стоят самые дорогие квартиры. Цифры большие, нужно посмотреть на строку целиком, чтобы оценить правдоподобность данных.\n",
    "Самые дешевые - 430 и 12 тыс. руб. Похоже, что это аномалия. Посмотрим детальнее."
   ]
  },
  {
   "cell_type": "code",
   "execution_count": 31,
   "metadata": {},
   "outputs": [
    {
     "data": {
      "text/html": [
       "<div>\n",
       "<style scoped>\n",
       "    .dataframe tbody tr th:only-of-type {\n",
       "        vertical-align: middle;\n",
       "    }\n",
       "\n",
       "    .dataframe tbody tr th {\n",
       "        vertical-align: top;\n",
       "    }\n",
       "\n",
       "    .dataframe thead th {\n",
       "        text-align: right;\n",
       "    }\n",
       "</style>\n",
       "<table border=\"1\" class=\"dataframe\">\n",
       "  <thead>\n",
       "    <tr style=\"text-align: right;\">\n",
       "      <th></th>\n",
       "      <th>total_images</th>\n",
       "      <th>last_price</th>\n",
       "      <th>total_area</th>\n",
       "      <th>first_day_exposition</th>\n",
       "      <th>rooms</th>\n",
       "      <th>ceiling_height</th>\n",
       "      <th>floors_total</th>\n",
       "      <th>living_area</th>\n",
       "      <th>floor</th>\n",
       "      <th>is_apartment</th>\n",
       "      <th>...</th>\n",
       "      <th>kitchen_area</th>\n",
       "      <th>balcony</th>\n",
       "      <th>locality_name</th>\n",
       "      <th>airports_nearest</th>\n",
       "      <th>cityCenters_nearest</th>\n",
       "      <th>parks_around3000</th>\n",
       "      <th>parks_nearest</th>\n",
       "      <th>ponds_around3000</th>\n",
       "      <th>ponds_nearest</th>\n",
       "      <th>days_exposition</th>\n",
       "    </tr>\n",
       "  </thead>\n",
       "  <tbody>\n",
       "    <tr>\n",
       "      <th>12971</th>\n",
       "      <td>19</td>\n",
       "      <td>763000000.0</td>\n",
       "      <td>400.0</td>\n",
       "      <td>2017-09-30</td>\n",
       "      <td>7</td>\n",
       "      <td>2.65</td>\n",
       "      <td>10</td>\n",
       "      <td>250.0</td>\n",
       "      <td>10</td>\n",
       "      <td>False</td>\n",
       "      <td>...</td>\n",
       "      <td>NaN</td>\n",
       "      <td>2</td>\n",
       "      <td>Санкт-Петербург</td>\n",
       "      <td>25108.0</td>\n",
       "      <td>3956.0</td>\n",
       "      <td>1</td>\n",
       "      <td>530.0</td>\n",
       "      <td>3</td>\n",
       "      <td>756.0</td>\n",
       "      <td>33.0</td>\n",
       "    </tr>\n",
       "    <tr>\n",
       "      <th>14706</th>\n",
       "      <td>15</td>\n",
       "      <td>401300000.0</td>\n",
       "      <td>401.0</td>\n",
       "      <td>2016-02-20</td>\n",
       "      <td>5</td>\n",
       "      <td>2.65</td>\n",
       "      <td>9</td>\n",
       "      <td>204.0</td>\n",
       "      <td>9</td>\n",
       "      <td>False</td>\n",
       "      <td>...</td>\n",
       "      <td>24.0</td>\n",
       "      <td>3</td>\n",
       "      <td>Санкт-Петербург</td>\n",
       "      <td>21912.0</td>\n",
       "      <td>2389.0</td>\n",
       "      <td>1</td>\n",
       "      <td>545.0</td>\n",
       "      <td>1</td>\n",
       "      <td>478.0</td>\n",
       "      <td>393.0</td>\n",
       "    </tr>\n",
       "    <tr>\n",
       "      <th>19540</th>\n",
       "      <td>8</td>\n",
       "      <td>420000000.0</td>\n",
       "      <td>900.0</td>\n",
       "      <td>2017-12-06</td>\n",
       "      <td>12</td>\n",
       "      <td>2.80</td>\n",
       "      <td>25</td>\n",
       "      <td>409.7</td>\n",
       "      <td>25</td>\n",
       "      <td>False</td>\n",
       "      <td>...</td>\n",
       "      <td>112.0</td>\n",
       "      <td>0</td>\n",
       "      <td>Санкт-Петербург</td>\n",
       "      <td>30706.0</td>\n",
       "      <td>7877.0</td>\n",
       "      <td>0</td>\n",
       "      <td>NaN</td>\n",
       "      <td>2</td>\n",
       "      <td>318.0</td>\n",
       "      <td>106.0</td>\n",
       "    </tr>\n",
       "  </tbody>\n",
       "</table>\n",
       "<p>3 rows × 22 columns</p>\n",
       "</div>"
      ],
      "text/plain": [
       "       total_images   last_price  total_area first_day_exposition  rooms  \\\n",
       "12971            19  763000000.0       400.0           2017-09-30      7   \n",
       "14706            15  401300000.0       401.0           2016-02-20      5   \n",
       "19540             8  420000000.0       900.0           2017-12-06     12   \n",
       "\n",
       "       ceiling_height  floors_total  living_area  floor  is_apartment  ...  \\\n",
       "12971            2.65            10        250.0     10         False  ...   \n",
       "14706            2.65             9        204.0      9         False  ...   \n",
       "19540            2.80            25        409.7     25         False  ...   \n",
       "\n",
       "       kitchen_area  balcony    locality_name  airports_nearest  \\\n",
       "12971           NaN        2  Санкт-Петербург           25108.0   \n",
       "14706          24.0        3  Санкт-Петербург           21912.0   \n",
       "19540         112.0        0  Санкт-Петербург           30706.0   \n",
       "\n",
       "      cityCenters_nearest  parks_around3000  parks_nearest  ponds_around3000  \\\n",
       "12971              3956.0                 1          530.0                 3   \n",
       "14706              2389.0                 1          545.0                 1   \n",
       "19540              7877.0                 0            NaN                 2   \n",
       "\n",
       "       ponds_nearest  days_exposition  \n",
       "12971          756.0             33.0  \n",
       "14706          478.0            393.0  \n",
       "19540          318.0            106.0  \n",
       "\n",
       "[3 rows x 22 columns]"
      ]
     },
     "execution_count": 31,
     "metadata": {},
     "output_type": "execute_result"
    }
   ],
   "source": [
    "df[df['last_price'] > 330000000]"
   ]
  },
  {
   "cell_type": "markdown",
   "metadata": {},
   "source": [
    "Судя по данным, это жилье в элитном квартале, поэтому аномалиями назвать их нельзя."
   ]
  },
  {
   "cell_type": "code",
   "execution_count": 32,
   "metadata": {},
   "outputs": [
    {
     "data": {
      "text/html": [
       "<div>\n",
       "<style scoped>\n",
       "    .dataframe tbody tr th:only-of-type {\n",
       "        vertical-align: middle;\n",
       "    }\n",
       "\n",
       "    .dataframe tbody tr th {\n",
       "        vertical-align: top;\n",
       "    }\n",
       "\n",
       "    .dataframe thead th {\n",
       "        text-align: right;\n",
       "    }\n",
       "</style>\n",
       "<table border=\"1\" class=\"dataframe\">\n",
       "  <thead>\n",
       "    <tr style=\"text-align: right;\">\n",
       "      <th></th>\n",
       "      <th>total_images</th>\n",
       "      <th>last_price</th>\n",
       "      <th>total_area</th>\n",
       "      <th>first_day_exposition</th>\n",
       "      <th>rooms</th>\n",
       "      <th>ceiling_height</th>\n",
       "      <th>floors_total</th>\n",
       "      <th>living_area</th>\n",
       "      <th>floor</th>\n",
       "      <th>is_apartment</th>\n",
       "      <th>...</th>\n",
       "      <th>kitchen_area</th>\n",
       "      <th>balcony</th>\n",
       "      <th>locality_name</th>\n",
       "      <th>airports_nearest</th>\n",
       "      <th>cityCenters_nearest</th>\n",
       "      <th>parks_around3000</th>\n",
       "      <th>parks_nearest</th>\n",
       "      <th>ponds_around3000</th>\n",
       "      <th>ponds_nearest</th>\n",
       "      <th>days_exposition</th>\n",
       "    </tr>\n",
       "  </thead>\n",
       "  <tbody>\n",
       "    <tr>\n",
       "      <th>5698</th>\n",
       "      <td>7</td>\n",
       "      <td>450000.0</td>\n",
       "      <td>42.0</td>\n",
       "      <td>2017-07-31</td>\n",
       "      <td>2</td>\n",
       "      <td>2.65</td>\n",
       "      <td>1</td>\n",
       "      <td>23.0</td>\n",
       "      <td>1</td>\n",
       "      <td>False</td>\n",
       "      <td>...</td>\n",
       "      <td>5.8</td>\n",
       "      <td>0</td>\n",
       "      <td>городской посёлок Будогощь</td>\n",
       "      <td>NaN</td>\n",
       "      <td>NaN</td>\n",
       "      <td>0</td>\n",
       "      <td>NaN</td>\n",
       "      <td>0</td>\n",
       "      <td>NaN</td>\n",
       "      <td>233.0</td>\n",
       "    </tr>\n",
       "    <tr>\n",
       "      <th>6859</th>\n",
       "      <td>6</td>\n",
       "      <td>490000.0</td>\n",
       "      <td>40.0</td>\n",
       "      <td>2017-12-11</td>\n",
       "      <td>1</td>\n",
       "      <td>2.65</td>\n",
       "      <td>5</td>\n",
       "      <td>NaN</td>\n",
       "      <td>3</td>\n",
       "      <td>False</td>\n",
       "      <td>...</td>\n",
       "      <td>NaN</td>\n",
       "      <td>0</td>\n",
       "      <td>деревня Старополье</td>\n",
       "      <td>NaN</td>\n",
       "      <td>NaN</td>\n",
       "      <td>0</td>\n",
       "      <td>NaN</td>\n",
       "      <td>0</td>\n",
       "      <td>NaN</td>\n",
       "      <td>43.0</td>\n",
       "    </tr>\n",
       "    <tr>\n",
       "      <th>8793</th>\n",
       "      <td>7</td>\n",
       "      <td>12190.0</td>\n",
       "      <td>109.0</td>\n",
       "      <td>2019-03-20</td>\n",
       "      <td>2</td>\n",
       "      <td>2.75</td>\n",
       "      <td>25</td>\n",
       "      <td>32.0</td>\n",
       "      <td>25</td>\n",
       "      <td>False</td>\n",
       "      <td>...</td>\n",
       "      <td>40.5</td>\n",
       "      <td>0</td>\n",
       "      <td>Санкт-Петербург</td>\n",
       "      <td>36421.0</td>\n",
       "      <td>9176.0</td>\n",
       "      <td>1</td>\n",
       "      <td>805.0</td>\n",
       "      <td>0</td>\n",
       "      <td>NaN</td>\n",
       "      <td>8.0</td>\n",
       "    </tr>\n",
       "    <tr>\n",
       "      <th>9581</th>\n",
       "      <td>7</td>\n",
       "      <td>450000.0</td>\n",
       "      <td>43.4</td>\n",
       "      <td>2018-08-31</td>\n",
       "      <td>2</td>\n",
       "      <td>2.65</td>\n",
       "      <td>5</td>\n",
       "      <td>30.3</td>\n",
       "      <td>3</td>\n",
       "      <td>False</td>\n",
       "      <td>...</td>\n",
       "      <td>5.5</td>\n",
       "      <td>0</td>\n",
       "      <td>деревня Старополье</td>\n",
       "      <td>NaN</td>\n",
       "      <td>NaN</td>\n",
       "      <td>0</td>\n",
       "      <td>NaN</td>\n",
       "      <td>0</td>\n",
       "      <td>NaN</td>\n",
       "      <td>96.0</td>\n",
       "    </tr>\n",
       "    <tr>\n",
       "      <th>10782</th>\n",
       "      <td>3</td>\n",
       "      <td>490000.0</td>\n",
       "      <td>29.1</td>\n",
       "      <td>2016-05-05</td>\n",
       "      <td>1</td>\n",
       "      <td>2.50</td>\n",
       "      <td>5</td>\n",
       "      <td>17.0</td>\n",
       "      <td>5</td>\n",
       "      <td>False</td>\n",
       "      <td>...</td>\n",
       "      <td>5.5</td>\n",
       "      <td>0</td>\n",
       "      <td>Сланцы</td>\n",
       "      <td>NaN</td>\n",
       "      <td>NaN</td>\n",
       "      <td>0</td>\n",
       "      <td>NaN</td>\n",
       "      <td>0</td>\n",
       "      <td>NaN</td>\n",
       "      <td>719.0</td>\n",
       "    </tr>\n",
       "    <tr>\n",
       "      <th>14911</th>\n",
       "      <td>5</td>\n",
       "      <td>430000.0</td>\n",
       "      <td>54.0</td>\n",
       "      <td>2018-06-26</td>\n",
       "      <td>2</td>\n",
       "      <td>2.65</td>\n",
       "      <td>3</td>\n",
       "      <td>NaN</td>\n",
       "      <td>3</td>\n",
       "      <td>False</td>\n",
       "      <td>...</td>\n",
       "      <td>NaN</td>\n",
       "      <td>0</td>\n",
       "      <td>посёлок станции Свирь</td>\n",
       "      <td>NaN</td>\n",
       "      <td>NaN</td>\n",
       "      <td>0</td>\n",
       "      <td>NaN</td>\n",
       "      <td>0</td>\n",
       "      <td>NaN</td>\n",
       "      <td>44.0</td>\n",
       "    </tr>\n",
       "    <tr>\n",
       "      <th>16032</th>\n",
       "      <td>8</td>\n",
       "      <td>480000.0</td>\n",
       "      <td>32.0</td>\n",
       "      <td>2019-01-06</td>\n",
       "      <td>1</td>\n",
       "      <td>2.65</td>\n",
       "      <td>2</td>\n",
       "      <td>16.0</td>\n",
       "      <td>1</td>\n",
       "      <td>False</td>\n",
       "      <td>...</td>\n",
       "      <td>NaN</td>\n",
       "      <td>0</td>\n",
       "      <td>Сланцы</td>\n",
       "      <td>NaN</td>\n",
       "      <td>NaN</td>\n",
       "      <td>0</td>\n",
       "      <td>NaN</td>\n",
       "      <td>0</td>\n",
       "      <td>NaN</td>\n",
       "      <td>83.0</td>\n",
       "    </tr>\n",
       "    <tr>\n",
       "      <th>16219</th>\n",
       "      <td>14</td>\n",
       "      <td>450000.0</td>\n",
       "      <td>38.5</td>\n",
       "      <td>2018-07-11</td>\n",
       "      <td>2</td>\n",
       "      <td>2.65</td>\n",
       "      <td>2</td>\n",
       "      <td>NaN</td>\n",
       "      <td>1</td>\n",
       "      <td>False</td>\n",
       "      <td>...</td>\n",
       "      <td>NaN</td>\n",
       "      <td>0</td>\n",
       "      <td>деревня Вахнова Кара</td>\n",
       "      <td>NaN</td>\n",
       "      <td>NaN</td>\n",
       "      <td>0</td>\n",
       "      <td>NaN</td>\n",
       "      <td>0</td>\n",
       "      <td>NaN</td>\n",
       "      <td>45.0</td>\n",
       "    </tr>\n",
       "    <tr>\n",
       "      <th>16274</th>\n",
       "      <td>18</td>\n",
       "      <td>440000.0</td>\n",
       "      <td>40.0</td>\n",
       "      <td>2018-07-10</td>\n",
       "      <td>1</td>\n",
       "      <td>2.65</td>\n",
       "      <td>5</td>\n",
       "      <td>NaN</td>\n",
       "      <td>1</td>\n",
       "      <td>False</td>\n",
       "      <td>...</td>\n",
       "      <td>NaN</td>\n",
       "      <td>0</td>\n",
       "      <td>деревня Старополье</td>\n",
       "      <td>NaN</td>\n",
       "      <td>NaN</td>\n",
       "      <td>0</td>\n",
       "      <td>NaN</td>\n",
       "      <td>0</td>\n",
       "      <td>NaN</td>\n",
       "      <td>45.0</td>\n",
       "    </tr>\n",
       "    <tr>\n",
       "      <th>17456</th>\n",
       "      <td>7</td>\n",
       "      <td>430000.0</td>\n",
       "      <td>30.4</td>\n",
       "      <td>2019-04-22</td>\n",
       "      <td>1</td>\n",
       "      <td>2.65</td>\n",
       "      <td>2</td>\n",
       "      <td>16.0</td>\n",
       "      <td>1</td>\n",
       "      <td>False</td>\n",
       "      <td>...</td>\n",
       "      <td>6.0</td>\n",
       "      <td>0</td>\n",
       "      <td>Сланцы</td>\n",
       "      <td>NaN</td>\n",
       "      <td>NaN</td>\n",
       "      <td>0</td>\n",
       "      <td>NaN</td>\n",
       "      <td>0</td>\n",
       "      <td>NaN</td>\n",
       "      <td>NaN</td>\n",
       "    </tr>\n",
       "    <tr>\n",
       "      <th>17676</th>\n",
       "      <td>0</td>\n",
       "      <td>450000.0</td>\n",
       "      <td>36.5</td>\n",
       "      <td>2018-02-01</td>\n",
       "      <td>1</td>\n",
       "      <td>2.65</td>\n",
       "      <td>5</td>\n",
       "      <td>17.3</td>\n",
       "      <td>4</td>\n",
       "      <td>False</td>\n",
       "      <td>...</td>\n",
       "      <td>8.5</td>\n",
       "      <td>1</td>\n",
       "      <td>деревня Ям-Тесово</td>\n",
       "      <td>NaN</td>\n",
       "      <td>NaN</td>\n",
       "      <td>0</td>\n",
       "      <td>NaN</td>\n",
       "      <td>0</td>\n",
       "      <td>NaN</td>\n",
       "      <td>120.0</td>\n",
       "    </tr>\n",
       "    <tr>\n",
       "      <th>18867</th>\n",
       "      <td>1</td>\n",
       "      <td>470000.0</td>\n",
       "      <td>41.0</td>\n",
       "      <td>2018-02-11</td>\n",
       "      <td>1</td>\n",
       "      <td>2.65</td>\n",
       "      <td>5</td>\n",
       "      <td>32.0</td>\n",
       "      <td>3</td>\n",
       "      <td>False</td>\n",
       "      <td>...</td>\n",
       "      <td>9.0</td>\n",
       "      <td>0</td>\n",
       "      <td>деревня Выскатка</td>\n",
       "      <td>NaN</td>\n",
       "      <td>NaN</td>\n",
       "      <td>0</td>\n",
       "      <td>NaN</td>\n",
       "      <td>0</td>\n",
       "      <td>NaN</td>\n",
       "      <td>46.0</td>\n",
       "    </tr>\n",
       "    <tr>\n",
       "      <th>21912</th>\n",
       "      <td>0</td>\n",
       "      <td>470000.0</td>\n",
       "      <td>37.0</td>\n",
       "      <td>2018-02-18</td>\n",
       "      <td>1</td>\n",
       "      <td>2.65</td>\n",
       "      <td>3</td>\n",
       "      <td>NaN</td>\n",
       "      <td>3</td>\n",
       "      <td>False</td>\n",
       "      <td>...</td>\n",
       "      <td>NaN</td>\n",
       "      <td>0</td>\n",
       "      <td>посёлок Совхозный</td>\n",
       "      <td>NaN</td>\n",
       "      <td>NaN</td>\n",
       "      <td>0</td>\n",
       "      <td>NaN</td>\n",
       "      <td>0</td>\n",
       "      <td>NaN</td>\n",
       "      <td>45.0</td>\n",
       "    </tr>\n",
       "    <tr>\n",
       "      <th>23484</th>\n",
       "      <td>11</td>\n",
       "      <td>470000.0</td>\n",
       "      <td>44.5</td>\n",
       "      <td>2018-07-02</td>\n",
       "      <td>2</td>\n",
       "      <td>2.65</td>\n",
       "      <td>2</td>\n",
       "      <td>28.0</td>\n",
       "      <td>2</td>\n",
       "      <td>False</td>\n",
       "      <td>...</td>\n",
       "      <td>7.5</td>\n",
       "      <td>0</td>\n",
       "      <td>Сланцы</td>\n",
       "      <td>NaN</td>\n",
       "      <td>NaN</td>\n",
       "      <td>0</td>\n",
       "      <td>NaN</td>\n",
       "      <td>0</td>\n",
       "      <td>NaN</td>\n",
       "      <td>298.0</td>\n",
       "    </tr>\n",
       "  </tbody>\n",
       "</table>\n",
       "<p>14 rows × 22 columns</p>\n",
       "</div>"
      ],
      "text/plain": [
       "       total_images  last_price  total_area first_day_exposition  rooms  \\\n",
       "5698              7    450000.0        42.0           2017-07-31      2   \n",
       "6859              6    490000.0        40.0           2017-12-11      1   \n",
       "8793              7     12190.0       109.0           2019-03-20      2   \n",
       "9581              7    450000.0        43.4           2018-08-31      2   \n",
       "10782             3    490000.0        29.1           2016-05-05      1   \n",
       "14911             5    430000.0        54.0           2018-06-26      2   \n",
       "16032             8    480000.0        32.0           2019-01-06      1   \n",
       "16219            14    450000.0        38.5           2018-07-11      2   \n",
       "16274            18    440000.0        40.0           2018-07-10      1   \n",
       "17456             7    430000.0        30.4           2019-04-22      1   \n",
       "17676             0    450000.0        36.5           2018-02-01      1   \n",
       "18867             1    470000.0        41.0           2018-02-11      1   \n",
       "21912             0    470000.0        37.0           2018-02-18      1   \n",
       "23484            11    470000.0        44.5           2018-07-02      2   \n",
       "\n",
       "       ceiling_height  floors_total  living_area  floor  is_apartment  ...  \\\n",
       "5698             2.65             1         23.0      1         False  ...   \n",
       "6859             2.65             5          NaN      3         False  ...   \n",
       "8793             2.75            25         32.0     25         False  ...   \n",
       "9581             2.65             5         30.3      3         False  ...   \n",
       "10782            2.50             5         17.0      5         False  ...   \n",
       "14911            2.65             3          NaN      3         False  ...   \n",
       "16032            2.65             2         16.0      1         False  ...   \n",
       "16219            2.65             2          NaN      1         False  ...   \n",
       "16274            2.65             5          NaN      1         False  ...   \n",
       "17456            2.65             2         16.0      1         False  ...   \n",
       "17676            2.65             5         17.3      4         False  ...   \n",
       "18867            2.65             5         32.0      3         False  ...   \n",
       "21912            2.65             3          NaN      3         False  ...   \n",
       "23484            2.65             2         28.0      2         False  ...   \n",
       "\n",
       "       kitchen_area  balcony               locality_name  airports_nearest  \\\n",
       "5698            5.8        0  городской посёлок Будогощь               NaN   \n",
       "6859            NaN        0          деревня Старополье               NaN   \n",
       "8793           40.5        0             Санкт-Петербург           36421.0   \n",
       "9581            5.5        0          деревня Старополье               NaN   \n",
       "10782           5.5        0                      Сланцы               NaN   \n",
       "14911           NaN        0       посёлок станции Свирь               NaN   \n",
       "16032           NaN        0                      Сланцы               NaN   \n",
       "16219           NaN        0        деревня Вахнова Кара               NaN   \n",
       "16274           NaN        0          деревня Старополье               NaN   \n",
       "17456           6.0        0                      Сланцы               NaN   \n",
       "17676           8.5        1           деревня Ям-Тесово               NaN   \n",
       "18867           9.0        0            деревня Выскатка               NaN   \n",
       "21912           NaN        0           посёлок Совхозный               NaN   \n",
       "23484           7.5        0                      Сланцы               NaN   \n",
       "\n",
       "      cityCenters_nearest  parks_around3000  parks_nearest  ponds_around3000  \\\n",
       "5698                  NaN                 0            NaN                 0   \n",
       "6859                  NaN                 0            NaN                 0   \n",
       "8793               9176.0                 1          805.0                 0   \n",
       "9581                  NaN                 0            NaN                 0   \n",
       "10782                 NaN                 0            NaN                 0   \n",
       "14911                 NaN                 0            NaN                 0   \n",
       "16032                 NaN                 0            NaN                 0   \n",
       "16219                 NaN                 0            NaN                 0   \n",
       "16274                 NaN                 0            NaN                 0   \n",
       "17456                 NaN                 0            NaN                 0   \n",
       "17676                 NaN                 0            NaN                 0   \n",
       "18867                 NaN                 0            NaN                 0   \n",
       "21912                 NaN                 0            NaN                 0   \n",
       "23484                 NaN                 0            NaN                 0   \n",
       "\n",
       "       ponds_nearest  days_exposition  \n",
       "5698             NaN            233.0  \n",
       "6859             NaN             43.0  \n",
       "8793             NaN              8.0  \n",
       "9581             NaN             96.0  \n",
       "10782            NaN            719.0  \n",
       "14911            NaN             44.0  \n",
       "16032            NaN             83.0  \n",
       "16219            NaN             45.0  \n",
       "16274            NaN             45.0  \n",
       "17456            NaN              NaN  \n",
       "17676            NaN            120.0  \n",
       "18867            NaN             46.0  \n",
       "21912            NaN             45.0  \n",
       "23484            NaN            298.0  \n",
       "\n",
       "[14 rows x 22 columns]"
      ]
     },
     "execution_count": 32,
     "metadata": {},
     "output_type": "execute_result"
    }
   ],
   "source": [
    "df[df['last_price'] < 500000]"
   ]
  },
  {
   "cell_type": "markdown",
   "metadata": {},
   "source": [
    "Большая часть дешевых квартир расположена в Лен. области, поэтому цена вполне обоснована. Однако, двухкомнатная квартира в Санкт-Петербурге площадью 100 м2 за 12190 рублей - это явная аномалия! Удалим эту строку из датасета."
   ]
  },
  {
   "cell_type": "code",
   "execution_count": 33,
   "metadata": {},
   "outputs": [],
   "source": [
    "df = df.loc[df['last_price'] > 12190]\n",
    "#удалим строку с аномальной ценой"
   ]
  },
  {
   "cell_type": "code",
   "execution_count": 34,
   "metadata": {},
   "outputs": [
    {
     "data": {
      "text/plain": [
       "22869    100.00\n",
       "3148      32.00\n",
       "22336     32.00\n",
       "21377     27.50\n",
       "4876      27.00\n",
       "          ...  \n",
       "4212       2.00\n",
       "2572       2.00\n",
       "16934      1.75\n",
       "5712       1.20\n",
       "22590      1.00\n",
       "Name: ceiling_height, Length: 23564, dtype: float64"
      ]
     },
     "execution_count": 34,
     "metadata": {},
     "output_type": "execute_result"
    }
   ],
   "source": [
    "df['ceiling_height'].sort_values(ascending=False)\n",
    "#отсортируем значения в столбце с высотой потолка по убыванию, чтобы понять, есть ли выбросы"
   ]
  },
  {
   "cell_type": "markdown",
   "metadata": {},
   "source": [
    "В данных явно что-то не так:\n",
    "- выбросы в минимальных значения: 1, 1.2, 1.75м\n",
    "- максимальные значения в выборке указаны в см"
   ]
  },
  {
   "cell_type": "code",
   "execution_count": 35,
   "metadata": {},
   "outputs": [],
   "source": [
    "df['ceiling_height'] = df['ceiling_height'].where(df['ceiling_height'] < 20, df['ceiling_height']/10)\n",
    "#Обработаем значения, большие или равные 20 см"
   ]
  },
  {
   "cell_type": "code",
   "execution_count": 36,
   "metadata": {},
   "outputs": [],
   "source": [
    "df = df.loc[(df['ceiling_height'] >=2)&(df['ceiling_height'] <= 5)]\n",
    "#удалим значения высоты потолков меньшие, чем 2 метра и меньшие 5м (сталинки)"
   ]
  },
  {
   "cell_type": "code",
   "execution_count": 37,
   "metadata": {},
   "outputs": [
    {
     "data": {
      "text/plain": [
       "17846    18.57\n",
       "7766     18.55\n",
       "6511     18.50\n",
       "8281     18.50\n",
       "22476    18.50\n",
       "         ...  \n",
       "17582     5.00\n",
       "23574     3.00\n",
       "3242      3.00\n",
       "13915     2.00\n",
       "21758     2.00\n",
       "Name: living_area, Length: 5362, dtype: float64"
      ]
     },
     "execution_count": 37,
     "metadata": {},
     "output_type": "execute_result"
    }
   ],
   "source": [
    "df[df['living_area'] < 18.6]['living_area'].sort_values(ascending=False)\n",
    "#т.к. в данных есть пропуски, отсортируем значения в столбце с жилой площадью меньшие 1-го квартиля по убыванию, чтобы понять, есть ли выбросы"
   ]
  },
  {
   "cell_type": "markdown",
   "metadata": {},
   "source": [
    "Учитывая, что минимальное значение общей площади 12 м2, удалим строки, в которых значение жилой площади составляет менее 6 м2 - половины от общей площади."
   ]
  },
  {
   "cell_type": "code",
   "execution_count": 38,
   "metadata": {},
   "outputs": [],
   "source": [
    "df = df.loc[df['living_area'] >= 6]\n",
    "#удалим строки, в которых значение жилой площади составляет менее 6 м2."
   ]
  },
  {
   "cell_type": "code",
   "execution_count": 39,
   "metadata": {},
   "outputs": [],
   "source": [
    "df = df.loc[df['floors_total'] <= 37]\n",
    "#удалим строки, в которых количество этажей больше 37 (максимальное количество этажей в жилом здании в СПб - 37)"
   ]
  },
  {
   "cell_type": "markdown",
   "metadata": {},
   "source": [
    "В столбце `airports_nearest` указано минимальное расстояние до аэропорта 0 м. Такого быть не может, это точно аномалия в данных. Удалим такие значения."
   ]
  },
  {
   "cell_type": "code",
   "execution_count": 40,
   "metadata": {},
   "outputs": [],
   "source": [
    "df = df.loc[df['airports_nearest'] != 0]"
   ]
  },
  {
   "cell_type": "markdown",
   "metadata": {},
   "source": [
    "**Вывод**\n",
    "\n",
    "Пропуски обработаны.\n",
    "Наиболее вероятные причины появления пропусков:\n",
    "* Некоторые картографические данные могут отсутствовать по данным объектам недвижимости\n",
    "* Пользователи сознательно не указали данные, такие как количество балконов, тип недвижимости вместо нулей\n",
    "\n",
    "Также удалены аномалии в данных."
   ]
  },
  {
   "cell_type": "markdown",
   "metadata": {},
   "source": [
    "### Посчитайте и добавьте в таблицу новые столбцы"
   ]
  },
  {
   "cell_type": "code",
   "execution_count": 41,
   "metadata": {},
   "outputs": [],
   "source": [
    "df['cost_m2'] = (df['last_price']/df['total_area']).round()\n",
    "#Добавим столбец с ценой 1 м2 и округлим его до целого числа"
   ]
  },
  {
   "cell_type": "code",
   "execution_count": 42,
   "metadata": {},
   "outputs": [],
   "source": [
    "df['weekday_exposition'] = df['first_day_exposition'].dt.dayofweek\n",
    "# добавим столбец с номером дня недели публикации объявления"
   ]
  },
  {
   "cell_type": "code",
   "execution_count": 43,
   "metadata": {},
   "outputs": [],
   "source": [
    "df['month_exposition'] = df['first_day_exposition'].dt.month\n",
    "# добавим столбец с месяцем публикации объявления"
   ]
  },
  {
   "cell_type": "code",
   "execution_count": 44,
   "metadata": {},
   "outputs": [],
   "source": [
    "df['year_exposition'] = df['first_day_exposition'].dt.year\n",
    "# добавим столбец с годом публикации объявления"
   ]
  },
  {
   "cell_type": "code",
   "execution_count": 45,
   "metadata": {},
   "outputs": [
    {
     "data": {
      "text/plain": [
       "5     5300\n",
       "9     3539\n",
       "12    1267\n",
       "16    1265\n",
       "10    1080\n",
       "4     1072\n",
       "25     966\n",
       "6      858\n",
       "17     776\n",
       "3      609\n",
       "7      544\n",
       "14     516\n",
       "18     461\n",
       "24     420\n",
       "2      356\n",
       "8      349\n",
       "15     326\n",
       "23     316\n",
       "19     298\n",
       "22     257\n",
       "20     242\n",
       "13     206\n",
       "11     176\n",
       "27     154\n",
       "21     139\n",
       "26     114\n",
       "35      23\n",
       "1       20\n",
       "28      20\n",
       "36       3\n",
       "34       1\n",
       "29       1\n",
       "33       1\n",
       "Name: floors_total, dtype: int64"
      ]
     },
     "execution_count": 45,
     "metadata": {},
     "output_type": "execute_result"
    }
   ],
   "source": [
    "df['floors_total'].value_counts()\n",
    "# посмотрим на распределение объявлений по общему количеству этажей в доме "
   ]
  },
  {
   "cell_type": "markdown",
   "metadata": {},
   "source": [
    "Записей с одноэтажными домами всего 20, поэтому нет разницы, к какому типу этажа относить квартиры в одноэтажном доме"
   ]
  },
  {
   "cell_type": "code",
   "execution_count": 46,
   "metadata": {},
   "outputs": [],
   "source": [
    "def floor_type_group(row):\n",
    "    fl = row['floor']\n",
    "    fl_total = row['floors_total'] \n",
    "    if fl == 1:\n",
    "        return 'первый'\n",
    "    elif fl == fl_total and fl != 1:\n",
    "        return 'последний'\n",
    "    else:\n",
    "        return 'другой'\n",
    "# создадим функцию, которая будет на вход принимать строку, и возвращать тип этажа квартиры.\n",
    "# введем ограничение, что если квартира находится на 1 этаже в одноэтажном доме,"
   ]
  },
  {
   "cell_type": "code",
   "execution_count": 47,
   "metadata": {},
   "outputs": [],
   "source": [
    "df['floor_type'] = df.apply(floor_type_group, axis=1)\n",
    "# добавим столбец с типом этажа квартиры"
   ]
  },
  {
   "cell_type": "code",
   "execution_count": 48,
   "metadata": {},
   "outputs": [],
   "source": [
    "df['city_center'] = (df['cityCenters_nearest']/1000).round()\n",
    "# добавим столбец с расстоянием до центра города в километрах"
   ]
  },
  {
   "cell_type": "markdown",
   "metadata": {},
   "source": [
    "**Вывод**\n",
    "\n",
    "Добавлены столбцы:\n",
    "- цена одного квадратного метра;\n",
    "- день недели публикации объявления (0 — понедельник, 1 — вторник и так далее);\n",
    "- месяц публикации объявления;\n",
    "- год публикации объявления;\n",
    "- тип этажа квартиры (значения — «‎первый», «последний», «другой»);\n",
    "- расстояние до центра города в километрах (переведите из м в км и округлите до целых значений)."
   ]
  },
  {
   "cell_type": "markdown",
   "metadata": {},
   "source": [
    "### Проведите исследовательский анализ данных"
   ]
  },
  {
   "cell_type": "markdown",
   "metadata": {},
   "source": [
    "**4.1 Изучим следующие параметры объектов:**\n",
    "- общая площадь;\n",
    "- жилая площадь;\n",
    "- площадь кухни;\n",
    "- цена объекта;\n",
    "- количество комнат;\n",
    "- высота потолков;\n",
    "- этаж квартиры;\n",
    "- тип этажа квартиры («первый», «последний», «другой»);\n",
    "- общее количество этажей в доме;\n",
    "- расстояние до центра города в метрах;\n",
    "- расстояние до ближайшего аэропорта;\n",
    "- расстояние до ближайшего парка;\n",
    "- день и месяц публикации объявления."
   ]
  },
  {
   "cell_type": "code",
   "execution_count": 49,
   "metadata": {},
   "outputs": [
    {
     "data": {
      "image/png": "[encoded data removed]",
      "text/plain": [
       "<Figure size 432x288 with 1 Axes>"
      ]
     },
     "metadata": {
      "needs_background": "light"
     },
     "output_type": "display_data"
    },
    {
     "name": "stdout",
     "output_type": "stream",
     "text": [
      "Три варианта c наибольшей общей площадью:\n",
      "15651    618.0\n",
      "12859    631.2\n",
      "19540    900.0\n",
      "Name: total_area, dtype: float64\n"
     ]
    }
   ],
   "source": [
    "df['total_area'].hist(bins=50, range=(0,200))\n",
    "plt.title('Общая площадь квартир')\n",
    "plt.xlabel('м2')\n",
    "plt.ylabel('Количество квартир')\n",
    "plt.show()\n",
    "print('Три варианта c наибольшей общей площадью:')\n",
    "print(df[~df['total_area'].isna()]['total_area'].sort_values().tail(3))"
   ]
  },
  {
   "cell_type": "code",
   "execution_count": 50,
   "metadata": {},
   "outputs": [
    {
     "data": {
      "image/png": "[encoded data removed]",
      "text/plain": [
       "<Figure size 432x288 with 1 Axes>"
      ]
     },
     "metadata": {
      "needs_background": "light"
     },
     "output_type": "display_data"
    },
    {
     "name": "stdout",
     "output_type": "stream",
     "text": [
      "Три варианта c наибольшей жилой площадью:\n",
      "12401    347.5\n",
      "5358     409.0\n",
      "19540    409.7\n",
      "Name: living_area, dtype: float64\n"
     ]
    }
   ],
   "source": [
    "df['living_area'].hist(bins=70, range=(0,120))\n",
    "plt.title('Жилая площадь квартир')\n",
    "plt.xlabel('м2')\n",
    "plt.ylabel('Количество квартир')\n",
    "plt.show()\n",
    "print('Три варианта c наибольшей жилой площадью:')\n",
    "print(df[~df['living_area'].isna()]['living_area'].sort_values().tail(3))"
   ]
  },
  {
   "cell_type": "code",
   "execution_count": 51,
   "metadata": {},
   "outputs": [
    {
     "data": {
      "image/png": "[encoded data removed]",
      "text/plain": [
       "<Figure size 432x288 with 1 Axes>"
      ]
     },
     "metadata": {
      "needs_background": "light"
     },
     "output_type": "display_data"
    },
    {
     "name": "stdout",
     "output_type": "stream",
     "text": [
      "Три варианта c наибольшей площадью кухни:\n",
      "2489     100.7\n",
      "20215    107.0\n",
      "19540    112.0\n",
      "Name: kitchen_area, dtype: float64\n"
     ]
    }
   ],
   "source": [
    "df['kitchen_area'].hist(bins=50, range=(0,50))\n",
    "plt.title('Площадь кухни')\n",
    "plt.xlabel('м2')\n",
    "plt.ylabel('Количество квартир')\n",
    "plt.show()\n",
    "print('Три варианта c наибольшей площадью кухни:')\n",
    "print(df[~df['kitchen_area'].isna()]['kitchen_area'].sort_values().tail(3))"
   ]
  },
  {
   "cell_type": "code",
   "execution_count": 52,
   "metadata": {},
   "outputs": [
    {
     "data": {
      "image/png": "[encoded data removed]",
      "text/plain": [
       "<Figure size 432x288 with 1 Axes>"
      ]
     },
     "metadata": {
      "needs_background": "light"
     },
     "output_type": "display_data"
    },
    {
     "name": "stdout",
     "output_type": "stream",
     "text": [
      "Три варианта с наименьшей ценой:\n",
      "17456    0.43\n",
      "5698     0.45\n",
      "9581     0.45\n",
      "Name: last_price_mln, dtype: float64\n",
      "\n",
      "Три варианта c наибольшей ценой:\n",
      "14706    401.3\n",
      "19540    420.0\n",
      "12971    763.0\n",
      "Name: last_price_mln, dtype: float64\n"
     ]
    }
   ],
   "source": [
    "df['last_price_mln'] = (df['last_price']/1000000).round(3)\n",
    "# для удолства визуализации данных, отобразим цену в млн руб.\n",
    "\n",
    "df['last_price_mln'].hist(bins=40, range=(0, 30))\n",
    "plt.title('Цена квартиры')\n",
    "plt.xlabel('Цена')\n",
    "plt.ylabel('Количество квартир')\n",
    "plt.show()\n",
    "print('Три варианта с наименьшей ценой:')\n",
    "print(df[~df['last_price_mln'].isna()]['last_price_mln'].sort_values().head(3))\n",
    "print()\n",
    "print('Три варианта c наибольшей ценой:')\n",
    "print(df[~df['last_price_mln'].isna()]['last_price_mln'].sort_values().tail(3))"
   ]
  },
  {
   "cell_type": "code",
   "execution_count": 53,
   "metadata": {},
   "outputs": [
    {
     "data": {
      "image/png": "[encoded data removed]",
      "text/plain": [
       "<Figure size 432x288 with 1 Axes>"
      ]
     },
     "metadata": {
      "needs_background": "light"
     },
     "output_type": "display_data"
    },
    {
     "name": "stdout",
     "output_type": "stream",
     "text": [
      "Три варианта c наибольшим количеством комнат:\n",
      "5358     15\n",
      "18848    16\n",
      "14498    19\n",
      "Name: rooms, dtype: int64\n"
     ]
    }
   ],
   "source": [
    "df['rooms'].hist(bins=25, range=(0, 10))\n",
    "plt.title('Количество комнат')\n",
    "plt.xlabel('Количество комнат')\n",
    "plt.ylabel('Количество квартир')\n",
    "plt.show()\n",
    "print('Три варианта c наибольшим количеством комнат:')\n",
    "print(df[~df['rooms'].isna()]['rooms'].sort_values().tail(3))"
   ]
  },
  {
   "cell_type": "code",
   "execution_count": 54,
   "metadata": {},
   "outputs": [
    {
     "data": {
      "image/png": "[encoded data removed]",
      "text/plain": [
       "<Figure size 432x288 with 1 Axes>"
      ]
     },
     "metadata": {
      "needs_background": "light"
     },
     "output_type": "display_data"
    }
   ],
   "source": [
    "df['ceiling_height'].hist(bins=15, range=(2, 4))\n",
    "plt.title('Высота потолка')\n",
    "plt.xlabel('Высота потолка')\n",
    "plt.ylabel('Количество квартир')\n",
    "plt.show()"
   ]
  },
  {
   "cell_type": "code",
   "execution_count": 55,
   "metadata": {},
   "outputs": [
    {
     "data": {
      "image/png": "[encoded data removed]",
      "text/plain": [
       "<Figure size 432x288 with 1 Axes>"
      ]
     },
     "metadata": {
      "needs_background": "light"
     },
     "output_type": "display_data"
    },
    {
     "name": "stdout",
     "output_type": "stream",
     "text": [
      "Три самые высокорасположенные квартиры:\n",
      "18629    31\n",
      "11575    32\n",
      "18218    33\n",
      "Name: floor, dtype: int64\n"
     ]
    }
   ],
   "source": [
    "df['floor'].hist(bins=25, range=(1, 25))\n",
    "plt.title('Этаж')\n",
    "plt.xlabel('Номер этажа')\n",
    "plt.ylabel('Количество квартир')\n",
    "plt.show()\n",
    "\n",
    "print('Три самые высокорасположенные квартиры:')\n",
    "print(df[~df['floor'].isna()]['floor'].sort_values().tail(3))"
   ]
  },
  {
   "cell_type": "code",
   "execution_count": 56,
   "metadata": {},
   "outputs": [
    {
     "data": {
      "image/png": "[encoded data removed]",
      "text/plain": [
       "<Figure size 432x288 with 1 Axes>"
      ]
     },
     "metadata": {
      "needs_background": "light"
     },
     "output_type": "display_data"
    }
   ],
   "source": [
    "df['floor_type'].hist(bins=5)\n",
    "plt.title('Тип этажа квартиры')\n",
    "plt.ylabel('Количество квартир')\n",
    "plt.show()"
   ]
  },
  {
   "cell_type": "code",
   "execution_count": 57,
   "metadata": {},
   "outputs": [
    {
     "data": {
      "image/png": "[encoded data removed]",
      "text/plain": [
       "<Figure size 432x288 with 1 Axes>"
      ]
     },
     "metadata": {
      "needs_background": "light"
     },
     "output_type": "display_data"
    },
    {
     "name": "stdout",
     "output_type": "stream",
     "text": [
      "Три варианта c максимальным количеством этажей в доме:\n",
      "397      36\n",
      "11079    36\n",
      "5807     36\n",
      "Name: floors_total, dtype: int64\n"
     ]
    }
   ],
   "source": [
    "df['floors_total'].hist(bins=30, range=(0, 30))\n",
    "plt.title('Общее количество этажей в доме')\n",
    "plt.xlabel('Количество этажей')\n",
    "plt.ylabel('Количество квартир')\n",
    "plt.show()\n",
    "\n",
    "print('Три варианта c максимальным количеством этажей в доме:')\n",
    "print(df[~df['floors_total'].isna()]['floors_total'].sort_values().tail(3))"
   ]
  },
  {
   "cell_type": "code",
   "execution_count": 58,
   "metadata": {},
   "outputs": [
    {
     "data": {
      "image/png": "[encoded data removed]",
      "text/plain": [
       "<Figure size 432x288 with 1 Axes>"
      ]
     },
     "metadata": {
      "needs_background": "light"
     },
     "output_type": "display_data"
    },
    {
     "name": "stdout",
     "output_type": "stream",
     "text": [
      "Три варианта с наименьшей удаленностью от центра города:\n",
      "13694    181.0\n",
      "1182     208.0\n",
      "8614     215.0\n",
      "Name: cityCenters_nearest, dtype: float64\n",
      "\n",
      "Три варианта c наибольшей удаленностью от центра города:\n",
      "577     65764.0\n",
      "5340    65952.0\n",
      "9640    65968.0\n",
      "Name: cityCenters_nearest, dtype: float64\n"
     ]
    }
   ],
   "source": [
    "df['cityCenters_nearest'].hist(bins=30)\n",
    "plt.title('Удаленность от центра Санкт-Петербурга')\n",
    "plt.xlabel('Расстояние, м')\n",
    "plt.ylabel('Количество квартир')\n",
    "plt.show()\n",
    "\n",
    "print('Три варианта с наименьшей удаленностью от центра города:')\n",
    "print(df[~df['cityCenters_nearest'].isna()]['cityCenters_nearest'].sort_values().head(3))\n",
    "print()\n",
    "print('Три варианта c наибольшей удаленностью от центра города:')\n",
    "print(df[~df['cityCenters_nearest'].isna()]['cityCenters_nearest'].sort_values().tail(3))"
   ]
  },
  {
   "cell_type": "code",
   "execution_count": 59,
   "metadata": {},
   "outputs": [
    {
     "data": {
      "image/png": "[encoded data removed]",
      "text/plain": [
       "<Figure size 432x288 with 1 Axes>"
      ]
     },
     "metadata": {
      "needs_background": "light"
     },
     "output_type": "display_data"
    },
    {
     "name": "stdout",
     "output_type": "stream",
     "text": [
      "Три варианта с наименьшей удаленностью от аэропорта:\n",
      "12899    6450.0\n",
      "4017     6450.0\n",
      "7778     6914.0\n",
      "Name: airports_nearest, dtype: float64\n",
      "\n",
      "Три варианта c наибольшей удаленностью от аэропорта:\n",
      "577     84665.0\n",
      "5340    84853.0\n",
      "9640    84869.0\n",
      "Name: airports_nearest, dtype: float64\n"
     ]
    }
   ],
   "source": [
    "df['airports_nearest'].hist(bins=70, range=(0, 60000))\n",
    "plt.title('Удаленность от аэропорта')\n",
    "plt.xlabel('Расстояние, м')\n",
    "plt.ylabel('Количество квартир')\n",
    "plt.show()\n",
    "\n",
    "print('Три варианта с наименьшей удаленностью от аэропорта:')\n",
    "print(df[~df['airports_nearest'].isna()]['airports_nearest'].sort_values().head(3))\n",
    "print()\n",
    "print('Три варианта c наибольшей удаленностью от аэропорта:')\n",
    "print(df[~df['airports_nearest'].isna()]['airports_nearest'].sort_values().tail(3))"
   ]
  },
  {
   "cell_type": "code",
   "execution_count": 60,
   "metadata": {},
   "outputs": [
    {
     "data": {
      "image/png": "[encoded data removed]",
      "text/plain": [
       "<Figure size 432x288 with 1 Axes>"
      ]
     },
     "metadata": {
      "needs_background": "light"
     },
     "output_type": "display_data"
    }
   ],
   "source": [
    "df['parks_nearest'].hist(bins=20)\n",
    "plt.title('Удаленность от ближайшего парка')\n",
    "plt.xlabel('Расстояние, м')\n",
    "plt.ylabel('Количество квартир')\n",
    "plt.show()"
   ]
  },
  {
   "cell_type": "code",
   "execution_count": 61,
   "metadata": {},
   "outputs": [
    {
     "data": {
      "image/png": "[encoded data removed]",
      "text/plain": [
       "<Figure size 432x288 with 1 Axes>"
      ]
     },
     "metadata": {
      "needs_background": "light"
     },
     "output_type": "display_data"
    }
   ],
   "source": [
    "df['weekday_exposition'].hist(bins=20)\n",
    "plt.title('День публикации объявления')\n",
    "plt.xlabel('День недели')\n",
    "plt.ylabel('Количество публикаций')\n",
    "plt.show()"
   ]
  },
  {
   "cell_type": "code",
   "execution_count": 62,
   "metadata": {},
   "outputs": [
    {
     "data": {
      "image/png": "[encoded data removed]",
      "text/plain": [
       "<Figure size 432x288 with 1 Axes>"
      ]
     },
     "metadata": {
      "needs_background": "light"
     },
     "output_type": "display_data"
    }
   ],
   "source": [
    "df['month_exposition'].hist(bins=30)\n",
    "plt.title('Количество публикаций по месяцам')\n",
    "plt.xlabel('Месяц')\n",
    "plt.ylabel('Количество публикаций')\n",
    "plt.show()"
   ]
  },
  {
   "cell_type": "markdown",
   "metadata": {},
   "source": [
    "**Выводы:**\n",
    "\n",
    "1. **Общая площадь.**\n",
    "\n",
    "У большей части выборки общая площадь составляет от 30 до 125 м2.\n",
    "Наибольшая общая площадь достигает 900 м2.\n",
    "\n",
    "2. **Жилая площадь.**\n",
    "\n",
    "Большая часть вариантов с жилой площадью от 10 до 60 м2. Максимальная жилая площадь - 409 м2.\n",
    "На графике есть минимум 4 пика, скорее всего, связанные с тем, что это максимальные значения для разного количества комнат.\n",
    "\n",
    "3. **Площадь кухни.**\n",
    "\n",
    "Подавляющее большинство вариантов с площадью кухни от 5 до 15 м2. Тем не менее есть и те, у которых площадь кухни достигает 100 м2, судя по всему, это квартиры с общей площадью от 400 м2. \n",
    "\n",
    "4. **Цена объекта.**\n",
    "\n",
    "Большая часть вариантов с ценой от 2,5 до 6 млн. руб. Три варианта с максимальной стоимостью - от 400 млн. руб. Скорее всего, это элитное жилье в Санкт-Петербурге. Минимальные - до 450 тыс. руб. - варианты в Лен. области. \n",
    "\n",
    "5. **Количество комнат.**\n",
    "\n",
    "Большая часть квартир - однокомнатные и двухкомнатные. Немного реже попадаются объявления о продаже трехкомнатных квартир. Объявлений о продаже четырехкомнатных квартир мало (всего около 1000), 5-тикомнатных и более совсем мало, как и студий (0 комнат). А наибольшее количество комнат достигает таких значений, как 15, 16, 19.\n",
    "\n",
    "6. **Высота потолков.**\n",
    "\n",
    "Большая часть квартир с высотой потолка 2,7 м. Видимо, это стандартная высота потолка при проектировании жиой недвижимости.\n",
    "\n",
    "7. **Этаж квартиры.**\n",
    "\n",
    "Большая часть вариантов - квартиры на этажах с 1 по 5-ый. Чем более высокий этаж, тем меньше вариантов. Это подтверждается тем, что на 31, 32, 33 этажах всего по 1 квартире.\n",
    "\n",
    "8. **Тип этажа квартиры («первый», «последний», «другой»).**\n",
    "\n",
    "Количество объявлений с квартирами на первом и последнем этажах примерно одинаково. А на других этажах почти в 3 раза больше, чем на первом и последнем вместе взятых.\n",
    "\n",
    "9. **Общее количество этажей в доме.**\n",
    "\n",
    "Большая часть объявлений - квартиры в 5-ти этажных и 9-ти этажных домах. Дома с таким количеством этажей чаще всего строят в Лен. области, а также строили в Санкт-Петербурге до 2000-ных гг.\n",
    "\n",
    "10. **Расстояние до центра города в метрах.**\n",
    "\n",
    "Большая часть объявлений - квартиры с удаленностью от центра города от 9 до 15 км.\n",
    "Есть квартиры в центре города, а есть и те, которые удалены на расстояние более 60 км (квартиры в населенных пунктах Лен. области).\n",
    "\n",
    "11. **Расстояние до ближайшего аэропорта.**\n",
    "\n",
    "Вблизи аэропорта жилья практически нет. Подавляющее большинство вариантов с удаленностью от аэропорта от 10 до 55 км. Минимальное расстояние - 6,5 км. Максимальное - 85 км.\n",
    "\n",
    "12. **Расстояние до ближайшего парка.**\n",
    "\n",
    "Почти все квартиры, рядом с которыми находится хотя бы 1 парк, удалены от него не более, чем на 1 км.\n",
    "\n",
    "13. **День и месяц публикации объявления.**\n",
    "\n",
    "Объявления чаще размещаются в будние дни. \n",
    "Активнее всего продают квартиры в весенний и осенний период. В мае и летом активность спадает.\n",
    "Это связано с отпусками, праздниками."
   ]
  },
  {
   "cell_type": "markdown",
   "metadata": {},
   "source": [
    "**4.2 Изучим, как быстро продавались квартиры**"
   ]
  },
  {
   "cell_type": "code",
   "execution_count": 63,
   "metadata": {
    "scrolled": true
   },
   "outputs": [
    {
     "data": {
      "image/png": "[encoded data removed]",
      "text/plain": [
       "<Figure size 432x288 with 1 Axes>"
      ]
     },
     "metadata": {
      "needs_background": "light"
     },
     "output_type": "display_data"
    },
    {
     "name": "stdout",
     "output_type": "stream",
     "text": [
      "count    18701.000000\n",
      "mean       184.767659\n",
      "std        221.433364\n",
      "min          1.000000\n",
      "25%         44.000000\n",
      "50%        101.000000\n",
      "75%        238.000000\n",
      "max       1580.000000\n",
      "Name: days_exposition, dtype: float64\n",
      "\n",
      "Количество дней (среднее): 185.0\n",
      "Количество дней (медианное): 101.0\n"
     ]
    }
   ],
   "source": [
    "#гистограмма времени продаж\n",
    "#отбрасываем все пропуски в значениях\n",
    "df[~df['days_exposition'].isna()]['days_exposition'].hist(bins=50, range=(0, 1000))\n",
    "plt.title('Как быстро продавалась квартира?')\n",
    "plt.xlabel('Количество дней размещения')\n",
    "plt.ylabel('Количество квартир')\n",
    "plt.show()\n",
    "\n",
    "#описательная статистика столбца со временем продажи квартиры\n",
    "print(df['days_exposition'].describe())\n",
    "\n",
    "print()\n",
    "#среднее количество дней, за которое продаются квартиры\n",
    "print('Количество дней (среднее):', df[~df['days_exposition'].isna()]['days_exposition'].mean().round())\n",
    "#медианное количество дней, за которое продаются квартиры\n",
    "print('Количество дней (медианное):', df[~df['days_exposition'].isna()]['days_exposition'].median().round())\n"
   ]
  },
  {
   "cell_type": "markdown",
   "metadata": {},
   "source": [
    "**Вывод:**\n",
    "\n",
    "1. Большая часть квартир продается в течение 101 дня. Есть те, которые продались за 1 день, а есть и те, объявления о продаже которых были размещены 1580 дней (почти 5 лет).\n",
    "2. Быстрыми продажами можно назвать квартиры, проданные в течение 44 дней. Медленными - проданные в течение 240 дней и более."
   ]
  },
  {
   "cell_type": "markdown",
   "metadata": {},
   "source": [
    "**4.3 Изучим, какие факторы больше всего влияют на общую (полную) стоимость объекта?**"
   ]
  },
  {
   "cell_type": "code",
   "execution_count": 64,
   "metadata": {},
   "outputs": [
    {
     "data": {
      "image/png": "[encoded data removed]",
      "text/plain": [
       "<Figure size 504x504 with 1 Axes>"
      ]
     },
     "metadata": {
      "needs_background": "light"
     },
     "output_type": "display_data"
    },
    {
     "name": "stdout",
     "output_type": "stream",
     "text": [
      "Корреляция общей площади и цены: 0.64\n"
     ]
    }
   ],
   "source": [
    "#построим диаграмму рассеяния, где для каждой общей площади будет отдельная точка с ценой\n",
    "(\n",
    "    df.pivot_table(index='total_area', values='last_price_mln', aggfunc='median')\n",
    "    .plot(grid=True, style='o', figsize=(7,7), alpha=0.3)\n",
    ")\n",
    "plt.show()\n",
    "\n",
    "#рассчитаем коэффициент корреляции между общей площадью и ценой\n",
    "\n",
    "print('Корреляция общей площади и цены:', df['total_area'].corr(df['last_price_mln']).round(2))\n"
   ]
  },
  {
   "cell_type": "code",
   "execution_count": 65,
   "metadata": {},
   "outputs": [
    {
     "data": {
      "image/png": "[encoded data removed]",
      "text/plain": [
       "<Figure size 504x504 with 1 Axes>"
      ]
     },
     "metadata": {
      "needs_background": "light"
     },
     "output_type": "display_data"
    },
    {
     "name": "stdout",
     "output_type": "stream",
     "text": [
      "Корреляция жилой площади и цены: 0.56\n"
     ]
    }
   ],
   "source": [
    "#построим диаграмму рассеяния, где для каждой жилой площади будет отдельная точка с ценой\n",
    "(\n",
    "    df.pivot_table(index='living_area', values='last_price_mln', aggfunc='median')\n",
    "    .plot(grid=True, style='o', figsize=(7,7), alpha=0.1)\n",
    ")\n",
    "plt.show()\n",
    "\n",
    "#рассчитаем коэффициент корреляции между жилой площадью и ценой\n",
    "\n",
    "print('Корреляция жилой площади и цены:', df['living_area'].corr(df['last_price_mln']).round(2))\n"
   ]
  },
  {
   "cell_type": "code",
   "execution_count": 66,
   "metadata": {},
   "outputs": [
    {
     "data": {
      "image/png": "[encoded data removed]",
      "text/plain": [
       "<Figure size 504x504 with 1 Axes>"
      ]
     },
     "metadata": {
      "needs_background": "light"
     },
     "output_type": "display_data"
    },
    {
     "name": "stdout",
     "output_type": "stream",
     "text": [
      "Корреляция площади кухни и цены: 0.52\n"
     ]
    }
   ],
   "source": [
    "#построим диаграмму рассеяния, где для каждой площади кухни будет отдельная точка с ценой\n",
    "(\n",
    "    df.pivot_table(index='kitchen_area', values='last_price_mln', aggfunc='median')\n",
    "    .plot(grid=True, style='o', figsize=(7,7), alpha=0.1)\n",
    ")\n",
    "plt.show()\n",
    "\n",
    "#рассчитаем коэффициент корреляции между площадью кухни и ценой\n",
    "\n",
    "print('Корреляция площади кухни и цены:', df['kitchen_area'].corr(df['last_price_mln']).round(2))\n"
   ]
  },
  {
   "cell_type": "code",
   "execution_count": 67,
   "metadata": {},
   "outputs": [
    {
     "data": {
      "image/png": "[encoded data removed]",
      "text/plain": [
       "<Figure size 360x360 with 1 Axes>"
      ]
     },
     "metadata": {
      "needs_background": "light"
     },
     "output_type": "display_data"
    },
    {
     "name": "stdout",
     "output_type": "stream",
     "text": [
      "Корреляция количества комнат и цены: 0.36\n"
     ]
    }
   ],
   "source": [
    "#построим график зависимости цены квартиры от количества комнат\n",
    "(\n",
    "    df.pivot_table(index='rooms', values='last_price_mln', aggfunc='median')\n",
    "    .plot(grid=True, style='o-', figsize=(5,5), alpha=1)\n",
    ")\n",
    "plt.show()\n",
    "\n",
    "#рассчитаем коэффициент корреляции между количеством комнат и ценой\n",
    "\n",
    "print('Корреляция количества комнат и цены:', df['rooms'].corr(df['last_price_mln']).round(2))\n"
   ]
  },
  {
   "cell_type": "code",
   "execution_count": 68,
   "metadata": {},
   "outputs": [
    {
     "data": {
      "image/png": "[encoded data removed]",
      "text/plain": [
       "<Figure size 360x360 with 1 Axes>"
      ]
     },
     "metadata": {
      "needs_background": "light"
     },
     "output_type": "display_data"
    }
   ],
   "source": [
    "#построим график зависимости цены квартиры от типа этажа, на котором находится квартира\n",
    "(\n",
    "    df.pivot_table(index='floor_type', values='last_price_mln', aggfunc='median')\n",
    "    .plot(grid=True, style='o-', figsize=(5,5), alpha=1)\n",
    ")\n",
    "plt.show()"
   ]
  },
  {
   "cell_type": "code",
   "execution_count": 69,
   "metadata": {},
   "outputs": [
    {
     "data": {
      "image/png": "[encoded data removed]",
      "text/plain": [
       "<Figure size 360x360 with 1 Axes>"
      ]
     },
     "metadata": {
      "needs_background": "light"
     },
     "output_type": "display_data"
    },
    {
     "name": "stdout",
     "output_type": "stream",
     "text": [
      "Корреляция дня недели размещения и цены: -0.0\n"
     ]
    }
   ],
   "source": [
    "#построим график зависимости цен квартиры от дня недели рамещения объявления\n",
    "(\n",
    "    df.pivot_table(index='weekday_exposition', values='last_price_mln', aggfunc='median')\n",
    "    .plot(grid=True, style='o-', figsize=(5,5), alpha=1)\n",
    ")\n",
    "plt.show()\n",
    "print('Корреляция дня недели размещения и цены:', df['weekday_exposition'].corr(df['last_price_mln']).round(2))"
   ]
  },
  {
   "cell_type": "code",
   "execution_count": 70,
   "metadata": {},
   "outputs": [
    {
     "data": {
      "image/png": "[encoded data removed]",
      "text/plain": [
       "<Figure size 360x360 with 1 Axes>"
      ]
     },
     "metadata": {
      "needs_background": "light"
     },
     "output_type": "display_data"
    },
    {
     "name": "stdout",
     "output_type": "stream",
     "text": [
      "Корреляция месяца размещения и цены: 0.0\n"
     ]
    }
   ],
   "source": [
    "#построим график зависимости цены квартиры от месяца рамещения объявления\n",
    "(\n",
    "    df.pivot_table(index='month_exposition', values='last_price_mln', aggfunc='median')\n",
    "    .plot(grid=True, style='o-', figsize=(5,5), alpha=1)\n",
    ")\n",
    "plt.show()\n",
    "print('Корреляция месяца размещения и цены:', df['month_exposition'].corr(df['last_price_mln']).round(2))"
   ]
  },
  {
   "cell_type": "code",
   "execution_count": 71,
   "metadata": {},
   "outputs": [
    {
     "data": {
      "image/png": "[encoded data removed]",
      "text/plain": [
       "<Figure size 360x360 with 1 Axes>"
      ]
     },
     "metadata": {
      "needs_background": "light"
     },
     "output_type": "display_data"
    },
    {
     "name": "stdout",
     "output_type": "stream",
     "text": [
      "Корреляция года размещения и цены: -0.04\n"
     ]
    }
   ],
   "source": [
    "#построим график зависимости цены квартиры от года рамещения объявления\n",
    "(\n",
    "    df.pivot_table(index='year_exposition', values='last_price_mln', aggfunc='median')\n",
    "    .plot(grid=True, style='o-', figsize=(5,5), alpha=1)\n",
    ")\n",
    "plt.show()\n",
    "print('Корреляция года размещения и цены:', df['year_exposition'].corr(df['last_price_mln']).round(2))"
   ]
  },
  {
   "cell_type": "markdown",
   "metadata": {},
   "source": [
    "**Вывод:**\n",
    "1. Больше всего влияют на стоимость квартиры параметры площади. В большей степени - общая площадь, немного меньше - жилая площадь, еще меньше - площадь кухни. Чем больше площадь, тем больше цена квартиры.\n",
    "Эта зависимость хорошо прослеживается для квартир с общей площадью до 125 м2.\n",
    "2. Корреляция количества комнат и цены уже слабее, хотя она тоже есть. Больше комнат - выше цена квартиры.\n",
    "\n",
    "3. Квартиры, расположенные на 1-ом этаже стоят меньше, чем на других этажах.\n",
    "\n",
    "4. Корреляция дня недели, месяца, года размещения объявления и цены отсуствует."
   ]
  },
  {
   "cell_type": "markdown",
   "metadata": {},
   "source": [
    "**4.4 Посчитаем среднюю цену одного квадратного метра в 10 населённых пунктах с наибольшим числом объявлений. Выделим населённые пункты с самой высокой и низкой стоимостью квадратного метра.**"
   ]
  },
  {
   "cell_type": "code",
   "execution_count": 72,
   "metadata": {},
   "outputs": [
    {
     "data": {
      "text/html": [
       "<div>\n",
       "<style scoped>\n",
       "    .dataframe tbody tr th:only-of-type {\n",
       "        vertical-align: middle;\n",
       "    }\n",
       "\n",
       "    .dataframe tbody tr th {\n",
       "        vertical-align: top;\n",
       "    }\n",
       "\n",
       "    .dataframe thead th {\n",
       "        text-align: right;\n",
       "    }\n",
       "</style>\n",
       "<table border=\"1\" class=\"dataframe\">\n",
       "  <thead>\n",
       "    <tr style=\"text-align: right;\">\n",
       "      <th></th>\n",
       "      <th>cost_m2</th>\n",
       "    </tr>\n",
       "    <tr>\n",
       "      <th>locality_name</th>\n",
       "      <th></th>\n",
       "    </tr>\n",
       "  </thead>\n",
       "  <tbody>\n",
       "    <tr>\n",
       "      <th>Санкт-Петербург</th>\n",
       "      <td>114101.0</td>\n",
       "    </tr>\n",
       "    <tr>\n",
       "      <th>Пушкин</th>\n",
       "      <td>103428.0</td>\n",
       "    </tr>\n",
       "    <tr>\n",
       "      <th>деревня Кудрово</th>\n",
       "      <td>92702.0</td>\n",
       "    </tr>\n",
       "    <tr>\n",
       "      <th>посёлок Парголово</th>\n",
       "      <td>90443.0</td>\n",
       "    </tr>\n",
       "    <tr>\n",
       "      <th>посёлок Мурино</th>\n",
       "      <td>86278.0</td>\n",
       "    </tr>\n",
       "    <tr>\n",
       "      <th>Петергоф</th>\n",
       "      <td>84481.0</td>\n",
       "    </tr>\n",
       "    <tr>\n",
       "      <th>посёлок Шушары</th>\n",
       "      <td>78750.0</td>\n",
       "    </tr>\n",
       "    <tr>\n",
       "      <th>Колпино</th>\n",
       "      <td>75344.0</td>\n",
       "    </tr>\n",
       "    <tr>\n",
       "      <th>Всеволожск</th>\n",
       "      <td>68880.0</td>\n",
       "    </tr>\n",
       "    <tr>\n",
       "      <th>Гатчина</th>\n",
       "      <td>68627.0</td>\n",
       "    </tr>\n",
       "  </tbody>\n",
       "</table>\n",
       "</div>"
      ],
      "text/plain": [
       "                    cost_m2\n",
       "locality_name              \n",
       "Санкт-Петербург    114101.0\n",
       "Пушкин             103428.0\n",
       "деревня Кудрово     92702.0\n",
       "посёлок Парголово   90443.0\n",
       "посёлок Мурино      86278.0\n",
       "Петергоф            84481.0\n",
       "посёлок Шушары      78750.0\n",
       "Колпино             75344.0\n",
       "Всеволожск          68880.0\n",
       "Гатчина             68627.0"
      ]
     },
     "execution_count": 72,
     "metadata": {},
     "output_type": "execute_result"
    }
   ],
   "source": [
    "# создадим список из 10 населенных пунктов с наибольшим числом объявлений\n",
    "top_locality = df['locality_name'].value_counts().head(10)\n",
    "\n",
    "# сделаем срез по значениям списка top_locality, построим сводную таблицу со средней стоимостью 1м2,\n",
    "# после чего отсортируем значения по убыванию стоимости 1 м2\n",
    "\n",
    "top_locality_cost_m2 = (\n",
    "    df.query('locality_name in @top_locality.index')\n",
    "    .pivot_table(index='locality_name', values='cost_m2')\n",
    "    .sort_values(by='cost_m2', ascending=False)\n",
    "    .round()\n",
    ")\n",
    "top_locality_cost_m2"
   ]
  },
  {
   "cell_type": "code",
   "execution_count": 73,
   "metadata": {},
   "outputs": [
    {
     "data": {
      "text/html": [
       "<div>\n",
       "<style scoped>\n",
       "    .dataframe tbody tr th:only-of-type {\n",
       "        vertical-align: middle;\n",
       "    }\n",
       "\n",
       "    .dataframe tbody tr th {\n",
       "        vertical-align: top;\n",
       "    }\n",
       "\n",
       "    .dataframe thead th {\n",
       "        text-align: right;\n",
       "    }\n",
       "</style>\n",
       "<table border=\"1\" class=\"dataframe\">\n",
       "  <thead>\n",
       "    <tr style=\"text-align: right;\">\n",
       "      <th></th>\n",
       "      <th>cost_m2</th>\n",
       "    </tr>\n",
       "    <tr>\n",
       "      <th>locality_name</th>\n",
       "      <th></th>\n",
       "    </tr>\n",
       "  </thead>\n",
       "  <tbody>\n",
       "    <tr>\n",
       "      <th>Гатчина</th>\n",
       "      <td>68627.0</td>\n",
       "    </tr>\n",
       "  </tbody>\n",
       "</table>\n",
       "</div>"
      ],
      "text/plain": [
       "               cost_m2\n",
       "locality_name         \n",
       "Гатчина        68627.0"
      ]
     },
     "execution_count": 73,
     "metadata": {},
     "output_type": "execute_result"
    }
   ],
   "source": [
    "# Населенный пункт с самой низкой средней стоимостью 1 м2\n",
    "top_locality_cost_m2.tail(1)"
   ]
  },
  {
   "cell_type": "code",
   "execution_count": 74,
   "metadata": {},
   "outputs": [
    {
     "data": {
      "text/html": [
       "<div>\n",
       "<style scoped>\n",
       "    .dataframe tbody tr th:only-of-type {\n",
       "        vertical-align: middle;\n",
       "    }\n",
       "\n",
       "    .dataframe tbody tr th {\n",
       "        vertical-align: top;\n",
       "    }\n",
       "\n",
       "    .dataframe thead th {\n",
       "        text-align: right;\n",
       "    }\n",
       "</style>\n",
       "<table border=\"1\" class=\"dataframe\">\n",
       "  <thead>\n",
       "    <tr style=\"text-align: right;\">\n",
       "      <th></th>\n",
       "      <th>cost_m2</th>\n",
       "    </tr>\n",
       "    <tr>\n",
       "      <th>locality_name</th>\n",
       "      <th></th>\n",
       "    </tr>\n",
       "  </thead>\n",
       "  <tbody>\n",
       "    <tr>\n",
       "      <th>Санкт-Петербург</th>\n",
       "      <td>114101.0</td>\n",
       "    </tr>\n",
       "  </tbody>\n",
       "</table>\n",
       "</div>"
      ],
      "text/plain": [
       "                  cost_m2\n",
       "locality_name            \n",
       "Санкт-Петербург  114101.0"
      ]
     },
     "execution_count": 74,
     "metadata": {},
     "output_type": "execute_result"
    }
   ],
   "source": [
    "# Населенный пункт с самой высокой средней стоимостью 1 м2\n",
    "top_locality_cost_m2.head(1)"
   ]
  },
  {
   "cell_type": "markdown",
   "metadata": {},
   "source": [
    "**Вывод:**\n",
    "1. Для 10 населенных пунктов с наибольшим количеством объявлений наибольшая стоимость 1м2 наблюдается у квартир, находящихся в Санкт-Петербурге. Средняя стоимость составляет 114 тыс. руб./м2.\n",
    "2. Не сильно отстает от Санкт-Петербурга г. Пушкин.\n",
    "3. Самая низкая цена 1м2 - в Гатчине. Средняя стоимость составляет 68 тыс. руб./м2."
   ]
  },
  {
   "cell_type": "markdown",
   "metadata": {},
   "source": [
    "**4.5 Выделим квартиры в Санкт-Петербурге и вычислим среднюю цену каждого километра.**"
   ]
  },
  {
   "cell_type": "code",
   "execution_count": 75,
   "metadata": {},
   "outputs": [
    {
     "data": {
      "image/png": "[encoded data removed]",
      "text/plain": [
       "<Figure size 1080x360 with 1 Axes>"
      ]
     },
     "metadata": {
      "needs_background": "light"
     },
     "output_type": "display_data"
    }
   ],
   "source": [
    "(\n",
    "    df.query('locality_name == \"Санкт-Петербург\"')\n",
    "    .pivot_table(index='city_center', values='last_price_mln')\n",
    "    .plot(grid=True, style='o-', figsize=(15,5))\n",
    ")\n",
    "plt.show()"
   ]
  },
  {
   "cell_type": "markdown",
   "metadata": {},
   "source": [
    "**Вывод:**\n",
    "1. Стоимость квартир в центре города выше, чем у тех, которые расположены на окраинах, либо в Лен. области.\n",
    "2. Судя по графику, центр города ограничивается радиусом в 8 км."
   ]
  },
  {
   "cell_type": "markdown",
   "metadata": {},
   "source": [
    "### Общий вывод"
   ]
  },
  {
   "cell_type": "markdown",
   "metadata": {},
   "source": [
    "**1. Параметры для большинства квартир:**\n",
    "- общая площадь **от 30 до 125 м2**;\n",
    "- жилая площадь **от 10 до 60 м2**;\n",
    "- площадь кухни **от 5 до 15 м2**;\n",
    "- цена **от 2.5 до 6 млн руб.**;\n",
    "- количество комнат **от 1 до 3**;\n",
    "- высота потолков **с 1-го по 5-ый**;\n",
    "- **пяти- или девятиэтажный** дом;\n",
    "- удаленные от центра города на расстояние **от 9 до 15 км**;\n",
    "- удаленные от аэропорта **от 10 до 55 км**;\n",
    "- ближайший парк удален **не более, чем на 1 км**;\n",
    "\n",
    "Объявления о продаже размещаются чаще в будние дни и в весенний/осенний период.\n",
    "\n",
    "**2. Срок продажи квартир**\n",
    "\n",
    "Большая часть квартир продается **в течение 101 дня**.\n",
    "\n",
    "- **Быстрыми** продажами можно назвать квартиры, проданные **в течение 44 дней**. \n",
    "- **Медленными** - проданные **в течение 240 дней и более**.\n",
    "\n",
    "**3. Факторы, влияющие на стоимость квартиры:**\n",
    "- общая площадь;\n",
    "- жилая площадь;\n",
    "- площадь кухни;\n",
    "- количество комнат.\n",
    "\n",
    "**Больше всего влияет** на стоимость квартиры **общая площадь**. \n",
    "Особенно хорошо эта зависимость прослеживается для квартир с **общей площадью до 125 м2**.\n",
    "\n",
    "Корреляция количества комнат и цены самая слабая, хотя она тоже есть. Больше комнат - выше цена квартиры.\n",
    "\n",
    "Квартиры, расположенные **на 1-ом этаже стоят меньше**, чем на других этажах.\n",
    "\n",
    "Корреляция дня недели, месяца, года размещения объявления и цены отсуствует.\n",
    "\n",
    "**4. Стоимость 1 м2**\n",
    "\n",
    "- **Наибольшая стоимость 1м2** наблюдается у квартир, находящихся **в Санкт-Петербурге**. **Средняя стоимость** составляет **114 тыс руб./м2**.\n",
    "- **Наименьшая стоимость 1м2 - в Гатчине**. **Средняя стоимость** составляет **68 тыс. руб./м2**.\n",
    "\n",
    "**5. Стоимость километра.**\n",
    "\n",
    "- **Стоимость квартир в центре города выше**, чем у тех, которые расположены на окраинах, либо в Лен. области;\n",
    "- Центр города ограничивается радиусом **в 8 км**."
   ]
  },
  {
   "cell_type": "code",
   "execution_count": null,
   "metadata": {},
   "outputs": [],
   "source": []
  },
  {
   "cell_type": "code",
   "execution_count": null,
   "metadata": {},
   "outputs": [],
   "source": []
  }
 ],
 "metadata": {
  "ExecuteTimeLog": [
   {
    "duration": 370,
    "start_time": "2022-10-09T10:48:25.316Z"
   },
   {
    "duration": 285,
    "start_time": "2022-10-09T10:49:29.720Z"
   },
   {
    "duration": 12,
    "start_time": "2022-10-09T10:49:40.957Z"
   },
   {
    "duration": 82,
    "start_time": "2022-10-09T10:49:54.255Z"
   },
   {
    "duration": 38,
    "start_time": "2022-10-09T10:49:54.461Z"
   },
   {
    "duration": 22,
    "start_time": "2022-10-09T10:50:13.190Z"
   },
   {
    "duration": 23,
    "start_time": "2022-10-09T10:50:16.378Z"
   },
   {
    "duration": 60,
    "start_time": "2022-10-09T10:55:10.427Z"
   },
   {
    "duration": 87,
    "start_time": "2022-10-09T10:55:13.378Z"
   },
   {
    "duration": 24,
    "start_time": "2022-10-09T10:55:15.863Z"
   },
   {
    "duration": 14,
    "start_time": "2022-10-09T10:55:16.602Z"
   },
   {
    "duration": 1875,
    "start_time": "2022-10-09T10:56:47.687Z"
   },
   {
    "duration": 1584,
    "start_time": "2022-10-09T10:57:06.211Z"
   },
   {
    "duration": 2062,
    "start_time": "2022-10-09T10:57:12.585Z"
   },
   {
    "duration": 2596,
    "start_time": "2022-10-09T10:57:24.088Z"
   },
   {
    "duration": 1051,
    "start_time": "2022-10-09T10:57:35.295Z"
   },
   {
    "duration": 1828,
    "start_time": "2022-10-09T10:57:51.592Z"
   },
   {
    "duration": 16,
    "start_time": "2022-10-09T10:59:42.710Z"
   },
   {
    "duration": 4,
    "start_time": "2022-10-09T10:59:46.134Z"
   },
   {
    "duration": 4,
    "start_time": "2022-10-09T11:04:15.568Z"
   },
   {
    "duration": 19,
    "start_time": "2022-10-09T11:04:16.653Z"
   },
   {
    "duration": 1918,
    "start_time": "2022-10-09T11:04:17.443Z"
   },
   {
    "duration": 2893,
    "start_time": "2022-10-09T11:04:31.344Z"
   },
   {
    "duration": 2154,
    "start_time": "2022-10-09T11:04:41.296Z"
   },
   {
    "duration": 2410,
    "start_time": "2022-10-09T11:04:53.005Z"
   },
   {
    "duration": 2137,
    "start_time": "2022-10-09T11:05:07.691Z"
   },
   {
    "duration": 46,
    "start_time": "2022-10-09T16:10:49.426Z"
   },
   {
    "duration": 412,
    "start_time": "2022-10-09T16:10:54.648Z"
   },
   {
    "duration": 289,
    "start_time": "2022-10-09T16:10:55.062Z"
   },
   {
    "duration": 29,
    "start_time": "2022-10-09T16:10:55.352Z"
   },
   {
    "duration": 3,
    "start_time": "2022-10-09T16:10:55.896Z"
   },
   {
    "duration": 14,
    "start_time": "2022-10-09T16:10:56.662Z"
   },
   {
    "duration": 2646,
    "start_time": "2022-10-09T16:10:57.265Z"
   },
   {
    "duration": 47,
    "start_time": "2022-10-09T16:10:59.914Z"
   },
   {
    "duration": 37,
    "start_time": "2022-10-09T16:11:30.837Z"
   },
   {
    "duration": 8,
    "start_time": "2022-10-09T16:11:39.280Z"
   },
   {
    "duration": 8,
    "start_time": "2022-10-09T16:12:42.225Z"
   },
   {
    "duration": 11,
    "start_time": "2022-10-09T16:12:56.301Z"
   },
   {
    "duration": 8,
    "start_time": "2022-10-09T16:13:31.481Z"
   },
   {
    "duration": 812,
    "start_time": "2022-10-10T07:24:57.390Z"
   },
   {
    "duration": 325,
    "start_time": "2022-10-10T07:24:58.206Z"
   },
   {
    "duration": 29,
    "start_time": "2022-10-10T07:24:58.532Z"
   },
   {
    "duration": 5,
    "start_time": "2022-10-10T07:24:59.195Z"
   },
   {
    "duration": 16,
    "start_time": "2022-10-10T07:25:00.013Z"
   },
   {
    "duration": 1941,
    "start_time": "2022-10-10T07:25:22.951Z"
   },
   {
    "duration": 39,
    "start_time": "2022-10-10T07:28:59.173Z"
   },
   {
    "duration": 5,
    "start_time": "2022-10-10T07:29:05.384Z"
   },
   {
    "duration": 5,
    "start_time": "2022-10-10T07:29:37.859Z"
   },
   {
    "duration": 28,
    "start_time": "2022-10-10T07:31:05.933Z"
   },
   {
    "duration": 31,
    "start_time": "2022-10-10T07:31:13.250Z"
   },
   {
    "duration": 26,
    "start_time": "2022-10-10T07:31:19.827Z"
   },
   {
    "duration": 34,
    "start_time": "2022-10-10T07:31:30.028Z"
   },
   {
    "duration": 34,
    "start_time": "2022-10-10T07:31:40.856Z"
   },
   {
    "duration": 23,
    "start_time": "2022-10-10T07:31:52.080Z"
   },
   {
    "duration": 5,
    "start_time": "2022-10-10T07:32:57.827Z"
   },
   {
    "duration": 29,
    "start_time": "2022-10-10T07:33:10.143Z"
   },
   {
    "duration": 6,
    "start_time": "2022-10-10T07:33:14.256Z"
   },
   {
    "duration": 52,
    "start_time": "2022-10-10T07:33:32.291Z"
   },
   {
    "duration": 5,
    "start_time": "2022-10-10T07:33:32.672Z"
   },
   {
    "duration": 9,
    "start_time": "2022-10-10T07:34:30.884Z"
   },
   {
    "duration": 10,
    "start_time": "2022-10-10T07:35:12.536Z"
   },
   {
    "duration": 6,
    "start_time": "2022-10-10T07:41:05.156Z"
   },
   {
    "duration": 6,
    "start_time": "2022-10-10T07:41:27.010Z"
   },
   {
    "duration": 5,
    "start_time": "2022-10-10T07:41:44.883Z"
   },
   {
    "duration": 7,
    "start_time": "2022-10-10T07:41:50.865Z"
   },
   {
    "duration": 71,
    "start_time": "2022-10-10T07:43:03.236Z"
   },
   {
    "duration": 70,
    "start_time": "2022-10-10T07:43:20.925Z"
   },
   {
    "duration": 64,
    "start_time": "2022-10-10T07:43:27.165Z"
   },
   {
    "duration": 63,
    "start_time": "2022-10-10T07:43:34.199Z"
   },
   {
    "duration": 3,
    "start_time": "2022-10-10T08:17:57.223Z"
   },
   {
    "duration": 3,
    "start_time": "2022-10-10T08:19:33.037Z"
   },
   {
    "duration": 4,
    "start_time": "2022-10-10T08:35:44.945Z"
   },
   {
    "duration": 4,
    "start_time": "2022-10-10T08:35:45.264Z"
   },
   {
    "duration": 5,
    "start_time": "2022-10-10T08:35:45.768Z"
   },
   {
    "duration": 42,
    "start_time": "2022-10-10T08:41:56.355Z"
   },
   {
    "duration": 37,
    "start_time": "2022-10-10T08:47:19.080Z"
   },
   {
    "duration": 47,
    "start_time": "2022-10-10T08:47:21.653Z"
   },
   {
    "duration": 4,
    "start_time": "2022-10-10T08:47:27.800Z"
   },
   {
    "duration": 78,
    "start_time": "2022-10-10T08:47:49.740Z"
   },
   {
    "duration": 5,
    "start_time": "2022-10-10T08:47:50.116Z"
   },
   {
    "duration": 12,
    "start_time": "2022-10-10T08:48:09.044Z"
   },
   {
    "duration": 5,
    "start_time": "2022-10-10T08:48:09.886Z"
   },
   {
    "duration": 835,
    "start_time": "2022-10-10T08:50:22.552Z"
   },
   {
    "duration": 10,
    "start_time": "2022-10-10T08:51:40.796Z"
   },
   {
    "duration": 9,
    "start_time": "2022-10-10T08:51:56.099Z"
   },
   {
    "duration": 1151,
    "start_time": "2022-10-10T08:55:10.723Z"
   },
   {
    "duration": 5,
    "start_time": "2022-10-10T08:55:37.557Z"
   },
   {
    "duration": 7,
    "start_time": "2022-10-10T08:56:05.797Z"
   },
   {
    "duration": 6,
    "start_time": "2022-10-10T08:56:21.000Z"
   },
   {
    "duration": 6,
    "start_time": "2022-10-10T08:56:25.933Z"
   },
   {
    "duration": 5,
    "start_time": "2022-10-10T08:56:35.411Z"
   },
   {
    "duration": 4,
    "start_time": "2022-10-10T08:57:22.125Z"
   },
   {
    "duration": 7,
    "start_time": "2022-10-10T08:57:28.919Z"
   },
   {
    "duration": 4,
    "start_time": "2022-10-10T08:57:59.623Z"
   },
   {
    "duration": 4,
    "start_time": "2022-10-10T08:58:03.198Z"
   },
   {
    "duration": 6,
    "start_time": "2022-10-10T08:58:04.395Z"
   },
   {
    "duration": 3,
    "start_time": "2022-10-10T08:58:06.442Z"
   },
   {
    "duration": 5,
    "start_time": "2022-10-10T08:58:06.771Z"
   },
   {
    "duration": 5,
    "start_time": "2022-10-10T08:58:17.755Z"
   },
   {
    "duration": 4,
    "start_time": "2022-10-10T08:58:23.538Z"
   },
   {
    "duration": 6,
    "start_time": "2022-10-10T08:58:47.298Z"
   },
   {
    "duration": 6,
    "start_time": "2022-10-10T08:58:48.958Z"
   },
   {
    "duration": 6,
    "start_time": "2022-10-10T08:59:00.123Z"
   },
   {
    "duration": 5,
    "start_time": "2022-10-10T08:59:02.179Z"
   },
   {
    "duration": 6,
    "start_time": "2022-10-10T08:59:04.887Z"
   },
   {
    "duration": 6,
    "start_time": "2022-10-10T08:59:07.454Z"
   },
   {
    "duration": 6,
    "start_time": "2022-10-10T08:59:08.709Z"
   },
   {
    "duration": 6,
    "start_time": "2022-10-10T08:59:09.923Z"
   },
   {
    "duration": 5,
    "start_time": "2022-10-10T08:59:11.469Z"
   },
   {
    "duration": 22,
    "start_time": "2022-10-10T08:59:19.609Z"
   },
   {
    "duration": 5,
    "start_time": "2022-10-10T08:59:58.578Z"
   },
   {
    "duration": 5,
    "start_time": "2022-10-10T09:00:17.905Z"
   },
   {
    "duration": 651,
    "start_time": "2022-10-10T09:00:29.817Z"
   },
   {
    "duration": 92,
    "start_time": "2022-10-10T09:00:30.470Z"
   },
   {
    "duration": 27,
    "start_time": "2022-10-10T09:00:30.564Z"
   },
   {
    "duration": 3,
    "start_time": "2022-10-10T09:00:30.593Z"
   },
   {
    "duration": 59,
    "start_time": "2022-10-10T09:00:30.598Z"
   },
   {
    "duration": 1994,
    "start_time": "2022-10-10T09:00:30.658Z"
   },
   {
    "duration": 70,
    "start_time": "2022-10-10T09:00:32.654Z"
   },
   {
    "duration": 9,
    "start_time": "2022-10-10T09:00:32.726Z"
   },
   {
    "duration": 4,
    "start_time": "2022-10-10T09:00:32.737Z"
   },
   {
    "duration": 4,
    "start_time": "2022-10-10T09:00:32.744Z"
   },
   {
    "duration": 3,
    "start_time": "2022-10-10T09:00:32.750Z"
   },
   {
    "duration": 4,
    "start_time": "2022-10-10T09:00:32.755Z"
   },
   {
    "duration": 4,
    "start_time": "2022-10-10T09:00:36.738Z"
   },
   {
    "duration": 4,
    "start_time": "2022-10-10T09:00:37.062Z"
   },
   {
    "duration": 5,
    "start_time": "2022-10-10T09:00:43.506Z"
   },
   {
    "duration": 4,
    "start_time": "2022-10-10T09:01:00.884Z"
   },
   {
    "duration": 11,
    "start_time": "2022-10-10T09:01:29.032Z"
   },
   {
    "duration": 4,
    "start_time": "2022-10-10T09:02:01.861Z"
   },
   {
    "duration": 9,
    "start_time": "2022-10-10T09:02:12.571Z"
   },
   {
    "duration": 4,
    "start_time": "2022-10-10T09:02:34.353Z"
   },
   {
    "duration": 3,
    "start_time": "2022-10-10T09:02:37.262Z"
   },
   {
    "duration": 4,
    "start_time": "2022-10-10T09:02:37.615Z"
   },
   {
    "duration": 4,
    "start_time": "2022-10-10T09:02:37.991Z"
   },
   {
    "duration": 8,
    "start_time": "2022-10-10T09:02:45.526Z"
   },
   {
    "duration": 4,
    "start_time": "2022-10-10T09:02:47.046Z"
   },
   {
    "duration": 3,
    "start_time": "2022-10-10T09:02:47.861Z"
   },
   {
    "duration": 3,
    "start_time": "2022-10-10T09:02:48.673Z"
   },
   {
    "duration": 3,
    "start_time": "2022-10-10T09:02:49.089Z"
   },
   {
    "duration": 5,
    "start_time": "2022-10-10T09:02:49.509Z"
   },
   {
    "duration": 574,
    "start_time": "2022-10-10T09:02:58.564Z"
   },
   {
    "duration": 88,
    "start_time": "2022-10-10T09:02:59.140Z"
   },
   {
    "duration": 27,
    "start_time": "2022-10-10T09:02:59.229Z"
   },
   {
    "duration": 3,
    "start_time": "2022-10-10T09:02:59.258Z"
   },
   {
    "duration": 18,
    "start_time": "2022-10-10T09:02:59.262Z"
   },
   {
    "duration": 1914,
    "start_time": "2022-10-10T09:02:59.282Z"
   },
   {
    "duration": 65,
    "start_time": "2022-10-10T09:03:01.198Z"
   },
   {
    "duration": 9,
    "start_time": "2022-10-10T09:03:01.264Z"
   },
   {
    "duration": 21,
    "start_time": "2022-10-10T09:03:01.275Z"
   },
   {
    "duration": 9,
    "start_time": "2022-10-10T09:03:01.298Z"
   },
   {
    "duration": 7,
    "start_time": "2022-10-10T09:03:01.308Z"
   },
   {
    "duration": 13,
    "start_time": "2022-10-10T09:03:01.316Z"
   },
   {
    "duration": 8,
    "start_time": "2022-10-10T09:03:01.330Z"
   },
   {
    "duration": 7,
    "start_time": "2022-10-10T09:03:01.340Z"
   },
   {
    "duration": 5,
    "start_time": "2022-10-10T09:03:04.506Z"
   },
   {
    "duration": 4,
    "start_time": "2022-10-10T09:03:10.775Z"
   },
   {
    "duration": 10,
    "start_time": "2022-10-10T09:03:24.277Z"
   },
   {
    "duration": 5,
    "start_time": "2022-10-10T09:08:37.754Z"
   },
   {
    "duration": 5,
    "start_time": "2022-10-10T09:08:48.805Z"
   },
   {
    "duration": 4,
    "start_time": "2022-10-10T09:08:49.787Z"
   },
   {
    "duration": 5,
    "start_time": "2022-10-10T09:08:51.224Z"
   },
   {
    "duration": 609,
    "start_time": "2022-10-10T09:09:02.723Z"
   },
   {
    "duration": 90,
    "start_time": "2022-10-10T09:09:03.334Z"
   },
   {
    "duration": 26,
    "start_time": "2022-10-10T09:09:03.426Z"
   },
   {
    "duration": 4,
    "start_time": "2022-10-10T09:09:03.454Z"
   },
   {
    "duration": 23,
    "start_time": "2022-10-10T09:09:03.460Z"
   },
   {
    "duration": 1995,
    "start_time": "2022-10-10T09:09:03.485Z"
   },
   {
    "duration": 65,
    "start_time": "2022-10-10T09:09:05.482Z"
   },
   {
    "duration": 8,
    "start_time": "2022-10-10T09:09:05.548Z"
   },
   {
    "duration": 4,
    "start_time": "2022-10-10T09:09:05.558Z"
   },
   {
    "duration": 11,
    "start_time": "2022-10-10T09:09:05.564Z"
   },
   {
    "duration": 24,
    "start_time": "2022-10-10T09:09:05.576Z"
   },
   {
    "duration": 4,
    "start_time": "2022-10-10T09:09:05.602Z"
   },
   {
    "duration": 12,
    "start_time": "2022-10-10T09:09:05.607Z"
   },
   {
    "duration": 4,
    "start_time": "2022-10-10T09:09:08.126Z"
   },
   {
    "duration": 3,
    "start_time": "2022-10-10T09:09:10.732Z"
   },
   {
    "duration": 3,
    "start_time": "2022-10-10T09:09:13.811Z"
   },
   {
    "duration": 2,
    "start_time": "2022-10-10T09:09:32.386Z"
   },
   {
    "duration": 82,
    "start_time": "2022-10-10T09:09:32.782Z"
   },
   {
    "duration": 22,
    "start_time": "2022-10-10T09:09:33.299Z"
   },
   {
    "duration": 3,
    "start_time": "2022-10-10T09:09:33.900Z"
   },
   {
    "duration": 13,
    "start_time": "2022-10-10T09:09:34.302Z"
   },
   {
    "duration": 1932,
    "start_time": "2022-10-10T09:09:34.711Z"
   },
   {
    "duration": 75,
    "start_time": "2022-10-10T09:09:36.645Z"
   },
   {
    "duration": 9,
    "start_time": "2022-10-10T09:09:36.722Z"
   },
   {
    "duration": 4,
    "start_time": "2022-10-10T09:09:37.566Z"
   },
   {
    "duration": 5,
    "start_time": "2022-10-10T09:09:43.601Z"
   },
   {
    "duration": 4,
    "start_time": "2022-10-10T09:09:53.888Z"
   },
   {
    "duration": 3,
    "start_time": "2022-10-10T09:11:02.835Z"
   },
   {
    "duration": 6,
    "start_time": "2022-10-10T09:11:03.155Z"
   },
   {
    "duration": 4,
    "start_time": "2022-10-10T09:11:58.029Z"
   },
   {
    "duration": 4,
    "start_time": "2022-10-10T09:12:00.988Z"
   },
   {
    "duration": 6,
    "start_time": "2022-10-10T09:12:37.053Z"
   },
   {
    "duration": 4,
    "start_time": "2022-10-10T09:12:56.038Z"
   },
   {
    "duration": 4,
    "start_time": "2022-10-10T09:13:12.473Z"
   },
   {
    "duration": 4,
    "start_time": "2022-10-10T09:13:16.608Z"
   },
   {
    "duration": 6,
    "start_time": "2022-10-10T09:13:37.287Z"
   },
   {
    "duration": 5,
    "start_time": "2022-10-10T09:13:49.094Z"
   },
   {
    "duration": 5,
    "start_time": "2022-10-10T09:13:57.573Z"
   },
   {
    "duration": 3,
    "start_time": "2022-10-10T09:14:07.529Z"
   },
   {
    "duration": 3,
    "start_time": "2022-10-10T09:14:07.894Z"
   },
   {
    "duration": 4,
    "start_time": "2022-10-10T09:20:53.803Z"
   },
   {
    "duration": 4,
    "start_time": "2022-10-10T09:20:59.697Z"
   },
   {
    "duration": 6,
    "start_time": "2022-10-10T09:21:06.465Z"
   },
   {
    "duration": 3,
    "start_time": "2022-10-10T09:21:12.839Z"
   },
   {
    "duration": 4,
    "start_time": "2022-10-10T09:21:20.625Z"
   },
   {
    "duration": 4,
    "start_time": "2022-10-10T09:21:23.851Z"
   },
   {
    "duration": 3,
    "start_time": "2022-10-10T09:21:47.789Z"
   },
   {
    "duration": 3,
    "start_time": "2022-10-10T09:22:05.091Z"
   },
   {
    "duration": 4,
    "start_time": "2022-10-10T09:22:08.024Z"
   },
   {
    "duration": 4,
    "start_time": "2022-10-10T09:22:12.812Z"
   },
   {
    "duration": 1908,
    "start_time": "2022-10-10T09:25:29.863Z"
   },
   {
    "duration": 4,
    "start_time": "2022-10-10T09:25:52.957Z"
   },
   {
    "duration": 6,
    "start_time": "2022-10-10T13:05:09.375Z"
   },
   {
    "duration": 5,
    "start_time": "2022-10-10T13:06:12.042Z"
   },
   {
    "duration": 7,
    "start_time": "2022-10-10T13:06:14.838Z"
   },
   {
    "duration": 5,
    "start_time": "2022-10-10T13:07:59.579Z"
   },
   {
    "duration": 1582,
    "start_time": "2022-10-10T13:08:03.243Z"
   },
   {
    "duration": 751,
    "start_time": "2022-10-10T13:08:22.237Z"
   },
   {
    "duration": 728,
    "start_time": "2022-10-10T13:08:30.116Z"
   },
   {
    "duration": 89,
    "start_time": "2022-10-10T13:08:30.846Z"
   },
   {
    "duration": 25,
    "start_time": "2022-10-10T13:08:30.937Z"
   },
   {
    "duration": 7,
    "start_time": "2022-10-10T13:08:30.964Z"
   },
   {
    "duration": 18,
    "start_time": "2022-10-10T13:08:30.972Z"
   },
   {
    "duration": 1906,
    "start_time": "2022-10-10T13:08:30.992Z"
   },
   {
    "duration": 74,
    "start_time": "2022-10-10T13:08:32.900Z"
   },
   {
    "duration": 9,
    "start_time": "2022-10-10T13:08:32.976Z"
   },
   {
    "duration": 7,
    "start_time": "2022-10-10T13:08:32.986Z"
   },
   {
    "duration": 17,
    "start_time": "2022-10-10T13:08:32.997Z"
   },
   {
    "duration": 8,
    "start_time": "2022-10-10T13:08:33.016Z"
   },
   {
    "duration": 13,
    "start_time": "2022-10-10T13:08:33.026Z"
   },
   {
    "duration": 4,
    "start_time": "2022-10-10T13:08:33.040Z"
   },
   {
    "duration": 8,
    "start_time": "2022-10-10T13:08:33.046Z"
   },
   {
    "duration": 7,
    "start_time": "2022-10-10T13:08:33.056Z"
   },
   {
    "duration": 21,
    "start_time": "2022-10-10T13:08:33.065Z"
   },
   {
    "duration": 7,
    "start_time": "2022-10-10T13:08:33.088Z"
   },
   {
    "duration": 4,
    "start_time": "2022-10-10T13:08:51.340Z"
   },
   {
    "duration": 4,
    "start_time": "2022-10-10T13:10:05.471Z"
   },
   {
    "duration": 5,
    "start_time": "2022-10-10T13:10:08.621Z"
   },
   {
    "duration": 3,
    "start_time": "2022-10-10T13:10:10.881Z"
   },
   {
    "duration": 6,
    "start_time": "2022-10-10T13:10:11.167Z"
   },
   {
    "duration": 7,
    "start_time": "2022-10-10T13:10:52.997Z"
   },
   {
    "duration": 6,
    "start_time": "2022-10-10T13:10:53.847Z"
   },
   {
    "duration": 4,
    "start_time": "2022-10-10T13:10:57.172Z"
   },
   {
    "duration": 5,
    "start_time": "2022-10-10T13:10:58.560Z"
   },
   {
    "duration": 639,
    "start_time": "2022-10-10T13:11:06.089Z"
   },
   {
    "duration": 88,
    "start_time": "2022-10-10T13:11:06.730Z"
   },
   {
    "duration": 26,
    "start_time": "2022-10-10T13:11:06.819Z"
   },
   {
    "duration": 4,
    "start_time": "2022-10-10T13:11:06.846Z"
   },
   {
    "duration": 18,
    "start_time": "2022-10-10T13:11:06.851Z"
   },
   {
    "duration": 1941,
    "start_time": "2022-10-10T13:11:06.871Z"
   },
   {
    "duration": 64,
    "start_time": "2022-10-10T13:11:08.814Z"
   },
   {
    "duration": 8,
    "start_time": "2022-10-10T13:11:08.879Z"
   },
   {
    "duration": 21,
    "start_time": "2022-10-10T13:11:08.888Z"
   },
   {
    "duration": 4,
    "start_time": "2022-10-10T13:11:08.911Z"
   },
   {
    "duration": 5,
    "start_time": "2022-10-10T13:11:08.917Z"
   },
   {
    "duration": 6,
    "start_time": "2022-10-10T13:11:08.924Z"
   },
   {
    "duration": 10,
    "start_time": "2022-10-10T13:11:08.931Z"
   },
   {
    "duration": 5,
    "start_time": "2022-10-10T13:11:08.942Z"
   },
   {
    "duration": 10,
    "start_time": "2022-10-10T13:11:08.949Z"
   },
   {
    "duration": 12,
    "start_time": "2022-10-10T13:11:08.960Z"
   },
   {
    "duration": 5,
    "start_time": "2022-10-10T13:11:08.973Z"
   },
   {
    "duration": 30,
    "start_time": "2022-10-10T13:11:08.979Z"
   },
   {
    "duration": 5,
    "start_time": "2022-10-10T13:19:46.288Z"
   },
   {
    "duration": 5,
    "start_time": "2022-10-10T13:19:46.793Z"
   },
   {
    "duration": 4,
    "start_time": "2022-10-10T13:19:58.061Z"
   },
   {
    "duration": 5,
    "start_time": "2022-10-10T13:20:01.428Z"
   },
   {
    "duration": 6,
    "start_time": "2022-10-10T13:20:12.259Z"
   },
   {
    "duration": 75,
    "start_time": "2022-10-10T13:20:17.822Z"
   },
   {
    "duration": 7,
    "start_time": "2022-10-10T13:20:26.173Z"
   },
   {
    "duration": 14,
    "start_time": "2022-10-10T13:22:53.430Z"
   },
   {
    "duration": 10,
    "start_time": "2022-10-10T13:23:08.135Z"
   },
   {
    "duration": 5,
    "start_time": "2022-10-10T13:23:08.940Z"
   },
   {
    "duration": 8,
    "start_time": "2022-10-10T13:24:18.091Z"
   },
   {
    "duration": 5,
    "start_time": "2022-10-10T13:24:20.853Z"
   },
   {
    "duration": 8,
    "start_time": "2022-10-10T13:25:22.327Z"
   },
   {
    "duration": 146,
    "start_time": "2022-10-10T13:31:34.401Z"
   },
   {
    "duration": 12,
    "start_time": "2022-10-10T13:33:27.653Z"
   },
   {
    "duration": 983,
    "start_time": "2022-10-10T13:40:22.836Z"
   },
   {
    "duration": 980,
    "start_time": "2022-10-10T13:40:40.492Z"
   },
   {
    "duration": 10,
    "start_time": "2022-10-10T13:40:44.880Z"
   },
   {
    "duration": 11,
    "start_time": "2022-10-10T13:41:05.619Z"
   },
   {
    "duration": 11,
    "start_time": "2022-10-10T13:41:28.978Z"
   },
   {
    "duration": 13,
    "start_time": "2022-10-10T13:42:10.661Z"
   },
   {
    "duration": 14,
    "start_time": "2022-10-10T13:42:14.651Z"
   },
   {
    "duration": 22,
    "start_time": "2022-10-10T13:42:28.082Z"
   },
   {
    "duration": 14,
    "start_time": "2022-10-10T13:43:26.077Z"
   },
   {
    "duration": 11,
    "start_time": "2022-10-10T13:43:42.708Z"
   },
   {
    "duration": 12,
    "start_time": "2022-10-10T13:44:01.201Z"
   },
   {
    "duration": 13,
    "start_time": "2022-10-10T13:46:26.759Z"
   },
   {
    "duration": 8,
    "start_time": "2022-10-10T13:46:35.126Z"
   },
   {
    "duration": 32,
    "start_time": "2022-10-10T13:46:39.526Z"
   },
   {
    "duration": 5,
    "start_time": "2022-10-10T13:46:46.081Z"
   },
   {
    "duration": 6,
    "start_time": "2022-10-10T13:47:00.593Z"
   },
   {
    "duration": 607,
    "start_time": "2022-10-10T13:47:07.127Z"
   },
   {
    "duration": 89,
    "start_time": "2022-10-10T13:47:07.737Z"
   },
   {
    "duration": 26,
    "start_time": "2022-10-10T13:47:07.827Z"
   },
   {
    "duration": 3,
    "start_time": "2022-10-10T13:47:07.855Z"
   },
   {
    "duration": 15,
    "start_time": "2022-10-10T13:47:07.859Z"
   },
   {
    "duration": 1912,
    "start_time": "2022-10-10T13:47:07.876Z"
   },
   {
    "duration": 67,
    "start_time": "2022-10-10T13:47:09.790Z"
   },
   {
    "duration": 8,
    "start_time": "2022-10-10T13:47:09.858Z"
   },
   {
    "duration": 8,
    "start_time": "2022-10-10T13:47:09.867Z"
   },
   {
    "duration": 5,
    "start_time": "2022-10-10T13:47:09.877Z"
   },
   {
    "duration": 7,
    "start_time": "2022-10-10T13:47:09.883Z"
   },
   {
    "duration": 20,
    "start_time": "2022-10-10T13:47:09.891Z"
   },
   {
    "duration": 5,
    "start_time": "2022-10-10T13:47:09.913Z"
   },
   {
    "duration": 7,
    "start_time": "2022-10-10T13:47:09.919Z"
   },
   {
    "duration": 5,
    "start_time": "2022-10-10T13:47:09.928Z"
   },
   {
    "duration": 4,
    "start_time": "2022-10-10T13:47:09.934Z"
   },
   {
    "duration": 11,
    "start_time": "2022-10-10T13:47:09.939Z"
   },
   {
    "duration": 12,
    "start_time": "2022-10-10T13:47:09.951Z"
   },
   {
    "duration": 12,
    "start_time": "2022-10-10T13:47:09.964Z"
   },
   {
    "duration": 15,
    "start_time": "2022-10-10T13:47:09.978Z"
   },
   {
    "duration": 20,
    "start_time": "2022-10-10T13:47:09.994Z"
   },
   {
    "duration": 34,
    "start_time": "2022-10-10T13:47:10.015Z"
   },
   {
    "duration": 5,
    "start_time": "2022-10-10T13:47:10.050Z"
   },
   {
    "duration": 81,
    "start_time": "2022-10-10T13:49:18.646Z"
   },
   {
    "duration": 11,
    "start_time": "2022-10-10T13:50:42.791Z"
   },
   {
    "duration": 11,
    "start_time": "2022-10-10T13:50:44.171Z"
   },
   {
    "duration": 10,
    "start_time": "2022-10-10T13:50:48.341Z"
   },
   {
    "duration": 12,
    "start_time": "2022-10-10T13:50:50.857Z"
   },
   {
    "duration": 6,
    "start_time": "2022-10-10T13:50:51.796Z"
   },
   {
    "duration": 11,
    "start_time": "2022-10-10T13:51:22.381Z"
   },
   {
    "duration": 11,
    "start_time": "2022-10-10T13:52:08.192Z"
   },
   {
    "duration": 12,
    "start_time": "2022-10-10T13:52:11.051Z"
   },
   {
    "duration": 60,
    "start_time": "2022-10-10T18:26:11.596Z"
   },
   {
    "duration": 921,
    "start_time": "2022-10-10T18:26:15.748Z"
   },
   {
    "duration": 363,
    "start_time": "2022-10-10T18:26:16.672Z"
   },
   {
    "duration": 36,
    "start_time": "2022-10-10T18:26:17.037Z"
   },
   {
    "duration": 5,
    "start_time": "2022-10-10T18:26:17.076Z"
   },
   {
    "duration": 43,
    "start_time": "2022-10-10T18:26:17.083Z"
   },
   {
    "duration": 2428,
    "start_time": "2022-10-10T18:26:17.129Z"
   },
   {
    "duration": 74,
    "start_time": "2022-10-10T18:26:19.560Z"
   },
   {
    "duration": 10,
    "start_time": "2022-10-10T18:26:19.637Z"
   },
   {
    "duration": 10,
    "start_time": "2022-10-10T18:26:19.649Z"
   },
   {
    "duration": 8,
    "start_time": "2022-10-10T18:26:19.660Z"
   },
   {
    "duration": 13,
    "start_time": "2022-10-10T18:26:19.671Z"
   },
   {
    "duration": 28,
    "start_time": "2022-10-10T18:26:19.687Z"
   },
   {
    "duration": 4,
    "start_time": "2022-10-10T18:26:19.733Z"
   },
   {
    "duration": 10,
    "start_time": "2022-10-10T18:26:19.740Z"
   },
   {
    "duration": 20,
    "start_time": "2022-10-10T18:26:19.752Z"
   },
   {
    "duration": 5,
    "start_time": "2022-10-10T18:26:19.882Z"
   },
   {
    "duration": 5,
    "start_time": "2022-10-10T18:26:20.025Z"
   },
   {
    "duration": 13,
    "start_time": "2022-10-10T18:26:21.433Z"
   },
   {
    "duration": 24,
    "start_time": "2022-10-10T18:26:28.382Z"
   },
   {
    "duration": 8,
    "start_time": "2022-10-10T18:26:30.275Z"
   },
   {
    "duration": 47,
    "start_time": "2022-10-10T18:26:30.958Z"
   },
   {
    "duration": 7,
    "start_time": "2022-10-10T18:26:39.279Z"
   },
   {
    "duration": 12,
    "start_time": "2022-10-10T18:26:53.269Z"
   },
   {
    "duration": 12,
    "start_time": "2022-10-10T18:26:54.948Z"
   },
   {
    "duration": 13,
    "start_time": "2022-10-10T18:26:55.336Z"
   },
   {
    "duration": 7,
    "start_time": "2022-10-10T18:26:55.991Z"
   },
   {
    "duration": 6,
    "start_time": "2022-10-10T18:30:04.666Z"
   },
   {
    "duration": 5,
    "start_time": "2022-10-10T18:30:07.972Z"
   },
   {
    "duration": 9,
    "start_time": "2022-10-10T18:30:31.172Z"
   },
   {
    "duration": 8,
    "start_time": "2022-10-10T18:30:33.333Z"
   },
   {
    "duration": 9,
    "start_time": "2022-10-10T18:30:36.517Z"
   },
   {
    "duration": 7,
    "start_time": "2022-10-10T18:30:39.571Z"
   },
   {
    "duration": 8,
    "start_time": "2022-10-10T18:30:49.830Z"
   },
   {
    "duration": 6,
    "start_time": "2022-10-10T18:31:11.290Z"
   },
   {
    "duration": 26,
    "start_time": "2022-10-10T18:31:31.234Z"
   },
   {
    "duration": 11,
    "start_time": "2022-10-10T18:32:35.397Z"
   },
   {
    "duration": 7,
    "start_time": "2022-10-10T18:32:35.920Z"
   },
   {
    "duration": 5,
    "start_time": "2022-10-10T18:32:37.480Z"
   },
   {
    "duration": 1589,
    "start_time": "2022-10-10T18:33:03.309Z"
   },
   {
    "duration": 6,
    "start_time": "2022-10-10T18:33:07.836Z"
   },
   {
    "duration": 15,
    "start_time": "2022-10-10T18:35:18.764Z"
   },
   {
    "duration": 6,
    "start_time": "2022-10-10T18:35:55.109Z"
   },
   {
    "duration": 6,
    "start_time": "2022-10-10T18:36:11.531Z"
   },
   {
    "duration": 55,
    "start_time": "2022-10-10T19:04:31.028Z"
   },
   {
    "duration": 721,
    "start_time": "2022-10-10T19:04:36.874Z"
   },
   {
    "duration": 313,
    "start_time": "2022-10-10T19:04:37.597Z"
   },
   {
    "duration": 27,
    "start_time": "2022-10-10T19:04:37.911Z"
   },
   {
    "duration": 3,
    "start_time": "2022-10-10T19:04:38.651Z"
   },
   {
    "duration": 18,
    "start_time": "2022-10-10T19:04:39.068Z"
   },
   {
    "duration": 2027,
    "start_time": "2022-10-10T19:04:39.653Z"
   },
   {
    "duration": 75,
    "start_time": "2022-10-10T19:04:41.682Z"
   },
   {
    "duration": 4,
    "start_time": "2022-10-10T19:04:41.985Z"
   },
   {
    "duration": 13,
    "start_time": "2022-10-10T19:04:52.324Z"
   },
   {
    "duration": 9,
    "start_time": "2022-10-10T19:05:32.494Z"
   },
   {
    "duration": 8,
    "start_time": "2022-10-10T19:05:34.386Z"
   },
   {
    "duration": 7,
    "start_time": "2022-10-10T19:07:27.553Z"
   },
   {
    "duration": 11,
    "start_time": "2022-10-10T19:07:28.880Z"
   },
   {
    "duration": 6,
    "start_time": "2022-10-10T19:07:29.309Z"
   },
   {
    "duration": 6,
    "start_time": "2022-10-10T19:07:33.186Z"
   },
   {
    "duration": 6,
    "start_time": "2022-10-10T19:07:33.727Z"
   },
   {
    "duration": 3,
    "start_time": "2022-10-10T19:07:35.469Z"
   },
   {
    "duration": 4,
    "start_time": "2022-10-10T19:07:36.797Z"
   },
   {
    "duration": 5,
    "start_time": "2022-10-10T19:07:39.754Z"
   },
   {
    "duration": 3,
    "start_time": "2022-10-10T19:07:50.035Z"
   },
   {
    "duration": 3,
    "start_time": "2022-10-10T19:07:51.599Z"
   },
   {
    "duration": 8,
    "start_time": "2022-10-10T19:12:06.796Z"
   },
   {
    "duration": 5,
    "start_time": "2022-10-10T19:12:07.742Z"
   },
   {
    "duration": 8,
    "start_time": "2022-10-10T19:12:13.858Z"
   },
   {
    "duration": 8,
    "start_time": "2022-10-10T19:12:14.177Z"
   },
   {
    "duration": 4,
    "start_time": "2022-10-10T19:12:14.494Z"
   },
   {
    "duration": 3,
    "start_time": "2022-10-10T19:12:15.199Z"
   },
   {
    "duration": 4,
    "start_time": "2022-10-10T19:12:15.437Z"
   },
   {
    "duration": 3,
    "start_time": "2022-10-10T19:12:16.174Z"
   },
   {
    "duration": 4,
    "start_time": "2022-10-10T19:12:16.484Z"
   },
   {
    "duration": 4,
    "start_time": "2022-10-10T19:12:17.105Z"
   },
   {
    "duration": 3,
    "start_time": "2022-10-10T19:12:18.461Z"
   },
   {
    "duration": 4,
    "start_time": "2022-10-10T19:12:18.773Z"
   },
   {
    "duration": 67,
    "start_time": "2022-10-10T19:12:18.942Z"
   },
   {
    "duration": 12,
    "start_time": "2022-10-10T19:12:19.895Z"
   },
   {
    "duration": 36,
    "start_time": "2022-10-10T19:15:32.892Z"
   },
   {
    "duration": 9,
    "start_time": "2022-10-10T19:15:51.064Z"
   },
   {
    "duration": 19,
    "start_time": "2022-10-10T19:15:58.687Z"
   },
   {
    "duration": 50,
    "start_time": "2022-10-10T19:16:42.940Z"
   },
   {
    "duration": 176,
    "start_time": "2022-10-10T19:19:29.051Z"
   },
   {
    "duration": 9,
    "start_time": "2022-10-10T19:19:42.599Z"
   },
   {
    "duration": 62,
    "start_time": "2022-10-10T19:19:54.489Z"
   },
   {
    "duration": 4,
    "start_time": "2022-10-10T19:19:59.339Z"
   },
   {
    "duration": 170,
    "start_time": "2022-10-10T19:20:08.553Z"
   },
   {
    "duration": 177,
    "start_time": "2022-10-10T19:20:41.917Z"
   },
   {
    "duration": 170,
    "start_time": "2022-10-10T19:20:51.827Z"
   },
   {
    "duration": 10,
    "start_time": "2022-10-10T19:20:56.567Z"
   },
   {
    "duration": 7,
    "start_time": "2022-10-10T19:21:20.969Z"
   },
   {
    "duration": 6,
    "start_time": "2022-10-10T19:24:04.956Z"
   },
   {
    "duration": 8,
    "start_time": "2022-10-10T19:24:08.845Z"
   },
   {
    "duration": 4,
    "start_time": "2022-10-10T19:24:16.029Z"
   },
   {
    "duration": 5,
    "start_time": "2022-10-10T19:24:54.837Z"
   },
   {
    "duration": 4,
    "start_time": "2022-10-10T19:25:53.045Z"
   },
   {
    "duration": 5,
    "start_time": "2022-10-10T19:26:20.192Z"
   },
   {
    "duration": 6,
    "start_time": "2022-10-10T19:27:28.249Z"
   },
   {
    "duration": 8,
    "start_time": "2022-10-10T19:27:43.577Z"
   },
   {
    "duration": 11,
    "start_time": "2022-10-10T19:27:57.258Z"
   },
   {
    "duration": 7,
    "start_time": "2022-10-10T19:27:58.145Z"
   },
   {
    "duration": 22,
    "start_time": "2022-10-10T19:28:08.853Z"
   },
   {
    "duration": 4,
    "start_time": "2022-10-10T19:30:35.363Z"
   },
   {
    "duration": 13,
    "start_time": "2022-10-10T19:30:36.107Z"
   },
   {
    "duration": 7,
    "start_time": "2022-10-10T19:30:37.252Z"
   },
   {
    "duration": 5,
    "start_time": "2022-10-10T19:30:38.393Z"
   },
   {
    "duration": 3,
    "start_time": "2022-10-10T19:30:39.376Z"
   },
   {
    "duration": 4,
    "start_time": "2022-10-10T19:30:39.672Z"
   },
   {
    "duration": 4,
    "start_time": "2022-10-10T19:30:40.051Z"
   },
   {
    "duration": 5,
    "start_time": "2022-10-10T19:30:40.196Z"
   },
   {
    "duration": 5,
    "start_time": "2022-10-10T19:30:40.345Z"
   },
   {
    "duration": 3,
    "start_time": "2022-10-10T19:30:40.673Z"
   },
   {
    "duration": 4,
    "start_time": "2022-10-10T19:30:40.962Z"
   },
   {
    "duration": 7,
    "start_time": "2022-10-10T19:30:41.158Z"
   },
   {
    "duration": 209,
    "start_time": "2022-10-10T19:30:41.350Z"
   },
   {
    "duration": 732,
    "start_time": "2022-10-10T19:30:50.361Z"
   },
   {
    "duration": 125,
    "start_time": "2022-10-10T19:30:51.096Z"
   },
   {
    "duration": 42,
    "start_time": "2022-10-10T19:30:51.229Z"
   },
   {
    "duration": 4,
    "start_time": "2022-10-10T19:30:51.273Z"
   },
   {
    "duration": 17,
    "start_time": "2022-10-10T19:30:51.279Z"
   },
   {
    "duration": 2624,
    "start_time": "2022-10-10T19:30:51.297Z"
   },
   {
    "duration": 112,
    "start_time": "2022-10-10T19:30:53.924Z"
   },
   {
    "duration": 17,
    "start_time": "2022-10-10T19:30:54.038Z"
   },
   {
    "duration": 44,
    "start_time": "2022-10-10T19:30:54.057Z"
   },
   {
    "duration": 72,
    "start_time": "2022-10-10T19:30:54.104Z"
   },
   {
    "duration": 20,
    "start_time": "2022-10-10T19:30:54.181Z"
   },
   {
    "duration": 72,
    "start_time": "2022-10-10T19:30:54.203Z"
   },
   {
    "duration": 14,
    "start_time": "2022-10-10T19:30:54.278Z"
   },
   {
    "duration": 18,
    "start_time": "2022-10-10T19:30:54.296Z"
   },
   {
    "duration": 50,
    "start_time": "2022-10-10T19:30:54.316Z"
   },
   {
    "duration": 21,
    "start_time": "2022-10-10T19:30:54.367Z"
   },
   {
    "duration": 19,
    "start_time": "2022-10-10T19:30:54.390Z"
   },
   {
    "duration": 54,
    "start_time": "2022-10-10T19:30:54.413Z"
   },
   {
    "duration": 19,
    "start_time": "2022-10-10T19:30:54.469Z"
   },
   {
    "duration": 114,
    "start_time": "2022-10-10T19:30:54.489Z"
   },
   {
    "duration": 0,
    "start_time": "2022-10-10T19:30:54.605Z"
   },
   {
    "duration": 0,
    "start_time": "2022-10-10T19:30:54.606Z"
   },
   {
    "duration": 0,
    "start_time": "2022-10-10T19:30:54.607Z"
   },
   {
    "duration": 0,
    "start_time": "2022-10-10T19:30:54.608Z"
   },
   {
    "duration": 0,
    "start_time": "2022-10-10T19:30:54.610Z"
   },
   {
    "duration": 0,
    "start_time": "2022-10-10T19:30:54.611Z"
   },
   {
    "duration": 256,
    "start_time": "2022-10-10T19:31:13.749Z"
   },
   {
    "duration": 20,
    "start_time": "2022-10-10T19:31:18.423Z"
   },
   {
    "duration": 45,
    "start_time": "2022-10-10T19:33:21.854Z"
   },
   {
    "duration": 4,
    "start_time": "2022-10-10T19:33:43.407Z"
   },
   {
    "duration": 62,
    "start_time": "2022-10-10T19:33:52.594Z"
   },
   {
    "duration": 65,
    "start_time": "2022-10-10T19:36:08.771Z"
   },
   {
    "duration": 608,
    "start_time": "2022-10-10T19:36:18.843Z"
   },
   {
    "duration": 92,
    "start_time": "2022-10-10T19:36:19.453Z"
   },
   {
    "duration": 27,
    "start_time": "2022-10-10T19:36:19.547Z"
   },
   {
    "duration": 6,
    "start_time": "2022-10-10T19:36:19.576Z"
   },
   {
    "duration": 26,
    "start_time": "2022-10-10T19:36:19.584Z"
   },
   {
    "duration": 2110,
    "start_time": "2022-10-10T19:36:19.611Z"
   },
   {
    "duration": 80,
    "start_time": "2022-10-10T19:36:21.727Z"
   },
   {
    "duration": 33,
    "start_time": "2022-10-10T19:36:21.809Z"
   },
   {
    "duration": 13,
    "start_time": "2022-10-10T19:36:21.844Z"
   },
   {
    "duration": 12,
    "start_time": "2022-10-10T19:36:21.860Z"
   },
   {
    "duration": 9,
    "start_time": "2022-10-10T19:36:21.874Z"
   },
   {
    "duration": 5,
    "start_time": "2022-10-10T19:36:21.884Z"
   },
   {
    "duration": 12,
    "start_time": "2022-10-10T19:36:21.891Z"
   },
   {
    "duration": 11,
    "start_time": "2022-10-10T19:36:21.904Z"
   },
   {
    "duration": 10,
    "start_time": "2022-10-10T19:36:21.916Z"
   },
   {
    "duration": 22,
    "start_time": "2022-10-10T19:36:21.928Z"
   },
   {
    "duration": 5,
    "start_time": "2022-10-10T19:36:21.952Z"
   },
   {
    "duration": 5,
    "start_time": "2022-10-10T19:36:21.959Z"
   },
   {
    "duration": 7,
    "start_time": "2022-10-10T19:36:21.966Z"
   },
   {
    "duration": 67,
    "start_time": "2022-10-10T19:36:21.975Z"
   },
   {
    "duration": 12,
    "start_time": "2022-10-10T19:36:22.044Z"
   },
   {
    "duration": 16,
    "start_time": "2022-10-10T19:36:22.058Z"
   },
   {
    "duration": 7,
    "start_time": "2022-10-10T19:36:22.076Z"
   },
   {
    "duration": 10,
    "start_time": "2022-10-10T19:36:22.085Z"
   },
   {
    "duration": 39,
    "start_time": "2022-10-10T19:36:22.096Z"
   },
   {
    "duration": 9,
    "start_time": "2022-10-10T19:36:52.057Z"
   },
   {
    "duration": 5,
    "start_time": "2022-10-10T19:37:08.436Z"
   },
   {
    "duration": 71,
    "start_time": "2022-10-10T19:37:13.925Z"
   },
   {
    "duration": 6,
    "start_time": "2022-10-10T19:37:18.293Z"
   },
   {
    "duration": 25,
    "start_time": "2022-10-10T19:37:24.211Z"
   },
   {
    "duration": 63,
    "start_time": "2022-10-10T19:38:49.899Z"
   },
   {
    "duration": 21,
    "start_time": "2022-10-10T19:38:50.980Z"
   },
   {
    "duration": 3,
    "start_time": "2022-10-10T19:38:54.101Z"
   },
   {
    "duration": 52,
    "start_time": "2022-10-10T19:38:54.454Z"
   },
   {
    "duration": 20,
    "start_time": "2022-10-10T19:38:54.872Z"
   },
   {
    "duration": 21,
    "start_time": "2022-10-10T19:39:02.452Z"
   },
   {
    "duration": 62,
    "start_time": "2022-10-10T19:39:07.609Z"
   },
   {
    "duration": 29,
    "start_time": "2022-10-10T19:39:08.256Z"
   },
   {
    "duration": 22,
    "start_time": "2022-10-10T19:39:12.268Z"
   },
   {
    "duration": 7,
    "start_time": "2022-10-10T19:47:15.408Z"
   },
   {
    "duration": 7,
    "start_time": "2022-10-10T19:48:14.545Z"
   },
   {
    "duration": 16,
    "start_time": "2022-10-10T19:48:40.302Z"
   },
   {
    "duration": 12,
    "start_time": "2022-10-10T19:49:15.264Z"
   },
   {
    "duration": 11,
    "start_time": "2022-10-10T19:54:51.696Z"
   },
   {
    "duration": 6,
    "start_time": "2022-10-10T19:54:52.382Z"
   },
   {
    "duration": 15,
    "start_time": "2022-10-10T19:54:52.780Z"
   },
   {
    "duration": 13,
    "start_time": "2022-10-10T19:55:52.935Z"
   },
   {
    "duration": 20,
    "start_time": "2022-10-10T19:57:09.495Z"
   },
   {
    "duration": 23,
    "start_time": "2022-10-10T19:57:16.372Z"
   },
   {
    "duration": 21,
    "start_time": "2022-10-10T19:57:48.236Z"
   },
   {
    "duration": 6,
    "start_time": "2022-10-10T19:58:28.403Z"
   },
   {
    "duration": 8,
    "start_time": "2022-10-10T19:58:44.815Z"
   },
   {
    "duration": 23,
    "start_time": "2022-10-10T19:58:58.932Z"
   },
   {
    "duration": 27,
    "start_time": "2022-10-10T20:04:52.191Z"
   },
   {
    "duration": 28,
    "start_time": "2022-10-10T20:04:53.964Z"
   },
   {
    "duration": 5,
    "start_time": "2022-10-10T20:09:36.936Z"
   },
   {
    "duration": 3,
    "start_time": "2022-10-10T20:09:41.145Z"
   },
   {
    "duration": 45,
    "start_time": "2022-10-11T10:34:42.772Z"
   },
   {
    "duration": 772,
    "start_time": "2022-10-11T10:34:46.688Z"
   },
   {
    "duration": 625,
    "start_time": "2022-10-11T10:34:47.463Z"
   },
   {
    "duration": 26,
    "start_time": "2022-10-11T10:34:48.090Z"
   },
   {
    "duration": 23,
    "start_time": "2022-10-11T10:34:48.118Z"
   },
   {
    "duration": 6,
    "start_time": "2022-10-11T10:34:48.142Z"
   },
   {
    "duration": 15,
    "start_time": "2022-10-11T10:34:48.361Z"
   },
   {
    "duration": 2029,
    "start_time": "2022-10-11T10:34:48.524Z"
   },
   {
    "duration": 71,
    "start_time": "2022-10-11T10:34:50.555Z"
   },
   {
    "duration": 8,
    "start_time": "2022-10-11T10:34:50.809Z"
   },
   {
    "duration": 3,
    "start_time": "2022-10-11T10:34:53.682Z"
   },
   {
    "duration": 8,
    "start_time": "2022-10-11T10:34:54.523Z"
   },
   {
    "duration": 10,
    "start_time": "2022-10-11T10:34:55.084Z"
   },
   {
    "duration": 7,
    "start_time": "2022-10-11T10:34:55.730Z"
   },
   {
    "duration": 5,
    "start_time": "2022-10-11T10:34:57.019Z"
   },
   {
    "duration": 5,
    "start_time": "2022-10-11T10:34:57.353Z"
   },
   {
    "duration": 4,
    "start_time": "2022-10-11T10:34:58.139Z"
   },
   {
    "duration": 5,
    "start_time": "2022-10-11T10:34:58.322Z"
   },
   {
    "duration": 4,
    "start_time": "2022-10-11T10:34:58.480Z"
   },
   {
    "duration": 4,
    "start_time": "2022-10-11T10:34:59.161Z"
   },
   {
    "duration": 4,
    "start_time": "2022-10-11T10:34:59.337Z"
   },
   {
    "duration": 4,
    "start_time": "2022-10-11T10:34:59.870Z"
   },
   {
    "duration": 12,
    "start_time": "2022-10-11T10:35:00.214Z"
   },
   {
    "duration": 14,
    "start_time": "2022-10-11T10:35:03.708Z"
   },
   {
    "duration": 7,
    "start_time": "2022-10-11T10:35:05.434Z"
   },
   {
    "duration": 8,
    "start_time": "2022-10-11T10:35:06.669Z"
   },
   {
    "duration": 14,
    "start_time": "2022-10-11T10:35:08.021Z"
   },
   {
    "duration": 19,
    "start_time": "2022-10-11T10:35:13.967Z"
   },
   {
    "duration": 14,
    "start_time": "2022-10-11T10:40:42.398Z"
   },
   {
    "duration": 7,
    "start_time": "2022-10-11T10:40:58.534Z"
   },
   {
    "duration": 5,
    "start_time": "2022-10-11T10:41:31.594Z"
   },
   {
    "duration": 35,
    "start_time": "2022-10-11T10:41:37.733Z"
   },
   {
    "duration": 8,
    "start_time": "2022-10-11T10:41:43.193Z"
   },
   {
    "duration": 7,
    "start_time": "2022-10-11T10:41:46.696Z"
   },
   {
    "duration": 17,
    "start_time": "2022-10-11T10:41:47.139Z"
   },
   {
    "duration": 6,
    "start_time": "2022-10-11T10:41:55.867Z"
   },
   {
    "duration": 650,
    "start_time": "2022-10-11T10:42:00.930Z"
   },
   {
    "duration": 93,
    "start_time": "2022-10-11T10:42:01.582Z"
   },
   {
    "duration": 27,
    "start_time": "2022-10-11T10:42:01.676Z"
   },
   {
    "duration": 36,
    "start_time": "2022-10-11T10:42:01.705Z"
   },
   {
    "duration": 4,
    "start_time": "2022-10-11T10:42:01.743Z"
   },
   {
    "duration": 28,
    "start_time": "2022-10-11T10:42:01.749Z"
   },
   {
    "duration": 2046,
    "start_time": "2022-10-11T10:42:01.779Z"
   },
   {
    "duration": 77,
    "start_time": "2022-10-11T10:42:03.827Z"
   },
   {
    "duration": 21,
    "start_time": "2022-10-11T10:42:03.906Z"
   },
   {
    "duration": 4,
    "start_time": "2022-10-11T10:42:03.929Z"
   },
   {
    "duration": 19,
    "start_time": "2022-10-11T10:42:03.934Z"
   },
   {
    "duration": 8,
    "start_time": "2022-10-11T10:42:03.955Z"
   },
   {
    "duration": 5,
    "start_time": "2022-10-11T10:42:03.965Z"
   },
   {
    "duration": 8,
    "start_time": "2022-10-11T10:42:03.972Z"
   },
   {
    "duration": 10,
    "start_time": "2022-10-11T10:42:03.982Z"
   },
   {
    "duration": 4,
    "start_time": "2022-10-11T10:42:03.993Z"
   },
   {
    "duration": 25,
    "start_time": "2022-10-11T10:42:03.998Z"
   },
   {
    "duration": 5,
    "start_time": "2022-10-11T10:42:04.024Z"
   },
   {
    "duration": 8,
    "start_time": "2022-10-11T10:42:04.030Z"
   },
   {
    "duration": 7,
    "start_time": "2022-10-11T10:42:04.039Z"
   },
   {
    "duration": 13,
    "start_time": "2022-10-11T10:42:04.048Z"
   },
   {
    "duration": 11,
    "start_time": "2022-10-11T10:42:04.063Z"
   },
   {
    "duration": 12,
    "start_time": "2022-10-11T10:42:04.075Z"
   },
   {
    "duration": 6,
    "start_time": "2022-10-11T10:42:04.089Z"
   },
   {
    "duration": 28,
    "start_time": "2022-10-11T10:42:04.097Z"
   },
   {
    "duration": 13,
    "start_time": "2022-10-11T10:42:04.127Z"
   },
   {
    "duration": 17,
    "start_time": "2022-10-11T10:42:04.142Z"
   },
   {
    "duration": 6,
    "start_time": "2022-10-11T10:42:04.162Z"
   },
   {
    "duration": 17,
    "start_time": "2022-10-11T10:42:04.169Z"
   },
   {
    "duration": 43,
    "start_time": "2022-10-11T10:42:04.188Z"
   },
   {
    "duration": 6,
    "start_time": "2022-10-11T10:42:04.233Z"
   },
   {
    "duration": 7,
    "start_time": "2022-10-11T10:42:04.240Z"
   },
   {
    "duration": 14,
    "start_time": "2022-10-11T10:43:53.977Z"
   },
   {
    "duration": 6,
    "start_time": "2022-10-11T10:44:07.957Z"
   },
   {
    "duration": 25,
    "start_time": "2022-10-11T10:45:34.262Z"
   },
   {
    "duration": 8,
    "start_time": "2022-10-11T10:45:35.430Z"
   },
   {
    "duration": 8,
    "start_time": "2022-10-11T10:45:48.083Z"
   },
   {
    "duration": 7,
    "start_time": "2022-10-11T10:47:57.403Z"
   },
   {
    "duration": 156,
    "start_time": "2022-10-11T10:48:36.980Z"
   },
   {
    "duration": 6,
    "start_time": "2022-10-11T10:49:01.821Z"
   },
   {
    "duration": 79,
    "start_time": "2022-10-11T10:50:04.971Z"
   },
   {
    "duration": 4,
    "start_time": "2022-10-11T10:50:20.040Z"
   },
   {
    "duration": 6,
    "start_time": "2022-10-11T10:50:22.031Z"
   },
   {
    "duration": 6,
    "start_time": "2022-10-11T10:50:37.553Z"
   },
   {
    "duration": 8,
    "start_time": "2022-10-11T10:51:20.909Z"
   },
   {
    "duration": 7,
    "start_time": "2022-10-11T10:51:30.040Z"
   },
   {
    "duration": 611,
    "start_time": "2022-10-11T10:51:39.930Z"
   },
   {
    "duration": 89,
    "start_time": "2022-10-11T10:51:40.544Z"
   },
   {
    "duration": 27,
    "start_time": "2022-10-11T10:51:40.635Z"
   },
   {
    "duration": 24,
    "start_time": "2022-10-11T10:51:40.664Z"
   },
   {
    "duration": 6,
    "start_time": "2022-10-11T10:51:40.689Z"
   },
   {
    "duration": 29,
    "start_time": "2022-10-11T10:51:40.721Z"
   },
   {
    "duration": 2068,
    "start_time": "2022-10-11T10:51:40.752Z"
   },
   {
    "duration": 72,
    "start_time": "2022-10-11T10:51:42.823Z"
   },
   {
    "duration": 28,
    "start_time": "2022-10-11T10:51:42.897Z"
   },
   {
    "duration": 3,
    "start_time": "2022-10-11T10:51:42.928Z"
   },
   {
    "duration": 11,
    "start_time": "2022-10-11T10:51:42.933Z"
   },
   {
    "duration": 11,
    "start_time": "2022-10-11T10:51:42.946Z"
   },
   {
    "duration": 6,
    "start_time": "2022-10-11T10:51:42.958Z"
   },
   {
    "duration": 9,
    "start_time": "2022-10-11T10:51:42.965Z"
   },
   {
    "duration": 10,
    "start_time": "2022-10-11T10:51:42.975Z"
   },
   {
    "duration": 6,
    "start_time": "2022-10-11T10:51:42.987Z"
   },
   {
    "duration": 30,
    "start_time": "2022-10-11T10:51:42.995Z"
   },
   {
    "duration": 6,
    "start_time": "2022-10-11T10:51:43.027Z"
   },
   {
    "duration": 4,
    "start_time": "2022-10-11T10:51:43.035Z"
   },
   {
    "duration": 6,
    "start_time": "2022-10-11T10:51:43.040Z"
   },
   {
    "duration": 12,
    "start_time": "2022-10-11T10:51:43.048Z"
   },
   {
    "duration": 11,
    "start_time": "2022-10-11T10:51:43.062Z"
   },
   {
    "duration": 17,
    "start_time": "2022-10-11T10:51:43.075Z"
   },
   {
    "duration": 29,
    "start_time": "2022-10-11T10:51:43.094Z"
   },
   {
    "duration": 13,
    "start_time": "2022-10-11T10:51:43.125Z"
   },
   {
    "duration": 14,
    "start_time": "2022-10-11T10:51:43.139Z"
   },
   {
    "duration": 20,
    "start_time": "2022-10-11T10:51:43.155Z"
   },
   {
    "duration": 18,
    "start_time": "2022-10-11T10:51:43.178Z"
   },
   {
    "duration": 25,
    "start_time": "2022-10-11T10:51:43.222Z"
   },
   {
    "duration": 10,
    "start_time": "2022-10-11T10:51:43.249Z"
   },
   {
    "duration": 10,
    "start_time": "2022-10-11T10:51:43.260Z"
   },
   {
    "duration": 7,
    "start_time": "2022-10-11T10:52:34.562Z"
   },
   {
    "duration": 107,
    "start_time": "2022-10-11T10:53:32.164Z"
   },
   {
    "duration": 974,
    "start_time": "2022-10-11T10:53:39.733Z"
   },
   {
    "duration": 45,
    "start_time": "2022-10-11T10:53:52.803Z"
   },
   {
    "duration": 110,
    "start_time": "2022-10-11T10:53:55.231Z"
   },
   {
    "duration": 195,
    "start_time": "2022-10-11T10:54:48.397Z"
   },
   {
    "duration": 22,
    "start_time": "2022-10-11T10:54:52.790Z"
   },
   {
    "duration": 6,
    "start_time": "2022-10-11T10:57:45.969Z"
   },
   {
    "duration": 7,
    "start_time": "2022-10-11T10:57:47.632Z"
   },
   {
    "duration": 2805,
    "start_time": "2022-10-11T10:57:54.924Z"
   },
   {
    "duration": 15,
    "start_time": "2022-10-11T10:58:04.830Z"
   },
   {
    "duration": 5,
    "start_time": "2022-10-11T10:58:25.119Z"
   },
   {
    "duration": 9,
    "start_time": "2022-10-11T10:59:24.854Z"
   },
   {
    "duration": 10,
    "start_time": "2022-10-11T10:59:40.567Z"
   },
   {
    "duration": 7,
    "start_time": "2022-10-11T11:00:37.644Z"
   },
   {
    "duration": 51,
    "start_time": "2022-10-11T11:01:18.980Z"
   },
   {
    "duration": 37,
    "start_time": "2022-10-11T11:01:53.345Z"
   },
   {
    "duration": 62,
    "start_time": "2022-10-11T11:05:36.440Z"
   },
   {
    "duration": 7,
    "start_time": "2022-10-11T11:09:31.462Z"
   },
   {
    "duration": 7,
    "start_time": "2022-10-11T11:09:46.962Z"
   },
   {
    "duration": 7,
    "start_time": "2022-10-11T11:11:51.996Z"
   },
   {
    "duration": 8,
    "start_time": "2022-10-11T11:12:01.443Z"
   },
   {
    "duration": 123,
    "start_time": "2022-10-11T11:12:20.499Z"
   },
   {
    "duration": 127,
    "start_time": "2022-10-11T11:12:44.915Z"
   },
   {
    "duration": 77,
    "start_time": "2022-10-11T11:13:01.796Z"
   },
   {
    "duration": 146,
    "start_time": "2022-10-11T11:13:05.049Z"
   },
   {
    "duration": 159,
    "start_time": "2022-10-11T11:13:09.155Z"
   },
   {
    "duration": 8,
    "start_time": "2022-10-11T11:13:37.746Z"
   },
   {
    "duration": 80,
    "start_time": "2022-10-11T11:13:50.300Z"
   },
   {
    "duration": 63,
    "start_time": "2022-10-11T11:13:57.572Z"
   },
   {
    "duration": 38,
    "start_time": "2022-10-11T11:14:04.527Z"
   },
   {
    "duration": 53,
    "start_time": "2022-10-11T11:14:17.038Z"
   },
   {
    "duration": 45,
    "start_time": "2022-10-11T11:20:42.039Z"
   },
   {
    "duration": 3,
    "start_time": "2022-10-11T11:22:46.218Z"
   },
   {
    "duration": 6,
    "start_time": "2022-10-11T11:22:47.301Z"
   },
   {
    "duration": 989,
    "start_time": "2022-10-11T11:22:53.688Z"
   },
   {
    "duration": 8,
    "start_time": "2022-10-11T11:23:05.533Z"
   },
   {
    "duration": 7,
    "start_time": "2022-10-11T11:23:13.462Z"
   },
   {
    "duration": 3,
    "start_time": "2022-10-11T11:23:40.225Z"
   },
   {
    "duration": 12,
    "start_time": "2022-10-11T11:23:40.605Z"
   },
   {
    "duration": 7,
    "start_time": "2022-10-11T11:23:41.023Z"
   },
   {
    "duration": 7,
    "start_time": "2022-10-11T11:23:42.592Z"
   },
   {
    "duration": 619,
    "start_time": "2022-10-11T11:23:47.736Z"
   },
   {
    "duration": 95,
    "start_time": "2022-10-11T11:23:48.357Z"
   },
   {
    "duration": 33,
    "start_time": "2022-10-11T11:23:48.454Z"
   },
   {
    "duration": 34,
    "start_time": "2022-10-11T11:23:48.489Z"
   },
   {
    "duration": 3,
    "start_time": "2022-10-11T11:23:48.524Z"
   },
   {
    "duration": 18,
    "start_time": "2022-10-11T11:23:48.529Z"
   },
   {
    "duration": 2303,
    "start_time": "2022-10-11T11:23:48.548Z"
   },
   {
    "duration": 9,
    "start_time": "2022-10-11T11:23:50.853Z"
   },
   {
    "duration": 5,
    "start_time": "2022-10-11T11:23:50.863Z"
   },
   {
    "duration": 12,
    "start_time": "2022-10-11T11:23:50.870Z"
   },
   {
    "duration": 13,
    "start_time": "2022-10-11T11:23:50.884Z"
   },
   {
    "duration": 7,
    "start_time": "2022-10-11T11:23:50.898Z"
   },
   {
    "duration": 13,
    "start_time": "2022-10-11T11:23:50.906Z"
   },
   {
    "duration": 29,
    "start_time": "2022-10-11T11:23:50.920Z"
   },
   {
    "duration": 7,
    "start_time": "2022-10-11T11:23:50.951Z"
   },
   {
    "duration": 7,
    "start_time": "2022-10-11T11:23:50.960Z"
   },
   {
    "duration": 11,
    "start_time": "2022-10-11T11:23:50.969Z"
   },
   {
    "duration": 6,
    "start_time": "2022-10-11T11:23:50.982Z"
   },
   {
    "duration": 6,
    "start_time": "2022-10-11T11:23:50.989Z"
   },
   {
    "duration": 8,
    "start_time": "2022-10-11T11:23:50.997Z"
   },
   {
    "duration": 10,
    "start_time": "2022-10-11T11:23:51.007Z"
   },
   {
    "duration": 17,
    "start_time": "2022-10-11T11:23:51.018Z"
   },
   {
    "duration": 11,
    "start_time": "2022-10-11T11:23:51.037Z"
   },
   {
    "duration": 12,
    "start_time": "2022-10-11T11:23:51.050Z"
   },
   {
    "duration": 18,
    "start_time": "2022-10-11T11:23:51.064Z"
   },
   {
    "duration": 38,
    "start_time": "2022-10-11T11:23:51.085Z"
   },
   {
    "duration": 27,
    "start_time": "2022-10-11T11:23:51.125Z"
   },
   {
    "duration": 26,
    "start_time": "2022-10-11T11:23:51.155Z"
   },
   {
    "duration": 18,
    "start_time": "2022-10-11T11:23:51.183Z"
   },
   {
    "duration": 74,
    "start_time": "2022-10-11T11:23:51.223Z"
   },
   {
    "duration": 8,
    "start_time": "2022-10-11T11:23:51.299Z"
   },
   {
    "duration": 29,
    "start_time": "2022-10-11T11:23:51.323Z"
   },
   {
    "duration": 6,
    "start_time": "2022-10-11T11:23:51.354Z"
   },
   {
    "duration": 8,
    "start_time": "2022-10-11T11:23:51.361Z"
   },
   {
    "duration": 3,
    "start_time": "2022-10-11T11:23:51.370Z"
   },
   {
    "duration": 12,
    "start_time": "2022-10-11T11:23:51.374Z"
   },
   {
    "duration": 36,
    "start_time": "2022-10-11T11:23:51.387Z"
   },
   {
    "duration": 8,
    "start_time": "2022-10-11T11:23:51.424Z"
   },
   {
    "duration": 57,
    "start_time": "2022-10-11T11:23:51.434Z"
   },
   {
    "duration": 13,
    "start_time": "2022-10-11T11:24:31.260Z"
   },
   {
    "duration": 4,
    "start_time": "2022-10-11T11:25:15.531Z"
   },
   {
    "duration": 12,
    "start_time": "2022-10-11T11:25:16.090Z"
   },
   {
    "duration": 8,
    "start_time": "2022-10-11T11:25:16.843Z"
   },
   {
    "duration": 4,
    "start_time": "2022-10-11T11:26:17.500Z"
   },
   {
    "duration": 8,
    "start_time": "2022-10-11T11:26:17.805Z"
   },
   {
    "duration": 10,
    "start_time": "2022-10-11T11:26:18.132Z"
   },
   {
    "duration": 8,
    "start_time": "2022-10-11T11:27:12.434Z"
   },
   {
    "duration": 14,
    "start_time": "2022-10-11T11:27:22.515Z"
   },
   {
    "duration": 7,
    "start_time": "2022-10-11T11:27:58.890Z"
   },
   {
    "duration": 10,
    "start_time": "2022-10-11T11:28:24.083Z"
   },
   {
    "duration": 9,
    "start_time": "2022-10-11T11:28:43.574Z"
   },
   {
    "duration": 82,
    "start_time": "2022-10-11T11:30:11.190Z"
   },
   {
    "duration": 38,
    "start_time": "2022-10-11T11:30:27.657Z"
   },
   {
    "duration": 9,
    "start_time": "2022-10-11T11:31:10.292Z"
   },
   {
    "duration": 47,
    "start_time": "2022-10-11T11:31:12.920Z"
   },
   {
    "duration": 10,
    "start_time": "2022-10-11T11:31:54.421Z"
   },
   {
    "duration": 12,
    "start_time": "2022-10-11T11:32:01.274Z"
   },
   {
    "duration": 8,
    "start_time": "2022-10-11T11:34:01.535Z"
   },
   {
    "duration": 9,
    "start_time": "2022-10-11T11:34:51.399Z"
   },
   {
    "duration": 7,
    "start_time": "2022-10-11T11:34:53.163Z"
   },
   {
    "duration": 6,
    "start_time": "2022-10-11T11:35:13.867Z"
   },
   {
    "duration": 10,
    "start_time": "2022-10-11T11:36:07.142Z"
   },
   {
    "duration": 13,
    "start_time": "2022-10-11T11:40:28.926Z"
   },
   {
    "duration": 127,
    "start_time": "2022-10-11T11:40:31.783Z"
   },
   {
    "duration": 117,
    "start_time": "2022-10-11T11:40:56.352Z"
   },
   {
    "duration": 9,
    "start_time": "2022-10-11T11:42:58.920Z"
   },
   {
    "duration": 13,
    "start_time": "2022-10-11T12:46:26.908Z"
   },
   {
    "duration": 12,
    "start_time": "2022-10-11T12:46:54.749Z"
   },
   {
    "duration": 676,
    "start_time": "2022-10-11T12:47:12.013Z"
   },
   {
    "duration": 94,
    "start_time": "2022-10-11T12:47:12.690Z"
   },
   {
    "duration": 37,
    "start_time": "2022-10-11T12:47:12.786Z"
   },
   {
    "duration": 27,
    "start_time": "2022-10-11T12:47:12.825Z"
   },
   {
    "duration": 4,
    "start_time": "2022-10-11T12:47:12.854Z"
   },
   {
    "duration": 19,
    "start_time": "2022-10-11T12:47:12.859Z"
   },
   {
    "duration": 2053,
    "start_time": "2022-10-11T12:47:12.880Z"
   },
   {
    "duration": 13,
    "start_time": "2022-10-11T12:47:14.935Z"
   },
   {
    "duration": 10,
    "start_time": "2022-10-11T12:47:14.950Z"
   },
   {
    "duration": 16,
    "start_time": "2022-10-11T12:47:14.963Z"
   },
   {
    "duration": 9,
    "start_time": "2022-10-11T12:47:14.980Z"
   },
   {
    "duration": 6,
    "start_time": "2022-10-11T12:47:14.990Z"
   },
   {
    "duration": 19,
    "start_time": "2022-10-11T12:47:14.998Z"
   },
   {
    "duration": 19,
    "start_time": "2022-10-11T12:47:15.019Z"
   },
   {
    "duration": 15,
    "start_time": "2022-10-11T12:47:15.039Z"
   },
   {
    "duration": 15,
    "start_time": "2022-10-11T12:47:15.057Z"
   },
   {
    "duration": 12,
    "start_time": "2022-10-11T12:47:15.074Z"
   },
   {
    "duration": 6,
    "start_time": "2022-10-11T12:47:15.088Z"
   },
   {
    "duration": 7,
    "start_time": "2022-10-11T12:47:15.096Z"
   },
   {
    "duration": 7,
    "start_time": "2022-10-11T12:47:15.105Z"
   },
   {
    "duration": 8,
    "start_time": "2022-10-11T12:47:15.114Z"
   },
   {
    "duration": 14,
    "start_time": "2022-10-11T12:47:15.123Z"
   },
   {
    "duration": 8,
    "start_time": "2022-10-11T12:47:15.138Z"
   },
   {
    "duration": 9,
    "start_time": "2022-10-11T12:47:15.147Z"
   },
   {
    "duration": 14,
    "start_time": "2022-10-11T12:47:15.159Z"
   },
   {
    "duration": 20,
    "start_time": "2022-10-11T12:47:15.174Z"
   },
   {
    "duration": 17,
    "start_time": "2022-10-11T12:47:15.223Z"
   },
   {
    "duration": 27,
    "start_time": "2022-10-11T12:47:15.243Z"
   },
   {
    "duration": 10,
    "start_time": "2022-10-11T12:47:15.272Z"
   },
   {
    "duration": 112,
    "start_time": "2022-10-11T12:47:15.284Z"
   },
   {
    "duration": 9,
    "start_time": "2022-10-11T12:47:15.398Z"
   },
   {
    "duration": 29,
    "start_time": "2022-10-11T12:47:15.408Z"
   },
   {
    "duration": 6,
    "start_time": "2022-10-11T12:47:15.438Z"
   },
   {
    "duration": 11,
    "start_time": "2022-10-11T12:47:15.446Z"
   },
   {
    "duration": 8,
    "start_time": "2022-10-11T12:47:15.458Z"
   },
   {
    "duration": 5,
    "start_time": "2022-10-11T12:47:15.468Z"
   },
   {
    "duration": 12,
    "start_time": "2022-10-11T12:47:15.474Z"
   },
   {
    "duration": 35,
    "start_time": "2022-10-11T12:47:15.487Z"
   },
   {
    "duration": 5,
    "start_time": "2022-10-11T12:47:46.439Z"
   },
   {
    "duration": 5,
    "start_time": "2022-10-11T12:48:38.724Z"
   },
   {
    "duration": 7,
    "start_time": "2022-10-11T12:48:39.536Z"
   },
   {
    "duration": 10,
    "start_time": "2022-10-11T12:48:40.219Z"
   },
   {
    "duration": 142,
    "start_time": "2022-10-11T13:36:15.815Z"
   },
   {
    "duration": 117,
    "start_time": "2022-10-11T13:37:41.407Z"
   },
   {
    "duration": 102,
    "start_time": "2022-10-11T13:37:48.505Z"
   },
   {
    "duration": 32,
    "start_time": "2022-10-11T13:40:57.194Z"
   },
   {
    "duration": 88,
    "start_time": "2022-10-11T13:42:21.517Z"
   },
   {
    "duration": 6,
    "start_time": "2022-10-11T13:43:02.257Z"
   },
   {
    "duration": 204,
    "start_time": "2022-10-11T13:46:16.259Z"
   },
   {
    "duration": 115,
    "start_time": "2022-10-11T13:46:25.176Z"
   },
   {
    "duration": 61,
    "start_time": "2022-10-11T13:46:49.701Z"
   },
   {
    "duration": 6,
    "start_time": "2022-10-11T13:47:45.333Z"
   },
   {
    "duration": 7,
    "start_time": "2022-10-11T13:47:53.463Z"
   },
   {
    "duration": 4,
    "start_time": "2022-10-11T13:48:00.895Z"
   },
   {
    "duration": 44,
    "start_time": "2022-10-11T13:48:12.396Z"
   },
   {
    "duration": 10,
    "start_time": "2022-10-11T13:48:22.473Z"
   },
   {
    "duration": 5,
    "start_time": "2022-10-11T13:48:38.405Z"
   },
   {
    "duration": 5,
    "start_time": "2022-10-11T13:48:58.795Z"
   },
   {
    "duration": 89,
    "start_time": "2022-10-11T13:49:32.555Z"
   },
   {
    "duration": 5,
    "start_time": "2022-10-11T13:49:46.134Z"
   },
   {
    "duration": 11,
    "start_time": "2022-10-11T13:50:11.929Z"
   },
   {
    "duration": 4,
    "start_time": "2022-10-11T13:54:21.052Z"
   },
   {
    "duration": 6,
    "start_time": "2022-10-11T13:54:39.079Z"
   },
   {
    "duration": 7,
    "start_time": "2022-10-11T13:56:01.207Z"
   },
   {
    "duration": 4,
    "start_time": "2022-10-11T13:56:11.910Z"
   },
   {
    "duration": 5,
    "start_time": "2022-10-11T13:56:15.292Z"
   },
   {
    "duration": 4,
    "start_time": "2022-10-11T13:56:16.752Z"
   },
   {
    "duration": 5,
    "start_time": "2022-10-11T13:56:16.982Z"
   },
   {
    "duration": 4,
    "start_time": "2022-10-11T13:56:26.071Z"
   },
   {
    "duration": 9,
    "start_time": "2022-10-11T13:56:27.064Z"
   },
   {
    "duration": 4,
    "start_time": "2022-10-11T13:57:00.408Z"
   },
   {
    "duration": 3,
    "start_time": "2022-10-11T13:57:10.165Z"
   },
   {
    "duration": 6,
    "start_time": "2022-10-11T13:57:10.694Z"
   },
   {
    "duration": 6,
    "start_time": "2022-10-11T14:03:03.553Z"
   },
   {
    "duration": 5,
    "start_time": "2022-10-11T14:03:10.288Z"
   },
   {
    "duration": 5,
    "start_time": "2022-10-11T14:03:30.824Z"
   },
   {
    "duration": 6,
    "start_time": "2022-10-11T14:04:09.998Z"
   },
   {
    "duration": 5,
    "start_time": "2022-10-11T14:04:15.633Z"
   },
   {
    "duration": 5,
    "start_time": "2022-10-11T14:04:42.276Z"
   },
   {
    "duration": 5,
    "start_time": "2022-10-11T14:05:11.218Z"
   },
   {
    "duration": 5,
    "start_time": "2022-10-11T14:06:17.064Z"
   },
   {
    "duration": 3,
    "start_time": "2022-10-11T14:06:25.353Z"
   },
   {
    "duration": 5,
    "start_time": "2022-10-11T14:06:29.266Z"
   },
   {
    "duration": 121,
    "start_time": "2022-10-11T14:15:20.728Z"
   },
   {
    "duration": 7,
    "start_time": "2022-10-11T14:15:21.078Z"
   },
   {
    "duration": 88,
    "start_time": "2022-10-11T14:16:52.523Z"
   },
   {
    "duration": 8,
    "start_time": "2022-10-11T14:16:52.881Z"
   },
   {
    "duration": 4,
    "start_time": "2022-10-11T14:17:01.065Z"
   },
   {
    "duration": 237,
    "start_time": "2022-10-11T14:17:01.783Z"
   },
   {
    "duration": 6,
    "start_time": "2022-10-11T14:17:07.064Z"
   },
   {
    "duration": 7,
    "start_time": "2022-10-11T14:18:48.827Z"
   },
   {
    "duration": 42,
    "start_time": "2022-10-11T14:19:34.364Z"
   },
   {
    "duration": 41,
    "start_time": "2022-10-11T14:19:37.920Z"
   },
   {
    "duration": 33,
    "start_time": "2022-10-11T14:20:11.064Z"
   },
   {
    "duration": 34,
    "start_time": "2022-10-11T14:20:51.545Z"
   },
   {
    "duration": 35,
    "start_time": "2022-10-11T14:21:10.447Z"
   },
   {
    "duration": 13,
    "start_time": "2022-10-11T14:21:43.123Z"
   },
   {
    "duration": 53,
    "start_time": "2022-10-11T14:21:56.387Z"
   },
   {
    "duration": 11,
    "start_time": "2022-10-11T14:21:58.690Z"
   },
   {
    "duration": 11,
    "start_time": "2022-10-11T14:22:01.815Z"
   },
   {
    "duration": 8,
    "start_time": "2022-10-11T14:22:06.264Z"
   },
   {
    "duration": 10,
    "start_time": "2022-10-11T14:22:09.389Z"
   },
   {
    "duration": 33,
    "start_time": "2022-10-11T14:22:56.512Z"
   },
   {
    "duration": 34,
    "start_time": "2022-10-11T14:23:28.319Z"
   },
   {
    "duration": 37,
    "start_time": "2022-10-11T14:24:52.276Z"
   },
   {
    "duration": 8,
    "start_time": "2022-10-11T14:25:23.969Z"
   },
   {
    "duration": 6,
    "start_time": "2022-10-11T14:26:22.799Z"
   },
   {
    "duration": 9,
    "start_time": "2022-10-11T14:26:38.008Z"
   },
   {
    "duration": 7,
    "start_time": "2022-10-11T14:26:42.651Z"
   },
   {
    "duration": 7,
    "start_time": "2022-10-11T14:26:45.989Z"
   },
   {
    "duration": 6,
    "start_time": "2022-10-11T14:26:51.169Z"
   },
   {
    "duration": 7,
    "start_time": "2022-10-11T14:27:05.584Z"
   },
   {
    "duration": 7,
    "start_time": "2022-10-11T14:27:08.502Z"
   },
   {
    "duration": 6,
    "start_time": "2022-10-11T14:27:38.853Z"
   },
   {
    "duration": 7,
    "start_time": "2022-10-11T14:28:38.134Z"
   },
   {
    "duration": 4,
    "start_time": "2022-10-11T14:29:12.276Z"
   },
   {
    "duration": 218,
    "start_time": "2022-10-11T14:29:12.805Z"
   },
   {
    "duration": 6,
    "start_time": "2022-10-11T14:29:13.742Z"
   },
   {
    "duration": 2727,
    "start_time": "2022-10-11T14:29:58.605Z"
   },
   {
    "duration": 601,
    "start_time": "2022-10-11T14:30:33.538Z"
   },
   {
    "duration": 90,
    "start_time": "2022-10-11T14:30:34.141Z"
   },
   {
    "duration": 26,
    "start_time": "2022-10-11T14:30:34.233Z"
   },
   {
    "duration": 24,
    "start_time": "2022-10-11T14:30:34.261Z"
   },
   {
    "duration": 3,
    "start_time": "2022-10-11T14:30:34.286Z"
   },
   {
    "duration": 43,
    "start_time": "2022-10-11T14:30:34.291Z"
   },
   {
    "duration": 2009,
    "start_time": "2022-10-11T14:30:34.336Z"
   },
   {
    "duration": 12,
    "start_time": "2022-10-11T14:30:36.347Z"
   },
   {
    "duration": 3,
    "start_time": "2022-10-11T14:30:36.361Z"
   },
   {
    "duration": 12,
    "start_time": "2022-10-11T14:30:36.367Z"
   },
   {
    "duration": 8,
    "start_time": "2022-10-11T14:30:36.380Z"
   },
   {
    "duration": 6,
    "start_time": "2022-10-11T14:30:36.389Z"
   },
   {
    "duration": 7,
    "start_time": "2022-10-11T14:30:36.397Z"
   },
   {
    "duration": 4,
    "start_time": "2022-10-11T14:30:36.422Z"
   },
   {
    "duration": 6,
    "start_time": "2022-10-11T14:30:36.427Z"
   },
   {
    "duration": 9,
    "start_time": "2022-10-11T14:30:36.434Z"
   },
   {
    "duration": 6,
    "start_time": "2022-10-11T14:30:36.444Z"
   },
   {
    "duration": 3,
    "start_time": "2022-10-11T14:30:36.451Z"
   },
   {
    "duration": 6,
    "start_time": "2022-10-11T14:30:36.455Z"
   },
   {
    "duration": 8,
    "start_time": "2022-10-11T14:30:36.462Z"
   },
   {
    "duration": 51,
    "start_time": "2022-10-11T14:30:36.472Z"
   },
   {
    "duration": 13,
    "start_time": "2022-10-11T14:30:36.525Z"
   },
   {
    "duration": 7,
    "start_time": "2022-10-11T14:30:36.539Z"
   },
   {
    "duration": 12,
    "start_time": "2022-10-11T14:30:36.548Z"
   },
   {
    "duration": 12,
    "start_time": "2022-10-11T14:30:36.561Z"
   },
   {
    "duration": 53,
    "start_time": "2022-10-11T14:30:36.575Z"
   },
   {
    "duration": 18,
    "start_time": "2022-10-11T14:30:36.629Z"
   },
   {
    "duration": 25,
    "start_time": "2022-10-11T14:30:36.650Z"
   },
   {
    "duration": 7,
    "start_time": "2022-10-11T14:30:36.676Z"
   },
   {
    "duration": 96,
    "start_time": "2022-10-11T14:30:36.685Z"
   },
   {
    "duration": 9,
    "start_time": "2022-10-11T14:30:36.782Z"
   },
   {
    "duration": 46,
    "start_time": "2022-10-11T14:30:36.793Z"
   },
   {
    "duration": 22,
    "start_time": "2022-10-11T14:30:36.841Z"
   },
   {
    "duration": 12,
    "start_time": "2022-10-11T14:30:36.865Z"
   },
   {
    "duration": 6,
    "start_time": "2022-10-11T14:30:36.879Z"
   },
   {
    "duration": 13,
    "start_time": "2022-10-11T14:30:36.886Z"
   },
   {
    "duration": 26,
    "start_time": "2022-10-11T14:30:36.900Z"
   },
   {
    "duration": 4,
    "start_time": "2022-10-11T14:30:36.928Z"
   },
   {
    "duration": 8,
    "start_time": "2022-10-11T14:30:36.934Z"
   },
   {
    "duration": 13,
    "start_time": "2022-10-11T14:30:36.943Z"
   },
   {
    "duration": 5,
    "start_time": "2022-10-11T14:30:36.958Z"
   },
   {
    "duration": 4,
    "start_time": "2022-10-11T14:30:36.964Z"
   },
   {
    "duration": 6,
    "start_time": "2022-10-11T14:30:36.970Z"
   },
   {
    "duration": 8,
    "start_time": "2022-10-11T14:30:36.977Z"
   },
   {
    "duration": 36,
    "start_time": "2022-10-11T14:30:36.986Z"
   },
   {
    "duration": 8,
    "start_time": "2022-10-11T14:30:37.024Z"
   },
   {
    "duration": 9,
    "start_time": "2022-10-11T14:30:37.033Z"
   },
   {
    "duration": 257,
    "start_time": "2022-10-11T14:30:37.044Z"
   },
   {
    "duration": 5,
    "start_time": "2022-10-11T14:30:37.302Z"
   },
   {
    "duration": 2722,
    "start_time": "2022-10-11T14:30:37.308Z"
   },
   {
    "duration": 24,
    "start_time": "2022-10-11T14:36:38.605Z"
   },
   {
    "duration": 875,
    "start_time": "2022-10-11T17:38:22.961Z"
   },
   {
    "duration": 154,
    "start_time": "2022-10-11T17:38:23.838Z"
   },
   {
    "duration": 31,
    "start_time": "2022-10-11T17:38:23.993Z"
   },
   {
    "duration": 27,
    "start_time": "2022-10-11T17:38:24.027Z"
   },
   {
    "duration": 4,
    "start_time": "2022-10-11T17:38:24.056Z"
   },
   {
    "duration": 39,
    "start_time": "2022-10-11T17:38:24.062Z"
   },
   {
    "duration": 2234,
    "start_time": "2022-10-11T17:38:24.103Z"
   },
   {
    "duration": 10,
    "start_time": "2022-10-11T17:38:26.338Z"
   },
   {
    "duration": 24,
    "start_time": "2022-10-11T17:38:26.350Z"
   },
   {
    "duration": 23,
    "start_time": "2022-10-11T17:38:26.376Z"
   },
   {
    "duration": 17,
    "start_time": "2022-10-11T17:38:26.401Z"
   },
   {
    "duration": 20,
    "start_time": "2022-10-11T17:38:26.419Z"
   },
   {
    "duration": 19,
    "start_time": "2022-10-11T17:38:26.440Z"
   },
   {
    "duration": 14,
    "start_time": "2022-10-11T17:38:26.460Z"
   },
   {
    "duration": 10,
    "start_time": "2022-10-11T17:38:26.476Z"
   },
   {
    "duration": 9,
    "start_time": "2022-10-11T17:38:26.487Z"
   },
   {
    "duration": 6,
    "start_time": "2022-10-11T17:38:26.498Z"
   },
   {
    "duration": 4,
    "start_time": "2022-10-11T17:38:26.506Z"
   },
   {
    "duration": 5,
    "start_time": "2022-10-11T17:38:26.512Z"
   },
   {
    "duration": 8,
    "start_time": "2022-10-11T17:38:26.518Z"
   },
   {
    "duration": 13,
    "start_time": "2022-10-11T17:38:26.528Z"
   },
   {
    "duration": 15,
    "start_time": "2022-10-11T17:38:26.542Z"
   },
   {
    "duration": 32,
    "start_time": "2022-10-11T17:38:26.559Z"
   },
   {
    "duration": 8,
    "start_time": "2022-10-11T17:38:26.593Z"
   },
   {
    "duration": 16,
    "start_time": "2022-10-11T17:38:26.602Z"
   },
   {
    "duration": 21,
    "start_time": "2022-10-11T17:38:26.619Z"
   },
   {
    "duration": 47,
    "start_time": "2022-10-11T17:38:26.642Z"
   },
   {
    "duration": 29,
    "start_time": "2022-10-11T17:38:26.693Z"
   },
   {
    "duration": 8,
    "start_time": "2022-10-11T17:38:26.724Z"
   },
   {
    "duration": 101,
    "start_time": "2022-10-11T17:38:26.734Z"
   },
   {
    "duration": 7,
    "start_time": "2022-10-11T17:38:26.837Z"
   },
   {
    "duration": 26,
    "start_time": "2022-10-11T17:38:26.845Z"
   },
   {
    "duration": 37,
    "start_time": "2022-10-11T17:38:26.872Z"
   },
   {
    "duration": 6,
    "start_time": "2022-10-11T17:38:26.911Z"
   },
   {
    "duration": 8,
    "start_time": "2022-10-11T17:38:26.919Z"
   },
   {
    "duration": 8,
    "start_time": "2022-10-11T17:38:26.929Z"
   },
   {
    "duration": 7,
    "start_time": "2022-10-11T17:38:26.938Z"
   },
   {
    "duration": 8,
    "start_time": "2022-10-11T17:38:26.947Z"
   },
   {
    "duration": 37,
    "start_time": "2022-10-11T17:38:26.957Z"
   },
   {
    "duration": 9,
    "start_time": "2022-10-11T17:38:26.997Z"
   },
   {
    "duration": 5,
    "start_time": "2022-10-11T17:38:27.008Z"
   },
   {
    "duration": 5,
    "start_time": "2022-10-11T17:38:27.015Z"
   },
   {
    "duration": 9,
    "start_time": "2022-10-11T17:38:27.021Z"
   },
   {
    "duration": 6,
    "start_time": "2022-10-11T17:38:27.032Z"
   },
   {
    "duration": 6,
    "start_time": "2022-10-11T17:38:27.039Z"
   },
   {
    "duration": 9,
    "start_time": "2022-10-11T17:38:27.047Z"
   },
   {
    "duration": 3,
    "start_time": "2022-10-11T17:38:27.090Z"
   },
   {
    "duration": 295,
    "start_time": "2022-10-11T17:38:27.095Z"
   },
   {
    "duration": 4,
    "start_time": "2022-10-11T17:38:27.393Z"
   },
   {
    "duration": 8,
    "start_time": "2022-10-11T17:40:30.659Z"
   },
   {
    "duration": 6,
    "start_time": "2022-10-11T17:40:34.754Z"
   },
   {
    "duration": 4,
    "start_time": "2022-10-11T17:40:35.891Z"
   },
   {
    "duration": 6,
    "start_time": "2022-10-11T17:40:36.409Z"
   },
   {
    "duration": 7,
    "start_time": "2022-10-11T17:40:37.360Z"
   },
   {
    "duration": 6,
    "start_time": "2022-10-11T17:40:37.797Z"
   },
   {
    "duration": 5,
    "start_time": "2022-10-11T17:40:39.826Z"
   },
   {
    "duration": 7,
    "start_time": "2022-10-11T17:41:09.344Z"
   },
   {
    "duration": 325,
    "start_time": "2022-10-11T17:41:09.906Z"
   },
   {
    "duration": 6,
    "start_time": "2022-10-11T17:41:10.520Z"
   },
   {
    "duration": 76,
    "start_time": "2022-10-11T17:42:02.350Z"
   },
   {
    "duration": 120,
    "start_time": "2022-10-11T17:42:19.163Z"
   },
   {
    "duration": 99,
    "start_time": "2022-10-11T17:42:39.985Z"
   },
   {
    "duration": 118,
    "start_time": "2022-10-11T17:42:53.961Z"
   },
   {
    "duration": 163,
    "start_time": "2022-10-11T17:43:04.932Z"
   },
   {
    "duration": 9,
    "start_time": "2022-10-11T17:43:44.809Z"
   },
   {
    "duration": 9,
    "start_time": "2022-10-11T17:43:49.215Z"
   },
   {
    "duration": 127,
    "start_time": "2022-10-11T17:45:03.493Z"
   },
   {
    "duration": 29,
    "start_time": "2022-10-11T17:45:39.095Z"
   },
   {
    "duration": 5,
    "start_time": "2022-10-11T17:45:55.431Z"
   },
   {
    "duration": 104,
    "start_time": "2022-10-11T17:46:18.872Z"
   },
   {
    "duration": 5,
    "start_time": "2022-10-11T17:46:38.861Z"
   },
   {
    "duration": 105,
    "start_time": "2022-10-11T17:46:39.214Z"
   },
   {
    "duration": 35,
    "start_time": "2022-10-11T17:46:52.689Z"
   },
   {
    "duration": 4,
    "start_time": "2022-10-11T17:47:07.977Z"
   },
   {
    "duration": 116,
    "start_time": "2022-10-11T17:47:08.285Z"
   },
   {
    "duration": 4,
    "start_time": "2022-10-11T17:47:18.052Z"
   },
   {
    "duration": 102,
    "start_time": "2022-10-11T17:47:18.467Z"
   },
   {
    "duration": 4,
    "start_time": "2022-10-11T17:47:23.713Z"
   },
   {
    "duration": 99,
    "start_time": "2022-10-11T17:47:24.066Z"
   },
   {
    "duration": 735,
    "start_time": "2022-10-11T17:47:37.860Z"
   },
   {
    "duration": 104,
    "start_time": "2022-10-11T17:47:38.597Z"
   },
   {
    "duration": 30,
    "start_time": "2022-10-11T17:47:38.702Z"
   },
   {
    "duration": 27,
    "start_time": "2022-10-11T17:47:38.735Z"
   },
   {
    "duration": 6,
    "start_time": "2022-10-11T17:47:38.763Z"
   },
   {
    "duration": 31,
    "start_time": "2022-10-11T17:47:38.771Z"
   },
   {
    "duration": 2385,
    "start_time": "2022-10-11T17:47:38.804Z"
   },
   {
    "duration": 11,
    "start_time": "2022-10-11T17:47:41.191Z"
   },
   {
    "duration": 12,
    "start_time": "2022-10-11T17:47:41.204Z"
   },
   {
    "duration": 13,
    "start_time": "2022-10-11T17:47:41.219Z"
   },
   {
    "duration": 10,
    "start_time": "2022-10-11T17:47:41.233Z"
   },
   {
    "duration": 6,
    "start_time": "2022-10-11T17:47:41.245Z"
   },
   {
    "duration": 37,
    "start_time": "2022-10-11T17:47:41.252Z"
   },
   {
    "duration": 7,
    "start_time": "2022-10-11T17:47:41.291Z"
   },
   {
    "duration": 5,
    "start_time": "2022-10-11T17:47:41.300Z"
   },
   {
    "duration": 10,
    "start_time": "2022-10-11T17:47:41.307Z"
   },
   {
    "duration": 8,
    "start_time": "2022-10-11T17:47:41.318Z"
   },
   {
    "duration": 5,
    "start_time": "2022-10-11T17:47:41.328Z"
   },
   {
    "duration": 6,
    "start_time": "2022-10-11T17:47:41.336Z"
   },
   {
    "duration": 8,
    "start_time": "2022-10-11T17:47:41.344Z"
   },
   {
    "duration": 42,
    "start_time": "2022-10-11T17:47:41.353Z"
   },
   {
    "duration": 16,
    "start_time": "2022-10-11T17:47:41.398Z"
   },
   {
    "duration": 7,
    "start_time": "2022-10-11T17:47:41.416Z"
   },
   {
    "duration": 10,
    "start_time": "2022-10-11T17:47:41.425Z"
   },
   {
    "duration": 17,
    "start_time": "2022-10-11T17:47:41.437Z"
   },
   {
    "duration": 51,
    "start_time": "2022-10-11T17:47:41.456Z"
   },
   {
    "duration": 22,
    "start_time": "2022-10-11T17:47:41.509Z"
   },
   {
    "duration": 58,
    "start_time": "2022-10-11T17:47:41.536Z"
   },
   {
    "duration": 8,
    "start_time": "2022-10-11T17:47:41.596Z"
   },
   {
    "duration": 113,
    "start_time": "2022-10-11T17:47:41.607Z"
   },
   {
    "duration": 10,
    "start_time": "2022-10-11T17:47:41.722Z"
   },
   {
    "duration": 34,
    "start_time": "2022-10-11T17:47:41.734Z"
   },
   {
    "duration": 56,
    "start_time": "2022-10-11T17:47:41.770Z"
   },
   {
    "duration": 7,
    "start_time": "2022-10-11T17:47:41.828Z"
   },
   {
    "duration": 12,
    "start_time": "2022-10-11T17:47:41.837Z"
   },
   {
    "duration": 24,
    "start_time": "2022-10-11T17:47:41.852Z"
   },
   {
    "duration": 14,
    "start_time": "2022-10-11T17:47:41.890Z"
   },
   {
    "duration": 20,
    "start_time": "2022-10-11T17:47:41.906Z"
   },
   {
    "duration": 14,
    "start_time": "2022-10-11T17:47:41.928Z"
   },
   {
    "duration": 27,
    "start_time": "2022-10-11T17:47:41.944Z"
   },
   {
    "duration": 34,
    "start_time": "2022-10-11T17:47:41.973Z"
   },
   {
    "duration": 13,
    "start_time": "2022-10-11T17:47:42.010Z"
   },
   {
    "duration": 36,
    "start_time": "2022-10-11T17:47:42.026Z"
   },
   {
    "duration": 11,
    "start_time": "2022-10-11T17:47:42.065Z"
   },
   {
    "duration": 10,
    "start_time": "2022-10-11T17:47:42.079Z"
   },
   {
    "duration": 13,
    "start_time": "2022-10-11T17:47:42.091Z"
   },
   {
    "duration": 33,
    "start_time": "2022-10-11T17:47:42.106Z"
   },
   {
    "duration": 281,
    "start_time": "2022-10-11T17:47:42.140Z"
   },
   {
    "duration": 4,
    "start_time": "2022-10-11T17:47:42.423Z"
   },
   {
    "duration": 11,
    "start_time": "2022-10-11T17:47:42.429Z"
   },
   {
    "duration": 150,
    "start_time": "2022-10-11T17:47:42.441Z"
   },
   {
    "duration": 18,
    "start_time": "2022-10-11T17:47:42.593Z"
   },
   {
    "duration": 6,
    "start_time": "2022-10-11T17:47:58.165Z"
   },
   {
    "duration": 58,
    "start_time": "2022-10-12T07:10:56.487Z"
   },
   {
    "duration": 914,
    "start_time": "2022-10-12T07:11:03.631Z"
   },
   {
    "duration": 162,
    "start_time": "2022-10-12T07:11:04.548Z"
   },
   {
    "duration": 36,
    "start_time": "2022-10-12T07:11:04.712Z"
   },
   {
    "duration": 48,
    "start_time": "2022-10-12T07:11:04.750Z"
   },
   {
    "duration": 5,
    "start_time": "2022-10-12T07:11:04.802Z"
   },
   {
    "duration": 27,
    "start_time": "2022-10-12T07:11:04.810Z"
   },
   {
    "duration": 2407,
    "start_time": "2022-10-12T07:11:04.839Z"
   },
   {
    "duration": 9,
    "start_time": "2022-10-12T07:11:07.248Z"
   },
   {
    "duration": 3,
    "start_time": "2022-10-12T07:11:07.258Z"
   },
   {
    "duration": 12,
    "start_time": "2022-10-12T07:11:07.263Z"
   },
   {
    "duration": 7,
    "start_time": "2022-10-12T07:11:07.277Z"
   },
   {
    "duration": 10,
    "start_time": "2022-10-12T07:11:07.286Z"
   },
   {
    "duration": 13,
    "start_time": "2022-10-12T07:11:07.298Z"
   },
   {
    "duration": 6,
    "start_time": "2022-10-12T07:11:07.313Z"
   },
   {
    "duration": 8,
    "start_time": "2022-10-12T07:11:07.321Z"
   },
   {
    "duration": 9,
    "start_time": "2022-10-12T07:11:07.330Z"
   },
   {
    "duration": 12,
    "start_time": "2022-10-12T07:11:07.340Z"
   },
   {
    "duration": 4,
    "start_time": "2022-10-12T07:11:07.354Z"
   },
   {
    "duration": 11,
    "start_time": "2022-10-12T07:11:07.359Z"
   },
   {
    "duration": 17,
    "start_time": "2022-10-12T07:11:07.371Z"
   },
   {
    "duration": 16,
    "start_time": "2022-10-12T07:11:07.390Z"
   },
   {
    "duration": 16,
    "start_time": "2022-10-12T07:11:07.408Z"
   },
   {
    "duration": 7,
    "start_time": "2022-10-12T07:11:07.426Z"
   },
   {
    "duration": 17,
    "start_time": "2022-10-12T07:11:07.434Z"
   },
   {
    "duration": 23,
    "start_time": "2022-10-12T07:11:07.453Z"
   },
   {
    "duration": 20,
    "start_time": "2022-10-12T07:11:07.478Z"
   },
   {
    "duration": 25,
    "start_time": "2022-10-12T07:11:07.500Z"
   },
   {
    "duration": 31,
    "start_time": "2022-10-12T07:11:07.528Z"
   },
   {
    "duration": 14,
    "start_time": "2022-10-12T07:11:07.561Z"
   },
   {
    "duration": 74,
    "start_time": "2022-10-12T07:11:07.576Z"
   },
   {
    "duration": 8,
    "start_time": "2022-10-12T07:11:07.652Z"
   },
   {
    "duration": 38,
    "start_time": "2022-10-12T07:11:07.661Z"
   },
   {
    "duration": 35,
    "start_time": "2022-10-12T07:11:07.701Z"
   },
   {
    "duration": 13,
    "start_time": "2022-10-12T07:11:07.738Z"
   },
   {
    "duration": 10,
    "start_time": "2022-10-12T07:11:07.753Z"
   },
   {
    "duration": 39,
    "start_time": "2022-10-12T07:11:07.764Z"
   },
   {
    "duration": 15,
    "start_time": "2022-10-12T07:11:07.805Z"
   },
   {
    "duration": 5,
    "start_time": "2022-10-12T07:11:07.822Z"
   },
   {
    "duration": 9,
    "start_time": "2022-10-12T07:11:07.829Z"
   },
   {
    "duration": 9,
    "start_time": "2022-10-12T07:11:07.840Z"
   },
   {
    "duration": 48,
    "start_time": "2022-10-12T07:11:07.850Z"
   },
   {
    "duration": 7,
    "start_time": "2022-10-12T07:11:07.900Z"
   },
   {
    "duration": 9,
    "start_time": "2022-10-12T07:11:07.909Z"
   },
   {
    "duration": 5,
    "start_time": "2022-10-12T07:11:07.920Z"
   },
   {
    "duration": 5,
    "start_time": "2022-10-12T07:11:07.927Z"
   },
   {
    "duration": 6,
    "start_time": "2022-10-12T07:11:07.934Z"
   },
   {
    "duration": 54,
    "start_time": "2022-10-12T07:11:07.942Z"
   },
   {
    "duration": 437,
    "start_time": "2022-10-12T07:11:07.998Z"
   },
   {
    "duration": 4,
    "start_time": "2022-10-12T07:11:08.436Z"
   },
   {
    "duration": 152,
    "start_time": "2022-10-12T07:11:08.442Z"
   },
   {
    "duration": 130,
    "start_time": "2022-10-12T07:11:28.658Z"
   },
   {
    "duration": 210,
    "start_time": "2022-10-12T07:11:44.037Z"
   },
   {
    "duration": 158,
    "start_time": "2022-10-12T07:15:56.084Z"
   },
   {
    "duration": 74,
    "start_time": "2022-10-12T07:16:03.695Z"
   },
   {
    "duration": 9,
    "start_time": "2022-10-12T07:16:05.995Z"
   },
   {
    "duration": 165,
    "start_time": "2022-10-12T07:16:09.766Z"
   },
   {
    "duration": 160,
    "start_time": "2022-10-12T07:16:30.949Z"
   },
   {
    "duration": 288,
    "start_time": "2022-10-12T07:16:34.327Z"
   },
   {
    "duration": 4,
    "start_time": "2022-10-12T07:17:04.541Z"
   },
   {
    "duration": 165,
    "start_time": "2022-10-12T07:17:07.635Z"
   },
   {
    "duration": 148,
    "start_time": "2022-10-12T07:17:19.689Z"
   },
   {
    "duration": 139,
    "start_time": "2022-10-12T07:17:28.358Z"
   },
   {
    "duration": 139,
    "start_time": "2022-10-12T07:17:35.650Z"
   },
   {
    "duration": 166,
    "start_time": "2022-10-12T07:18:33.579Z"
   },
   {
    "duration": 180,
    "start_time": "2022-10-12T07:18:40.502Z"
   },
   {
    "duration": 147,
    "start_time": "2022-10-12T07:26:10.951Z"
   },
   {
    "duration": 168,
    "start_time": "2022-10-12T07:26:25.386Z"
   },
   {
    "duration": 255,
    "start_time": "2022-10-12T07:32:03.166Z"
   },
   {
    "duration": 149,
    "start_time": "2022-10-12T07:33:01.671Z"
   },
   {
    "duration": 151,
    "start_time": "2022-10-12T07:36:13.039Z"
   },
   {
    "duration": 332,
    "start_time": "2022-10-12T07:36:20.787Z"
   },
   {
    "duration": 159,
    "start_time": "2022-10-12T07:36:27.253Z"
   },
   {
    "duration": 137,
    "start_time": "2022-10-12T07:36:49.747Z"
   },
   {
    "duration": 161,
    "start_time": "2022-10-12T07:37:00.872Z"
   },
   {
    "duration": 140,
    "start_time": "2022-10-12T07:37:08.592Z"
   },
   {
    "duration": 158,
    "start_time": "2022-10-12T07:37:37.132Z"
   },
   {
    "duration": 165,
    "start_time": "2022-10-12T07:37:40.918Z"
   },
   {
    "duration": 119,
    "start_time": "2022-10-12T07:38:04.386Z"
   },
   {
    "duration": 22,
    "start_time": "2022-10-12T07:38:12.915Z"
   },
   {
    "duration": 224,
    "start_time": "2022-10-12T07:38:19.090Z"
   },
   {
    "duration": 300,
    "start_time": "2022-10-12T07:40:06.023Z"
   },
   {
    "duration": 338,
    "start_time": "2022-10-12T07:40:11.836Z"
   },
   {
    "duration": 189,
    "start_time": "2022-10-12T07:40:25.987Z"
   },
   {
    "duration": 165,
    "start_time": "2022-10-12T07:40:33.578Z"
   },
   {
    "duration": 145,
    "start_time": "2022-10-12T07:41:10.872Z"
   },
   {
    "duration": 148,
    "start_time": "2022-10-12T07:44:05.153Z"
   },
   {
    "duration": 248,
    "start_time": "2022-10-12T07:44:11.093Z"
   },
   {
    "duration": 158,
    "start_time": "2022-10-12T07:44:25.604Z"
   },
   {
    "duration": 156,
    "start_time": "2022-10-12T07:44:34.292Z"
   },
   {
    "duration": 153,
    "start_time": "2022-10-12T07:44:38.665Z"
   },
   {
    "duration": 146,
    "start_time": "2022-10-12T07:44:45.242Z"
   },
   {
    "duration": 174,
    "start_time": "2022-10-12T07:44:52.077Z"
   },
   {
    "duration": 295,
    "start_time": "2022-10-12T07:47:14.105Z"
   },
   {
    "duration": 203,
    "start_time": "2022-10-12T07:47:16.668Z"
   },
   {
    "duration": 160,
    "start_time": "2022-10-12T07:47:17.307Z"
   },
   {
    "duration": 163,
    "start_time": "2022-10-12T07:47:23.122Z"
   },
   {
    "duration": 153,
    "start_time": "2022-10-12T07:47:23.813Z"
   },
   {
    "duration": 167,
    "start_time": "2022-10-12T07:47:34.653Z"
   },
   {
    "duration": 153,
    "start_time": "2022-10-12T07:47:42.921Z"
   },
   {
    "duration": 167,
    "start_time": "2022-10-12T07:48:01.992Z"
   },
   {
    "duration": 160,
    "start_time": "2022-10-12T07:49:19.808Z"
   },
   {
    "duration": 158,
    "start_time": "2022-10-12T07:49:25.313Z"
   },
   {
    "duration": 156,
    "start_time": "2022-10-12T07:49:32.209Z"
   },
   {
    "duration": 234,
    "start_time": "2022-10-12T07:49:40.912Z"
   },
   {
    "duration": 159,
    "start_time": "2022-10-12T07:49:45.771Z"
   },
   {
    "duration": 154,
    "start_time": "2022-10-12T07:49:52.479Z"
   },
   {
    "duration": 162,
    "start_time": "2022-10-12T07:50:00.172Z"
   },
   {
    "duration": 141,
    "start_time": "2022-10-12T07:50:04.920Z"
   },
   {
    "duration": 145,
    "start_time": "2022-10-12T07:50:10.986Z"
   },
   {
    "duration": 10,
    "start_time": "2022-10-12T07:53:09.952Z"
   },
   {
    "duration": 6,
    "start_time": "2022-10-12T07:54:13.844Z"
   },
   {
    "duration": 9,
    "start_time": "2022-10-12T07:54:14.968Z"
   },
   {
    "duration": 6,
    "start_time": "2022-10-12T07:54:16.181Z"
   },
   {
    "duration": 5,
    "start_time": "2022-10-12T07:54:16.480Z"
   },
   {
    "duration": 7,
    "start_time": "2022-10-12T07:54:16.635Z"
   },
   {
    "duration": 6,
    "start_time": "2022-10-12T07:54:16.792Z"
   },
   {
    "duration": 652,
    "start_time": "2022-10-12T07:54:22.891Z"
   },
   {
    "duration": 100,
    "start_time": "2022-10-12T07:54:23.545Z"
   },
   {
    "duration": 27,
    "start_time": "2022-10-12T07:54:23.647Z"
   },
   {
    "duration": 48,
    "start_time": "2022-10-12T07:54:23.677Z"
   },
   {
    "duration": 4,
    "start_time": "2022-10-12T07:54:23.727Z"
   },
   {
    "duration": 16,
    "start_time": "2022-10-12T07:54:23.732Z"
   },
   {
    "duration": 2217,
    "start_time": "2022-10-12T07:54:23.750Z"
   },
   {
    "duration": 10,
    "start_time": "2022-10-12T07:54:25.968Z"
   },
   {
    "duration": 4,
    "start_time": "2022-10-12T07:54:25.980Z"
   },
   {
    "duration": 10,
    "start_time": "2022-10-12T07:54:25.996Z"
   },
   {
    "duration": 10,
    "start_time": "2022-10-12T07:54:26.007Z"
   },
   {
    "duration": 6,
    "start_time": "2022-10-12T07:54:26.019Z"
   },
   {
    "duration": 6,
    "start_time": "2022-10-12T07:54:26.027Z"
   },
   {
    "duration": 5,
    "start_time": "2022-10-12T07:54:26.035Z"
   },
   {
    "duration": 4,
    "start_time": "2022-10-12T07:54:26.043Z"
   },
   {
    "duration": 47,
    "start_time": "2022-10-12T07:54:26.049Z"
   },
   {
    "duration": 8,
    "start_time": "2022-10-12T07:54:26.098Z"
   },
   {
    "duration": 14,
    "start_time": "2022-10-12T07:54:26.108Z"
   },
   {
    "duration": 6,
    "start_time": "2022-10-12T07:54:26.124Z"
   },
   {
    "duration": 16,
    "start_time": "2022-10-12T07:54:26.132Z"
   },
   {
    "duration": 10,
    "start_time": "2022-10-12T07:54:26.149Z"
   },
   {
    "duration": 38,
    "start_time": "2022-10-12T07:54:26.160Z"
   },
   {
    "duration": 8,
    "start_time": "2022-10-12T07:54:26.200Z"
   },
   {
    "duration": 17,
    "start_time": "2022-10-12T07:54:26.210Z"
   },
   {
    "duration": 16,
    "start_time": "2022-10-12T07:54:26.229Z"
   },
   {
    "duration": 23,
    "start_time": "2022-10-12T07:54:26.246Z"
   },
   {
    "duration": 25,
    "start_time": "2022-10-12T07:54:26.295Z"
   },
   {
    "duration": 26,
    "start_time": "2022-10-12T07:54:26.323Z"
   },
   {
    "duration": 7,
    "start_time": "2022-10-12T07:54:26.350Z"
   },
   {
    "duration": 101,
    "start_time": "2022-10-12T07:54:26.358Z"
   },
   {
    "duration": 7,
    "start_time": "2022-10-12T07:54:26.461Z"
   },
   {
    "duration": 30,
    "start_time": "2022-10-12T07:54:26.494Z"
   },
   {
    "duration": 23,
    "start_time": "2022-10-12T07:54:26.526Z"
   },
   {
    "duration": 7,
    "start_time": "2022-10-12T07:54:26.551Z"
   },
   {
    "duration": 9,
    "start_time": "2022-10-12T07:54:26.559Z"
   },
   {
    "duration": 10,
    "start_time": "2022-10-12T07:54:26.595Z"
   },
   {
    "duration": 12,
    "start_time": "2022-10-12T07:54:26.607Z"
   },
   {
    "duration": 6,
    "start_time": "2022-10-12T07:54:26.621Z"
   },
   {
    "duration": 14,
    "start_time": "2022-10-12T07:54:26.629Z"
   },
   {
    "duration": 15,
    "start_time": "2022-10-12T07:54:26.646Z"
   },
   {
    "duration": 40,
    "start_time": "2022-10-12T07:54:26.663Z"
   },
   {
    "duration": 17,
    "start_time": "2022-10-12T07:54:26.705Z"
   },
   {
    "duration": 13,
    "start_time": "2022-10-12T07:54:26.725Z"
   },
   {
    "duration": 6,
    "start_time": "2022-10-12T07:54:26.740Z"
   },
   {
    "duration": 11,
    "start_time": "2022-10-12T07:54:26.747Z"
   },
   {
    "duration": 10,
    "start_time": "2022-10-12T07:54:26.761Z"
   },
   {
    "duration": 22,
    "start_time": "2022-10-12T07:54:26.773Z"
   },
   {
    "duration": 293,
    "start_time": "2022-10-12T07:54:26.797Z"
   },
   {
    "duration": 7,
    "start_time": "2022-10-12T07:54:27.091Z"
   },
   {
    "duration": 173,
    "start_time": "2022-10-12T07:54:27.100Z"
   },
   {
    "duration": 187,
    "start_time": "2022-10-12T07:54:27.274Z"
   },
   {
    "duration": 249,
    "start_time": "2022-10-12T07:54:27.463Z"
   },
   {
    "duration": 154,
    "start_time": "2022-10-12T07:54:27.714Z"
   },
   {
    "duration": 161,
    "start_time": "2022-10-12T07:54:27.870Z"
   },
   {
    "duration": 171,
    "start_time": "2022-10-12T07:54:28.033Z"
   },
   {
    "duration": 145,
    "start_time": "2022-10-12T07:56:44.419Z"
   },
   {
    "duration": 154,
    "start_time": "2022-10-12T07:56:51.024Z"
   },
   {
    "duration": 172,
    "start_time": "2022-10-12T07:57:10.275Z"
   },
   {
    "duration": 169,
    "start_time": "2022-10-12T07:57:20.724Z"
   },
   {
    "duration": 171,
    "start_time": "2022-10-12T07:57:31.233Z"
   },
   {
    "duration": 159,
    "start_time": "2022-10-12T07:57:35.950Z"
   },
   {
    "duration": 157,
    "start_time": "2022-10-12T08:00:27.664Z"
   },
   {
    "duration": 249,
    "start_time": "2022-10-12T08:00:45.516Z"
   },
   {
    "duration": 158,
    "start_time": "2022-10-12T08:00:51.871Z"
   },
   {
    "duration": 152,
    "start_time": "2022-10-12T08:01:22.382Z"
   },
   {
    "duration": 182,
    "start_time": "2022-10-12T08:03:35.567Z"
   },
   {
    "duration": 133,
    "start_time": "2022-10-12T08:03:41.825Z"
   },
   {
    "duration": 165,
    "start_time": "2022-10-12T08:03:49.093Z"
   },
   {
    "duration": 143,
    "start_time": "2022-10-12T08:03:59.117Z"
   },
   {
    "duration": 162,
    "start_time": "2022-10-12T08:04:03.867Z"
   },
   {
    "duration": 145,
    "start_time": "2022-10-12T08:04:09.666Z"
   },
   {
    "duration": 138,
    "start_time": "2022-10-12T08:05:37.188Z"
   },
   {
    "duration": 125,
    "start_time": "2022-10-12T08:05:39.743Z"
   },
   {
    "duration": 208,
    "start_time": "2022-10-12T08:05:43.546Z"
   },
   {
    "duration": 151,
    "start_time": "2022-10-12T08:05:50.533Z"
   },
   {
    "duration": 153,
    "start_time": "2022-10-12T08:08:05.147Z"
   },
   {
    "duration": 176,
    "start_time": "2022-10-12T08:08:11.393Z"
   },
   {
    "duration": 158,
    "start_time": "2022-10-12T08:08:45.355Z"
   },
   {
    "duration": 174,
    "start_time": "2022-10-12T08:08:54.260Z"
   },
   {
    "duration": 164,
    "start_time": "2022-10-12T08:09:04.507Z"
   },
   {
    "duration": 156,
    "start_time": "2022-10-12T08:09:13.363Z"
   },
   {
    "duration": 7,
    "start_time": "2022-10-12T08:12:02.882Z"
   },
   {
    "duration": 5,
    "start_time": "2022-10-12T08:12:04.122Z"
   },
   {
    "duration": 6,
    "start_time": "2022-10-12T08:12:04.294Z"
   },
   {
    "duration": 7,
    "start_time": "2022-10-12T08:12:04.485Z"
   },
   {
    "duration": 8,
    "start_time": "2022-10-12T08:12:04.674Z"
   },
   {
    "duration": 8,
    "start_time": "2022-10-12T08:12:04.846Z"
   },
   {
    "duration": 4,
    "start_time": "2022-10-12T08:12:09.941Z"
   },
   {
    "duration": 269,
    "start_time": "2022-10-12T08:12:10.309Z"
   },
   {
    "duration": 4,
    "start_time": "2022-10-12T08:12:10.860Z"
   },
   {
    "duration": 240,
    "start_time": "2022-10-12T08:12:12.119Z"
   },
   {
    "duration": 185,
    "start_time": "2022-10-12T08:12:35.042Z"
   },
   {
    "duration": 162,
    "start_time": "2022-10-12T08:13:01.214Z"
   },
   {
    "duration": 169,
    "start_time": "2022-10-12T08:13:03.391Z"
   },
   {
    "duration": 170,
    "start_time": "2022-10-12T08:13:12.023Z"
   },
   {
    "duration": 169,
    "start_time": "2022-10-12T08:13:14.095Z"
   },
   {
    "duration": 237,
    "start_time": "2022-10-12T08:13:16.811Z"
   },
   {
    "duration": 177,
    "start_time": "2022-10-12T08:13:18.022Z"
   },
   {
    "duration": 170,
    "start_time": "2022-10-12T08:13:21.702Z"
   },
   {
    "duration": 159,
    "start_time": "2022-10-12T08:13:43.805Z"
   },
   {
    "duration": 132,
    "start_time": "2022-10-12T08:13:51.020Z"
   },
   {
    "duration": 251,
    "start_time": "2022-10-12T08:13:51.795Z"
   },
   {
    "duration": 143,
    "start_time": "2022-10-12T08:14:05.536Z"
   },
   {
    "duration": 154,
    "start_time": "2022-10-12T08:15:13.343Z"
   },
   {
    "duration": 179,
    "start_time": "2022-10-12T08:15:23.950Z"
   },
   {
    "duration": 182,
    "start_time": "2022-10-12T08:17:49.995Z"
   },
   {
    "duration": 181,
    "start_time": "2022-10-12T08:18:13.476Z"
   },
   {
    "duration": 188,
    "start_time": "2022-10-12T08:18:19.096Z"
   },
   {
    "duration": 183,
    "start_time": "2022-10-12T08:18:27.232Z"
   },
   {
    "duration": 191,
    "start_time": "2022-10-12T08:18:45.991Z"
   },
   {
    "duration": 177,
    "start_time": "2022-10-12T08:21:41.891Z"
   },
   {
    "duration": 160,
    "start_time": "2022-10-12T08:22:10.568Z"
   },
   {
    "duration": 263,
    "start_time": "2022-10-12T08:24:36.032Z"
   },
   {
    "duration": 186,
    "start_time": "2022-10-12T08:24:54.353Z"
   },
   {
    "duration": 225,
    "start_time": "2022-10-12T08:27:14.291Z"
   },
   {
    "duration": 705,
    "start_time": "2022-10-12T08:28:22.382Z"
   },
   {
    "duration": 104,
    "start_time": "2022-10-12T08:28:23.090Z"
   },
   {
    "duration": 44,
    "start_time": "2022-10-12T08:28:23.196Z"
   },
   {
    "duration": 29,
    "start_time": "2022-10-12T08:28:23.242Z"
   },
   {
    "duration": 22,
    "start_time": "2022-10-12T08:28:23.273Z"
   },
   {
    "duration": 23,
    "start_time": "2022-10-12T08:28:23.296Z"
   },
   {
    "duration": 2529,
    "start_time": "2022-10-12T08:28:23.321Z"
   },
   {
    "duration": 10,
    "start_time": "2022-10-12T08:28:25.852Z"
   },
   {
    "duration": 7,
    "start_time": "2022-10-12T08:28:25.864Z"
   },
   {
    "duration": 29,
    "start_time": "2022-10-12T08:28:25.874Z"
   },
   {
    "duration": 12,
    "start_time": "2022-10-12T08:28:25.905Z"
   },
   {
    "duration": 6,
    "start_time": "2022-10-12T08:28:25.920Z"
   },
   {
    "duration": 8,
    "start_time": "2022-10-12T08:28:25.928Z"
   },
   {
    "duration": 9,
    "start_time": "2022-10-12T08:28:25.938Z"
   },
   {
    "duration": 3,
    "start_time": "2022-10-12T08:28:25.949Z"
   },
   {
    "duration": 42,
    "start_time": "2022-10-12T08:28:25.954Z"
   },
   {
    "duration": 7,
    "start_time": "2022-10-12T08:28:25.998Z"
   },
   {
    "duration": 8,
    "start_time": "2022-10-12T08:28:26.006Z"
   },
   {
    "duration": 10,
    "start_time": "2022-10-12T08:28:26.015Z"
   },
   {
    "duration": 8,
    "start_time": "2022-10-12T08:28:26.026Z"
   },
   {
    "duration": 8,
    "start_time": "2022-10-12T08:28:26.036Z"
   },
   {
    "duration": 58,
    "start_time": "2022-10-12T08:28:26.047Z"
   },
   {
    "duration": 16,
    "start_time": "2022-10-12T08:28:26.107Z"
   },
   {
    "duration": 11,
    "start_time": "2022-10-12T08:28:26.125Z"
   },
   {
    "duration": 18,
    "start_time": "2022-10-12T08:28:26.138Z"
   },
   {
    "duration": 49,
    "start_time": "2022-10-12T08:28:26.157Z"
   },
   {
    "duration": 25,
    "start_time": "2022-10-12T08:28:26.208Z"
   },
   {
    "duration": 27,
    "start_time": "2022-10-12T08:28:26.239Z"
   },
   {
    "duration": 35,
    "start_time": "2022-10-12T08:28:26.267Z"
   },
   {
    "duration": 88,
    "start_time": "2022-10-12T08:28:26.304Z"
   },
   {
    "duration": 10,
    "start_time": "2022-10-12T08:28:26.395Z"
   },
   {
    "duration": 36,
    "start_time": "2022-10-12T08:28:26.407Z"
   },
   {
    "duration": 60,
    "start_time": "2022-10-12T08:28:26.445Z"
   },
   {
    "duration": 7,
    "start_time": "2022-10-12T08:28:26.511Z"
   },
   {
    "duration": 18,
    "start_time": "2022-10-12T08:28:26.520Z"
   },
   {
    "duration": 10,
    "start_time": "2022-10-12T08:28:26.540Z"
   },
   {
    "duration": 10,
    "start_time": "2022-10-12T08:28:26.552Z"
   },
   {
    "duration": 5,
    "start_time": "2022-10-12T08:28:26.564Z"
   },
   {
    "duration": 47,
    "start_time": "2022-10-12T08:28:26.570Z"
   },
   {
    "duration": 17,
    "start_time": "2022-10-12T08:28:26.620Z"
   },
   {
    "duration": 5,
    "start_time": "2022-10-12T08:28:26.639Z"
   },
   {
    "duration": 6,
    "start_time": "2022-10-12T08:28:26.646Z"
   },
   {
    "duration": 7,
    "start_time": "2022-10-12T08:28:26.653Z"
   },
   {
    "duration": 8,
    "start_time": "2022-10-12T08:28:26.662Z"
   },
   {
    "duration": 24,
    "start_time": "2022-10-12T08:28:26.672Z"
   },
   {
    "duration": 8,
    "start_time": "2022-10-12T08:28:26.699Z"
   },
   {
    "duration": 27,
    "start_time": "2022-10-12T08:28:26.709Z"
   },
   {
    "duration": 10,
    "start_time": "2022-10-12T08:28:26.738Z"
   },
   {
    "duration": 332,
    "start_time": "2022-10-12T08:28:26.751Z"
   },
   {
    "duration": 9,
    "start_time": "2022-10-12T08:28:27.086Z"
   },
   {
    "duration": 220,
    "start_time": "2022-10-12T08:28:27.096Z"
   },
   {
    "duration": 198,
    "start_time": "2022-10-12T08:28:27.318Z"
   },
   {
    "duration": 310,
    "start_time": "2022-10-12T08:28:27.518Z"
   },
   {
    "duration": 202,
    "start_time": "2022-10-12T08:28:27.830Z"
   },
   {
    "duration": 194,
    "start_time": "2022-10-12T08:28:28.034Z"
   },
   {
    "duration": 193,
    "start_time": "2022-10-12T08:28:28.230Z"
   },
   {
    "duration": 163,
    "start_time": "2022-10-12T08:28:28.426Z"
   },
   {
    "duration": 141,
    "start_time": "2022-10-12T08:28:28.596Z"
   },
   {
    "duration": 183,
    "start_time": "2022-10-12T08:28:28.739Z"
   },
   {
    "duration": 208,
    "start_time": "2022-10-12T08:28:28.924Z"
   },
   {
    "duration": 180,
    "start_time": "2022-10-12T08:28:29.134Z"
   },
   {
    "duration": 171,
    "start_time": "2022-10-12T08:28:29.316Z"
   },
   {
    "duration": 175,
    "start_time": "2022-10-12T08:28:29.489Z"
   },
   {
    "duration": 228,
    "start_time": "2022-10-12T08:29:19.803Z"
   },
   {
    "duration": 156,
    "start_time": "2022-10-12T08:30:05.584Z"
   },
   {
    "duration": 131,
    "start_time": "2022-10-12T08:30:27.853Z"
   },
   {
    "duration": 133,
    "start_time": "2022-10-12T08:30:32.853Z"
   },
   {
    "duration": 176,
    "start_time": "2022-10-12T08:30:36.714Z"
   },
   {
    "duration": 146,
    "start_time": "2022-10-12T08:30:40.985Z"
   },
   {
    "duration": 187,
    "start_time": "2022-10-12T08:30:45.148Z"
   },
   {
    "duration": 162,
    "start_time": "2022-10-12T08:30:50.313Z"
   },
   {
    "duration": 107,
    "start_time": "2022-10-12T08:38:51.852Z"
   },
   {
    "duration": 189,
    "start_time": "2022-10-12T08:52:29.746Z"
   },
   {
    "duration": 187,
    "start_time": "2022-10-12T08:52:38.180Z"
   },
   {
    "duration": 200,
    "start_time": "2022-10-12T08:53:50.443Z"
   },
   {
    "duration": 265,
    "start_time": "2022-10-12T08:54:55.161Z"
   },
   {
    "duration": 189,
    "start_time": "2022-10-12T08:55:13.432Z"
   },
   {
    "duration": 189,
    "start_time": "2022-10-12T08:55:42.847Z"
   },
   {
    "duration": 176,
    "start_time": "2022-10-12T08:56:04.905Z"
   },
   {
    "duration": 199,
    "start_time": "2022-10-12T08:56:20.719Z"
   },
   {
    "duration": 205,
    "start_time": "2022-10-12T08:56:24.904Z"
   },
   {
    "duration": 219,
    "start_time": "2022-10-12T08:58:34.305Z"
   },
   {
    "duration": 334,
    "start_time": "2022-10-12T08:58:39.534Z"
   },
   {
    "duration": 180,
    "start_time": "2022-10-12T09:00:37.784Z"
   },
   {
    "duration": 184,
    "start_time": "2022-10-12T09:00:48.002Z"
   },
   {
    "duration": 219,
    "start_time": "2022-10-12T09:00:51.555Z"
   },
   {
    "duration": 239,
    "start_time": "2022-10-12T09:27:12.255Z"
   },
   {
    "duration": 205,
    "start_time": "2022-10-12T09:27:19.757Z"
   },
   {
    "duration": 197,
    "start_time": "2022-10-12T09:28:27.887Z"
   },
   {
    "duration": 245,
    "start_time": "2022-10-12T09:28:31.884Z"
   },
   {
    "duration": 274,
    "start_time": "2022-10-12T09:28:35.880Z"
   },
   {
    "duration": 394,
    "start_time": "2022-10-12T09:28:39.786Z"
   },
   {
    "duration": 1580,
    "start_time": "2022-10-12T09:28:43.203Z"
   },
   {
    "duration": 336,
    "start_time": "2022-10-12T09:28:47.935Z"
   },
   {
    "duration": 360,
    "start_time": "2022-10-12T09:28:53.270Z"
   },
   {
    "duration": 409,
    "start_time": "2022-10-12T09:28:57.593Z"
   },
   {
    "duration": 374,
    "start_time": "2022-10-12T09:29:31.609Z"
   },
   {
    "duration": 192,
    "start_time": "2022-10-12T09:29:40.731Z"
   },
   {
    "duration": 241,
    "start_time": "2022-10-12T09:29:52.681Z"
   },
   {
    "duration": 226,
    "start_time": "2022-10-12T09:30:01.923Z"
   },
   {
    "duration": 240,
    "start_time": "2022-10-12T09:30:56.698Z"
   },
   {
    "duration": 164,
    "start_time": "2022-10-12T09:31:07.030Z"
   },
   {
    "duration": 201,
    "start_time": "2022-10-12T09:31:44.726Z"
   },
   {
    "duration": 219,
    "start_time": "2022-10-12T09:31:49.080Z"
   },
   {
    "duration": 190,
    "start_time": "2022-10-12T09:32:03.739Z"
   },
   {
    "duration": 224,
    "start_time": "2022-10-12T09:32:19.615Z"
   },
   {
    "duration": 199,
    "start_time": "2022-10-12T09:32:35.455Z"
   },
   {
    "duration": 304,
    "start_time": "2022-10-12T09:32:54.009Z"
   },
   {
    "duration": 209,
    "start_time": "2022-10-12T09:33:04.091Z"
   },
   {
    "duration": 274,
    "start_time": "2022-10-12T09:33:31.948Z"
   },
   {
    "duration": 316,
    "start_time": "2022-10-12T09:33:41.317Z"
   },
   {
    "duration": 203,
    "start_time": "2022-10-12T09:33:50.858Z"
   },
   {
    "duration": 232,
    "start_time": "2022-10-12T09:34:00.037Z"
   },
   {
    "duration": 193,
    "start_time": "2022-10-12T09:35:01.460Z"
   },
   {
    "duration": 214,
    "start_time": "2022-10-12T09:35:08.090Z"
   },
   {
    "duration": 186,
    "start_time": "2022-10-12T09:35:11.020Z"
   },
   {
    "duration": 177,
    "start_time": "2022-10-12T09:35:14.672Z"
   },
   {
    "duration": 179,
    "start_time": "2022-10-12T09:38:36.611Z"
   },
   {
    "duration": 293,
    "start_time": "2022-10-12T09:38:59.914Z"
   },
   {
    "duration": 181,
    "start_time": "2022-10-12T09:39:12.212Z"
   },
   {
    "duration": 180,
    "start_time": "2022-10-12T09:39:32.975Z"
   },
   {
    "duration": 162,
    "start_time": "2022-10-12T09:39:48.655Z"
   },
   {
    "duration": 205,
    "start_time": "2022-10-12T09:39:57.123Z"
   },
   {
    "duration": 129,
    "start_time": "2022-10-12T09:40:11.725Z"
   },
   {
    "duration": 134,
    "start_time": "2022-10-12T09:40:20.505Z"
   },
   {
    "duration": 174,
    "start_time": "2022-10-12T09:41:25.444Z"
   },
   {
    "duration": 172,
    "start_time": "2022-10-12T09:41:28.879Z"
   },
   {
    "duration": 177,
    "start_time": "2022-10-12T09:41:35.068Z"
   },
   {
    "duration": 214,
    "start_time": "2022-10-12T09:45:17.359Z"
   },
   {
    "duration": 340,
    "start_time": "2022-10-12T09:45:21.976Z"
   },
   {
    "duration": 228,
    "start_time": "2022-10-12T09:45:58.276Z"
   },
   {
    "duration": 225,
    "start_time": "2022-10-12T09:46:22.334Z"
   },
   {
    "duration": 241,
    "start_time": "2022-10-12T09:46:26.261Z"
   },
   {
    "duration": 254,
    "start_time": "2022-10-12T09:46:44.878Z"
   },
   {
    "duration": 89,
    "start_time": "2022-10-12T09:50:33.724Z"
   },
   {
    "duration": 788,
    "start_time": "2022-10-12T09:50:41.299Z"
   },
   {
    "duration": 109,
    "start_time": "2022-10-12T09:50:42.089Z"
   },
   {
    "duration": 38,
    "start_time": "2022-10-12T09:50:42.203Z"
   },
   {
    "duration": 31,
    "start_time": "2022-10-12T09:50:42.244Z"
   },
   {
    "duration": 6,
    "start_time": "2022-10-12T09:50:42.295Z"
   },
   {
    "duration": 38,
    "start_time": "2022-10-12T09:50:42.303Z"
   },
   {
    "duration": 2572,
    "start_time": "2022-10-12T09:50:42.343Z"
   },
   {
    "duration": 11,
    "start_time": "2022-10-12T09:50:44.917Z"
   },
   {
    "duration": 8,
    "start_time": "2022-10-12T09:50:44.930Z"
   },
   {
    "duration": 12,
    "start_time": "2022-10-12T09:50:44.941Z"
   },
   {
    "duration": 9,
    "start_time": "2022-10-12T09:50:44.955Z"
   },
   {
    "duration": 5,
    "start_time": "2022-10-12T09:50:44.966Z"
   },
   {
    "duration": 22,
    "start_time": "2022-10-12T09:50:44.973Z"
   },
   {
    "duration": 32,
    "start_time": "2022-10-12T09:50:44.998Z"
   },
   {
    "duration": 8,
    "start_time": "2022-10-12T09:50:45.032Z"
   },
   {
    "duration": 8,
    "start_time": "2022-10-12T09:50:45.042Z"
   },
   {
    "duration": 10,
    "start_time": "2022-10-12T09:50:45.051Z"
   },
   {
    "duration": 6,
    "start_time": "2022-10-12T09:50:45.062Z"
   },
   {
    "duration": 9,
    "start_time": "2022-10-12T09:50:45.070Z"
   },
   {
    "duration": 7,
    "start_time": "2022-10-12T09:50:45.080Z"
   },
   {
    "duration": 24,
    "start_time": "2022-10-12T09:50:45.089Z"
   },
   {
    "duration": 29,
    "start_time": "2022-10-12T09:50:45.116Z"
   },
   {
    "duration": 8,
    "start_time": "2022-10-12T09:50:45.147Z"
   },
   {
    "duration": 15,
    "start_time": "2022-10-12T09:50:45.156Z"
   },
   {
    "duration": 15,
    "start_time": "2022-10-12T09:50:45.172Z"
   },
   {
    "duration": 31,
    "start_time": "2022-10-12T09:50:45.195Z"
   },
   {
    "duration": 18,
    "start_time": "2022-10-12T09:50:45.228Z"
   },
   {
    "duration": 54,
    "start_time": "2022-10-12T09:50:45.249Z"
   },
   {
    "duration": 8,
    "start_time": "2022-10-12T09:50:45.306Z"
   },
   {
    "duration": 85,
    "start_time": "2022-10-12T09:50:45.315Z"
   },
   {
    "duration": 10,
    "start_time": "2022-10-12T09:50:45.402Z"
   },
   {
    "duration": 33,
    "start_time": "2022-10-12T09:50:45.414Z"
   },
   {
    "duration": 51,
    "start_time": "2022-10-12T09:50:45.450Z"
   },
   {
    "duration": 11,
    "start_time": "2022-10-12T09:50:45.503Z"
   },
   {
    "duration": 8,
    "start_time": "2022-10-12T09:50:45.516Z"
   },
   {
    "duration": 9,
    "start_time": "2022-10-12T09:50:45.526Z"
   },
   {
    "duration": 9,
    "start_time": "2022-10-12T09:50:45.537Z"
   },
   {
    "duration": 5,
    "start_time": "2022-10-12T09:50:45.548Z"
   },
   {
    "duration": 8,
    "start_time": "2022-10-12T09:50:45.554Z"
   },
   {
    "duration": 46,
    "start_time": "2022-10-12T09:50:45.564Z"
   },
   {
    "duration": 17,
    "start_time": "2022-10-12T09:50:45.613Z"
   },
   {
    "duration": 12,
    "start_time": "2022-10-12T09:50:45.631Z"
   },
   {
    "duration": 90,
    "start_time": "2022-10-12T09:50:45.645Z"
   },
   {
    "duration": 5,
    "start_time": "2022-10-12T09:50:45.737Z"
   },
   {
    "duration": 9,
    "start_time": "2022-10-12T09:50:45.743Z"
   },
   {
    "duration": 7,
    "start_time": "2022-10-12T09:50:45.753Z"
   },
   {
    "duration": 6,
    "start_time": "2022-10-12T09:50:45.762Z"
   },
   {
    "duration": 30,
    "start_time": "2022-10-12T09:50:45.770Z"
   },
   {
    "duration": 10,
    "start_time": "2022-10-12T09:50:45.802Z"
   },
   {
    "duration": 384,
    "start_time": "2022-10-12T09:50:45.814Z"
   },
   {
    "duration": 4,
    "start_time": "2022-10-12T09:50:46.200Z"
   },
   {
    "duration": 259,
    "start_time": "2022-10-12T09:50:46.206Z"
   },
   {
    "duration": 274,
    "start_time": "2022-10-12T09:50:46.466Z"
   },
   {
    "duration": 277,
    "start_time": "2022-10-12T09:50:46.741Z"
   },
   {
    "duration": 222,
    "start_time": "2022-10-12T09:50:47.021Z"
   },
   {
    "duration": 205,
    "start_time": "2022-10-12T09:50:47.245Z"
   },
   {
    "duration": 207,
    "start_time": "2022-10-12T09:50:47.452Z"
   },
   {
    "duration": 182,
    "start_time": "2022-10-12T09:50:47.661Z"
   },
   {
    "duration": 158,
    "start_time": "2022-10-12T09:50:47.845Z"
   },
   {
    "duration": 224,
    "start_time": "2022-10-12T09:50:48.008Z"
   },
   {
    "duration": 327,
    "start_time": "2022-10-12T09:50:48.234Z"
   },
   {
    "duration": 302,
    "start_time": "2022-10-12T09:50:48.563Z"
   },
   {
    "duration": 178,
    "start_time": "2022-10-12T09:50:48.866Z"
   },
   {
    "duration": 198,
    "start_time": "2022-10-12T09:50:49.045Z"
   },
   {
    "duration": 176,
    "start_time": "2022-10-12T09:50:49.245Z"
   },
   {
    "duration": 279,
    "start_time": "2022-10-12T09:52:54.898Z"
   },
   {
    "duration": 46,
    "start_time": "2022-10-12T09:53:12.447Z"
   },
   {
    "duration": 10,
    "start_time": "2022-10-12T09:53:28.793Z"
   },
   {
    "duration": 78,
    "start_time": "2022-10-12T09:53:32.438Z"
   },
   {
    "duration": 10,
    "start_time": "2022-10-12T09:53:36.084Z"
   },
   {
    "duration": 684,
    "start_time": "2022-10-12T09:54:23.055Z"
   },
   {
    "duration": 100,
    "start_time": "2022-10-12T09:54:23.741Z"
   },
   {
    "duration": 42,
    "start_time": "2022-10-12T09:54:23.842Z"
   },
   {
    "duration": 31,
    "start_time": "2022-10-12T09:54:23.897Z"
   },
   {
    "duration": 4,
    "start_time": "2022-10-12T09:54:23.929Z"
   },
   {
    "duration": 17,
    "start_time": "2022-10-12T09:54:23.935Z"
   },
   {
    "duration": 2400,
    "start_time": "2022-10-12T09:54:23.954Z"
   },
   {
    "duration": 9,
    "start_time": "2022-10-12T09:54:26.356Z"
   },
   {
    "duration": 11,
    "start_time": "2022-10-12T09:54:26.367Z"
   },
   {
    "duration": 12,
    "start_time": "2022-10-12T09:54:26.381Z"
   },
   {
    "duration": 14,
    "start_time": "2022-10-12T09:54:26.394Z"
   },
   {
    "duration": 13,
    "start_time": "2022-10-12T09:54:26.411Z"
   },
   {
    "duration": 10,
    "start_time": "2022-10-12T09:54:26.426Z"
   },
   {
    "duration": 7,
    "start_time": "2022-10-12T09:54:26.438Z"
   },
   {
    "duration": 4,
    "start_time": "2022-10-12T09:54:26.447Z"
   },
   {
    "duration": 11,
    "start_time": "2022-10-12T09:54:26.452Z"
   },
   {
    "duration": 21,
    "start_time": "2022-10-12T09:54:26.465Z"
   },
   {
    "duration": 20,
    "start_time": "2022-10-12T09:54:26.487Z"
   },
   {
    "duration": 34,
    "start_time": "2022-10-12T09:54:26.511Z"
   },
   {
    "duration": 14,
    "start_time": "2022-10-12T09:54:26.547Z"
   },
   {
    "duration": 46,
    "start_time": "2022-10-12T09:54:26.563Z"
   },
   {
    "duration": 66,
    "start_time": "2022-10-12T09:54:26.611Z"
   },
   {
    "duration": 51,
    "start_time": "2022-10-12T09:54:26.679Z"
   },
   {
    "duration": 25,
    "start_time": "2022-10-12T09:54:26.732Z"
   },
   {
    "duration": 27,
    "start_time": "2022-10-12T09:54:26.761Z"
   },
   {
    "duration": 28,
    "start_time": "2022-10-12T09:54:26.790Z"
   },
   {
    "duration": 44,
    "start_time": "2022-10-12T09:54:26.820Z"
   },
   {
    "duration": 38,
    "start_time": "2022-10-12T09:54:26.869Z"
   },
   {
    "duration": 22,
    "start_time": "2022-10-12T09:54:26.914Z"
   },
   {
    "duration": 100,
    "start_time": "2022-10-12T09:54:26.938Z"
   },
   {
    "duration": 9,
    "start_time": "2022-10-12T09:54:27.040Z"
   },
   {
    "duration": 46,
    "start_time": "2022-10-12T09:54:27.051Z"
   },
   {
    "duration": 40,
    "start_time": "2022-10-12T09:54:27.099Z"
   },
   {
    "duration": 7,
    "start_time": "2022-10-12T09:54:27.141Z"
   },
   {
    "duration": 34,
    "start_time": "2022-10-12T09:54:27.150Z"
   },
   {
    "duration": 14,
    "start_time": "2022-10-12T09:54:27.186Z"
   },
   {
    "duration": 34,
    "start_time": "2022-10-12T09:54:27.203Z"
   },
   {
    "duration": 5,
    "start_time": "2022-10-12T09:54:27.239Z"
   },
   {
    "duration": 20,
    "start_time": "2022-10-12T09:54:27.246Z"
   },
   {
    "duration": 13,
    "start_time": "2022-10-12T09:54:27.268Z"
   },
   {
    "duration": 11,
    "start_time": "2022-10-12T09:54:27.283Z"
   },
   {
    "duration": 23,
    "start_time": "2022-10-12T09:54:27.296Z"
   },
   {
    "duration": 11,
    "start_time": "2022-10-12T09:54:27.322Z"
   },
   {
    "duration": 23,
    "start_time": "2022-10-12T09:54:27.335Z"
   },
   {
    "duration": 13,
    "start_time": "2022-10-12T09:54:27.361Z"
   },
   {
    "duration": 17,
    "start_time": "2022-10-12T09:54:27.375Z"
   },
   {
    "duration": 7,
    "start_time": "2022-10-12T09:54:27.394Z"
   },
   {
    "duration": 22,
    "start_time": "2022-10-12T09:54:27.403Z"
   },
   {
    "duration": 337,
    "start_time": "2022-10-12T09:54:27.427Z"
   },
   {
    "duration": 4,
    "start_time": "2022-10-12T09:54:27.766Z"
   },
   {
    "duration": 268,
    "start_time": "2022-10-12T09:54:27.771Z"
   },
   {
    "duration": 339,
    "start_time": "2022-10-12T09:54:28.041Z"
   },
   {
    "duration": 253,
    "start_time": "2022-10-12T09:54:28.382Z"
   },
   {
    "duration": 218,
    "start_time": "2022-10-12T09:54:28.637Z"
   },
   {
    "duration": 197,
    "start_time": "2022-10-12T09:54:28.856Z"
   },
   {
    "duration": 201,
    "start_time": "2022-10-12T09:54:29.054Z"
   },
   {
    "duration": 205,
    "start_time": "2022-10-12T09:54:29.257Z"
   },
   {
    "duration": 170,
    "start_time": "2022-10-12T09:54:29.464Z"
   },
   {
    "duration": 216,
    "start_time": "2022-10-12T09:54:29.636Z"
   },
   {
    "duration": 253,
    "start_time": "2022-10-12T09:54:29.854Z"
   },
   {
    "duration": 381,
    "start_time": "2022-10-12T09:54:30.109Z"
   },
   {
    "duration": 179,
    "start_time": "2022-10-12T09:54:30.495Z"
   },
   {
    "duration": 184,
    "start_time": "2022-10-12T09:54:30.676Z"
   },
   {
    "duration": 176,
    "start_time": "2022-10-12T09:54:30.863Z"
   },
   {
    "duration": 78,
    "start_time": "2022-10-12T09:54:48.336Z"
   },
   {
    "duration": 238,
    "start_time": "2022-10-12T09:54:53.109Z"
   },
   {
    "duration": 239,
    "start_time": "2022-10-12T09:54:58.937Z"
   },
   {
    "duration": 250,
    "start_time": "2022-10-12T09:55:05.227Z"
   },
   {
    "duration": 6,
    "start_time": "2022-10-12T09:56:34.731Z"
   },
   {
    "duration": 5,
    "start_time": "2022-10-12T09:56:43.111Z"
   },
   {
    "duration": 9,
    "start_time": "2022-10-12T09:56:52.701Z"
   },
   {
    "duration": 9,
    "start_time": "2022-10-12T09:57:46.841Z"
   },
   {
    "duration": 697,
    "start_time": "2022-10-12T09:59:07.806Z"
   },
   {
    "duration": 110,
    "start_time": "2022-10-12T09:59:08.506Z"
   },
   {
    "duration": 32,
    "start_time": "2022-10-12T09:59:08.618Z"
   },
   {
    "duration": 49,
    "start_time": "2022-10-12T09:59:08.652Z"
   },
   {
    "duration": 5,
    "start_time": "2022-10-12T09:59:08.703Z"
   },
   {
    "duration": 35,
    "start_time": "2022-10-12T09:59:08.710Z"
   },
   {
    "duration": 2393,
    "start_time": "2022-10-12T09:59:08.746Z"
   },
   {
    "duration": 10,
    "start_time": "2022-10-12T09:59:11.140Z"
   },
   {
    "duration": 13,
    "start_time": "2022-10-12T09:59:11.152Z"
   },
   {
    "duration": 11,
    "start_time": "2022-10-12T09:59:11.168Z"
   },
   {
    "duration": 19,
    "start_time": "2022-10-12T09:59:11.180Z"
   },
   {
    "duration": 37,
    "start_time": "2022-10-12T09:59:11.201Z"
   },
   {
    "duration": 14,
    "start_time": "2022-10-12T09:59:11.240Z"
   },
   {
    "duration": 10,
    "start_time": "2022-10-12T09:59:11.256Z"
   },
   {
    "duration": 4,
    "start_time": "2022-10-12T09:59:11.268Z"
   },
   {
    "duration": 6,
    "start_time": "2022-10-12T09:59:11.274Z"
   },
   {
    "duration": 6,
    "start_time": "2022-10-12T09:59:11.282Z"
   },
   {
    "duration": 4,
    "start_time": "2022-10-12T09:59:11.290Z"
   },
   {
    "duration": 12,
    "start_time": "2022-10-12T09:59:11.296Z"
   },
   {
    "duration": 10,
    "start_time": "2022-10-12T09:59:11.311Z"
   },
   {
    "duration": 10,
    "start_time": "2022-10-12T09:59:11.323Z"
   },
   {
    "duration": 14,
    "start_time": "2022-10-12T09:59:11.334Z"
   },
   {
    "duration": 9,
    "start_time": "2022-10-12T09:59:11.350Z"
   },
   {
    "duration": 37,
    "start_time": "2022-10-12T09:59:11.360Z"
   },
   {
    "duration": 20,
    "start_time": "2022-10-12T09:59:11.399Z"
   },
   {
    "duration": 27,
    "start_time": "2022-10-12T09:59:11.421Z"
   },
   {
    "duration": 26,
    "start_time": "2022-10-12T09:59:11.450Z"
   },
   {
    "duration": 36,
    "start_time": "2022-10-12T09:59:11.505Z"
   },
   {
    "duration": 9,
    "start_time": "2022-10-12T09:59:11.543Z"
   },
   {
    "duration": 98,
    "start_time": "2022-10-12T09:59:11.557Z"
   },
   {
    "duration": 10,
    "start_time": "2022-10-12T09:59:11.657Z"
   },
   {
    "duration": 50,
    "start_time": "2022-10-12T09:59:11.669Z"
   },
   {
    "duration": 26,
    "start_time": "2022-10-12T09:59:11.721Z"
   },
   {
    "duration": 15,
    "start_time": "2022-10-12T09:59:11.750Z"
   },
   {
    "duration": 6,
    "start_time": "2022-10-12T09:59:11.767Z"
   },
   {
    "duration": 9,
    "start_time": "2022-10-12T09:59:11.795Z"
   },
   {
    "duration": 25,
    "start_time": "2022-10-12T09:59:11.806Z"
   },
   {
    "duration": 6,
    "start_time": "2022-10-12T09:59:11.833Z"
   },
   {
    "duration": 10,
    "start_time": "2022-10-12T09:59:11.840Z"
   },
   {
    "duration": 12,
    "start_time": "2022-10-12T09:59:11.852Z"
   },
   {
    "duration": 9,
    "start_time": "2022-10-12T09:59:11.866Z"
   },
   {
    "duration": 17,
    "start_time": "2022-10-12T09:59:11.877Z"
   },
   {
    "duration": 9,
    "start_time": "2022-10-12T09:59:11.896Z"
   },
   {
    "duration": 16,
    "start_time": "2022-10-12T09:59:11.910Z"
   },
   {
    "duration": 9,
    "start_time": "2022-10-12T09:59:11.928Z"
   },
   {
    "duration": 6,
    "start_time": "2022-10-12T09:59:11.939Z"
   },
   {
    "duration": 11,
    "start_time": "2022-10-12T09:59:11.947Z"
   },
   {
    "duration": 7,
    "start_time": "2022-10-12T09:59:11.960Z"
   },
   {
    "duration": 27,
    "start_time": "2022-10-12T09:59:11.969Z"
   },
   {
    "duration": 297,
    "start_time": "2022-10-12T09:59:11.998Z"
   },
   {
    "duration": 6,
    "start_time": "2022-10-12T09:59:12.297Z"
   },
   {
    "duration": 303,
    "start_time": "2022-10-12T09:59:12.305Z"
   },
   {
    "duration": 351,
    "start_time": "2022-10-12T09:59:12.610Z"
   },
   {
    "duration": 240,
    "start_time": "2022-10-12T09:59:12.963Z"
   },
   {
    "duration": 216,
    "start_time": "2022-10-12T09:59:13.210Z"
   },
   {
    "duration": 197,
    "start_time": "2022-10-12T09:59:13.428Z"
   },
   {
    "duration": 217,
    "start_time": "2022-10-12T09:59:13.627Z"
   },
   {
    "duration": 189,
    "start_time": "2022-10-12T09:59:13.846Z"
   },
   {
    "duration": 189,
    "start_time": "2022-10-12T09:59:14.037Z"
   },
   {
    "duration": 195,
    "start_time": "2022-10-12T09:59:14.227Z"
   },
   {
    "duration": 219,
    "start_time": "2022-10-12T09:59:14.424Z"
   },
   {
    "duration": 535,
    "start_time": "2022-10-12T09:59:14.645Z"
   },
   {
    "duration": 178,
    "start_time": "2022-10-12T09:59:15.181Z"
   },
   {
    "duration": 179,
    "start_time": "2022-10-12T09:59:15.361Z"
   },
   {
    "duration": 176,
    "start_time": "2022-10-12T09:59:15.541Z"
   },
   {
    "duration": 183,
    "start_time": "2022-10-12T10:00:26.387Z"
   },
   {
    "duration": 175,
    "start_time": "2022-10-12T10:00:55.255Z"
   },
   {
    "duration": 194,
    "start_time": "2022-10-12T10:01:00.105Z"
   },
   {
    "duration": 196,
    "start_time": "2022-10-12T10:01:07.414Z"
   },
   {
    "duration": 169,
    "start_time": "2022-10-12T10:01:14.890Z"
   },
   {
    "duration": 175,
    "start_time": "2022-10-12T10:03:03.303Z"
   },
   {
    "duration": 212,
    "start_time": "2022-10-12T10:03:27.011Z"
   },
   {
    "duration": 936,
    "start_time": "2022-10-12T13:26:23.785Z"
   },
   {
    "duration": 213,
    "start_time": "2022-10-12T13:26:24.724Z"
   },
   {
    "duration": 49,
    "start_time": "2022-10-12T13:26:24.939Z"
   },
   {
    "duration": 46,
    "start_time": "2022-10-12T13:26:24.995Z"
   },
   {
    "duration": 22,
    "start_time": "2022-10-12T13:26:25.044Z"
   },
   {
    "duration": 41,
    "start_time": "2022-10-12T13:26:25.068Z"
   },
   {
    "duration": 2456,
    "start_time": "2022-10-12T13:26:25.113Z"
   },
   {
    "duration": 11,
    "start_time": "2022-10-12T13:26:27.572Z"
   },
   {
    "duration": 29,
    "start_time": "2022-10-12T13:26:27.585Z"
   },
   {
    "duration": 21,
    "start_time": "2022-10-12T13:26:27.615Z"
   },
   {
    "duration": 17,
    "start_time": "2022-10-12T13:26:27.638Z"
   },
   {
    "duration": 14,
    "start_time": "2022-10-12T13:26:27.657Z"
   },
   {
    "duration": 41,
    "start_time": "2022-10-12T13:26:27.672Z"
   },
   {
    "duration": 16,
    "start_time": "2022-10-12T13:26:27.717Z"
   },
   {
    "duration": 13,
    "start_time": "2022-10-12T13:26:27.735Z"
   },
   {
    "duration": 12,
    "start_time": "2022-10-12T13:26:27.751Z"
   },
   {
    "duration": 18,
    "start_time": "2022-10-12T13:26:27.765Z"
   },
   {
    "duration": 44,
    "start_time": "2022-10-12T13:26:27.784Z"
   },
   {
    "duration": 7,
    "start_time": "2022-10-12T13:26:27.830Z"
   },
   {
    "duration": 29,
    "start_time": "2022-10-12T13:26:27.839Z"
   },
   {
    "duration": 61,
    "start_time": "2022-10-12T13:26:27.870Z"
   },
   {
    "duration": 23,
    "start_time": "2022-10-12T13:26:27.933Z"
   },
   {
    "duration": 16,
    "start_time": "2022-10-12T13:26:27.959Z"
   },
   {
    "duration": 39,
    "start_time": "2022-10-12T13:26:27.977Z"
   },
   {
    "duration": 29,
    "start_time": "2022-10-12T13:26:28.018Z"
   },
   {
    "duration": 23,
    "start_time": "2022-10-12T13:26:28.050Z"
   },
   {
    "duration": 36,
    "start_time": "2022-10-12T13:26:28.075Z"
   },
   {
    "duration": 47,
    "start_time": "2022-10-12T13:26:28.114Z"
   },
   {
    "duration": 40,
    "start_time": "2022-10-12T13:26:28.163Z"
   },
   {
    "duration": 109,
    "start_time": "2022-10-12T13:26:28.209Z"
   },
   {
    "duration": 13,
    "start_time": "2022-10-12T13:26:28.320Z"
   },
   {
    "duration": 52,
    "start_time": "2022-10-12T13:26:28.335Z"
   },
   {
    "duration": 29,
    "start_time": "2022-10-12T13:26:28.388Z"
   },
   {
    "duration": 11,
    "start_time": "2022-10-12T13:26:28.419Z"
   },
   {
    "duration": 13,
    "start_time": "2022-10-12T13:26:28.432Z"
   },
   {
    "duration": 15,
    "start_time": "2022-10-12T13:26:28.447Z"
   },
   {
    "duration": 8,
    "start_time": "2022-10-12T13:26:28.465Z"
   },
   {
    "duration": 10,
    "start_time": "2022-10-12T13:26:28.489Z"
   },
   {
    "duration": 16,
    "start_time": "2022-10-12T13:26:28.503Z"
   },
   {
    "duration": 13,
    "start_time": "2022-10-12T13:26:28.521Z"
   },
   {
    "duration": 7,
    "start_time": "2022-10-12T13:26:28.539Z"
   },
   {
    "duration": 16,
    "start_time": "2022-10-12T13:26:28.548Z"
   },
   {
    "duration": 13,
    "start_time": "2022-10-12T13:26:28.566Z"
   },
   {
    "duration": 27,
    "start_time": "2022-10-12T13:26:28.588Z"
   },
   {
    "duration": 15,
    "start_time": "2022-10-12T13:26:28.617Z"
   },
   {
    "duration": 7,
    "start_time": "2022-10-12T13:26:28.634Z"
   },
   {
    "duration": 7,
    "start_time": "2022-10-12T13:26:28.643Z"
   },
   {
    "duration": 11,
    "start_time": "2022-10-12T13:26:28.652Z"
   },
   {
    "duration": 6,
    "start_time": "2022-10-12T13:26:28.665Z"
   },
   {
    "duration": 303,
    "start_time": "2022-10-12T13:26:28.673Z"
   },
   {
    "duration": 15,
    "start_time": "2022-10-12T13:26:28.980Z"
   },
   {
    "duration": 298,
    "start_time": "2022-10-12T13:26:29.000Z"
   },
   {
    "duration": 362,
    "start_time": "2022-10-12T13:26:29.304Z"
   },
   {
    "duration": 238,
    "start_time": "2022-10-12T13:26:29.669Z"
   },
   {
    "duration": 229,
    "start_time": "2022-10-12T13:26:29.909Z"
   },
   {
    "duration": 205,
    "start_time": "2022-10-12T13:26:30.140Z"
   },
   {
    "duration": 230,
    "start_time": "2022-10-12T13:26:30.347Z"
   },
   {
    "duration": 205,
    "start_time": "2022-10-12T13:26:30.579Z"
   },
   {
    "duration": 165,
    "start_time": "2022-10-12T13:26:30.790Z"
   },
   {
    "duration": 206,
    "start_time": "2022-10-12T13:26:30.957Z"
   },
   {
    "duration": 246,
    "start_time": "2022-10-12T13:26:31.164Z"
   },
   {
    "duration": 350,
    "start_time": "2022-10-12T13:26:31.412Z"
   },
   {
    "duration": 215,
    "start_time": "2022-10-12T13:26:31.764Z"
   },
   {
    "duration": 243,
    "start_time": "2022-10-12T13:26:31.993Z"
   },
   {
    "duration": 234,
    "start_time": "2022-10-12T13:26:32.239Z"
   },
   {
    "duration": 9,
    "start_time": "2022-10-12T13:50:55.850Z"
   },
   {
    "duration": 9,
    "start_time": "2022-10-12T13:50:56.107Z"
   },
   {
    "duration": 6,
    "start_time": "2022-10-12T13:50:56.315Z"
   },
   {
    "duration": 4,
    "start_time": "2022-10-12T13:50:56.935Z"
   },
   {
    "duration": 6,
    "start_time": "2022-10-12T13:50:57.757Z"
   },
   {
    "duration": 3,
    "start_time": "2022-10-12T13:50:58.844Z"
   },
   {
    "duration": 5,
    "start_time": "2022-10-12T13:50:59.341Z"
   },
   {
    "duration": 5,
    "start_time": "2022-10-12T13:50:59.930Z"
   },
   {
    "duration": 3,
    "start_time": "2022-10-12T13:51:01.519Z"
   },
   {
    "duration": 5,
    "start_time": "2022-10-12T13:51:01.799Z"
   },
   {
    "duration": 6,
    "start_time": "2022-10-12T13:51:02.109Z"
   },
   {
    "duration": 11,
    "start_time": "2022-10-12T13:51:03.539Z"
   },
   {
    "duration": 727,
    "start_time": "2022-10-12T13:51:13.690Z"
   },
   {
    "duration": 93,
    "start_time": "2022-10-12T13:51:14.420Z"
   },
   {
    "duration": 0,
    "start_time": "2022-10-12T13:51:14.517Z"
   },
   {
    "duration": 0,
    "start_time": "2022-10-12T13:51:14.518Z"
   },
   {
    "duration": 0,
    "start_time": "2022-10-12T13:51:14.520Z"
   },
   {
    "duration": 0,
    "start_time": "2022-10-12T13:51:14.521Z"
   },
   {
    "duration": 0,
    "start_time": "2022-10-12T13:51:14.522Z"
   },
   {
    "duration": 0,
    "start_time": "2022-10-12T13:51:14.524Z"
   },
   {
    "duration": 0,
    "start_time": "2022-10-12T13:51:14.525Z"
   },
   {
    "duration": 0,
    "start_time": "2022-10-12T13:51:14.526Z"
   },
   {
    "duration": 0,
    "start_time": "2022-10-12T13:51:14.528Z"
   },
   {
    "duration": 0,
    "start_time": "2022-10-12T13:51:14.529Z"
   },
   {
    "duration": 0,
    "start_time": "2022-10-12T13:51:14.530Z"
   },
   {
    "duration": 0,
    "start_time": "2022-10-12T13:51:14.531Z"
   },
   {
    "duration": 0,
    "start_time": "2022-10-12T13:51:14.532Z"
   },
   {
    "duration": 1,
    "start_time": "2022-10-12T13:51:14.533Z"
   },
   {
    "duration": 0,
    "start_time": "2022-10-12T13:51:14.534Z"
   },
   {
    "duration": 0,
    "start_time": "2022-10-12T13:51:14.536Z"
   },
   {
    "duration": 0,
    "start_time": "2022-10-12T13:51:14.538Z"
   },
   {
    "duration": 0,
    "start_time": "2022-10-12T13:51:14.539Z"
   },
   {
    "duration": 0,
    "start_time": "2022-10-12T13:51:14.541Z"
   },
   {
    "duration": 0,
    "start_time": "2022-10-12T13:51:14.542Z"
   },
   {
    "duration": 0,
    "start_time": "2022-10-12T13:51:14.544Z"
   },
   {
    "duration": 0,
    "start_time": "2022-10-12T13:51:14.590Z"
   },
   {
    "duration": 0,
    "start_time": "2022-10-12T13:51:14.591Z"
   },
   {
    "duration": 0,
    "start_time": "2022-10-12T13:51:14.593Z"
   },
   {
    "duration": 0,
    "start_time": "2022-10-12T13:51:14.594Z"
   },
   {
    "duration": 1,
    "start_time": "2022-10-12T13:51:14.595Z"
   },
   {
    "duration": 0,
    "start_time": "2022-10-12T13:51:14.597Z"
   },
   {
    "duration": 0,
    "start_time": "2022-10-12T13:51:14.598Z"
   },
   {
    "duration": 0,
    "start_time": "2022-10-12T13:51:14.598Z"
   },
   {
    "duration": 0,
    "start_time": "2022-10-12T13:51:14.599Z"
   },
   {
    "duration": 0,
    "start_time": "2022-10-12T13:51:14.600Z"
   },
   {
    "duration": 0,
    "start_time": "2022-10-12T13:51:14.601Z"
   },
   {
    "duration": 0,
    "start_time": "2022-10-12T13:51:14.602Z"
   },
   {
    "duration": 0,
    "start_time": "2022-10-12T13:51:14.603Z"
   },
   {
    "duration": 0,
    "start_time": "2022-10-12T13:51:14.604Z"
   },
   {
    "duration": 0,
    "start_time": "2022-10-12T13:51:14.606Z"
   },
   {
    "duration": 0,
    "start_time": "2022-10-12T13:51:14.607Z"
   },
   {
    "duration": 0,
    "start_time": "2022-10-12T13:51:14.609Z"
   },
   {
    "duration": 0,
    "start_time": "2022-10-12T13:51:14.610Z"
   },
   {
    "duration": 0,
    "start_time": "2022-10-12T13:51:14.611Z"
   },
   {
    "duration": 0,
    "start_time": "2022-10-12T13:51:14.612Z"
   },
   {
    "duration": 0,
    "start_time": "2022-10-12T13:51:14.613Z"
   },
   {
    "duration": 0,
    "start_time": "2022-10-12T13:51:14.614Z"
   },
   {
    "duration": 0,
    "start_time": "2022-10-12T13:51:14.615Z"
   },
   {
    "duration": 0,
    "start_time": "2022-10-12T13:51:14.615Z"
   },
   {
    "duration": 1,
    "start_time": "2022-10-12T13:51:14.616Z"
   },
   {
    "duration": 0,
    "start_time": "2022-10-12T13:51:14.618Z"
   },
   {
    "duration": 0,
    "start_time": "2022-10-12T13:51:14.618Z"
   },
   {
    "duration": 0,
    "start_time": "2022-10-12T13:51:14.619Z"
   },
   {
    "duration": 0,
    "start_time": "2022-10-12T13:51:14.620Z"
   },
   {
    "duration": 0,
    "start_time": "2022-10-12T13:51:14.621Z"
   },
   {
    "duration": 0,
    "start_time": "2022-10-12T13:51:14.622Z"
   },
   {
    "duration": 0,
    "start_time": "2022-10-12T13:51:14.623Z"
   },
   {
    "duration": 0,
    "start_time": "2022-10-12T13:51:14.624Z"
   },
   {
    "duration": 0,
    "start_time": "2022-10-12T13:51:14.626Z"
   },
   {
    "duration": 0,
    "start_time": "2022-10-12T13:51:14.627Z"
   },
   {
    "duration": 0,
    "start_time": "2022-10-12T13:51:14.689Z"
   },
   {
    "duration": 0,
    "start_time": "2022-10-12T13:51:14.690Z"
   },
   {
    "duration": 0,
    "start_time": "2022-10-12T13:51:14.691Z"
   },
   {
    "duration": 0,
    "start_time": "2022-10-12T13:51:14.693Z"
   },
   {
    "duration": 0,
    "start_time": "2022-10-12T13:51:14.694Z"
   },
   {
    "duration": 0,
    "start_time": "2022-10-12T13:51:14.695Z"
   },
   {
    "duration": 23,
    "start_time": "2022-10-12T13:51:34.917Z"
   },
   {
    "duration": 666,
    "start_time": "2022-10-12T13:51:46.809Z"
   },
   {
    "duration": 86,
    "start_time": "2022-10-12T13:51:47.477Z"
   },
   {
    "duration": 0,
    "start_time": "2022-10-12T13:51:47.566Z"
   },
   {
    "duration": 0,
    "start_time": "2022-10-12T13:51:47.567Z"
   },
   {
    "duration": 0,
    "start_time": "2022-10-12T13:51:47.568Z"
   },
   {
    "duration": 0,
    "start_time": "2022-10-12T13:51:47.569Z"
   },
   {
    "duration": 0,
    "start_time": "2022-10-12T13:51:47.570Z"
   },
   {
    "duration": 0,
    "start_time": "2022-10-12T13:51:47.572Z"
   },
   {
    "duration": 0,
    "start_time": "2022-10-12T13:51:47.573Z"
   },
   {
    "duration": 0,
    "start_time": "2022-10-12T13:51:47.574Z"
   },
   {
    "duration": 0,
    "start_time": "2022-10-12T13:51:47.590Z"
   },
   {
    "duration": 0,
    "start_time": "2022-10-12T13:51:47.591Z"
   },
   {
    "duration": 0,
    "start_time": "2022-10-12T13:51:47.592Z"
   },
   {
    "duration": 0,
    "start_time": "2022-10-12T13:51:47.593Z"
   },
   {
    "duration": 0,
    "start_time": "2022-10-12T13:51:47.594Z"
   },
   {
    "duration": 0,
    "start_time": "2022-10-12T13:51:47.595Z"
   },
   {
    "duration": 0,
    "start_time": "2022-10-12T13:51:47.596Z"
   },
   {
    "duration": 0,
    "start_time": "2022-10-12T13:51:47.597Z"
   },
   {
    "duration": 0,
    "start_time": "2022-10-12T13:51:47.598Z"
   },
   {
    "duration": 0,
    "start_time": "2022-10-12T13:51:47.599Z"
   },
   {
    "duration": 0,
    "start_time": "2022-10-12T13:51:47.600Z"
   },
   {
    "duration": 0,
    "start_time": "2022-10-12T13:51:47.601Z"
   },
   {
    "duration": 0,
    "start_time": "2022-10-12T13:51:47.602Z"
   },
   {
    "duration": 0,
    "start_time": "2022-10-12T13:51:47.603Z"
   },
   {
    "duration": 0,
    "start_time": "2022-10-12T13:51:47.604Z"
   },
   {
    "duration": 0,
    "start_time": "2022-10-12T13:51:47.606Z"
   },
   {
    "duration": 1,
    "start_time": "2022-10-12T13:51:47.606Z"
   },
   {
    "duration": 0,
    "start_time": "2022-10-12T13:51:47.607Z"
   },
   {
    "duration": 0,
    "start_time": "2022-10-12T13:51:47.609Z"
   },
   {
    "duration": 0,
    "start_time": "2022-10-12T13:51:47.610Z"
   },
   {
    "duration": 0,
    "start_time": "2022-10-12T13:51:47.611Z"
   },
   {
    "duration": 0,
    "start_time": "2022-10-12T13:51:47.612Z"
   },
   {
    "duration": 0,
    "start_time": "2022-10-12T13:51:47.613Z"
   },
   {
    "duration": 0,
    "start_time": "2022-10-12T13:51:47.614Z"
   },
   {
    "duration": 0,
    "start_time": "2022-10-12T13:51:47.616Z"
   },
   {
    "duration": 0,
    "start_time": "2022-10-12T13:51:47.617Z"
   },
   {
    "duration": 0,
    "start_time": "2022-10-12T13:51:47.617Z"
   },
   {
    "duration": 0,
    "start_time": "2022-10-12T13:51:47.619Z"
   },
   {
    "duration": 0,
    "start_time": "2022-10-12T13:51:47.620Z"
   },
   {
    "duration": 0,
    "start_time": "2022-10-12T13:51:47.621Z"
   },
   {
    "duration": 0,
    "start_time": "2022-10-12T13:51:47.622Z"
   },
   {
    "duration": 0,
    "start_time": "2022-10-12T13:51:47.623Z"
   },
   {
    "duration": 0,
    "start_time": "2022-10-12T13:51:47.625Z"
   },
   {
    "duration": 0,
    "start_time": "2022-10-12T13:51:47.626Z"
   },
   {
    "duration": 0,
    "start_time": "2022-10-12T13:51:47.627Z"
   },
   {
    "duration": 0,
    "start_time": "2022-10-12T13:51:47.690Z"
   },
   {
    "duration": 0,
    "start_time": "2022-10-12T13:51:47.691Z"
   },
   {
    "duration": 0,
    "start_time": "2022-10-12T13:51:47.692Z"
   },
   {
    "duration": 0,
    "start_time": "2022-10-12T13:51:47.693Z"
   },
   {
    "duration": 0,
    "start_time": "2022-10-12T13:51:47.694Z"
   },
   {
    "duration": 0,
    "start_time": "2022-10-12T13:51:47.695Z"
   },
   {
    "duration": 0,
    "start_time": "2022-10-12T13:51:47.696Z"
   },
   {
    "duration": 0,
    "start_time": "2022-10-12T13:51:47.697Z"
   },
   {
    "duration": 0,
    "start_time": "2022-10-12T13:51:47.698Z"
   },
   {
    "duration": 0,
    "start_time": "2022-10-12T13:51:47.699Z"
   },
   {
    "duration": 0,
    "start_time": "2022-10-12T13:51:47.700Z"
   },
   {
    "duration": 0,
    "start_time": "2022-10-12T13:51:47.701Z"
   },
   {
    "duration": 0,
    "start_time": "2022-10-12T13:51:47.702Z"
   },
   {
    "duration": 0,
    "start_time": "2022-10-12T13:51:47.703Z"
   },
   {
    "duration": 0,
    "start_time": "2022-10-12T13:51:47.705Z"
   },
   {
    "duration": 0,
    "start_time": "2022-10-12T13:51:47.706Z"
   },
   {
    "duration": 0,
    "start_time": "2022-10-12T13:51:47.707Z"
   },
   {
    "duration": 0,
    "start_time": "2022-10-12T13:51:47.708Z"
   },
   {
    "duration": 0,
    "start_time": "2022-10-12T13:51:47.709Z"
   },
   {
    "duration": 709,
    "start_time": "2022-10-12T13:52:17.598Z"
   },
   {
    "duration": 99,
    "start_time": "2022-10-12T13:52:18.310Z"
   },
   {
    "duration": 0,
    "start_time": "2022-10-12T13:52:18.413Z"
   },
   {
    "duration": 0,
    "start_time": "2022-10-12T13:52:18.414Z"
   },
   {
    "duration": 0,
    "start_time": "2022-10-12T13:52:18.415Z"
   },
   {
    "duration": 0,
    "start_time": "2022-10-12T13:52:18.416Z"
   },
   {
    "duration": 0,
    "start_time": "2022-10-12T13:52:18.417Z"
   },
   {
    "duration": 0,
    "start_time": "2022-10-12T13:52:18.418Z"
   },
   {
    "duration": 0,
    "start_time": "2022-10-12T13:52:18.418Z"
   },
   {
    "duration": 0,
    "start_time": "2022-10-12T13:52:18.419Z"
   },
   {
    "duration": 0,
    "start_time": "2022-10-12T13:52:18.421Z"
   },
   {
    "duration": 0,
    "start_time": "2022-10-12T13:52:18.422Z"
   },
   {
    "duration": 0,
    "start_time": "2022-10-12T13:52:18.423Z"
   },
   {
    "duration": 0,
    "start_time": "2022-10-12T13:52:18.424Z"
   },
   {
    "duration": 0,
    "start_time": "2022-10-12T13:52:18.425Z"
   },
   {
    "duration": 0,
    "start_time": "2022-10-12T13:52:18.426Z"
   },
   {
    "duration": 0,
    "start_time": "2022-10-12T13:52:18.427Z"
   },
   {
    "duration": 0,
    "start_time": "2022-10-12T13:52:18.428Z"
   },
   {
    "duration": 0,
    "start_time": "2022-10-12T13:52:18.429Z"
   },
   {
    "duration": 0,
    "start_time": "2022-10-12T13:52:18.430Z"
   },
   {
    "duration": 0,
    "start_time": "2022-10-12T13:52:18.431Z"
   },
   {
    "duration": 0,
    "start_time": "2022-10-12T13:52:18.432Z"
   },
   {
    "duration": 0,
    "start_time": "2022-10-12T13:52:18.433Z"
   },
   {
    "duration": 0,
    "start_time": "2022-10-12T13:52:18.434Z"
   },
   {
    "duration": 0,
    "start_time": "2022-10-12T13:52:18.435Z"
   },
   {
    "duration": 0,
    "start_time": "2022-10-12T13:52:18.436Z"
   },
   {
    "duration": 0,
    "start_time": "2022-10-12T13:52:18.437Z"
   },
   {
    "duration": 0,
    "start_time": "2022-10-12T13:52:18.438Z"
   },
   {
    "duration": 0,
    "start_time": "2022-10-12T13:52:18.439Z"
   },
   {
    "duration": 0,
    "start_time": "2022-10-12T13:52:18.440Z"
   },
   {
    "duration": 0,
    "start_time": "2022-10-12T13:52:18.440Z"
   },
   {
    "duration": 0,
    "start_time": "2022-10-12T13:52:18.442Z"
   },
   {
    "duration": 0,
    "start_time": "2022-10-12T13:52:18.489Z"
   },
   {
    "duration": 0,
    "start_time": "2022-10-12T13:52:18.491Z"
   },
   {
    "duration": 0,
    "start_time": "2022-10-12T13:52:18.492Z"
   },
   {
    "duration": 0,
    "start_time": "2022-10-12T13:52:18.493Z"
   },
   {
    "duration": 0,
    "start_time": "2022-10-12T13:52:18.494Z"
   },
   {
    "duration": 0,
    "start_time": "2022-10-12T13:52:18.495Z"
   },
   {
    "duration": 0,
    "start_time": "2022-10-12T13:52:18.496Z"
   },
   {
    "duration": 0,
    "start_time": "2022-10-12T13:52:18.497Z"
   },
   {
    "duration": 0,
    "start_time": "2022-10-12T13:52:18.498Z"
   },
   {
    "duration": 0,
    "start_time": "2022-10-12T13:52:18.499Z"
   },
   {
    "duration": 0,
    "start_time": "2022-10-12T13:52:18.500Z"
   },
   {
    "duration": 0,
    "start_time": "2022-10-12T13:52:18.501Z"
   },
   {
    "duration": 0,
    "start_time": "2022-10-12T13:52:18.502Z"
   },
   {
    "duration": 0,
    "start_time": "2022-10-12T13:52:18.503Z"
   },
   {
    "duration": 0,
    "start_time": "2022-10-12T13:52:18.504Z"
   },
   {
    "duration": 0,
    "start_time": "2022-10-12T13:52:18.505Z"
   },
   {
    "duration": 0,
    "start_time": "2022-10-12T13:52:18.506Z"
   },
   {
    "duration": 0,
    "start_time": "2022-10-12T13:52:18.507Z"
   },
   {
    "duration": 0,
    "start_time": "2022-10-12T13:52:18.508Z"
   },
   {
    "duration": 0,
    "start_time": "2022-10-12T13:52:18.509Z"
   },
   {
    "duration": 0,
    "start_time": "2022-10-12T13:52:18.510Z"
   },
   {
    "duration": 0,
    "start_time": "2022-10-12T13:52:18.511Z"
   },
   {
    "duration": 0,
    "start_time": "2022-10-12T13:52:18.513Z"
   },
   {
    "duration": 0,
    "start_time": "2022-10-12T13:52:18.514Z"
   },
   {
    "duration": 0,
    "start_time": "2022-10-12T13:52:18.515Z"
   },
   {
    "duration": 1,
    "start_time": "2022-10-12T13:52:18.515Z"
   },
   {
    "duration": 0,
    "start_time": "2022-10-12T13:52:18.516Z"
   },
   {
    "duration": 0,
    "start_time": "2022-10-12T13:52:18.517Z"
   },
   {
    "duration": 0,
    "start_time": "2022-10-12T13:52:18.518Z"
   },
   {
    "duration": 0,
    "start_time": "2022-10-12T13:52:18.519Z"
   },
   {
    "duration": 0,
    "start_time": "2022-10-12T13:52:18.520Z"
   },
   {
    "duration": 0,
    "start_time": "2022-10-12T13:52:18.521Z"
   },
   {
    "duration": 4,
    "start_time": "2022-10-12T13:52:32.102Z"
   },
   {
    "duration": 21,
    "start_time": "2022-10-12T13:52:32.680Z"
   },
   {
    "duration": 703,
    "start_time": "2022-10-12T13:53:46.176Z"
   },
   {
    "duration": 87,
    "start_time": "2022-10-12T13:53:46.881Z"
   },
   {
    "duration": 0,
    "start_time": "2022-10-12T13:53:46.971Z"
   },
   {
    "duration": 0,
    "start_time": "2022-10-12T13:53:46.972Z"
   },
   {
    "duration": 0,
    "start_time": "2022-10-12T13:53:46.973Z"
   },
   {
    "duration": 0,
    "start_time": "2022-10-12T13:53:46.974Z"
   },
   {
    "duration": 0,
    "start_time": "2022-10-12T13:53:46.975Z"
   },
   {
    "duration": 0,
    "start_time": "2022-10-12T13:53:46.976Z"
   },
   {
    "duration": 0,
    "start_time": "2022-10-12T13:53:46.977Z"
   },
   {
    "duration": 0,
    "start_time": "2022-10-12T13:53:46.978Z"
   },
   {
    "duration": 0,
    "start_time": "2022-10-12T13:53:46.979Z"
   },
   {
    "duration": 0,
    "start_time": "2022-10-12T13:53:46.989Z"
   },
   {
    "duration": 0,
    "start_time": "2022-10-12T13:53:46.990Z"
   },
   {
    "duration": 0,
    "start_time": "2022-10-12T13:53:46.991Z"
   },
   {
    "duration": 0,
    "start_time": "2022-10-12T13:53:46.993Z"
   },
   {
    "duration": 0,
    "start_time": "2022-10-12T13:53:46.994Z"
   },
   {
    "duration": 0,
    "start_time": "2022-10-12T13:53:46.996Z"
   },
   {
    "duration": 0,
    "start_time": "2022-10-12T13:53:46.997Z"
   },
   {
    "duration": 0,
    "start_time": "2022-10-12T13:53:46.998Z"
   },
   {
    "duration": 0,
    "start_time": "2022-10-12T13:53:46.999Z"
   },
   {
    "duration": 0,
    "start_time": "2022-10-12T13:53:47.000Z"
   },
   {
    "duration": 0,
    "start_time": "2022-10-12T13:53:47.001Z"
   },
   {
    "duration": 0,
    "start_time": "2022-10-12T13:53:47.002Z"
   },
   {
    "duration": 0,
    "start_time": "2022-10-12T13:53:47.003Z"
   },
   {
    "duration": 0,
    "start_time": "2022-10-12T13:53:47.005Z"
   },
   {
    "duration": 0,
    "start_time": "2022-10-12T13:53:47.007Z"
   },
   {
    "duration": 0,
    "start_time": "2022-10-12T13:53:47.008Z"
   },
   {
    "duration": 0,
    "start_time": "2022-10-12T13:53:47.009Z"
   },
   {
    "duration": 0,
    "start_time": "2022-10-12T13:53:47.010Z"
   },
   {
    "duration": 0,
    "start_time": "2022-10-12T13:53:47.011Z"
   },
   {
    "duration": 0,
    "start_time": "2022-10-12T13:53:47.012Z"
   },
   {
    "duration": 0,
    "start_time": "2022-10-12T13:53:47.013Z"
   },
   {
    "duration": 0,
    "start_time": "2022-10-12T13:53:47.014Z"
   },
   {
    "duration": 0,
    "start_time": "2022-10-12T13:53:47.015Z"
   },
   {
    "duration": 0,
    "start_time": "2022-10-12T13:53:47.016Z"
   },
   {
    "duration": 0,
    "start_time": "2022-10-12T13:53:47.017Z"
   },
   {
    "duration": 0,
    "start_time": "2022-10-12T13:53:47.019Z"
   },
   {
    "duration": 0,
    "start_time": "2022-10-12T13:53:47.020Z"
   },
   {
    "duration": 0,
    "start_time": "2022-10-12T13:53:47.021Z"
   },
   {
    "duration": 0,
    "start_time": "2022-10-12T13:53:47.023Z"
   },
   {
    "duration": 0,
    "start_time": "2022-10-12T13:53:47.024Z"
   },
   {
    "duration": 0,
    "start_time": "2022-10-12T13:53:47.025Z"
   },
   {
    "duration": 0,
    "start_time": "2022-10-12T13:53:47.026Z"
   },
   {
    "duration": 0,
    "start_time": "2022-10-12T13:53:47.089Z"
   },
   {
    "duration": 0,
    "start_time": "2022-10-12T13:53:47.090Z"
   },
   {
    "duration": 0,
    "start_time": "2022-10-12T13:53:47.091Z"
   },
   {
    "duration": 0,
    "start_time": "2022-10-12T13:53:47.092Z"
   },
   {
    "duration": 0,
    "start_time": "2022-10-12T13:53:47.093Z"
   },
   {
    "duration": 0,
    "start_time": "2022-10-12T13:53:47.094Z"
   },
   {
    "duration": 0,
    "start_time": "2022-10-12T13:53:47.095Z"
   },
   {
    "duration": 0,
    "start_time": "2022-10-12T13:53:47.096Z"
   },
   {
    "duration": 0,
    "start_time": "2022-10-12T13:53:47.097Z"
   },
   {
    "duration": 0,
    "start_time": "2022-10-12T13:53:47.099Z"
   },
   {
    "duration": 0,
    "start_time": "2022-10-12T13:53:47.099Z"
   },
   {
    "duration": 0,
    "start_time": "2022-10-12T13:53:47.100Z"
   },
   {
    "duration": 0,
    "start_time": "2022-10-12T13:53:47.101Z"
   },
   {
    "duration": 0,
    "start_time": "2022-10-12T13:53:47.102Z"
   },
   {
    "duration": 0,
    "start_time": "2022-10-12T13:53:47.103Z"
   },
   {
    "duration": 0,
    "start_time": "2022-10-12T13:53:47.104Z"
   },
   {
    "duration": 1,
    "start_time": "2022-10-12T13:53:47.105Z"
   },
   {
    "duration": 0,
    "start_time": "2022-10-12T13:53:47.106Z"
   },
   {
    "duration": 0,
    "start_time": "2022-10-12T13:53:47.107Z"
   },
   {
    "duration": 0,
    "start_time": "2022-10-12T13:53:47.109Z"
   },
   {
    "duration": 0,
    "start_time": "2022-10-12T13:53:47.110Z"
   },
   {
    "duration": 103,
    "start_time": "2022-10-12T13:54:48.685Z"
   },
   {
    "duration": 3,
    "start_time": "2022-10-12T13:55:49.917Z"
   },
   {
    "duration": 30,
    "start_time": "2022-10-12T13:55:50.329Z"
   },
   {
    "duration": 62,
    "start_time": "2022-10-12T13:56:12.137Z"
   },
   {
    "duration": 67,
    "start_time": "2022-10-12T13:57:01.390Z"
   },
   {
    "duration": 700,
    "start_time": "2022-10-12T13:57:07.529Z"
   },
   {
    "duration": 146,
    "start_time": "2022-10-12T13:57:08.232Z"
   },
   {
    "duration": 0,
    "start_time": "2022-10-12T13:57:08.381Z"
   },
   {
    "duration": 0,
    "start_time": "2022-10-12T13:57:08.383Z"
   },
   {
    "duration": 0,
    "start_time": "2022-10-12T13:57:08.384Z"
   },
   {
    "duration": 0,
    "start_time": "2022-10-12T13:57:08.386Z"
   },
   {
    "duration": 0,
    "start_time": "2022-10-12T13:57:08.389Z"
   },
   {
    "duration": 0,
    "start_time": "2022-10-12T13:57:08.391Z"
   },
   {
    "duration": 0,
    "start_time": "2022-10-12T13:57:08.394Z"
   },
   {
    "duration": 0,
    "start_time": "2022-10-12T13:57:08.396Z"
   },
   {
    "duration": 0,
    "start_time": "2022-10-12T13:57:08.397Z"
   },
   {
    "duration": 0,
    "start_time": "2022-10-12T13:57:08.398Z"
   },
   {
    "duration": 0,
    "start_time": "2022-10-12T13:57:08.400Z"
   },
   {
    "duration": 0,
    "start_time": "2022-10-12T13:57:08.401Z"
   },
   {
    "duration": 0,
    "start_time": "2022-10-12T13:57:08.402Z"
   },
   {
    "duration": 0,
    "start_time": "2022-10-12T13:57:08.404Z"
   },
   {
    "duration": 0,
    "start_time": "2022-10-12T13:57:08.406Z"
   },
   {
    "duration": 1,
    "start_time": "2022-10-12T13:57:08.408Z"
   },
   {
    "duration": 0,
    "start_time": "2022-10-12T13:57:08.410Z"
   },
   {
    "duration": 0,
    "start_time": "2022-10-12T13:57:08.411Z"
   },
   {
    "duration": 0,
    "start_time": "2022-10-12T13:57:08.413Z"
   },
   {
    "duration": 0,
    "start_time": "2022-10-12T13:57:08.415Z"
   },
   {
    "duration": 0,
    "start_time": "2022-10-12T13:57:08.417Z"
   },
   {
    "duration": 0,
    "start_time": "2022-10-12T13:57:08.420Z"
   },
   {
    "duration": 0,
    "start_time": "2022-10-12T13:57:08.421Z"
   },
   {
    "duration": 0,
    "start_time": "2022-10-12T13:57:08.422Z"
   },
   {
    "duration": 0,
    "start_time": "2022-10-12T13:57:08.424Z"
   },
   {
    "duration": 0,
    "start_time": "2022-10-12T13:57:08.426Z"
   },
   {
    "duration": 0,
    "start_time": "2022-10-12T13:57:08.428Z"
   },
   {
    "duration": 0,
    "start_time": "2022-10-12T13:57:08.430Z"
   },
   {
    "duration": 0,
    "start_time": "2022-10-12T13:57:08.431Z"
   },
   {
    "duration": 0,
    "start_time": "2022-10-12T13:57:08.490Z"
   },
   {
    "duration": 0,
    "start_time": "2022-10-12T13:57:08.492Z"
   },
   {
    "duration": 0,
    "start_time": "2022-10-12T13:57:08.493Z"
   },
   {
    "duration": 0,
    "start_time": "2022-10-12T13:57:08.495Z"
   },
   {
    "duration": 0,
    "start_time": "2022-10-12T13:57:08.496Z"
   },
   {
    "duration": 0,
    "start_time": "2022-10-12T13:57:08.498Z"
   },
   {
    "duration": 0,
    "start_time": "2022-10-12T13:57:08.499Z"
   },
   {
    "duration": 0,
    "start_time": "2022-10-12T13:57:08.501Z"
   },
   {
    "duration": 0,
    "start_time": "2022-10-12T13:57:08.502Z"
   },
   {
    "duration": 0,
    "start_time": "2022-10-12T13:57:08.504Z"
   },
   {
    "duration": 0,
    "start_time": "2022-10-12T13:57:08.506Z"
   },
   {
    "duration": 0,
    "start_time": "2022-10-12T13:57:08.507Z"
   },
   {
    "duration": 1,
    "start_time": "2022-10-12T13:57:08.508Z"
   },
   {
    "duration": 0,
    "start_time": "2022-10-12T13:57:08.510Z"
   },
   {
    "duration": 0,
    "start_time": "2022-10-12T13:57:08.511Z"
   },
   {
    "duration": 0,
    "start_time": "2022-10-12T13:57:08.513Z"
   },
   {
    "duration": 0,
    "start_time": "2022-10-12T13:57:08.515Z"
   },
   {
    "duration": 0,
    "start_time": "2022-10-12T13:57:08.516Z"
   },
   {
    "duration": 0,
    "start_time": "2022-10-12T13:57:08.518Z"
   },
   {
    "duration": 0,
    "start_time": "2022-10-12T13:57:08.519Z"
   },
   {
    "duration": 0,
    "start_time": "2022-10-12T13:57:08.520Z"
   },
   {
    "duration": 0,
    "start_time": "2022-10-12T13:57:08.522Z"
   },
   {
    "duration": 0,
    "start_time": "2022-10-12T13:57:08.524Z"
   },
   {
    "duration": 0,
    "start_time": "2022-10-12T13:57:08.525Z"
   },
   {
    "duration": 0,
    "start_time": "2022-10-12T13:57:08.527Z"
   },
   {
    "duration": 0,
    "start_time": "2022-10-12T13:57:08.589Z"
   },
   {
    "duration": 0,
    "start_time": "2022-10-12T13:57:08.590Z"
   },
   {
    "duration": 0,
    "start_time": "2022-10-12T13:57:08.592Z"
   },
   {
    "duration": 0,
    "start_time": "2022-10-12T13:57:08.594Z"
   },
   {
    "duration": 0,
    "start_time": "2022-10-12T13:57:08.596Z"
   },
   {
    "duration": 0,
    "start_time": "2022-10-12T13:57:08.597Z"
   },
   {
    "duration": 0,
    "start_time": "2022-10-12T13:57:08.600Z"
   },
   {
    "duration": 0,
    "start_time": "2022-10-12T13:57:08.601Z"
   },
   {
    "duration": 772,
    "start_time": "2022-10-12T14:07:58.564Z"
   },
   {
    "duration": 125,
    "start_time": "2022-10-12T14:07:59.338Z"
   },
   {
    "duration": 40,
    "start_time": "2022-10-12T14:07:59.464Z"
   },
   {
    "duration": 29,
    "start_time": "2022-10-12T14:07:59.507Z"
   },
   {
    "duration": 7,
    "start_time": "2022-10-12T14:07:59.538Z"
   },
   {
    "duration": 17,
    "start_time": "2022-10-12T14:07:59.547Z"
   },
   {
    "duration": 2626,
    "start_time": "2022-10-12T14:07:59.591Z"
   },
   {
    "duration": 12,
    "start_time": "2022-10-12T14:08:02.219Z"
   },
   {
    "duration": 13,
    "start_time": "2022-10-12T14:08:02.234Z"
   },
   {
    "duration": 10,
    "start_time": "2022-10-12T14:08:02.251Z"
   },
   {
    "duration": 14,
    "start_time": "2022-10-12T14:08:02.263Z"
   },
   {
    "duration": 16,
    "start_time": "2022-10-12T14:08:02.279Z"
   },
   {
    "duration": 16,
    "start_time": "2022-10-12T14:08:02.304Z"
   },
   {
    "duration": 16,
    "start_time": "2022-10-12T14:08:02.322Z"
   },
   {
    "duration": 12,
    "start_time": "2022-10-12T14:08:02.340Z"
   },
   {
    "duration": 17,
    "start_time": "2022-10-12T14:08:02.354Z"
   },
   {
    "duration": 14,
    "start_time": "2022-10-12T14:08:02.373Z"
   },
   {
    "duration": 20,
    "start_time": "2022-10-12T14:08:02.389Z"
   },
   {
    "duration": 11,
    "start_time": "2022-10-12T14:08:02.411Z"
   },
   {
    "duration": 14,
    "start_time": "2022-10-12T14:08:02.424Z"
   },
   {
    "duration": 14,
    "start_time": "2022-10-12T14:08:02.440Z"
   },
   {
    "duration": 8,
    "start_time": "2022-10-12T14:08:02.456Z"
   },
   {
    "duration": 20,
    "start_time": "2022-10-12T14:08:02.466Z"
   },
   {
    "duration": 27,
    "start_time": "2022-10-12T14:08:02.487Z"
   },
   {
    "duration": 20,
    "start_time": "2022-10-12T14:08:02.516Z"
   },
   {
    "duration": 19,
    "start_time": "2022-10-12T14:08:02.538Z"
   },
   {
    "duration": 52,
    "start_time": "2022-10-12T14:08:02.559Z"
   },
   {
    "duration": 7,
    "start_time": "2022-10-12T14:08:02.616Z"
   },
   {
    "duration": 90,
    "start_time": "2022-10-12T14:08:02.624Z"
   },
   {
    "duration": 9,
    "start_time": "2022-10-12T14:08:02.716Z"
   },
   {
    "duration": 28,
    "start_time": "2022-10-12T14:08:02.726Z"
   },
   {
    "duration": 55,
    "start_time": "2022-10-12T14:08:02.755Z"
   },
   {
    "duration": 6,
    "start_time": "2022-10-12T14:08:02.813Z"
   },
   {
    "duration": 11,
    "start_time": "2022-10-12T14:08:02.821Z"
   },
   {
    "duration": 15,
    "start_time": "2022-10-12T14:08:02.834Z"
   },
   {
    "duration": 9,
    "start_time": "2022-10-12T14:08:02.851Z"
   },
   {
    "duration": 6,
    "start_time": "2022-10-12T14:08:02.862Z"
   },
   {
    "duration": 27,
    "start_time": "2022-10-12T14:08:02.869Z"
   },
   {
    "duration": 19,
    "start_time": "2022-10-12T14:08:02.898Z"
   },
   {
    "duration": 6,
    "start_time": "2022-10-12T14:08:02.919Z"
   },
   {
    "duration": 7,
    "start_time": "2022-10-12T14:08:02.927Z"
   },
   {
    "duration": 10,
    "start_time": "2022-10-12T14:08:02.935Z"
   },
   {
    "duration": 10,
    "start_time": "2022-10-12T14:08:02.947Z"
   },
   {
    "duration": 9,
    "start_time": "2022-10-12T14:08:02.958Z"
   },
   {
    "duration": 27,
    "start_time": "2022-10-12T14:08:02.969Z"
   },
   {
    "duration": 15,
    "start_time": "2022-10-12T14:08:02.999Z"
   },
   {
    "duration": 9,
    "start_time": "2022-10-12T14:08:03.015Z"
   },
   {
    "duration": 4,
    "start_time": "2022-10-12T14:08:03.025Z"
   },
   {
    "duration": 312,
    "start_time": "2022-10-12T14:08:03.031Z"
   },
   {
    "duration": 4,
    "start_time": "2022-10-12T14:08:03.345Z"
   },
   {
    "duration": 294,
    "start_time": "2022-10-12T14:08:03.351Z"
   },
   {
    "duration": 353,
    "start_time": "2022-10-12T14:08:03.647Z"
   },
   {
    "duration": 229,
    "start_time": "2022-10-12T14:08:04.002Z"
   },
   {
    "duration": 229,
    "start_time": "2022-10-12T14:08:04.232Z"
   },
   {
    "duration": 191,
    "start_time": "2022-10-12T14:08:04.463Z"
   },
   {
    "duration": 205,
    "start_time": "2022-10-12T14:08:04.655Z"
   },
   {
    "duration": 184,
    "start_time": "2022-10-12T14:08:04.861Z"
   },
   {
    "duration": 173,
    "start_time": "2022-10-12T14:08:05.047Z"
   },
   {
    "duration": 222,
    "start_time": "2022-10-12T14:08:05.222Z"
   },
   {
    "duration": 224,
    "start_time": "2022-10-12T14:08:05.446Z"
   },
   {
    "duration": 357,
    "start_time": "2022-10-12T14:08:05.672Z"
   },
   {
    "duration": 206,
    "start_time": "2022-10-12T14:08:06.031Z"
   },
   {
    "duration": 188,
    "start_time": "2022-10-12T14:08:06.238Z"
   },
   {
    "duration": 178,
    "start_time": "2022-10-12T14:08:06.427Z"
   },
   {
    "duration": 3,
    "start_time": "2022-10-12T14:09:37.979Z"
   },
   {
    "duration": 98,
    "start_time": "2022-10-12T14:09:38.381Z"
   },
   {
    "duration": 30,
    "start_time": "2022-10-12T14:09:39.965Z"
   },
   {
    "duration": 27,
    "start_time": "2022-10-12T14:09:41.275Z"
   },
   {
    "duration": 4,
    "start_time": "2022-10-12T14:09:42.878Z"
   },
   {
    "duration": 17,
    "start_time": "2022-10-12T14:09:43.533Z"
   },
   {
    "duration": 2303,
    "start_time": "2022-10-12T14:09:44.353Z"
   },
   {
    "duration": 11,
    "start_time": "2022-10-12T14:10:00.197Z"
   },
   {
    "duration": 9,
    "start_time": "2022-10-12T14:10:08.465Z"
   },
   {
    "duration": 9,
    "start_time": "2022-10-12T14:10:10.090Z"
   },
   {
    "duration": 6,
    "start_time": "2022-10-12T14:10:10.581Z"
   },
   {
    "duration": 6,
    "start_time": "2022-10-12T14:10:11.476Z"
   },
   {
    "duration": 6,
    "start_time": "2022-10-12T14:10:11.762Z"
   },
   {
    "duration": 4,
    "start_time": "2022-10-12T14:10:12.078Z"
   },
   {
    "duration": 6,
    "start_time": "2022-10-12T14:10:12.235Z"
   },
   {
    "duration": 6,
    "start_time": "2022-10-12T14:10:12.397Z"
   },
   {
    "duration": 4,
    "start_time": "2022-10-12T14:10:12.753Z"
   },
   {
    "duration": 4,
    "start_time": "2022-10-12T14:10:12.849Z"
   },
   {
    "duration": 5,
    "start_time": "2022-10-12T14:10:12.989Z"
   },
   {
    "duration": 10,
    "start_time": "2022-10-12T14:10:14.416Z"
   },
   {
    "duration": 14,
    "start_time": "2022-10-12T14:10:17.515Z"
   },
   {
    "duration": 9,
    "start_time": "2022-10-12T14:10:17.854Z"
   },
   {
    "duration": 9,
    "start_time": "2022-10-12T14:10:18.902Z"
   },
   {
    "duration": 15,
    "start_time": "2022-10-12T14:10:19.092Z"
   },
   {
    "duration": 22,
    "start_time": "2022-10-12T14:10:19.444Z"
   },
   {
    "duration": 20,
    "start_time": "2022-10-12T14:10:19.599Z"
   },
   {
    "duration": 44,
    "start_time": "2022-10-12T14:10:20.437Z"
   },
   {
    "duration": 7,
    "start_time": "2022-10-12T14:10:20.590Z"
   },
   {
    "duration": 81,
    "start_time": "2022-10-12T14:10:21.405Z"
   },
   {
    "duration": 11,
    "start_time": "2022-10-12T14:10:22.033Z"
   },
   {
    "duration": 28,
    "start_time": "2022-10-12T14:10:23.039Z"
   },
   {
    "duration": 25,
    "start_time": "2022-10-12T14:10:24.677Z"
   },
   {
    "duration": 6,
    "start_time": "2022-10-12T14:10:25.850Z"
   },
   {
    "duration": 6,
    "start_time": "2022-10-12T14:10:26.283Z"
   },
   {
    "duration": 8,
    "start_time": "2022-10-12T14:10:27.069Z"
   },
   {
    "duration": 7,
    "start_time": "2022-10-12T14:10:27.731Z"
   },
   {
    "duration": 6,
    "start_time": "2022-10-12T14:10:29.244Z"
   },
   {
    "duration": 7,
    "start_time": "2022-10-12T14:10:29.829Z"
   },
   {
    "duration": 10,
    "start_time": "2022-10-12T14:10:30.223Z"
   },
   {
    "duration": 7,
    "start_time": "2022-10-12T14:10:30.750Z"
   },
   {
    "duration": 8,
    "start_time": "2022-10-12T14:10:30.926Z"
   },
   {
    "duration": 6,
    "start_time": "2022-10-12T14:10:31.339Z"
   },
   {
    "duration": 5,
    "start_time": "2022-10-12T14:10:32.380Z"
   },
   {
    "duration": 7,
    "start_time": "2022-10-12T14:10:32.571Z"
   },
   {
    "duration": 7,
    "start_time": "2022-10-12T14:10:32.702Z"
   },
   {
    "duration": 6,
    "start_time": "2022-10-12T14:10:32.853Z"
   },
   {
    "duration": 8,
    "start_time": "2022-10-12T14:10:33.000Z"
   },
   {
    "duration": 3,
    "start_time": "2022-10-12T14:10:33.961Z"
   },
   {
    "duration": 267,
    "start_time": "2022-10-12T14:10:34.379Z"
   },
   {
    "duration": 5,
    "start_time": "2022-10-12T14:10:34.787Z"
   },
   {
    "duration": 248,
    "start_time": "2022-10-12T14:10:38.922Z"
   },
   {
    "duration": 273,
    "start_time": "2022-10-12T14:10:41.853Z"
   },
   {
    "duration": 209,
    "start_time": "2022-10-12T14:10:44.235Z"
   },
   {
    "duration": 202,
    "start_time": "2022-10-12T14:10:46.923Z"
   },
   {
    "duration": 280,
    "start_time": "2022-10-12T14:11:16.800Z"
   },
   {
    "duration": 196,
    "start_time": "2022-10-12T14:11:19.268Z"
   },
   {
    "duration": 168,
    "start_time": "2022-10-12T14:11:23.302Z"
   },
   {
    "duration": 131,
    "start_time": "2022-10-12T14:11:25.654Z"
   },
   {
    "duration": 189,
    "start_time": "2022-10-12T14:11:30.621Z"
   },
   {
    "duration": 191,
    "start_time": "2022-10-12T14:11:33.219Z"
   },
   {
    "duration": 236,
    "start_time": "2022-10-12T14:11:34.239Z"
   },
   {
    "duration": 168,
    "start_time": "2022-10-12T14:11:35.843Z"
   },
   {
    "duration": 171,
    "start_time": "2022-10-12T14:11:37.295Z"
   },
   {
    "duration": 166,
    "start_time": "2022-10-12T14:11:40.456Z"
   },
   {
    "duration": 6,
    "start_time": "2022-10-12T14:14:16.722Z"
   },
   {
    "duration": 284,
    "start_time": "2022-10-12T14:20:05.401Z"
   },
   {
    "duration": 217,
    "start_time": "2022-10-12T14:20:57.862Z"
   },
   {
    "duration": 231,
    "start_time": "2022-10-12T14:21:09.098Z"
   },
   {
    "duration": 73,
    "start_time": "2022-10-12T14:21:28.148Z"
   },
   {
    "duration": 292,
    "start_time": "2022-10-12T14:21:31.843Z"
   },
   {
    "duration": 268,
    "start_time": "2022-10-12T14:21:41.450Z"
   },
   {
    "duration": 232,
    "start_time": "2022-10-12T14:21:46.522Z"
   },
   {
    "duration": 3593,
    "start_time": "2022-10-12T14:22:11.848Z"
   },
   {
    "duration": 318,
    "start_time": "2022-10-12T14:22:18.867Z"
   },
   {
    "duration": 95,
    "start_time": "2022-10-12T14:23:01.004Z"
   },
   {
    "duration": 161,
    "start_time": "2022-10-12T14:23:14.039Z"
   },
   {
    "duration": 164,
    "start_time": "2022-10-12T14:23:54.741Z"
   },
   {
    "duration": 3540,
    "start_time": "2022-10-12T14:24:13.897Z"
   },
   {
    "duration": 243,
    "start_time": "2022-10-12T14:25:25.865Z"
   },
   {
    "duration": 507,
    "start_time": "2022-10-12T14:25:48.072Z"
   },
   {
    "duration": 216,
    "start_time": "2022-10-12T14:31:10.043Z"
   },
   {
    "duration": 205,
    "start_time": "2022-10-12T14:32:23.513Z"
   },
   {
    "duration": 225,
    "start_time": "2022-10-12T14:32:54.202Z"
   },
   {
    "duration": 184,
    "start_time": "2022-10-12T14:32:58.979Z"
   },
   {
    "duration": 216,
    "start_time": "2022-10-12T14:33:22.944Z"
   },
   {
    "duration": 210,
    "start_time": "2022-10-12T14:33:39.185Z"
   },
   {
    "duration": 353,
    "start_time": "2022-10-12T14:33:44.098Z"
   },
   {
    "duration": 258,
    "start_time": "2022-10-12T14:33:49.007Z"
   },
   {
    "duration": 407,
    "start_time": "2022-10-12T14:33:56.899Z"
   },
   {
    "duration": 469,
    "start_time": "2022-10-12T14:37:11.912Z"
   },
   {
    "duration": 6,
    "start_time": "2022-10-12T14:40:33.648Z"
   },
   {
    "duration": 5,
    "start_time": "2022-10-12T14:40:36.236Z"
   },
   {
    "duration": 131,
    "start_time": "2022-10-12T14:41:19.477Z"
   },
   {
    "duration": 90,
    "start_time": "2022-10-12T14:41:40.531Z"
   },
   {
    "duration": 524,
    "start_time": "2022-10-12T14:42:14.308Z"
   },
   {
    "duration": 287,
    "start_time": "2022-10-12T14:42:26.385Z"
   },
   {
    "duration": 294,
    "start_time": "2022-10-12T14:42:50.090Z"
   },
   {
    "duration": 293,
    "start_time": "2022-10-12T14:42:55.555Z"
   },
   {
    "duration": 297,
    "start_time": "2022-10-12T14:43:23.883Z"
   },
   {
    "duration": 374,
    "start_time": "2022-10-12T14:43:32.497Z"
   },
   {
    "duration": 225,
    "start_time": "2022-10-12T14:44:36.578Z"
   },
   {
    "duration": 195,
    "start_time": "2022-10-12T14:44:43.146Z"
   },
   {
    "duration": 235,
    "start_time": "2022-10-12T14:45:51.680Z"
   },
   {
    "duration": 215,
    "start_time": "2022-10-12T14:46:00.265Z"
   },
   {
    "duration": 226,
    "start_time": "2022-10-12T14:49:26.965Z"
   },
   {
    "duration": 42,
    "start_time": "2022-10-12T16:58:52.909Z"
   },
   {
    "duration": 678,
    "start_time": "2022-10-12T16:58:59.348Z"
   },
   {
    "duration": 321,
    "start_time": "2022-10-12T16:59:00.028Z"
   },
   {
    "duration": 28,
    "start_time": "2022-10-12T16:59:00.351Z"
   },
   {
    "duration": 24,
    "start_time": "2022-10-12T16:59:01.697Z"
   },
   {
    "duration": 5,
    "start_time": "2022-10-12T16:59:01.886Z"
   },
   {
    "duration": 15,
    "start_time": "2022-10-12T16:59:02.056Z"
   },
   {
    "duration": 1895,
    "start_time": "2022-10-12T16:59:02.180Z"
   },
   {
    "duration": 9,
    "start_time": "2022-10-12T16:59:04.078Z"
   },
   {
    "duration": 11,
    "start_time": "2022-10-12T16:59:04.089Z"
   },
   {
    "duration": 8,
    "start_time": "2022-10-12T16:59:04.101Z"
   },
   {
    "duration": 4,
    "start_time": "2022-10-12T16:59:04.111Z"
   },
   {
    "duration": 9,
    "start_time": "2022-10-12T16:59:04.117Z"
   },
   {
    "duration": 6,
    "start_time": "2022-10-12T16:59:04.258Z"
   },
   {
    "duration": 3,
    "start_time": "2022-10-12T16:59:04.549Z"
   },
   {
    "duration": 5,
    "start_time": "2022-10-12T16:59:04.691Z"
   },
   {
    "duration": 3,
    "start_time": "2022-10-12T16:59:04.818Z"
   },
   {
    "duration": 4,
    "start_time": "2022-10-12T16:59:05.072Z"
   },
   {
    "duration": 4,
    "start_time": "2022-10-12T16:59:05.198Z"
   },
   {
    "duration": 5,
    "start_time": "2022-10-12T16:59:05.324Z"
   },
   {
    "duration": 8,
    "start_time": "2022-10-12T16:59:05.830Z"
   },
   {
    "duration": 13,
    "start_time": "2022-10-12T16:59:06.381Z"
   },
   {
    "duration": 8,
    "start_time": "2022-10-12T16:59:06.899Z"
   },
   {
    "duration": 9,
    "start_time": "2022-10-12T16:59:07.546Z"
   },
   {
    "duration": 14,
    "start_time": "2022-10-12T16:59:07.695Z"
   },
   {
    "duration": 19,
    "start_time": "2022-10-12T16:59:09.310Z"
   },
   {
    "duration": 15,
    "start_time": "2022-10-12T16:59:09.435Z"
   },
   {
    "duration": 23,
    "start_time": "2022-10-12T16:59:09.912Z"
   },
   {
    "duration": 6,
    "start_time": "2022-10-12T16:59:10.079Z"
   },
   {
    "duration": 67,
    "start_time": "2022-10-12T16:59:11.098Z"
   },
   {
    "duration": 11,
    "start_time": "2022-10-12T16:59:30.892Z"
   },
   {
    "duration": 23,
    "start_time": "2022-10-12T16:59:36.277Z"
   },
   {
    "duration": 20,
    "start_time": "2022-10-12T16:59:51.048Z"
   },
   {
    "duration": 5,
    "start_time": "2022-10-12T16:59:54.388Z"
   },
   {
    "duration": 6,
    "start_time": "2022-10-12T16:59:57.995Z"
   },
   {
    "duration": 45,
    "start_time": "2022-10-12T17:00:00.139Z"
   },
   {
    "duration": 33,
    "start_time": "2022-10-12T17:00:23.596Z"
   },
   {
    "duration": 36,
    "start_time": "2022-10-12T17:00:56.104Z"
   },
   {
    "duration": 35,
    "start_time": "2022-10-12T17:01:12.315Z"
   },
   {
    "duration": 35,
    "start_time": "2022-10-12T17:03:04.139Z"
   },
   {
    "duration": 8,
    "start_time": "2022-10-12T17:03:12.769Z"
   },
   {
    "duration": 9,
    "start_time": "2022-10-12T17:04:45.440Z"
   },
   {
    "duration": 32,
    "start_time": "2022-10-12T17:04:50.640Z"
   },
   {
    "duration": 7,
    "start_time": "2022-10-12T17:05:15.539Z"
   },
   {
    "duration": 21,
    "start_time": "2022-10-12T17:05:16.745Z"
   },
   {
    "duration": 635,
    "start_time": "2022-10-12T17:05:23.333Z"
   },
   {
    "duration": 84,
    "start_time": "2022-10-12T17:05:23.970Z"
   },
   {
    "duration": 29,
    "start_time": "2022-10-12T17:05:24.056Z"
   },
   {
    "duration": 35,
    "start_time": "2022-10-12T17:05:24.087Z"
   },
   {
    "duration": 4,
    "start_time": "2022-10-12T17:05:24.124Z"
   },
   {
    "duration": 14,
    "start_time": "2022-10-12T17:05:24.130Z"
   },
   {
    "duration": 1961,
    "start_time": "2022-10-12T17:05:24.146Z"
   },
   {
    "duration": 8,
    "start_time": "2022-10-12T17:05:26.109Z"
   },
   {
    "duration": 11,
    "start_time": "2022-10-12T17:05:26.119Z"
   },
   {
    "duration": 8,
    "start_time": "2022-10-12T17:05:26.133Z"
   },
   {
    "duration": 5,
    "start_time": "2022-10-12T17:05:26.142Z"
   },
   {
    "duration": 6,
    "start_time": "2022-10-12T17:05:26.148Z"
   },
   {
    "duration": 6,
    "start_time": "2022-10-12T17:05:26.156Z"
   },
   {
    "duration": 4,
    "start_time": "2022-10-12T17:05:26.163Z"
   },
   {
    "duration": 37,
    "start_time": "2022-10-12T17:05:26.169Z"
   },
   {
    "duration": 5,
    "start_time": "2022-10-12T17:05:26.208Z"
   },
   {
    "duration": 4,
    "start_time": "2022-10-12T17:05:26.215Z"
   },
   {
    "duration": 4,
    "start_time": "2022-10-12T17:05:26.221Z"
   },
   {
    "duration": 5,
    "start_time": "2022-10-12T17:05:26.227Z"
   },
   {
    "duration": 9,
    "start_time": "2022-10-12T17:05:26.234Z"
   },
   {
    "duration": 14,
    "start_time": "2022-10-12T17:05:26.245Z"
   },
   {
    "duration": 7,
    "start_time": "2022-10-12T17:05:26.261Z"
   },
   {
    "duration": 6,
    "start_time": "2022-10-12T17:05:26.306Z"
   },
   {
    "duration": 11,
    "start_time": "2022-10-12T17:05:26.314Z"
   },
   {
    "duration": 18,
    "start_time": "2022-10-12T17:05:26.327Z"
   },
   {
    "duration": 14,
    "start_time": "2022-10-12T17:05:26.347Z"
   },
   {
    "duration": 68,
    "start_time": "2022-10-12T17:05:26.363Z"
   },
   {
    "duration": 6,
    "start_time": "2022-10-12T17:05:26.437Z"
   },
   {
    "duration": 73,
    "start_time": "2022-10-12T17:05:26.444Z"
   },
   {
    "duration": 8,
    "start_time": "2022-10-12T17:05:26.518Z"
   },
   {
    "duration": 21,
    "start_time": "2022-10-12T17:05:26.527Z"
   },
   {
    "duration": 21,
    "start_time": "2022-10-12T17:05:26.550Z"
   },
   {
    "duration": 33,
    "start_time": "2022-10-12T17:05:26.572Z"
   },
   {
    "duration": 6,
    "start_time": "2022-10-12T17:05:26.607Z"
   },
   {
    "duration": 6,
    "start_time": "2022-10-12T17:05:26.615Z"
   },
   {
    "duration": 9,
    "start_time": "2022-10-12T17:05:26.623Z"
   },
   {
    "duration": 10,
    "start_time": "2022-10-12T17:05:26.633Z"
   },
   {
    "duration": 4,
    "start_time": "2022-10-12T17:05:26.644Z"
   },
   {
    "duration": 16,
    "start_time": "2022-10-12T17:05:26.649Z"
   },
   {
    "duration": 10,
    "start_time": "2022-10-12T17:05:26.666Z"
   },
   {
    "duration": 8,
    "start_time": "2022-10-12T17:05:26.678Z"
   },
   {
    "duration": 10,
    "start_time": "2022-10-12T17:05:26.687Z"
   },
   {
    "duration": 8,
    "start_time": "2022-10-12T17:05:26.698Z"
   },
   {
    "duration": 4,
    "start_time": "2022-10-12T17:05:26.707Z"
   },
   {
    "duration": 6,
    "start_time": "2022-10-12T17:05:26.712Z"
   },
   {
    "duration": 8,
    "start_time": "2022-10-12T17:05:26.719Z"
   },
   {
    "duration": 244,
    "start_time": "2022-10-12T17:05:26.728Z"
   },
   {
    "duration": 4,
    "start_time": "2022-10-12T17:05:26.973Z"
   },
   {
    "duration": 212,
    "start_time": "2022-10-12T17:05:26.978Z"
   },
   {
    "duration": 292,
    "start_time": "2022-10-12T17:05:27.192Z"
   },
   {
    "duration": 245,
    "start_time": "2022-10-12T17:05:27.486Z"
   },
   {
    "duration": 186,
    "start_time": "2022-10-12T17:05:27.733Z"
   },
   {
    "duration": 169,
    "start_time": "2022-10-12T17:05:27.921Z"
   },
   {
    "duration": 161,
    "start_time": "2022-10-12T17:05:28.092Z"
   },
   {
    "duration": 153,
    "start_time": "2022-10-12T17:05:28.254Z"
   },
   {
    "duration": 113,
    "start_time": "2022-10-12T17:05:28.409Z"
   },
   {
    "duration": 157,
    "start_time": "2022-10-12T17:05:28.524Z"
   },
   {
    "duration": 167,
    "start_time": "2022-10-12T17:05:28.683Z"
   },
   {
    "duration": 278,
    "start_time": "2022-10-12T17:05:28.852Z"
   },
   {
    "duration": 142,
    "start_time": "2022-10-12T17:05:29.131Z"
   },
   {
    "duration": 143,
    "start_time": "2022-10-12T17:05:29.275Z"
   },
   {
    "duration": 133,
    "start_time": "2022-10-12T17:05:29.420Z"
   },
   {
    "duration": 171,
    "start_time": "2022-10-12T17:05:29.555Z"
   },
   {
    "duration": 186,
    "start_time": "2022-10-12T17:07:28.412Z"
   },
   {
    "duration": 227,
    "start_time": "2022-10-12T17:07:38.352Z"
   },
   {
    "duration": 155,
    "start_time": "2022-10-12T17:07:52.335Z"
   },
   {
    "duration": 160,
    "start_time": "2022-10-12T17:08:08.402Z"
   },
   {
    "duration": 219,
    "start_time": "2022-10-12T17:08:26.007Z"
   },
   {
    "duration": 149,
    "start_time": "2022-10-12T17:08:29.925Z"
   },
   {
    "duration": 143,
    "start_time": "2022-10-12T17:08:47.259Z"
   },
   {
    "duration": 130,
    "start_time": "2022-10-12T17:08:53.446Z"
   },
   {
    "duration": 136,
    "start_time": "2022-10-12T17:09:04.703Z"
   },
   {
    "duration": 160,
    "start_time": "2022-10-12T17:09:28.754Z"
   },
   {
    "duration": 141,
    "start_time": "2022-10-12T17:09:34.256Z"
   },
   {
    "duration": 145,
    "start_time": "2022-10-12T17:09:37.207Z"
   },
   {
    "duration": 84,
    "start_time": "2022-10-12T17:13:57.658Z"
   },
   {
    "duration": 21,
    "start_time": "2022-10-12T17:14:10.144Z"
   },
   {
    "duration": 27,
    "start_time": "2022-10-12T17:14:27.431Z"
   },
   {
    "duration": 18,
    "start_time": "2022-10-12T17:21:28.875Z"
   },
   {
    "duration": 1878,
    "start_time": "2022-10-12T17:21:56.265Z"
   },
   {
    "duration": 81,
    "start_time": "2022-10-12T17:24:51.584Z"
   },
   {
    "duration": 1304,
    "start_time": "2022-10-12T17:25:11.053Z"
   },
   {
    "duration": 1406,
    "start_time": "2022-10-12T17:25:43.766Z"
   },
   {
    "duration": 1452,
    "start_time": "2022-10-12T17:26:21.305Z"
   },
   {
    "duration": 5,
    "start_time": "2022-10-12T17:28:00.459Z"
   },
   {
    "duration": 76,
    "start_time": "2022-10-12T17:29:43.126Z"
   },
   {
    "duration": 5,
    "start_time": "2022-10-12T17:29:52.985Z"
   },
   {
    "duration": 221,
    "start_time": "2022-10-12T17:30:22.340Z"
   },
   {
    "duration": 218,
    "start_time": "2022-10-12T17:30:35.655Z"
   },
   {
    "duration": 140,
    "start_time": "2022-10-12T17:30:46.359Z"
   },
   {
    "duration": 115,
    "start_time": "2022-10-12T17:31:09.707Z"
   },
   {
    "duration": 15,
    "start_time": "2022-10-12T17:31:36.396Z"
   },
   {
    "duration": 108,
    "start_time": "2022-10-12T17:31:40.101Z"
   },
   {
    "duration": 78,
    "start_time": "2022-10-12T17:31:47.468Z"
   },
   {
    "duration": 112,
    "start_time": "2022-10-12T17:31:53.548Z"
   },
   {
    "duration": 129,
    "start_time": "2022-10-12T17:32:09.429Z"
   },
   {
    "duration": 113,
    "start_time": "2022-10-12T17:32:44.970Z"
   },
   {
    "duration": 132,
    "start_time": "2022-10-12T17:32:56.392Z"
   },
   {
    "duration": 123,
    "start_time": "2022-10-12T17:33:40.610Z"
   },
   {
    "duration": 184,
    "start_time": "2022-10-12T17:33:58.966Z"
   },
   {
    "duration": 125,
    "start_time": "2022-10-12T17:34:06.643Z"
   },
   {
    "duration": 136,
    "start_time": "2022-10-12T17:34:38.603Z"
   },
   {
    "duration": 124,
    "start_time": "2022-10-12T17:34:50.621Z"
   },
   {
    "duration": 127,
    "start_time": "2022-10-12T17:35:04.448Z"
   },
   {
    "duration": 124,
    "start_time": "2022-10-12T17:35:09.535Z"
   },
   {
    "duration": 149,
    "start_time": "2022-10-12T17:40:00.037Z"
   },
   {
    "duration": 139,
    "start_time": "2022-10-12T17:40:49.243Z"
   },
   {
    "duration": 126,
    "start_time": "2022-10-12T17:41:13.435Z"
   },
   {
    "duration": 140,
    "start_time": "2022-10-12T17:41:21.766Z"
   },
   {
    "duration": 138,
    "start_time": "2022-10-12T17:41:35.370Z"
   },
   {
    "duration": 203,
    "start_time": "2022-10-12T17:41:42.235Z"
   },
   {
    "duration": 128,
    "start_time": "2022-10-12T17:41:43.936Z"
   },
   {
    "duration": 8,
    "start_time": "2022-10-12T17:44:06.919Z"
   },
   {
    "duration": 143,
    "start_time": "2022-10-12T17:45:21.030Z"
   },
   {
    "duration": 143,
    "start_time": "2022-10-12T17:45:30.755Z"
   },
   {
    "duration": 145,
    "start_time": "2022-10-12T17:47:30.266Z"
   },
   {
    "duration": 130,
    "start_time": "2022-10-12T17:47:50.614Z"
   },
   {
    "duration": 17,
    "start_time": "2022-10-12T17:50:24.178Z"
   },
   {
    "duration": 615,
    "start_time": "2022-10-12T17:50:29.812Z"
   },
   {
    "duration": 132,
    "start_time": "2022-10-12T17:51:12.595Z"
   },
   {
    "duration": 131,
    "start_time": "2022-10-12T17:51:14.108Z"
   },
   {
    "duration": 128,
    "start_time": "2022-10-12T17:53:00.139Z"
   },
   {
    "duration": 117,
    "start_time": "2022-10-12T17:54:02.438Z"
   },
   {
    "duration": 194,
    "start_time": "2022-10-12T17:54:24.184Z"
   },
   {
    "duration": 129,
    "start_time": "2022-10-12T17:54:43.686Z"
   },
   {
    "duration": 123,
    "start_time": "2022-10-12T17:55:15.429Z"
   },
   {
    "duration": 127,
    "start_time": "2022-10-12T17:55:21.803Z"
   },
   {
    "duration": 138,
    "start_time": "2022-10-12T17:55:28.629Z"
   },
   {
    "duration": 142,
    "start_time": "2022-10-12T17:56:47.513Z"
   },
   {
    "duration": 133,
    "start_time": "2022-10-12T17:57:19.712Z"
   },
   {
    "duration": 132,
    "start_time": "2022-10-12T17:57:40.060Z"
   },
   {
    "duration": 133,
    "start_time": "2022-10-12T17:57:50.305Z"
   },
   {
    "duration": 134,
    "start_time": "2022-10-12T17:57:56.142Z"
   },
   {
    "duration": 132,
    "start_time": "2022-10-12T17:58:05.502Z"
   },
   {
    "duration": 187,
    "start_time": "2022-10-12T17:58:14.894Z"
   },
   {
    "duration": 1383,
    "start_time": "2022-10-12T17:58:46.086Z"
   },
   {
    "duration": 17,
    "start_time": "2022-10-12T18:00:57.990Z"
   },
   {
    "duration": 84,
    "start_time": "2022-10-12T18:01:56.728Z"
   },
   {
    "duration": 136,
    "start_time": "2022-10-12T18:02:08.299Z"
   },
   {
    "duration": 15,
    "start_time": "2022-10-12T18:02:22.371Z"
   },
   {
    "duration": 16,
    "start_time": "2022-10-12T18:02:41.318Z"
   },
   {
    "duration": 8,
    "start_time": "2022-10-12T18:05:23.248Z"
   },
   {
    "duration": 7,
    "start_time": "2022-10-12T18:05:35.453Z"
   },
   {
    "duration": 24,
    "start_time": "2022-10-12T18:07:02.094Z"
   },
   {
    "duration": 19,
    "start_time": "2022-10-12T18:07:39.260Z"
   },
   {
    "duration": 40,
    "start_time": "2022-10-12T18:08:09.600Z"
   },
   {
    "duration": 74,
    "start_time": "2022-10-12T18:09:01.779Z"
   },
   {
    "duration": 19,
    "start_time": "2022-10-12T18:09:15.235Z"
   },
   {
    "duration": 18,
    "start_time": "2022-10-12T18:09:34.945Z"
   },
   {
    "duration": 19,
    "start_time": "2022-10-12T18:09:54.615Z"
   },
   {
    "duration": 20,
    "start_time": "2022-10-12T18:10:05.142Z"
   },
   {
    "duration": 18,
    "start_time": "2022-10-12T18:14:52.030Z"
   },
   {
    "duration": 18,
    "start_time": "2022-10-12T18:15:04.752Z"
   },
   {
    "duration": 18,
    "start_time": "2022-10-12T18:15:30.467Z"
   },
   {
    "duration": 20,
    "start_time": "2022-10-12T18:15:36.566Z"
   },
   {
    "duration": 18,
    "start_time": "2022-10-12T18:15:47.274Z"
   },
   {
    "duration": 22,
    "start_time": "2022-10-12T18:15:54.370Z"
   },
   {
    "duration": 4,
    "start_time": "2022-10-12T18:15:57.571Z"
   },
   {
    "duration": 22,
    "start_time": "2022-10-12T18:16:24.489Z"
   },
   {
    "duration": 6,
    "start_time": "2022-10-12T18:16:30.204Z"
   },
   {
    "duration": 9,
    "start_time": "2022-10-12T18:16:34.619Z"
   },
   {
    "duration": 5,
    "start_time": "2022-10-12T18:16:37.239Z"
   },
   {
    "duration": 5,
    "start_time": "2022-10-12T18:17:23.738Z"
   },
   {
    "duration": 6,
    "start_time": "2022-10-12T18:17:40.341Z"
   },
   {
    "duration": 1249,
    "start_time": "2022-10-12T18:18:43.330Z"
   },
   {
    "duration": 1208,
    "start_time": "2022-10-12T18:19:04.373Z"
   },
   {
    "duration": 15,
    "start_time": "2022-10-12T18:19:10.728Z"
   },
   {
    "duration": 8,
    "start_time": "2022-10-12T18:22:02.938Z"
   },
   {
    "duration": 9,
    "start_time": "2022-10-12T18:22:12.723Z"
   },
   {
    "duration": 8,
    "start_time": "2022-10-12T18:22:31.511Z"
   },
   {
    "duration": 1408,
    "start_time": "2022-10-12T18:23:04.114Z"
   },
   {
    "duration": 5,
    "start_time": "2022-10-12T18:23:30.707Z"
   },
   {
    "duration": 7,
    "start_time": "2022-10-12T18:24:36.013Z"
   },
   {
    "duration": 7,
    "start_time": "2022-10-12T18:24:49.176Z"
   },
   {
    "duration": 134,
    "start_time": "2022-10-12T18:26:12.554Z"
   },
   {
    "duration": 137,
    "start_time": "2022-10-12T18:26:21.448Z"
   },
   {
    "duration": 136,
    "start_time": "2022-10-12T18:26:28.615Z"
   },
   {
    "duration": 133,
    "start_time": "2022-10-12T18:26:34.088Z"
   },
   {
    "duration": 125,
    "start_time": "2022-10-12T18:26:42.973Z"
   },
   {
    "duration": 127,
    "start_time": "2022-10-12T18:26:59.178Z"
   },
   {
    "duration": 132,
    "start_time": "2022-10-12T18:27:29.374Z"
   },
   {
    "duration": 155,
    "start_time": "2022-10-12T18:27:47.965Z"
   },
   {
    "duration": 738,
    "start_time": "2022-10-13T06:38:10.354Z"
   },
   {
    "duration": 334,
    "start_time": "2022-10-13T06:38:11.094Z"
   },
   {
    "duration": 29,
    "start_time": "2022-10-13T06:38:11.429Z"
   },
   {
    "duration": 24,
    "start_time": "2022-10-13T06:38:11.460Z"
   },
   {
    "duration": 4,
    "start_time": "2022-10-13T06:38:11.486Z"
   },
   {
    "duration": 22,
    "start_time": "2022-10-13T06:38:11.491Z"
   },
   {
    "duration": 2094,
    "start_time": "2022-10-13T06:38:11.514Z"
   },
   {
    "duration": 9,
    "start_time": "2022-10-13T06:38:13.610Z"
   },
   {
    "duration": 12,
    "start_time": "2022-10-13T06:38:13.620Z"
   },
   {
    "duration": 8,
    "start_time": "2022-10-13T06:38:13.634Z"
   },
   {
    "duration": 5,
    "start_time": "2022-10-13T06:38:13.644Z"
   },
   {
    "duration": 9,
    "start_time": "2022-10-13T06:38:13.650Z"
   },
   {
    "duration": 7,
    "start_time": "2022-10-13T06:38:13.661Z"
   },
   {
    "duration": 4,
    "start_time": "2022-10-13T06:38:13.669Z"
   },
   {
    "duration": 23,
    "start_time": "2022-10-13T06:38:13.674Z"
   },
   {
    "duration": 4,
    "start_time": "2022-10-13T06:38:13.699Z"
   },
   {
    "duration": 6,
    "start_time": "2022-10-13T06:38:13.704Z"
   },
   {
    "duration": 5,
    "start_time": "2022-10-13T06:38:13.711Z"
   },
   {
    "duration": 6,
    "start_time": "2022-10-13T06:38:13.717Z"
   },
   {
    "duration": 11,
    "start_time": "2022-10-13T06:38:13.725Z"
   },
   {
    "duration": 13,
    "start_time": "2022-10-13T06:38:13.737Z"
   },
   {
    "duration": 7,
    "start_time": "2022-10-13T06:38:13.751Z"
   },
   {
    "duration": 38,
    "start_time": "2022-10-13T06:38:13.760Z"
   },
   {
    "duration": 13,
    "start_time": "2022-10-13T06:38:13.800Z"
   },
   {
    "duration": 22,
    "start_time": "2022-10-13T06:38:13.815Z"
   },
   {
    "duration": 19,
    "start_time": "2022-10-13T06:38:13.839Z"
   },
   {
    "duration": 53,
    "start_time": "2022-10-13T06:38:13.859Z"
   },
   {
    "duration": 7,
    "start_time": "2022-10-13T06:38:13.916Z"
   },
   {
    "duration": 81,
    "start_time": "2022-10-13T06:38:13.924Z"
   },
   {
    "duration": 8,
    "start_time": "2022-10-13T06:38:14.006Z"
   },
   {
    "duration": 25,
    "start_time": "2022-10-13T06:38:14.015Z"
   },
   {
    "duration": 21,
    "start_time": "2022-10-13T06:38:14.041Z"
   },
   {
    "duration": 34,
    "start_time": "2022-10-13T06:38:14.064Z"
   },
   {
    "duration": 9,
    "start_time": "2022-10-13T06:38:14.100Z"
   },
   {
    "duration": 4,
    "start_time": "2022-10-13T06:38:14.110Z"
   },
   {
    "duration": 8,
    "start_time": "2022-10-13T06:38:14.116Z"
   },
   {
    "duration": 9,
    "start_time": "2022-10-13T06:38:14.126Z"
   },
   {
    "duration": 5,
    "start_time": "2022-10-13T06:38:14.136Z"
   },
   {
    "duration": 6,
    "start_time": "2022-10-13T06:38:14.142Z"
   },
   {
    "duration": 15,
    "start_time": "2022-10-13T06:38:14.149Z"
   },
   {
    "duration": 5,
    "start_time": "2022-10-13T06:38:14.166Z"
   },
   {
    "duration": 29,
    "start_time": "2022-10-13T06:38:14.172Z"
   },
   {
    "duration": 15,
    "start_time": "2022-10-13T06:38:14.203Z"
   },
   {
    "duration": 9,
    "start_time": "2022-10-13T06:38:14.220Z"
   },
   {
    "duration": 6,
    "start_time": "2022-10-13T06:38:14.231Z"
   },
   {
    "duration": 9,
    "start_time": "2022-10-13T06:38:14.239Z"
   },
   {
    "duration": 278,
    "start_time": "2022-10-13T06:38:14.249Z"
   },
   {
    "duration": 4,
    "start_time": "2022-10-13T06:38:14.529Z"
   },
   {
    "duration": 241,
    "start_time": "2022-10-13T06:38:14.535Z"
   },
   {
    "duration": 291,
    "start_time": "2022-10-13T06:38:14.778Z"
   },
   {
    "duration": 191,
    "start_time": "2022-10-13T06:38:15.070Z"
   },
   {
    "duration": 191,
    "start_time": "2022-10-13T06:38:15.262Z"
   },
   {
    "duration": 175,
    "start_time": "2022-10-13T06:38:15.454Z"
   },
   {
    "duration": 161,
    "start_time": "2022-10-13T06:38:15.630Z"
   },
   {
    "duration": 162,
    "start_time": "2022-10-13T06:38:15.796Z"
   },
   {
    "duration": 137,
    "start_time": "2022-10-13T06:38:15.960Z"
   },
   {
    "duration": 176,
    "start_time": "2022-10-13T06:38:16.098Z"
   },
   {
    "duration": 190,
    "start_time": "2022-10-13T06:38:16.276Z"
   },
   {
    "duration": 312,
    "start_time": "2022-10-13T06:38:16.468Z"
   },
   {
    "duration": 170,
    "start_time": "2022-10-13T06:38:16.782Z"
   },
   {
    "duration": 176,
    "start_time": "2022-10-13T06:38:16.954Z"
   },
   {
    "duration": 156,
    "start_time": "2022-10-13T06:38:17.132Z"
   },
   {
    "duration": 207,
    "start_time": "2022-10-13T06:38:17.290Z"
   },
   {
    "duration": 143,
    "start_time": "2022-10-13T06:38:17.499Z"
   },
   {
    "duration": 163,
    "start_time": "2022-10-13T06:38:17.644Z"
   },
   {
    "duration": 153,
    "start_time": "2022-10-13T06:38:17.809Z"
   },
   {
    "duration": 181,
    "start_time": "2022-10-13T06:38:17.964Z"
   },
   {
    "duration": 159,
    "start_time": "2022-10-13T06:38:18.148Z"
   },
   {
    "duration": 141,
    "start_time": "2022-10-13T06:38:18.308Z"
   },
   {
    "duration": 243,
    "start_time": "2022-10-13T06:38:18.451Z"
   },
   {
    "duration": 164,
    "start_time": "2022-10-13T06:38:18.698Z"
   },
   {
    "duration": 160,
    "start_time": "2022-10-13T06:38:18.864Z"
   },
   {
    "duration": 25,
    "start_time": "2022-10-13T06:38:19.026Z"
   },
   {
    "duration": 7,
    "start_time": "2022-10-13T06:38:19.053Z"
   },
   {
    "duration": 29,
    "start_time": "2022-10-13T06:38:19.062Z"
   },
   {
    "duration": 596,
    "start_time": "2022-10-13T06:47:13.743Z"
   },
   {
    "duration": 124,
    "start_time": "2022-10-13T06:47:25.757Z"
   },
   {
    "duration": 73,
    "start_time": "2022-10-13T06:59:37.267Z"
   },
   {
    "duration": 10,
    "start_time": "2022-10-13T07:00:07.228Z"
   },
   {
    "duration": 15,
    "start_time": "2022-10-13T07:00:20.660Z"
   },
   {
    "duration": 131,
    "start_time": "2022-10-13T07:01:07.367Z"
   },
   {
    "duration": 18,
    "start_time": "2022-10-13T07:01:19.334Z"
   },
   {
    "duration": 82,
    "start_time": "2022-10-13T07:01:37.628Z"
   },
   {
    "duration": 77,
    "start_time": "2022-10-13T07:01:48.100Z"
   },
   {
    "duration": 73,
    "start_time": "2022-10-13T07:01:54.004Z"
   },
   {
    "duration": 95,
    "start_time": "2022-10-13T07:02:13.133Z"
   },
   {
    "duration": 80,
    "start_time": "2022-10-13T07:02:19.263Z"
   },
   {
    "duration": 72,
    "start_time": "2022-10-13T07:02:48.814Z"
   },
   {
    "duration": 129,
    "start_time": "2022-10-13T07:08:04.260Z"
   },
   {
    "duration": 122,
    "start_time": "2022-10-13T07:15:25.034Z"
   },
   {
    "duration": 77,
    "start_time": "2022-10-13T07:15:28.326Z"
   },
   {
    "duration": 171,
    "start_time": "2022-10-13T07:15:41.900Z"
   },
   {
    "duration": 175,
    "start_time": "2022-10-13T07:16:06.038Z"
   },
   {
    "duration": 162,
    "start_time": "2022-10-13T07:17:30.657Z"
   },
   {
    "duration": 163,
    "start_time": "2022-10-13T07:17:36.666Z"
   },
   {
    "duration": 187,
    "start_time": "2022-10-13T07:17:46.722Z"
   },
   {
    "duration": 161,
    "start_time": "2022-10-13T07:17:50.737Z"
   },
   {
    "duration": 235,
    "start_time": "2022-10-13T07:17:55.832Z"
   },
   {
    "duration": 166,
    "start_time": "2022-10-13T07:18:00.731Z"
   },
   {
    "duration": 168,
    "start_time": "2022-10-13T07:18:05.364Z"
   },
   {
    "duration": 204,
    "start_time": "2022-10-13T07:23:18.136Z"
   },
   {
    "duration": 176,
    "start_time": "2022-10-13T07:28:30.469Z"
   },
   {
    "duration": 181,
    "start_time": "2022-10-13T07:56:27.905Z"
   },
   {
    "duration": 13,
    "start_time": "2022-10-13T07:56:47.105Z"
   },
   {
    "duration": 571,
    "start_time": "2022-10-13T07:57:15.875Z"
   },
   {
    "duration": 103,
    "start_time": "2022-10-13T07:57:39.146Z"
   },
   {
    "duration": 106,
    "start_time": "2022-10-13T07:57:48.527Z"
   },
   {
    "duration": 153,
    "start_time": "2022-10-13T07:57:57.962Z"
   },
   {
    "duration": 111,
    "start_time": "2022-10-13T07:58:27.511Z"
   },
   {
    "duration": 109,
    "start_time": "2022-10-13T07:58:47.199Z"
   },
   {
    "duration": 122,
    "start_time": "2022-10-13T07:59:37.557Z"
   },
   {
    "duration": 130,
    "start_time": "2022-10-13T07:59:52.667Z"
   },
   {
    "duration": 29,
    "start_time": "2022-10-13T08:02:52.716Z"
   },
   {
    "duration": 2568,
    "start_time": "2022-10-13T08:03:41.148Z"
   },
   {
    "duration": 8,
    "start_time": "2022-10-13T08:03:56.970Z"
   },
   {
    "duration": 29,
    "start_time": "2022-10-13T08:04:03.640Z"
   },
   {
    "duration": 20,
    "start_time": "2022-10-13T08:11:58.972Z"
   },
   {
    "duration": 9,
    "start_time": "2022-10-13T08:12:19.146Z"
   },
   {
    "duration": 10,
    "start_time": "2022-10-13T08:12:54.748Z"
   },
   {
    "duration": 11,
    "start_time": "2022-10-13T08:13:16.354Z"
   },
   {
    "duration": 10,
    "start_time": "2022-10-13T08:14:57.161Z"
   },
   {
    "duration": 1302,
    "start_time": "2022-10-13T08:15:17.600Z"
   },
   {
    "duration": 101,
    "start_time": "2022-10-13T08:15:18.904Z"
   },
   {
    "duration": 37,
    "start_time": "2022-10-13T08:15:19.007Z"
   },
   {
    "duration": 49,
    "start_time": "2022-10-13T08:15:19.047Z"
   },
   {
    "duration": 4,
    "start_time": "2022-10-13T08:15:19.099Z"
   },
   {
    "duration": 25,
    "start_time": "2022-10-13T08:15:19.105Z"
   },
   {
    "duration": 2335,
    "start_time": "2022-10-13T08:15:19.131Z"
   },
   {
    "duration": 9,
    "start_time": "2022-10-13T08:15:21.468Z"
   },
   {
    "duration": 10,
    "start_time": "2022-10-13T08:15:21.479Z"
   },
   {
    "duration": 8,
    "start_time": "2022-10-13T08:15:21.492Z"
   },
   {
    "duration": 8,
    "start_time": "2022-10-13T08:15:21.502Z"
   },
   {
    "duration": 8,
    "start_time": "2022-10-13T08:15:21.512Z"
   },
   {
    "duration": 10,
    "start_time": "2022-10-13T08:15:21.521Z"
   },
   {
    "duration": 5,
    "start_time": "2022-10-13T08:15:21.532Z"
   },
   {
    "duration": 8,
    "start_time": "2022-10-13T08:15:21.539Z"
   },
   {
    "duration": 6,
    "start_time": "2022-10-13T08:15:21.548Z"
   },
   {
    "duration": 6,
    "start_time": "2022-10-13T08:15:21.555Z"
   },
   {
    "duration": 8,
    "start_time": "2022-10-13T08:15:21.562Z"
   },
   {
    "duration": 26,
    "start_time": "2022-10-13T08:15:21.571Z"
   },
   {
    "duration": 11,
    "start_time": "2022-10-13T08:15:21.599Z"
   },
   {
    "duration": 13,
    "start_time": "2022-10-13T08:15:21.612Z"
   },
   {
    "duration": 7,
    "start_time": "2022-10-13T08:15:21.627Z"
   },
   {
    "duration": 15,
    "start_time": "2022-10-13T08:15:21.636Z"
   },
   {
    "duration": 15,
    "start_time": "2022-10-13T08:15:21.653Z"
   },
   {
    "duration": 47,
    "start_time": "2022-10-13T08:15:21.670Z"
   },
   {
    "duration": 22,
    "start_time": "2022-10-13T08:15:21.719Z"
   },
   {
    "duration": 31,
    "start_time": "2022-10-13T08:15:21.743Z"
   },
   {
    "duration": 7,
    "start_time": "2022-10-13T08:15:21.796Z"
   },
   {
    "duration": 73,
    "start_time": "2022-10-13T08:15:21.805Z"
   },
   {
    "duration": 163,
    "start_time": "2022-10-13T08:15:21.879Z"
   },
   {
    "duration": 12,
    "start_time": "2022-10-13T08:15:22.044Z"
   },
   {
    "duration": 8,
    "start_time": "2022-10-13T08:15:22.058Z"
   },
   {
    "duration": 43,
    "start_time": "2022-10-13T08:15:22.068Z"
   },
   {
    "duration": 34,
    "start_time": "2022-10-13T08:15:22.113Z"
   },
   {
    "duration": 5,
    "start_time": "2022-10-13T08:15:22.149Z"
   },
   {
    "duration": 42,
    "start_time": "2022-10-13T08:15:22.155Z"
   },
   {
    "duration": 5,
    "start_time": "2022-10-13T08:15:22.198Z"
   },
   {
    "duration": 11,
    "start_time": "2022-10-13T08:15:22.205Z"
   },
   {
    "duration": 14,
    "start_time": "2022-10-13T08:15:22.218Z"
   },
   {
    "duration": 9,
    "start_time": "2022-10-13T08:15:22.234Z"
   },
   {
    "duration": 8,
    "start_time": "2022-10-13T08:15:22.245Z"
   },
   {
    "duration": 6,
    "start_time": "2022-10-13T08:15:22.255Z"
   },
   {
    "duration": 37,
    "start_time": "2022-10-13T08:15:22.262Z"
   },
   {
    "duration": 7,
    "start_time": "2022-10-13T08:15:22.300Z"
   },
   {
    "duration": 9,
    "start_time": "2022-10-13T08:15:22.308Z"
   },
   {
    "duration": 7,
    "start_time": "2022-10-13T08:15:22.318Z"
   },
   {
    "duration": 12,
    "start_time": "2022-10-13T08:15:22.327Z"
   },
   {
    "duration": 6,
    "start_time": "2022-10-13T08:15:22.341Z"
   },
   {
    "duration": 276,
    "start_time": "2022-10-13T08:15:22.348Z"
   },
   {
    "duration": 4,
    "start_time": "2022-10-13T08:15:22.626Z"
   },
   {
    "duration": 281,
    "start_time": "2022-10-13T08:15:22.632Z"
   },
   {
    "duration": 253,
    "start_time": "2022-10-13T08:15:22.915Z"
   },
   {
    "duration": 227,
    "start_time": "2022-10-13T08:15:23.170Z"
   },
   {
    "duration": 218,
    "start_time": "2022-10-13T08:15:23.399Z"
   },
   {
    "duration": 305,
    "start_time": "2022-10-13T08:15:23.618Z"
   },
   {
    "duration": 167,
    "start_time": "2022-10-13T08:15:23.925Z"
   },
   {
    "duration": 167,
    "start_time": "2022-10-13T08:15:24.096Z"
   },
   {
    "duration": 139,
    "start_time": "2022-10-13T08:15:24.264Z"
   },
   {
    "duration": 192,
    "start_time": "2022-10-13T08:15:24.405Z"
   },
   {
    "duration": 206,
    "start_time": "2022-10-13T08:15:24.599Z"
   },
   {
    "duration": 237,
    "start_time": "2022-10-13T08:15:24.807Z"
   },
   {
    "duration": 170,
    "start_time": "2022-10-13T08:15:25.047Z"
   },
   {
    "duration": 176,
    "start_time": "2022-10-13T08:15:25.218Z"
   },
   {
    "duration": 159,
    "start_time": "2022-10-13T08:15:25.396Z"
   },
   {
    "duration": 291,
    "start_time": "2022-10-13T08:15:25.557Z"
   },
   {
    "duration": 163,
    "start_time": "2022-10-13T08:15:25.850Z"
   },
   {
    "duration": 157,
    "start_time": "2022-10-13T08:15:26.015Z"
   },
   {
    "duration": 149,
    "start_time": "2022-10-13T08:15:26.174Z"
   },
   {
    "duration": 154,
    "start_time": "2022-10-13T08:15:26.325Z"
   },
   {
    "duration": 136,
    "start_time": "2022-10-13T08:15:26.481Z"
   },
   {
    "duration": 164,
    "start_time": "2022-10-13T08:15:26.618Z"
   },
   {
    "duration": 162,
    "start_time": "2022-10-13T08:15:26.784Z"
   },
   {
    "duration": 171,
    "start_time": "2022-10-13T08:15:26.948Z"
   },
   {
    "duration": 27,
    "start_time": "2022-10-13T08:15:27.121Z"
   },
   {
    "duration": 7,
    "start_time": "2022-10-13T08:15:27.150Z"
   },
   {
    "duration": 10,
    "start_time": "2022-10-13T08:15:27.158Z"
   },
   {
    "duration": 187,
    "start_time": "2022-10-13T08:15:27.169Z"
   },
   {
    "duration": 10,
    "start_time": "2022-10-13T08:16:01.067Z"
   },
   {
    "duration": 1137,
    "start_time": "2022-10-13T08:16:24.466Z"
   },
   {
    "duration": 96,
    "start_time": "2022-10-13T08:16:25.605Z"
   },
   {
    "duration": 31,
    "start_time": "2022-10-13T08:16:25.703Z"
   },
   {
    "duration": 26,
    "start_time": "2022-10-13T08:16:25.736Z"
   },
   {
    "duration": 8,
    "start_time": "2022-10-13T08:16:25.764Z"
   },
   {
    "duration": 37,
    "start_time": "2022-10-13T08:16:25.773Z"
   },
   {
    "duration": 2278,
    "start_time": "2022-10-13T08:16:25.811Z"
   },
   {
    "duration": 12,
    "start_time": "2022-10-13T08:16:28.091Z"
   },
   {
    "duration": 23,
    "start_time": "2022-10-13T08:16:28.105Z"
   },
   {
    "duration": 41,
    "start_time": "2022-10-13T08:16:28.132Z"
   },
   {
    "duration": 10,
    "start_time": "2022-10-13T08:16:28.175Z"
   },
   {
    "duration": 18,
    "start_time": "2022-10-13T08:16:28.188Z"
   },
   {
    "duration": 24,
    "start_time": "2022-10-13T08:16:28.208Z"
   },
   {
    "duration": 15,
    "start_time": "2022-10-13T08:16:28.234Z"
   },
   {
    "duration": 34,
    "start_time": "2022-10-13T08:16:28.252Z"
   },
   {
    "duration": 26,
    "start_time": "2022-10-13T08:16:28.288Z"
   },
   {
    "duration": 19,
    "start_time": "2022-10-13T08:16:28.316Z"
   },
   {
    "duration": 31,
    "start_time": "2022-10-13T08:16:28.339Z"
   },
   {
    "duration": 24,
    "start_time": "2022-10-13T08:16:28.372Z"
   },
   {
    "duration": 32,
    "start_time": "2022-10-13T08:16:28.398Z"
   },
   {
    "duration": 16,
    "start_time": "2022-10-13T08:16:28.431Z"
   },
   {
    "duration": 15,
    "start_time": "2022-10-13T08:16:28.449Z"
   },
   {
    "duration": 23,
    "start_time": "2022-10-13T08:16:28.465Z"
   },
   {
    "duration": 32,
    "start_time": "2022-10-13T08:16:28.490Z"
   },
   {
    "duration": 31,
    "start_time": "2022-10-13T08:16:28.524Z"
   },
   {
    "duration": 29,
    "start_time": "2022-10-13T08:16:28.557Z"
   },
   {
    "duration": 37,
    "start_time": "2022-10-13T08:16:28.588Z"
   },
   {
    "duration": 8,
    "start_time": "2022-10-13T08:16:28.630Z"
   },
   {
    "duration": 93,
    "start_time": "2022-10-13T08:16:28.640Z"
   },
   {
    "duration": 8,
    "start_time": "2022-10-13T08:16:28.734Z"
   },
   {
    "duration": 47,
    "start_time": "2022-10-13T08:16:28.744Z"
   },
   {
    "duration": 35,
    "start_time": "2022-10-13T08:16:28.793Z"
   },
   {
    "duration": 27,
    "start_time": "2022-10-13T08:16:28.830Z"
   },
   {
    "duration": 33,
    "start_time": "2022-10-13T08:16:28.859Z"
   },
   {
    "duration": 16,
    "start_time": "2022-10-13T08:16:28.894Z"
   },
   {
    "duration": 28,
    "start_time": "2022-10-13T08:16:28.911Z"
   },
   {
    "duration": 53,
    "start_time": "2022-10-13T08:16:28.941Z"
   },
   {
    "duration": 13,
    "start_time": "2022-10-13T08:16:28.996Z"
   },
   {
    "duration": 10,
    "start_time": "2022-10-13T08:16:29.010Z"
   },
   {
    "duration": 6,
    "start_time": "2022-10-13T08:16:29.021Z"
   },
   {
    "duration": 9,
    "start_time": "2022-10-13T08:16:29.029Z"
   },
   {
    "duration": 8,
    "start_time": "2022-10-13T08:16:29.040Z"
   },
   {
    "duration": 6,
    "start_time": "2022-10-13T08:16:29.049Z"
   },
   {
    "duration": 6,
    "start_time": "2022-10-13T08:16:29.056Z"
   },
   {
    "duration": 7,
    "start_time": "2022-10-13T08:16:29.064Z"
   },
   {
    "duration": 27,
    "start_time": "2022-10-13T08:16:29.072Z"
   },
   {
    "duration": 280,
    "start_time": "2022-10-13T08:16:29.100Z"
   },
   {
    "duration": 5,
    "start_time": "2022-10-13T08:16:29.382Z"
   },
   {
    "duration": 247,
    "start_time": "2022-10-13T08:16:29.388Z"
   },
   {
    "duration": 224,
    "start_time": "2022-10-13T08:16:29.636Z"
   },
   {
    "duration": 208,
    "start_time": "2022-10-13T08:16:29.862Z"
   },
   {
    "duration": 204,
    "start_time": "2022-10-13T08:16:30.072Z"
   },
   {
    "duration": 328,
    "start_time": "2022-10-13T08:16:30.278Z"
   },
   {
    "duration": 175,
    "start_time": "2022-10-13T08:16:30.608Z"
   },
   {
    "duration": 174,
    "start_time": "2022-10-13T08:16:30.784Z"
   },
   {
    "duration": 141,
    "start_time": "2022-10-13T08:16:30.960Z"
   },
   {
    "duration": 176,
    "start_time": "2022-10-13T08:16:31.104Z"
   },
   {
    "duration": 197,
    "start_time": "2022-10-13T08:16:31.282Z"
   },
   {
    "duration": 234,
    "start_time": "2022-10-13T08:16:31.481Z"
   },
   {
    "duration": 176,
    "start_time": "2022-10-13T08:16:31.717Z"
   },
   {
    "duration": 181,
    "start_time": "2022-10-13T08:16:31.895Z"
   },
   {
    "duration": 165,
    "start_time": "2022-10-13T08:16:32.077Z"
   },
   {
    "duration": 301,
    "start_time": "2022-10-13T08:16:32.243Z"
   },
   {
    "duration": 177,
    "start_time": "2022-10-13T08:16:32.546Z"
   },
   {
    "duration": 173,
    "start_time": "2022-10-13T08:16:32.725Z"
   },
   {
    "duration": 159,
    "start_time": "2022-10-13T08:16:32.900Z"
   },
   {
    "duration": 154,
    "start_time": "2022-10-13T08:16:33.061Z"
   },
   {
    "duration": 142,
    "start_time": "2022-10-13T08:16:33.217Z"
   },
   {
    "duration": 168,
    "start_time": "2022-10-13T08:16:33.360Z"
   },
   {
    "duration": 184,
    "start_time": "2022-10-13T08:16:33.530Z"
   },
   {
    "duration": 156,
    "start_time": "2022-10-13T08:16:33.716Z"
   },
   {
    "duration": 33,
    "start_time": "2022-10-13T08:16:33.873Z"
   },
   {
    "duration": 7,
    "start_time": "2022-10-13T08:16:33.908Z"
   },
   {
    "duration": 7,
    "start_time": "2022-10-13T08:16:33.916Z"
   },
   {
    "duration": 183,
    "start_time": "2022-10-13T08:16:33.925Z"
   },
   {
    "duration": 15,
    "start_time": "2022-10-13T08:17:29.475Z"
   },
   {
    "duration": 1235,
    "start_time": "2022-10-13T08:17:38.164Z"
   },
   {
    "duration": 96,
    "start_time": "2022-10-13T08:17:39.401Z"
   },
   {
    "duration": 31,
    "start_time": "2022-10-13T08:17:39.499Z"
   },
   {
    "duration": 29,
    "start_time": "2022-10-13T08:17:39.533Z"
   },
   {
    "duration": 5,
    "start_time": "2022-10-13T08:17:39.564Z"
   },
   {
    "duration": 40,
    "start_time": "2022-10-13T08:17:39.571Z"
   },
   {
    "duration": 2308,
    "start_time": "2022-10-13T08:17:39.613Z"
   },
   {
    "duration": 14,
    "start_time": "2022-10-13T08:17:41.923Z"
   },
   {
    "duration": 17,
    "start_time": "2022-10-13T08:17:41.939Z"
   },
   {
    "duration": 11,
    "start_time": "2022-10-13T08:17:41.960Z"
   },
   {
    "duration": 6,
    "start_time": "2022-10-13T08:17:41.972Z"
   },
   {
    "duration": 17,
    "start_time": "2022-10-13T08:17:41.980Z"
   },
   {
    "duration": 6,
    "start_time": "2022-10-13T08:17:41.998Z"
   },
   {
    "duration": 10,
    "start_time": "2022-10-13T08:17:42.006Z"
   },
   {
    "duration": 21,
    "start_time": "2022-10-13T08:17:42.017Z"
   },
   {
    "duration": 40,
    "start_time": "2022-10-13T08:17:42.040Z"
   },
   {
    "duration": 17,
    "start_time": "2022-10-13T08:17:42.082Z"
   },
   {
    "duration": 12,
    "start_time": "2022-10-13T08:17:42.100Z"
   },
   {
    "duration": 9,
    "start_time": "2022-10-13T08:17:42.114Z"
   },
   {
    "duration": 11,
    "start_time": "2022-10-13T08:17:42.125Z"
   },
   {
    "duration": 13,
    "start_time": "2022-10-13T08:17:42.138Z"
   },
   {
    "duration": 11,
    "start_time": "2022-10-13T08:17:42.153Z"
   },
   {
    "duration": 35,
    "start_time": "2022-10-13T08:17:42.166Z"
   },
   {
    "duration": 20,
    "start_time": "2022-10-13T08:17:42.203Z"
   },
   {
    "duration": 23,
    "start_time": "2022-10-13T08:17:42.225Z"
   },
   {
    "duration": 23,
    "start_time": "2022-10-13T08:17:42.250Z"
   },
   {
    "duration": 40,
    "start_time": "2022-10-13T08:17:42.276Z"
   },
   {
    "duration": 10,
    "start_time": "2022-10-13T08:17:42.320Z"
   },
   {
    "duration": 80,
    "start_time": "2022-10-13T08:17:42.331Z"
   },
   {
    "duration": 11,
    "start_time": "2022-10-13T08:17:42.413Z"
   },
   {
    "duration": 32,
    "start_time": "2022-10-13T08:17:42.426Z"
   },
   {
    "duration": 57,
    "start_time": "2022-10-13T08:17:42.459Z"
   },
   {
    "duration": 5,
    "start_time": "2022-10-13T08:17:42.518Z"
   },
   {
    "duration": 10,
    "start_time": "2022-10-13T08:17:42.525Z"
   },
   {
    "duration": 7,
    "start_time": "2022-10-13T08:17:42.537Z"
   },
   {
    "duration": 12,
    "start_time": "2022-10-13T08:17:42.545Z"
   },
   {
    "duration": 11,
    "start_time": "2022-10-13T08:17:42.559Z"
   },
   {
    "duration": 29,
    "start_time": "2022-10-13T08:17:42.572Z"
   },
   {
    "duration": 9,
    "start_time": "2022-10-13T08:17:42.602Z"
   },
   {
    "duration": 9,
    "start_time": "2022-10-13T08:17:42.612Z"
   },
   {
    "duration": 6,
    "start_time": "2022-10-13T08:17:42.623Z"
   },
   {
    "duration": 11,
    "start_time": "2022-10-13T08:17:42.630Z"
   },
   {
    "duration": 7,
    "start_time": "2022-10-13T08:17:42.644Z"
   },
   {
    "duration": 10,
    "start_time": "2022-10-13T08:17:42.653Z"
   },
   {
    "duration": 35,
    "start_time": "2022-10-13T08:17:42.665Z"
   },
   {
    "duration": 11,
    "start_time": "2022-10-13T08:17:42.702Z"
   },
   {
    "duration": 277,
    "start_time": "2022-10-13T08:17:42.714Z"
   },
   {
    "duration": 5,
    "start_time": "2022-10-13T08:17:42.993Z"
   },
   {
    "duration": 284,
    "start_time": "2022-10-13T08:17:43.001Z"
   },
   {
    "duration": 242,
    "start_time": "2022-10-13T08:17:43.287Z"
   },
   {
    "duration": 372,
    "start_time": "2022-10-13T08:17:43.531Z"
   },
   {
    "duration": 215,
    "start_time": "2022-10-13T08:17:43.905Z"
   },
   {
    "duration": 337,
    "start_time": "2022-10-13T08:17:44.122Z"
   },
   {
    "duration": 198,
    "start_time": "2022-10-13T08:17:44.461Z"
   },
   {
    "duration": 179,
    "start_time": "2022-10-13T08:17:44.661Z"
   },
   {
    "duration": 146,
    "start_time": "2022-10-13T08:17:44.842Z"
   },
   {
    "duration": 185,
    "start_time": "2022-10-13T08:17:44.990Z"
   },
   {
    "duration": 194,
    "start_time": "2022-10-13T08:17:45.177Z"
   },
   {
    "duration": 229,
    "start_time": "2022-10-13T08:17:45.373Z"
   },
   {
    "duration": 173,
    "start_time": "2022-10-13T08:17:45.603Z"
   },
   {
    "duration": 182,
    "start_time": "2022-10-13T08:17:45.777Z"
   },
   {
    "duration": 167,
    "start_time": "2022-10-13T08:17:45.961Z"
   },
   {
    "duration": 292,
    "start_time": "2022-10-13T08:17:46.131Z"
   },
   {
    "duration": 158,
    "start_time": "2022-10-13T08:17:46.424Z"
   },
   {
    "duration": 184,
    "start_time": "2022-10-13T08:17:46.583Z"
   },
   {
    "duration": 173,
    "start_time": "2022-10-13T08:17:46.771Z"
   },
   {
    "duration": 166,
    "start_time": "2022-10-13T08:17:46.945Z"
   },
   {
    "duration": 155,
    "start_time": "2022-10-13T08:17:47.113Z"
   },
   {
    "duration": 161,
    "start_time": "2022-10-13T08:17:47.269Z"
   },
   {
    "duration": 168,
    "start_time": "2022-10-13T08:17:47.432Z"
   },
   {
    "duration": 159,
    "start_time": "2022-10-13T08:17:47.602Z"
   },
   {
    "duration": 49,
    "start_time": "2022-10-13T08:17:47.763Z"
   },
   {
    "duration": 8,
    "start_time": "2022-10-13T08:17:47.814Z"
   },
   {
    "duration": 8,
    "start_time": "2022-10-13T08:17:47.824Z"
   },
   {
    "duration": 187,
    "start_time": "2022-10-13T08:17:47.834Z"
   },
   {
    "duration": 77,
    "start_time": "2022-10-13T08:18:35.176Z"
   },
   {
    "duration": 19,
    "start_time": "2022-10-13T08:18:38.417Z"
   },
   {
    "duration": 1186,
    "start_time": "2022-10-13T08:18:44.410Z"
   },
   {
    "duration": 118,
    "start_time": "2022-10-13T08:18:45.599Z"
   },
   {
    "duration": 37,
    "start_time": "2022-10-13T08:18:45.718Z"
   },
   {
    "duration": 39,
    "start_time": "2022-10-13T08:18:45.759Z"
   },
   {
    "duration": 5,
    "start_time": "2022-10-13T08:18:45.801Z"
   },
   {
    "duration": 26,
    "start_time": "2022-10-13T08:18:45.808Z"
   },
   {
    "duration": 2299,
    "start_time": "2022-10-13T08:18:45.837Z"
   },
   {
    "duration": 12,
    "start_time": "2022-10-13T08:18:48.139Z"
   },
   {
    "duration": 28,
    "start_time": "2022-10-13T08:18:48.153Z"
   },
   {
    "duration": 17,
    "start_time": "2022-10-13T08:18:48.185Z"
   },
   {
    "duration": 19,
    "start_time": "2022-10-13T08:18:48.205Z"
   },
   {
    "duration": 23,
    "start_time": "2022-10-13T08:18:48.226Z"
   },
   {
    "duration": 22,
    "start_time": "2022-10-13T08:18:48.252Z"
   },
   {
    "duration": 19,
    "start_time": "2022-10-13T08:18:48.276Z"
   },
   {
    "duration": 23,
    "start_time": "2022-10-13T08:18:48.298Z"
   },
   {
    "duration": 47,
    "start_time": "2022-10-13T08:18:48.323Z"
   },
   {
    "duration": 10,
    "start_time": "2022-10-13T08:18:48.372Z"
   },
   {
    "duration": 33,
    "start_time": "2022-10-13T08:18:48.383Z"
   },
   {
    "duration": 17,
    "start_time": "2022-10-13T08:18:48.418Z"
   },
   {
    "duration": 25,
    "start_time": "2022-10-13T08:18:48.437Z"
   },
   {
    "duration": 23,
    "start_time": "2022-10-13T08:18:48.464Z"
   },
   {
    "duration": 11,
    "start_time": "2022-10-13T08:18:48.489Z"
   },
   {
    "duration": 28,
    "start_time": "2022-10-13T08:18:48.502Z"
   },
   {
    "duration": 26,
    "start_time": "2022-10-13T08:18:48.533Z"
   },
   {
    "duration": 26,
    "start_time": "2022-10-13T08:18:48.561Z"
   },
   {
    "duration": 20,
    "start_time": "2022-10-13T08:18:48.588Z"
   },
   {
    "duration": 27,
    "start_time": "2022-10-13T08:18:48.610Z"
   },
   {
    "duration": 11,
    "start_time": "2022-10-13T08:18:48.643Z"
   },
   {
    "duration": 92,
    "start_time": "2022-10-13T08:18:48.656Z"
   },
   {
    "duration": 10,
    "start_time": "2022-10-13T08:18:48.750Z"
   },
   {
    "duration": 42,
    "start_time": "2022-10-13T08:18:48.763Z"
   },
   {
    "duration": 37,
    "start_time": "2022-10-13T08:18:48.807Z"
   },
   {
    "duration": 32,
    "start_time": "2022-10-13T08:18:48.847Z"
   },
   {
    "duration": 12,
    "start_time": "2022-10-13T08:18:48.882Z"
   },
   {
    "duration": 5,
    "start_time": "2022-10-13T08:18:48.896Z"
   },
   {
    "duration": 15,
    "start_time": "2022-10-13T08:18:48.903Z"
   },
   {
    "duration": 12,
    "start_time": "2022-10-13T08:18:48.920Z"
   },
   {
    "duration": 14,
    "start_time": "2022-10-13T08:18:48.933Z"
   },
   {
    "duration": 18,
    "start_time": "2022-10-13T08:18:48.949Z"
   },
   {
    "duration": 23,
    "start_time": "2022-10-13T08:18:48.969Z"
   },
   {
    "duration": 24,
    "start_time": "2022-10-13T08:18:48.993Z"
   },
   {
    "duration": 16,
    "start_time": "2022-10-13T08:18:49.019Z"
   },
   {
    "duration": 23,
    "start_time": "2022-10-13T08:18:49.037Z"
   },
   {
    "duration": 11,
    "start_time": "2022-10-13T08:18:49.061Z"
   },
   {
    "duration": 24,
    "start_time": "2022-10-13T08:18:49.073Z"
   },
   {
    "duration": 18,
    "start_time": "2022-10-13T08:18:49.099Z"
   },
   {
    "duration": 283,
    "start_time": "2022-10-13T08:18:49.119Z"
   },
   {
    "duration": 5,
    "start_time": "2022-10-13T08:18:49.404Z"
   },
   {
    "duration": 248,
    "start_time": "2022-10-13T08:18:49.411Z"
   },
   {
    "duration": 228,
    "start_time": "2022-10-13T08:18:49.661Z"
   },
   {
    "duration": 205,
    "start_time": "2022-10-13T08:18:49.896Z"
   },
   {
    "duration": 218,
    "start_time": "2022-10-13T08:18:50.103Z"
   },
   {
    "duration": 318,
    "start_time": "2022-10-13T08:18:50.323Z"
   },
   {
    "duration": 190,
    "start_time": "2022-10-13T08:18:50.643Z"
   },
   {
    "duration": 199,
    "start_time": "2022-10-13T08:18:50.836Z"
   },
   {
    "duration": 132,
    "start_time": "2022-10-13T08:18:51.037Z"
   },
   {
    "duration": 181,
    "start_time": "2022-10-13T08:18:51.171Z"
   },
   {
    "duration": 200,
    "start_time": "2022-10-13T08:18:51.354Z"
   },
   {
    "duration": 250,
    "start_time": "2022-10-13T08:18:51.556Z"
   },
   {
    "duration": 176,
    "start_time": "2022-10-13T08:18:51.808Z"
   },
   {
    "duration": 176,
    "start_time": "2022-10-13T08:18:51.986Z"
   },
   {
    "duration": 170,
    "start_time": "2022-10-13T08:18:52.164Z"
   },
   {
    "duration": 313,
    "start_time": "2022-10-13T08:18:52.336Z"
   },
   {
    "duration": 181,
    "start_time": "2022-10-13T08:18:52.651Z"
   },
   {
    "duration": 187,
    "start_time": "2022-10-13T08:18:52.834Z"
   },
   {
    "duration": 189,
    "start_time": "2022-10-13T08:18:53.023Z"
   },
   {
    "duration": 160,
    "start_time": "2022-10-13T08:18:53.213Z"
   },
   {
    "duration": 170,
    "start_time": "2022-10-13T08:18:53.375Z"
   },
   {
    "duration": 204,
    "start_time": "2022-10-13T08:18:53.546Z"
   },
   {
    "duration": 194,
    "start_time": "2022-10-13T08:18:53.753Z"
   },
   {
    "duration": 168,
    "start_time": "2022-10-13T08:18:53.949Z"
   },
   {
    "duration": 31,
    "start_time": "2022-10-13T08:18:54.119Z"
   },
   {
    "duration": 7,
    "start_time": "2022-10-13T08:18:54.152Z"
   },
   {
    "duration": 39,
    "start_time": "2022-10-13T08:18:54.160Z"
   },
   {
    "duration": 176,
    "start_time": "2022-10-13T08:18:54.201Z"
   },
   {
    "duration": 5,
    "start_time": "2022-10-13T08:19:02.545Z"
   },
   {
    "duration": 1275,
    "start_time": "2022-10-13T08:20:45.931Z"
   },
   {
    "duration": 104,
    "start_time": "2022-10-13T08:20:47.208Z"
   },
   {
    "duration": 33,
    "start_time": "2022-10-13T08:20:47.313Z"
   },
   {
    "duration": 59,
    "start_time": "2022-10-13T08:20:47.349Z"
   },
   {
    "duration": 7,
    "start_time": "2022-10-13T08:20:47.410Z"
   },
   {
    "duration": 21,
    "start_time": "2022-10-13T08:20:47.418Z"
   },
   {
    "duration": 2456,
    "start_time": "2022-10-13T08:20:47.441Z"
   },
   {
    "duration": 9,
    "start_time": "2022-10-13T08:20:49.898Z"
   },
   {
    "duration": 23,
    "start_time": "2022-10-13T08:20:49.909Z"
   },
   {
    "duration": 5,
    "start_time": "2022-10-13T08:20:49.935Z"
   },
   {
    "duration": 8,
    "start_time": "2022-10-13T08:20:49.942Z"
   },
   {
    "duration": 6,
    "start_time": "2022-10-13T08:20:49.952Z"
   },
   {
    "duration": 4,
    "start_time": "2022-10-13T08:20:49.959Z"
   },
   {
    "duration": 5,
    "start_time": "2022-10-13T08:20:49.997Z"
   },
   {
    "duration": 8,
    "start_time": "2022-10-13T08:20:50.004Z"
   },
   {
    "duration": 7,
    "start_time": "2022-10-13T08:20:50.013Z"
   },
   {
    "duration": 7,
    "start_time": "2022-10-13T08:20:50.022Z"
   },
   {
    "duration": 12,
    "start_time": "2022-10-13T08:20:50.031Z"
   },
   {
    "duration": 9,
    "start_time": "2022-10-13T08:20:50.046Z"
   },
   {
    "duration": 47,
    "start_time": "2022-10-13T08:20:50.057Z"
   },
   {
    "duration": 8,
    "start_time": "2022-10-13T08:20:50.106Z"
   },
   {
    "duration": 158,
    "start_time": "2022-10-13T08:20:50.115Z"
   },
   {
    "duration": 0,
    "start_time": "2022-10-13T08:20:50.276Z"
   },
   {
    "duration": 0,
    "start_time": "2022-10-13T08:20:50.278Z"
   },
   {
    "duration": 0,
    "start_time": "2022-10-13T08:20:50.280Z"
   },
   {
    "duration": 0,
    "start_time": "2022-10-13T08:20:50.282Z"
   },
   {
    "duration": 0,
    "start_time": "2022-10-13T08:20:50.283Z"
   },
   {
    "duration": 0,
    "start_time": "2022-10-13T08:20:50.297Z"
   },
   {
    "duration": 0,
    "start_time": "2022-10-13T08:20:50.298Z"
   },
   {
    "duration": 0,
    "start_time": "2022-10-13T08:20:50.299Z"
   },
   {
    "duration": 0,
    "start_time": "2022-10-13T08:20:50.300Z"
   },
   {
    "duration": 0,
    "start_time": "2022-10-13T08:20:50.301Z"
   },
   {
    "duration": 0,
    "start_time": "2022-10-13T08:20:50.302Z"
   },
   {
    "duration": 0,
    "start_time": "2022-10-13T08:20:50.303Z"
   },
   {
    "duration": 0,
    "start_time": "2022-10-13T08:20:50.304Z"
   },
   {
    "duration": 0,
    "start_time": "2022-10-13T08:20:50.306Z"
   },
   {
    "duration": 0,
    "start_time": "2022-10-13T08:20:50.307Z"
   },
   {
    "duration": 0,
    "start_time": "2022-10-13T08:20:50.308Z"
   },
   {
    "duration": 0,
    "start_time": "2022-10-13T08:20:50.309Z"
   },
   {
    "duration": 0,
    "start_time": "2022-10-13T08:20:50.310Z"
   },
   {
    "duration": 0,
    "start_time": "2022-10-13T08:20:50.311Z"
   },
   {
    "duration": 0,
    "start_time": "2022-10-13T08:20:50.312Z"
   },
   {
    "duration": 0,
    "start_time": "2022-10-13T08:20:50.313Z"
   },
   {
    "duration": 0,
    "start_time": "2022-10-13T08:20:50.314Z"
   },
   {
    "duration": 0,
    "start_time": "2022-10-13T08:20:50.315Z"
   },
   {
    "duration": 0,
    "start_time": "2022-10-13T08:20:50.316Z"
   },
   {
    "duration": 0,
    "start_time": "2022-10-13T08:20:50.317Z"
   },
   {
    "duration": 0,
    "start_time": "2022-10-13T08:20:50.318Z"
   },
   {
    "duration": 0,
    "start_time": "2022-10-13T08:20:50.319Z"
   },
   {
    "duration": 0,
    "start_time": "2022-10-13T08:20:50.320Z"
   },
   {
    "duration": 0,
    "start_time": "2022-10-13T08:20:50.321Z"
   },
   {
    "duration": 0,
    "start_time": "2022-10-13T08:20:50.322Z"
   },
   {
    "duration": 0,
    "start_time": "2022-10-13T08:20:50.323Z"
   },
   {
    "duration": 0,
    "start_time": "2022-10-13T08:20:50.325Z"
   },
   {
    "duration": 0,
    "start_time": "2022-10-13T08:20:50.326Z"
   },
   {
    "duration": 0,
    "start_time": "2022-10-13T08:20:50.327Z"
   },
   {
    "duration": 0,
    "start_time": "2022-10-13T08:20:50.328Z"
   },
   {
    "duration": 0,
    "start_time": "2022-10-13T08:20:50.329Z"
   },
   {
    "duration": 0,
    "start_time": "2022-10-13T08:20:50.330Z"
   },
   {
    "duration": 0,
    "start_time": "2022-10-13T08:20:50.331Z"
   },
   {
    "duration": 0,
    "start_time": "2022-10-13T08:20:50.332Z"
   },
   {
    "duration": 0,
    "start_time": "2022-10-13T08:20:50.334Z"
   },
   {
    "duration": 0,
    "start_time": "2022-10-13T08:20:50.397Z"
   },
   {
    "duration": 0,
    "start_time": "2022-10-13T08:20:50.399Z"
   },
   {
    "duration": 0,
    "start_time": "2022-10-13T08:20:50.400Z"
   },
   {
    "duration": 0,
    "start_time": "2022-10-13T08:20:50.401Z"
   },
   {
    "duration": 0,
    "start_time": "2022-10-13T08:20:50.402Z"
   },
   {
    "duration": 0,
    "start_time": "2022-10-13T08:20:50.403Z"
   },
   {
    "duration": 0,
    "start_time": "2022-10-13T08:20:50.405Z"
   },
   {
    "duration": 0,
    "start_time": "2022-10-13T08:20:50.406Z"
   },
   {
    "duration": 0,
    "start_time": "2022-10-13T08:20:50.407Z"
   },
   {
    "duration": 0,
    "start_time": "2022-10-13T08:20:50.409Z"
   },
   {
    "duration": 0,
    "start_time": "2022-10-13T08:20:50.410Z"
   },
   {
    "duration": 0,
    "start_time": "2022-10-13T08:20:50.411Z"
   },
   {
    "duration": 10,
    "start_time": "2022-10-13T08:21:05.629Z"
   },
   {
    "duration": 1174,
    "start_time": "2022-10-13T08:21:11.739Z"
   },
   {
    "duration": 110,
    "start_time": "2022-10-13T08:21:12.916Z"
   },
   {
    "duration": 31,
    "start_time": "2022-10-13T08:21:13.030Z"
   },
   {
    "duration": 44,
    "start_time": "2022-10-13T08:21:13.063Z"
   },
   {
    "duration": 4,
    "start_time": "2022-10-13T08:21:13.108Z"
   },
   {
    "duration": 18,
    "start_time": "2022-10-13T08:21:13.113Z"
   },
   {
    "duration": 2325,
    "start_time": "2022-10-13T08:21:13.132Z"
   },
   {
    "duration": 11,
    "start_time": "2022-10-13T08:21:15.459Z"
   },
   {
    "duration": 13,
    "start_time": "2022-10-13T08:21:15.475Z"
   },
   {
    "duration": 14,
    "start_time": "2022-10-13T08:21:15.490Z"
   },
   {
    "duration": 6,
    "start_time": "2022-10-13T08:21:15.506Z"
   },
   {
    "duration": 8,
    "start_time": "2022-10-13T08:21:15.513Z"
   },
   {
    "duration": 21,
    "start_time": "2022-10-13T08:21:15.522Z"
   },
   {
    "duration": 10,
    "start_time": "2022-10-13T08:21:15.545Z"
   },
   {
    "duration": 10,
    "start_time": "2022-10-13T08:21:15.557Z"
   },
   {
    "duration": 9,
    "start_time": "2022-10-13T08:21:15.569Z"
   },
   {
    "duration": 19,
    "start_time": "2022-10-13T08:21:15.580Z"
   },
   {
    "duration": 26,
    "start_time": "2022-10-13T08:21:15.600Z"
   },
   {
    "duration": 22,
    "start_time": "2022-10-13T08:21:15.628Z"
   },
   {
    "duration": 40,
    "start_time": "2022-10-13T08:21:15.651Z"
   },
   {
    "duration": 34,
    "start_time": "2022-10-13T08:21:15.693Z"
   },
   {
    "duration": 10,
    "start_time": "2022-10-13T08:21:15.728Z"
   },
   {
    "duration": 10,
    "start_time": "2022-10-13T08:21:15.741Z"
   },
   {
    "duration": 20,
    "start_time": "2022-10-13T08:21:15.754Z"
   },
   {
    "duration": 32,
    "start_time": "2022-10-13T08:21:15.777Z"
   },
   {
    "duration": 20,
    "start_time": "2022-10-13T08:21:15.811Z"
   },
   {
    "duration": 32,
    "start_time": "2022-10-13T08:21:15.835Z"
   },
   {
    "duration": 16,
    "start_time": "2022-10-13T08:21:15.898Z"
   },
   {
    "duration": 103,
    "start_time": "2022-10-13T08:21:15.917Z"
   },
   {
    "duration": 8,
    "start_time": "2022-10-13T08:21:16.022Z"
   },
   {
    "duration": 28,
    "start_time": "2022-10-13T08:21:16.032Z"
   },
   {
    "duration": 70,
    "start_time": "2022-10-13T08:21:16.062Z"
   },
   {
    "duration": 6,
    "start_time": "2022-10-13T08:21:16.134Z"
   },
   {
    "duration": 10,
    "start_time": "2022-10-13T08:21:16.142Z"
   },
   {
    "duration": 6,
    "start_time": "2022-10-13T08:21:16.154Z"
   },
   {
    "duration": 38,
    "start_time": "2022-10-13T08:21:16.162Z"
   },
   {
    "duration": 12,
    "start_time": "2022-10-13T08:21:16.202Z"
   },
   {
    "duration": 6,
    "start_time": "2022-10-13T08:21:16.216Z"
   },
   {
    "duration": 11,
    "start_time": "2022-10-13T08:21:16.224Z"
   },
   {
    "duration": 8,
    "start_time": "2022-10-13T08:21:16.237Z"
   },
   {
    "duration": 4,
    "start_time": "2022-10-13T08:21:16.247Z"
   },
   {
    "duration": 11,
    "start_time": "2022-10-13T08:21:16.253Z"
   },
   {
    "duration": 35,
    "start_time": "2022-10-13T08:21:16.266Z"
   },
   {
    "duration": 9,
    "start_time": "2022-10-13T08:21:16.303Z"
   },
   {
    "duration": 9,
    "start_time": "2022-10-13T08:21:16.313Z"
   },
   {
    "duration": 9,
    "start_time": "2022-10-13T08:21:16.324Z"
   },
   {
    "duration": 322,
    "start_time": "2022-10-13T08:21:16.335Z"
   },
   {
    "duration": 4,
    "start_time": "2022-10-13T08:21:16.660Z"
   },
   {
    "duration": 272,
    "start_time": "2022-10-13T08:21:16.666Z"
   },
   {
    "duration": 252,
    "start_time": "2022-10-13T08:21:16.940Z"
   },
   {
    "duration": 208,
    "start_time": "2022-10-13T08:21:17.198Z"
   },
   {
    "duration": 224,
    "start_time": "2022-10-13T08:21:17.408Z"
   },
   {
    "duration": 331,
    "start_time": "2022-10-13T08:21:17.634Z"
   },
   {
    "duration": 221,
    "start_time": "2022-10-13T08:21:17.967Z"
   },
   {
    "duration": 250,
    "start_time": "2022-10-13T08:21:18.191Z"
   },
   {
    "duration": 156,
    "start_time": "2022-10-13T08:21:18.443Z"
   },
   {
    "duration": 208,
    "start_time": "2022-10-13T08:21:18.601Z"
   },
   {
    "duration": 208,
    "start_time": "2022-10-13T08:21:18.811Z"
   },
   {
    "duration": 259,
    "start_time": "2022-10-13T08:21:19.021Z"
   },
   {
    "duration": 204,
    "start_time": "2022-10-13T08:21:19.282Z"
   },
   {
    "duration": 224,
    "start_time": "2022-10-13T08:21:19.489Z"
   },
   {
    "duration": 183,
    "start_time": "2022-10-13T08:21:19.716Z"
   },
   {
    "duration": 324,
    "start_time": "2022-10-13T08:21:19.901Z"
   },
   {
    "duration": 181,
    "start_time": "2022-10-13T08:21:20.228Z"
   },
   {
    "duration": 176,
    "start_time": "2022-10-13T08:21:20.412Z"
   },
   {
    "duration": 187,
    "start_time": "2022-10-13T08:21:20.590Z"
   },
   {
    "duration": 193,
    "start_time": "2022-10-13T08:21:20.779Z"
   },
   {
    "duration": 151,
    "start_time": "2022-10-13T08:21:20.975Z"
   },
   {
    "duration": 195,
    "start_time": "2022-10-13T08:21:21.128Z"
   },
   {
    "duration": 179,
    "start_time": "2022-10-13T08:21:21.326Z"
   },
   {
    "duration": 181,
    "start_time": "2022-10-13T08:21:21.507Z"
   },
   {
    "duration": 39,
    "start_time": "2022-10-13T08:21:21.689Z"
   },
   {
    "duration": 9,
    "start_time": "2022-10-13T08:21:21.731Z"
   },
   {
    "duration": 14,
    "start_time": "2022-10-13T08:21:21.743Z"
   },
   {
    "duration": 197,
    "start_time": "2022-10-13T08:21:21.759Z"
   },
   {
    "duration": 315,
    "start_time": "2022-10-13T08:34:46.058Z"
   },
   {
    "duration": 241,
    "start_time": "2022-10-13T08:34:54.601Z"
   },
   {
    "duration": 1145,
    "start_time": "2022-10-13T14:27:45.739Z"
   },
   {
    "duration": 115,
    "start_time": "2022-10-13T14:27:46.886Z"
   },
   {
    "duration": 38,
    "start_time": "2022-10-13T14:27:47.004Z"
   },
   {
    "duration": 24,
    "start_time": "2022-10-13T14:27:47.044Z"
   },
   {
    "duration": 14,
    "start_time": "2022-10-13T14:27:47.069Z"
   },
   {
    "duration": 31,
    "start_time": "2022-10-13T14:27:47.085Z"
   },
   {
    "duration": 2076,
    "start_time": "2022-10-13T14:27:47.119Z"
   },
   {
    "duration": 12,
    "start_time": "2022-10-13T14:27:49.197Z"
   },
   {
    "duration": 16,
    "start_time": "2022-10-13T14:27:49.211Z"
   },
   {
    "duration": 8,
    "start_time": "2022-10-13T14:27:49.230Z"
   },
   {
    "duration": 5,
    "start_time": "2022-10-13T14:27:49.239Z"
   },
   {
    "duration": 6,
    "start_time": "2022-10-13T14:27:49.245Z"
   },
   {
    "duration": 6,
    "start_time": "2022-10-13T14:27:49.253Z"
   },
   {
    "duration": 3,
    "start_time": "2022-10-13T14:27:49.260Z"
   },
   {
    "duration": 4,
    "start_time": "2022-10-13T14:27:49.265Z"
   },
   {
    "duration": 31,
    "start_time": "2022-10-13T14:27:49.271Z"
   },
   {
    "duration": 7,
    "start_time": "2022-10-13T14:27:49.304Z"
   },
   {
    "duration": 12,
    "start_time": "2022-10-13T14:27:49.313Z"
   },
   {
    "duration": 5,
    "start_time": "2022-10-13T14:27:49.327Z"
   },
   {
    "duration": 8,
    "start_time": "2022-10-13T14:27:49.333Z"
   },
   {
    "duration": 11,
    "start_time": "2022-10-13T14:27:49.342Z"
   },
   {
    "duration": 5,
    "start_time": "2022-10-13T14:27:49.355Z"
   },
   {
    "duration": 10,
    "start_time": "2022-10-13T14:27:49.362Z"
   },
   {
    "duration": 50,
    "start_time": "2022-10-13T14:27:49.373Z"
   },
   {
    "duration": 19,
    "start_time": "2022-10-13T14:27:49.427Z"
   },
   {
    "duration": 14,
    "start_time": "2022-10-13T14:27:49.448Z"
   },
   {
    "duration": 59,
    "start_time": "2022-10-13T14:27:49.464Z"
   },
   {
    "duration": 7,
    "start_time": "2022-10-13T14:27:49.527Z"
   },
   {
    "duration": 93,
    "start_time": "2022-10-13T14:27:49.536Z"
   },
   {
    "duration": 7,
    "start_time": "2022-10-13T14:27:49.631Z"
   },
   {
    "duration": 22,
    "start_time": "2022-10-13T14:27:49.640Z"
   },
   {
    "duration": 62,
    "start_time": "2022-10-13T14:27:49.664Z"
   },
   {
    "duration": 5,
    "start_time": "2022-10-13T14:27:49.728Z"
   },
   {
    "duration": 14,
    "start_time": "2022-10-13T14:27:49.734Z"
   },
   {
    "duration": 19,
    "start_time": "2022-10-13T14:27:49.749Z"
   },
   {
    "duration": 5,
    "start_time": "2022-10-13T14:27:49.770Z"
   },
   {
    "duration": 10,
    "start_time": "2022-10-13T14:27:49.776Z"
   },
   {
    "duration": 15,
    "start_time": "2022-10-13T14:27:49.787Z"
   },
   {
    "duration": 6,
    "start_time": "2022-10-13T14:27:49.804Z"
   },
   {
    "duration": 13,
    "start_time": "2022-10-13T14:27:49.812Z"
   },
   {
    "duration": 9,
    "start_time": "2022-10-13T14:27:49.826Z"
   },
   {
    "duration": 10,
    "start_time": "2022-10-13T14:27:49.837Z"
   },
   {
    "duration": 5,
    "start_time": "2022-10-13T14:27:49.849Z"
   },
   {
    "duration": 7,
    "start_time": "2022-10-13T14:27:49.856Z"
   },
   {
    "duration": 6,
    "start_time": "2022-10-13T14:27:49.865Z"
   },
   {
    "duration": 5,
    "start_time": "2022-10-13T14:27:49.872Z"
   },
   {
    "duration": 301,
    "start_time": "2022-10-13T14:27:49.878Z"
   },
   {
    "duration": 5,
    "start_time": "2022-10-13T14:27:50.180Z"
   },
   {
    "duration": 264,
    "start_time": "2022-10-13T14:27:50.187Z"
   },
   {
    "duration": 228,
    "start_time": "2022-10-13T14:27:50.452Z"
   },
   {
    "duration": 210,
    "start_time": "2022-10-13T14:27:50.682Z"
   },
   {
    "duration": 193,
    "start_time": "2022-10-13T14:27:50.893Z"
   },
   {
    "duration": 300,
    "start_time": "2022-10-13T14:27:51.088Z"
   },
   {
    "duration": 157,
    "start_time": "2022-10-13T14:27:51.390Z"
   },
   {
    "duration": 155,
    "start_time": "2022-10-13T14:27:51.548Z"
   },
   {
    "duration": 119,
    "start_time": "2022-10-13T14:27:51.704Z"
   },
   {
    "duration": 198,
    "start_time": "2022-10-13T14:27:51.826Z"
   },
   {
    "duration": 214,
    "start_time": "2022-10-13T14:27:52.027Z"
   },
   {
    "duration": 232,
    "start_time": "2022-10-13T14:27:52.243Z"
   },
   {
    "duration": 171,
    "start_time": "2022-10-13T14:27:52.477Z"
   },
   {
    "duration": 177,
    "start_time": "2022-10-13T14:27:52.649Z"
   },
   {
    "duration": 174,
    "start_time": "2022-10-13T14:27:52.827Z"
   },
   {
    "duration": 311,
    "start_time": "2022-10-13T14:27:53.004Z"
   },
   {
    "duration": 158,
    "start_time": "2022-10-13T14:27:53.318Z"
   },
   {
    "duration": 187,
    "start_time": "2022-10-13T14:27:53.478Z"
   },
   {
    "duration": 175,
    "start_time": "2022-10-13T14:27:53.667Z"
   },
   {
    "duration": 168,
    "start_time": "2022-10-13T14:27:53.844Z"
   },
   {
    "duration": 160,
    "start_time": "2022-10-13T14:27:54.015Z"
   },
   {
    "duration": 157,
    "start_time": "2022-10-13T14:27:54.177Z"
   },
   {
    "duration": 185,
    "start_time": "2022-10-13T14:27:54.335Z"
   },
   {
    "duration": 180,
    "start_time": "2022-10-13T14:27:54.522Z"
   },
   {
    "duration": 30,
    "start_time": "2022-10-13T14:27:54.703Z"
   },
   {
    "duration": 6,
    "start_time": "2022-10-13T14:27:54.735Z"
   },
   {
    "duration": 10,
    "start_time": "2022-10-13T14:27:54.742Z"
   },
   {
    "duration": 185,
    "start_time": "2022-10-13T14:27:54.753Z"
   },
   {
    "duration": 36,
    "start_time": "2022-10-13T14:31:13.725Z"
   },
   {
    "duration": 45,
    "start_time": "2022-10-13T14:38:05.939Z"
   },
   {
    "duration": 6,
    "start_time": "2022-10-13T14:38:20.023Z"
   },
   {
    "duration": 57,
    "start_time": "2022-10-14T06:08:37.247Z"
   },
   {
    "duration": 46,
    "start_time": "2022-10-14T06:10:58.980Z"
   },
   {
    "duration": 54,
    "start_time": "2022-10-14T06:11:53.601Z"
   },
   {
    "duration": 7,
    "start_time": "2022-10-14T06:13:53.821Z"
   },
   {
    "duration": 1257,
    "start_time": "2022-10-14T06:14:24.755Z"
   },
   {
    "duration": 116,
    "start_time": "2022-10-14T06:14:26.015Z"
   },
   {
    "duration": 26,
    "start_time": "2022-10-14T06:14:26.133Z"
   },
   {
    "duration": 25,
    "start_time": "2022-10-14T06:14:26.161Z"
   },
   {
    "duration": 3,
    "start_time": "2022-10-14T06:14:26.188Z"
   },
   {
    "duration": 29,
    "start_time": "2022-10-14T06:14:26.193Z"
   },
   {
    "duration": 2009,
    "start_time": "2022-10-14T06:14:26.223Z"
   },
   {
    "duration": 11,
    "start_time": "2022-10-14T06:14:28.233Z"
   },
   {
    "duration": 20,
    "start_time": "2022-10-14T06:14:28.246Z"
   },
   {
    "duration": 19,
    "start_time": "2022-10-14T06:14:28.267Z"
   },
   {
    "duration": 5,
    "start_time": "2022-10-14T06:14:28.288Z"
   },
   {
    "duration": 5,
    "start_time": "2022-10-14T06:14:28.294Z"
   },
   {
    "duration": 5,
    "start_time": "2022-10-14T06:14:28.301Z"
   },
   {
    "duration": 4,
    "start_time": "2022-10-14T06:14:28.308Z"
   },
   {
    "duration": 8,
    "start_time": "2022-10-14T06:14:28.314Z"
   },
   {
    "duration": 6,
    "start_time": "2022-10-14T06:14:28.323Z"
   },
   {
    "duration": 8,
    "start_time": "2022-10-14T06:14:28.330Z"
   },
   {
    "duration": 4,
    "start_time": "2022-10-14T06:14:28.340Z"
   },
   {
    "duration": 14,
    "start_time": "2022-10-14T06:14:28.345Z"
   },
   {
    "duration": 24,
    "start_time": "2022-10-14T06:14:28.360Z"
   },
   {
    "duration": 14,
    "start_time": "2022-10-14T06:14:28.386Z"
   },
   {
    "duration": 12,
    "start_time": "2022-10-14T06:14:28.401Z"
   },
   {
    "duration": 15,
    "start_time": "2022-10-14T06:14:28.415Z"
   },
   {
    "duration": 19,
    "start_time": "2022-10-14T06:14:28.431Z"
   },
   {
    "duration": 17,
    "start_time": "2022-10-14T06:14:28.451Z"
   },
   {
    "duration": 17,
    "start_time": "2022-10-14T06:14:28.470Z"
   },
   {
    "duration": 32,
    "start_time": "2022-10-14T06:14:28.488Z"
   },
   {
    "duration": 7,
    "start_time": "2022-10-14T06:14:28.521Z"
   },
   {
    "duration": 69,
    "start_time": "2022-10-14T06:14:28.529Z"
   },
   {
    "duration": 13,
    "start_time": "2022-10-14T06:14:28.600Z"
   },
   {
    "duration": 24,
    "start_time": "2022-10-14T06:14:28.614Z"
   },
   {
    "duration": 29,
    "start_time": "2022-10-14T06:14:28.640Z"
   },
   {
    "duration": 5,
    "start_time": "2022-10-14T06:14:28.670Z"
   },
   {
    "duration": 33,
    "start_time": "2022-10-14T06:14:28.676Z"
   },
   {
    "duration": 4,
    "start_time": "2022-10-14T06:14:28.711Z"
   },
   {
    "duration": 14,
    "start_time": "2022-10-14T06:14:28.716Z"
   },
   {
    "duration": 16,
    "start_time": "2022-10-14T06:14:28.731Z"
   },
   {
    "duration": 6,
    "start_time": "2022-10-14T06:14:28.749Z"
   },
   {
    "duration": 21,
    "start_time": "2022-10-14T06:14:28.756Z"
   },
   {
    "duration": 10,
    "start_time": "2022-10-14T06:14:28.778Z"
   },
   {
    "duration": 12,
    "start_time": "2022-10-14T06:14:28.792Z"
   },
   {
    "duration": 15,
    "start_time": "2022-10-14T06:14:28.806Z"
   },
   {
    "duration": 11,
    "start_time": "2022-10-14T06:14:28.822Z"
   },
   {
    "duration": 10,
    "start_time": "2022-10-14T06:14:28.835Z"
   },
   {
    "duration": 13,
    "start_time": "2022-10-14T06:14:28.846Z"
   },
   {
    "duration": 16,
    "start_time": "2022-10-14T06:14:28.860Z"
   },
   {
    "duration": 273,
    "start_time": "2022-10-14T06:14:28.877Z"
   },
   {
    "duration": 4,
    "start_time": "2022-10-14T06:14:29.152Z"
   },
   {
    "duration": 214,
    "start_time": "2022-10-14T06:14:29.158Z"
   },
   {
    "duration": 190,
    "start_time": "2022-10-14T06:14:29.373Z"
   },
   {
    "duration": 172,
    "start_time": "2022-10-14T06:14:29.564Z"
   },
   {
    "duration": 175,
    "start_time": "2022-10-14T06:14:29.737Z"
   },
   {
    "duration": 157,
    "start_time": "2022-10-14T06:14:29.913Z"
   },
   {
    "duration": 257,
    "start_time": "2022-10-14T06:14:30.072Z"
   },
   {
    "duration": 150,
    "start_time": "2022-10-14T06:14:30.331Z"
   },
   {
    "duration": 128,
    "start_time": "2022-10-14T06:14:30.483Z"
   },
   {
    "duration": 157,
    "start_time": "2022-10-14T06:14:30.613Z"
   },
   {
    "duration": 173,
    "start_time": "2022-10-14T06:14:30.772Z"
   },
   {
    "duration": 210,
    "start_time": "2022-10-14T06:14:30.947Z"
   },
   {
    "duration": 160,
    "start_time": "2022-10-14T06:14:31.158Z"
   },
   {
    "duration": 156,
    "start_time": "2022-10-14T06:14:31.321Z"
   },
   {
    "duration": 150,
    "start_time": "2022-10-14T06:14:31.479Z"
   },
   {
    "duration": 187,
    "start_time": "2022-10-14T06:14:31.631Z"
   },
   {
    "duration": 205,
    "start_time": "2022-10-14T06:14:31.820Z"
   },
   {
    "duration": 152,
    "start_time": "2022-10-14T06:14:32.027Z"
   },
   {
    "duration": 138,
    "start_time": "2022-10-14T06:14:32.180Z"
   },
   {
    "duration": 136,
    "start_time": "2022-10-14T06:14:32.320Z"
   },
   {
    "duration": 128,
    "start_time": "2022-10-14T06:14:32.458Z"
   },
   {
    "duration": 151,
    "start_time": "2022-10-14T06:14:32.588Z"
   },
   {
    "duration": 147,
    "start_time": "2022-10-14T06:14:32.740Z"
   },
   {
    "duration": 136,
    "start_time": "2022-10-14T06:14:32.889Z"
   },
   {
    "duration": 21,
    "start_time": "2022-10-14T06:14:33.027Z"
   },
   {
    "duration": 31,
    "start_time": "2022-10-14T06:14:33.049Z"
   },
   {
    "duration": 57,
    "start_time": "2022-10-14T06:14:33.082Z"
   },
   {
    "duration": 178,
    "start_time": "2022-10-14T06:14:33.141Z"
   },
   {
    "duration": 1079,
    "start_time": "2022-10-14T15:30:49.224Z"
   },
   {
    "duration": 93,
    "start_time": "2022-10-14T15:30:50.305Z"
   },
   {
    "duration": 30,
    "start_time": "2022-10-14T15:30:50.400Z"
   },
   {
    "duration": 33,
    "start_time": "2022-10-14T15:30:50.432Z"
   },
   {
    "duration": 18,
    "start_time": "2022-10-14T15:30:50.467Z"
   },
   {
    "duration": 30,
    "start_time": "2022-10-14T15:30:50.496Z"
   },
   {
    "duration": 2095,
    "start_time": "2022-10-14T15:30:50.528Z"
   },
   {
    "duration": 9,
    "start_time": "2022-10-14T15:30:52.624Z"
   },
   {
    "duration": 31,
    "start_time": "2022-10-14T15:30:52.634Z"
   },
   {
    "duration": 82,
    "start_time": "2022-10-14T15:30:52.667Z"
   },
   {
    "duration": 55,
    "start_time": "2022-10-14T15:30:52.751Z"
   },
   {
    "duration": 53,
    "start_time": "2022-10-14T15:30:52.807Z"
   },
   {
    "duration": 31,
    "start_time": "2022-10-14T15:30:52.862Z"
   },
   {
    "duration": 78,
    "start_time": "2022-10-14T15:30:52.897Z"
   },
   {
    "duration": 31,
    "start_time": "2022-10-14T15:30:52.976Z"
   },
   {
    "duration": 29,
    "start_time": "2022-10-14T15:30:53.009Z"
   },
   {
    "duration": 38,
    "start_time": "2022-10-14T15:30:53.040Z"
   },
   {
    "duration": 29,
    "start_time": "2022-10-14T15:30:53.080Z"
   },
   {
    "duration": 44,
    "start_time": "2022-10-14T15:30:53.110Z"
   },
   {
    "duration": 22,
    "start_time": "2022-10-14T15:30:53.155Z"
   },
   {
    "duration": 56,
    "start_time": "2022-10-14T15:30:53.178Z"
   },
   {
    "duration": 20,
    "start_time": "2022-10-14T15:30:53.236Z"
   },
   {
    "duration": 47,
    "start_time": "2022-10-14T15:30:53.258Z"
   },
   {
    "duration": 62,
    "start_time": "2022-10-14T15:30:53.307Z"
   },
   {
    "duration": 29,
    "start_time": "2022-10-14T15:30:53.370Z"
   },
   {
    "duration": 73,
    "start_time": "2022-10-14T15:30:53.400Z"
   },
   {
    "duration": 67,
    "start_time": "2022-10-14T15:30:53.474Z"
   },
   {
    "duration": 23,
    "start_time": "2022-10-14T15:30:53.542Z"
   },
   {
    "duration": 107,
    "start_time": "2022-10-14T15:30:53.566Z"
   },
   {
    "duration": 8,
    "start_time": "2022-10-14T15:30:53.675Z"
   },
   {
    "duration": 43,
    "start_time": "2022-10-14T15:30:53.684Z"
   },
   {
    "duration": 30,
    "start_time": "2022-10-14T15:30:53.728Z"
   },
   {
    "duration": 5,
    "start_time": "2022-10-14T15:30:53.759Z"
   },
   {
    "duration": 38,
    "start_time": "2022-10-14T15:30:53.765Z"
   },
   {
    "duration": 18,
    "start_time": "2022-10-14T15:30:53.804Z"
   },
   {
    "duration": 9,
    "start_time": "2022-10-14T15:30:53.823Z"
   },
   {
    "duration": 11,
    "start_time": "2022-10-14T15:30:53.834Z"
   },
   {
    "duration": 5,
    "start_time": "2022-10-14T15:30:53.847Z"
   },
   {
    "duration": 7,
    "start_time": "2022-10-14T15:30:53.854Z"
   },
   {
    "duration": 4,
    "start_time": "2022-10-14T15:30:53.863Z"
   },
   {
    "duration": 4,
    "start_time": "2022-10-14T15:30:53.871Z"
   },
   {
    "duration": 16,
    "start_time": "2022-10-14T15:30:53.877Z"
   },
   {
    "duration": 12,
    "start_time": "2022-10-14T15:30:53.894Z"
   },
   {
    "duration": 5,
    "start_time": "2022-10-14T15:30:53.908Z"
   },
   {
    "duration": 5,
    "start_time": "2022-10-14T15:30:53.915Z"
   },
   {
    "duration": 7,
    "start_time": "2022-10-14T15:30:53.922Z"
   },
   {
    "duration": 268,
    "start_time": "2022-10-14T15:30:53.931Z"
   },
   {
    "duration": 4,
    "start_time": "2022-10-14T15:30:54.201Z"
   },
   {
    "duration": 211,
    "start_time": "2022-10-14T15:30:54.207Z"
   },
   {
    "duration": 202,
    "start_time": "2022-10-14T15:30:54.420Z"
   },
   {
    "duration": 188,
    "start_time": "2022-10-14T15:30:54.624Z"
   },
   {
    "duration": 185,
    "start_time": "2022-10-14T15:30:54.813Z"
   },
   {
    "duration": 166,
    "start_time": "2022-10-14T15:30:55.000Z"
   },
   {
    "duration": 278,
    "start_time": "2022-10-14T15:30:55.168Z"
   },
   {
    "duration": 161,
    "start_time": "2022-10-14T15:30:55.448Z"
   },
   {
    "duration": 122,
    "start_time": "2022-10-14T15:30:55.610Z"
   },
   {
    "duration": 182,
    "start_time": "2022-10-14T15:30:55.733Z"
   },
   {
    "duration": 182,
    "start_time": "2022-10-14T15:30:55.916Z"
   },
   {
    "duration": 220,
    "start_time": "2022-10-14T15:30:56.100Z"
   },
   {
    "duration": 167,
    "start_time": "2022-10-14T15:30:56.322Z"
   },
   {
    "duration": 152,
    "start_time": "2022-10-14T15:30:56.496Z"
   },
   {
    "duration": 155,
    "start_time": "2022-10-14T15:30:56.650Z"
   },
   {
    "duration": 192,
    "start_time": "2022-10-14T15:30:56.807Z"
   },
   {
    "duration": 270,
    "start_time": "2022-10-14T15:30:57.001Z"
   },
   {
    "duration": 178,
    "start_time": "2022-10-14T15:30:57.273Z"
   },
   {
    "duration": 153,
    "start_time": "2022-10-14T15:30:57.452Z"
   },
   {
    "duration": 147,
    "start_time": "2022-10-14T15:30:57.606Z"
   },
   {
    "duration": 168,
    "start_time": "2022-10-14T15:30:57.755Z"
   },
   {
    "duration": 199,
    "start_time": "2022-10-14T15:30:57.925Z"
   },
   {
    "duration": 151,
    "start_time": "2022-10-14T15:30:58.125Z"
   },
   {
    "duration": 148,
    "start_time": "2022-10-14T15:30:58.278Z"
   },
   {
    "duration": 22,
    "start_time": "2022-10-14T15:30:58.428Z"
   },
   {
    "duration": 5,
    "start_time": "2022-10-14T15:30:58.452Z"
   },
   {
    "duration": 9,
    "start_time": "2022-10-14T15:30:58.459Z"
   },
   {
    "duration": 183,
    "start_time": "2022-10-14T15:30:58.470Z"
   }
  ],
  "kernelspec": {
   "display_name": "Python 3 (ipykernel)",
   "language": "python",
   "name": "python3"
  },
  "language_info": {
   "codemirror_mode": {
    "name": "ipython",
    "version": 3
   },
   "file_extension": ".py",
   "mimetype": "text/x-python",
   "name": "python",
   "nbconvert_exporter": "python",
   "pygments_lexer": "ipython3",
   "version": "3.9.12"
  },
  "toc": {
   "base_numbering": 1,
   "nav_menu": {},
   "number_sections": true,
   "sideBar": true,
   "skip_h1_title": true,
   "title_cell": "Table of Contents",
   "title_sidebar": "Contents",
   "toc_cell": false,
   "toc_position": {},
   "toc_section_display": true,
   "toc_window_display": false
  }
 },
 "nbformat": 4,
 "nbformat_minor": 2
}
