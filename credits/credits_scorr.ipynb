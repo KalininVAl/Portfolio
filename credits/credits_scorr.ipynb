{
 "cells": [
  {
   "cell_type": "markdown",
   "id": "4a345f11",
   "metadata": {
    "deletable": false,
    "editable": false,
    "id": "c81daeeb"
   },
   "source": [
    "# Исследование надежности заемщиков\n"
   ]
  },
  {
   "cell_type": "markdown",
   "id": "23717dc0",
   "metadata": {
    "deletable": false,
    "editable": false,
    "id": "827c20bf"
   },
   "source": [
   ]
  },
  {
   "cell_type": "markdown",
   "id": "d48fb0fb",
   "metadata": {
    "deletable": false,
    "editable": false,
    "id": "744d7639"
   },
   "source": [
    "## Откройте таблицу и изучите общую информацию о данных"
   ]
  },
  {
   "cell_type": "markdown",
   "id": "ff9d31df",
   "metadata": {
    "deletable": false,
    "editable": false,
    "id": "e7a14c31"
   },
   "source": [
    "**Задание 1. Импортируйте библиотеку pandas. Считайте данные из csv-файла в датафрейм и сохраните в переменную `data`. Путь к файлу:**\n",
    "\n",
    "`/datasets/data.csv`"
   ]
  },
  {
   "cell_type": "code",
   "execution_count": 1,
   "id": "f5fcc0b2",
   "metadata": {
    "deletable": false,
    "id": "7bcf75c9"
   },
   "outputs": [],
   "source": [
    "import pandas as pd\n",
    "\n",
    "    data = pd.read_csv('/datasets/data.csv')\n",
   ]
  },
  {
   "cell_type": "markdown",
   "id": "55b1f405",
   "metadata": {
    "deletable": false,
    "editable": false,
    "id": "b8038fe3"
   },
   "source": [
    "**Задание 2. Выведите первые 20 строчек датафрейма `data` на экран.**"
   ]
  },
  {
   "cell_type": "code",
   "execution_count": 2,
   "id": "fc3a4c47",
   "metadata": {
    "deletable": false,
    "id": "2a7cab99",
    "outputId": "1a8f3ef2-d323-4ec2-ddf7-89670b5944c4"
   },
   "outputs": [
    {
     "data": {
      "text/html": [
       "<div>\n",
       "<style scoped>\n",
       "    .dataframe tbody tr th:only-of-type {\n",
       "        vertical-align: middle;\n",
       "    }\n",
       "\n",
       "    .dataframe tbody tr th {\n",
       "        vertical-align: top;\n",
       "    }\n",
       "\n",
       "    .dataframe thead th {\n",
       "        text-align: right;\n",
       "    }\n",
       "</style>\n",
       "<table border=\"1\" class=\"dataframe\">\n",
       "  <thead>\n",
       "    <tr style=\"text-align: right;\">\n",
       "      <th></th>\n",
       "      <th>children</th>\n",
       "      <th>days_employed</th>\n",
       "      <th>dob_years</th>\n",
       "      <th>education</th>\n",
       "      <th>education_id</th>\n",
       "      <th>family_status</th>\n",
       "      <th>family_status_id</th>\n",
       "      <th>gender</th>\n",
       "      <th>income_type</th>\n",
       "      <th>debt</th>\n",
       "      <th>total_income</th>\n",
       "      <th>purpose</th>\n",
       "    </tr>\n",
       "  </thead>\n",
       "  <tbody>\n",
       "    <tr>\n",
       "      <th>0</th>\n",
       "      <td>1</td>\n",
       "      <td>-8437.673028</td>\n",
       "      <td>42</td>\n",
       "      <td>высшее</td>\n",
       "      <td>0</td>\n",
       "      <td>женат / замужем</td>\n",
       "      <td>0</td>\n",
       "      <td>F</td>\n",
       "      <td>сотрудник</td>\n",
       "      <td>0</td>\n",
       "      <td>253875.639453</td>\n",
       "      <td>покупка жилья</td>\n",
       "    </tr>\n",
       "    <tr>\n",
       "      <th>1</th>\n",
       "      <td>1</td>\n",
       "      <td>-4024.803754</td>\n",
       "      <td>36</td>\n",
       "      <td>среднее</td>\n",
       "      <td>1</td>\n",
       "      <td>женат / замужем</td>\n",
       "      <td>0</td>\n",
       "      <td>F</td>\n",
       "      <td>сотрудник</td>\n",
       "      <td>0</td>\n",
       "      <td>112080.014102</td>\n",
       "      <td>приобретение автомобиля</td>\n",
       "    </tr>\n",
       "    <tr>\n",
       "      <th>2</th>\n",
       "      <td>0</td>\n",
       "      <td>-5623.422610</td>\n",
       "      <td>33</td>\n",
       "      <td>Среднее</td>\n",
       "      <td>1</td>\n",
       "      <td>женат / замужем</td>\n",
       "      <td>0</td>\n",
       "      <td>M</td>\n",
       "      <td>сотрудник</td>\n",
       "      <td>0</td>\n",
       "      <td>145885.952297</td>\n",
       "      <td>покупка жилья</td>\n",
       "    </tr>\n",
       "    <tr>\n",
       "      <th>3</th>\n",
       "      <td>3</td>\n",
       "      <td>-4124.747207</td>\n",
       "      <td>32</td>\n",
       "      <td>среднее</td>\n",
       "      <td>1</td>\n",
       "      <td>женат / замужем</td>\n",
       "      <td>0</td>\n",
       "      <td>M</td>\n",
       "      <td>сотрудник</td>\n",
       "      <td>0</td>\n",
       "      <td>267628.550329</td>\n",
       "      <td>дополнительное образование</td>\n",
       "    </tr>\n",
       "    <tr>\n",
       "      <th>4</th>\n",
       "      <td>0</td>\n",
       "      <td>340266.072047</td>\n",
       "      <td>53</td>\n",
       "      <td>среднее</td>\n",
       "      <td>1</td>\n",
       "      <td>гражданский брак</td>\n",
       "      <td>1</td>\n",
       "      <td>F</td>\n",
       "      <td>пенсионер</td>\n",
       "      <td>0</td>\n",
       "      <td>158616.077870</td>\n",
       "      <td>сыграть свадьбу</td>\n",
       "    </tr>\n",
       "    <tr>\n",
       "      <th>5</th>\n",
       "      <td>0</td>\n",
       "      <td>-926.185831</td>\n",
       "      <td>27</td>\n",
       "      <td>высшее</td>\n",
       "      <td>0</td>\n",
       "      <td>гражданский брак</td>\n",
       "      <td>1</td>\n",
       "      <td>M</td>\n",
       "      <td>компаньон</td>\n",
       "      <td>0</td>\n",
       "      <td>255763.565419</td>\n",
       "      <td>покупка жилья</td>\n",
       "    </tr>\n",
       "    <tr>\n",
       "      <th>6</th>\n",
       "      <td>0</td>\n",
       "      <td>-2879.202052</td>\n",
       "      <td>43</td>\n",
       "      <td>высшее</td>\n",
       "      <td>0</td>\n",
       "      <td>женат / замужем</td>\n",
       "      <td>0</td>\n",
       "      <td>F</td>\n",
       "      <td>компаньон</td>\n",
       "      <td>0</td>\n",
       "      <td>240525.971920</td>\n",
       "      <td>операции с жильем</td>\n",
       "    </tr>\n",
       "    <tr>\n",
       "      <th>7</th>\n",
       "      <td>0</td>\n",
       "      <td>-152.779569</td>\n",
       "      <td>50</td>\n",
       "      <td>СРЕДНЕЕ</td>\n",
       "      <td>1</td>\n",
       "      <td>женат / замужем</td>\n",
       "      <td>0</td>\n",
       "      <td>M</td>\n",
       "      <td>сотрудник</td>\n",
       "      <td>0</td>\n",
       "      <td>135823.934197</td>\n",
       "      <td>образование</td>\n",
       "    </tr>\n",
       "    <tr>\n",
       "      <th>8</th>\n",
       "      <td>2</td>\n",
       "      <td>-6929.865299</td>\n",
       "      <td>35</td>\n",
       "      <td>ВЫСШЕЕ</td>\n",
       "      <td>0</td>\n",
       "      <td>гражданский брак</td>\n",
       "      <td>1</td>\n",
       "      <td>F</td>\n",
       "      <td>сотрудник</td>\n",
       "      <td>0</td>\n",
       "      <td>95856.832424</td>\n",
       "      <td>на проведение свадьбы</td>\n",
       "    </tr>\n",
       "    <tr>\n",
       "      <th>9</th>\n",
       "      <td>0</td>\n",
       "      <td>-2188.756445</td>\n",
       "      <td>41</td>\n",
       "      <td>среднее</td>\n",
       "      <td>1</td>\n",
       "      <td>женат / замужем</td>\n",
       "      <td>0</td>\n",
       "      <td>M</td>\n",
       "      <td>сотрудник</td>\n",
       "      <td>0</td>\n",
       "      <td>144425.938277</td>\n",
       "      <td>покупка жилья для семьи</td>\n",
       "    </tr>\n",
       "    <tr>\n",
       "      <th>10</th>\n",
       "      <td>2</td>\n",
       "      <td>-4171.483647</td>\n",
       "      <td>36</td>\n",
       "      <td>высшее</td>\n",
       "      <td>0</td>\n",
       "      <td>женат / замужем</td>\n",
       "      <td>0</td>\n",
       "      <td>M</td>\n",
       "      <td>компаньон</td>\n",
       "      <td>0</td>\n",
       "      <td>113943.491460</td>\n",
       "      <td>покупка недвижимости</td>\n",
       "    </tr>\n",
       "    <tr>\n",
       "      <th>11</th>\n",
       "      <td>0</td>\n",
       "      <td>-792.701887</td>\n",
       "      <td>40</td>\n",
       "      <td>среднее</td>\n",
       "      <td>1</td>\n",
       "      <td>женат / замужем</td>\n",
       "      <td>0</td>\n",
       "      <td>F</td>\n",
       "      <td>сотрудник</td>\n",
       "      <td>0</td>\n",
       "      <td>77069.234271</td>\n",
       "      <td>покупка коммерческой недвижимости</td>\n",
       "    </tr>\n",
       "    <tr>\n",
       "      <th>12</th>\n",
       "      <td>0</td>\n",
       "      <td>NaN</td>\n",
       "      <td>65</td>\n",
       "      <td>среднее</td>\n",
       "      <td>1</td>\n",
       "      <td>гражданский брак</td>\n",
       "      <td>1</td>\n",
       "      <td>M</td>\n",
       "      <td>пенсионер</td>\n",
       "      <td>0</td>\n",
       "      <td>NaN</td>\n",
       "      <td>сыграть свадьбу</td>\n",
       "    </tr>\n",
       "    <tr>\n",
       "      <th>13</th>\n",
       "      <td>0</td>\n",
       "      <td>-1846.641941</td>\n",
       "      <td>54</td>\n",
       "      <td>неоконченное высшее</td>\n",
       "      <td>2</td>\n",
       "      <td>женат / замужем</td>\n",
       "      <td>0</td>\n",
       "      <td>F</td>\n",
       "      <td>сотрудник</td>\n",
       "      <td>0</td>\n",
       "      <td>130458.228857</td>\n",
       "      <td>приобретение автомобиля</td>\n",
       "    </tr>\n",
       "    <tr>\n",
       "      <th>14</th>\n",
       "      <td>0</td>\n",
       "      <td>-1844.956182</td>\n",
       "      <td>56</td>\n",
       "      <td>высшее</td>\n",
       "      <td>0</td>\n",
       "      <td>гражданский брак</td>\n",
       "      <td>1</td>\n",
       "      <td>F</td>\n",
       "      <td>компаньон</td>\n",
       "      <td>1</td>\n",
       "      <td>165127.911772</td>\n",
       "      <td>покупка жилой недвижимости</td>\n",
       "    </tr>\n",
       "    <tr>\n",
       "      <th>15</th>\n",
       "      <td>1</td>\n",
       "      <td>-972.364419</td>\n",
       "      <td>26</td>\n",
       "      <td>среднее</td>\n",
       "      <td>1</td>\n",
       "      <td>женат / замужем</td>\n",
       "      <td>0</td>\n",
       "      <td>F</td>\n",
       "      <td>сотрудник</td>\n",
       "      <td>0</td>\n",
       "      <td>116820.904450</td>\n",
       "      <td>строительство собственной недвижимости</td>\n",
       "    </tr>\n",
       "    <tr>\n",
       "      <th>16</th>\n",
       "      <td>0</td>\n",
       "      <td>-1719.934226</td>\n",
       "      <td>35</td>\n",
       "      <td>среднее</td>\n",
       "      <td>1</td>\n",
       "      <td>женат / замужем</td>\n",
       "      <td>0</td>\n",
       "      <td>F</td>\n",
       "      <td>сотрудник</td>\n",
       "      <td>0</td>\n",
       "      <td>289202.704229</td>\n",
       "      <td>недвижимость</td>\n",
       "    </tr>\n",
       "    <tr>\n",
       "      <th>17</th>\n",
       "      <td>0</td>\n",
       "      <td>-2369.999720</td>\n",
       "      <td>33</td>\n",
       "      <td>высшее</td>\n",
       "      <td>0</td>\n",
       "      <td>гражданский брак</td>\n",
       "      <td>1</td>\n",
       "      <td>M</td>\n",
       "      <td>сотрудник</td>\n",
       "      <td>0</td>\n",
       "      <td>90410.586745</td>\n",
       "      <td>строительство недвижимости</td>\n",
       "    </tr>\n",
       "    <tr>\n",
       "      <th>18</th>\n",
       "      <td>0</td>\n",
       "      <td>400281.136913</td>\n",
       "      <td>53</td>\n",
       "      <td>среднее</td>\n",
       "      <td>1</td>\n",
       "      <td>вдовец / вдова</td>\n",
       "      <td>2</td>\n",
       "      <td>F</td>\n",
       "      <td>пенсионер</td>\n",
       "      <td>0</td>\n",
       "      <td>56823.777243</td>\n",
       "      <td>на покупку подержанного автомобиля</td>\n",
       "    </tr>\n",
       "    <tr>\n",
       "      <th>19</th>\n",
       "      <td>0</td>\n",
       "      <td>-10038.818549</td>\n",
       "      <td>48</td>\n",
       "      <td>СРЕДНЕЕ</td>\n",
       "      <td>1</td>\n",
       "      <td>в разводе</td>\n",
       "      <td>3</td>\n",
       "      <td>F</td>\n",
       "      <td>сотрудник</td>\n",
       "      <td>0</td>\n",
       "      <td>242831.107982</td>\n",
       "      <td>на покупку своего автомобиля</td>\n",
       "    </tr>\n",
       "  </tbody>\n",
       "</table>\n",
       "</div>"
      ],
      "text/plain": [
       "    children  days_employed  dob_years            education  education_id  \\\n",
       "0          1   -8437.673028         42               высшее             0   \n",
       "1          1   -4024.803754         36              среднее             1   \n",
       "2          0   -5623.422610         33              Среднее             1   \n",
       "3          3   -4124.747207         32              среднее             1   \n",
       "4          0  340266.072047         53              среднее             1   \n",
       "5          0    -926.185831         27               высшее             0   \n",
       "6          0   -2879.202052         43               высшее             0   \n",
       "7          0    -152.779569         50              СРЕДНЕЕ             1   \n",
       "8          2   -6929.865299         35               ВЫСШЕЕ             0   \n",
       "9          0   -2188.756445         41              среднее             1   \n",
       "10         2   -4171.483647         36               высшее             0   \n",
       "11         0    -792.701887         40              среднее             1   \n",
       "12         0            NaN         65              среднее             1   \n",
       "13         0   -1846.641941         54  неоконченное высшее             2   \n",
       "14         0   -1844.956182         56               высшее             0   \n",
       "15         1    -972.364419         26              среднее             1   \n",
       "16         0   -1719.934226         35              среднее             1   \n",
       "17         0   -2369.999720         33               высшее             0   \n",
       "18         0  400281.136913         53              среднее             1   \n",
       "19         0  -10038.818549         48              СРЕДНЕЕ             1   \n",
       "\n",
       "       family_status  family_status_id gender income_type  debt  \\\n",
       "0    женат / замужем                 0      F   сотрудник     0   \n",
       "1    женат / замужем                 0      F   сотрудник     0   \n",
       "2    женат / замужем                 0      M   сотрудник     0   \n",
       "3    женат / замужем                 0      M   сотрудник     0   \n",
       "4   гражданский брак                 1      F   пенсионер     0   \n",
       "5   гражданский брак                 1      M   компаньон     0   \n",
       "6    женат / замужем                 0      F   компаньон     0   \n",
       "7    женат / замужем                 0      M   сотрудник     0   \n",
       "8   гражданский брак                 1      F   сотрудник     0   \n",
       "9    женат / замужем                 0      M   сотрудник     0   \n",
       "10   женат / замужем                 0      M   компаньон     0   \n",
       "11   женат / замужем                 0      F   сотрудник     0   \n",
       "12  гражданский брак                 1      M   пенсионер     0   \n",
       "13   женат / замужем                 0      F   сотрудник     0   \n",
       "14  гражданский брак                 1      F   компаньон     1   \n",
       "15   женат / замужем                 0      F   сотрудник     0   \n",
       "16   женат / замужем                 0      F   сотрудник     0   \n",
       "17  гражданский брак                 1      M   сотрудник     0   \n",
       "18    вдовец / вдова                 2      F   пенсионер     0   \n",
       "19         в разводе                 3      F   сотрудник     0   \n",
       "\n",
       "     total_income                                 purpose  \n",
       "0   253875.639453                           покупка жилья  \n",
       "1   112080.014102                 приобретение автомобиля  \n",
       "2   145885.952297                           покупка жилья  \n",
       "3   267628.550329              дополнительное образование  \n",
       "4   158616.077870                         сыграть свадьбу  \n",
       "5   255763.565419                           покупка жилья  \n",
       "6   240525.971920                       операции с жильем  \n",
       "7   135823.934197                             образование  \n",
       "8    95856.832424                   на проведение свадьбы  \n",
       "9   144425.938277                 покупка жилья для семьи  \n",
       "10  113943.491460                    покупка недвижимости  \n",
       "11   77069.234271       покупка коммерческой недвижимости  \n",
       "12            NaN                         сыграть свадьбу  \n",
       "13  130458.228857                 приобретение автомобиля  \n",
       "14  165127.911772              покупка жилой недвижимости  \n",
       "15  116820.904450  строительство собственной недвижимости  \n",
       "16  289202.704229                            недвижимость  \n",
       "17   90410.586745              строительство недвижимости  \n",
       "18   56823.777243      на покупку подержанного автомобиля  \n",
       "19  242831.107982            на покупку своего автомобиля  "
      ]
     },
     "execution_count": 2,
     "metadata": {},
     "output_type": "execute_result"
    }
   ],
   "source": [
    "data.head(20)"
   ]
  },
  {
   "cell_type": "markdown",
   "id": "466861c1",
   "metadata": {
    "deletable": false,
    "editable": false,
    "id": "1c12e233"
   },
   "source": [
    "**Задание 3. Выведите основную информацию о датафрейме с помощью метода `info()`.**"
   ]
  },
  {
   "cell_type": "code",
   "execution_count": 3,
   "id": "f68b3051",
   "metadata": {
    "deletable": false,
    "id": "2b757bca",
    "outputId": "15376089-8dad-46c9-b520-c05248d43158"
   },
   "outputs": [
    {
     "name": "stdout",
     "output_type": "stream",
     "text": [
      "<class 'pandas.core.frame.DataFrame'>\n",
      "RangeIndex: 21525 entries, 0 to 21524\n",
      "Data columns (total 12 columns):\n",
      " #   Column            Non-Null Count  Dtype  \n",
      "---  ------            --------------  -----  \n",
      " 0   children          21525 non-null  int64  \n",
      " 1   days_employed     19351 non-null  float64\n",
      " 2   dob_years         21525 non-null  int64  \n",
      " 3   education         21525 non-null  object \n",
      " 4   education_id      21525 non-null  int64  \n",
      " 5   family_status     21525 non-null  object \n",
      " 6   family_status_id  21525 non-null  int64  \n",
      " 7   gender            21525 non-null  object \n",
      " 8   income_type       21525 non-null  object \n",
      " 9   debt              21525 non-null  int64  \n",
      " 10  total_income      19351 non-null  float64\n",
      " 11  purpose           21525 non-null  object \n",
      "dtypes: float64(2), int64(5), object(5)\n",
      "memory usage: 2.0+ MB\n"
     ]
    }
   ],
   "source": [
    "data.info()"
   ]
  },
  {
   "cell_type": "markdown",
   "id": "2da7e553",
   "metadata": {
    "deletable": false,
    "editable": false,
    "id": "333ec665"
   },
   "source": [
    "## Предобработка данных"
   ]
  },
  {
   "cell_type": "markdown",
   "id": "c591ce49",
   "metadata": {
    "deletable": false,
    "editable": false,
    "id": "02d92d53"
   },
   "source": [
    "### Удаление пропусков"
   ]
  },
  {
   "cell_type": "markdown",
   "id": "6c1b2bdf",
   "metadata": {
    "deletable": false,
    "editable": false,
    "id": "cd84967c"
   },
   "source": [
    "**Задание 4. Выведите количество пропущенных значений для каждого столбца. Используйте комбинацию двух методов.**"
   ]
  },
  {
   "cell_type": "code",
   "execution_count": 4,
   "id": "36f2326f",
   "metadata": {
    "deletable": false,
    "id": "7f9b2309",
    "outputId": "81f4d817-781c-465c-ed15-91ce4446810d"
   },
   "outputs": [
    {
     "data": {
      "text/plain": [
       "children               0\n",
       "days_employed       2174\n",
       "dob_years              0\n",
       "education              0\n",
       "education_id           0\n",
       "family_status          0\n",
       "family_status_id       0\n",
       "gender                 0\n",
       "income_type            0\n",
       "debt                   0\n",
       "total_income        2174\n",
       "purpose                0\n",
       "dtype: int64"
      ]
     },
     "execution_count": 4,
     "metadata": {},
     "output_type": "execute_result"
    }
   ],
   "source": [
    "data.isna().sum()"
   ]
  },
  {
   "cell_type": "markdown",
   "id": "046d4d24",
   "metadata": {
    "deletable": false,
    "editable": false,
    "id": "db86e27b"
   },
   "source": [
    "**Задание 5. В двух столбцах есть пропущенные значения. Один из них — `days_employed`. Пропуски в этом столбце вы обработаете на следующем этапе. Другой столбец с пропущенными значениями — `total_income` — хранит данные о доходах. На сумму дохода сильнее всего влияет тип занятости, поэтому заполнить пропуски в этом столбце нужно медианным значением по каждому типу из столбца `income_type`. Например, у человека с типом занятости `сотрудник` пропуск в столбце `total_income` должен быть заполнен медианным доходом среди всех записей с тем же типом.**"
   ]
  },
  {
   "cell_type": "code",
   "execution_count": 5,
   "id": "a0796682",
   "metadata": {
    "deletable": false,
    "id": "42006a93"
   },
   "outputs": [],
   "source": [
    "for t in data['income_type'].unique():\n",
    "    data.loc[(data['income_type'] == t) & (data['total_income'].isna()), 'total_income'] = \\\n",
    "    data.loc[(data['income_type'] == t), 'total_income'].median()"
   ]
  },
  {
   "cell_type": "markdown",
   "id": "153878c3",
   "metadata": {
    "deletable": false,
    "editable": false,
    "id": "89da5ece"
   },
   "source": [
    "### Обработка аномальных значений"
   ]
  },
  {
   "cell_type": "markdown",
   "id": "3716eea9",
   "metadata": {
    "deletable": false,
    "editable": false,
    "id": "57964554"
   },
   "source": [
    "**Задание 6. В данных могут встречаться артефакты (аномалии) — значения, которые не отражают действительность и появились по какой-то ошибке. таким артефактом будет отрицательное количество дней трудового стажа в столбце `days_employed`. Для реальных данных это нормально. Обработайте значения в этом столбце: замените все отрицательные значения положительными с помощью метода `abs()`.**"
   ]
  },
  {
   "cell_type": "code",
   "execution_count": 6,
   "id": "c1fba9f9",
   "metadata": {
    "deletable": false,
    "id": "f6f055bf"
   },
   "outputs": [],
   "source": [
    "data['days_employed'] = data['days_employed'].abs()"
   ]
  },
  {
   "cell_type": "markdown",
   "id": "7aaf1b1d",
   "metadata": {
    "deletable": false,
    "editable": false,
    "id": "6107dd2f"
   },
   "source": [
    "**Задание 7. Для каждого типа занятости выведите медианное значение трудового стажа `days_employed` в днях.**"
   ]
  },
  {
   "cell_type": "code",
   "execution_count": 7,
   "id": "fcc2ad1e",
   "metadata": {
    "deletable": false,
    "id": "85a5faf6",
    "outputId": "801ef80e-522b-4668-f34e-565af7432bcf"
   },
   "outputs": [
    {
     "data": {
      "text/plain": [
       "income_type\n",
       "безработный        366413.652744\n",
       "в декрете            3296.759962\n",
       "госслужащий          2689.368353\n",
       "компаньон            1547.382223\n",
       "пенсионер          365213.306266\n",
       "предприниматель       520.848083\n",
       "сотрудник            1574.202821\n",
       "студент               578.751554\n",
       "Name: days_employed, dtype: float64"
      ]
     },
     "execution_count": 7,
     "metadata": {},
     "output_type": "execute_result"
    }
   ],
   "source": [
    "data.groupby('income_type')['days_employed'].median()"
   ]
  },
  {
   "cell_type": "markdown",
   "id": "f872e3e7",
   "metadata": {
    "deletable": false,
    "editable": false,
    "id": "38d1a030"
   },
   "source": [
    "У двух типов (безработные и пенсионеры) получатся аномально большие значения. Исправить такие значения сложно, поэтому оставьте их как есть. Тем более этот столбец не понадобится вам для исследования."
   ]
  },
  {
   "cell_type": "markdown",
   "id": "882e8fc0",
   "metadata": {
    "deletable": false,
    "editable": false,
    "id": "d8a9f147"
   },
   "source": [
    "**Задание 8. Выведите перечень уникальных значений столбца `children`.**"
   ]
  },
  {
   "cell_type": "code",
   "execution_count": 8,
   "id": "18ceb857",
   "metadata": {
    "deletable": false,
    "id": "ef5056eb",
    "outputId": "6975b15c-7f95-4697-d16d-a0c79b657b03"
   },
   "outputs": [
    {
     "data": {
      "text/plain": [
       "array([ 1,  0,  3,  2, -1,  4, 20,  5], dtype=int64)"
      ]
     },
     "execution_count": 8,
     "metadata": {},
     "output_type": "execute_result"
    }
   ],
   "source": [
    "data['children'].unique()"
   ]
  },
  {
   "cell_type": "markdown",
   "id": "e630127c",
   "metadata": {
    "deletable": false,
    "editable": false,
    "id": "40b9ebf2"
   },
   "source": [
    "**Задание 9. В столбце `children` есть два аномальных значения. Удалите строки, в которых встречаются такие аномальные значения из датафрейма `data`.**"
   ]
  },
  {
   "cell_type": "code",
   "execution_count": 9,
   "id": "35151052",
   "metadata": {
    "deletable": false,
    "id": "3ff9801d"
   },
   "outputs": [],
   "source": [
    "data = data[(data['children'] != -1) & (data['children'] != 20)]"
   ]
  },
  {
   "cell_type": "markdown",
   "id": "7ad0a0f5",
   "metadata": {
    "deletable": false,
    "editable": false,
    "id": "bbc4d0ce"
   },
   "source": [
    "**Задание 10. Ещё раз выведите перечень уникальных значений столбца `children`, чтобы убедиться, что артефакты удалены.**"
   ]
  },
  {
   "cell_type": "code",
   "execution_count": 10,
   "id": "4c7b8a02",
   "metadata": {
    "deletable": false,
    "id": "ad4fa8b7",
    "outputId": "b2097101-d49d-44d9-901b-32a65c9463d1"
   },
   "outputs": [
    {
     "data": {
      "text/plain": [
       "array([1, 0, 3, 2, 4, 5], dtype=int64)"
      ]
     },
     "execution_count": 10,
     "metadata": {},
     "output_type": "execute_result"
    }
   ],
   "source": [
    "data['children'].unique()"
   ]
  },
  {
   "cell_type": "markdown",
   "id": "21780f84",
   "metadata": {
    "deletable": false,
    "editable": false,
    "id": "75440b63"
   },
   "source": [
    "### Удаление пропусков (продолжение)"
   ]
  },
  {
   "cell_type": "markdown",
   "id": "3d69ad52",
   "metadata": {
    "deletable": false,
    "editable": false,
    "id": "f4ea573f"
   },
   "source": [
    "**Задание 11. Заполните пропуски в столбце `days_employed` медианными значениями по каждого типа занятости `income_type`.**"
   ]
  },
  {
   "cell_type": "code",
   "execution_count": 11,
   "id": "7be00f08",
   "metadata": {
    "deletable": false,
    "id": "af6b1a7e"
   },
   "outputs": [],
   "source": [
    "for t in data['income_type'].unique():\n",
    "    data.loc[(data['income_type'] == t) & (data['days_employed'].isna()), 'days_employed'] = \\\n",
    "    data.loc[(data['income_type'] == t), 'days_employed'].median()"
   ]
  },
  {
   "cell_type": "markdown",
   "id": "d0d572ba",
   "metadata": {
    "deletable": false,
    "editable": false,
    "id": "2753f40d"
   },
   "source": [
    "**Задание 12. Убедитесь, что все пропуски заполнены. Проверьте себя и ещё раз выведите количество пропущенных значений для каждого столбца с помощью двух методов.**"
   ]
  },
  {
   "cell_type": "code",
   "execution_count": 12,
   "id": "4725c07b",
   "metadata": {
    "deletable": false,
    "id": "55f78bc2",
    "outputId": "8da1e4e1-358e-4e87-98c9-f261bce0a7b2"
   },
   "outputs": [
    {
     "data": {
      "text/plain": [
       "children            0\n",
       "days_employed       0\n",
       "dob_years           0\n",
       "education           0\n",
       "education_id        0\n",
       "family_status       0\n",
       "family_status_id    0\n",
       "gender              0\n",
       "income_type         0\n",
       "debt                0\n",
       "total_income        0\n",
       "purpose             0\n",
       "dtype: int64"
      ]
     },
     "execution_count": 12,
     "metadata": {},
     "output_type": "execute_result"
    }
   ],
   "source": [
    "data.isna().sum()"
   ]
  },
  {
   "cell_type": "markdown",
   "id": "6ea7d68e",
   "metadata": {
    "deletable": false,
    "editable": false,
    "id": "ddc81e43"
   },
   "source": [
    "### Изменение типов данных"
   ]
  },
  {
   "cell_type": "markdown",
   "id": "2085b51d",
   "metadata": {
    "deletable": false,
    "editable": false,
    "id": "42d19d24"
   },
   "source": [
    "**Задание 13. Замените вещественный тип данных в столбце `total_income` на целочисленный с помощью метода `astype()`.**"
   ]
  },
  {
   "cell_type": "code",
   "execution_count": 13,
   "id": "98753eea",
   "metadata": {
    "deletable": false,
    "id": "920b65ad"
   },
   "outputs": [],
   "source": [
    "data['total_income'] = data['total_income'].astype(int)"
   ]
  },
  {
   "cell_type": "markdown",
   "id": "6cfb2f31",
   "metadata": {
    "deletable": false,
    "editable": false,
    "id": "80c420ba"
   },
   "source": [
    "### Обработка дубликатов"
   ]
  },
  {
   "cell_type": "markdown",
   "id": "922e9c53",
   "metadata": {
    "deletable": false,
    "editable": false
   },
   "source": [
    "**Задание 14. Обработайте неявные дубликаты в столбце `education`. В этом столбце есть одни и те же значения, но записанные по-разному: с использованием заглавных и строчных букв. Приведите их к нижнему регистру. Проверьте остальные столбцы.**"
   ]
  },
  {
   "cell_type": "code",
   "execution_count": 14,
   "id": "36a33238",
   "metadata": {
    "deletable": false
   },
   "outputs": [],
   "source": [
    "data['education'] = data['education'].str.lower()"
   ]
  },
  {
   "cell_type": "markdown",
   "id": "17d23d03",
   "metadata": {
    "deletable": false,
    "editable": false,
    "id": "dc587695"
   },
   "source": [
    "**Задание 15. Выведите на экран количество строк-дубликатов в данных. Если такие строки присутствуют, удалите их.**"
   ]
  },
  {
   "cell_type": "code",
   "execution_count": 15,
   "id": "18dcda05",
   "metadata": {
    "deletable": false,
    "id": "3ee445e4",
    "outputId": "9684deba-1934-42d1-99e1-cda61740f822"
   },
   "outputs": [
    {
     "data": {
      "text/plain": [
       "71"
      ]
     },
     "execution_count": 15,
     "metadata": {},
     "output_type": "execute_result"
    }
   ],
   "source": [
    "data.duplicated().sum()"
   ]
  },
  {
   "cell_type": "code",
   "execution_count": 16,
   "id": "ee832b9a",
   "metadata": {
    "deletable": false,
    "id": "8575fe05"
   },
   "outputs": [],
   "source": [
    "data = data.drop_duplicates()"
   ]
  },
  {
   "cell_type": "markdown",
   "id": "76b6d642",
   "metadata": {
    "deletable": false,
    "editable": false,
    "id": "9904cf55"
   },
   "source": [
    "### Категоризация данных"
   ]
  },
  {
   "cell_type": "markdown",
   "id": "0cc255b9",
   "metadata": {
    "deletable": false,
    "editable": false,
    "id": "72fcc8a2"
   },
   "source": [
    "**Задание 16. На основании диапазонов, указанных ниже, создайте в датафрейме `data` столбец `total_income_category` с категориями:**\n",
    "\n",
    "- 0–30000 — `'E'`;\n",
    "- 30001–50000 — `'D'`;\n",
    "- 50001–200000 — `'C'`;\n",
    "- 200001–1000000 — `'B'`;\n",
    "- 1000001 и выше — `'A'`.\n",
    "\n",
    "\n",
    "**Например, кредитополучателю с доходом 25000 нужно назначить категорию `'E'`, а клиенту, получающему 235000, — `'B'`. Используйте собственную функцию с именем `categorize_income()` и метод `apply()`.**"
   ]
  },
  {
   "cell_type": "code",
   "execution_count": 17,
   "id": "d672cff9",
   "metadata": {
    "deletable": false,
    "id": "e1771346"
   },
   "outputs": [],
   "source": [
    "def categorize_income(income):\n",
    "    try:\n",
    "        if 0 <= income <= 30000:\n",
    "            return 'E'\n",
    "        elif 30001 <= income <= 50000:\n",
    "            return 'D'\n",
    "        elif 50001 <= income <= 200000:\n",
    "            return 'C'\n",
    "        elif 200001 <= income <= 1000000:\n",
    "            return 'B'\n",
    "        elif income >= 1000001:\n",
    "            return 'A'\n",
    "    except:\n",
    "        pass"
   ]
  },
  {
   "cell_type": "code",
   "execution_count": 18,
   "id": "125e4a11",
   "metadata": {
    "deletable": false,
    "id": "d5f3586d"
   },
   "outputs": [],
   "source": [
    "data['total_income_category'] = data['total_income'].apply(categorize_income)"
   ]
  },
  {
   "cell_type": "markdown",
   "id": "4c25893b",
   "metadata": {
    "deletable": false,
    "editable": false,
    "id": "dde49b5c"
   },
   "source": [
    "**Задание 17. Выведите на экран перечень уникальных целей взятия кредита из столбца `purpose`.**"
   ]
  },
  {
   "cell_type": "code",
   "execution_count": 19,
   "id": "39bbce13",
   "metadata": {
    "deletable": false,
    "id": "f67ce9b3",
    "outputId": "673c12d9-7d7e-4ae0-9812-c622c89dd244"
   },
   "outputs": [
    {
     "data": {
      "text/plain": [
       "array(['покупка жилья', 'приобретение автомобиля',\n",
       "       'дополнительное образование', 'сыграть свадьбу',\n",
       "       'операции с жильем', 'образование', 'на проведение свадьбы',\n",
       "       'покупка жилья для семьи', 'покупка недвижимости',\n",
       "       'покупка коммерческой недвижимости', 'покупка жилой недвижимости',\n",
       "       'строительство собственной недвижимости', 'недвижимость',\n",
       "       'строительство недвижимости', 'на покупку подержанного автомобиля',\n",
       "       'на покупку своего автомобиля',\n",
       "       'операции с коммерческой недвижимостью',\n",
       "       'строительство жилой недвижимости', 'жилье',\n",
       "       'операции со своей недвижимостью', 'автомобили',\n",
       "       'заняться образованием', 'сделка с подержанным автомобилем',\n",
       "       'получение образования', 'автомобиль', 'свадьба',\n",
       "       'получение дополнительного образования', 'покупка своего жилья',\n",
       "       'операции с недвижимостью', 'получение высшего образования',\n",
       "       'свой автомобиль', 'сделка с автомобилем',\n",
       "       'профильное образование', 'высшее образование',\n",
       "       'покупка жилья для сдачи', 'на покупку автомобиля', 'ремонт жилью',\n",
       "       'заняться высшим образованием'], dtype=object)"
      ]
     },
     "execution_count": 19,
     "metadata": {},
     "output_type": "execute_result"
    }
   ],
   "source": [
    "data['purpose'].unique()"
   ]
  },
  {
   "cell_type": "markdown",
   "id": "eadac62a",
   "metadata": {
    "deletable": false,
    "editable": false,
    "id": "85d0aef0"
   },
   "source": [
    "**Задание 18. Создайте функцию, которая на основании данных из столбца `purpose` сформирует новый столбец `purpose_category`, в который войдут следующие категории:**\n",
    "\n",
    "- `'операции с автомобилем'`,\n",
    "- `'операции с недвижимостью'`,\n",
    "- `'проведение свадьбы'`,\n",
    "- `'получение образования'`.\n",
    "\n",
    "**Например, если в столбце `purpose` находится подстрока `'на покупку автомобиля'`, то в столбце `purpose_category` должна появиться строка `'операции с автомобилем'`.**\n",
    "\n",
    "**Используйте собственную функцию с именем `categorize_purpose()` и метод `apply()`. Изучите данные в столбце `purpose` и определите, какие подстроки помогут вам правильно определить категорию.**"
   ]
  },
  {
   "cell_type": "code",
   "execution_count": 20,
   "id": "59387efd",
   "metadata": {
    "deletable": false,
    "id": "e149fab4"
   },
   "outputs": [],
   "source": [
    "def categorize_purpose(row):\n",
    "    try:\n",
    "        if 'автом' in row:\n",
    "            return 'операции с автомобилем'\n",
    "        elif 'жил' in row or 'недвиж' in row:\n",
    "            return 'операции с недвижимостью'\n",
    "        elif 'свад' in row:\n",
    "            return 'проведение свадьбы'\n",
    "        elif 'образов' in row:\n",
    "            return 'получение образования'\n",
    "    except:\n",
    "        return 'нет категории'"
   ]
  },
  {
   "cell_type": "code",
   "execution_count": 21,
   "id": "5a82b648",
   "metadata": {
    "deletable": false,
    "id": "bf36e69b"
   },
   "outputs": [],
   "source": [
    "data['purpose_category'] = data['purpose'].apply(categorize_purpose)"
   ]
  },
  {
   "cell_type": "markdown",
   "id": "b8cc81d3",
   "metadata": {
    "deletable": false,
    "editable": false,
    "id": "09b242bf"
   },
   "source": [
    "### Шаг 3. Исследуйте данные и ответьте на вопросы"
   ]
  },
  {
   "cell_type": "markdown",
   "id": "f2d9402f",
   "metadata": {
    "deletable": false,
    "editable": false,
    "id": "c5d66278"
   },
   "source": [
    "#### 3.1 Есть ли зависимость между количеством детей и возвратом кредита в срок?"
   ]
  },
  {
   "cell_type": "code",
   "execution_count": 22,
   "id": "99f612b4",
   "metadata": {
    "deletable": false,
    "id": "2cacfc4a"
   },
   "outputs": [],
   "source": [
    "data_children = data.groupby('children')['debt'].agg({'sum', 'count'})\n",
    "#создадим датафрейм со сгруппированными данными по количеству детей"
   ]
  },
  {
   "cell_type": "code",
   "execution_count": 23,
   "id": "2c7b7632",
   "metadata": {},
   "outputs": [],
   "source": [
    "data_children.rename(columns={'count': 'debt_count', 'sum': 'debt_sum'}, inplace=True)\n",
    "#заменим названия колонок: вместо 'count' - количество бравших кредит, вместо 'sum' - количество не отдавших кредит в срок"
   ]
  },
  {
   "cell_type": "code",
   "execution_count": 24,
   "id": "9d9ba189",
   "metadata": {},
   "outputs": [],
   "source": [
    "data_children['debtors'] = data_children['debt_sum'] / data_children['debt_count']*100\n",
    "#добавим столбец, в котором посчитаем % не отдавших кредит в срок"
   ]
  },
  {
   "cell_type": "code",
   "execution_count": 25,
   "id": "306c667c",
   "metadata": {},
   "outputs": [
    {
     "data": {
      "text/html": [
       "<div>\n",
       "<style scoped>\n",
       "    .dataframe tbody tr th:only-of-type {\n",
       "        vertical-align: middle;\n",
       "    }\n",
       "\n",
       "    .dataframe tbody tr th {\n",
       "        vertical-align: top;\n",
       "    }\n",
       "\n",
       "    .dataframe thead th {\n",
       "        text-align: right;\n",
       "    }\n",
       "</style>\n",
       "<table border=\"1\" class=\"dataframe\">\n",
       "  <thead>\n",
       "    <tr style=\"text-align: right;\">\n",
       "      <th></th>\n",
       "      <th>debt_count</th>\n",
       "      <th>debt_sum</th>\n",
       "      <th>debtors</th>\n",
       "    </tr>\n",
       "    <tr>\n",
       "      <th>children</th>\n",
       "      <th></th>\n",
       "      <th></th>\n",
       "      <th></th>\n",
       "    </tr>\n",
       "  </thead>\n",
       "  <tbody>\n",
       "    <tr>\n",
       "      <th>5</th>\n",
       "      <td>9</td>\n",
       "      <td>0</td>\n",
       "      <td>0.000000</td>\n",
       "    </tr>\n",
       "    <tr>\n",
       "      <th>0</th>\n",
       "      <td>14091</td>\n",
       "      <td>1063</td>\n",
       "      <td>7.543822</td>\n",
       "    </tr>\n",
       "    <tr>\n",
       "      <th>3</th>\n",
       "      <td>330</td>\n",
       "      <td>27</td>\n",
       "      <td>8.181818</td>\n",
       "    </tr>\n",
       "    <tr>\n",
       "      <th>1</th>\n",
       "      <td>4808</td>\n",
       "      <td>444</td>\n",
       "      <td>9.234609</td>\n",
       "    </tr>\n",
       "    <tr>\n",
       "      <th>2</th>\n",
       "      <td>2052</td>\n",
       "      <td>194</td>\n",
       "      <td>9.454191</td>\n",
       "    </tr>\n",
       "    <tr>\n",
       "      <th>4</th>\n",
       "      <td>41</td>\n",
       "      <td>4</td>\n",
       "      <td>9.756098</td>\n",
       "    </tr>\n",
       "  </tbody>\n",
       "</table>\n",
       "</div>"
      ],
      "text/plain": [
       "          debt_count  debt_sum   debtors\n",
       "children                                \n",
       "5                  9         0  0.000000\n",
       "0              14091      1063  7.543822\n",
       "3                330        27  8.181818\n",
       "1               4808       444  9.234609\n",
       "2               2052       194  9.454191\n",
       "4                 41         4  9.756098"
      ]
     },
     "execution_count": 25,
     "metadata": {},
     "output_type": "execute_result"
    }
   ],
   "source": [
    "data_children.sort_values(by='debtors')\n",
    "#выведем на экран полученный датафрейм"
   ]
  },
  {
   "cell_type": "markdown",
   "id": "f258a7a9",
   "metadata": {
    "deletable": false,
    "id": "3a6b99ec"
   },
   "source": [
    "**Вывод: Зависимость есть: люди без детей реже оказываются в должниках нежели те, у кого есть хотя бы 1 ребенок. \n",
    "А чаще всего должниками оказываются клиенты с четырьмя детьми.\n",
    "Для семей с 5-ю детьми ситуация обстоит иначе: должники отсутствуют. Однако, это может быть обусловлено малой выборкой.**"
   ]
  },
  {
   "cell_type": "markdown",
   "id": "775be9a5",
   "metadata": {
    "deletable": false,
    "editable": false,
    "id": "97be82ca"
   },
   "source": [
    "#### 3.2 Есть ли зависимость между семейным положением и возвратом кредита в срок?"
   ]
  },
  {
   "cell_type": "code",
   "execution_count": 26,
   "id": "228a9e72",
   "metadata": {
    "deletable": false,
    "id": "dc3f7ee8"
   },
   "outputs": [],
   "source": [
    "data_family_grouped = data.groupby('family_status')['debt'].agg({'sum', 'count'})\n",
    "# создадим датафрейм со сгруппированными данными по семейному статусу"
   ]
  },
  {
   "cell_type": "code",
   "execution_count": 27,
   "id": "cb94cc7c",
   "metadata": {},
   "outputs": [],
   "source": [
    "data_family_grouped.rename(columns={'count': 'debt_count', 'sum': 'debt_sum'}, inplace=True)\n",
    "#заменим названия колонок: вместо 'count' - количество бравших кредит, вместо 'sum' - количество не отдавших кредит в срок"
   ]
  },
  {
   "cell_type": "code",
   "execution_count": 28,
   "id": "16f588c0",
   "metadata": {},
   "outputs": [],
   "source": [
    "data_family_grouped['debtors'] = data_family_grouped['debt_sum'] / data_family_grouped['debt_count']*100\n",
    "#добавим столбец, в котором посчитаем % не отдавших кредит в срок"
   ]
  },
  {
   "cell_type": "code",
   "execution_count": 29,
   "id": "f2d85601",
   "metadata": {},
   "outputs": [
    {
     "data": {
      "text/html": [
       "<div>\n",
       "<style scoped>\n",
       "    .dataframe tbody tr th:only-of-type {\n",
       "        vertical-align: middle;\n",
       "    }\n",
       "\n",
       "    .dataframe tbody tr th {\n",
       "        vertical-align: top;\n",
       "    }\n",
       "\n",
       "    .dataframe thead th {\n",
       "        text-align: right;\n",
       "    }\n",
       "</style>\n",
       "<table border=\"1\" class=\"dataframe\">\n",
       "  <thead>\n",
       "    <tr style=\"text-align: right;\">\n",
       "      <th></th>\n",
       "      <th>debt_count</th>\n",
       "      <th>debt_sum</th>\n",
       "      <th>debtors</th>\n",
       "    </tr>\n",
       "    <tr>\n",
       "      <th>family_status</th>\n",
       "      <th></th>\n",
       "      <th></th>\n",
       "      <th></th>\n",
       "    </tr>\n",
       "  </thead>\n",
       "  <tbody>\n",
       "    <tr>\n",
       "      <th>вдовец / вдова</th>\n",
       "      <td>951</td>\n",
       "      <td>63</td>\n",
       "      <td>6.624606</td>\n",
       "    </tr>\n",
       "    <tr>\n",
       "      <th>в разводе</th>\n",
       "      <td>1189</td>\n",
       "      <td>84</td>\n",
       "      <td>7.064760</td>\n",
       "    </tr>\n",
       "    <tr>\n",
       "      <th>женат / замужем</th>\n",
       "      <td>12261</td>\n",
       "      <td>927</td>\n",
       "      <td>7.560558</td>\n",
       "    </tr>\n",
       "    <tr>\n",
       "      <th>гражданский брак</th>\n",
       "      <td>4134</td>\n",
       "      <td>385</td>\n",
       "      <td>9.313014</td>\n",
       "    </tr>\n",
       "    <tr>\n",
       "      <th>Не женат / не замужем</th>\n",
       "      <td>2796</td>\n",
       "      <td>273</td>\n",
       "      <td>9.763948</td>\n",
       "    </tr>\n",
       "  </tbody>\n",
       "</table>\n",
       "</div>"
      ],
      "text/plain": [
       "                       debt_count  debt_sum   debtors\n",
       "family_status                                        \n",
       "вдовец / вдова                951        63  6.624606\n",
       "в разводе                    1189        84  7.064760\n",
       "женат / замужем             12261       927  7.560558\n",
       "гражданский брак             4134       385  9.313014\n",
       "Не женат / не замужем        2796       273  9.763948"
      ]
     },
     "execution_count": 29,
     "metadata": {},
     "output_type": "execute_result"
    }
   ],
   "source": [
    "data_family_grouped.sort_values(by='debtors')\n",
    "#выведем на экран полученный датафрейм"
   ]
  },
  {
   "cell_type": "markdown",
   "id": "ed9b652f",
   "metadata": {
    "deletable": false,
    "id": "1cef7837"
   },
   "source": [
    "**Вывод: Чаще всего в должниках оказываются клиенты с семейными статусами \"не женат/не замужем\" и \"гражданский брак\". \n",
    "Удивительно, что реже всего - клиенты с семейным положением \"вдовец/вдова\".\n",
    "Следовательно, чем серьезнее отношения, тем меньше вероятность просрочки кредита.** "
   ]
  },
  {
   "cell_type": "markdown",
   "id": "1a7b2681",
   "metadata": {
    "deletable": false,
    "editable": false,
    "id": "1e8b2fca"
   },
   "source": [
    "#### 3.3 Есть ли зависимость между уровнем дохода и возвратом кредита в срок?"
   ]
  },
  {
   "cell_type": "code",
   "execution_count": 30,
   "id": "b2d4aee5",
   "metadata": {
    "deletable": false,
    "id": "cd7e3720"
   },
   "outputs": [],
   "source": [
    "data_income_grouped = data.groupby('total_income_category')['debt'].agg({'sum', 'count'}) \n",
    "# создадим датафрейм со сгруппированными данными по категориям дохода"
   ]
  },
  {
   "cell_type": "code",
   "execution_count": 31,
   "id": "f46aa8eb",
   "metadata": {},
   "outputs": [],
   "source": [
    "data_income_grouped.rename(columns={'count': 'debt_count', 'sum': 'debt_sum'}, inplace=True)\n",
    "#заменим названия колонок: вместо 'count' - количество бравших кредит, вместо 'sum' - количество не отдавших кредит в срок"
   ]
  },
  {
   "cell_type": "code",
   "execution_count": 32,
   "id": "21393881",
   "metadata": {},
   "outputs": [],
   "source": [
    "data_income_grouped['debtors'] = data_income_grouped['debt_sum'] / data_income_grouped['debt_count']*100\n",
    "#добавим столбец, в котором посчитаем % не отдавших кредит в срок"
   ]
  },
  {
   "cell_type": "code",
   "execution_count": 33,
   "id": "f4490089",
   "metadata": {},
   "outputs": [
    {
     "data": {
      "text/html": [
       "<div>\n",
       "<style scoped>\n",
       "    .dataframe tbody tr th:only-of-type {\n",
       "        vertical-align: middle;\n",
       "    }\n",
       "\n",
       "    .dataframe tbody tr th {\n",
       "        vertical-align: top;\n",
       "    }\n",
       "\n",
       "    .dataframe thead th {\n",
       "        text-align: right;\n",
       "    }\n",
       "</style>\n",
       "<table border=\"1\" class=\"dataframe\">\n",
       "  <thead>\n",
       "    <tr style=\"text-align: right;\">\n",
       "      <th></th>\n",
       "      <th>debt_count</th>\n",
       "      <th>debt_sum</th>\n",
       "      <th>debtors</th>\n",
       "    </tr>\n",
       "    <tr>\n",
       "      <th>total_income_category</th>\n",
       "      <th></th>\n",
       "      <th></th>\n",
       "      <th></th>\n",
       "    </tr>\n",
       "  </thead>\n",
       "  <tbody>\n",
       "    <tr>\n",
       "      <th>D</th>\n",
       "      <td>349</td>\n",
       "      <td>21</td>\n",
       "      <td>6.017192</td>\n",
       "    </tr>\n",
       "    <tr>\n",
       "      <th>B</th>\n",
       "      <td>5014</td>\n",
       "      <td>354</td>\n",
       "      <td>7.060231</td>\n",
       "    </tr>\n",
       "    <tr>\n",
       "      <th>A</th>\n",
       "      <td>25</td>\n",
       "      <td>2</td>\n",
       "      <td>8.000000</td>\n",
       "    </tr>\n",
       "    <tr>\n",
       "      <th>C</th>\n",
       "      <td>15921</td>\n",
       "      <td>1353</td>\n",
       "      <td>8.498210</td>\n",
       "    </tr>\n",
       "    <tr>\n",
       "      <th>E</th>\n",
       "      <td>22</td>\n",
       "      <td>2</td>\n",
       "      <td>9.090909</td>\n",
       "    </tr>\n",
       "  </tbody>\n",
       "</table>\n",
       "</div>"
      ],
      "text/plain": [
       "                       debt_count  debt_sum   debtors\n",
       "total_income_category                                \n",
       "D                             349        21  6.017192\n",
       "B                            5014       354  7.060231\n",
       "A                              25         2  8.000000\n",
       "C                           15921      1353  8.498210\n",
       "E                              22         2  9.090909"
      ]
     },
     "execution_count": 33,
     "metadata": {},
     "output_type": "execute_result"
    }
   ],
   "source": [
    "data_income_grouped.sort_values(by='debtors')\n",
    "#выведем на экран полученный датафрейм"
   ]
  },
  {
   "cell_type": "markdown",
   "id": "29ba41a7",
   "metadata": {
    "deletable": false,
    "id": "e8593def"
   },
   "source": [
    "**Вывод: Исходя из полученных результатов, вывод можно сделать только на основани 2 групп с достаточным количеством наблюдений: \"B\" и \"C\". Группа риска: клиенты группы \"C\", с уровнем дохода от 50 до 200 тыс. руб. Именно они чаще всего оказываются в должниках. А клиенты группы \"В\", с уровнем дохода от 200 тыс. руб., реже всего оказываются в должниках.**\n",
    "\n",
    "**Зависимость следующая: клиенты с высоким уровнем дохода чаще отдают кредит в срок.** "
   ]
  },
  {
   "cell_type": "markdown",
   "id": "21feed95",
   "metadata": {
    "deletable": false,
    "editable": false,
    "id": "99ecbd1f"
   },
   "source": [
    "#### 3.4 Как разные цели кредита влияют на его возврат в срок?"
   ]
  },
  {
   "cell_type": "code",
   "execution_count": 34,
   "id": "82776d52",
   "metadata": {
    "deletable": false,
    "id": "2b687290"
   },
   "outputs": [],
   "source": [
    "data_purpose_grouped = data.groupby('purpose_category')['debt'].agg({'sum', 'count'}) \n",
    "# создадим датафрейм со сгруппированными данными по целям кредита"
   ]
  },
  {
   "cell_type": "code",
   "execution_count": 35,
   "id": "e899172a",
   "metadata": {},
   "outputs": [],
   "source": [
    "data_purpose_grouped.rename(columns={'count': 'debt_count', 'sum': 'debt_sum'}, inplace=True)\n",
    "#заменим названия колонок: вместо 'count' - количество бравших кредит, вместо 'sum' - количество не отдавших кредит в срок"
   ]
  },
  {
   "cell_type": "code",
   "execution_count": 36,
   "id": "07e71dd5",
   "metadata": {},
   "outputs": [],
   "source": [
    "data_purpose_grouped['debtors'] = data_purpose_grouped['debt_sum'] / data_purpose_grouped['debt_count']*100\n",
    "#добавим столбец, в котором посчитаем % не отдавших кредит в срок"
   ]
  },
  {
   "cell_type": "code",
   "execution_count": 37,
   "id": "d2568692",
   "metadata": {},
   "outputs": [
    {
     "data": {
      "text/html": [
       "<div>\n",
       "<style scoped>\n",
       "    .dataframe tbody tr th:only-of-type {\n",
       "        vertical-align: middle;\n",
       "    }\n",
       "\n",
       "    .dataframe tbody tr th {\n",
       "        vertical-align: top;\n",
       "    }\n",
       "\n",
       "    .dataframe thead th {\n",
       "        text-align: right;\n",
       "    }\n",
       "</style>\n",
       "<table border=\"1\" class=\"dataframe\">\n",
       "  <thead>\n",
       "    <tr style=\"text-align: right;\">\n",
       "      <th></th>\n",
       "      <th>debt_count</th>\n",
       "      <th>debt_sum</th>\n",
       "      <th>debtors</th>\n",
       "    </tr>\n",
       "    <tr>\n",
       "      <th>purpose_category</th>\n",
       "      <th></th>\n",
       "      <th></th>\n",
       "      <th></th>\n",
       "    </tr>\n",
       "  </thead>\n",
       "  <tbody>\n",
       "    <tr>\n",
       "      <th>операции с недвижимостью</th>\n",
       "      <td>10751</td>\n",
       "      <td>780</td>\n",
       "      <td>7.255139</td>\n",
       "    </tr>\n",
       "    <tr>\n",
       "      <th>проведение свадьбы</th>\n",
       "      <td>2313</td>\n",
       "      <td>183</td>\n",
       "      <td>7.911803</td>\n",
       "    </tr>\n",
       "    <tr>\n",
       "      <th>получение образования</th>\n",
       "      <td>3988</td>\n",
       "      <td>369</td>\n",
       "      <td>9.252758</td>\n",
       "    </tr>\n",
       "    <tr>\n",
       "      <th>операции с автомобилем</th>\n",
       "      <td>4279</td>\n",
       "      <td>400</td>\n",
       "      <td>9.347978</td>\n",
       "    </tr>\n",
       "  </tbody>\n",
       "</table>\n",
       "</div>"
      ],
      "text/plain": [
       "                          debt_count  debt_sum   debtors\n",
       "purpose_category                                        \n",
       "операции с недвижимостью       10751       780  7.255139\n",
       "проведение свадьбы              2313       183  7.911803\n",
       "получение образования           3988       369  9.252758\n",
       "операции с автомобилем          4279       400  9.347978"
      ]
     },
     "execution_count": 37,
     "metadata": {},
     "output_type": "execute_result"
    }
   ],
   "source": [
    "data_purpose_grouped.sort_values(by='debtors')\n",
    "#выведем на экран полученный датафрейм"
   ]
  },
  {
   "cell_type": "markdown",
   "id": "8a6186de",
   "metadata": {
    "deletable": false,
    "id": "b4bb2ce6"
   },
   "source": [
    "**Вывод: Группа риска: клиенты, оформляющие кредит на получение образования и операции с автомобилем. За ними чаще всего замечается просрочка. Наиболее благонадежные клиенты - те, которые берут кредит на операции с недвижимостью** "
   ]
  },
  {
   "cell_type": "code",
   "execution_count": 38,
   "id": "128dc43a",
   "metadata": {},
   "outputs": [
    {
     "data": {
      "text/html": [
       "<div>\n",
       "<style scoped>\n",
       "    .dataframe tbody tr th:only-of-type {\n",
       "        vertical-align: middle;\n",
       "    }\n",
       "\n",
       "    .dataframe tbody tr th {\n",
       "        vertical-align: top;\n",
       "    }\n",
       "\n",
       "    .dataframe thead th {\n",
       "        text-align: right;\n",
       "    }\n",
       "</style>\n",
       "<table border=\"1\" class=\"dataframe\">\n",
       "  <thead>\n",
       "    <tr style=\"text-align: right;\">\n",
       "      <th></th>\n",
       "      <th>count</th>\n",
       "      <th>sum</th>\n",
       "    </tr>\n",
       "    <tr>\n",
       "      <th>purpose_category</th>\n",
       "      <th></th>\n",
       "      <th></th>\n",
       "    </tr>\n",
       "  </thead>\n",
       "  <tbody>\n",
       "    <tr>\n",
       "      <th>операции с автомобилем</th>\n",
       "      <td>4279</td>\n",
       "      <td>400</td>\n",
       "    </tr>\n",
       "    <tr>\n",
       "      <th>операции с недвижимостью</th>\n",
       "      <td>10751</td>\n",
       "      <td>780</td>\n",
       "    </tr>\n",
       "    <tr>\n",
       "      <th>получение образования</th>\n",
       "      <td>3988</td>\n",
       "      <td>369</td>\n",
       "    </tr>\n",
       "    <tr>\n",
       "      <th>проведение свадьбы</th>\n",
       "      <td>2313</td>\n",
       "      <td>183</td>\n",
       "    </tr>\n",
       "  </tbody>\n",
       "</table>\n",
       "</div>"
      ],
      "text/plain": [
       "                          count  sum\n",
       "purpose_category                    \n",
       "операции с автомобилем     4279  400\n",
       "операции с недвижимостью  10751  780\n",
       "получение образования      3988  369\n",
       "проведение свадьбы         2313  183"
      ]
     },
     "execution_count": 38,
     "metadata": {},
     "output_type": "execute_result"
    }
   ],
   "source": [
    "data.pivot_table(index='purpose_category', values='debt', aggfunc={'count', 'sum'})"
   ]
  },
  {
   "cell_type": "markdown",
   "id": "dfb364ad",
   "metadata": {
    "deletable": false,
    "editable": false,
    "id": "09c3ac4c"
   },
   "source": [
    "#### 3.5 Приведите возможные причины появления пропусков в исходных данных."
   ]
  },
  {
   "cell_type": "markdown",
   "id": "7e75374e",
   "metadata": {
    "deletable": false,
    "id": "9da2ceda"
   },
   "source": [
    "*Ответ: Пропуски были замечены только в столбцах со стажем и уровнем дохода.\n",
    "Возможные причины:\n",
    "1. По некоторым категориям, таким как ___\"студенты\"___, ___\"безработные\"___, официальный стаж и официальный доход отсутствуют в принципе\n",
    "2. По категории \"пенсионеры\" пропуски возникают у тех клиентов, кто в момент получения кредита уже не работал* "
   ]
  },
  {
   "cell_type": "markdown",
   "id": "b4b904d4",
   "metadata": {
    "deletable": false,
    "editable": false,
    "id": "7b0487d6"
   },
   "source": [
    "#### 3.6 Объясните, почему заполнить пропуски медианным значением — лучшее решение для количественных переменных."
   ]
  },
  {
   "cell_type": "markdown",
   "id": "12582b29",
   "metadata": {
    "deletable": false,
    "id": "7ecf2b8e"
   },
   "source": [
    "*Ответ: В количественных переменных часто бывают аномальные выбросы из-за которых среднее значение может сильно измениться в сторону аномалии. С медианным значением такая ситуация невозможна, т.к. нулевые/аномальные значения будут отброшены.* "
   ]
  },
  {
   "cell_type": "markdown",
   "id": "ae19dbc6",
   "metadata": {
    "deletable": false,
    "editable": false,
    "id": "6db5255a"
   },
   "source": [
    "### Шаг 4: общий вывод."
   ]
  },
  {
   "cell_type": "markdown",
   "id": "28255126",
   "metadata": {
    "deletable": false,
    "id": "bad65432"
   },
   "source": [
    "Идеальный заемщик - клиент ___без детей___, находящийся в статусе ___\"вдовец/вдова\"___ или ____\"в разводе\"____, с уровнем дохода ___от 200 тыс. руб.___, берущий кредит на приобретение недвижимости.\n",
    "\n",
    "\n",
    "Наибольший риск просрочки у следующих категорий клиентов:\n",
    "   * клиент, имеющий ___хотя бы одного ребенка___;\n",
    "   * клиенты с уровнями дохода ___от 50 до 200 тыс. руб.___; \n",
    "   * клиенты ___не состоявшие в официальных отношениях___;\n",
    "   * берущие кредит на ___операции с автомобилем___."
   ]
  },
  {
   "cell_type": "code",
   "execution_count": null,
   "id": "61246978",
   "metadata": {},
   "outputs": [],
   "source": []
  },
  {
   "cell_type": "code",
   "execution_count": null,
   "id": "0fcc1c32",
   "metadata": {},
   "outputs": [],
   "source": []
  },
  {
   "cell_type": "code",
   "execution_count": null,
   "id": "b0861de4",
   "metadata": {},
   "outputs": [],
   "source": []
  }
 ],
 "metadata": {
  "ExecuteTimeLog": [
   {
    "duration": 8,
    "start_time": "2022-09-24T12:43:21.137Z"
   },
   {
    "duration": 42,
    "start_time": "2022-09-24T12:43:27.312Z"
   },
   {
    "duration": 549,
    "start_time": "2022-09-24T12:43:36.791Z"
   },
   {
    "duration": 27,
    "start_time": "2022-09-24T12:43:37.342Z"
   },
   {
    "duration": 21,
    "start_time": "2022-09-24T12:43:37.371Z"
   },
   {
    "duration": 12,
    "start_time": "2022-09-24T12:43:37.394Z"
   },
   {
    "duration": 32,
    "start_time": "2022-09-24T12:43:37.407Z"
   },
   {
    "duration": 4,
    "start_time": "2022-09-24T12:43:37.440Z"
   },
   {
    "duration": 11,
    "start_time": "2022-09-24T12:43:37.445Z"
   },
   {
    "duration": 4,
    "start_time": "2022-09-24T12:43:37.458Z"
   },
   {
    "duration": 33,
    "start_time": "2022-09-24T12:43:37.463Z"
   },
   {
    "duration": 6,
    "start_time": "2022-09-24T12:43:37.498Z"
   },
   {
    "duration": 33,
    "start_time": "2022-09-24T12:43:37.505Z"
   },
   {
    "duration": 9,
    "start_time": "2022-09-24T12:43:37.540Z"
   },
   {
    "duration": 6,
    "start_time": "2022-09-24T12:43:37.550Z"
   },
   {
    "duration": 38,
    "start_time": "2022-09-24T12:43:37.557Z"
   },
   {
    "duration": 20,
    "start_time": "2022-09-24T12:43:37.597Z"
   },
   {
    "duration": 17,
    "start_time": "2022-09-24T12:43:37.618Z"
   },
   {
    "duration": 4,
    "start_time": "2022-09-24T12:43:37.637Z"
   },
   {
    "duration": 12,
    "start_time": "2022-09-24T12:43:37.643Z"
   },
   {
    "duration": 6,
    "start_time": "2022-09-24T12:43:37.656Z"
   },
   {
    "duration": 32,
    "start_time": "2022-09-24T12:43:37.664Z"
   },
   {
    "duration": 16,
    "start_time": "2022-09-24T12:43:37.698Z"
   },
   {
    "duration": 77,
    "start_time": "2022-09-24T12:43:37.717Z"
   },
   {
    "duration": 0,
    "start_time": "2022-09-24T12:43:37.797Z"
   },
   {
    "duration": 0,
    "start_time": "2022-09-24T12:43:37.798Z"
   },
   {
    "duration": 0,
    "start_time": "2022-09-24T12:43:37.799Z"
   },
   {
    "duration": 6,
    "start_time": "2022-09-24T12:44:12.791Z"
   },
   {
    "duration": 70,
    "start_time": "2022-09-24T12:45:46.280Z"
   },
   {
    "duration": 10,
    "start_time": "2022-09-24T12:45:52.007Z"
   },
   {
    "duration": 7,
    "start_time": "2022-09-24T12:46:59.373Z"
   },
   {
    "duration": 9,
    "start_time": "2022-09-24T12:47:45.905Z"
   },
   {
    "duration": 2,
    "start_time": "2022-09-24T12:48:54.728Z"
   },
   {
    "duration": 70,
    "start_time": "2022-09-24T12:50:12.068Z"
   },
   {
    "duration": 7,
    "start_time": "2022-09-24T12:50:25.455Z"
   },
   {
    "duration": 3,
    "start_time": "2022-09-24T12:52:55.688Z"
   },
   {
    "duration": 9,
    "start_time": "2022-09-24T12:53:08.777Z"
   },
   {
    "duration": 7,
    "start_time": "2022-09-24T12:53:10.924Z"
   },
   {
    "duration": 1290,
    "start_time": "2022-09-24T12:54:28.539Z"
   },
   {
    "duration": 7,
    "start_time": "2022-09-24T12:54:40.585Z"
   },
   {
    "duration": 463,
    "start_time": "2022-09-24T12:54:47.313Z"
   },
   {
    "duration": 24,
    "start_time": "2022-09-24T12:54:47.778Z"
   },
   {
    "duration": 15,
    "start_time": "2022-09-24T12:54:47.804Z"
   },
   {
    "duration": 10,
    "start_time": "2022-09-24T12:54:47.822Z"
   },
   {
    "duration": 35,
    "start_time": "2022-09-24T12:54:47.834Z"
   },
   {
    "duration": 25,
    "start_time": "2022-09-24T12:54:47.871Z"
   },
   {
    "duration": 13,
    "start_time": "2022-09-24T12:54:47.899Z"
   },
   {
    "duration": 5,
    "start_time": "2022-09-24T12:54:47.914Z"
   },
   {
    "duration": 9,
    "start_time": "2022-09-24T12:54:47.921Z"
   },
   {
    "duration": 4,
    "start_time": "2022-09-24T12:54:47.933Z"
   },
   {
    "duration": 60,
    "start_time": "2022-09-24T12:54:47.939Z"
   },
   {
    "duration": 10,
    "start_time": "2022-09-24T12:54:48.001Z"
   },
   {
    "duration": 5,
    "start_time": "2022-09-24T12:54:48.013Z"
   },
   {
    "duration": 24,
    "start_time": "2022-09-24T12:54:48.019Z"
   },
   {
    "duration": 25,
    "start_time": "2022-09-24T12:54:48.044Z"
   },
   {
    "duration": 40,
    "start_time": "2022-09-24T12:54:48.071Z"
   },
   {
    "duration": 4,
    "start_time": "2022-09-24T12:54:48.113Z"
   },
   {
    "duration": 14,
    "start_time": "2022-09-24T12:54:48.119Z"
   },
   {
    "duration": 10,
    "start_time": "2022-09-24T12:54:48.135Z"
   },
   {
    "duration": 7,
    "start_time": "2022-09-24T12:54:48.146Z"
   },
   {
    "duration": 12,
    "start_time": "2022-09-24T12:54:48.154Z"
   },
   {
    "duration": 28,
    "start_time": "2022-09-24T12:54:48.168Z"
   },
   {
    "duration": 8,
    "start_time": "2022-09-24T12:54:48.198Z"
   },
   {
    "duration": 1618,
    "start_time": "2022-09-24T12:54:48.207Z"
   },
   {
    "duration": 0,
    "start_time": "2022-09-24T12:54:49.827Z"
   },
   {
    "duration": 0,
    "start_time": "2022-09-24T12:54:49.828Z"
   },
   {
    "duration": 0,
    "start_time": "2022-09-24T12:54:49.830Z"
   },
   {
    "duration": 12,
    "start_time": "2022-09-24T12:55:38.219Z"
   },
   {
    "duration": 8,
    "start_time": "2022-09-24T12:55:39.052Z"
   },
   {
    "duration": 10,
    "start_time": "2022-09-24T12:55:53.301Z"
   },
   {
    "duration": 7,
    "start_time": "2022-09-24T12:55:53.984Z"
   },
   {
    "duration": 1406,
    "start_time": "2022-09-24T12:55:56.890Z"
   },
   {
    "duration": 1137,
    "start_time": "2022-09-24T12:57:41.988Z"
   },
   {
    "duration": 8,
    "start_time": "2022-09-24T12:59:02.314Z"
   },
   {
    "duration": 7,
    "start_time": "2022-09-24T12:59:08.515Z"
   },
   {
    "duration": 7,
    "start_time": "2022-09-24T12:59:09.406Z"
   },
   {
    "duration": 5,
    "start_time": "2022-09-24T12:59:30.294Z"
   },
   {
    "duration": 7,
    "start_time": "2022-09-24T12:59:31.476Z"
   },
   {
    "duration": 4,
    "start_time": "2022-09-24T12:59:57.406Z"
   },
   {
    "duration": 7,
    "start_time": "2022-09-24T13:00:10.637Z"
   },
   {
    "duration": 4,
    "start_time": "2022-09-24T13:00:22.764Z"
   },
   {
    "duration": 7,
    "start_time": "2022-09-24T13:00:23.350Z"
   },
   {
    "duration": 4,
    "start_time": "2022-09-24T13:00:58.033Z"
   },
   {
    "duration": 8,
    "start_time": "2022-09-24T13:00:58.718Z"
   },
   {
    "duration": 2,
    "start_time": "2022-09-24T13:08:17.589Z"
   },
   {
    "duration": 5,
    "start_time": "2022-09-24T13:13:58.682Z"
   },
   {
    "duration": 3,
    "start_time": "2022-09-24T13:13:59.660Z"
   },
   {
    "duration": 5,
    "start_time": "2022-09-24T13:14:00.046Z"
   },
   {
    "duration": 8,
    "start_time": "2022-09-24T13:14:00.543Z"
   },
   {
    "duration": 673,
    "start_time": "2022-09-25T05:42:57.991Z"
   },
   {
    "duration": 22,
    "start_time": "2022-09-25T05:42:58.666Z"
   },
   {
    "duration": 15,
    "start_time": "2022-09-25T05:42:58.689Z"
   },
   {
    "duration": 10,
    "start_time": "2022-09-25T05:42:58.706Z"
   },
   {
    "duration": 42,
    "start_time": "2022-09-25T05:42:58.717Z"
   },
   {
    "duration": 3,
    "start_time": "2022-09-25T05:42:58.761Z"
   },
   {
    "duration": 16,
    "start_time": "2022-09-25T05:42:58.765Z"
   },
   {
    "duration": 9,
    "start_time": "2022-09-25T05:42:58.782Z"
   },
   {
    "duration": 12,
    "start_time": "2022-09-25T05:42:58.792Z"
   },
   {
    "duration": 8,
    "start_time": "2022-09-25T05:42:58.806Z"
   },
   {
    "duration": 48,
    "start_time": "2022-09-25T05:42:58.815Z"
   },
   {
    "duration": 9,
    "start_time": "2022-09-25T05:42:58.864Z"
   },
   {
    "duration": 5,
    "start_time": "2022-09-25T05:42:58.874Z"
   },
   {
    "duration": 11,
    "start_time": "2022-09-25T05:42:58.880Z"
   },
   {
    "duration": 18,
    "start_time": "2022-09-25T05:42:58.892Z"
   },
   {
    "duration": 16,
    "start_time": "2022-09-25T05:42:58.911Z"
   },
   {
    "duration": 4,
    "start_time": "2022-09-25T05:42:58.928Z"
   },
   {
    "duration": 14,
    "start_time": "2022-09-25T05:42:58.934Z"
   },
   {
    "duration": 32,
    "start_time": "2022-09-25T05:42:58.950Z"
   },
   {
    "duration": 4,
    "start_time": "2022-09-25T05:42:58.984Z"
   },
   {
    "duration": 12,
    "start_time": "2022-09-25T05:42:58.989Z"
   },
   {
    "duration": 8,
    "start_time": "2022-09-25T05:42:59.003Z"
   },
   {
    "duration": 3,
    "start_time": "2022-09-25T05:42:59.012Z"
   },
   {
    "duration": 5,
    "start_time": "2022-09-25T05:42:59.017Z"
   },
   {
    "duration": 11,
    "start_time": "2022-09-25T05:42:59.024Z"
   },
   {
    "duration": 5,
    "start_time": "2022-09-25T05:42:59.037Z"
   },
   {
    "duration": 5,
    "start_time": "2022-09-25T05:42:59.043Z"
   },
   {
    "duration": 26,
    "start_time": "2022-09-25T05:42:59.051Z"
   },
   {
    "duration": 6,
    "start_time": "2022-09-25T05:45:12.232Z"
   },
   {
    "duration": 3,
    "start_time": "2022-09-25T05:47:27.312Z"
   },
   {
    "duration": 3,
    "start_time": "2022-09-25T05:48:21.514Z"
   },
   {
    "duration": 8,
    "start_time": "2022-09-25T05:48:21.911Z"
   },
   {
    "duration": 7,
    "start_time": "2022-09-25T05:48:23.928Z"
   },
   {
    "duration": 3,
    "start_time": "2022-09-25T05:48:24.254Z"
   },
   {
    "duration": 4,
    "start_time": "2022-09-25T05:48:54.368Z"
   },
   {
    "duration": 6,
    "start_time": "2022-09-25T05:49:08.446Z"
   },
   {
    "duration": 6,
    "start_time": "2022-09-25T06:01:14.292Z"
   },
   {
    "duration": 7,
    "start_time": "2022-09-25T06:01:48.814Z"
   },
   {
    "duration": 8,
    "start_time": "2022-09-25T06:03:07.183Z"
   },
   {
    "duration": 8,
    "start_time": "2022-09-25T06:04:22.312Z"
   },
   {
    "duration": 6,
    "start_time": "2022-09-25T06:05:14.665Z"
   },
   {
    "duration": 4,
    "start_time": "2022-09-25T06:05:15.261Z"
   },
   {
    "duration": 3,
    "start_time": "2022-09-25T06:05:15.745Z"
   },
   {
    "duration": 8,
    "start_time": "2022-09-25T06:05:16.246Z"
   },
   {
    "duration": 4,
    "start_time": "2022-09-25T06:05:28.712Z"
   },
   {
    "duration": 11,
    "start_time": "2022-09-25T06:05:29.012Z"
   },
   {
    "duration": 3,
    "start_time": "2022-09-25T06:05:39.769Z"
   },
   {
    "duration": 9,
    "start_time": "2022-09-25T06:05:40.080Z"
   },
   {
    "duration": 4,
    "start_time": "2022-09-25T06:05:44.035Z"
   },
   {
    "duration": 8,
    "start_time": "2022-09-25T06:05:44.316Z"
   },
   {
    "duration": 3,
    "start_time": "2022-09-25T06:05:47.093Z"
   },
   {
    "duration": 7,
    "start_time": "2022-09-25T06:05:47.323Z"
   },
   {
    "duration": 6,
    "start_time": "2022-09-25T06:05:49.343Z"
   },
   {
    "duration": 7,
    "start_time": "2022-09-25T06:05:54.087Z"
   },
   {
    "duration": 6,
    "start_time": "2022-09-25T06:05:56.137Z"
   },
   {
    "duration": 3,
    "start_time": "2022-09-25T06:05:56.810Z"
   },
   {
    "duration": 4,
    "start_time": "2022-09-25T06:05:57.178Z"
   },
   {
    "duration": 8,
    "start_time": "2022-09-25T06:05:57.552Z"
   },
   {
    "duration": 6,
    "start_time": "2022-09-25T06:06:24.661Z"
   },
   {
    "duration": 3,
    "start_time": "2022-09-25T06:06:24.910Z"
   },
   {
    "duration": 4,
    "start_time": "2022-09-25T06:06:25.139Z"
   },
   {
    "duration": 7,
    "start_time": "2022-09-25T06:06:25.910Z"
   },
   {
    "duration": 6,
    "start_time": "2022-09-25T06:18:19.046Z"
   },
   {
    "duration": 3,
    "start_time": "2022-09-25T06:18:28.188Z"
   },
   {
    "duration": 4,
    "start_time": "2022-09-25T06:18:38.450Z"
   },
   {
    "duration": 8,
    "start_time": "2022-09-25T06:18:46.088Z"
   },
   {
    "duration": 529,
    "start_time": "2022-09-25T06:50:57.055Z"
   },
   {
    "duration": 30,
    "start_time": "2022-09-25T06:50:57.586Z"
   },
   {
    "duration": 24,
    "start_time": "2022-09-25T06:50:57.618Z"
   },
   {
    "duration": 31,
    "start_time": "2022-09-25T06:50:57.648Z"
   },
   {
    "duration": 50,
    "start_time": "2022-09-25T06:50:57.682Z"
   },
   {
    "duration": 4,
    "start_time": "2022-09-25T06:50:57.734Z"
   },
   {
    "duration": 13,
    "start_time": "2022-09-25T06:50:57.740Z"
   },
   {
    "duration": 23,
    "start_time": "2022-09-25T06:50:57.755Z"
   },
   {
    "duration": 9,
    "start_time": "2022-09-25T06:50:57.780Z"
   },
   {
    "duration": 6,
    "start_time": "2022-09-25T06:50:57.795Z"
   },
   {
    "duration": 56,
    "start_time": "2022-09-25T06:50:57.802Z"
   },
   {
    "duration": 27,
    "start_time": "2022-09-25T06:50:57.860Z"
   },
   {
    "duration": 7,
    "start_time": "2022-09-25T06:50:57.889Z"
   },
   {
    "duration": 17,
    "start_time": "2022-09-25T06:50:57.899Z"
   },
   {
    "duration": 26,
    "start_time": "2022-09-25T06:50:57.917Z"
   },
   {
    "duration": 48,
    "start_time": "2022-09-25T06:50:57.945Z"
   },
   {
    "duration": 4,
    "start_time": "2022-09-25T06:50:57.995Z"
   },
   {
    "duration": 19,
    "start_time": "2022-09-25T06:50:58.001Z"
   },
   {
    "duration": 8,
    "start_time": "2022-09-25T06:50:58.022Z"
   },
   {
    "duration": 6,
    "start_time": "2022-09-25T06:50:58.032Z"
   },
   {
    "duration": 12,
    "start_time": "2022-09-25T06:50:58.039Z"
   },
   {
    "duration": 25,
    "start_time": "2022-09-25T06:50:58.052Z"
   },
   {
    "duration": 4,
    "start_time": "2022-09-25T06:50:58.079Z"
   },
   {
    "duration": 10,
    "start_time": "2022-09-25T06:50:58.085Z"
   },
   {
    "duration": 18,
    "start_time": "2022-09-25T06:50:58.097Z"
   },
   {
    "duration": 11,
    "start_time": "2022-09-25T06:50:58.117Z"
   },
   {
    "duration": 3,
    "start_time": "2022-09-25T06:50:58.130Z"
   },
   {
    "duration": 6,
    "start_time": "2022-09-25T06:50:58.137Z"
   },
   {
    "duration": 33,
    "start_time": "2022-09-25T06:50:58.145Z"
   },
   {
    "duration": 9,
    "start_time": "2022-09-25T06:50:58.180Z"
   },
   {
    "duration": 7,
    "start_time": "2022-09-25T06:50:58.191Z"
   },
   {
    "duration": 6,
    "start_time": "2022-09-25T06:50:58.200Z"
   },
   {
    "duration": 16,
    "start_time": "2022-09-25T06:50:58.209Z"
   },
   {
    "duration": 13,
    "start_time": "2022-09-25T06:50:58.227Z"
   },
   {
    "duration": 5,
    "start_time": "2022-09-25T06:50:58.241Z"
   },
   {
    "duration": 7,
    "start_time": "2022-09-25T06:50:58.247Z"
   },
   {
    "duration": 8,
    "start_time": "2022-09-25T06:50:58.276Z"
   },
   {
    "duration": 52,
    "start_time": "2022-09-25T20:00:20.436Z"
   },
   {
    "duration": 76,
    "start_time": "2022-09-25T20:04:26.357Z"
   },
   {
    "duration": 84,
    "start_time": "2022-09-26T19:10:18.222Z"
   },
   {
    "duration": 48,
    "start_time": "2022-09-26T19:11:11.591Z"
   },
   {
    "duration": 647,
    "start_time": "2022-09-27T07:42:15.331Z"
   },
   {
    "duration": 20,
    "start_time": "2022-09-27T07:42:15.980Z"
   },
   {
    "duration": 13,
    "start_time": "2022-09-27T07:42:16.002Z"
   },
   {
    "duration": 9,
    "start_time": "2022-09-27T07:42:17.279Z"
   },
   {
    "duration": 28,
    "start_time": "2022-09-27T07:42:17.658Z"
   },
   {
    "duration": 3,
    "start_time": "2022-09-27T07:42:18.782Z"
   },
   {
    "duration": 8,
    "start_time": "2022-09-27T07:42:20.151Z"
   },
   {
    "duration": 6,
    "start_time": "2022-09-27T07:42:29.471Z"
   },
   {
    "duration": 5,
    "start_time": "2022-09-27T07:44:29.926Z"
   },
   {
    "duration": 8,
    "start_time": "2022-09-27T07:44:29.993Z"
   },
   {
    "duration": 5,
    "start_time": "2022-09-27T07:44:30.062Z"
   },
   {
    "duration": 40,
    "start_time": "2022-09-27T07:44:30.155Z"
   },
   {
    "duration": 9,
    "start_time": "2022-09-27T07:44:30.223Z"
   },
   {
    "duration": 4,
    "start_time": "2022-09-27T07:44:30.312Z"
   },
   {
    "duration": 12,
    "start_time": "2022-09-27T07:44:30.420Z"
   },
   {
    "duration": 19,
    "start_time": "2022-09-27T07:44:30.572Z"
   },
   {
    "duration": 17,
    "start_time": "2022-09-27T07:44:31.108Z"
   },
   {
    "duration": 3,
    "start_time": "2022-09-27T07:44:31.212Z"
   },
   {
    "duration": 9,
    "start_time": "2022-09-27T07:44:31.283Z"
   },
   {
    "duration": 6,
    "start_time": "2022-09-27T07:44:31.362Z"
   },
   {
    "duration": 3,
    "start_time": "2022-09-27T07:44:31.439Z"
   },
   {
    "duration": 8,
    "start_time": "2022-09-27T07:44:31.478Z"
   },
   {
    "duration": 6,
    "start_time": "2022-09-27T07:44:31.576Z"
   },
   {
    "duration": 3,
    "start_time": "2022-09-27T07:44:31.617Z"
   },
   {
    "duration": 6,
    "start_time": "2022-09-27T07:44:31.656Z"
   },
   {
    "duration": 11,
    "start_time": "2022-09-27T07:44:31.695Z"
   },
   {
    "duration": 7,
    "start_time": "2022-09-27T07:44:31.849Z"
   },
   {
    "duration": 3,
    "start_time": "2022-09-27T07:44:31.893Z"
   },
   {
    "duration": 4,
    "start_time": "2022-09-27T07:44:31.934Z"
   },
   {
    "duration": 7,
    "start_time": "2022-09-27T07:44:31.972Z"
   },
   {
    "duration": 5,
    "start_time": "2022-09-27T07:44:32.556Z"
   },
   {
    "duration": 2,
    "start_time": "2022-09-27T07:44:32.695Z"
   },
   {
    "duration": 4,
    "start_time": "2022-09-27T07:44:32.859Z"
   },
   {
    "duration": 7,
    "start_time": "2022-09-27T07:44:54.048Z"
   },
   {
    "duration": 6,
    "start_time": "2022-09-27T07:44:54.895Z"
   },
   {
    "duration": 3,
    "start_time": "2022-09-27T07:44:55.045Z"
   },
   {
    "duration": 4,
    "start_time": "2022-09-27T07:44:55.195Z"
   },
   {
    "duration": 8,
    "start_time": "2022-09-27T07:44:55.325Z"
   },
   {
    "duration": 7,
    "start_time": "2022-09-27T07:45:06.160Z"
   },
   {
    "duration": 20,
    "start_time": "2022-09-27T07:52:27.157Z"
   },
   {
    "duration": 50,
    "start_time": "2022-09-27T07:53:57.492Z"
   },
   {
    "duration": 67,
    "start_time": "2022-09-27T07:54:12.248Z"
   },
   {
    "duration": 48,
    "start_time": "2022-09-27T07:54:20.504Z"
   },
   {
    "duration": 53,
    "start_time": "2022-09-27T07:54:31.526Z"
   },
   {
    "duration": 17,
    "start_time": "2022-09-27T07:54:36.292Z"
   }
  ],
  "colab": {
   "name": "dpp_template_part2.ipynb",
   "provenance": []
  },
  "kernelspec": {
   "display_name": "Python 3 (ipykernel)",
   "language": "python",
   "name": "python3"
  },
  "language_info": {
   "codemirror_mode": {
    "name": "ipython",
    "version": 3
   },
   "file_extension": ".py",
   "mimetype": "text/x-python",
   "name": "python",
   "nbconvert_exporter": "python",
   "pygments_lexer": "ipython3",
   "version": "3.9.12"
  },
  "toc": {
   "base_numbering": 1,
   "nav_menu": {},
   "number_sections": true,
   "sideBar": true,
   "skip_h1_title": true,
   "title_cell": "Table of Contents",
   "title_sidebar": "Contents",
   "toc_cell": false,
   "toc_position": {},
   "toc_section_display": true,
   "toc_window_display": false
  }
 },
 "nbformat": 4,
 "nbformat_minor": 5
}
