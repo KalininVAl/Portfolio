{
 "cells": [
  {
   "cell_type": "markdown",
   "metadata": {},
   "source": [
    "# Исследование о продаже компьютерных игр в интернет-магазине «Стримчик»\n",
    "\n",
    "\n",
    "Из открытых источников доступны исторические данные о продажах игр, оценки пользователей и экспертов, жанры и платформы (например, Xbox или PlayStation) в интернет-магазине компьютерных игр «Стримчик». Необходимо выявить определяющие успешность игры закономерности. Это позволит сделать ставку на потенциально популярный продукт и спланировать рекламные кампании.\n",
    "\n",
    "Описание данных:\n",
    "`Name` — название игры  \n",
    "`Platform` — платформа  \n",
    "`Year_of_Release` — год выпуска  \n",
    "`Genre` — жанр игры  \n",
    "`NA_sales` — продажи в Северной Америке (миллионы проданных копий)  \n",
    "`EU_sales` — продажи в Европе (миллионы проданных копий)  \n",
    "`JP_sales` — продажи в Японии (миллионы проданных копий)  \n",
    "`Other_sales` — продажи в других странах (миллионы проданных копий)  \n",
    "`Critic_Score` — оценка критиков (максимум 100)  \n",
    "`User_Score` — оценка пользователей (максимум 10)  \n",
    "`Rating` — рейтинг от организации ESRB (англ. Entertainment Software Rating Board). Эта ассоциация определяет рейтинг компьютерных игр и присваивает им подходящую возрастную категорию."
   ]
  },
  {
   "cell_type": "markdown",
   "metadata": {},
   "source": [
    "### Открытие файла с данными и изучение общей информации. "
   ]
  },
  {
   "cell_type": "code",
   "execution_count": 1,
   "metadata": {},
   "outputs": [],
   "source": [
    "import pandas as pd\n",
    "import numpy as np\n",
    "import seaborn as sns\n",
    "import matplotlib.pyplot as plt\n",
    "from scipy import stats as st"
   ]
  },
  {
   "cell_type": "code",
   "execution_count": 2,
   "metadata": {},
   "outputs": [],
   "source": [
    "games = pd.read_csv('/datasets/games.csv')"
   ]
  },
  {
   "cell_type": "code",
   "execution_count": 3,
   "metadata": {},
   "outputs": [
    {
     "data": {
      "text/html": [
       "<div>\n",
       "<style scoped>\n",
       "    .dataframe tbody tr th:only-of-type {\n",
       "        vertical-align: middle;\n",
       "    }\n",
       "\n",
       "    .dataframe tbody tr th {\n",
       "        vertical-align: top;\n",
       "    }\n",
       "\n",
       "    .dataframe thead th {\n",
       "        text-align: right;\n",
       "    }\n",
       "</style>\n",
       "<table border=\"1\" class=\"dataframe\">\n",
       "  <thead>\n",
       "    <tr style=\"text-align: right;\">\n",
       "      <th></th>\n",
       "      <th>Name</th>\n",
       "      <th>Platform</th>\n",
       "      <th>Year_of_Release</th>\n",
       "      <th>Genre</th>\n",
       "      <th>NA_sales</th>\n",
       "      <th>EU_sales</th>\n",
       "      <th>JP_sales</th>\n",
       "      <th>Other_sales</th>\n",
       "      <th>Critic_Score</th>\n",
       "      <th>User_Score</th>\n",
       "      <th>Rating</th>\n",
       "    </tr>\n",
       "  </thead>\n",
       "  <tbody>\n",
       "    <tr>\n",
       "      <th>0</th>\n",
       "      <td>Wii Sports</td>\n",
       "      <td>Wii</td>\n",
       "      <td>2006.0</td>\n",
       "      <td>Sports</td>\n",
       "      <td>41.36</td>\n",
       "      <td>28.96</td>\n",
       "      <td>3.77</td>\n",
       "      <td>8.45</td>\n",
       "      <td>76.0</td>\n",
       "      <td>8</td>\n",
       "      <td>E</td>\n",
       "    </tr>\n",
       "    <tr>\n",
       "      <th>1</th>\n",
       "      <td>Super Mario Bros.</td>\n",
       "      <td>NES</td>\n",
       "      <td>1985.0</td>\n",
       "      <td>Platform</td>\n",
       "      <td>29.08</td>\n",
       "      <td>3.58</td>\n",
       "      <td>6.81</td>\n",
       "      <td>0.77</td>\n",
       "      <td>NaN</td>\n",
       "      <td>NaN</td>\n",
       "      <td>NaN</td>\n",
       "    </tr>\n",
       "    <tr>\n",
       "      <th>2</th>\n",
       "      <td>Mario Kart Wii</td>\n",
       "      <td>Wii</td>\n",
       "      <td>2008.0</td>\n",
       "      <td>Racing</td>\n",
       "      <td>15.68</td>\n",
       "      <td>12.76</td>\n",
       "      <td>3.79</td>\n",
       "      <td>3.29</td>\n",
       "      <td>82.0</td>\n",
       "      <td>8.3</td>\n",
       "      <td>E</td>\n",
       "    </tr>\n",
       "    <tr>\n",
       "      <th>3</th>\n",
       "      <td>Wii Sports Resort</td>\n",
       "      <td>Wii</td>\n",
       "      <td>2009.0</td>\n",
       "      <td>Sports</td>\n",
       "      <td>15.61</td>\n",
       "      <td>10.93</td>\n",
       "      <td>3.28</td>\n",
       "      <td>2.95</td>\n",
       "      <td>80.0</td>\n",
       "      <td>8</td>\n",
       "      <td>E</td>\n",
       "    </tr>\n",
       "    <tr>\n",
       "      <th>4</th>\n",
       "      <td>Pokemon Red/Pokemon Blue</td>\n",
       "      <td>GB</td>\n",
       "      <td>1996.0</td>\n",
       "      <td>Role-Playing</td>\n",
       "      <td>11.27</td>\n",
       "      <td>8.89</td>\n",
       "      <td>10.22</td>\n",
       "      <td>1.00</td>\n",
       "      <td>NaN</td>\n",
       "      <td>NaN</td>\n",
       "      <td>NaN</td>\n",
       "    </tr>\n",
       "  </tbody>\n",
       "</table>\n",
       "</div>"
      ],
      "text/plain": [
       "                       Name Platform  Year_of_Release         Genre  NA_sales  \\\n",
       "0                Wii Sports      Wii           2006.0        Sports     41.36   \n",
       "1         Super Mario Bros.      NES           1985.0      Platform     29.08   \n",
       "2            Mario Kart Wii      Wii           2008.0        Racing     15.68   \n",
       "3         Wii Sports Resort      Wii           2009.0        Sports     15.61   \n",
       "4  Pokemon Red/Pokemon Blue       GB           1996.0  Role-Playing     11.27   \n",
       "\n",
       "   EU_sales  JP_sales  Other_sales  Critic_Score User_Score Rating  \n",
       "0     28.96      3.77         8.45          76.0          8      E  \n",
       "1      3.58      6.81         0.77           NaN        NaN    NaN  \n",
       "2     12.76      3.79         3.29          82.0        8.3      E  \n",
       "3     10.93      3.28         2.95          80.0          8      E  \n",
       "4      8.89     10.22         1.00           NaN        NaN    NaN  "
      ]
     },
     "execution_count": 3,
     "metadata": {},
     "output_type": "execute_result"
    }
   ],
   "source": [
    "games.head(5)\n",
    "#выведем 5 первых строк на экран"
   ]
  },
  {
   "cell_type": "code",
   "execution_count": 4,
   "metadata": {},
   "outputs": [
    {
     "data": {
      "text/html": [
       "<div>\n",
       "<style scoped>\n",
       "    .dataframe tbody tr th:only-of-type {\n",
       "        vertical-align: middle;\n",
       "    }\n",
       "\n",
       "    .dataframe tbody tr th {\n",
       "        vertical-align: top;\n",
       "    }\n",
       "\n",
       "    .dataframe thead th {\n",
       "        text-align: right;\n",
       "    }\n",
       "</style>\n",
       "<table border=\"1\" class=\"dataframe\">\n",
       "  <thead>\n",
       "    <tr style=\"text-align: right;\">\n",
       "      <th></th>\n",
       "      <th>Name</th>\n",
       "      <th>Platform</th>\n",
       "      <th>Year_of_Release</th>\n",
       "      <th>Genre</th>\n",
       "      <th>NA_sales</th>\n",
       "      <th>EU_sales</th>\n",
       "      <th>JP_sales</th>\n",
       "      <th>Other_sales</th>\n",
       "      <th>Critic_Score</th>\n",
       "      <th>User_Score</th>\n",
       "      <th>Rating</th>\n",
       "    </tr>\n",
       "  </thead>\n",
       "  <tbody>\n",
       "    <tr>\n",
       "      <th>11143</th>\n",
       "      <td>Lethal Enforcers</td>\n",
       "      <td>SNES</td>\n",
       "      <td>1993.0</td>\n",
       "      <td>Shooter</td>\n",
       "      <td>0.00</td>\n",
       "      <td>0.00</td>\n",
       "      <td>0.09</td>\n",
       "      <td>0.00</td>\n",
       "      <td>NaN</td>\n",
       "      <td>NaN</td>\n",
       "      <td>NaN</td>\n",
       "    </tr>\n",
       "    <tr>\n",
       "      <th>10770</th>\n",
       "      <td>The Secret Saturdays: Beasts of the 5th Sun</td>\n",
       "      <td>Wii</td>\n",
       "      <td>2009.0</td>\n",
       "      <td>Action</td>\n",
       "      <td>0.09</td>\n",
       "      <td>0.00</td>\n",
       "      <td>0.00</td>\n",
       "      <td>0.01</td>\n",
       "      <td>60.0</td>\n",
       "      <td>tbd</td>\n",
       "      <td>E10+</td>\n",
       "    </tr>\n",
       "    <tr>\n",
       "      <th>781</th>\n",
       "      <td>Tony Hawk's Pro Skater</td>\n",
       "      <td>N64</td>\n",
       "      <td>2000.0</td>\n",
       "      <td>Sports</td>\n",
       "      <td>1.68</td>\n",
       "      <td>0.40</td>\n",
       "      <td>0.00</td>\n",
       "      <td>0.03</td>\n",
       "      <td>NaN</td>\n",
       "      <td>NaN</td>\n",
       "      <td>NaN</td>\n",
       "    </tr>\n",
       "    <tr>\n",
       "      <th>11985</th>\n",
       "      <td>Bleach: Heat the Soul 3</td>\n",
       "      <td>PSP</td>\n",
       "      <td>2006.0</td>\n",
       "      <td>Fighting</td>\n",
       "      <td>0.00</td>\n",
       "      <td>0.00</td>\n",
       "      <td>0.07</td>\n",
       "      <td>0.00</td>\n",
       "      <td>NaN</td>\n",
       "      <td>NaN</td>\n",
       "      <td>NaN</td>\n",
       "    </tr>\n",
       "    <tr>\n",
       "      <th>2590</th>\n",
       "      <td>Darksiders II</td>\n",
       "      <td>X360</td>\n",
       "      <td>2012.0</td>\n",
       "      <td>Action</td>\n",
       "      <td>0.45</td>\n",
       "      <td>0.27</td>\n",
       "      <td>0.00</td>\n",
       "      <td>0.07</td>\n",
       "      <td>83.0</td>\n",
       "      <td>8</td>\n",
       "      <td>M</td>\n",
       "    </tr>\n",
       "  </tbody>\n",
       "</table>\n",
       "</div>"
      ],
      "text/plain": [
       "                                              Name Platform  Year_of_Release  \\\n",
       "11143                             Lethal Enforcers     SNES           1993.0   \n",
       "10770  The Secret Saturdays: Beasts of the 5th Sun      Wii           2009.0   \n",
       "781                         Tony Hawk's Pro Skater      N64           2000.0   \n",
       "11985                      Bleach: Heat the Soul 3      PSP           2006.0   \n",
       "2590                                 Darksiders II     X360           2012.0   \n",
       "\n",
       "          Genre  NA_sales  EU_sales  JP_sales  Other_sales  Critic_Score  \\\n",
       "11143   Shooter      0.00      0.00      0.09         0.00           NaN   \n",
       "10770    Action      0.09      0.00      0.00         0.01          60.0   \n",
       "781      Sports      1.68      0.40      0.00         0.03           NaN   \n",
       "11985  Fighting      0.00      0.00      0.07         0.00           NaN   \n",
       "2590     Action      0.45      0.27      0.00         0.07          83.0   \n",
       "\n",
       "      User_Score Rating  \n",
       "11143        NaN    NaN  \n",
       "10770        tbd   E10+  \n",
       "781          NaN    NaN  \n",
       "11985        NaN    NaN  \n",
       "2590           8      M  "
      ]
     },
     "execution_count": 4,
     "metadata": {},
     "output_type": "execute_result"
    }
   ],
   "source": [
    "games.sample(5)\n",
    "#выведем 5 случайных строк на экран"
   ]
  },
  {
   "cell_type": "code",
   "execution_count": 5,
   "metadata": {},
   "outputs": [
    {
     "name": "stdout",
     "output_type": "stream",
     "text": [
      "<class 'pandas.core.frame.DataFrame'>\n",
      "RangeIndex: 16715 entries, 0 to 16714\n",
      "Data columns (total 11 columns):\n",
      " #   Column           Non-Null Count  Dtype  \n",
      "---  ------           --------------  -----  \n",
      " 0   Name             16713 non-null  object \n",
      " 1   Platform         16715 non-null  object \n",
      " 2   Year_of_Release  16446 non-null  float64\n",
      " 3   Genre            16713 non-null  object \n",
      " 4   NA_sales         16715 non-null  float64\n",
      " 5   EU_sales         16715 non-null  float64\n",
      " 6   JP_sales         16715 non-null  float64\n",
      " 7   Other_sales      16715 non-null  float64\n",
      " 8   Critic_Score     8137 non-null   float64\n",
      " 9   User_Score       10014 non-null  object \n",
      " 10  Rating           9949 non-null   object \n",
      "dtypes: float64(6), object(5)\n",
      "memory usage: 1.4+ MB\n"
     ]
    }
   ],
   "source": [
    "games.info()"
   ]
  },
  {
   "cell_type": "code",
   "execution_count": 6,
   "metadata": {},
   "outputs": [
    {
     "data": {
      "text/html": [
       "<div>\n",
       "<style scoped>\n",
       "    .dataframe tbody tr th:only-of-type {\n",
       "        vertical-align: middle;\n",
       "    }\n",
       "\n",
       "    .dataframe tbody tr th {\n",
       "        vertical-align: top;\n",
       "    }\n",
       "\n",
       "    .dataframe thead th {\n",
       "        text-align: right;\n",
       "    }\n",
       "</style>\n",
       "<table border=\"1\" class=\"dataframe\">\n",
       "  <thead>\n",
       "    <tr style=\"text-align: right;\">\n",
       "      <th></th>\n",
       "      <th>Year_of_Release</th>\n",
       "      <th>NA_sales</th>\n",
       "      <th>EU_sales</th>\n",
       "      <th>JP_sales</th>\n",
       "      <th>Other_sales</th>\n",
       "      <th>Critic_Score</th>\n",
       "    </tr>\n",
       "  </thead>\n",
       "  <tbody>\n",
       "    <tr>\n",
       "      <th>count</th>\n",
       "      <td>16446.000000</td>\n",
       "      <td>16715.000000</td>\n",
       "      <td>16715.000000</td>\n",
       "      <td>16715.000000</td>\n",
       "      <td>16715.000000</td>\n",
       "      <td>8137.000000</td>\n",
       "    </tr>\n",
       "    <tr>\n",
       "      <th>mean</th>\n",
       "      <td>2006.484616</td>\n",
       "      <td>0.263377</td>\n",
       "      <td>0.145060</td>\n",
       "      <td>0.077617</td>\n",
       "      <td>0.047342</td>\n",
       "      <td>68.967679</td>\n",
       "    </tr>\n",
       "    <tr>\n",
       "      <th>std</th>\n",
       "      <td>5.877050</td>\n",
       "      <td>0.813604</td>\n",
       "      <td>0.503339</td>\n",
       "      <td>0.308853</td>\n",
       "      <td>0.186731</td>\n",
       "      <td>13.938165</td>\n",
       "    </tr>\n",
       "    <tr>\n",
       "      <th>min</th>\n",
       "      <td>1980.000000</td>\n",
       "      <td>0.000000</td>\n",
       "      <td>0.000000</td>\n",
       "      <td>0.000000</td>\n",
       "      <td>0.000000</td>\n",
       "      <td>13.000000</td>\n",
       "    </tr>\n",
       "    <tr>\n",
       "      <th>25%</th>\n",
       "      <td>2003.000000</td>\n",
       "      <td>0.000000</td>\n",
       "      <td>0.000000</td>\n",
       "      <td>0.000000</td>\n",
       "      <td>0.000000</td>\n",
       "      <td>60.000000</td>\n",
       "    </tr>\n",
       "    <tr>\n",
       "      <th>50%</th>\n",
       "      <td>2007.000000</td>\n",
       "      <td>0.080000</td>\n",
       "      <td>0.020000</td>\n",
       "      <td>0.000000</td>\n",
       "      <td>0.010000</td>\n",
       "      <td>71.000000</td>\n",
       "    </tr>\n",
       "    <tr>\n",
       "      <th>75%</th>\n",
       "      <td>2010.000000</td>\n",
       "      <td>0.240000</td>\n",
       "      <td>0.110000</td>\n",
       "      <td>0.040000</td>\n",
       "      <td>0.030000</td>\n",
       "      <td>79.000000</td>\n",
       "    </tr>\n",
       "    <tr>\n",
       "      <th>max</th>\n",
       "      <td>2016.000000</td>\n",
       "      <td>41.360000</td>\n",
       "      <td>28.960000</td>\n",
       "      <td>10.220000</td>\n",
       "      <td>10.570000</td>\n",
       "      <td>98.000000</td>\n",
       "    </tr>\n",
       "  </tbody>\n",
       "</table>\n",
       "</div>"
      ],
      "text/plain": [
       "       Year_of_Release      NA_sales      EU_sales      JP_sales  \\\n",
       "count     16446.000000  16715.000000  16715.000000  16715.000000   \n",
       "mean       2006.484616      0.263377      0.145060      0.077617   \n",
       "std           5.877050      0.813604      0.503339      0.308853   \n",
       "min        1980.000000      0.000000      0.000000      0.000000   \n",
       "25%        2003.000000      0.000000      0.000000      0.000000   \n",
       "50%        2007.000000      0.080000      0.020000      0.000000   \n",
       "75%        2010.000000      0.240000      0.110000      0.040000   \n",
       "max        2016.000000     41.360000     28.960000     10.220000   \n",
       "\n",
       "        Other_sales  Critic_Score  \n",
       "count  16715.000000   8137.000000  \n",
       "mean       0.047342     68.967679  \n",
       "std        0.186731     13.938165  \n",
       "min        0.000000     13.000000  \n",
       "25%        0.000000     60.000000  \n",
       "50%        0.010000     71.000000  \n",
       "75%        0.030000     79.000000  \n",
       "max       10.570000     98.000000  "
      ]
     },
     "execution_count": 6,
     "metadata": {},
     "output_type": "execute_result"
    }
   ],
   "source": [
    "games.describe()\n",
    "# посмотрим на основные показатели описательной статистики, чтобы определить возможные аномалии в данных"
   ]
  },
  {
   "cell_type": "markdown",
   "metadata": {},
   "source": [
    "Датафрейм содержит 16714 строк.  \n",
    "В некоторых колонках, таких как название игры, год выпуска, жанр, рейтинг критиков и пользователей, содержатся пропуски. Их необходимо обработать или удалить строки с пропусками.   \n",
    "В столбце `Year_of_Release` необходимо изменить тип данных на целочисленный \"int\". В столбце `User_Score` - на \"float\".\n",
    "В данных по продажам в различных регионах есть аномальные (сверхвысокие) значения. Необходимо проверить корреткность значений."
   ]
  },
  {
   "cell_type": "markdown",
   "metadata": {},
   "source": [
    "### Подготовка данных"
   ]
  },
  {
   "cell_type": "code",
   "execution_count": 7,
   "metadata": {},
   "outputs": [],
   "source": [
    "games.columns = [x.lower() for x in games.columns]\n",
    "#приведем названия колонок к нижнему регистру"
   ]
  },
  {
   "cell_type": "code",
   "execution_count": 8,
   "metadata": {},
   "outputs": [
    {
     "data": {
      "text/plain": [
       "name                  2\n",
       "platform              0\n",
       "year_of_release     269\n",
       "genre                 2\n",
       "na_sales              0\n",
       "eu_sales              0\n",
       "jp_sales              0\n",
       "other_sales           0\n",
       "critic_score       8578\n",
       "user_score         6701\n",
       "rating             6766\n",
       "dtype: int64"
      ]
     },
     "execution_count": 8,
     "metadata": {},
     "output_type": "execute_result"
    }
   ],
   "source": [
    "games.isna().sum()\n",
    "#посчитаем пропуски в столбцах"
   ]
  },
  {
   "cell_type": "code",
   "execution_count": 9,
   "metadata": {},
   "outputs": [
    {
     "data": {
      "text/plain": [
       "name                0.011965\n",
       "platform            0.000000\n",
       "year_of_release     1.609333\n",
       "genre               0.011965\n",
       "na_sales            0.000000\n",
       "eu_sales            0.000000\n",
       "jp_sales            0.000000\n",
       "other_sales         0.000000\n",
       "critic_score       51.319174\n",
       "user_score         40.089740\n",
       "rating             40.478612\n",
       "dtype: float64"
      ]
     },
     "execution_count": 9,
     "metadata": {},
     "output_type": "execute_result"
    }
   ],
   "source": [
    "games.isnull().mean() * 100\n",
    "#посчитаем процент пропусков в колонках"
   ]
  },
  {
   "cell_type": "markdown",
   "metadata": {},
   "source": [
    "Пропуски в стобцах `name`, `genre`, `year_of_release` необходимо обработать, т.к. данные дальше пригодятся в исследовании.  \n",
    "В столбцах `critic_score`, `user_score`, `rating` пропусков достаточно много - почти половина общего количества строк."
   ]
  },
  {
   "cell_type": "code",
   "execution_count": 10,
   "metadata": {},
   "outputs": [
    {
     "data": {
      "text/html": [
       "<div>\n",
       "<style scoped>\n",
       "    .dataframe tbody tr th:only-of-type {\n",
       "        vertical-align: middle;\n",
       "    }\n",
       "\n",
       "    .dataframe tbody tr th {\n",
       "        vertical-align: top;\n",
       "    }\n",
       "\n",
       "    .dataframe thead th {\n",
       "        text-align: right;\n",
       "    }\n",
       "</style>\n",
       "<table border=\"1\" class=\"dataframe\">\n",
       "  <thead>\n",
       "    <tr style=\"text-align: right;\">\n",
       "      <th></th>\n",
       "      <th>name</th>\n",
       "      <th>platform</th>\n",
       "      <th>year_of_release</th>\n",
       "      <th>genre</th>\n",
       "      <th>na_sales</th>\n",
       "      <th>eu_sales</th>\n",
       "      <th>jp_sales</th>\n",
       "      <th>other_sales</th>\n",
       "      <th>critic_score</th>\n",
       "      <th>user_score</th>\n",
       "      <th>rating</th>\n",
       "    </tr>\n",
       "  </thead>\n",
       "  <tbody>\n",
       "    <tr>\n",
       "      <th>659</th>\n",
       "      <td>NaN</td>\n",
       "      <td>GEN</td>\n",
       "      <td>1993.0</td>\n",
       "      <td>NaN</td>\n",
       "      <td>1.78</td>\n",
       "      <td>0.53</td>\n",
       "      <td>0.00</td>\n",
       "      <td>0.08</td>\n",
       "      <td>NaN</td>\n",
       "      <td>NaN</td>\n",
       "      <td>NaN</td>\n",
       "    </tr>\n",
       "    <tr>\n",
       "      <th>14244</th>\n",
       "      <td>NaN</td>\n",
       "      <td>GEN</td>\n",
       "      <td>1993.0</td>\n",
       "      <td>NaN</td>\n",
       "      <td>0.00</td>\n",
       "      <td>0.00</td>\n",
       "      <td>0.03</td>\n",
       "      <td>0.00</td>\n",
       "      <td>NaN</td>\n",
       "      <td>NaN</td>\n",
       "      <td>NaN</td>\n",
       "    </tr>\n",
       "  </tbody>\n",
       "</table>\n",
       "</div>"
      ],
      "text/plain": [
       "      name platform  year_of_release genre  na_sales  eu_sales  jp_sales  \\\n",
       "659    NaN      GEN           1993.0   NaN      1.78      0.53      0.00   \n",
       "14244  NaN      GEN           1993.0   NaN      0.00      0.00      0.03   \n",
       "\n",
       "       other_sales  critic_score user_score rating  \n",
       "659           0.08           NaN        NaN    NaN  \n",
       "14244         0.00           NaN        NaN    NaN  "
      ]
     },
     "execution_count": 10,
     "metadata": {},
     "output_type": "execute_result"
    }
   ],
   "source": [
    "games[games['name'].isna()]\n",
    "#выведем на экран строки с пропусками в столбце \"name\""
   ]
  },
  {
   "cell_type": "code",
   "execution_count": 11,
   "metadata": {},
   "outputs": [
    {
     "data": {
      "text/html": [
       "<div>\n",
       "<style scoped>\n",
       "    .dataframe tbody tr th:only-of-type {\n",
       "        vertical-align: middle;\n",
       "    }\n",
       "\n",
       "    .dataframe tbody tr th {\n",
       "        vertical-align: top;\n",
       "    }\n",
       "\n",
       "    .dataframe thead th {\n",
       "        text-align: right;\n",
       "    }\n",
       "</style>\n",
       "<table border=\"1\" class=\"dataframe\">\n",
       "  <thead>\n",
       "    <tr style=\"text-align: right;\">\n",
       "      <th></th>\n",
       "      <th>name</th>\n",
       "      <th>platform</th>\n",
       "      <th>year_of_release</th>\n",
       "      <th>genre</th>\n",
       "      <th>na_sales</th>\n",
       "      <th>eu_sales</th>\n",
       "      <th>jp_sales</th>\n",
       "      <th>other_sales</th>\n",
       "      <th>critic_score</th>\n",
       "      <th>user_score</th>\n",
       "      <th>rating</th>\n",
       "    </tr>\n",
       "  </thead>\n",
       "  <tbody>\n",
       "    <tr>\n",
       "      <th>659</th>\n",
       "      <td>NaN</td>\n",
       "      <td>GEN</td>\n",
       "      <td>1993.0</td>\n",
       "      <td>NaN</td>\n",
       "      <td>1.78</td>\n",
       "      <td>0.53</td>\n",
       "      <td>0.00</td>\n",
       "      <td>0.08</td>\n",
       "      <td>NaN</td>\n",
       "      <td>NaN</td>\n",
       "      <td>NaN</td>\n",
       "    </tr>\n",
       "    <tr>\n",
       "      <th>14244</th>\n",
       "      <td>NaN</td>\n",
       "      <td>GEN</td>\n",
       "      <td>1993.0</td>\n",
       "      <td>NaN</td>\n",
       "      <td>0.00</td>\n",
       "      <td>0.00</td>\n",
       "      <td>0.03</td>\n",
       "      <td>0.00</td>\n",
       "      <td>NaN</td>\n",
       "      <td>NaN</td>\n",
       "      <td>NaN</td>\n",
       "    </tr>\n",
       "  </tbody>\n",
       "</table>\n",
       "</div>"
      ],
      "text/plain": [
       "      name platform  year_of_release genre  na_sales  eu_sales  jp_sales  \\\n",
       "659    NaN      GEN           1993.0   NaN      1.78      0.53      0.00   \n",
       "14244  NaN      GEN           1993.0   NaN      0.00      0.00      0.03   \n",
       "\n",
       "       other_sales  critic_score user_score rating  \n",
       "659           0.08           NaN        NaN    NaN  \n",
       "14244         0.00           NaN        NaN    NaN  "
      ]
     },
     "execution_count": 11,
     "metadata": {},
     "output_type": "execute_result"
    }
   ],
   "source": [
    "games[games['genre'].isna()]\n",
    "#выведем на экран строки с пропусками в столбце \"genre\""
   ]
  },
  {
   "cell_type": "markdown",
   "metadata": {},
   "source": [
    "Пропуски в имени игры и жанре содержатся в одних и тех же строках: с играми 1993 годами выпуска. Можем удалить эти строки, так как далее они нам точно не пригодятся в анализе."
   ]
  },
  {
   "cell_type": "markdown",
   "metadata": {},
   "source": [
    "Т.к. пропуски в столбце с годом выпуска составляют менее 2%, а данные с годами выпуска нужны для дальнейшего анализа, избавимся от строк, содержащие пропуски годов"
   ]
  },
  {
   "cell_type": "code",
   "execution_count": 12,
   "metadata": {},
   "outputs": [
    {
     "data": {
      "text/html": [
       "<div>\n",
       "<style scoped>\n",
       "    .dataframe tbody tr th:only-of-type {\n",
       "        vertical-align: middle;\n",
       "    }\n",
       "\n",
       "    .dataframe tbody tr th {\n",
       "        vertical-align: top;\n",
       "    }\n",
       "\n",
       "    .dataframe thead th {\n",
       "        text-align: right;\n",
       "    }\n",
       "</style>\n",
       "<table border=\"1\" class=\"dataframe\">\n",
       "  <thead>\n",
       "    <tr style=\"text-align: right;\">\n",
       "      <th></th>\n",
       "      <th>year_of_release</th>\n",
       "      <th>na_sales</th>\n",
       "      <th>eu_sales</th>\n",
       "      <th>jp_sales</th>\n",
       "      <th>other_sales</th>\n",
       "      <th>critic_score</th>\n",
       "    </tr>\n",
       "  </thead>\n",
       "  <tbody>\n",
       "    <tr>\n",
       "      <th>count</th>\n",
       "      <td>0.0</td>\n",
       "      <td>269.000000</td>\n",
       "      <td>269.000000</td>\n",
       "      <td>269.000000</td>\n",
       "      <td>269.000000</td>\n",
       "      <td>154.000000</td>\n",
       "    </tr>\n",
       "    <tr>\n",
       "      <th>mean</th>\n",
       "      <td>NaN</td>\n",
       "      <td>0.219888</td>\n",
       "      <td>0.090929</td>\n",
       "      <td>0.024907</td>\n",
       "      <td>0.032007</td>\n",
       "      <td>67.584416</td>\n",
       "    </tr>\n",
       "    <tr>\n",
       "      <th>std</th>\n",
       "      <td>NaN</td>\n",
       "      <td>0.424907</td>\n",
       "      <td>0.207933</td>\n",
       "      <td>0.090160</td>\n",
       "      <td>0.075546</td>\n",
       "      <td>14.828740</td>\n",
       "    </tr>\n",
       "    <tr>\n",
       "      <th>min</th>\n",
       "      <td>NaN</td>\n",
       "      <td>0.000000</td>\n",
       "      <td>0.000000</td>\n",
       "      <td>0.000000</td>\n",
       "      <td>0.000000</td>\n",
       "      <td>22.000000</td>\n",
       "    </tr>\n",
       "    <tr>\n",
       "      <th>25%</th>\n",
       "      <td>NaN</td>\n",
       "      <td>0.010000</td>\n",
       "      <td>0.000000</td>\n",
       "      <td>0.000000</td>\n",
       "      <td>0.000000</td>\n",
       "      <td>57.000000</td>\n",
       "    </tr>\n",
       "    <tr>\n",
       "      <th>50%</th>\n",
       "      <td>NaN</td>\n",
       "      <td>0.090000</td>\n",
       "      <td>0.020000</td>\n",
       "      <td>0.000000</td>\n",
       "      <td>0.010000</td>\n",
       "      <td>70.000000</td>\n",
       "    </tr>\n",
       "    <tr>\n",
       "      <th>75%</th>\n",
       "      <td>NaN</td>\n",
       "      <td>0.240000</td>\n",
       "      <td>0.100000</td>\n",
       "      <td>0.000000</td>\n",
       "      <td>0.030000</td>\n",
       "      <td>78.000000</td>\n",
       "    </tr>\n",
       "    <tr>\n",
       "      <th>max</th>\n",
       "      <td>NaN</td>\n",
       "      <td>4.260000</td>\n",
       "      <td>2.360000</td>\n",
       "      <td>0.770000</td>\n",
       "      <td>0.710000</td>\n",
       "      <td>94.000000</td>\n",
       "    </tr>\n",
       "  </tbody>\n",
       "</table>\n",
       "</div>"
      ],
      "text/plain": [
       "       year_of_release    na_sales    eu_sales    jp_sales  other_sales  \\\n",
       "count              0.0  269.000000  269.000000  269.000000   269.000000   \n",
       "mean               NaN    0.219888    0.090929    0.024907     0.032007   \n",
       "std                NaN    0.424907    0.207933    0.090160     0.075546   \n",
       "min                NaN    0.000000    0.000000    0.000000     0.000000   \n",
       "25%                NaN    0.010000    0.000000    0.000000     0.000000   \n",
       "50%                NaN    0.090000    0.020000    0.000000     0.010000   \n",
       "75%                NaN    0.240000    0.100000    0.000000     0.030000   \n",
       "max                NaN    4.260000    2.360000    0.770000     0.710000   \n",
       "\n",
       "       critic_score  \n",
       "count    154.000000  \n",
       "mean      67.584416  \n",
       "std       14.828740  \n",
       "min       22.000000  \n",
       "25%       57.000000  \n",
       "50%       70.000000  \n",
       "75%       78.000000  \n",
       "max       94.000000  "
      ]
     },
     "execution_count": 12,
     "metadata": {},
     "output_type": "execute_result"
    }
   ],
   "source": [
    "games[games['year_of_release'].isna()].describe()\n",
    "#перед удалением взглянем на строки, чтобы удоствериться, что важные данные не изчезнут после удаления"
   ]
  },
  {
   "cell_type": "code",
   "execution_count": 13,
   "metadata": {},
   "outputs": [],
   "source": [
    "games = games.dropna(subset=['year_of_release', 'name', 'genre'])\n",
    "#удалим строки с пропусками в столбцах с годом выпуска, жанром и именем игры"
   ]
  },
  {
   "cell_type": "code",
   "execution_count": 14,
   "metadata": {},
   "outputs": [],
   "source": [
    "games['year_of_release'] = games['year_of_release'].astype('int')\n",
    "#приведем тип данных в столбце с годом выпуска к целочисленному"
   ]
  },
  {
   "cell_type": "code",
   "execution_count": 15,
   "metadata": {},
   "outputs": [
    {
     "data": {
      "text/plain": [
       "array(['8', nan, '8.3', '8.5', '6.6', '8.4', '8.6', '7.7', '6.3', '7.4',\n",
       "       '8.2', '9', '7.9', '8.1', '8.7', '7.1', '3.4', '5.3', '4.8', '3.2',\n",
       "       '8.9', '6.4', '7.8', '7.5', '2.6', '7.2', '9.2', '7', '7.3', '4.3',\n",
       "       '7.6', '5.7', '5', '9.1', '6.5', 'tbd', '8.8', '6.9', '9.4', '6.8',\n",
       "       '6.1', '6.7', '5.4', '4', '4.9', '4.5', '9.3', '6.2', '4.2', '6',\n",
       "       '3.7', '4.1', '5.8', '5.6', '5.5', '4.4', '4.6', '5.9', '3.9',\n",
       "       '3.1', '2.9', '5.2', '3.3', '4.7', '5.1', '3.5', '2.5', '1.9', '3',\n",
       "       '2.7', '2.2', '2', '9.5', '2.1', '3.6', '2.8', '1.8', '3.8', '0',\n",
       "       '1.6', '9.6', '2.4', '1.7', '1.1', '0.3', '1.5', '0.7', '1.2',\n",
       "       '2.3', '0.5', '1.3', '0.2', '0.6', '1.4', '0.9', '1', '9.7'],\n",
       "      dtype=object)"
      ]
     },
     "execution_count": 15,
     "metadata": {},
     "output_type": "execute_result"
    }
   ],
   "source": [
    "games['user_score'].unique()\n",
    "#посмотрим на уникальные значения в столбце \"user_store\""
   ]
  },
  {
   "cell_type": "code",
   "execution_count": 16,
   "metadata": {},
   "outputs": [
    {
     "data": {
      "text/html": [
       "<div>\n",
       "<style scoped>\n",
       "    .dataframe tbody tr th:only-of-type {\n",
       "        vertical-align: middle;\n",
       "    }\n",
       "\n",
       "    .dataframe tbody tr th {\n",
       "        vertical-align: top;\n",
       "    }\n",
       "\n",
       "    .dataframe thead th {\n",
       "        text-align: right;\n",
       "    }\n",
       "</style>\n",
       "<table border=\"1\" class=\"dataframe\">\n",
       "  <thead>\n",
       "    <tr style=\"text-align: right;\">\n",
       "      <th></th>\n",
       "      <th>name</th>\n",
       "      <th>platform</th>\n",
       "      <th>year_of_release</th>\n",
       "      <th>genre</th>\n",
       "      <th>na_sales</th>\n",
       "      <th>eu_sales</th>\n",
       "      <th>jp_sales</th>\n",
       "      <th>other_sales</th>\n",
       "      <th>critic_score</th>\n",
       "      <th>user_score</th>\n",
       "      <th>rating</th>\n",
       "    </tr>\n",
       "  </thead>\n",
       "  <tbody>\n",
       "    <tr>\n",
       "      <th>119</th>\n",
       "      <td>Zumba Fitness</td>\n",
       "      <td>Wii</td>\n",
       "      <td>2010</td>\n",
       "      <td>Sports</td>\n",
       "      <td>3.45</td>\n",
       "      <td>2.59</td>\n",
       "      <td>0.0</td>\n",
       "      <td>0.66</td>\n",
       "      <td>NaN</td>\n",
       "      <td>tbd</td>\n",
       "      <td>E</td>\n",
       "    </tr>\n",
       "    <tr>\n",
       "      <th>301</th>\n",
       "      <td>Namco Museum: 50th Anniversary</td>\n",
       "      <td>PS2</td>\n",
       "      <td>2005</td>\n",
       "      <td>Misc</td>\n",
       "      <td>2.08</td>\n",
       "      <td>1.35</td>\n",
       "      <td>0.0</td>\n",
       "      <td>0.54</td>\n",
       "      <td>61.0</td>\n",
       "      <td>tbd</td>\n",
       "      <td>E10+</td>\n",
       "    </tr>\n",
       "    <tr>\n",
       "      <th>520</th>\n",
       "      <td>Zumba Fitness 2</td>\n",
       "      <td>Wii</td>\n",
       "      <td>2011</td>\n",
       "      <td>Sports</td>\n",
       "      <td>1.51</td>\n",
       "      <td>1.03</td>\n",
       "      <td>0.0</td>\n",
       "      <td>0.27</td>\n",
       "      <td>NaN</td>\n",
       "      <td>tbd</td>\n",
       "      <td>T</td>\n",
       "    </tr>\n",
       "    <tr>\n",
       "      <th>645</th>\n",
       "      <td>uDraw Studio</td>\n",
       "      <td>Wii</td>\n",
       "      <td>2010</td>\n",
       "      <td>Misc</td>\n",
       "      <td>1.65</td>\n",
       "      <td>0.57</td>\n",
       "      <td>0.0</td>\n",
       "      <td>0.20</td>\n",
       "      <td>71.0</td>\n",
       "      <td>tbd</td>\n",
       "      <td>E</td>\n",
       "    </tr>\n",
       "    <tr>\n",
       "      <th>718</th>\n",
       "      <td>Just Dance Kids</td>\n",
       "      <td>Wii</td>\n",
       "      <td>2010</td>\n",
       "      <td>Misc</td>\n",
       "      <td>1.52</td>\n",
       "      <td>0.54</td>\n",
       "      <td>0.0</td>\n",
       "      <td>0.18</td>\n",
       "      <td>NaN</td>\n",
       "      <td>tbd</td>\n",
       "      <td>E</td>\n",
       "    </tr>\n",
       "    <tr>\n",
       "      <th>...</th>\n",
       "      <td>...</td>\n",
       "      <td>...</td>\n",
       "      <td>...</td>\n",
       "      <td>...</td>\n",
       "      <td>...</td>\n",
       "      <td>...</td>\n",
       "      <td>...</td>\n",
       "      <td>...</td>\n",
       "      <td>...</td>\n",
       "      <td>...</td>\n",
       "      <td>...</td>\n",
       "    </tr>\n",
       "    <tr>\n",
       "      <th>16695</th>\n",
       "      <td>Planet Monsters</td>\n",
       "      <td>GBA</td>\n",
       "      <td>2001</td>\n",
       "      <td>Action</td>\n",
       "      <td>0.01</td>\n",
       "      <td>0.00</td>\n",
       "      <td>0.0</td>\n",
       "      <td>0.00</td>\n",
       "      <td>67.0</td>\n",
       "      <td>tbd</td>\n",
       "      <td>E</td>\n",
       "    </tr>\n",
       "    <tr>\n",
       "      <th>16697</th>\n",
       "      <td>Bust-A-Move 3000</td>\n",
       "      <td>GC</td>\n",
       "      <td>2003</td>\n",
       "      <td>Puzzle</td>\n",
       "      <td>0.01</td>\n",
       "      <td>0.00</td>\n",
       "      <td>0.0</td>\n",
       "      <td>0.00</td>\n",
       "      <td>53.0</td>\n",
       "      <td>tbd</td>\n",
       "      <td>E</td>\n",
       "    </tr>\n",
       "    <tr>\n",
       "      <th>16698</th>\n",
       "      <td>Mega Brain Boost</td>\n",
       "      <td>DS</td>\n",
       "      <td>2008</td>\n",
       "      <td>Puzzle</td>\n",
       "      <td>0.01</td>\n",
       "      <td>0.00</td>\n",
       "      <td>0.0</td>\n",
       "      <td>0.00</td>\n",
       "      <td>48.0</td>\n",
       "      <td>tbd</td>\n",
       "      <td>E</td>\n",
       "    </tr>\n",
       "    <tr>\n",
       "      <th>16704</th>\n",
       "      <td>Plushees</td>\n",
       "      <td>DS</td>\n",
       "      <td>2008</td>\n",
       "      <td>Simulation</td>\n",
       "      <td>0.01</td>\n",
       "      <td>0.00</td>\n",
       "      <td>0.0</td>\n",
       "      <td>0.00</td>\n",
       "      <td>NaN</td>\n",
       "      <td>tbd</td>\n",
       "      <td>E</td>\n",
       "    </tr>\n",
       "    <tr>\n",
       "      <th>16706</th>\n",
       "      <td>Men in Black II: Alien Escape</td>\n",
       "      <td>GC</td>\n",
       "      <td>2003</td>\n",
       "      <td>Shooter</td>\n",
       "      <td>0.01</td>\n",
       "      <td>0.00</td>\n",
       "      <td>0.0</td>\n",
       "      <td>0.00</td>\n",
       "      <td>NaN</td>\n",
       "      <td>tbd</td>\n",
       "      <td>T</td>\n",
       "    </tr>\n",
       "  </tbody>\n",
       "</table>\n",
       "<p>2376 rows × 11 columns</p>\n",
       "</div>"
      ],
      "text/plain": [
       "                                 name platform  year_of_release       genre  \\\n",
       "119                     Zumba Fitness      Wii             2010      Sports   \n",
       "301    Namco Museum: 50th Anniversary      PS2             2005        Misc   \n",
       "520                   Zumba Fitness 2      Wii             2011      Sports   \n",
       "645                      uDraw Studio      Wii             2010        Misc   \n",
       "718                   Just Dance Kids      Wii             2010        Misc   \n",
       "...                               ...      ...              ...         ...   \n",
       "16695                 Planet Monsters      GBA             2001      Action   \n",
       "16697                Bust-A-Move 3000       GC             2003      Puzzle   \n",
       "16698                Mega Brain Boost       DS             2008      Puzzle   \n",
       "16704                        Plushees       DS             2008  Simulation   \n",
       "16706   Men in Black II: Alien Escape       GC             2003     Shooter   \n",
       "\n",
       "       na_sales  eu_sales  jp_sales  other_sales  critic_score user_score  \\\n",
       "119        3.45      2.59       0.0         0.66           NaN        tbd   \n",
       "301        2.08      1.35       0.0         0.54          61.0        tbd   \n",
       "520        1.51      1.03       0.0         0.27           NaN        tbd   \n",
       "645        1.65      0.57       0.0         0.20          71.0        tbd   \n",
       "718        1.52      0.54       0.0         0.18           NaN        tbd   \n",
       "...         ...       ...       ...          ...           ...        ...   \n",
       "16695      0.01      0.00       0.0         0.00          67.0        tbd   \n",
       "16697      0.01      0.00       0.0         0.00          53.0        tbd   \n",
       "16698      0.01      0.00       0.0         0.00          48.0        tbd   \n",
       "16704      0.01      0.00       0.0         0.00           NaN        tbd   \n",
       "16706      0.01      0.00       0.0         0.00           NaN        tbd   \n",
       "\n",
       "      rating  \n",
       "119        E  \n",
       "301     E10+  \n",
       "520        T  \n",
       "645        E  \n",
       "718        E  \n",
       "...      ...  \n",
       "16695      E  \n",
       "16697      E  \n",
       "16698      E  \n",
       "16704      E  \n",
       "16706      T  \n",
       "\n",
       "[2376 rows x 11 columns]"
      ]
     },
     "execution_count": 16,
     "metadata": {},
     "output_type": "execute_result"
    }
   ],
   "source": [
    "games[games['user_score'] == 'tbd']\n",
    "#выведем на экран строки, в которых оценка пользователя указана \"tbd\""
   ]
  },
  {
   "cell_type": "markdown",
   "metadata": {},
   "source": [
    "2376 строк, в которых оценка пользователя указана \"tbd\". Tbd (to be determined) означает, что рейтинг еще не сформировался, поэтому целесообразно заменить эти значения на NaN."
   ]
  },
  {
   "cell_type": "code",
   "execution_count": 17,
   "metadata": {},
   "outputs": [],
   "source": [
    "games['user_score'] = games['user_score'].replace('tbd', np.nan)\n",
    "#заменим \"tbd\" на \"nan\" в столбце с пользовательской оценкой"
   ]
  },
  {
   "cell_type": "code",
   "execution_count": 18,
   "metadata": {},
   "outputs": [
    {
     "data": {
      "text/plain": [
       "array(['8', nan, '8.3', '8.5', '6.6', '8.4', '8.6', '7.7', '6.3', '7.4',\n",
       "       '8.2', '9', '7.9', '8.1', '8.7', '7.1', '3.4', '5.3', '4.8', '3.2',\n",
       "       '8.9', '6.4', '7.8', '7.5', '2.6', '7.2', '9.2', '7', '7.3', '4.3',\n",
       "       '7.6', '5.7', '5', '9.1', '6.5', '8.8', '6.9', '9.4', '6.8', '6.1',\n",
       "       '6.7', '5.4', '4', '4.9', '4.5', '9.3', '6.2', '4.2', '6', '3.7',\n",
       "       '4.1', '5.8', '5.6', '5.5', '4.4', '4.6', '5.9', '3.9', '3.1',\n",
       "       '2.9', '5.2', '3.3', '4.7', '5.1', '3.5', '2.5', '1.9', '3', '2.7',\n",
       "       '2.2', '2', '9.5', '2.1', '3.6', '2.8', '1.8', '3.8', '0', '1.6',\n",
       "       '9.6', '2.4', '1.7', '1.1', '0.3', '1.5', '0.7', '1.2', '2.3',\n",
       "       '0.5', '1.3', '0.2', '0.6', '1.4', '0.9', '1', '9.7'], dtype=object)"
      ]
     },
     "execution_count": 18,
     "metadata": {},
     "output_type": "execute_result"
    }
   ],
   "source": [
    "games['user_score'].unique()\n",
    "#проверим, что изменения внеслись"
   ]
  },
  {
   "cell_type": "code",
   "execution_count": 19,
   "metadata": {},
   "outputs": [],
   "source": [
    "games['user_score'] = games['user_score'].astype('float')\n",
    "#изменим тип данных в столбце с пользовательской оценкой на \"float\""
   ]
  },
  {
   "cell_type": "code",
   "execution_count": 20,
   "metadata": {},
   "outputs": [
    {
     "data": {
      "text/plain": [
       "array(['E', nan, 'M', 'T', 'E10+', 'K-A', 'AO', 'EC', 'RP'], dtype=object)"
      ]
     },
     "execution_count": 20,
     "metadata": {},
     "output_type": "execute_result"
    }
   ],
   "source": [
    "games['rating'].unique()\n",
    "#посмотрим, какие значения содержатся в категориальной переменной `rating`"
   ]
  },
  {
   "cell_type": "code",
   "execution_count": 21,
   "metadata": {},
   "outputs": [
    {
     "data": {
      "text/plain": [
       "E       3921\n",
       "T       2905\n",
       "M       1536\n",
       "E10+    1393\n",
       "EC         8\n",
       "K-A        3\n",
       "AO         1\n",
       "RP         1\n",
       "Name: rating, dtype: int64"
      ]
     },
     "execution_count": 21,
     "metadata": {},
     "output_type": "execute_result"
    }
   ],
   "source": [
    "games['rating'].value_counts()\n",
    "#а также на количественное распределение этих значений в переменной `rating`"
   ]
  },
  {
   "cell_type": "markdown",
   "metadata": {},
   "source": [
    "Всего по 1 игре с рейтингами \"AO\", \"RP\", 3 игры с рейтингом \"K-A\", который теперь называется \"E\". Переименуем его в \"E\"."
   ]
  },
  {
   "cell_type": "code",
   "execution_count": 22,
   "metadata": {},
   "outputs": [],
   "source": [
    "games['rating'] = games['rating'].replace('K-A', 'E')\n",
    "#переименуем рейтинг K-A в E"
   ]
  },
  {
   "cell_type": "code",
   "execution_count": 23,
   "metadata": {},
   "outputs": [],
   "source": [
    "games['rating'] = games['rating'].fillna('unknown')\n",
    "#Т.к. переменная категориальная, заменим пропуски на значение \"unknown\""
   ]
  },
  {
   "cell_type": "code",
   "execution_count": 24,
   "metadata": {},
   "outputs": [
    {
     "name": "stdout",
     "output_type": "stream",
     "text": [
      "<class 'pandas.core.frame.DataFrame'>\n",
      "Int64Index: 16444 entries, 0 to 16714\n",
      "Data columns (total 11 columns):\n",
      " #   Column           Non-Null Count  Dtype  \n",
      "---  ------           --------------  -----  \n",
      " 0   name             16444 non-null  object \n",
      " 1   platform         16444 non-null  object \n",
      " 2   year_of_release  16444 non-null  int64  \n",
      " 3   genre            16444 non-null  object \n",
      " 4   na_sales         16444 non-null  float64\n",
      " 5   eu_sales         16444 non-null  float64\n",
      " 6   jp_sales         16444 non-null  float64\n",
      " 7   other_sales      16444 non-null  float64\n",
      " 8   critic_score     7983 non-null   float64\n",
      " 9   user_score       7463 non-null   float64\n",
      " 10  rating           16444 non-null  object \n",
      "dtypes: float64(6), int64(1), object(4)\n",
      "memory usage: 1.5+ MB\n"
     ]
    }
   ],
   "source": [
    "games.info()\n",
    "# проверим, что пропуски обработаны и тип данных изменился"
   ]
  },
  {
   "cell_type": "code",
   "execution_count": 25,
   "metadata": {},
   "outputs": [
    {
     "data": {
      "text/plain": [
       "0"
      ]
     },
     "execution_count": 25,
     "metadata": {},
     "output_type": "execute_result"
    }
   ],
   "source": [
    "games.duplicated().sum()\n",
    "#проверим, есть ли полные дубликаты"
   ]
  },
  {
   "cell_type": "code",
   "execution_count": 26,
   "metadata": {},
   "outputs": [
    {
     "data": {
      "text/plain": [
       "array(['Wii', 'NES', 'GB', 'DS', 'X360', 'PS3', 'PS2', 'SNES', 'GBA',\n",
       "       'PS4', '3DS', 'N64', 'PS', 'XB', 'PC', '2600', 'PSP', 'XOne',\n",
       "       'WiiU', 'GC', 'GEN', 'DC', 'PSV', 'SAT', 'SCD', 'WS', 'NG', 'TG16',\n",
       "       '3DO', 'GG', 'PCFX'], dtype=object)"
      ]
     },
     "execution_count": 26,
     "metadata": {},
     "output_type": "execute_result"
    }
   ],
   "source": [
    "games['platform'].unique()\n",
    "#выполним поиск неявных дубликатов в столбце \"platforms\""
   ]
  },
  {
   "cell_type": "code",
   "execution_count": 27,
   "metadata": {},
   "outputs": [
    {
     "data": {
      "text/plain": [
       "array(['Sports', 'Platform', 'Racing', 'Role-Playing', 'Puzzle', 'Misc',\n",
       "       'Shooter', 'Simulation', 'Action', 'Fighting', 'Adventure',\n",
       "       'Strategy'], dtype=object)"
      ]
     },
     "execution_count": 27,
     "metadata": {},
     "output_type": "execute_result"
    }
   ],
   "source": [
    "games['genre'].unique()\n",
    "#выполним поиск неявных дубликатов в столбце \"genre\""
   ]
  },
  {
   "cell_type": "code",
   "execution_count": 28,
   "metadata": {},
   "outputs": [
    {
     "data": {
      "text/html": [
       "<div>\n",
       "<style scoped>\n",
       "    .dataframe tbody tr th:only-of-type {\n",
       "        vertical-align: middle;\n",
       "    }\n",
       "\n",
       "    .dataframe tbody tr th {\n",
       "        vertical-align: top;\n",
       "    }\n",
       "\n",
       "    .dataframe thead th {\n",
       "        text-align: right;\n",
       "    }\n",
       "</style>\n",
       "<table border=\"1\" class=\"dataframe\">\n",
       "  <thead>\n",
       "    <tr style=\"text-align: right;\">\n",
       "      <th></th>\n",
       "      <th>year_of_release</th>\n",
       "      <th>na_sales</th>\n",
       "      <th>eu_sales</th>\n",
       "      <th>jp_sales</th>\n",
       "      <th>other_sales</th>\n",
       "      <th>critic_score</th>\n",
       "      <th>user_score</th>\n",
       "    </tr>\n",
       "  </thead>\n",
       "  <tbody>\n",
       "    <tr>\n",
       "      <th>count</th>\n",
       "      <td>16444.000000</td>\n",
       "      <td>16444.000000</td>\n",
       "      <td>16444.000000</td>\n",
       "      <td>16444.000000</td>\n",
       "      <td>16444.000000</td>\n",
       "      <td>7983.000000</td>\n",
       "      <td>7463.000000</td>\n",
       "    </tr>\n",
       "    <tr>\n",
       "      <th>mean</th>\n",
       "      <td>2006.486256</td>\n",
       "      <td>0.264012</td>\n",
       "      <td>0.145930</td>\n",
       "      <td>0.078487</td>\n",
       "      <td>0.047594</td>\n",
       "      <td>68.994363</td>\n",
       "      <td>7.126330</td>\n",
       "    </tr>\n",
       "    <tr>\n",
       "      <th>std</th>\n",
       "      <td>5.875525</td>\n",
       "      <td>0.818378</td>\n",
       "      <td>0.506716</td>\n",
       "      <td>0.311100</td>\n",
       "      <td>0.188005</td>\n",
       "      <td>13.920060</td>\n",
       "      <td>1.499447</td>\n",
       "    </tr>\n",
       "    <tr>\n",
       "      <th>min</th>\n",
       "      <td>1980.000000</td>\n",
       "      <td>0.000000</td>\n",
       "      <td>0.000000</td>\n",
       "      <td>0.000000</td>\n",
       "      <td>0.000000</td>\n",
       "      <td>13.000000</td>\n",
       "      <td>0.000000</td>\n",
       "    </tr>\n",
       "    <tr>\n",
       "      <th>25%</th>\n",
       "      <td>2003.000000</td>\n",
       "      <td>0.000000</td>\n",
       "      <td>0.000000</td>\n",
       "      <td>0.000000</td>\n",
       "      <td>0.000000</td>\n",
       "      <td>60.000000</td>\n",
       "      <td>6.400000</td>\n",
       "    </tr>\n",
       "    <tr>\n",
       "      <th>50%</th>\n",
       "      <td>2007.000000</td>\n",
       "      <td>0.080000</td>\n",
       "      <td>0.020000</td>\n",
       "      <td>0.000000</td>\n",
       "      <td>0.010000</td>\n",
       "      <td>71.000000</td>\n",
       "      <td>7.500000</td>\n",
       "    </tr>\n",
       "    <tr>\n",
       "      <th>75%</th>\n",
       "      <td>2010.000000</td>\n",
       "      <td>0.240000</td>\n",
       "      <td>0.110000</td>\n",
       "      <td>0.040000</td>\n",
       "      <td>0.030000</td>\n",
       "      <td>79.000000</td>\n",
       "      <td>8.200000</td>\n",
       "    </tr>\n",
       "    <tr>\n",
       "      <th>max</th>\n",
       "      <td>2016.000000</td>\n",
       "      <td>41.360000</td>\n",
       "      <td>28.960000</td>\n",
       "      <td>10.220000</td>\n",
       "      <td>10.570000</td>\n",
       "      <td>98.000000</td>\n",
       "      <td>9.700000</td>\n",
       "    </tr>\n",
       "  </tbody>\n",
       "</table>\n",
       "</div>"
      ],
      "text/plain": [
       "       year_of_release      na_sales      eu_sales      jp_sales  \\\n",
       "count     16444.000000  16444.000000  16444.000000  16444.000000   \n",
       "mean       2006.486256      0.264012      0.145930      0.078487   \n",
       "std           5.875525      0.818378      0.506716      0.311100   \n",
       "min        1980.000000      0.000000      0.000000      0.000000   \n",
       "25%        2003.000000      0.000000      0.000000      0.000000   \n",
       "50%        2007.000000      0.080000      0.020000      0.000000   \n",
       "75%        2010.000000      0.240000      0.110000      0.040000   \n",
       "max        2016.000000     41.360000     28.960000     10.220000   \n",
       "\n",
       "        other_sales  critic_score   user_score  \n",
       "count  16444.000000   7983.000000  7463.000000  \n",
       "mean       0.047594     68.994363     7.126330  \n",
       "std        0.188005     13.920060     1.499447  \n",
       "min        0.000000     13.000000     0.000000  \n",
       "25%        0.000000     60.000000     6.400000  \n",
       "50%        0.010000     71.000000     7.500000  \n",
       "75%        0.030000     79.000000     8.200000  \n",
       "max       10.570000     98.000000     9.700000  "
      ]
     },
     "execution_count": 28,
     "metadata": {},
     "output_type": "execute_result"
    }
   ],
   "source": [
    "games.describe()\n",
    "# посмотрим на основные показатели описательной статистики, чтобы определить возможные аномалии в данных"
   ]
  },
  {
   "cell_type": "markdown",
   "metadata": {},
   "source": [
    "Подозрительные значения в столбцах с продажами. Посмотрим на эти данные подробнее."
   ]
  },
  {
   "cell_type": "code",
   "execution_count": 29,
   "metadata": {},
   "outputs": [
    {
     "data": {
      "text/html": [
       "<div>\n",
       "<style scoped>\n",
       "    .dataframe tbody tr th:only-of-type {\n",
       "        vertical-align: middle;\n",
       "    }\n",
       "\n",
       "    .dataframe tbody tr th {\n",
       "        vertical-align: top;\n",
       "    }\n",
       "\n",
       "    .dataframe thead th {\n",
       "        text-align: right;\n",
       "    }\n",
       "</style>\n",
       "<table border=\"1\" class=\"dataframe\">\n",
       "  <thead>\n",
       "    <tr style=\"text-align: right;\">\n",
       "      <th></th>\n",
       "      <th>name</th>\n",
       "      <th>platform</th>\n",
       "      <th>year_of_release</th>\n",
       "      <th>genre</th>\n",
       "      <th>na_sales</th>\n",
       "      <th>eu_sales</th>\n",
       "      <th>jp_sales</th>\n",
       "      <th>other_sales</th>\n",
       "      <th>critic_score</th>\n",
       "      <th>user_score</th>\n",
       "      <th>rating</th>\n",
       "    </tr>\n",
       "  </thead>\n",
       "  <tbody>\n",
       "    <tr>\n",
       "      <th>0</th>\n",
       "      <td>Wii Sports</td>\n",
       "      <td>Wii</td>\n",
       "      <td>2006</td>\n",
       "      <td>Sports</td>\n",
       "      <td>41.36</td>\n",
       "      <td>28.96</td>\n",
       "      <td>3.77</td>\n",
       "      <td>8.45</td>\n",
       "      <td>76.0</td>\n",
       "      <td>8.0</td>\n",
       "      <td>E</td>\n",
       "    </tr>\n",
       "  </tbody>\n",
       "</table>\n",
       "</div>"
      ],
      "text/plain": [
       "         name platform  year_of_release   genre  na_sales  eu_sales  jp_sales  \\\n",
       "0  Wii Sports      Wii             2006  Sports     41.36     28.96      3.77   \n",
       "\n",
       "   other_sales  critic_score  user_score rating  \n",
       "0         8.45          76.0         8.0      E  "
      ]
     },
     "execution_count": 29,
     "metadata": {},
     "output_type": "execute_result"
    }
   ],
   "source": [
    "games[games['na_sales'] == games['na_sales'].max()]\n",
    "#выведем на экран строку с максимальными продажами в Северной Америке"
   ]
  },
  {
   "cell_type": "markdown",
   "metadata": {},
   "source": [
    "Видим, что рекордные продажи составили не только в Северной Америке, высокие значения также в Европе и других странах, поэтому это не аномалии."
   ]
  },
  {
   "cell_type": "code",
   "execution_count": 30,
   "metadata": {},
   "outputs": [],
   "source": [
    "games['total_sales'] = games[['na_sales', 'eu_sales', 'jp_sales', 'other_sales']].sum(axis=1)\n",
    "#посчитаем суммарные продажи во всех регионах и запишем их в отдельный столбец"
   ]
  },
  {
   "cell_type": "markdown",
   "metadata": {},
   "source": [
    "**Вывод:**\n",
    "1. Обработаны пропуски в столбцах `name`, `genre`, `year_of_release`.\n",
    "2. Изменен тип данных в столбцах `year_of_release` и `user_score`.\n",
    "3. Обработаны строки, содержащие значения \"tbd\" в столбце `user_score` - значения заменены на \"NaN\"\n",
    "4. В столбце `rating` переименованы значения 3 игр с рейтингом \"K-A\", который теперь называется \"E\".\n",
    "\n",
    "Наиболее вероятные причины появления пропусков:  \n",
    " * критики и пользователи оценивали не все игры;\n",
    " * пропуски в столбце `rating` связаны с тем, что рейтинг ESRB появился в 1994, а данные содержатся с 1980 года"
   ]
  },
  {
   "cell_type": "markdown",
   "metadata": {},
   "source": [
    "### Исследовательский анализ данных"
   ]
  },
  {
   "cell_type": "code",
   "execution_count": 31,
   "metadata": {},
   "outputs": [
    {
     "data": {
      "image/png": "[encoded data removed]",
      "text/plain": [
       "<Figure size 720x360 with 1 Axes>"
      ]
     },
     "metadata": {
      "needs_background": "light"
     },
     "output_type": "display_data"
    }
   ],
   "source": [
    "plt.figure(figsize=(10, 5))\n",
    "sns.histplot(data=games, x='year_of_release', bins=37)\n",
    "\n",
    "plt.title('Распределение выпущенных игр по годам')\n",
    "plt.xlabel('Год выпуска')\n",
    "plt.ylabel('Количество игр')\n",
    "plt.show()"
   ]
  },
  {
   "cell_type": "markdown",
   "metadata": {},
   "source": [
    "До 1991 года игры практически не выпускались. С конца 90-х по 2008 год количество выпущенных игр росло, однако с 2009 года наблюдается резкое снижение. С 2012 года количество выпускаемых игр в год стабилизировалось.  \n",
    "Для прогноза на 2017 год могут быть важны данные с 2012 года, так как динамика количества выпущенных игр стабилизировалась."
   ]
  },
  {
   "cell_type": "code",
   "execution_count": 32,
   "metadata": {},
   "outputs": [
    {
     "data": {
      "text/plain": [
       "platform\n",
       "PS2     1233.56\n",
       "X360     961.24\n",
       "PS3      931.34\n",
       "Wii      891.18\n",
       "DS       802.78\n",
       "PS       727.58\n",
       "PS4      314.14\n",
       "GBA      312.88\n",
       "PSP      289.53\n",
       "3DS      257.81\n",
       "PC       255.76\n",
       "GB       254.43\n",
       "XB       251.57\n",
       "NES      251.05\n",
       "N64      218.01\n",
       "SNES     200.04\n",
       "GC       196.73\n",
       "XOne     159.32\n",
       "2600      86.48\n",
       "WiiU      82.19\n",
       "PSV       53.81\n",
       "SAT       33.59\n",
       "GEN       28.35\n",
       "DC        15.95\n",
       "SCD        1.86\n",
       "NG         1.44\n",
       "WS         1.42\n",
       "TG16       0.16\n",
       "3DO        0.10\n",
       "GG         0.04\n",
       "PCFX       0.03\n",
       "Name: total_sales, dtype: float64"
      ]
     },
     "execution_count": 32,
     "metadata": {},
     "output_type": "execute_result"
    }
   ],
   "source": [
    "games.groupby('platform')['total_sales'].agg('sum').sort_values(ascending=False)\n",
    "#сгруппируем платформы по суммарным продажам игр"
   ]
  },
  {
   "cell_type": "code",
   "execution_count": 33,
   "metadata": {},
   "outputs": [
    {
     "data": {
      "image/png": "[encoded data removed]",
      "text/plain": [
       "<Figure size 1440x720 with 1 Axes>"
      ]
     },
     "metadata": {
      "needs_background": "light"
     },
     "output_type": "display_data"
    }
   ],
   "source": [
    "(\n",
    "    games[games['platform'].isin(['PS2', 'X360', 'PS3', 'Wii', 'DS', 'PS', 'PS4', 'GBA', 'PSP', '3DS'])]\n",
    "    .pivot_table(index='year_of_release', columns='platform', values='total_sales', aggfunc='sum')\n",
    "    .plot.area(grid=True, figsize=(20,10))\n",
    ")\n",
    "plt.show()"
   ]
  },
  {
   "cell_type": "code",
   "execution_count": 34,
   "metadata": {},
   "outputs": [],
   "source": [
    "platform_life = games.pivot_table(index='year_of_release', columns='platform', values='total_sales')\n",
    "# построим сводную таблицу, одной осью которой будет год выпуска, второй осью - платформа, значениями - продажи"
   ]
  },
  {
   "cell_type": "code",
   "execution_count": 35,
   "metadata": {},
   "outputs": [
    {
     "data": {
      "image/png": "[encoded data removed]",
      "text/plain": [
       "<Figure size 432x288 with 2 Axes>"
      ]
     },
     "metadata": {
      "needs_background": "light"
     },
     "output_type": "display_data"
    }
   ],
   "source": [
    "sns.heatmap(platform_life.T)\n",
    "plt.show()\n",
    "# построим хитмэп, на котором виден жизненный цикл каждой платформы"
   ]
  },
  {
   "cell_type": "code",
   "execution_count": 36,
   "metadata": {},
   "outputs": [
    {
     "name": "stdout",
     "output_type": "stream",
     "text": [
      "Средний жизненный цикл платформы составляет 7.7 лет\n"
     ]
    }
   ],
   "source": [
    "print(f'Средний жизненный цикл платформы составляет {round(((~platform_life.isna()).sum()).mean(),1)} лет')"
   ]
  },
  {
   "cell_type": "markdown",
   "metadata": {},
   "source": [
    "На графике видно, что большая часть платформ уже устарела и игры на ней не выпускаются. В среднем платформы появляются каждые 3-4 года и изчезают приблизительно через 7-8 лет.\n",
    "\n",
    "Для того, чтобы построить прогноз на 2017 год, необходимо брать максимально схожие данные за ближайший период.  \n",
    "Лучше всего подходят данные за 2015-2016 года.  \n",
    "Эти данные включают в себя актуальные платформы на конец 2016 года, а также имеют стабильную динамику."
   ]
  },
  {
   "cell_type": "code",
   "execution_count": 37,
   "metadata": {},
   "outputs": [],
   "source": [
    "games = games.query('2015 <= year_of_release')\n",
    "# оставим только данные с 2015 года"
   ]
  },
  {
   "cell_type": "code",
   "execution_count": 38,
   "metadata": {},
   "outputs": [
    {
     "data": {
      "image/png": "[encoded data removed]",
      "text/plain": [
       "<Figure size 1440x720 with 1 Axes>"
      ]
     },
     "metadata": {
      "needs_background": "light"
     },
     "output_type": "display_data"
    }
   ],
   "source": [
    "(\n",
    "    games\n",
    "    .pivot_table(index='year_of_release', columns='platform', values='total_sales', aggfunc='sum')\n",
    "    .plot(grid=True, figsize=(20,10))\n",
    ")\n",
    "plt.show()\n",
    "#покажем на графике динамику продаж игр на различных платформах"
   ]
  },
  {
   "cell_type": "code",
   "execution_count": 39,
   "metadata": {},
   "outputs": [
    {
     "data": {
      "text/html": [
       "<style  type=\"text/css\" >\n",
       "#T_8b0e2_row0_col0{\n",
       "            background-color:  #cbebc5;\n",
       "            color:  #000000;\n",
       "        }#T_8b0e2_row0_col1,#T_8b0e2_row1_col1{\n",
       "            background-color:  #edf8e9;\n",
       "            color:  #000000;\n",
       "        }#T_8b0e2_row0_col2{\n",
       "            background-color:  #e2f4dd;\n",
       "            color:  #000000;\n",
       "        }#T_8b0e2_row0_col3,#T_8b0e2_row1_col3{\n",
       "            background-color:  #00441b;\n",
       "            color:  #f1f1f1;\n",
       "        }#T_8b0e2_row0_col4,#T_8b0e2_row1_col6{\n",
       "            background-color:  #f7fcf5;\n",
       "            color:  #000000;\n",
       "        }#T_8b0e2_row0_col5{\n",
       "            background-color:  #f0f9ec;\n",
       "            color:  #000000;\n",
       "        }#T_8b0e2_row0_col6{\n",
       "            background-color:  #f6fcf4;\n",
       "            color:  #000000;\n",
       "        }#T_8b0e2_row0_col7{\n",
       "            background-color:  #e3f4de;\n",
       "            color:  #000000;\n",
       "        }#T_8b0e2_row0_col8{\n",
       "            background-color:  #e9f7e5;\n",
       "            color:  #000000;\n",
       "        }#T_8b0e2_row0_col9{\n",
       "            background-color:  #72c375;\n",
       "            color:  #000000;\n",
       "        }#T_8b0e2_row1_col0{\n",
       "            background-color:  #cfecc9;\n",
       "            color:  #000000;\n",
       "        }#T_8b0e2_row1_col2{\n",
       "            background-color:  #f0f9ed;\n",
       "            color:  #000000;\n",
       "        }#T_8b0e2_row1_col4{\n",
       "            background-color:  #000000;\n",
       "            color:  #f1f1f1;\n",
       "        }#T_8b0e2_row1_col5{\n",
       "            background-color:  #eff9eb;\n",
       "            color:  #000000;\n",
       "        }#T_8b0e2_row1_col7{\n",
       "            background-color:  #eef8ea;\n",
       "            color:  #000000;\n",
       "        }#T_8b0e2_row1_col8{\n",
       "            background-color:  #f5fbf2;\n",
       "            color:  #000000;\n",
       "        }#T_8b0e2_row1_col9{\n",
       "            background-color:  #a0d99b;\n",
       "            color:  #000000;\n",
       "        }</style><table id=\"T_8b0e2_\" ><thead>    <tr>        <th class=\"index_name level0\" >platform</th>        <th class=\"col_heading level0 col0\" >3DS</th>        <th class=\"col_heading level0 col1\" >PC</th>        <th class=\"col_heading level0 col2\" >PS3</th>        <th class=\"col_heading level0 col3\" >PS4</th>        <th class=\"col_heading level0 col4\" >PSP</th>        <th class=\"col_heading level0 col5\" >PSV</th>        <th class=\"col_heading level0 col6\" >Wii</th>        <th class=\"col_heading level0 col7\" >WiiU</th>        <th class=\"col_heading level0 col8\" >X360</th>        <th class=\"col_heading level0 col9\" >XOne</th>    </tr>    <tr>        <th class=\"index_name level0\" >year_of_release</th>        <th class=\"blank\" ></th>        <th class=\"blank\" ></th>        <th class=\"blank\" ></th>        <th class=\"blank\" ></th>        <th class=\"blank\" ></th>        <th class=\"blank\" ></th>        <th class=\"blank\" ></th>        <th class=\"blank\" ></th>        <th class=\"blank\" ></th>        <th class=\"blank\" ></th>    </tr></thead><tbody>\n",
       "                <tr>\n",
       "                        <th id=\"T_8b0e2_level0_row0\" class=\"row_heading level0 row0\" >2015</th>\n",
       "                        <td id=\"T_8b0e2_row0_col0\" class=\"data row0 col0\" >27.78</td>\n",
       "                        <td id=\"T_8b0e2_row0_col1\" class=\"data row0 col1\" >8.52</td>\n",
       "                        <td id=\"T_8b0e2_row0_col2\" class=\"data row0 col2\" >16.82</td>\n",
       "                        <td id=\"T_8b0e2_row0_col3\" class=\"data row0 col3\" >118.90</td>\n",
       "                        <td id=\"T_8b0e2_row0_col4\" class=\"data row0 col4\" >0.12</td>\n",
       "                        <td id=\"T_8b0e2_row0_col5\" class=\"data row0 col5\" >6.25</td>\n",
       "                        <td id=\"T_8b0e2_row0_col6\" class=\"data row0 col6\" >1.14</td>\n",
       "                        <td id=\"T_8b0e2_row0_col7\" class=\"data row0 col7\" >16.35</td>\n",
       "                        <td id=\"T_8b0e2_row0_col8\" class=\"data row0 col8\" >11.96</td>\n",
       "                        <td id=\"T_8b0e2_row0_col9\" class=\"data row0 col9\" >60.14</td>\n",
       "            </tr>\n",
       "            <tr>\n",
       "                        <th id=\"T_8b0e2_level0_row1\" class=\"row_heading level0 row1\" >2016</th>\n",
       "                        <td id=\"T_8b0e2_row1_col0\" class=\"data row1 col0\" >15.14</td>\n",
       "                        <td id=\"T_8b0e2_row1_col1\" class=\"data row1 col1\" >5.25</td>\n",
       "                        <td id=\"T_8b0e2_row1_col2\" class=\"data row1 col2\" >3.60</td>\n",
       "                        <td id=\"T_8b0e2_row1_col3\" class=\"data row1 col3\" >69.25</td>\n",
       "                        <td id=\"T_8b0e2_row1_col4\" class=\"data row1 col4\" >nan</td>\n",
       "                        <td id=\"T_8b0e2_row1_col5\" class=\"data row1 col5\" >4.25</td>\n",
       "                        <td id=\"T_8b0e2_row1_col6\" class=\"data row1 col6\" >0.18</td>\n",
       "                        <td id=\"T_8b0e2_row1_col7\" class=\"data row1 col7\" >4.60</td>\n",
       "                        <td id=\"T_8b0e2_row1_col8\" class=\"data row1 col8\" >1.52</td>\n",
       "                        <td id=\"T_8b0e2_row1_col9\" class=\"data row1 col9\" >26.15</td>\n",
       "            </tr>\n",
       "    </tbody></table>"
      ],
      "text/plain": [
       "<pandas.io.formats.style.Styler at 0x7fa7c2672550>"
      ]
     },
     "execution_count": 39,
     "metadata": {},
     "output_type": "execute_result"
    }
   ],
   "source": [
    "(\n",
    "    games\n",
    "    .pivot_table(index='year_of_release', columns='platform', values='total_sales', aggfunc='sum')\n",
    "    .style\n",
    "    .format(\"{:.2f}\")\n",
    "    .background_gradient(cmap='Greens', axis=1)\n",
    ")\n",
    "#покажем в табличном виде динамику продаж игр на различных платформах"
   ]
  },
  {
   "cell_type": "markdown",
   "metadata": {},
   "source": [
    "У всех платформ отрицательная динамика продаж.  \n",
    "Выделим 6 потенциально прибыльных платформ:\n",
    "* PS4\n",
    "* XOne\n",
    "* 3DS\n",
    "* PC\n",
    "* WiiU\n",
    "* PSV"
   ]
  },
  {
   "cell_type": "code",
   "execution_count": 40,
   "metadata": {},
   "outputs": [
    {
     "data": {
      "image/png": "[encoded data removed]",
      "text/plain": [
       "<Figure size 1080x504 with 1 Axes>"
      ]
     },
     "metadata": {
      "needs_background": "light"
     },
     "output_type": "display_data"
    }
   ],
   "source": [
    "plt.figure(figsize=(15, 7))\n",
    "(sns.boxplot(data = games, y = 'total_sales', x='platform')\n",
    "    .set(title = 'Общие продажи по платформам', xlabel = 'Платформы', ylabel = 'Общие продажи', ))\n",
    "\n",
    "plt.show()\n",
    "# построим график boxplot с общими данными для оценки выбросов"
   ]
  },
  {
   "cell_type": "code",
   "execution_count": 41,
   "metadata": {},
   "outputs": [
    {
     "data": {
      "image/png": "[encoded data removed]",
      "text/plain": [
       "<Figure size 1080x504 with 1 Axes>"
      ]
     },
     "metadata": {
      "needs_background": "light"
     },
     "output_type": "display_data"
    }
   ],
   "source": [
    "plt.figure(figsize=(15, 7))\n",
    "(sns.boxplot(data = games, y = 'total_sales', x='platform')\n",
    "    .set(title = 'Общие продажи по платформам', xlabel = 'Платформы', ylabel = 'Общие продажи', ylim=(0, 1.5)))\n",
    "\n",
    "plt.show()\n",
    "# ограничим данные на графике boxplot для оценки квартилей по платформам"
   ]
  },
  {
   "cell_type": "markdown",
   "metadata": {},
   "source": [
    "* Примечательно, что наборы данных по продажам практически по всем платформам имеют распределение скошенное вправо. Об этом свидетельствует то, что медиана находится рядом с нижним квартилем.  \n",
    "Следовательно, можем сделать вывод, что **наблюдается преобладание игр с небольшими продажами**. А популярность платформам приносят лишь несколько игр, продажи которых \"выстреливают\".\n",
    "* Медианные продажи по каждой платформе не превышают 0.2 млн копий.  Однако практически на каждой платформе, а особенно на наиболее популярных, есть игры, суммарные продажи которых во много раз превышают медианные значения. Удалять такие данные не будем, т.к. такие значения, возможно, обусловлены тем, что продажи некоторых игр \"выстрелили\"."
   ]
  },
  {
   "cell_type": "markdown",
   "metadata": {},
   "source": [
    "Посмотрим, как влияют на продажи внутри одной популярной платформы (PS4) отзывы пользователей и критиков. Построим диаграмму рассеяния и посчитаем корреляцию между отзывами и продажами."
   ]
  },
  {
   "cell_type": "code",
   "execution_count": 42,
   "metadata": {},
   "outputs": [
    {
     "data": {
      "image/png": "[encoded data removed]",
      "text/plain": [
       "<Figure size 720x360 with 1 Axes>"
      ]
     },
     "metadata": {
      "needs_background": "light"
     },
     "output_type": "display_data"
    },
    {
     "name": "stdout",
     "output_type": "stream",
     "text": [
      "Корреляция продаж игр на платформе PS4 и оценок пользователей: -0.06\n"
     ]
    }
   ],
   "source": [
    "#построим диаграмму рассеяния, где для каждого значения пользовательской оценки будет отдельная точка с общей суммой продаж\n",
    "(\n",
    "    games[games['platform'] == 'PS4']\n",
    "    .plot(x='user_score', y='total_sales', kind='scatter', grid=True, figsize=(10,5), alpha=0.3)\n",
    ")\n",
    "plt.show()\n",
    "\n",
    "#рассчитаем коэффициент корреляции между общим количеством продаж игры и оценками пользователей\n",
    "\n",
    "print('Корреляция продаж игр на платформе PS4 и оценок пользователей:', games[games['platform'] == 'PS4']['total_sales'].corr(games['user_score']).round(2))"
   ]
  },
  {
   "cell_type": "code",
   "execution_count": 43,
   "metadata": {},
   "outputs": [
    {
     "data": {
      "image/png": "[encoded data removed]",
      "text/plain": [
       "<Figure size 720x360 with 1 Axes>"
      ]
     },
     "metadata": {
      "needs_background": "light"
     },
     "output_type": "display_data"
    },
    {
     "name": "stdout",
     "output_type": "stream",
     "text": [
      "Корреляция продаж игр на платформе PS4 и оценок критиков: 0.39\n"
     ]
    }
   ],
   "source": [
    "#построим диаграмму рассеяния, где для каждого значения оценки критиков будет отдельная точка с общей суммой продаж\n",
    "(\n",
    "    games[games['platform'] == 'PS4']\n",
    "    .plot(x='critic_score', y='total_sales', kind='scatter', grid=True, figsize=(10,5), alpha=0.5)\n",
    ")\n",
    "plt.show()\n",
    "\n",
    "#рассчитаем коэффициент корреляции между общим количеством продаж игры и оценками критиков\n",
    "\n",
    "print('Корреляция продаж игр на платформе PS4 и оценок критиков:', games[games['platform'] == 'PS4']['total_sales'].corr(games['critic_score']).round(2))"
   ]
  },
  {
   "cell_type": "markdown",
   "metadata": {},
   "source": [
    "**Выводы:** \n",
    "* Влияние оценок критиков оказывает большее значение на продажи игр, чем оценки пользователей.\n",
    "* Корреляция продаж игр и оценок пользователей практически отсутствует.\n",
    "\n",
    "Соотнесем выводы с продажами игр на других платформах. \n",
    "Для этого построим аналогичные диаграммы рассеяния для данных с играми на платформах XOne, 3DS и PC."
   ]
  },
  {
   "cell_type": "code",
   "execution_count": 44,
   "metadata": {},
   "outputs": [
    {
     "data": {
      "image/png": "[encoded data removed]",
      "text/plain": [
       "<Figure size 1080x288 with 2 Axes>"
      ]
     },
     "metadata": {
      "needs_background": "light"
     },
     "output_type": "display_data"
    },
    {
     "data": {
      "image/png": "[encoded data removed]",
      "text/plain": [
       "<Figure size 1080x288 with 2 Axes>"
      ]
     },
     "metadata": {
      "needs_background": "light"
     },
     "output_type": "display_data"
    },
    {
     "data": {
      "image/png": "[encoded data removed]",
      "text/plain": [
       "<Figure size 1080x288 with 2 Axes>"
      ]
     },
     "metadata": {
      "needs_background": "light"
     },
     "output_type": "display_data"
    },
    {
     "data": {
      "image/png": "[encoded data removed]",
      "text/plain": [
       "<Figure size 1080x288 with 2 Axes>"
      ]
     },
     "metadata": {
      "needs_background": "light"
     },
     "output_type": "display_data"
    }
   ],
   "source": [
    "#построим диаграммы рассеяния для платформ, где для каждого значения пользовательской оценки будет отдельная точка с общей суммой продаж\n",
    "\n",
    "for i in ['PS4', 'XOne', '3DS', 'PC']:\n",
    "    fig, axes = plt.subplots(1, 2, figsize=(15, 4))\n",
    "    sns.scatterplot(data= games[games['platform'] == i], x='user_score', y='total_sales', ax=axes[0], alpha=0.5).set(title=f'Корреляция продаж игр на {i} и оценок пользователей')\n",
    "    sns.scatterplot(data= games[games['platform'] == i], x='critic_score', y='total_sales', ax=axes[1], alpha=0.5).set(title=f'Корреляция продаж игр на {i} и оценок критиков')"
   ]
  },
  {
   "cell_type": "code",
   "execution_count": 45,
   "metadata": {},
   "outputs": [
    {
     "name": "stdout",
     "output_type": "stream",
     "text": [
      "Корреляция продаж игр на платформе PS4 и оценок пользователей: -0.06\n",
      "Корреляция продаж игр на платформе PS4 и оценок критиков: 0.39\n",
      "\n",
      "Корреляция продаж игр на платформе XOne и оценок пользователей: -0.04\n",
      "Корреляция продаж игр на платформе XOne и оценок критиков: 0.43\n",
      "\n",
      "Корреляция продаж игр на платформе 3DS и оценок пользователей: 0.2\n",
      "Корреляция продаж игр на платформе 3DS и оценок критиков: 0.18\n",
      "\n",
      "Корреляция продаж игр на платформе PC и оценок пользователей: 0.15\n",
      "Корреляция продаж игр на платформе PC и оценок критиков: 0.38\n",
      "\n"
     ]
    }
   ],
   "source": [
    "for i in ['PS4', 'XOne', '3DS', 'PC']:\n",
    "    print(f'Корреляция продаж игр на платформе {i} и оценок пользователей:', games[games['platform'] == i]['total_sales'].corr(games['user_score']).round(2))\n",
    "    print(f'Корреляция продаж игр на платформе {i} и оценок критиков:', games[games['platform'] == i]['total_sales'].corr(games['critic_score']).round(2))\n",
    "    print()\n",
    "#рассчитаем коэффициенты корреляции между общим количеством продаж игры и оценками пользователей"
   ]
  },
  {
   "cell_type": "markdown",
   "metadata": {},
   "source": [
    "**Вывод:**   \n",
    "Для наиболее популярных платформ, таких как PS4 и XOne, корреляция продаж игр и оценок пользователей практически отсутствует.  \n",
    "Для менее крупных платформ - 3DS, PC, корреляция положительная, но слабая - составляет около 0.2. Хотя стоит заметить, что и количество оценок в разы меньше, чем у PS4 и ХOne.  \n",
    "Со взаимосвязью продаж игр и оценками критиков ситуация обстоит иначе.  \n",
    "Для PS4, XOne и PC корреляция продаж игр и оценок критиков умеренная - около 0.4. Наблюдается средняя корреляция: выше оценки критиков - больше продаж игры.  \n",
    "Для 3DS - корреляция также положительная, но слабая, в отличие от трех других платформ, и составляет 0.2.  \n",
    "\n",
    "По результатам анализа сформулируем вывод: **Оценки критиков оказывают большее значение на продажи игр, чем оценки пользователей.**"
   ]
  },
  {
   "cell_type": "code",
   "execution_count": 46,
   "metadata": {},
   "outputs": [
    {
     "data": {
      "text/plain": [
       "genre\n",
       "Action          431\n",
       "Role-Playing    132\n",
       "Adventure       110\n",
       "Sports          107\n",
       "Shooter          81\n",
       "Misc             71\n",
       "Racing           42\n",
       "Fighting         37\n",
       "Simulation       33\n",
       "Strategy         29\n",
       "Platform         28\n",
       "Puzzle            7\n",
       "Name: name, dtype: int64"
      ]
     },
     "execution_count": 46,
     "metadata": {},
     "output_type": "execute_result"
    }
   ],
   "source": [
    "games.groupby('genre')['name'].agg('count').sort_values(ascending=False)\n",
    "#посмотрим на распределение количества выпущенных игр по жанрам"
   ]
  },
  {
   "cell_type": "code",
   "execution_count": 47,
   "metadata": {},
   "outputs": [
    {
     "data": {
      "text/plain": [
       "genre\n",
       "Shooter         105.73\n",
       "Action          102.13\n",
       "Sports           64.33\n",
       "Role-Playing     55.82\n",
       "Misc             14.17\n",
       "Fighting         12.37\n",
       "Adventure        11.98\n",
       "Racing           10.86\n",
       "Platform          9.28\n",
       "Simulation        7.55\n",
       "Strategy          2.98\n",
       "Puzzle            0.72\n",
       "Name: total_sales, dtype: float64"
      ]
     },
     "execution_count": 47,
     "metadata": {},
     "output_type": "execute_result"
    }
   ],
   "source": [
    "games.groupby('genre')['total_sales'].agg('sum').sort_values(ascending=False)\n",
    "#посмотрим на распределение продаж игр по жанрам"
   ]
  },
  {
   "cell_type": "code",
   "execution_count": 48,
   "metadata": {},
   "outputs": [
    {
     "data": {
      "text/plain": [
       "genre\n",
       "Shooter         1.305309\n",
       "Sports          0.601215\n",
       "Role-Playing    0.422879\n",
       "Fighting        0.334324\n",
       "Platform        0.331429\n",
       "Racing          0.258571\n",
       "Action          0.236961\n",
       "Simulation      0.228788\n",
       "Misc            0.199577\n",
       "Adventure       0.108909\n",
       "Puzzle          0.102857\n",
       "Strategy        0.102759\n",
       "Name: total_sales, dtype: float64"
      ]
     },
     "execution_count": 48,
     "metadata": {},
     "output_type": "execute_result"
    }
   ],
   "source": [
    "games.groupby('genre')['total_sales'].agg('mean').sort_values(ascending=False)\n",
    "#посмотрим на распределение продаж игр по жанрам"
   ]
  },
  {
   "cell_type": "markdown",
   "metadata": {},
   "source": [
    "**Вывод:**   \n",
    "* По количеству выпущенных игр лидируют экшн, ролевые игры и приключения.  \n",
    "* Наибольшей популярностью (вывод по среднему количеству проданных копий) пользуются шутеры, спорт и ролевые игры.\n",
    "* Почти не пользуются популярностью приключения, стратегии и пазл.\n"
   ]
  },
  {
   "cell_type": "markdown",
   "metadata": {},
   "source": [
    "###  Составим портрет пользователя каждого региона"
   ]
  },
  {
   "cell_type": "code",
   "execution_count": 49,
   "metadata": {},
   "outputs": [
    {
     "data": {
      "image/png": "[encoded data removed]",
      "text/plain": [
       "<Figure size 720x360 with 1 Axes>"
      ]
     },
     "metadata": {
      "needs_background": "light"
     },
     "output_type": "display_data"
    },
    {
     "data": {
      "image/png": "[encoded data removed]",
      "text/plain": [
       "<Figure size 720x360 with 1 Axes>"
      ]
     },
     "metadata": {
      "needs_background": "light"
     },
     "output_type": "display_data"
    },
    {
     "data": {
      "image/png": "[encoded data removed]",
      "text/plain": [
       "<Figure size 720x360 with 1 Axes>"
      ]
     },
     "metadata": {
      "needs_background": "light"
     },
     "output_type": "display_data"
    }
   ],
   "source": [
    "#построим гистограммы, отображающие распределение топ-5 платформ по популярности для пользователей Северной Америки, Европы и Японии \n",
    "\n",
    "for i in ['na_sales', 'eu_sales', 'jp_sales']:\n",
    "    (\n",
    "        games.groupby('platform')[i].agg('sum')\n",
    "        .sort_values(ascending=False).head(5)\n",
    "        .plot(x='platform', y=i, kind='bar', grid=True, figsize=(10,5), rot=0)\n",
    "    )\n",
    "    if i == 'na_sales':\n",
    "        plt.title('Топ-5 платформ по популярности для пользователя из Северной Америки')\n",
    "    elif i == 'eu_sales':\n",
    "        plt.title('Топ-5 платформ по популярности для пользователя из Европы')\n",
    "    elif i == 'jp_sales':\n",
    "        plt.title('Топ-5 платформ по популярности для пользователя из Японии')\n",
    "\n",
    "    plt.xlabel('Название платформы')\n",
    "    plt.ylabel('Общие продажи, млн копий')\n",
    "    plt.show()"
   ]
  },
  {
   "cell_type": "code",
   "execution_count": 50,
   "metadata": {},
   "outputs": [
    {
     "data": {
      "image/png": "[encoded data removed]",
      "text/plain": [
       "<Figure size 864x504 with 1 Axes>"
      ]
     },
     "metadata": {},
     "output_type": "display_data"
    },
    {
     "data": {
      "image/png": "[encoded data removed]",
      "text/plain": [
       "<Figure size 864x504 with 1 Axes>"
      ]
     },
     "metadata": {},
     "output_type": "display_data"
    },
    {
     "data": {
      "image/png": "[encoded data removed]",
      "text/plain": [
       "<Figure size 864x504 with 1 Axes>"
      ]
     },
     "metadata": {},
     "output_type": "display_data"
    }
   ],
   "source": [
    "# на круговых диаграммах отобразим доли продаж для пользователей Северной Америки, Европы и Японии\n",
    "\n",
    "for i in ['na_sales', 'eu_sales', 'jp_sales']:\n",
    "    (\n",
    "        games.groupby('platform')[i].agg('sum')\n",
    "        .sort_values(ascending=False).head(5)\n",
    "    .plot(x='platform', y='eu_sales', kind='pie', grid=True, figsize=(12,7), autopct='%1.0f%%')\n",
    "    )\n",
    "    if i == 'na_sales':\n",
    "        plt.title('Доли продаж для топ-5 платформ по популярности для пользователя из Северной Америки')\n",
    "    elif i == 'eu_sales':\n",
    "        plt.title('Доли продаж для топ-5 платформ по популярности для пользователя из Европы')\n",
    "    elif i == 'jp_sales':\n",
    "        plt.title('Доли продаж для топ-5 платформ по популярности для пользователя из Японии')\n",
    "    plt.show()"
   ]
  },
  {
   "cell_type": "markdown",
   "metadata": {},
   "source": [
    "**Вывод:**\n",
    "1. Наиболее популярная платформа во всех трех регионах - PS4. Она входит в топ-3 по каждому из регионов.\n",
    "2. В Северной Америке наибольшей популярностью пользуются платформы PS4 (45% от суммарных продаж игр) и XOne (36%). Разница несущественная и связана с тем, что пользователи активно поддерживают платформу, выпущенную в родной стране - XOne.\n",
    "3. В Европе наиболее популярные платформы те же, что и в Северной Америке, однако разница уже существеннее - 62% у PS4 против 21% у XOne.\n",
    "4. В Японии настолько сильная поддержка \"родных\" платформ, что XOne нет даже в топ-5. А самая популярная платформа - 3DS (Nintendo) - 44% от суммарных продаж игр приходится на ее долю. На втром месте расположилась PS4 c 23%."
   ]
  },
  {
   "cell_type": "code",
   "execution_count": 51,
   "metadata": {},
   "outputs": [
    {
     "data": {
      "image/png": "[encoded data removed]",
      "text/plain": [
       "<Figure size 720x360 with 1 Axes>"
      ]
     },
     "metadata": {
      "needs_background": "light"
     },
     "output_type": "display_data"
    },
    {
     "data": {
      "image/png": "[encoded data removed]",
      "text/plain": [
       "<Figure size 720x360 with 1 Axes>"
      ]
     },
     "metadata": {
      "needs_background": "light"
     },
     "output_type": "display_data"
    },
    {
     "data": {
      "image/png": "[encoded data removed]",
      "text/plain": [
       "<Figure size 720x360 with 1 Axes>"
      ]
     },
     "metadata": {
      "needs_background": "light"
     },
     "output_type": "display_data"
    }
   ],
   "source": [
    "#построим гистограммы, отображающие распределение топ-5 жанров по популярности для пользователей Северной Америки, Европы и Японии \n",
    "\n",
    "for i in ['na_sales', 'eu_sales', 'jp_sales']:\n",
    "    (\n",
    "        games.groupby('genre')['na_sales'].agg('sum')\n",
    "        .sort_values(ascending=False).head(5)\n",
    "        .plot(x='genre', y='na_sales', kind='bar', grid=True, figsize=(10,5), rot=0)\n",
    "    )\n",
    "    if i == 'na_sales':\n",
    "        plt.title('Топ-5 жанров по популярности для пользователя из Северной Америки')\n",
    "    elif i == 'eu_sales':\n",
    "        plt.title('Топ-5 жанров по популярности для пользователя из Европы')\n",
    "    elif i == 'jp_sales':\n",
    "        plt.title('Топ-5 жанров по популярности для пользователя из Японии')\n",
    "\n",
    "    plt.xlabel('Название жанра')\n",
    "    plt.ylabel('Общие продажи, млн копий')\n",
    "    plt.show()"
   ]
  },
  {
   "cell_type": "code",
   "execution_count": 52,
   "metadata": {},
   "outputs": [
    {
     "data": {
      "image/png": "[encoded data removed]",
      "text/plain": [
       "<Figure size 504x504 with 1 Axes>"
      ]
     },
     "metadata": {},
     "output_type": "display_data"
    },
    {
     "data": {
      "image/png": "[encoded data removed]",
      "text/plain": [
       "<Figure size 504x504 with 1 Axes>"
      ]
     },
     "metadata": {},
     "output_type": "display_data"
    },
    {
     "data": {
      "image/png": "[encoded data removed]",
      "text/plain": [
       "<Figure size 504x504 with 1 Axes>"
      ]
     },
     "metadata": {},
     "output_type": "display_data"
    }
   ],
   "source": [
    "# на круговых диаграммах отобразим доли продаж игр топ-5 жанров по популярности для пользователей Северной Америки, Европы и Японии\n",
    "\n",
    "for i in ['na_sales', 'eu_sales', 'jp_sales']:\n",
    "    (\n",
    "        games.groupby('genre')['na_sales'].agg('sum')\n",
    "        .sort_values(ascending=False).head(5)\n",
    "        .plot(x='genre', y='na_sales', kind='pie', grid=True, figsize=(7,7), autopct='%1.0f%%', startangle=90)\n",
    "    )\n",
    "    if i == 'na_sales':\n",
    "        plt.title('Доли продаж для топ-5 жанров по популярности для пользователя из Северной Америки')\n",
    "    elif i == 'eu_sales':\n",
    "        plt.title('Доли продаж для топ-5 жанров по популярности для пользователя из Европы')\n",
    "    elif i == 'jp_sales':\n",
    "        plt.title('Доли продаж для топ-5 жанров по популярности для пользователя из Японии')\n",
    "    plt.show()"
   ]
  },
  {
   "cell_type": "code",
   "execution_count": 53,
   "metadata": {},
   "outputs": [
    {
     "data": {
      "image/png": "[encoded data removed]",
      "text/plain": [
       "<Figure size 720x360 with 1 Axes>"
      ]
     },
     "metadata": {
      "needs_background": "light"
     },
     "output_type": "display_data"
    }
   ],
   "source": [
    "(\n",
    "    games[games['platform'] == '3DS']\n",
    "    .groupby('genre')['jp_sales'].agg('sum')\n",
    "    .sort_values(ascending=False)\n",
    "    .plot(kind='bar', grid=True, figsize=(10,5), rot=45)\n",
    ")\n",
    "plt.title('Распределение продаж игр по жанрам в Японии на платформе 3DS')\n",
    "plt.xlabel('Название жанра')\n",
    "plt.ylabel('Общие продажи, млн копий')\n",
    "\n",
    "plt.show()\n",
    "    \n",
    "#посмотрим на распределение продаж игр в разных жанрах на самой популярной платформе в Японии - 3DS"
   ]
  },
  {
   "cell_type": "markdown",
   "metadata": {},
   "source": [
    "**Вывод:**\n",
    "1. Вкусовые предпочтения у пользователей Северной Америки и Европы схожие: больше всего они предпочитают игры в жанрах шутеры, экшн, спорт. На эти три жанра прихолится порядка 80% проданных игр.\n",
    "2. В Японии самые популярные жанры - экшн (50% от суммарных продаж игр) и ролевые игры (29%). А шутеры и спорт, в отличие от Северной Америки и Европы, практически не пользуются популярностью.\n",
    "3. Популярность жанров экшн и ролевые игры в Японии связана с тем, что половина продаж приходится на игры, выпускаемые на самой популярной платформе - 3DS.\n"
   ]
  },
  {
   "cell_type": "code",
   "execution_count": 55,
   "metadata": {},
   "outputs": [],
   "source": [
    "ESRB_dict = {'E': 'Для всех', 'M': 'От 17 лет', 'T': 'От 13 лет', 'E10+': 'От 10 лет','K-A': 'Для всех', 'unknown': 'Неизвестен'}\n",
    "games['ESRB_description'] = games['rating'].map(ESRB_dict)"
   ]
  },
  {
   "cell_type": "code",
   "execution_count": 56,
   "metadata": {},
   "outputs": [
    {
     "data": {
      "image/png": "[encoded data removed]",
      "text/plain": [
       "<Figure size 720x360 with 1 Axes>"
      ]
     },
     "metadata": {
      "needs_background": "light"
     },
     "output_type": "display_data"
    }
   ],
   "source": [
    "#построим гистограммы зависимости продаж и рейтинга ESRB по регионам\n",
    "(\n",
    "    games.pivot_table(index='ESRB_description', values=['na_sales', 'eu_sales', 'jp_sales'], aggfunc='sum')\n",
    "    .plot(kind='bar', grid=True, figsize=(10,5), rot=0)\n",
    ")\n",
    "plt.title('Влияние рейтинга от ESRB на продажи в регионах')\n",
    "plt.xlabel('Рейтинг от ESRB')\n",
    "plt.ylabel('Общие продажи, млн копий')\n",
    "\n",
    "plt.show()"
   ]
  },
  {
   "cell_type": "markdown",
   "metadata": {},
   "source": [
    "**Вывод:**\n",
    "1. В Северной Америке и Европе влияение рейтинга от ESRB на продажи сопоставимое. Наиболее высокие продажи у игр с рейтингом M - от 17 лет. А наименее низкие продажи у игр с рейтингом E10+ - от 10 лет.\n",
    "2. По сравнению с Северной Америкой и Европой в Японии нет ощутимого влияния рейтинга на продажи. Однако небольшой перевес по суммарным продажам у игр с рейтингом T - для тинейджеров."
   ]
  },
  {
   "cell_type": "markdown",
   "metadata": {},
   "source": [
    "### Проверка гипотез"
   ]
  },
  {
   "cell_type": "markdown",
   "metadata": {},
   "source": [
    "#### Проверим гипотезу: Средние пользовательские рейтинги платформ Xbox One и PC одинаковые."
   ]
  },
  {
   "cell_type": "markdown",
   "metadata": {},
   "source": [
    "*Нулевая гипотеза:* Средние пользовательские рейтинги платформ XOne и PC равны.  \n",
    "*Альтернативная гипотеза:* Средние пользовательские рейтинги платформ XOne и PC отличаются."
   ]
  },
  {
   "cell_type": "code",
   "execution_count": 57,
   "metadata": {},
   "outputs": [],
   "source": [
    "sample_XOne = games[(games['platform'] == 'XOne') & (~games['user_score'].isna())]['user_score']\n",
    "# первая выборка будет содержать пользовательские оценки для игр на платформе XOne"
   ]
  },
  {
   "cell_type": "code",
   "execution_count": 58,
   "metadata": {},
   "outputs": [],
   "source": [
    "sample_PC = games[(games['platform'] == 'PC') & (~games['user_score'].isna())]['user_score']\n",
    "# вторая выборка будет содержать пользовательские оценки для игр на платформе PC"
   ]
  },
  {
   "cell_type": "code",
   "execution_count": 59,
   "metadata": {},
   "outputs": [
    {
     "name": "stdout",
     "output_type": "stream",
     "text": [
      "Размер выборки sample_XOne: 121\n",
      "Размер выборки sample_PC: 84\n"
     ]
    }
   ],
   "source": [
    "print('Размер выборки sample_XOne:', len(sample_XOne))\n",
    "print('Размер выборки sample_PC:', len(sample_PC))"
   ]
  },
  {
   "cell_type": "code",
   "execution_count": 60,
   "metadata": {},
   "outputs": [],
   "source": [
    "alpha=0.05\n",
    "# критический уровень статистической значимости зададим 0.05\n",
    "# если p-value окажется меньше него - отвергнем гипотезу"
   ]
  },
  {
   "cell_type": "code",
   "execution_count": 61,
   "metadata": {},
   "outputs": [],
   "source": [
    "results = st.ttest_ind(sample_XOne, sample_PC, nan_policy='omit', equal_var = False)\n",
    "# воспользуемся методом для проверки гипотезы о равенстве среднего двух генеральных совокупностей по взятым из них выборкам\n",
    "# так как размер выборок разный, параметр equal_var укажем как False"
   ]
  },
  {
   "cell_type": "code",
   "execution_count": 62,
   "metadata": {},
   "outputs": [
    {
     "name": "stdout",
     "output_type": "stream",
     "text": [
      "p-значение:  0.2946308864003345\n",
      "Не получилось отвергнуть нулевую гипотезу\n"
     ]
    }
   ],
   "source": [
    "print('p-значение: ', results.pvalue)\n",
    "# выведем на экран получившееся p-значение\n",
    "\n",
    "if results.pvalue<alpha:\n",
    "    print('Нулевая гипотеза отвергается')\n",
    "else:\n",
    "    print('Не получилось отвергнуть нулевую гипотезу')\n",
    "# сравним получившееся p-значение с заданным уровнем статистической значимости"
   ]
  },
  {
   "cell_type": "markdown",
   "metadata": {},
   "source": [
    "#### Проверим гипотезу: Средние пользовательские рейтинги жанров Action (англ. «действие», экшен-игры) и Sports (англ. «спортивные соревнования») разные."
   ]
  },
  {
   "cell_type": "markdown",
   "metadata": {},
   "source": [
    "*H0:* Средние пользовательские рейтинги жанров Action и Sports одинаковые.  \n",
    "*H1:* Средние пользовательские рейтинги жанров Action и Sports различаются."
   ]
  },
  {
   "cell_type": "code",
   "execution_count": 63,
   "metadata": {},
   "outputs": [],
   "source": [
    "sample_action = games[(games['genre'] == 'Action') & (~games['user_score'].isna())]['user_score']\n",
    "# первая выборка будет содержать пользовательские оценки для игр на платформе XOne"
   ]
  },
  {
   "cell_type": "code",
   "execution_count": 64,
   "metadata": {},
   "outputs": [],
   "source": [
    "sample_sports = games[(games['genre'] == 'Sports') & (~games['user_score'].isna())]['user_score']\n",
    "# вторая выборка будет содержать пользовательские оценки для игр на платформе PC"
   ]
  },
  {
   "cell_type": "code",
   "execution_count": 65,
   "metadata": {},
   "outputs": [
    {
     "name": "stdout",
     "output_type": "stream",
     "text": [
      "Размер выборки sample_action: 193\n",
      "Размер выборки sample_sports: 82\n"
     ]
    }
   ],
   "source": [
    "print('Размер выборки sample_action:', len(sample_action))\n",
    "print('Размер выборки sample_sports:', len(sample_sports))"
   ]
  },
  {
   "cell_type": "code",
   "execution_count": 66,
   "metadata": {},
   "outputs": [],
   "source": [
    "alpha=0.05\n",
    "# критический уровень статистической значимости зададим 0.05\n",
    "# если p-value окажется меньше него - отвергнем гипотезу"
   ]
  },
  {
   "cell_type": "code",
   "execution_count": 67,
   "metadata": {},
   "outputs": [],
   "source": [
    "results = st.ttest_ind(sample_action, sample_sports, equal_var = False)\n",
    "# воспользуемся методом для проверки гипотезы о равенстве среднего двух генеральных совокупностей по взятым из них выборкам\n",
    "# так как размер выборок разный, параметр equal_var укажем как False"
   ]
  },
  {
   "cell_type": "code",
   "execution_count": 68,
   "metadata": {},
   "outputs": [
    {
     "name": "stdout",
     "output_type": "stream",
     "text": [
      "p-значение:  5.97163549920592e-10\n",
      "Нулевая гипотеза отвергается\n"
     ]
    }
   ],
   "source": [
    "print('p-значение: ', results.pvalue)\n",
    "# выведем на экран получившееся p-значение\n",
    "\n",
    "if results.pvalue<alpha:\n",
    "    print('Нулевая гипотеза отвергается')\n",
    "else:\n",
    "    print('Не получилось отвергнуть нулевую гипотезу')\n",
    "# сравним получившееся p-значение с заданным уровнем статистической значимости"
   ]
  },
  {
   "cell_type": "markdown",
   "metadata": {},
   "source": [
    "**Вывод:**\n",
    "1. Гипотеза о равенстве средних пользовательских рейтингов платформ Xbox One и PC подтвердилась;\n",
    "2. Гипотеза о различии средних пользовательских рейтингов жанров Action и Sports подтвердилась."
   ]
  },
  {
   "cell_type": "markdown",
   "metadata": {},
   "source": [
    "### Общий вывод"
   ]
  },
  {
   "cell_type": "markdown",
   "metadata": {},
   "source": [
    "1. Исходный датафрейм содержал данные о продажах игр, оценки пользователей и экспертов, жанры и платформы (например, Xbox или PlayStation) с 1980 по 2016 год.\n",
    "2. Была проведена **подготовка данных**:\n",
    "    * обработаны пропуски в столбцах `name`, `genre`, `year_of_release`.\n",
    "    * Изменен тип данных в столбцах `year_of_release` на int и `user_score` - на float.\n",
    "    * Обработаны строки, содержащие значения \"tbd\" в столбце `user_score` - значения заменены на \"NaN\"\n",
    "    * В столбце `rating` переименованы значения 3 игр с рейтингом \"K-A\", который теперь называется \"E\".\n",
    "3. Наиболее вероятные причины появления пропусков:  \n",
    "     * критики и пользователи оценивали не все игры;\n",
    "     * пропуски в столбце `rating` связаны с тем, что рейтинг ESRB появился в 1994, а данные содержатся с 1980 года\n",
    "4. Большая часть платформ уже устарела и игры на ней не выпускаются. В среднем платформы **появляются каждые 3-4 года** и **изчезают** приблизительно **через 7-8 лет**.\n",
    "5. Для прогноза рекламной кампании на 2017 год из исходного набора данных были выделены **актуальные данные - 2015-2016 гг.**, т.к. они включают в себя актуальные платформы на конец 2016 года, а также динамика продаж по платформам стабильная.\n",
    "6. По данным на 2015-2016 гг. у всех платформ отрицательная динамика продаж\n",
    "7. В качестве наиболее потенциально прибыльных платформ были **выбраны 6 платформ**:\n",
    "    * PS4\n",
    "    * XOne\n",
    "    * 3DS\n",
    "    * PC\n",
    "    * WiiU\n",
    "    * PSV\n",
    "8. Наборы данных по продажам за 2015-2016гг. практически по всем платформам имеют распределение скошенное вправо.  Следовательно, можем сделать вывод, что **наблюдается преобладание игр с небольшими продажами**. А популярность платформам приносят лишь несколько игр, продажи которых \"выстреливают\".\n",
    "9. **Медианные продажи** по каждой платформе **не превышают 0.2 млн копий**.  Однако практически на каждой платформе, а особенно на наиболее популярных, есть игры, суммарные продажи которых во много раз превышают медианные значения. Такие значения не удалены, т.к. они, скорее всего, обусловлены тем, что продажи некоторых игр \"выстрелили\".\n",
    "10. **Оценки критиков оказывают большее значение на продажи игр, чем оценки пользователей**.\n",
    "    * Для **наиболее популярных платформ**, таких как **PS4** и **XOne**, **корреляция продаж игр и оценок пользователей практически отсутствует**.  \n",
    "    * Для **менее популярных платформ** - **3DS**, **PC**, **корреляция продаж и оценок пользователей** положительная, но **слабая** - составляет около 0.2. Хотя стоит заметить, что и количество оценок в разы меньше, чем у PS4 и ХOne.  \n",
    "    * Для **PS4**, **XOne** и **PC** **корреляция продаж игр и оценок критиков умеренная** - около 0.4. Наблюдается средняя корреляция: выше оценки критиков - больше продаж игры.  \n",
    "    * Для **3DS** - **корреляция продаж и оценок критиков** также положительная, но **слабая**, в отличие от трех других платформ, и составляет 0.2.  \n",
    "11. **По количеству выпущенных игр** лидируют **экшн**, **ролевые игры** и **приключения**. **Наибольшей популярностью** (вывод по среднему количеству проданных копий) **пользуются** жанры **шутеры**, **спорт** и **ролевые игры**. Почти не пользуются популярностью **стратегии** и **пазл**.\n",
    "12. **Наиболее популярная платформа** во всех трех регионах - **PS4**. Она входит в топ-3 по каждому из регионов.\n",
    "13. **В Северной Америке наибольшей популярностью** пользуются платформы **PS4** (45% от суммарных продаж игр) и **XOne** (36%). Разница несущественная и связана с тем, что пользователи активно поддерживают платформу, выпущенную в родной стране - XOne.\n",
    "14. **В Европе наиболее популярные платформы** те же, что и в Северной Америке - **PS4, XOne**, однако разница уже существеннее - 62% у PS4 против 21% у XOne.\n",
    "15. **В Японии** настолько сильная поддержка \"родных\" платформ, что XOne нет даже в топ-5. А **самая популярная платформа** - **3DS** (Nintendo) - 44% от суммарных продаж игр приходится на ее долю. На втром месте расположилась PS4 c 23%.\n",
    "16. Вкусовые предпочтения у пользователей **Северной Америки** и **Европы** схожие: больше всего они предпочитают игры в жанрах **шутеры, экшн, спорт**. На эти три жанра прихолится порядка 80% проданных игр.\n",
    "17. **В Японии** самые популярные жанры - **экшн** (50% от суммарных продаж игр) и **ролевые игры** (29%). А шутеры и спорт, в отличие от Северной Америки и Европы, практически не пользуются популярностью.\n",
    "18. Популярность жанров экшн и ролевые игры в Японии связана с тем, что половина продаж приходится на игры, выпускаемые на самой популярной платформе - 3DS.  \n",
    "19. В **Северной Америке** и **Европе** влияение рейтинга от ESRB на продажи сопоставимое. **Наиболее высокие продажи** у игр с рейтингом **M - от 17 лет**. А **наименее низкие** продажи у игр с рейтингом **E10+ - от 10 лет**.\n",
    "20. По сравнению с Северной Америкой и Европой в **Японии** нет ощутимого влияния рейтинга на продажи. Однако небольшой перевес по суммарным продажам у игр с рейтингом **\"T - для тинейджеров\"**.\n",
    "21. Проведены проверки двусторонних гипотез:\n",
    "    * Гипотеза о равенстве средних пользовательских рейтингов платформ Xbox One и PC подтвердилась.\n",
    "    * Гипотеза о различии средних пользовательских рейтингов жанров Action и Sports подтвердилась.\n",
    "\n",
    "Для прогноза рекламной кампании на 2017 год **необходимо учитывать популярность платформ** в разных регионах, **предпочтения в жанрах** у пользователей каждого региона. Также необходимо учитывать, что в Северной Америке и Европе лучше всего продаются игры с рейтингом **\"М\"**."
   ]
  },
  {
   "cell_type": "code",
   "execution_count": null,
   "metadata": {},
   "outputs": [],
   "source": []
  },
  {
   "cell_type": "code",
   "execution_count": null,
   "metadata": {},
   "outputs": [],
   "source": []
  }
 ],
 "metadata": {
  "ExecuteTimeLog": [
   {
    "duration": 528,
    "start_time": "2022-11-01T08:23:12.864Z"
   },
   {
    "duration": 890,
    "start_time": "2022-11-01T08:24:24.012Z"
   },
   {
    "duration": 50,
    "start_time": "2022-11-01T08:24:25.444Z"
   },
   {
    "duration": 17,
    "start_time": "2022-11-01T08:24:31.395Z"
   },
   {
    "duration": 12,
    "start_time": "2022-11-01T08:24:52.214Z"
   },
   {
    "duration": 16,
    "start_time": "2022-11-01T08:24:56.736Z"
   },
   {
    "duration": 13,
    "start_time": "2022-11-01T08:25:04.896Z"
   },
   {
    "duration": 13,
    "start_time": "2022-11-01T08:25:17.226Z"
   },
   {
    "duration": 3,
    "start_time": "2022-11-01T08:39:03.257Z"
   },
   {
    "duration": 2,
    "start_time": "2022-11-01T08:39:26.778Z"
   },
   {
    "duration": 47,
    "start_time": "2022-11-01T08:40:42.196Z"
   },
   {
    "duration": 13,
    "start_time": "2022-11-01T08:40:42.749Z"
   },
   {
    "duration": 12,
    "start_time": "2022-11-01T08:40:44.092Z"
   },
   {
    "duration": 19,
    "start_time": "2022-11-01T08:41:25.815Z"
   },
   {
    "duration": 13,
    "start_time": "2022-11-01T08:41:27.527Z"
   },
   {
    "duration": 14,
    "start_time": "2022-11-01T08:41:47.028Z"
   },
   {
    "duration": 3,
    "start_time": "2022-11-01T08:43:09.259Z"
   },
   {
    "duration": 48,
    "start_time": "2022-11-01T08:43:09.613Z"
   },
   {
    "duration": 12,
    "start_time": "2022-11-01T08:43:10.034Z"
   },
   {
    "duration": 13,
    "start_time": "2022-11-01T08:43:10.381Z"
   },
   {
    "duration": 13,
    "start_time": "2022-11-01T08:43:10.705Z"
   },
   {
    "duration": 3,
    "start_time": "2022-11-01T12:25:39.687Z"
   },
   {
    "duration": 48,
    "start_time": "2022-11-01T12:25:39.841Z"
   },
   {
    "duration": 13,
    "start_time": "2022-11-01T12:25:40.005Z"
   },
   {
    "duration": 14,
    "start_time": "2022-11-01T12:25:40.156Z"
   },
   {
    "duration": 18,
    "start_time": "2022-11-01T12:25:40.326Z"
   },
   {
    "duration": 3,
    "start_time": "2022-11-01T12:29:08.286Z"
   },
   {
    "duration": 12,
    "start_time": "2022-11-01T12:29:13.704Z"
   },
   {
    "duration": 89,
    "start_time": "2022-11-01T12:29:26.482Z"
   },
   {
    "duration": 14,
    "start_time": "2022-11-01T12:29:26.778Z"
   },
   {
    "duration": 13,
    "start_time": "2022-11-01T12:30:06.029Z"
   },
   {
    "duration": 12,
    "start_time": "2022-11-01T12:30:06.775Z"
   },
   {
    "duration": 13,
    "start_time": "2022-11-01T12:30:13.305Z"
   },
   {
    "duration": 1116,
    "start_time": "2022-11-01T12:30:20.196Z"
   },
   {
    "duration": 51,
    "start_time": "2022-11-01T12:30:21.314Z"
   },
   {
    "duration": 17,
    "start_time": "2022-11-01T12:30:21.367Z"
   },
   {
    "duration": 14,
    "start_time": "2022-11-01T12:30:21.385Z"
   },
   {
    "duration": 17,
    "start_time": "2022-11-01T12:30:21.401Z"
   },
   {
    "duration": 3,
    "start_time": "2022-11-01T12:30:21.419Z"
   },
   {
    "duration": 19,
    "start_time": "2022-11-01T12:30:21.423Z"
   },
   {
    "duration": 91,
    "start_time": "2022-11-01T12:32:48.719Z"
   },
   {
    "duration": 7,
    "start_time": "2022-11-01T12:32:52.659Z"
   },
   {
    "duration": 13,
    "start_time": "2022-11-01T12:33:00.804Z"
   },
   {
    "duration": 13,
    "start_time": "2022-11-01T12:33:03.934Z"
   },
   {
    "duration": 13,
    "start_time": "2022-11-01T12:33:35.447Z"
   },
   {
    "duration": 13,
    "start_time": "2022-11-01T12:33:41.175Z"
   },
   {
    "duration": 21,
    "start_time": "2022-11-01T12:33:48.968Z"
   },
   {
    "duration": 12,
    "start_time": "2022-11-01T12:34:04.802Z"
   },
   {
    "duration": 12,
    "start_time": "2022-11-01T12:34:15.187Z"
   },
   {
    "duration": 8,
    "start_time": "2022-11-01T12:35:14.656Z"
   },
   {
    "duration": 6,
    "start_time": "2022-11-01T12:35:23.087Z"
   },
   {
    "duration": 8,
    "start_time": "2022-11-01T12:35:30.916Z"
   },
   {
    "duration": 3,
    "start_time": "2022-11-01T12:35:33.609Z"
   },
   {
    "duration": 9,
    "start_time": "2022-11-01T12:36:03.479Z"
   },
   {
    "duration": 955,
    "start_time": "2022-11-01T12:36:18.232Z"
   },
   {
    "duration": 911,
    "start_time": "2022-11-01T12:36:36.989Z"
   },
   {
    "duration": 9,
    "start_time": "2022-11-01T12:36:48.694Z"
   },
   {
    "duration": 1137,
    "start_time": "2022-11-01T12:36:54.505Z"
   },
   {
    "duration": 53,
    "start_time": "2022-11-01T12:36:55.644Z"
   },
   {
    "duration": 17,
    "start_time": "2022-11-01T12:36:55.699Z"
   },
   {
    "duration": 16,
    "start_time": "2022-11-01T12:36:55.719Z"
   },
   {
    "duration": 20,
    "start_time": "2022-11-01T12:36:55.737Z"
   },
   {
    "duration": 3,
    "start_time": "2022-11-01T12:36:55.759Z"
   },
   {
    "duration": 18,
    "start_time": "2022-11-01T12:36:55.764Z"
   },
   {
    "duration": 9,
    "start_time": "2022-11-01T12:36:55.784Z"
   },
   {
    "duration": 7,
    "start_time": "2022-11-01T12:39:51.370Z"
   },
   {
    "duration": 90,
    "start_time": "2022-11-01T12:43:28.896Z"
   },
   {
    "duration": 6,
    "start_time": "2022-11-01T12:43:33.065Z"
   },
   {
    "duration": 6,
    "start_time": "2022-11-01T12:45:11.453Z"
   },
   {
    "duration": 20,
    "start_time": "2022-11-01T12:45:22.781Z"
   },
   {
    "duration": 6,
    "start_time": "2022-11-01T12:45:30.479Z"
   },
   {
    "duration": 17,
    "start_time": "2022-11-01T12:45:46.970Z"
   },
   {
    "duration": 5,
    "start_time": "2022-11-01T12:46:01.392Z"
   },
   {
    "duration": 9,
    "start_time": "2022-11-01T12:46:06.225Z"
   },
   {
    "duration": 6,
    "start_time": "2022-11-01T12:46:30.587Z"
   },
   {
    "duration": 6,
    "start_time": "2022-11-01T12:46:34.723Z"
   },
   {
    "duration": 5,
    "start_time": "2022-11-01T12:46:42.637Z"
   },
   {
    "duration": 4,
    "start_time": "2022-11-01T12:47:06.452Z"
   },
   {
    "duration": 14,
    "start_time": "2022-11-01T12:47:14.506Z"
   },
   {
    "duration": 5,
    "start_time": "2022-11-01T12:47:51.588Z"
   },
   {
    "duration": 3,
    "start_time": "2022-11-01T12:48:02.180Z"
   },
   {
    "duration": 1035,
    "start_time": "2022-11-01T12:48:10.681Z"
   },
   {
    "duration": 50,
    "start_time": "2022-11-01T12:48:11.718Z"
   },
   {
    "duration": 20,
    "start_time": "2022-11-01T12:48:11.770Z"
   },
   {
    "duration": 14,
    "start_time": "2022-11-01T12:48:11.792Z"
   },
   {
    "duration": 16,
    "start_time": "2022-11-01T12:48:11.808Z"
   },
   {
    "duration": 3,
    "start_time": "2022-11-01T12:48:11.825Z"
   },
   {
    "duration": 22,
    "start_time": "2022-11-01T12:48:11.829Z"
   },
   {
    "duration": 5,
    "start_time": "2022-11-01T12:48:11.852Z"
   },
   {
    "duration": 6,
    "start_time": "2022-11-01T12:48:11.858Z"
   },
   {
    "duration": 8,
    "start_time": "2022-11-01T12:48:11.866Z"
   },
   {
    "duration": 17,
    "start_time": "2022-11-01T12:48:19.498Z"
   },
   {
    "duration": 4,
    "start_time": "2022-11-01T12:48:31.678Z"
   },
   {
    "duration": 4,
    "start_time": "2022-11-01T12:49:07.982Z"
   },
   {
    "duration": 5,
    "start_time": "2022-11-01T12:51:47.665Z"
   },
   {
    "duration": 3,
    "start_time": "2022-11-01T12:52:17.872Z"
   },
   {
    "duration": 12,
    "start_time": "2022-11-01T12:52:29.851Z"
   },
   {
    "duration": 12,
    "start_time": "2022-11-01T12:56:04.375Z"
   },
   {
    "duration": 15,
    "start_time": "2022-11-01T12:57:35.573Z"
   },
   {
    "duration": 5,
    "start_time": "2022-11-01T12:58:05.326Z"
   },
   {
    "duration": 7,
    "start_time": "2022-11-01T12:58:14.608Z"
   },
   {
    "duration": 6,
    "start_time": "2022-11-01T13:01:08.079Z"
   },
   {
    "duration": 95,
    "start_time": "2022-11-01T13:03:12.757Z"
   },
   {
    "duration": 295,
    "start_time": "2022-11-01T13:03:23.953Z"
   },
   {
    "duration": 1029,
    "start_time": "2022-11-01T13:04:09.153Z"
   },
   {
    "duration": 980,
    "start_time": "2022-11-01T13:04:14.354Z"
   },
   {
    "duration": 1059,
    "start_time": "2022-11-01T13:04:36.210Z"
   },
   {
    "duration": 1042,
    "start_time": "2022-11-01T13:04:45.912Z"
   },
   {
    "duration": 1111,
    "start_time": "2022-11-01T13:06:11.148Z"
   },
   {
    "duration": 211,
    "start_time": "2022-11-01T13:06:41.100Z"
   },
   {
    "duration": 1043,
    "start_time": "2022-11-01T13:06:53.163Z"
   },
   {
    "duration": 401,
    "start_time": "2022-11-01T13:07:09.636Z"
   },
   {
    "duration": 799,
    "start_time": "2022-11-01T13:07:21.908Z"
   },
   {
    "duration": 69,
    "start_time": "2022-11-01T13:09:01.114Z"
   },
   {
    "duration": 279,
    "start_time": "2022-11-01T13:09:10.413Z"
   },
   {
    "duration": 639,
    "start_time": "2022-11-01T13:11:45.971Z"
   },
   {
    "duration": 1274,
    "start_time": "2022-11-02T07:24:17.434Z"
   },
   {
    "duration": 94,
    "start_time": "2022-11-02T07:24:18.710Z"
   },
   {
    "duration": 17,
    "start_time": "2022-11-02T07:24:18.805Z"
   },
   {
    "duration": 28,
    "start_time": "2022-11-02T07:24:18.824Z"
   },
   {
    "duration": 25,
    "start_time": "2022-11-02T07:24:18.855Z"
   },
   {
    "duration": 3,
    "start_time": "2022-11-02T07:24:20.038Z"
   },
   {
    "duration": 6,
    "start_time": "2022-11-02T07:24:20.343Z"
   },
   {
    "duration": 5,
    "start_time": "2022-11-02T07:24:20.724Z"
   },
   {
    "duration": 4,
    "start_time": "2022-11-02T07:24:21.050Z"
   },
   {
    "duration": 7,
    "start_time": "2022-11-02T07:24:21.484Z"
   },
   {
    "duration": 616,
    "start_time": "2022-11-02T07:24:23.229Z"
   },
   {
    "duration": 12,
    "start_time": "2022-11-02T07:25:04.458Z"
   },
   {
    "duration": 101,
    "start_time": "2022-11-02T07:25:15.630Z"
   },
   {
    "duration": 13,
    "start_time": "2022-11-02T07:25:20.680Z"
   },
   {
    "duration": 8,
    "start_time": "2022-11-02T07:25:52.386Z"
   },
   {
    "duration": 17,
    "start_time": "2022-11-02T07:26:26.411Z"
   },
   {
    "duration": 12,
    "start_time": "2022-11-02T07:26:30.934Z"
   },
   {
    "duration": 13,
    "start_time": "2022-11-02T07:26:58.354Z"
   },
   {
    "duration": 7,
    "start_time": "2022-11-02T07:28:20.886Z"
   },
   {
    "duration": 13,
    "start_time": "2022-11-02T07:28:40.345Z"
   },
   {
    "duration": 1112,
    "start_time": "2022-11-02T07:28:53.706Z"
   },
   {
    "duration": 52,
    "start_time": "2022-11-02T07:28:54.821Z"
   },
   {
    "duration": 18,
    "start_time": "2022-11-02T07:28:54.875Z"
   },
   {
    "duration": 15,
    "start_time": "2022-11-02T07:28:54.895Z"
   },
   {
    "duration": 38,
    "start_time": "2022-11-02T07:28:54.913Z"
   },
   {
    "duration": 5,
    "start_time": "2022-11-02T07:28:54.953Z"
   },
   {
    "duration": 21,
    "start_time": "2022-11-02T07:28:54.960Z"
   },
   {
    "duration": 24,
    "start_time": "2022-11-02T07:28:54.983Z"
   },
   {
    "duration": 19,
    "start_time": "2022-11-02T07:28:55.009Z"
   },
   {
    "duration": 28,
    "start_time": "2022-11-02T07:28:55.029Z"
   },
   {
    "duration": 5,
    "start_time": "2022-11-02T07:28:55.058Z"
   },
   {
    "duration": 17,
    "start_time": "2022-11-02T07:28:55.065Z"
   },
   {
    "duration": 23,
    "start_time": "2022-11-02T07:28:55.084Z"
   },
   {
    "duration": 19,
    "start_time": "2022-11-02T07:28:55.110Z"
   },
   {
    "duration": 663,
    "start_time": "2022-11-02T07:28:55.130Z"
   },
   {
    "duration": 7,
    "start_time": "2022-11-02T07:28:55.794Z"
   },
   {
    "duration": 9,
    "start_time": "2022-11-02T07:29:22.724Z"
   },
   {
    "duration": 6,
    "start_time": "2022-11-02T07:29:57.152Z"
   },
   {
    "duration": 5,
    "start_time": "2022-11-02T07:31:29.586Z"
   },
   {
    "duration": 5,
    "start_time": "2022-11-02T07:31:30.294Z"
   },
   {
    "duration": 5,
    "start_time": "2022-11-02T07:31:36.435Z"
   },
   {
    "duration": 5,
    "start_time": "2022-11-02T07:31:37.826Z"
   },
   {
    "duration": 1032,
    "start_time": "2022-11-02T07:31:55.264Z"
   },
   {
    "duration": 51,
    "start_time": "2022-11-02T07:31:56.298Z"
   },
   {
    "duration": 17,
    "start_time": "2022-11-02T07:31:56.350Z"
   },
   {
    "duration": 13,
    "start_time": "2022-11-02T07:31:56.368Z"
   },
   {
    "duration": 14,
    "start_time": "2022-11-02T07:31:56.384Z"
   },
   {
    "duration": 22,
    "start_time": "2022-11-02T07:31:56.400Z"
   },
   {
    "duration": 7,
    "start_time": "2022-11-02T07:31:56.424Z"
   },
   {
    "duration": 11,
    "start_time": "2022-11-02T07:31:56.433Z"
   },
   {
    "duration": 7,
    "start_time": "2022-11-02T07:31:56.445Z"
   },
   {
    "duration": 5,
    "start_time": "2022-11-02T07:31:56.453Z"
   },
   {
    "duration": 6,
    "start_time": "2022-11-02T07:31:56.460Z"
   },
   {
    "duration": 4,
    "start_time": "2022-11-02T07:31:56.467Z"
   },
   {
    "duration": 7,
    "start_time": "2022-11-02T07:31:56.472Z"
   },
   {
    "duration": 684,
    "start_time": "2022-11-02T07:31:56.481Z"
   },
   {
    "duration": 6,
    "start_time": "2022-11-02T07:31:57.167Z"
   },
   {
    "duration": 9,
    "start_time": "2022-11-02T07:32:42.918Z"
   },
   {
    "duration": 95,
    "start_time": "2022-11-02T07:34:41.761Z"
   },
   {
    "duration": 5,
    "start_time": "2022-11-02T07:34:45.636Z"
   },
   {
    "duration": 124,
    "start_time": "2022-11-02T07:35:01.198Z"
   },
   {
    "duration": 134,
    "start_time": "2022-11-02T07:35:09.847Z"
   },
   {
    "duration": 134,
    "start_time": "2022-11-02T07:35:17.971Z"
   },
   {
    "duration": 146,
    "start_time": "2022-11-02T07:35:25.877Z"
   },
   {
    "duration": 220,
    "start_time": "2022-11-02T07:35:36.401Z"
   },
   {
    "duration": 148,
    "start_time": "2022-11-02T07:35:46.991Z"
   },
   {
    "duration": 135,
    "start_time": "2022-11-02T07:35:51.462Z"
   },
   {
    "duration": 151,
    "start_time": "2022-11-02T07:35:55.414Z"
   },
   {
    "duration": 5,
    "start_time": "2022-11-02T07:36:22.665Z"
   },
   {
    "duration": 147,
    "start_time": "2022-11-02T07:36:31.419Z"
   },
   {
    "duration": 4,
    "start_time": "2022-11-02T07:36:41.376Z"
   },
   {
    "duration": 4,
    "start_time": "2022-11-02T07:39:47.038Z"
   },
   {
    "duration": 4,
    "start_time": "2022-11-02T07:40:33.766Z"
   },
   {
    "duration": 153,
    "start_time": "2022-11-02T07:41:02.324Z"
   },
   {
    "duration": 20,
    "start_time": "2022-11-02T07:41:13.527Z"
   },
   {
    "duration": 10,
    "start_time": "2022-11-02T07:41:33.854Z"
   },
   {
    "duration": 20,
    "start_time": "2022-11-02T07:41:38.724Z"
   },
   {
    "duration": 26,
    "start_time": "2022-11-02T07:42:32.315Z"
   },
   {
    "duration": 27,
    "start_time": "2022-11-02T07:43:41.869Z"
   },
   {
    "duration": 17,
    "start_time": "2022-11-02T07:48:40.612Z"
   },
   {
    "duration": 52,
    "start_time": "2022-11-02T07:48:41.033Z"
   },
   {
    "duration": 47,
    "start_time": "2022-11-02T07:52:26.536Z"
   },
   {
    "duration": 9,
    "start_time": "2022-11-02T07:55:55.715Z"
   },
   {
    "duration": 3,
    "start_time": "2022-11-02T07:55:59.242Z"
   },
   {
    "duration": 8,
    "start_time": "2022-11-02T07:55:59.591Z"
   },
   {
    "duration": 6,
    "start_time": "2022-11-02T07:56:14.435Z"
   },
   {
    "duration": 5,
    "start_time": "2022-11-02T07:56:25.300Z"
   },
   {
    "duration": 5,
    "start_time": "2022-11-02T07:56:30.538Z"
   },
   {
    "duration": 6,
    "start_time": "2022-11-02T07:56:34.428Z"
   },
   {
    "duration": 5,
    "start_time": "2022-11-02T07:56:34.765Z"
   },
   {
    "duration": 8,
    "start_time": "2022-11-02T07:57:37.304Z"
   },
   {
    "duration": 4,
    "start_time": "2022-11-02T07:57:38.468Z"
   },
   {
    "duration": 4,
    "start_time": "2022-11-02T07:57:48.276Z"
   },
   {
    "duration": 6,
    "start_time": "2022-11-02T07:57:48.986Z"
   },
   {
    "duration": 4,
    "start_time": "2022-11-02T07:58:40.008Z"
   },
   {
    "duration": 4,
    "start_time": "2022-11-02T07:58:40.389Z"
   },
   {
    "duration": 5,
    "start_time": "2022-11-02T07:58:53.568Z"
   },
   {
    "duration": 8,
    "start_time": "2022-11-02T07:59:33.405Z"
   },
   {
    "duration": 7,
    "start_time": "2022-11-02T07:59:37.892Z"
   },
   {
    "duration": 15,
    "start_time": "2022-11-02T07:59:53.536Z"
   },
   {
    "duration": 7,
    "start_time": "2022-11-02T08:00:11.054Z"
   },
   {
    "duration": 12,
    "start_time": "2022-11-02T08:00:11.750Z"
   },
   {
    "duration": 6,
    "start_time": "2022-11-02T08:00:20.661Z"
   },
   {
    "duration": 12,
    "start_time": "2022-11-02T08:00:20.992Z"
   },
   {
    "duration": 4,
    "start_time": "2022-11-02T08:00:46.136Z"
   },
   {
    "duration": 80,
    "start_time": "2022-11-02T08:06:34.582Z"
   },
   {
    "duration": 6,
    "start_time": "2022-11-02T08:09:18.700Z"
   },
   {
    "duration": 101,
    "start_time": "2022-11-02T08:15:05.471Z"
   },
   {
    "duration": 5,
    "start_time": "2022-11-02T08:16:30.501Z"
   },
   {
    "duration": 6,
    "start_time": "2022-11-02T08:16:38.464Z"
   },
   {
    "duration": 4,
    "start_time": "2022-11-02T08:17:43.025Z"
   },
   {
    "duration": 1112,
    "start_time": "2022-11-02T09:45:11.210Z"
   },
   {
    "duration": 49,
    "start_time": "2022-11-02T09:45:12.324Z"
   },
   {
    "duration": 17,
    "start_time": "2022-11-02T09:45:12.375Z"
   },
   {
    "duration": 12,
    "start_time": "2022-11-02T09:45:12.394Z"
   },
   {
    "duration": 20,
    "start_time": "2022-11-02T09:45:12.407Z"
   },
   {
    "duration": 4,
    "start_time": "2022-11-02T09:45:12.429Z"
   },
   {
    "duration": 23,
    "start_time": "2022-11-02T09:45:12.434Z"
   },
   {
    "duration": 26,
    "start_time": "2022-11-02T09:45:12.459Z"
   },
   {
    "duration": 12,
    "start_time": "2022-11-02T09:45:12.487Z"
   },
   {
    "duration": 7,
    "start_time": "2022-11-02T09:45:12.502Z"
   },
   {
    "duration": 8,
    "start_time": "2022-11-02T09:45:12.511Z"
   },
   {
    "duration": 4,
    "start_time": "2022-11-02T09:45:12.522Z"
   },
   {
    "duration": 16,
    "start_time": "2022-11-02T09:45:12.527Z"
   },
   {
    "duration": 25,
    "start_time": "2022-11-02T09:45:12.545Z"
   },
   {
    "duration": 5,
    "start_time": "2022-11-02T09:45:12.571Z"
   },
   {
    "duration": 14,
    "start_time": "2022-11-02T09:45:12.577Z"
   },
   {
    "duration": 7,
    "start_time": "2022-11-02T09:45:12.592Z"
   },
   {
    "duration": 8,
    "start_time": "2022-11-02T09:45:12.600Z"
   },
   {
    "duration": 13,
    "start_time": "2022-11-02T09:45:12.609Z"
   },
   {
    "duration": 11,
    "start_time": "2022-11-02T09:46:12.386Z"
   },
   {
    "duration": 17,
    "start_time": "2022-11-02T09:46:49.070Z"
   },
   {
    "duration": 15,
    "start_time": "2022-11-02T09:47:02.021Z"
   },
   {
    "duration": 12,
    "start_time": "2022-11-02T09:47:06.920Z"
   },
   {
    "duration": 13,
    "start_time": "2022-11-02T09:47:11.357Z"
   },
   {
    "duration": 14,
    "start_time": "2022-11-02T09:47:14.945Z"
   },
   {
    "duration": 17,
    "start_time": "2022-11-02T09:47:34.792Z"
   },
   {
    "duration": 7,
    "start_time": "2022-11-02T09:47:54.126Z"
   },
   {
    "duration": 102,
    "start_time": "2022-11-02T09:48:13.606Z"
   },
   {
    "duration": 10,
    "start_time": "2022-11-02T09:48:16.291Z"
   },
   {
    "duration": 8,
    "start_time": "2022-11-02T09:48:20.630Z"
   },
   {
    "duration": 6,
    "start_time": "2022-11-02T09:48:27.884Z"
   },
   {
    "duration": 11,
    "start_time": "2022-11-02T09:48:39.403Z"
   },
   {
    "duration": 10,
    "start_time": "2022-11-02T09:48:42.189Z"
   },
   {
    "duration": 5,
    "start_time": "2022-11-02T09:48:46.176Z"
   },
   {
    "duration": 11,
    "start_time": "2022-11-02T09:48:50.869Z"
   },
   {
    "duration": 18,
    "start_time": "2022-11-02T09:49:26.881Z"
   },
   {
    "duration": 11,
    "start_time": "2022-11-02T09:49:54.192Z"
   },
   {
    "duration": 30,
    "start_time": "2022-11-02T09:49:57.338Z"
   },
   {
    "duration": 29,
    "start_time": "2022-11-02T09:50:45.173Z"
   },
   {
    "duration": 88,
    "start_time": "2022-11-02T09:51:27.797Z"
   },
   {
    "duration": 19,
    "start_time": "2022-11-02T09:51:45.353Z"
   },
   {
    "duration": 18,
    "start_time": "2022-11-02T09:51:52.454Z"
   },
   {
    "duration": 8,
    "start_time": "2022-11-02T09:52:18.634Z"
   },
   {
    "duration": 7,
    "start_time": "2022-11-02T09:52:46.859Z"
   },
   {
    "duration": 987,
    "start_time": "2022-11-02T09:54:21.680Z"
   },
   {
    "duration": 19,
    "start_time": "2022-11-02T09:54:25.670Z"
   },
   {
    "duration": 13,
    "start_time": "2022-11-02T09:54:45.173Z"
   },
   {
    "duration": 12,
    "start_time": "2022-11-02T09:55:25.580Z"
   },
   {
    "duration": 6,
    "start_time": "2022-11-02T09:57:55.588Z"
   },
   {
    "duration": 6,
    "start_time": "2022-11-02T09:57:58.899Z"
   },
   {
    "duration": 4,
    "start_time": "2022-11-02T09:58:29.185Z"
   },
   {
    "duration": 6,
    "start_time": "2022-11-02T10:14:59.318Z"
   },
   {
    "duration": 4,
    "start_time": "2022-11-02T10:15:08.786Z"
   },
   {
    "duration": 4,
    "start_time": "2022-11-02T10:15:12.307Z"
   },
   {
    "duration": 13,
    "start_time": "2022-11-02T10:15:19.190Z"
   },
   {
    "duration": 12,
    "start_time": "2022-11-02T10:15:29.231Z"
   },
   {
    "duration": 4,
    "start_time": "2022-11-02T10:16:00.854Z"
   },
   {
    "duration": 6,
    "start_time": "2022-11-02T10:16:45.549Z"
   },
   {
    "duration": 6,
    "start_time": "2022-11-02T10:17:23.976Z"
   },
   {
    "duration": 5,
    "start_time": "2022-11-02T10:17:38.873Z"
   },
   {
    "duration": 6,
    "start_time": "2022-11-02T10:17:50.420Z"
   },
   {
    "duration": 4,
    "start_time": "2022-11-02T10:18:22.545Z"
   },
   {
    "duration": 6,
    "start_time": "2022-11-02T10:18:42.096Z"
   },
   {
    "duration": 8,
    "start_time": "2022-11-02T10:19:07.509Z"
   },
   {
    "duration": 6,
    "start_time": "2022-11-02T10:19:17.361Z"
   },
   {
    "duration": 4,
    "start_time": "2022-11-02T10:19:18.807Z"
   },
   {
    "duration": 15,
    "start_time": "2022-11-02T10:19:18.813Z"
   },
   {
    "duration": 27,
    "start_time": "2022-11-02T10:19:18.830Z"
   },
   {
    "duration": 14,
    "start_time": "2022-11-02T10:19:19.458Z"
   },
   {
    "duration": 4,
    "start_time": "2022-11-02T10:19:19.474Z"
   },
   {
    "duration": 15,
    "start_time": "2022-11-02T10:19:19.479Z"
   },
   {
    "duration": 32,
    "start_time": "2022-11-02T10:19:20.100Z"
   },
   {
    "duration": 12,
    "start_time": "2022-11-02T10:19:20.241Z"
   },
   {
    "duration": 4,
    "start_time": "2022-11-02T10:19:21.023Z"
   },
   {
    "duration": 184,
    "start_time": "2022-11-02T10:33:56.052Z"
   },
   {
    "duration": 155,
    "start_time": "2022-11-02T10:34:04.892Z"
   },
   {
    "duration": 186,
    "start_time": "2022-11-02T10:34:21.510Z"
   },
   {
    "duration": 164,
    "start_time": "2022-11-02T10:34:28.335Z"
   },
   {
    "duration": 5,
    "start_time": "2022-11-02T10:41:03.844Z"
   },
   {
    "duration": 11,
    "start_time": "2022-11-02T10:42:36.579Z"
   },
   {
    "duration": 9,
    "start_time": "2022-11-02T10:43:09.405Z"
   },
   {
    "duration": 7,
    "start_time": "2022-11-02T10:43:35.287Z"
   },
   {
    "duration": 1218,
    "start_time": "2022-11-02T12:32:26.363Z"
   },
   {
    "duration": 85,
    "start_time": "2022-11-02T12:32:27.583Z"
   },
   {
    "duration": 15,
    "start_time": "2022-11-02T12:32:27.670Z"
   },
   {
    "duration": 12,
    "start_time": "2022-11-02T12:32:27.687Z"
   },
   {
    "duration": 14,
    "start_time": "2022-11-02T12:32:27.700Z"
   },
   {
    "duration": 3,
    "start_time": "2022-11-02T12:32:27.715Z"
   },
   {
    "duration": 10,
    "start_time": "2022-11-02T12:32:27.719Z"
   },
   {
    "duration": 13,
    "start_time": "2022-11-02T12:32:27.730Z"
   },
   {
    "duration": 7,
    "start_time": "2022-11-02T12:32:27.744Z"
   },
   {
    "duration": 5,
    "start_time": "2022-11-02T12:32:27.754Z"
   },
   {
    "duration": 8,
    "start_time": "2022-11-02T12:32:27.761Z"
   },
   {
    "duration": 3,
    "start_time": "2022-11-02T12:32:27.770Z"
   },
   {
    "duration": 30,
    "start_time": "2022-11-02T12:32:27.774Z"
   },
   {
    "duration": 22,
    "start_time": "2022-11-02T12:32:27.805Z"
   },
   {
    "duration": 3,
    "start_time": "2022-11-02T12:32:27.829Z"
   },
   {
    "duration": 7,
    "start_time": "2022-11-02T12:32:27.834Z"
   },
   {
    "duration": 12,
    "start_time": "2022-11-02T12:32:27.842Z"
   },
   {
    "duration": 8,
    "start_time": "2022-11-02T12:32:27.855Z"
   },
   {
    "duration": 8,
    "start_time": "2022-11-02T12:32:27.864Z"
   },
   {
    "duration": 6,
    "start_time": "2022-11-02T12:32:27.873Z"
   },
   {
    "duration": 21,
    "start_time": "2022-11-02T12:32:27.880Z"
   },
   {
    "duration": 16,
    "start_time": "2022-11-02T12:32:27.902Z"
   },
   {
    "duration": 12,
    "start_time": "2022-11-02T12:32:27.919Z"
   },
   {
    "duration": 4,
    "start_time": "2022-11-02T12:32:27.933Z"
   },
   {
    "duration": 13,
    "start_time": "2022-11-02T12:32:27.938Z"
   },
   {
    "duration": 31,
    "start_time": "2022-11-02T12:32:27.952Z"
   },
   {
    "duration": 24,
    "start_time": "2022-11-02T12:32:27.985Z"
   },
   {
    "duration": 3,
    "start_time": "2022-11-02T12:32:28.012Z"
   },
   {
    "duration": 174,
    "start_time": "2022-11-02T12:32:28.017Z"
   },
   {
    "duration": 13,
    "start_time": "2022-11-02T12:32:28.192Z"
   },
   {
    "duration": 53,
    "start_time": "2022-11-02T12:34:34.500Z"
   },
   {
    "duration": 47,
    "start_time": "2022-11-02T12:34:46.416Z"
   },
   {
    "duration": 13,
    "start_time": "2022-11-02T12:34:51.187Z"
   },
   {
    "duration": 12,
    "start_time": "2022-11-02T12:34:59.625Z"
   },
   {
    "duration": 554,
    "start_time": "2022-11-02T12:36:20.589Z"
   },
   {
    "duration": 5,
    "start_time": "2022-11-02T12:37:00.885Z"
   },
   {
    "duration": 6,
    "start_time": "2022-11-02T12:37:08.623Z"
   },
   {
    "duration": 585,
    "start_time": "2022-11-02T12:37:31.314Z"
   },
   {
    "duration": 451,
    "start_time": "2022-11-02T12:37:48.023Z"
   },
   {
    "duration": 2245,
    "start_time": "2022-11-02T12:39:45.409Z"
   },
   {
    "duration": 452,
    "start_time": "2022-11-02T12:40:02.067Z"
   },
   {
    "duration": 444,
    "start_time": "2022-11-02T12:40:14.192Z"
   },
   {
    "duration": 462,
    "start_time": "2022-11-02T12:40:22.313Z"
   },
   {
    "duration": 443,
    "start_time": "2022-11-02T12:40:35.330Z"
   },
   {
    "duration": 602,
    "start_time": "2022-11-02T12:40:41.498Z"
   },
   {
    "duration": 459,
    "start_time": "2022-11-02T12:40:48.768Z"
   },
   {
    "duration": 149,
    "start_time": "2022-11-02T12:47:02.424Z"
   },
   {
    "duration": 8,
    "start_time": "2022-11-02T12:47:53.590Z"
   },
   {
    "duration": 8,
    "start_time": "2022-11-02T12:48:06.032Z"
   },
   {
    "duration": 8,
    "start_time": "2022-11-02T12:48:10.119Z"
   },
   {
    "duration": 89,
    "start_time": "2022-11-02T12:50:25.532Z"
   },
   {
    "duration": 6,
    "start_time": "2022-11-02T12:50:29.786Z"
   },
   {
    "duration": 6,
    "start_time": "2022-11-02T12:50:36.630Z"
   },
   {
    "duration": 7,
    "start_time": "2022-11-02T12:51:14.636Z"
   },
   {
    "duration": 7,
    "start_time": "2022-11-02T12:55:48.043Z"
   },
   {
    "duration": 6,
    "start_time": "2022-11-02T12:59:34.062Z"
   },
   {
    "duration": 130,
    "start_time": "2022-11-02T12:59:44.090Z"
   },
   {
    "duration": 168,
    "start_time": "2022-11-02T13:00:10.483Z"
   },
   {
    "duration": 164,
    "start_time": "2022-11-02T13:00:33.875Z"
   },
   {
    "duration": 8,
    "start_time": "2022-11-02T13:02:11.566Z"
   },
   {
    "duration": 8,
    "start_time": "2022-11-02T13:02:44.515Z"
   },
   {
    "duration": 4,
    "start_time": "2022-11-02T13:03:37.116Z"
   },
   {
    "duration": 9,
    "start_time": "2022-11-02T13:06:00.475Z"
   },
   {
    "duration": 295,
    "start_time": "2022-11-02T13:06:14.186Z"
   },
   {
    "duration": 15,
    "start_time": "2022-11-02T13:14:41.757Z"
   },
   {
    "duration": 1042,
    "start_time": "2022-11-02T13:15:15.912Z"
   },
   {
    "duration": 47,
    "start_time": "2022-11-02T13:15:16.955Z"
   },
   {
    "duration": 16,
    "start_time": "2022-11-02T13:15:17.004Z"
   },
   {
    "duration": 15,
    "start_time": "2022-11-02T13:15:17.022Z"
   },
   {
    "duration": 14,
    "start_time": "2022-11-02T13:15:17.038Z"
   },
   {
    "duration": 3,
    "start_time": "2022-11-02T13:15:17.053Z"
   },
   {
    "duration": 9,
    "start_time": "2022-11-02T13:15:17.057Z"
   },
   {
    "duration": 34,
    "start_time": "2022-11-02T13:15:17.067Z"
   },
   {
    "duration": 5,
    "start_time": "2022-11-02T13:15:17.103Z"
   },
   {
    "duration": 9,
    "start_time": "2022-11-02T13:15:17.110Z"
   },
   {
    "duration": 5,
    "start_time": "2022-11-02T13:15:17.121Z"
   },
   {
    "duration": 5,
    "start_time": "2022-11-02T13:15:17.127Z"
   },
   {
    "duration": 6,
    "start_time": "2022-11-02T13:15:17.134Z"
   },
   {
    "duration": 25,
    "start_time": "2022-11-02T13:15:17.142Z"
   },
   {
    "duration": 4,
    "start_time": "2022-11-02T13:15:17.168Z"
   },
   {
    "duration": 29,
    "start_time": "2022-11-02T13:15:17.174Z"
   },
   {
    "duration": 13,
    "start_time": "2022-11-02T13:15:17.204Z"
   },
   {
    "duration": 10,
    "start_time": "2022-11-02T13:15:17.218Z"
   },
   {
    "duration": 11,
    "start_time": "2022-11-02T13:15:17.229Z"
   },
   {
    "duration": 13,
    "start_time": "2022-11-02T13:15:17.242Z"
   },
   {
    "duration": 8,
    "start_time": "2022-11-02T13:15:17.256Z"
   },
   {
    "duration": 15,
    "start_time": "2022-11-02T13:15:17.266Z"
   },
   {
    "duration": 13,
    "start_time": "2022-11-02T13:15:17.283Z"
   },
   {
    "duration": 4,
    "start_time": "2022-11-02T13:15:17.301Z"
   },
   {
    "duration": 18,
    "start_time": "2022-11-02T13:15:17.307Z"
   },
   {
    "duration": 36,
    "start_time": "2022-11-02T13:15:17.327Z"
   },
   {
    "duration": 13,
    "start_time": "2022-11-02T13:15:17.365Z"
   },
   {
    "duration": 4,
    "start_time": "2022-11-02T13:15:17.381Z"
   },
   {
    "duration": 177,
    "start_time": "2022-11-02T13:15:17.400Z"
   },
   {
    "duration": 8,
    "start_time": "2022-11-02T13:15:17.579Z"
   },
   {
    "duration": 298,
    "start_time": "2022-11-02T13:15:17.589Z"
   },
   {
    "duration": 98,
    "start_time": "2022-11-02T13:15:17.889Z"
   },
   {
    "duration": 13,
    "start_time": "2022-11-02T13:15:34.891Z"
   },
   {
    "duration": 20,
    "start_time": "2022-11-02T13:15:39.728Z"
   },
   {
    "duration": 22,
    "start_time": "2022-11-02T13:15:48.027Z"
   },
   {
    "duration": 6,
    "start_time": "2022-11-02T13:15:56.373Z"
   },
   {
    "duration": 10,
    "start_time": "2022-11-02T13:16:01.854Z"
   },
   {
    "duration": 5,
    "start_time": "2022-11-02T13:18:07.159Z"
   },
   {
    "duration": 249,
    "start_time": "2022-11-02T13:20:36.780Z"
   },
   {
    "duration": 728,
    "start_time": "2022-11-02T13:21:05.089Z"
   },
   {
    "duration": 255,
    "start_time": "2022-11-02T13:21:15.015Z"
   },
   {
    "duration": 51,
    "start_time": "2022-11-02T13:25:35.204Z"
   },
   {
    "duration": 13,
    "start_time": "2022-11-02T13:25:39.087Z"
   },
   {
    "duration": 21,
    "start_time": "2022-11-02T13:25:52.248Z"
   },
   {
    "duration": 57,
    "start_time": "2022-11-02T13:26:28.516Z"
   },
   {
    "duration": 99,
    "start_time": "2022-11-02T13:26:32.610Z"
   },
   {
    "duration": 93,
    "start_time": "2022-11-02T13:26:46.440Z"
   },
   {
    "duration": 40,
    "start_time": "2022-11-02T13:28:25.019Z"
   },
   {
    "duration": 198,
    "start_time": "2022-11-02T13:28:30.577Z"
   },
   {
    "duration": 20,
    "start_time": "2022-11-02T13:29:05.350Z"
   },
   {
    "duration": 3,
    "start_time": "2022-11-02T13:29:26.731Z"
   },
   {
    "duration": 126,
    "start_time": "2022-11-02T13:29:27.851Z"
   },
   {
    "duration": 115,
    "start_time": "2022-11-02T13:29:49.243Z"
   },
   {
    "duration": 121,
    "start_time": "2022-11-02T13:30:18.260Z"
   },
   {
    "duration": 130,
    "start_time": "2022-11-02T13:31:02.724Z"
   },
   {
    "duration": 134,
    "start_time": "2022-11-02T13:31:08.033Z"
   },
   {
    "duration": 230,
    "start_time": "2022-11-02T13:31:16.146Z"
   },
   {
    "duration": 32,
    "start_time": "2022-11-02T13:35:41.413Z"
   },
   {
    "duration": 755,
    "start_time": "2022-11-02T13:35:52.149Z"
   },
   {
    "duration": 6,
    "start_time": "2022-11-02T13:35:57.505Z"
   },
   {
    "duration": 20,
    "start_time": "2022-11-02T13:42:34.045Z"
   },
   {
    "duration": 7,
    "start_time": "2022-11-02T13:42:41.850Z"
   },
   {
    "duration": 13,
    "start_time": "2022-11-02T13:42:59.007Z"
   },
   {
    "duration": 7,
    "start_time": "2022-11-02T13:43:10.689Z"
   },
   {
    "duration": 6,
    "start_time": "2022-11-02T13:43:27.631Z"
   },
   {
    "duration": 7,
    "start_time": "2022-11-02T13:44:31.872Z"
   },
   {
    "duration": 6,
    "start_time": "2022-11-02T13:44:49.743Z"
   },
   {
    "duration": 6,
    "start_time": "2022-11-02T13:45:05.834Z"
   },
   {
    "duration": 8,
    "start_time": "2022-11-02T13:45:26.663Z"
   },
   {
    "duration": 140,
    "start_time": "2022-11-02T13:51:15.442Z"
   },
   {
    "duration": 130,
    "start_time": "2022-11-02T13:51:59.401Z"
   },
   {
    "duration": 142,
    "start_time": "2022-11-02T13:52:06.269Z"
   },
   {
    "duration": 124,
    "start_time": "2022-11-02T13:52:29.331Z"
   },
   {
    "duration": 126,
    "start_time": "2022-11-02T13:52:34.947Z"
   },
   {
    "duration": 135,
    "start_time": "2022-11-02T13:52:38.870Z"
   },
   {
    "duration": 139,
    "start_time": "2022-11-02T13:52:45.157Z"
   },
   {
    "duration": 127,
    "start_time": "2022-11-02T13:52:51.663Z"
   },
   {
    "duration": 120,
    "start_time": "2022-11-02T13:53:44.673Z"
   },
   {
    "duration": 123,
    "start_time": "2022-11-02T13:54:01.574Z"
   },
   {
    "duration": 125,
    "start_time": "2022-11-02T13:54:05.653Z"
   },
   {
    "duration": 129,
    "start_time": "2022-11-02T13:54:53.702Z"
   },
   {
    "duration": 213,
    "start_time": "2022-11-02T13:55:00.810Z"
   },
   {
    "duration": 128,
    "start_time": "2022-11-02T13:55:06.608Z"
   },
   {
    "duration": 122,
    "start_time": "2022-11-02T13:55:16.655Z"
   },
   {
    "duration": 133,
    "start_time": "2022-11-02T13:55:51.891Z"
   },
   {
    "duration": 130,
    "start_time": "2022-11-02T13:56:45.259Z"
   },
   {
    "duration": 125,
    "start_time": "2022-11-02T13:56:57.933Z"
   },
   {
    "duration": 141,
    "start_time": "2022-11-02T13:57:49.287Z"
   },
   {
    "duration": 143,
    "start_time": "2022-11-02T13:58:03.332Z"
   },
   {
    "duration": 129,
    "start_time": "2022-11-02T13:58:06.076Z"
   },
   {
    "duration": 4,
    "start_time": "2022-11-02T13:58:40.397Z"
   },
   {
    "duration": 149,
    "start_time": "2022-11-02T13:58:44.621Z"
   },
   {
    "duration": 132,
    "start_time": "2022-11-02T13:59:02.809Z"
   },
   {
    "duration": 122,
    "start_time": "2022-11-02T13:59:49.189Z"
   },
   {
    "duration": 125,
    "start_time": "2022-11-02T14:00:05.864Z"
   },
   {
    "duration": 252,
    "start_time": "2022-11-02T14:00:33.975Z"
   },
   {
    "duration": 149,
    "start_time": "2022-11-02T14:00:57.312Z"
   },
   {
    "duration": 147,
    "start_time": "2022-11-02T14:01:10.993Z"
   },
   {
    "duration": 143,
    "start_time": "2022-11-02T14:01:18.377Z"
   },
   {
    "duration": 131,
    "start_time": "2022-11-02T14:01:59.195Z"
   },
   {
    "duration": 118,
    "start_time": "2022-11-02T14:02:07.800Z"
   },
   {
    "duration": 7,
    "start_time": "2022-11-02T14:13:01.629Z"
   },
   {
    "duration": 9,
    "start_time": "2022-11-02T14:13:20.240Z"
   },
   {
    "duration": 7,
    "start_time": "2022-11-02T14:16:30.086Z"
   },
   {
    "duration": 6,
    "start_time": "2022-11-02T14:17:38.128Z"
   },
   {
    "duration": 7,
    "start_time": "2022-11-02T14:17:48.175Z"
   },
   {
    "duration": 1284,
    "start_time": "2022-11-02T17:30:24.168Z"
   },
   {
    "duration": 177,
    "start_time": "2022-11-02T17:30:25.454Z"
   },
   {
    "duration": 16,
    "start_time": "2022-11-02T17:30:25.633Z"
   },
   {
    "duration": 16,
    "start_time": "2022-11-02T17:30:25.651Z"
   },
   {
    "duration": 15,
    "start_time": "2022-11-02T17:30:25.669Z"
   },
   {
    "duration": 3,
    "start_time": "2022-11-02T17:30:25.686Z"
   },
   {
    "duration": 13,
    "start_time": "2022-11-02T17:30:25.691Z"
   },
   {
    "duration": 21,
    "start_time": "2022-11-02T17:30:25.706Z"
   },
   {
    "duration": 7,
    "start_time": "2022-11-02T17:30:25.729Z"
   },
   {
    "duration": 6,
    "start_time": "2022-11-02T17:30:25.738Z"
   },
   {
    "duration": 7,
    "start_time": "2022-11-02T17:30:25.745Z"
   },
   {
    "duration": 7,
    "start_time": "2022-11-02T17:30:25.753Z"
   },
   {
    "duration": 9,
    "start_time": "2022-11-02T17:30:25.762Z"
   },
   {
    "duration": 25,
    "start_time": "2022-11-02T17:30:25.772Z"
   },
   {
    "duration": 5,
    "start_time": "2022-11-02T17:30:25.799Z"
   },
   {
    "duration": 21,
    "start_time": "2022-11-02T17:30:25.805Z"
   },
   {
    "duration": 12,
    "start_time": "2022-11-02T17:30:25.828Z"
   },
   {
    "duration": 12,
    "start_time": "2022-11-02T17:30:25.841Z"
   },
   {
    "duration": 7,
    "start_time": "2022-11-02T17:30:25.854Z"
   },
   {
    "duration": 11,
    "start_time": "2022-11-02T17:30:25.863Z"
   },
   {
    "duration": 21,
    "start_time": "2022-11-02T17:30:25.876Z"
   },
   {
    "duration": 31,
    "start_time": "2022-11-02T17:30:25.899Z"
   },
   {
    "duration": 34,
    "start_time": "2022-11-02T17:30:25.932Z"
   },
   {
    "duration": 6,
    "start_time": "2022-11-02T17:30:25.968Z"
   },
   {
    "duration": 17,
    "start_time": "2022-11-02T17:30:25.976Z"
   },
   {
    "duration": 57,
    "start_time": "2022-11-02T17:30:25.995Z"
   },
   {
    "duration": 16,
    "start_time": "2022-11-02T17:30:26.054Z"
   },
   {
    "duration": 22,
    "start_time": "2022-11-02T17:30:26.074Z"
   },
   {
    "duration": 237,
    "start_time": "2022-11-02T17:30:26.098Z"
   },
   {
    "duration": 9,
    "start_time": "2022-11-02T17:30:26.336Z"
   },
   {
    "duration": 306,
    "start_time": "2022-11-02T17:30:26.346Z"
   },
   {
    "duration": 7,
    "start_time": "2022-11-02T17:30:26.654Z"
   },
   {
    "duration": 269,
    "start_time": "2022-11-02T17:30:26.662Z"
   },
   {
    "duration": 4,
    "start_time": "2022-11-02T17:30:26.933Z"
   },
   {
    "duration": 159,
    "start_time": "2022-11-02T17:30:26.938Z"
   },
   {
    "duration": 148,
    "start_time": "2022-11-02T17:30:27.098Z"
   },
   {
    "duration": 146,
    "start_time": "2022-11-02T17:30:27.248Z"
   },
   {
    "duration": 135,
    "start_time": "2022-11-02T17:30:27.395Z"
   },
   {
    "duration": 202,
    "start_time": "2022-11-02T17:30:27.531Z"
   },
   {
    "duration": 180,
    "start_time": "2022-11-02T17:30:27.735Z"
   },
   {
    "duration": 130,
    "start_time": "2022-11-02T17:30:27.916Z"
   },
   {
    "duration": 6,
    "start_time": "2022-11-02T17:30:28.047Z"
   },
   {
    "duration": 8,
    "start_time": "2022-11-02T17:30:28.054Z"
   },
   {
    "duration": 7,
    "start_time": "2022-11-02T17:31:49.084Z"
   },
   {
    "duration": 6,
    "start_time": "2022-11-02T17:32:40.514Z"
   },
   {
    "duration": 211,
    "start_time": "2022-11-02T17:32:41.827Z"
   },
   {
    "duration": 4,
    "start_time": "2022-11-02T17:32:51.257Z"
   },
   {
    "duration": 171,
    "start_time": "2022-11-02T17:32:56.279Z"
   },
   {
    "duration": 132,
    "start_time": "2022-11-02T17:33:18.622Z"
   },
   {
    "duration": 154,
    "start_time": "2022-11-02T17:33:20.795Z"
   },
   {
    "duration": 134,
    "start_time": "2022-11-02T17:33:23.339Z"
   },
   {
    "duration": 140,
    "start_time": "2022-11-02T17:33:34.961Z"
   },
   {
    "duration": 145,
    "start_time": "2022-11-02T17:33:35.612Z"
   },
   {
    "duration": 6,
    "start_time": "2022-11-02T17:33:44.119Z"
   },
   {
    "duration": 8,
    "start_time": "2022-11-02T17:33:47.854Z"
   },
   {
    "duration": 4,
    "start_time": "2022-11-02T17:35:40.587Z"
   },
   {
    "duration": 6,
    "start_time": "2022-11-02T17:35:50.621Z"
   },
   {
    "duration": 1095,
    "start_time": "2022-11-02T17:36:01.994Z"
   },
   {
    "duration": 51,
    "start_time": "2022-11-02T17:36:03.091Z"
   },
   {
    "duration": 16,
    "start_time": "2022-11-02T17:36:03.143Z"
   },
   {
    "duration": 31,
    "start_time": "2022-11-02T17:36:03.161Z"
   },
   {
    "duration": 38,
    "start_time": "2022-11-02T17:36:03.193Z"
   },
   {
    "duration": 14,
    "start_time": "2022-11-02T17:36:03.233Z"
   },
   {
    "duration": 26,
    "start_time": "2022-11-02T17:36:03.248Z"
   },
   {
    "duration": 33,
    "start_time": "2022-11-02T17:36:03.275Z"
   },
   {
    "duration": 27,
    "start_time": "2022-11-02T17:36:03.310Z"
   },
   {
    "duration": 42,
    "start_time": "2022-11-02T17:36:03.340Z"
   },
   {
    "duration": 11,
    "start_time": "2022-11-02T17:36:03.384Z"
   },
   {
    "duration": 27,
    "start_time": "2022-11-02T17:36:03.397Z"
   },
   {
    "duration": 8,
    "start_time": "2022-11-02T17:36:03.425Z"
   },
   {
    "duration": 22,
    "start_time": "2022-11-02T17:36:03.434Z"
   },
   {
    "duration": 7,
    "start_time": "2022-11-02T17:36:03.458Z"
   },
   {
    "duration": 15,
    "start_time": "2022-11-02T17:36:03.466Z"
   },
   {
    "duration": 22,
    "start_time": "2022-11-02T17:36:03.483Z"
   },
   {
    "duration": 29,
    "start_time": "2022-11-02T17:36:03.507Z"
   },
   {
    "duration": 24,
    "start_time": "2022-11-02T17:36:03.537Z"
   },
   {
    "duration": 13,
    "start_time": "2022-11-02T17:36:03.563Z"
   },
   {
    "duration": 20,
    "start_time": "2022-11-02T17:36:03.577Z"
   },
   {
    "duration": 23,
    "start_time": "2022-11-02T17:36:03.599Z"
   },
   {
    "duration": 48,
    "start_time": "2022-11-02T17:36:03.623Z"
   },
   {
    "duration": 47,
    "start_time": "2022-11-02T17:36:03.673Z"
   },
   {
    "duration": 14,
    "start_time": "2022-11-02T17:36:03.722Z"
   },
   {
    "duration": 31,
    "start_time": "2022-11-02T17:36:03.737Z"
   },
   {
    "duration": 12,
    "start_time": "2022-11-02T17:36:03.770Z"
   },
   {
    "duration": 4,
    "start_time": "2022-11-02T17:36:03.785Z"
   },
   {
    "duration": 171,
    "start_time": "2022-11-02T17:36:03.791Z"
   },
   {
    "duration": 8,
    "start_time": "2022-11-02T17:36:03.964Z"
   },
   {
    "duration": 303,
    "start_time": "2022-11-02T17:36:03.973Z"
   },
   {
    "duration": 6,
    "start_time": "2022-11-02T17:36:04.278Z"
   },
   {
    "duration": 252,
    "start_time": "2022-11-02T17:36:04.286Z"
   },
   {
    "duration": 4,
    "start_time": "2022-11-02T17:36:04.539Z"
   },
   {
    "duration": 159,
    "start_time": "2022-11-02T17:36:04.545Z"
   },
   {
    "duration": 140,
    "start_time": "2022-11-02T17:36:04.706Z"
   },
   {
    "duration": 158,
    "start_time": "2022-11-02T17:36:04.848Z"
   },
   {
    "duration": 139,
    "start_time": "2022-11-02T17:36:05.008Z"
   },
   {
    "duration": 216,
    "start_time": "2022-11-02T17:36:05.149Z"
   },
   {
    "duration": 147,
    "start_time": "2022-11-02T17:36:05.367Z"
   },
   {
    "duration": 143,
    "start_time": "2022-11-02T17:36:05.515Z"
   },
   {
    "duration": 7,
    "start_time": "2022-11-02T17:36:05.660Z"
   },
   {
    "duration": 8,
    "start_time": "2022-11-02T17:36:05.668Z"
   },
   {
    "duration": 8,
    "start_time": "2022-11-02T17:36:05.677Z"
   },
   {
    "duration": 8,
    "start_time": "2022-11-02T17:36:27.535Z"
   },
   {
    "duration": 7,
    "start_time": "2022-11-02T17:36:32.589Z"
   },
   {
    "duration": 124,
    "start_time": "2022-11-02T17:37:08.467Z"
   },
   {
    "duration": 7,
    "start_time": "2022-11-02T17:37:44.254Z"
   },
   {
    "duration": 107,
    "start_time": "2022-11-02T17:38:38.593Z"
   },
   {
    "duration": 120,
    "start_time": "2022-11-02T17:38:49.260Z"
   },
   {
    "duration": 94,
    "start_time": "2022-11-02T17:39:46.309Z"
   },
   {
    "duration": 117,
    "start_time": "2022-11-02T17:40:30.232Z"
   },
   {
    "duration": 114,
    "start_time": "2022-11-02T17:40:39.199Z"
   },
   {
    "duration": 102,
    "start_time": "2022-11-02T17:40:46.803Z"
   },
   {
    "duration": 111,
    "start_time": "2022-11-02T17:40:59.706Z"
   },
   {
    "duration": 112,
    "start_time": "2022-11-02T17:41:07.539Z"
   },
   {
    "duration": 175,
    "start_time": "2022-11-02T17:41:14.451Z"
   },
   {
    "duration": 125,
    "start_time": "2022-11-02T17:43:37.600Z"
   },
   {
    "duration": 127,
    "start_time": "2022-11-02T17:44:00.063Z"
   },
   {
    "duration": 131,
    "start_time": "2022-11-02T17:44:05.565Z"
   },
   {
    "duration": 74,
    "start_time": "2022-11-02T17:44:22.872Z"
   },
   {
    "duration": 7,
    "start_time": "2022-11-02T17:44:28.367Z"
   },
   {
    "duration": 122,
    "start_time": "2022-11-02T17:58:13.792Z"
   },
   {
    "duration": 123,
    "start_time": "2022-11-02T17:58:48.819Z"
   },
   {
    "duration": 123,
    "start_time": "2022-11-02T17:59:42.106Z"
   },
   {
    "duration": 142,
    "start_time": "2022-11-02T18:00:38.264Z"
   },
   {
    "duration": 123,
    "start_time": "2022-11-02T18:00:47.281Z"
   },
   {
    "duration": 123,
    "start_time": "2022-11-02T18:02:53.042Z"
   },
   {
    "duration": 123,
    "start_time": "2022-11-02T18:03:32.493Z"
   },
   {
    "duration": 139,
    "start_time": "2022-11-02T18:03:37.394Z"
   },
   {
    "duration": 189,
    "start_time": "2022-11-02T18:03:47.100Z"
   },
   {
    "duration": 7,
    "start_time": "2022-11-02T18:12:55.290Z"
   },
   {
    "duration": 269,
    "start_time": "2022-11-02T18:12:59.114Z"
   },
   {
    "duration": 145,
    "start_time": "2022-11-02T18:13:22.144Z"
   },
   {
    "duration": 214,
    "start_time": "2022-11-02T18:13:24.639Z"
   },
   {
    "duration": 127,
    "start_time": "2022-11-02T18:14:26.830Z"
   },
   {
    "duration": 135,
    "start_time": "2022-11-02T18:14:37.482Z"
   },
   {
    "duration": 143,
    "start_time": "2022-11-02T18:14:47.182Z"
   },
   {
    "duration": 143,
    "start_time": "2022-11-02T18:15:03.080Z"
   },
   {
    "duration": 158,
    "start_time": "2022-11-02T18:15:05.095Z"
   },
   {
    "duration": 8,
    "start_time": "2022-11-02T18:15:09.172Z"
   },
   {
    "duration": 8,
    "start_time": "2022-11-02T18:15:21.238Z"
   },
   {
    "duration": 130,
    "start_time": "2022-11-02T18:15:58.700Z"
   },
   {
    "duration": 231,
    "start_time": "2022-11-02T18:16:03.970Z"
   },
   {
    "duration": 112,
    "start_time": "2022-11-02T18:16:32.177Z"
   },
   {
    "duration": 79,
    "start_time": "2022-11-02T18:17:43.186Z"
   },
   {
    "duration": 76,
    "start_time": "2022-11-02T18:17:54.787Z"
   },
   {
    "duration": 79,
    "start_time": "2022-11-02T18:18:02.033Z"
   },
   {
    "duration": 76,
    "start_time": "2022-11-02T18:18:06.249Z"
   },
   {
    "duration": 256,
    "start_time": "2022-11-02T18:21:17.759Z"
   },
   {
    "duration": 224,
    "start_time": "2022-11-02T18:21:32.143Z"
   },
   {
    "duration": 1097,
    "start_time": "2022-11-02T18:21:48.204Z"
   },
   {
    "duration": 50,
    "start_time": "2022-11-02T18:21:49.302Z"
   },
   {
    "duration": 17,
    "start_time": "2022-11-02T18:21:49.353Z"
   },
   {
    "duration": 20,
    "start_time": "2022-11-02T18:21:49.372Z"
   },
   {
    "duration": 17,
    "start_time": "2022-11-02T18:21:49.393Z"
   },
   {
    "duration": 9,
    "start_time": "2022-11-02T18:21:49.412Z"
   },
   {
    "duration": 7,
    "start_time": "2022-11-02T18:21:49.423Z"
   },
   {
    "duration": 13,
    "start_time": "2022-11-02T18:21:49.431Z"
   },
   {
    "duration": 9,
    "start_time": "2022-11-02T18:21:49.446Z"
   },
   {
    "duration": 6,
    "start_time": "2022-11-02T18:21:49.459Z"
   },
   {
    "duration": 12,
    "start_time": "2022-11-02T18:21:49.466Z"
   },
   {
    "duration": 4,
    "start_time": "2022-11-02T18:21:49.479Z"
   },
   {
    "duration": 6,
    "start_time": "2022-11-02T18:21:49.485Z"
   },
   {
    "duration": 48,
    "start_time": "2022-11-02T18:21:49.492Z"
   },
   {
    "duration": 4,
    "start_time": "2022-11-02T18:21:49.541Z"
   },
   {
    "duration": 13,
    "start_time": "2022-11-02T18:21:49.547Z"
   },
   {
    "duration": 7,
    "start_time": "2022-11-02T18:21:49.562Z"
   },
   {
    "duration": 10,
    "start_time": "2022-11-02T18:21:49.571Z"
   },
   {
    "duration": 11,
    "start_time": "2022-11-02T18:21:49.582Z"
   },
   {
    "duration": 5,
    "start_time": "2022-11-02T18:21:49.594Z"
   },
   {
    "duration": 20,
    "start_time": "2022-11-02T18:21:49.601Z"
   },
   {
    "duration": 12,
    "start_time": "2022-11-02T18:21:49.623Z"
   },
   {
    "duration": 12,
    "start_time": "2022-11-02T18:21:49.636Z"
   },
   {
    "duration": 5,
    "start_time": "2022-11-02T18:21:49.650Z"
   },
   {
    "duration": 9,
    "start_time": "2022-11-02T18:21:49.657Z"
   },
   {
    "duration": 55,
    "start_time": "2022-11-02T18:21:49.667Z"
   },
   {
    "duration": 14,
    "start_time": "2022-11-02T18:21:49.725Z"
   },
   {
    "duration": 5,
    "start_time": "2022-11-02T18:21:49.743Z"
   },
   {
    "duration": 196,
    "start_time": "2022-11-02T18:21:49.750Z"
   },
   {
    "duration": 9,
    "start_time": "2022-11-02T18:21:49.948Z"
   },
   {
    "duration": 309,
    "start_time": "2022-11-02T18:21:49.959Z"
   },
   {
    "duration": 6,
    "start_time": "2022-11-02T18:21:50.270Z"
   },
   {
    "duration": 261,
    "start_time": "2022-11-02T18:21:50.278Z"
   },
   {
    "duration": 232,
    "start_time": "2022-11-02T18:21:50.540Z"
   },
   {
    "duration": 136,
    "start_time": "2022-11-02T18:21:50.774Z"
   },
   {
    "duration": 159,
    "start_time": "2022-11-02T18:21:50.912Z"
   },
   {
    "duration": 227,
    "start_time": "2022-11-02T18:21:51.073Z"
   },
   {
    "duration": 148,
    "start_time": "2022-11-02T18:21:51.302Z"
   },
   {
    "duration": 155,
    "start_time": "2022-11-02T18:21:51.451Z"
   },
   {
    "duration": 144,
    "start_time": "2022-11-02T18:21:51.608Z"
   },
   {
    "duration": 6,
    "start_time": "2022-11-02T18:21:51.753Z"
   },
   {
    "duration": 11,
    "start_time": "2022-11-02T18:21:51.760Z"
   },
   {
    "duration": 141,
    "start_time": "2022-11-02T18:21:51.772Z"
   },
   {
    "duration": 83,
    "start_time": "2022-11-02T18:21:51.915Z"
   },
   {
    "duration": 147,
    "start_time": "2022-11-02T18:21:52.000Z"
   },
   {
    "duration": 142,
    "start_time": "2022-11-02T18:21:52.148Z"
   },
   {
    "duration": 262,
    "start_time": "2022-11-02T18:23:12.947Z"
   },
   {
    "duration": 1083,
    "start_time": "2022-11-02T18:23:37.552Z"
   },
   {
    "duration": 55,
    "start_time": "2022-11-02T18:23:38.637Z"
   },
   {
    "duration": 19,
    "start_time": "2022-11-02T18:23:38.694Z"
   },
   {
    "duration": 16,
    "start_time": "2022-11-02T18:23:38.715Z"
   },
   {
    "duration": 18,
    "start_time": "2022-11-02T18:23:38.732Z"
   },
   {
    "duration": 4,
    "start_time": "2022-11-02T18:23:38.752Z"
   },
   {
    "duration": 18,
    "start_time": "2022-11-02T18:23:38.758Z"
   },
   {
    "duration": 14,
    "start_time": "2022-11-02T18:23:38.778Z"
   },
   {
    "duration": 28,
    "start_time": "2022-11-02T18:23:38.794Z"
   },
   {
    "duration": 7,
    "start_time": "2022-11-02T18:23:38.825Z"
   },
   {
    "duration": 10,
    "start_time": "2022-11-02T18:23:38.834Z"
   },
   {
    "duration": 7,
    "start_time": "2022-11-02T18:23:38.845Z"
   },
   {
    "duration": 7,
    "start_time": "2022-11-02T18:23:38.854Z"
   },
   {
    "duration": 22,
    "start_time": "2022-11-02T18:23:38.863Z"
   },
   {
    "duration": 4,
    "start_time": "2022-11-02T18:23:38.887Z"
   },
   {
    "duration": 30,
    "start_time": "2022-11-02T18:23:38.893Z"
   },
   {
    "duration": 6,
    "start_time": "2022-11-02T18:23:38.925Z"
   },
   {
    "duration": 8,
    "start_time": "2022-11-02T18:23:38.932Z"
   },
   {
    "duration": 8,
    "start_time": "2022-11-02T18:23:38.942Z"
   },
   {
    "duration": 7,
    "start_time": "2022-11-02T18:23:38.952Z"
   },
   {
    "duration": 6,
    "start_time": "2022-11-02T18:23:38.961Z"
   },
   {
    "duration": 15,
    "start_time": "2022-11-02T18:23:38.968Z"
   },
   {
    "duration": 47,
    "start_time": "2022-11-02T18:23:38.985Z"
   },
   {
    "duration": 5,
    "start_time": "2022-11-02T18:23:39.033Z"
   },
   {
    "duration": 7,
    "start_time": "2022-11-02T18:23:39.040Z"
   },
   {
    "duration": 33,
    "start_time": "2022-11-02T18:23:39.048Z"
   },
   {
    "duration": 48,
    "start_time": "2022-11-02T18:23:39.083Z"
   },
   {
    "duration": 5,
    "start_time": "2022-11-02T18:23:39.134Z"
   },
   {
    "duration": 206,
    "start_time": "2022-11-02T18:23:39.140Z"
   },
   {
    "duration": 12,
    "start_time": "2022-11-02T18:23:39.348Z"
   },
   {
    "duration": 371,
    "start_time": "2022-11-02T18:23:39.361Z"
   },
   {
    "duration": 6,
    "start_time": "2022-11-02T18:23:39.734Z"
   },
   {
    "duration": 294,
    "start_time": "2022-11-02T18:23:39.741Z"
   },
   {
    "duration": 246,
    "start_time": "2022-11-02T18:23:40.036Z"
   },
   {
    "duration": 142,
    "start_time": "2022-11-02T18:23:40.284Z"
   },
   {
    "duration": 147,
    "start_time": "2022-11-02T18:23:40.428Z"
   },
   {
    "duration": 235,
    "start_time": "2022-11-02T18:23:40.577Z"
   },
   {
    "duration": 138,
    "start_time": "2022-11-02T18:23:40.814Z"
   },
   {
    "duration": 164,
    "start_time": "2022-11-02T18:23:40.954Z"
   },
   {
    "duration": 136,
    "start_time": "2022-11-02T18:23:41.121Z"
   },
   {
    "duration": 5,
    "start_time": "2022-11-02T18:23:41.259Z"
   },
   {
    "duration": 9,
    "start_time": "2022-11-02T18:23:41.266Z"
   },
   {
    "duration": 165,
    "start_time": "2022-11-02T18:23:41.276Z"
   },
   {
    "duration": 92,
    "start_time": "2022-11-02T18:23:41.443Z"
   },
   {
    "duration": 161,
    "start_time": "2022-11-02T18:23:41.537Z"
   },
   {
    "duration": 130,
    "start_time": "2022-11-02T18:23:41.700Z"
   },
   {
    "duration": 75,
    "start_time": "2022-11-02T18:25:30.463Z"
   },
   {
    "duration": 119,
    "start_time": "2022-11-02T18:25:36.055Z"
   },
   {
    "duration": 97,
    "start_time": "2022-11-02T18:27:06.534Z"
   },
   {
    "duration": 98,
    "start_time": "2022-11-02T18:27:30.930Z"
   },
   {
    "duration": 93,
    "start_time": "2022-11-02T18:27:39.814Z"
   },
   {
    "duration": 218,
    "start_time": "2022-11-02T18:31:53.744Z"
   },
   {
    "duration": 90,
    "start_time": "2022-11-02T18:32:24.298Z"
   },
   {
    "duration": 116,
    "start_time": "2022-11-02T18:33:07.419Z"
   },
   {
    "duration": 126,
    "start_time": "2022-11-02T18:33:16.498Z"
   },
   {
    "duration": 148,
    "start_time": "2022-11-02T18:33:55.493Z"
   },
   {
    "duration": 154,
    "start_time": "2022-11-02T18:34:36.146Z"
   },
   {
    "duration": 139,
    "start_time": "2022-11-02T18:35:15.632Z"
   },
   {
    "duration": 94,
    "start_time": "2022-11-02T18:35:44.940Z"
   },
   {
    "duration": 128,
    "start_time": "2022-11-02T18:48:52.696Z"
   },
   {
    "duration": 108,
    "start_time": "2022-11-02T18:49:38.200Z"
   },
   {
    "duration": 103,
    "start_time": "2022-11-02T18:50:15.233Z"
   },
   {
    "duration": 101,
    "start_time": "2022-11-02T18:50:21.826Z"
   },
   {
    "duration": 197,
    "start_time": "2022-11-02T18:50:27.480Z"
   },
   {
    "duration": 172,
    "start_time": "2022-11-02T18:51:34.512Z"
   },
   {
    "duration": 121,
    "start_time": "2022-11-02T18:51:39.079Z"
   },
   {
    "duration": 108,
    "start_time": "2022-11-02T18:51:47.587Z"
   },
   {
    "duration": 114,
    "start_time": "2022-11-02T18:51:55.010Z"
   },
   {
    "duration": 106,
    "start_time": "2022-11-02T18:52:18.769Z"
   },
   {
    "duration": 113,
    "start_time": "2022-11-02T18:54:56.774Z"
   },
   {
    "duration": 118,
    "start_time": "2022-11-02T18:55:58.930Z"
   },
   {
    "duration": 112,
    "start_time": "2022-11-02T18:56:01.527Z"
   },
   {
    "duration": 188,
    "start_time": "2022-11-02T18:56:34.599Z"
   },
   {
    "duration": 306,
    "start_time": "2022-11-02T18:56:56.070Z"
   },
   {
    "duration": 174,
    "start_time": "2022-11-02T18:57:02.595Z"
   },
   {
    "duration": 193,
    "start_time": "2022-11-02T18:57:10.540Z"
   },
   {
    "duration": 22,
    "start_time": "2022-11-02T19:05:43.740Z"
   },
   {
    "duration": 9,
    "start_time": "2022-11-02T19:06:07.478Z"
   },
   {
    "duration": 7,
    "start_time": "2022-11-02T19:06:46.559Z"
   },
   {
    "duration": 113,
    "start_time": "2022-11-02T19:07:04.636Z"
   },
   {
    "duration": 111,
    "start_time": "2022-11-02T19:07:09.213Z"
   },
   {
    "duration": 115,
    "start_time": "2022-11-02T19:07:33.144Z"
   },
   {
    "duration": 115,
    "start_time": "2022-11-02T19:08:00.390Z"
   },
   {
    "duration": 8,
    "start_time": "2022-11-02T19:08:17.520Z"
   },
   {
    "duration": 7,
    "start_time": "2022-11-02T19:08:45.636Z"
   },
   {
    "duration": 14,
    "start_time": "2022-11-02T19:09:11.706Z"
   },
   {
    "duration": 139,
    "start_time": "2022-11-02T19:09:22.472Z"
   },
   {
    "duration": 217,
    "start_time": "2022-11-02T19:09:57.315Z"
   },
   {
    "duration": 139,
    "start_time": "2022-11-02T19:10:09.180Z"
   },
   {
    "duration": 149,
    "start_time": "2022-11-02T19:10:43.345Z"
   },
   {
    "duration": 155,
    "start_time": "2022-11-02T19:11:18.849Z"
   },
   {
    "duration": 244,
    "start_time": "2022-11-02T19:11:36.018Z"
   },
   {
    "duration": 227,
    "start_time": "2022-11-02T19:14:29.234Z"
   },
   {
    "duration": 161,
    "start_time": "2022-11-02T19:15:18.891Z"
   },
   {
    "duration": 147,
    "start_time": "2022-11-02T19:15:49.524Z"
   },
   {
    "duration": 160,
    "start_time": "2022-11-02T19:17:31.610Z"
   },
   {
    "duration": 178,
    "start_time": "2022-11-02T19:25:48.184Z"
   },
   {
    "duration": 128,
    "start_time": "2022-11-02T19:26:37.706Z"
   },
   {
    "duration": 100,
    "start_time": "2022-11-02T19:26:54.977Z"
   },
   {
    "duration": 109,
    "start_time": "2022-11-02T19:27:03.396Z"
   },
   {
    "duration": 112,
    "start_time": "2022-11-02T19:27:21.448Z"
   },
   {
    "duration": 347,
    "start_time": "2022-11-02T19:27:52.538Z"
   },
   {
    "duration": 141,
    "start_time": "2022-11-02T19:29:24.707Z"
   },
   {
    "duration": 182,
    "start_time": "2022-11-02T19:31:09.204Z"
   },
   {
    "duration": 249,
    "start_time": "2022-11-02T19:34:07.852Z"
   },
   {
    "duration": 168,
    "start_time": "2022-11-02T19:35:01.604Z"
   },
   {
    "duration": 172,
    "start_time": "2022-11-02T19:35:07.345Z"
   },
   {
    "duration": 1328,
    "start_time": "2022-11-03T07:41:44.186Z"
   },
   {
    "duration": 97,
    "start_time": "2022-11-03T07:41:45.516Z"
   },
   {
    "duration": 16,
    "start_time": "2022-11-03T07:41:45.615Z"
   },
   {
    "duration": 23,
    "start_time": "2022-11-03T07:41:45.633Z"
   },
   {
    "duration": 24,
    "start_time": "2022-11-03T07:41:45.658Z"
   },
   {
    "duration": 11,
    "start_time": "2022-11-03T07:41:45.683Z"
   },
   {
    "duration": 29,
    "start_time": "2022-11-03T07:41:45.695Z"
   },
   {
    "duration": 33,
    "start_time": "2022-11-03T07:41:45.725Z"
   },
   {
    "duration": 17,
    "start_time": "2022-11-03T07:41:45.760Z"
   },
   {
    "duration": 41,
    "start_time": "2022-11-03T07:41:45.780Z"
   },
   {
    "duration": 30,
    "start_time": "2022-11-03T07:41:45.823Z"
   },
   {
    "duration": 25,
    "start_time": "2022-11-03T07:41:45.854Z"
   },
   {
    "duration": 25,
    "start_time": "2022-11-03T07:41:45.881Z"
   },
   {
    "duration": 32,
    "start_time": "2022-11-03T07:41:45.908Z"
   },
   {
    "duration": 13,
    "start_time": "2022-11-03T07:41:45.941Z"
   },
   {
    "duration": 16,
    "start_time": "2022-11-03T07:41:45.956Z"
   },
   {
    "duration": 42,
    "start_time": "2022-11-03T07:41:45.973Z"
   },
   {
    "duration": 37,
    "start_time": "2022-11-03T07:41:46.017Z"
   },
   {
    "duration": 15,
    "start_time": "2022-11-03T07:41:46.056Z"
   },
   {
    "duration": 29,
    "start_time": "2022-11-03T07:41:46.073Z"
   },
   {
    "duration": 14,
    "start_time": "2022-11-03T07:41:46.103Z"
   },
   {
    "duration": 36,
    "start_time": "2022-11-03T07:41:46.118Z"
   },
   {
    "duration": 29,
    "start_time": "2022-11-03T07:41:46.156Z"
   },
   {
    "duration": 15,
    "start_time": "2022-11-03T07:41:46.187Z"
   },
   {
    "duration": 24,
    "start_time": "2022-11-03T07:41:46.204Z"
   },
   {
    "duration": 36,
    "start_time": "2022-11-03T07:41:46.230Z"
   },
   {
    "duration": 13,
    "start_time": "2022-11-03T07:41:46.268Z"
   },
   {
    "duration": 24,
    "start_time": "2022-11-03T07:41:46.286Z"
   },
   {
    "duration": 192,
    "start_time": "2022-11-03T07:41:46.311Z"
   },
   {
    "duration": 8,
    "start_time": "2022-11-03T07:41:46.509Z"
   },
   {
    "duration": 366,
    "start_time": "2022-11-03T07:41:46.519Z"
   },
   {
    "duration": 6,
    "start_time": "2022-11-03T07:41:46.887Z"
   },
   {
    "duration": 303,
    "start_time": "2022-11-03T07:41:46.895Z"
   },
   {
    "duration": 242,
    "start_time": "2022-11-03T07:41:47.200Z"
   },
   {
    "duration": 147,
    "start_time": "2022-11-03T07:41:47.444Z"
   },
   {
    "duration": 148,
    "start_time": "2022-11-03T07:41:47.593Z"
   },
   {
    "duration": 214,
    "start_time": "2022-11-03T07:41:47.743Z"
   },
   {
    "duration": 150,
    "start_time": "2022-11-03T07:41:47.959Z"
   },
   {
    "duration": 161,
    "start_time": "2022-11-03T07:41:48.111Z"
   },
   {
    "duration": 143,
    "start_time": "2022-11-03T07:41:48.273Z"
   },
   {
    "duration": 7,
    "start_time": "2022-11-03T07:41:48.417Z"
   },
   {
    "duration": 8,
    "start_time": "2022-11-03T07:41:48.425Z"
   },
   {
    "duration": 157,
    "start_time": "2022-11-03T07:41:48.434Z"
   },
   {
    "duration": 115,
    "start_time": "2022-11-03T07:41:48.593Z"
   },
   {
    "duration": 154,
    "start_time": "2022-11-03T07:41:48.710Z"
   },
   {
    "duration": 115,
    "start_time": "2022-11-03T07:41:48.865Z"
   },
   {
    "duration": 141,
    "start_time": "2022-11-03T07:41:48.981Z"
   },
   {
    "duration": 110,
    "start_time": "2022-11-03T07:41:49.123Z"
   },
   {
    "duration": 165,
    "start_time": "2022-11-03T07:41:49.235Z"
   },
   {
    "duration": 116,
    "start_time": "2022-11-03T07:41:49.402Z"
   },
   {
    "duration": 254,
    "start_time": "2022-11-03T07:41:49.519Z"
   },
   {
    "duration": 145,
    "start_time": "2022-11-03T07:41:49.775Z"
   },
   {
    "duration": 157,
    "start_time": "2022-11-03T07:41:49.922Z"
   },
   {
    "duration": 121,
    "start_time": "2022-11-03T07:41:50.081Z"
   },
   {
    "duration": 207,
    "start_time": "2022-11-03T07:41:50.204Z"
   },
   {
    "duration": 148,
    "start_time": "2022-11-03T07:41:50.413Z"
   },
   {
    "duration": 225,
    "start_time": "2022-11-03T07:41:50.562Z"
   },
   {
    "duration": 171,
    "start_time": "2022-11-03T07:46:39.944Z"
   },
   {
    "duration": 169,
    "start_time": "2022-11-03T07:46:42.795Z"
   },
   {
    "duration": 170,
    "start_time": "2022-11-03T07:46:54.418Z"
   },
   {
    "duration": 179,
    "start_time": "2022-11-03T07:47:13.826Z"
   },
   {
    "duration": 242,
    "start_time": "2022-11-03T07:48:34.987Z"
   },
   {
    "duration": 7,
    "start_time": "2022-11-03T07:51:13.335Z"
   },
   {
    "duration": 4,
    "start_time": "2022-11-03T07:51:53.850Z"
   },
   {
    "duration": 108,
    "start_time": "2022-11-03T07:52:40.245Z"
   },
   {
    "duration": 3,
    "start_time": "2022-11-03T07:53:19.711Z"
   },
   {
    "duration": 8,
    "start_time": "2022-11-03T07:53:24.581Z"
   },
   {
    "duration": 3,
    "start_time": "2022-11-03T07:53:29.254Z"
   },
   {
    "duration": 8,
    "start_time": "2022-11-03T07:53:29.846Z"
   },
   {
    "duration": 4,
    "start_time": "2022-11-03T07:53:36.070Z"
   },
   {
    "duration": 4,
    "start_time": "2022-11-03T07:53:36.643Z"
   },
   {
    "duration": 3,
    "start_time": "2022-11-03T07:53:37.139Z"
   },
   {
    "duration": 8,
    "start_time": "2022-11-03T07:53:37.633Z"
   },
   {
    "duration": 3,
    "start_time": "2022-11-03T07:53:47.121Z"
   },
   {
    "duration": 4,
    "start_time": "2022-11-03T07:53:47.391Z"
   },
   {
    "duration": 2,
    "start_time": "2022-11-03T07:53:47.705Z"
   },
   {
    "duration": 3,
    "start_time": "2022-11-03T07:53:48.056Z"
   },
   {
    "duration": 4,
    "start_time": "2022-11-03T07:53:49.872Z"
   },
   {
    "duration": 7,
    "start_time": "2022-11-03T07:54:26.303Z"
   },
   {
    "duration": 6,
    "start_time": "2022-11-03T07:54:30.882Z"
   },
   {
    "duration": 15,
    "start_time": "2022-11-03T07:54:39.379Z"
   },
   {
    "duration": 6,
    "start_time": "2022-11-03T07:54:48.443Z"
   },
   {
    "duration": 8,
    "start_time": "2022-11-03T07:55:45.370Z"
   },
   {
    "duration": 6,
    "start_time": "2022-11-03T07:56:06.371Z"
   },
   {
    "duration": 7,
    "start_time": "2022-11-03T07:56:19.021Z"
   },
   {
    "duration": 6,
    "start_time": "2022-11-03T07:56:23.935Z"
   },
   {
    "duration": 5,
    "start_time": "2022-11-03T07:56:27.879Z"
   },
   {
    "duration": 5,
    "start_time": "2022-11-03T07:56:28.182Z"
   },
   {
    "duration": 2,
    "start_time": "2022-11-03T07:56:28.507Z"
   },
   {
    "duration": 4,
    "start_time": "2022-11-03T07:56:28.852Z"
   },
   {
    "duration": 3,
    "start_time": "2022-11-03T07:56:29.225Z"
   },
   {
    "duration": 3,
    "start_time": "2022-11-03T07:57:20.457Z"
   },
   {
    "duration": 4,
    "start_time": "2022-11-03T07:59:39.102Z"
   },
   {
    "duration": 3,
    "start_time": "2022-11-03T08:01:10.940Z"
   },
   {
    "duration": 4,
    "start_time": "2022-11-03T08:01:11.319Z"
   },
   {
    "duration": 3,
    "start_time": "2022-11-03T08:01:12.474Z"
   },
   {
    "duration": 4,
    "start_time": "2022-11-03T08:01:37.896Z"
   },
   {
    "duration": 4,
    "start_time": "2022-11-03T08:03:46.003Z"
   },
   {
    "duration": 2,
    "start_time": "2022-11-03T08:04:37.617Z"
   },
   {
    "duration": 54,
    "start_time": "2022-11-03T08:09:22.347Z"
   },
   {
    "duration": 4,
    "start_time": "2022-11-03T08:11:15.103Z"
   },
   {
    "duration": 4,
    "start_time": "2022-11-03T08:13:06.419Z"
   },
   {
    "duration": 9,
    "start_time": "2022-11-03T08:13:06.823Z"
   },
   {
    "duration": 4,
    "start_time": "2022-11-03T08:13:09.007Z"
   },
   {
    "duration": 5,
    "start_time": "2022-11-03T08:13:09.276Z"
   },
   {
    "duration": 3,
    "start_time": "2022-11-03T08:13:09.640Z"
   },
   {
    "duration": 3,
    "start_time": "2022-11-03T08:13:10.381Z"
   },
   {
    "duration": 3,
    "start_time": "2022-11-03T08:13:10.762Z"
   },
   {
    "duration": 3,
    "start_time": "2022-11-03T08:13:11.390Z"
   },
   {
    "duration": 51,
    "start_time": "2022-11-03T08:16:23.328Z"
   },
   {
    "duration": 5,
    "start_time": "2022-11-03T08:17:23.989Z"
   },
   {
    "duration": 5,
    "start_time": "2022-11-03T08:17:30.917Z"
   },
   {
    "duration": 4,
    "start_time": "2022-11-03T08:17:50.935Z"
   },
   {
    "duration": 5,
    "start_time": "2022-11-03T08:17:58.314Z"
   },
   {
    "duration": 4,
    "start_time": "2022-11-03T08:17:58.907Z"
   },
   {
    "duration": 4,
    "start_time": "2022-11-03T08:17:59.102Z"
   },
   {
    "duration": 3,
    "start_time": "2022-11-03T08:18:06.707Z"
   },
   {
    "duration": 3,
    "start_time": "2022-11-03T08:18:17.653Z"
   },
   {
    "duration": 4,
    "start_time": "2022-11-03T08:18:25.025Z"
   },
   {
    "duration": 4,
    "start_time": "2022-11-03T08:18:34.865Z"
   },
   {
    "duration": 6,
    "start_time": "2022-11-03T08:19:51.246Z"
   },
   {
    "duration": 5,
    "start_time": "2022-11-03T08:20:01.092Z"
   },
   {
    "duration": 130,
    "start_time": "2022-11-03T08:32:49.154Z"
   },
   {
    "duration": 152,
    "start_time": "2022-11-03T08:33:26.220Z"
   },
   {
    "duration": 143,
    "start_time": "2022-11-03T08:33:59.176Z"
   },
   {
    "duration": 174,
    "start_time": "2022-11-03T08:34:20.739Z"
   },
   {
    "duration": 130,
    "start_time": "2022-11-03T08:34:26.887Z"
   },
   {
    "duration": 46,
    "start_time": "2022-11-03T08:43:36.397Z"
   },
   {
    "duration": 1151,
    "start_time": "2022-11-03T09:00:44.963Z"
   },
   {
    "duration": 57,
    "start_time": "2022-11-03T09:00:46.115Z"
   },
   {
    "duration": 16,
    "start_time": "2022-11-03T09:00:46.173Z"
   },
   {
    "duration": 13,
    "start_time": "2022-11-03T09:00:46.192Z"
   },
   {
    "duration": 22,
    "start_time": "2022-11-03T09:00:46.206Z"
   },
   {
    "duration": 3,
    "start_time": "2022-11-03T09:00:46.229Z"
   },
   {
    "duration": 15,
    "start_time": "2022-11-03T09:00:46.234Z"
   },
   {
    "duration": 15,
    "start_time": "2022-11-03T09:00:46.251Z"
   },
   {
    "duration": 14,
    "start_time": "2022-11-03T09:00:46.267Z"
   },
   {
    "duration": 7,
    "start_time": "2022-11-03T09:00:46.283Z"
   },
   {
    "duration": 22,
    "start_time": "2022-11-03T09:00:46.291Z"
   },
   {
    "duration": 5,
    "start_time": "2022-11-03T09:00:46.315Z"
   },
   {
    "duration": 18,
    "start_time": "2022-11-03T09:00:46.322Z"
   },
   {
    "duration": 26,
    "start_time": "2022-11-03T09:00:46.342Z"
   },
   {
    "duration": 4,
    "start_time": "2022-11-03T09:00:46.369Z"
   },
   {
    "duration": 12,
    "start_time": "2022-11-03T09:00:46.375Z"
   },
   {
    "duration": 8,
    "start_time": "2022-11-03T09:00:46.389Z"
   },
   {
    "duration": 12,
    "start_time": "2022-11-03T09:00:46.398Z"
   },
   {
    "duration": 12,
    "start_time": "2022-11-03T09:00:46.411Z"
   },
   {
    "duration": 11,
    "start_time": "2022-11-03T09:00:46.424Z"
   },
   {
    "duration": 25,
    "start_time": "2022-11-03T09:00:46.436Z"
   },
   {
    "duration": 14,
    "start_time": "2022-11-03T09:00:46.463Z"
   },
   {
    "duration": 13,
    "start_time": "2022-11-03T09:00:46.478Z"
   },
   {
    "duration": 4,
    "start_time": "2022-11-03T09:00:46.493Z"
   },
   {
    "duration": 11,
    "start_time": "2022-11-03T09:00:46.498Z"
   },
   {
    "duration": 36,
    "start_time": "2022-11-03T09:00:46.511Z"
   },
   {
    "duration": 15,
    "start_time": "2022-11-03T09:00:46.549Z"
   },
   {
    "duration": 4,
    "start_time": "2022-11-03T09:00:46.568Z"
   },
   {
    "duration": 233,
    "start_time": "2022-11-03T09:00:46.573Z"
   },
   {
    "duration": 25,
    "start_time": "2022-11-03T09:00:46.809Z"
   },
   {
    "duration": 361,
    "start_time": "2022-11-03T09:00:46.836Z"
   },
   {
    "duration": 7,
    "start_time": "2022-11-03T09:00:47.199Z"
   },
   {
    "duration": 310,
    "start_time": "2022-11-03T09:00:47.207Z"
   },
   {
    "duration": 266,
    "start_time": "2022-11-03T09:00:47.520Z"
   },
   {
    "duration": 154,
    "start_time": "2022-11-03T09:00:47.787Z"
   },
   {
    "duration": 153,
    "start_time": "2022-11-03T09:00:47.943Z"
   },
   {
    "duration": 227,
    "start_time": "2022-11-03T09:00:48.098Z"
   },
   {
    "duration": 145,
    "start_time": "2022-11-03T09:00:48.327Z"
   },
   {
    "duration": 163,
    "start_time": "2022-11-03T09:00:48.473Z"
   },
   {
    "duration": 148,
    "start_time": "2022-11-03T09:00:48.637Z"
   },
   {
    "duration": 159,
    "start_time": "2022-11-03T09:00:48.787Z"
   },
   {
    "duration": 146,
    "start_time": "2022-11-03T09:00:48.948Z"
   },
   {
    "duration": 17,
    "start_time": "2022-11-03T09:00:49.095Z"
   },
   {
    "duration": 7,
    "start_time": "2022-11-03T09:00:49.114Z"
   },
   {
    "duration": 160,
    "start_time": "2022-11-03T09:00:49.123Z"
   },
   {
    "duration": 117,
    "start_time": "2022-11-03T09:00:49.285Z"
   },
   {
    "duration": 151,
    "start_time": "2022-11-03T09:00:49.404Z"
   },
   {
    "duration": 118,
    "start_time": "2022-11-03T09:00:49.558Z"
   },
   {
    "duration": 144,
    "start_time": "2022-11-03T09:00:49.678Z"
   },
   {
    "duration": 111,
    "start_time": "2022-11-03T09:00:49.824Z"
   },
   {
    "duration": 204,
    "start_time": "2022-11-03T09:00:49.937Z"
   },
   {
    "duration": 119,
    "start_time": "2022-11-03T09:00:50.143Z"
   },
   {
    "duration": 157,
    "start_time": "2022-11-03T09:00:50.264Z"
   },
   {
    "duration": 114,
    "start_time": "2022-11-03T09:00:50.422Z"
   },
   {
    "duration": 137,
    "start_time": "2022-11-03T09:00:50.538Z"
   },
   {
    "duration": 125,
    "start_time": "2022-11-03T09:00:50.677Z"
   },
   {
    "duration": 189,
    "start_time": "2022-11-03T09:00:50.804Z"
   },
   {
    "duration": 180,
    "start_time": "2022-11-03T09:00:50.994Z"
   },
   {
    "duration": 5,
    "start_time": "2022-11-03T09:00:51.175Z"
   },
   {
    "duration": 30,
    "start_time": "2022-11-03T09:00:51.181Z"
   },
   {
    "duration": 26,
    "start_time": "2022-11-03T09:00:51.212Z"
   },
   {
    "duration": 34,
    "start_time": "2022-11-03T09:00:51.239Z"
   },
   {
    "duration": 23,
    "start_time": "2022-11-03T09:00:51.275Z"
   },
   {
    "duration": 23,
    "start_time": "2022-11-03T09:00:51.300Z"
   },
   {
    "duration": 30,
    "start_time": "2022-11-03T09:00:51.325Z"
   },
   {
    "duration": 18,
    "start_time": "2022-11-03T09:00:51.358Z"
   },
   {
    "duration": 22,
    "start_time": "2022-11-03T09:00:51.378Z"
   },
   {
    "duration": 12,
    "start_time": "2022-11-03T09:00:51.403Z"
   },
   {
    "duration": 20,
    "start_time": "2022-11-03T09:00:51.417Z"
   },
   {
    "duration": 33,
    "start_time": "2022-11-03T09:00:51.440Z"
   },
   {
    "duration": 1086,
    "start_time": "2022-11-03T13:19:44.860Z"
   },
   {
    "duration": 56,
    "start_time": "2022-11-03T13:19:45.948Z"
   },
   {
    "duration": 16,
    "start_time": "2022-11-03T13:19:46.005Z"
   },
   {
    "duration": 16,
    "start_time": "2022-11-03T13:19:46.023Z"
   },
   {
    "duration": 32,
    "start_time": "2022-11-03T13:19:46.040Z"
   },
   {
    "duration": 3,
    "start_time": "2022-11-03T13:19:46.557Z"
   },
   {
    "duration": 9,
    "start_time": "2022-11-03T13:19:46.869Z"
   },
   {
    "duration": 13,
    "start_time": "2022-11-03T13:19:47.190Z"
   },
   {
    "duration": 7,
    "start_time": "2022-11-03T13:19:47.527Z"
   },
   {
    "duration": 7,
    "start_time": "2022-11-03T13:19:47.695Z"
   },
   {
    "duration": 6,
    "start_time": "2022-11-03T13:19:48.017Z"
   },
   {
    "duration": 4,
    "start_time": "2022-11-03T13:19:48.190Z"
   },
   {
    "duration": 6,
    "start_time": "2022-11-03T13:19:48.368Z"
   },
   {
    "duration": 28,
    "start_time": "2022-11-03T13:19:48.535Z"
   },
   {
    "duration": 6,
    "start_time": "2022-11-03T13:19:48.874Z"
   },
   {
    "duration": 6,
    "start_time": "2022-11-03T13:19:49.052Z"
   },
   {
    "duration": 7,
    "start_time": "2022-11-03T13:19:49.222Z"
   },
   {
    "duration": 6,
    "start_time": "2022-11-03T13:19:49.409Z"
   },
   {
    "duration": 9,
    "start_time": "2022-11-03T13:19:49.590Z"
   },
   {
    "duration": 5,
    "start_time": "2022-11-03T13:19:50.032Z"
   },
   {
    "duration": 4,
    "start_time": "2022-11-03T13:19:50.230Z"
   },
   {
    "duration": 20,
    "start_time": "2022-11-03T13:19:50.437Z"
   },
   {
    "duration": 15,
    "start_time": "2022-11-03T13:19:50.622Z"
   },
   {
    "duration": 5,
    "start_time": "2022-11-03T13:19:50.785Z"
   },
   {
    "duration": 5,
    "start_time": "2022-11-03T13:19:50.953Z"
   },
   {
    "duration": 32,
    "start_time": "2022-11-03T13:19:51.129Z"
   },
   {
    "duration": 13,
    "start_time": "2022-11-03T13:19:51.464Z"
   },
   {
    "duration": 5,
    "start_time": "2022-11-03T13:19:51.816Z"
   },
   {
    "duration": 100,
    "start_time": "2022-11-03T13:20:01.271Z"
   },
   {
    "duration": 29,
    "start_time": "2022-11-03T13:20:10.317Z"
   },
   {
    "duration": 45,
    "start_time": "2022-11-03T13:21:25.194Z"
   },
   {
    "duration": 8,
    "start_time": "2022-11-03T13:21:32.380Z"
   },
   {
    "duration": 7,
    "start_time": "2022-11-03T13:21:40.187Z"
   },
   {
    "duration": 4,
    "start_time": "2022-11-03T13:21:46.187Z"
   },
   {
    "duration": 16,
    "start_time": "2022-11-03T13:21:50.293Z"
   },
   {
    "duration": 9,
    "start_time": "2022-11-03T13:22:51.902Z"
   },
   {
    "duration": 32,
    "start_time": "2022-11-03T13:29:31.391Z"
   },
   {
    "duration": 30,
    "start_time": "2022-11-03T13:29:44.518Z"
   },
   {
    "duration": 2244,
    "start_time": "2022-11-03T13:30:01.553Z"
   },
   {
    "duration": 729,
    "start_time": "2022-11-03T13:30:13.531Z"
   },
   {
    "duration": 12,
    "start_time": "2022-11-03T13:30:23.937Z"
   },
   {
    "duration": 7,
    "start_time": "2022-11-03T13:30:29.556Z"
   },
   {
    "duration": 29,
    "start_time": "2022-11-03T13:31:13.347Z"
   },
   {
    "duration": 42,
    "start_time": "2022-11-03T13:31:23.372Z"
   },
   {
    "duration": 1123,
    "start_time": "2022-11-03T14:02:20.976Z"
   },
   {
    "duration": 54,
    "start_time": "2022-11-03T14:02:22.101Z"
   },
   {
    "duration": 18,
    "start_time": "2022-11-03T14:02:22.156Z"
   },
   {
    "duration": 34,
    "start_time": "2022-11-03T14:02:22.175Z"
   },
   {
    "duration": 56,
    "start_time": "2022-11-03T14:02:22.211Z"
   },
   {
    "duration": 23,
    "start_time": "2022-11-03T14:02:22.269Z"
   },
   {
    "duration": 35,
    "start_time": "2022-11-03T14:02:22.293Z"
   },
   {
    "duration": 47,
    "start_time": "2022-11-03T14:02:22.330Z"
   },
   {
    "duration": 30,
    "start_time": "2022-11-03T14:02:22.379Z"
   },
   {
    "duration": 20,
    "start_time": "2022-11-03T14:02:22.411Z"
   },
   {
    "duration": 30,
    "start_time": "2022-11-03T14:02:22.432Z"
   },
   {
    "duration": 55,
    "start_time": "2022-11-03T14:02:22.464Z"
   },
   {
    "duration": 37,
    "start_time": "2022-11-03T14:02:22.521Z"
   },
   {
    "duration": 52,
    "start_time": "2022-11-03T14:02:22.560Z"
   },
   {
    "duration": 5,
    "start_time": "2022-11-03T14:02:22.613Z"
   },
   {
    "duration": 57,
    "start_time": "2022-11-03T14:02:22.619Z"
   },
   {
    "duration": 49,
    "start_time": "2022-11-03T14:02:22.678Z"
   },
   {
    "duration": 45,
    "start_time": "2022-11-03T14:02:22.729Z"
   },
   {
    "duration": 41,
    "start_time": "2022-11-03T14:02:22.776Z"
   },
   {
    "duration": 32,
    "start_time": "2022-11-03T14:02:22.819Z"
   },
   {
    "duration": 29,
    "start_time": "2022-11-03T14:02:22.853Z"
   },
   {
    "duration": 63,
    "start_time": "2022-11-03T14:02:22.884Z"
   },
   {
    "duration": 58,
    "start_time": "2022-11-03T14:02:22.949Z"
   },
   {
    "duration": 24,
    "start_time": "2022-11-03T14:02:23.009Z"
   },
   {
    "duration": 28,
    "start_time": "2022-11-03T14:02:23.034Z"
   },
   {
    "duration": 76,
    "start_time": "2022-11-03T14:02:23.064Z"
   },
   {
    "duration": 20,
    "start_time": "2022-11-03T14:02:23.142Z"
   },
   {
    "duration": 31,
    "start_time": "2022-11-03T14:02:23.166Z"
   },
   {
    "duration": 211,
    "start_time": "2022-11-03T14:02:23.198Z"
   },
   {
    "duration": 14,
    "start_time": "2022-11-03T14:02:23.411Z"
   },
   {
    "duration": 317,
    "start_time": "2022-11-03T14:02:23.427Z"
   },
   {
    "duration": 8,
    "start_time": "2022-11-03T14:02:23.745Z"
   },
   {
    "duration": 376,
    "start_time": "2022-11-03T14:02:23.754Z"
   },
   {
    "duration": 249,
    "start_time": "2022-11-03T14:02:24.132Z"
   },
   {
    "duration": 159,
    "start_time": "2022-11-03T14:02:24.382Z"
   },
   {
    "duration": 145,
    "start_time": "2022-11-03T14:02:24.543Z"
   },
   {
    "duration": 245,
    "start_time": "2022-11-03T14:02:24.690Z"
   },
   {
    "duration": 165,
    "start_time": "2022-11-03T14:02:24.937Z"
   },
   {
    "duration": 156,
    "start_time": "2022-11-03T14:02:25.105Z"
   },
   {
    "duration": 142,
    "start_time": "2022-11-03T14:02:25.263Z"
   },
   {
    "duration": 152,
    "start_time": "2022-11-03T14:02:25.407Z"
   },
   {
    "duration": 164,
    "start_time": "2022-11-03T14:02:25.560Z"
   },
   {
    "duration": 8,
    "start_time": "2022-11-03T14:02:25.726Z"
   },
   {
    "duration": 57,
    "start_time": "2022-11-03T14:02:25.736Z"
   },
   {
    "duration": 153,
    "start_time": "2022-11-03T14:02:25.794Z"
   },
   {
    "duration": 114,
    "start_time": "2022-11-03T14:02:25.949Z"
   },
   {
    "duration": 142,
    "start_time": "2022-11-03T14:02:26.064Z"
   },
   {
    "duration": 109,
    "start_time": "2022-11-03T14:02:26.208Z"
   },
   {
    "duration": 132,
    "start_time": "2022-11-03T14:02:26.322Z"
   },
   {
    "duration": 111,
    "start_time": "2022-11-03T14:02:26.456Z"
   },
   {
    "duration": 218,
    "start_time": "2022-11-03T14:02:26.570Z"
   },
   {
    "duration": 119,
    "start_time": "2022-11-03T14:02:26.790Z"
   },
   {
    "duration": 164,
    "start_time": "2022-11-03T14:02:26.911Z"
   },
   {
    "duration": 116,
    "start_time": "2022-11-03T14:02:27.077Z"
   },
   {
    "duration": 135,
    "start_time": "2022-11-03T14:02:27.194Z"
   },
   {
    "duration": 128,
    "start_time": "2022-11-03T14:02:27.331Z"
   },
   {
    "duration": 204,
    "start_time": "2022-11-03T14:02:27.460Z"
   },
   {
    "duration": 189,
    "start_time": "2022-11-03T14:02:27.666Z"
   },
   {
    "duration": 5,
    "start_time": "2022-11-03T14:02:27.856Z"
   },
   {
    "duration": 29,
    "start_time": "2022-11-03T14:02:27.863Z"
   },
   {
    "duration": 15,
    "start_time": "2022-11-03T14:02:27.894Z"
   },
   {
    "duration": 21,
    "start_time": "2022-11-03T14:02:27.911Z"
   },
   {
    "duration": 32,
    "start_time": "2022-11-03T14:02:27.933Z"
   },
   {
    "duration": 28,
    "start_time": "2022-11-03T14:02:27.967Z"
   },
   {
    "duration": 62,
    "start_time": "2022-11-03T14:02:27.997Z"
   },
   {
    "duration": 28,
    "start_time": "2022-11-03T14:02:28.060Z"
   },
   {
    "duration": 77,
    "start_time": "2022-11-03T14:02:28.089Z"
   },
   {
    "duration": 40,
    "start_time": "2022-11-03T14:02:28.169Z"
   },
   {
    "duration": 39,
    "start_time": "2022-11-03T14:02:28.211Z"
   },
   {
    "duration": 18,
    "start_time": "2022-11-03T14:02:28.251Z"
   },
   {
    "duration": 1211,
    "start_time": "2022-11-04T07:04:53.257Z"
   },
   {
    "duration": 101,
    "start_time": "2022-11-04T07:04:59.778Z"
   },
   {
    "duration": 15,
    "start_time": "2022-11-04T07:05:00.783Z"
   },
   {
    "duration": 14,
    "start_time": "2022-11-04T07:05:01.598Z"
   },
   {
    "duration": 21,
    "start_time": "2022-11-04T07:05:06.277Z"
   },
   {
    "duration": 26,
    "start_time": "2022-11-04T07:05:27.322Z"
   },
   {
    "duration": 34,
    "start_time": "2022-11-04T07:05:54.614Z"
   },
   {
    "duration": 25,
    "start_time": "2022-11-04T13:17:40.763Z"
   },
   {
    "duration": 4,
    "start_time": "2022-11-04T13:19:58.076Z"
   },
   {
    "duration": 9,
    "start_time": "2022-11-04T13:20:12.375Z"
   },
   {
    "duration": 13,
    "start_time": "2022-11-04T13:20:14.259Z"
   },
   {
    "duration": 6,
    "start_time": "2022-11-04T13:20:15.688Z"
   },
   {
    "duration": 5,
    "start_time": "2022-11-04T13:20:16.332Z"
   },
   {
    "duration": 11,
    "start_time": "2022-11-04T13:20:33.438Z"
   },
   {
    "duration": 10,
    "start_time": "2022-11-04T13:21:38.870Z"
   },
   {
    "duration": 14,
    "start_time": "2022-11-04T13:21:45.821Z"
   },
   {
    "duration": 19,
    "start_time": "2022-11-04T13:23:33.621Z"
   },
   {
    "duration": 22,
    "start_time": "2022-11-04T13:24:32.732Z"
   },
   {
    "duration": 24,
    "start_time": "2022-11-04T13:25:37.021Z"
   },
   {
    "duration": 46,
    "start_time": "2022-11-04T13:26:57.584Z"
   },
   {
    "duration": 101,
    "start_time": "2022-11-04T13:27:47.021Z"
   },
   {
    "duration": 21,
    "start_time": "2022-11-04T13:27:56.169Z"
   },
   {
    "duration": 6,
    "start_time": "2022-11-04T13:28:06.600Z"
   },
   {
    "duration": 42,
    "start_time": "2022-11-04T13:29:13.229Z"
   },
   {
    "duration": 7,
    "start_time": "2022-11-04T13:30:02.553Z"
   },
   {
    "duration": 8,
    "start_time": "2022-11-04T13:30:21.240Z"
   },
   {
    "duration": 1112,
    "start_time": "2022-11-04T13:30:31.326Z"
   },
   {
    "duration": 53,
    "start_time": "2022-11-04T13:30:32.440Z"
   },
   {
    "duration": 17,
    "start_time": "2022-11-04T13:30:32.494Z"
   },
   {
    "duration": 21,
    "start_time": "2022-11-04T13:30:32.513Z"
   },
   {
    "duration": 18,
    "start_time": "2022-11-04T13:30:32.535Z"
   },
   {
    "duration": 25,
    "start_time": "2022-11-04T13:30:32.555Z"
   },
   {
    "duration": 2,
    "start_time": "2022-11-04T13:30:32.581Z"
   },
   {
    "duration": 12,
    "start_time": "2022-11-04T13:30:32.585Z"
   },
   {
    "duration": 28,
    "start_time": "2022-11-04T13:30:32.598Z"
   },
   {
    "duration": 12,
    "start_time": "2022-11-04T13:30:32.628Z"
   },
   {
    "duration": 19,
    "start_time": "2022-11-04T13:30:32.643Z"
   },
   {
    "duration": 31,
    "start_time": "2022-11-04T13:30:32.665Z"
   },
   {
    "duration": 29,
    "start_time": "2022-11-04T13:30:32.698Z"
   },
   {
    "duration": 5,
    "start_time": "2022-11-04T13:30:32.729Z"
   },
   {
    "duration": 6,
    "start_time": "2022-11-04T13:30:32.736Z"
   },
   {
    "duration": 23,
    "start_time": "2022-11-04T13:30:32.744Z"
   },
   {
    "duration": 6,
    "start_time": "2022-11-04T13:30:32.768Z"
   },
   {
    "duration": 6,
    "start_time": "2022-11-04T13:30:32.776Z"
   },
   {
    "duration": 38,
    "start_time": "2022-11-04T13:30:32.784Z"
   },
   {
    "duration": 5,
    "start_time": "2022-11-04T13:30:32.824Z"
   },
   {
    "duration": 9,
    "start_time": "2022-11-04T13:30:32.831Z"
   },
   {
    "duration": 5,
    "start_time": "2022-11-04T13:30:32.841Z"
   },
   {
    "duration": 6,
    "start_time": "2022-11-04T13:30:32.848Z"
   },
   {
    "duration": 14,
    "start_time": "2022-11-04T13:30:32.856Z"
   },
   {
    "duration": 15,
    "start_time": "2022-11-04T13:30:32.871Z"
   },
   {
    "duration": 34,
    "start_time": "2022-11-04T13:30:32.888Z"
   },
   {
    "duration": 4,
    "start_time": "2022-11-04T13:30:32.924Z"
   },
   {
    "duration": 29,
    "start_time": "2022-11-04T13:30:32.932Z"
   },
   {
    "duration": 11,
    "start_time": "2022-11-04T13:30:32.962Z"
   },
   {
    "duration": 7,
    "start_time": "2022-11-04T13:30:32.974Z"
   },
   {
    "duration": 212,
    "start_time": "2022-11-04T13:30:32.982Z"
   },
   {
    "duration": 8,
    "start_time": "2022-11-04T13:30:33.195Z"
   },
   {
    "duration": 344,
    "start_time": "2022-11-04T13:30:33.205Z"
   },
   {
    "duration": 6,
    "start_time": "2022-11-04T13:30:33.550Z"
   },
   {
    "duration": 276,
    "start_time": "2022-11-04T13:30:33.558Z"
   },
   {
    "duration": 246,
    "start_time": "2022-11-04T13:30:33.836Z"
   },
   {
    "duration": 148,
    "start_time": "2022-11-04T13:30:34.084Z"
   },
   {
    "duration": 149,
    "start_time": "2022-11-04T13:30:34.233Z"
   },
   {
    "duration": 148,
    "start_time": "2022-11-04T13:30:34.383Z"
   },
   {
    "duration": 219,
    "start_time": "2022-11-04T13:30:34.532Z"
   },
   {
    "duration": 169,
    "start_time": "2022-11-04T13:30:34.753Z"
   },
   {
    "duration": 139,
    "start_time": "2022-11-04T13:30:34.924Z"
   },
   {
    "duration": 169,
    "start_time": "2022-11-04T13:30:35.065Z"
   },
   {
    "duration": 140,
    "start_time": "2022-11-04T13:30:35.236Z"
   },
   {
    "duration": 7,
    "start_time": "2022-11-04T13:30:35.377Z"
   },
   {
    "duration": 22,
    "start_time": "2022-11-04T13:30:35.385Z"
   },
   {
    "duration": 162,
    "start_time": "2022-11-04T13:30:35.408Z"
   },
   {
    "duration": 126,
    "start_time": "2022-11-04T13:30:35.572Z"
   },
   {
    "duration": 157,
    "start_time": "2022-11-04T13:30:35.700Z"
   },
   {
    "duration": 128,
    "start_time": "2022-11-04T13:30:35.859Z"
   },
   {
    "duration": 136,
    "start_time": "2022-11-04T13:30:35.989Z"
   },
   {
    "duration": 102,
    "start_time": "2022-11-04T13:30:36.127Z"
   },
   {
    "duration": 148,
    "start_time": "2022-11-04T13:30:36.231Z"
   },
   {
    "duration": 192,
    "start_time": "2022-11-04T13:30:36.381Z"
   },
   {
    "duration": 151,
    "start_time": "2022-11-04T13:30:36.575Z"
   },
   {
    "duration": 108,
    "start_time": "2022-11-04T13:30:36.727Z"
   },
   {
    "duration": 132,
    "start_time": "2022-11-04T13:30:36.837Z"
   },
   {
    "duration": 119,
    "start_time": "2022-11-04T13:30:36.970Z"
   },
   {
    "duration": 176,
    "start_time": "2022-11-04T13:30:37.091Z"
   },
   {
    "duration": 177,
    "start_time": "2022-11-04T13:30:37.269Z"
   },
   {
    "duration": 5,
    "start_time": "2022-11-04T13:30:37.447Z"
   },
   {
    "duration": 23,
    "start_time": "2022-11-04T13:30:37.454Z"
   },
   {
    "duration": 33,
    "start_time": "2022-11-04T13:30:37.479Z"
   },
   {
    "duration": 50,
    "start_time": "2022-11-04T13:30:37.514Z"
   },
   {
    "duration": 43,
    "start_time": "2022-11-04T13:30:37.565Z"
   },
   {
    "duration": 32,
    "start_time": "2022-11-04T13:30:37.609Z"
   },
   {
    "duration": 59,
    "start_time": "2022-11-04T13:30:37.643Z"
   },
   {
    "duration": 16,
    "start_time": "2022-11-04T13:30:37.703Z"
   },
   {
    "duration": 29,
    "start_time": "2022-11-04T13:30:37.720Z"
   },
   {
    "duration": 40,
    "start_time": "2022-11-04T13:30:37.750Z"
   },
   {
    "duration": 25,
    "start_time": "2022-11-04T13:30:37.791Z"
   },
   {
    "duration": 22,
    "start_time": "2022-11-04T13:30:37.817Z"
   },
   {
    "duration": 7,
    "start_time": "2022-11-04T13:32:25.194Z"
   },
   {
    "duration": 7,
    "start_time": "2022-11-04T13:32:43.727Z"
   },
   {
    "duration": 3,
    "start_time": "2022-11-04T13:32:51.099Z"
   },
   {
    "duration": 5,
    "start_time": "2022-11-04T13:32:51.553Z"
   },
   {
    "duration": 9,
    "start_time": "2022-11-04T13:32:53.038Z"
   },
   {
    "duration": 1071,
    "start_time": "2022-11-04T13:33:02.561Z"
   },
   {
    "duration": 51,
    "start_time": "2022-11-04T13:33:03.633Z"
   },
   {
    "duration": 16,
    "start_time": "2022-11-04T13:33:03.685Z"
   },
   {
    "duration": 12,
    "start_time": "2022-11-04T13:33:03.704Z"
   },
   {
    "duration": 14,
    "start_time": "2022-11-04T13:33:03.718Z"
   },
   {
    "duration": 27,
    "start_time": "2022-11-04T13:33:03.733Z"
   },
   {
    "duration": 2,
    "start_time": "2022-11-04T13:33:03.762Z"
   },
   {
    "duration": 14,
    "start_time": "2022-11-04T13:33:03.766Z"
   },
   {
    "duration": 10,
    "start_time": "2022-11-04T13:33:03.782Z"
   },
   {
    "duration": 30,
    "start_time": "2022-11-04T13:33:03.795Z"
   },
   {
    "duration": 14,
    "start_time": "2022-11-04T13:33:03.827Z"
   },
   {
    "duration": 24,
    "start_time": "2022-11-04T13:33:03.842Z"
   },
   {
    "duration": 7,
    "start_time": "2022-11-04T13:33:03.868Z"
   },
   {
    "duration": 4,
    "start_time": "2022-11-04T13:33:03.877Z"
   },
   {
    "duration": 7,
    "start_time": "2022-11-04T13:33:03.882Z"
   },
   {
    "duration": 41,
    "start_time": "2022-11-04T13:33:03.890Z"
   },
   {
    "duration": 4,
    "start_time": "2022-11-04T13:33:03.933Z"
   },
   {
    "duration": 7,
    "start_time": "2022-11-04T13:33:03.938Z"
   },
   {
    "duration": 6,
    "start_time": "2022-11-04T13:33:03.947Z"
   },
   {
    "duration": 6,
    "start_time": "2022-11-04T13:33:03.954Z"
   },
   {
    "duration": 10,
    "start_time": "2022-11-04T13:33:03.961Z"
   },
   {
    "duration": 5,
    "start_time": "2022-11-04T13:33:03.973Z"
   },
   {
    "duration": 14,
    "start_time": "2022-11-04T13:33:03.979Z"
   },
   {
    "duration": 27,
    "start_time": "2022-11-04T13:33:03.995Z"
   },
   {
    "duration": 15,
    "start_time": "2022-11-04T13:33:04.023Z"
   },
   {
    "duration": 5,
    "start_time": "2022-11-04T13:33:04.040Z"
   },
   {
    "duration": 8,
    "start_time": "2022-11-04T13:33:04.047Z"
   },
   {
    "duration": 37,
    "start_time": "2022-11-04T13:33:04.059Z"
   },
   {
    "duration": 33,
    "start_time": "2022-11-04T13:33:04.098Z"
   },
   {
    "duration": 8,
    "start_time": "2022-11-04T13:33:04.133Z"
   },
   {
    "duration": 184,
    "start_time": "2022-11-04T13:33:04.143Z"
   },
   {
    "duration": 9,
    "start_time": "2022-11-04T13:33:04.328Z"
   },
   {
    "duration": 371,
    "start_time": "2022-11-04T13:33:04.338Z"
   },
   {
    "duration": 6,
    "start_time": "2022-11-04T13:33:04.711Z"
   },
   {
    "duration": 285,
    "start_time": "2022-11-04T13:33:04.719Z"
   },
   {
    "duration": 241,
    "start_time": "2022-11-04T13:33:05.006Z"
   },
   {
    "duration": 143,
    "start_time": "2022-11-04T13:33:05.248Z"
   },
   {
    "duration": 139,
    "start_time": "2022-11-04T13:33:05.392Z"
   },
   {
    "duration": 142,
    "start_time": "2022-11-04T13:33:05.533Z"
   },
   {
    "duration": 223,
    "start_time": "2022-11-04T13:33:05.677Z"
   },
   {
    "duration": 145,
    "start_time": "2022-11-04T13:33:05.902Z"
   },
   {
    "duration": 139,
    "start_time": "2022-11-04T13:33:06.048Z"
   },
   {
    "duration": 146,
    "start_time": "2022-11-04T13:33:06.189Z"
   },
   {
    "duration": 140,
    "start_time": "2022-11-04T13:33:06.337Z"
   },
   {
    "duration": 6,
    "start_time": "2022-11-04T13:33:06.479Z"
   },
   {
    "duration": 8,
    "start_time": "2022-11-04T13:33:06.486Z"
   },
   {
    "duration": 143,
    "start_time": "2022-11-04T13:33:06.495Z"
   },
   {
    "duration": 110,
    "start_time": "2022-11-04T13:33:06.640Z"
   },
   {
    "duration": 141,
    "start_time": "2022-11-04T13:33:06.752Z"
   },
   {
    "duration": 103,
    "start_time": "2022-11-04T13:33:06.894Z"
   },
   {
    "duration": 133,
    "start_time": "2022-11-04T13:33:06.999Z"
   },
   {
    "duration": 101,
    "start_time": "2022-11-04T13:33:07.134Z"
   },
   {
    "duration": 132,
    "start_time": "2022-11-04T13:33:07.236Z"
   },
   {
    "duration": 194,
    "start_time": "2022-11-04T13:33:07.369Z"
   },
   {
    "duration": 146,
    "start_time": "2022-11-04T13:33:07.564Z"
   },
   {
    "duration": 97,
    "start_time": "2022-11-04T13:33:07.712Z"
   },
   {
    "duration": 131,
    "start_time": "2022-11-04T13:33:07.810Z"
   },
   {
    "duration": 111,
    "start_time": "2022-11-04T13:33:07.942Z"
   },
   {
    "duration": 169,
    "start_time": "2022-11-04T13:33:08.055Z"
   },
   {
    "duration": 169,
    "start_time": "2022-11-04T13:33:08.225Z"
   },
   {
    "duration": 5,
    "start_time": "2022-11-04T13:33:08.395Z"
   },
   {
    "duration": 8,
    "start_time": "2022-11-04T13:33:08.401Z"
   },
   {
    "duration": 17,
    "start_time": "2022-11-04T13:33:08.410Z"
   },
   {
    "duration": 19,
    "start_time": "2022-11-04T13:33:08.428Z"
   },
   {
    "duration": 16,
    "start_time": "2022-11-04T13:33:08.449Z"
   },
   {
    "duration": 28,
    "start_time": "2022-11-04T13:33:08.467Z"
   },
   {
    "duration": 21,
    "start_time": "2022-11-04T13:33:08.497Z"
   },
   {
    "duration": 12,
    "start_time": "2022-11-04T13:33:08.520Z"
   },
   {
    "duration": 27,
    "start_time": "2022-11-04T13:33:08.533Z"
   },
   {
    "duration": 20,
    "start_time": "2022-11-04T13:33:08.562Z"
   },
   {
    "duration": 16,
    "start_time": "2022-11-04T13:33:08.584Z"
   },
   {
    "duration": 15,
    "start_time": "2022-11-04T13:33:08.601Z"
   },
   {
    "duration": 1233,
    "start_time": "2022-11-04T13:34:00.747Z"
   },
   {
    "duration": 40,
    "start_time": "2022-11-04T13:34:23.058Z"
   },
   {
    "duration": 42,
    "start_time": "2022-11-04T13:34:27.731Z"
   },
   {
    "duration": 28,
    "start_time": "2022-11-04T13:34:54.624Z"
   },
   {
    "duration": 69,
    "start_time": "2022-11-04T13:35:42.459Z"
   },
   {
    "duration": 5,
    "start_time": "2022-11-04T13:36:42.127Z"
   },
   {
    "duration": 91,
    "start_time": "2022-11-04T13:38:47.845Z"
   },
   {
    "duration": 111,
    "start_time": "2022-11-04T13:39:19.464Z"
   },
   {
    "duration": 158,
    "start_time": "2022-11-04T13:41:33.253Z"
   },
   {
    "duration": 1072,
    "start_time": "2022-11-04T13:41:47.449Z"
   },
   {
    "duration": 50,
    "start_time": "2022-11-04T13:41:48.523Z"
   },
   {
    "duration": 15,
    "start_time": "2022-11-04T13:41:48.575Z"
   },
   {
    "duration": 14,
    "start_time": "2022-11-04T13:41:48.592Z"
   },
   {
    "duration": 18,
    "start_time": "2022-11-04T13:41:48.608Z"
   },
   {
    "duration": 31,
    "start_time": "2022-11-04T13:41:48.627Z"
   },
   {
    "duration": 3,
    "start_time": "2022-11-04T13:41:48.660Z"
   },
   {
    "duration": 14,
    "start_time": "2022-11-04T13:41:48.665Z"
   },
   {
    "duration": 22,
    "start_time": "2022-11-04T13:41:48.681Z"
   },
   {
    "duration": 27,
    "start_time": "2022-11-04T13:41:48.706Z"
   },
   {
    "duration": 15,
    "start_time": "2022-11-04T13:41:48.735Z"
   },
   {
    "duration": 48,
    "start_time": "2022-11-04T13:41:48.752Z"
   },
   {
    "duration": 11,
    "start_time": "2022-11-04T13:41:48.802Z"
   },
   {
    "duration": 5,
    "start_time": "2022-11-04T13:41:48.821Z"
   },
   {
    "duration": 14,
    "start_time": "2022-11-04T13:41:48.827Z"
   },
   {
    "duration": 26,
    "start_time": "2022-11-04T13:41:48.842Z"
   },
   {
    "duration": 5,
    "start_time": "2022-11-04T13:41:48.870Z"
   },
   {
    "duration": 18,
    "start_time": "2022-11-04T13:41:48.876Z"
   },
   {
    "duration": 6,
    "start_time": "2022-11-04T13:41:48.896Z"
   },
   {
    "duration": 19,
    "start_time": "2022-11-04T13:41:48.904Z"
   },
   {
    "duration": 15,
    "start_time": "2022-11-04T13:41:48.925Z"
   },
   {
    "duration": 13,
    "start_time": "2022-11-04T13:41:48.942Z"
   },
   {
    "duration": 13,
    "start_time": "2022-11-04T13:41:48.957Z"
   },
   {
    "duration": 25,
    "start_time": "2022-11-04T13:41:48.971Z"
   },
   {
    "duration": 23,
    "start_time": "2022-11-04T13:41:48.998Z"
   },
   {
    "duration": 6,
    "start_time": "2022-11-04T13:41:49.023Z"
   },
   {
    "duration": 18,
    "start_time": "2022-11-04T13:41:49.031Z"
   },
   {
    "duration": 46,
    "start_time": "2022-11-04T13:41:49.054Z"
   },
   {
    "duration": 22,
    "start_time": "2022-11-04T13:41:49.101Z"
   },
   {
    "duration": 10,
    "start_time": "2022-11-04T13:41:49.125Z"
   },
   {
    "duration": 211,
    "start_time": "2022-11-04T13:41:49.137Z"
   },
   {
    "duration": 175,
    "start_time": "2022-11-04T13:41:49.350Z"
   },
   {
    "duration": 7,
    "start_time": "2022-11-04T13:41:49.526Z"
   },
   {
    "duration": 325,
    "start_time": "2022-11-04T13:41:49.535Z"
   },
   {
    "duration": 8,
    "start_time": "2022-11-04T13:41:49.862Z"
   },
   {
    "duration": 285,
    "start_time": "2022-11-04T13:41:49.872Z"
   },
   {
    "duration": 232,
    "start_time": "2022-11-04T13:41:50.158Z"
   },
   {
    "duration": 144,
    "start_time": "2022-11-04T13:41:50.392Z"
   },
   {
    "duration": 142,
    "start_time": "2022-11-04T13:41:50.537Z"
   },
   {
    "duration": 223,
    "start_time": "2022-11-04T13:41:50.681Z"
   },
   {
    "duration": 135,
    "start_time": "2022-11-04T13:41:50.906Z"
   },
   {
    "duration": 163,
    "start_time": "2022-11-04T13:41:51.043Z"
   },
   {
    "duration": 133,
    "start_time": "2022-11-04T13:41:51.208Z"
   },
   {
    "duration": 147,
    "start_time": "2022-11-04T13:41:51.343Z"
   },
   {
    "duration": 135,
    "start_time": "2022-11-04T13:41:51.491Z"
   },
   {
    "duration": 7,
    "start_time": "2022-11-04T13:41:51.628Z"
   },
   {
    "duration": 14,
    "start_time": "2022-11-04T13:41:51.636Z"
   },
   {
    "duration": 143,
    "start_time": "2022-11-04T13:41:51.651Z"
   },
   {
    "duration": 107,
    "start_time": "2022-11-04T13:41:51.796Z"
   },
   {
    "duration": 152,
    "start_time": "2022-11-04T13:41:51.905Z"
   },
   {
    "duration": 125,
    "start_time": "2022-11-04T13:41:52.059Z"
   },
   {
    "duration": 136,
    "start_time": "2022-11-04T13:41:52.186Z"
   },
   {
    "duration": 107,
    "start_time": "2022-11-04T13:41:52.324Z"
   },
   {
    "duration": 215,
    "start_time": "2022-11-04T13:41:52.433Z"
   },
   {
    "duration": 114,
    "start_time": "2022-11-04T13:41:52.649Z"
   },
   {
    "duration": 171,
    "start_time": "2022-11-04T13:41:52.764Z"
   },
   {
    "duration": 107,
    "start_time": "2022-11-04T13:41:52.937Z"
   },
   {
    "duration": 132,
    "start_time": "2022-11-04T13:41:53.045Z"
   },
   {
    "duration": 118,
    "start_time": "2022-11-04T13:41:53.179Z"
   },
   {
    "duration": 168,
    "start_time": "2022-11-04T13:41:53.299Z"
   },
   {
    "duration": 173,
    "start_time": "2022-11-04T13:41:53.468Z"
   },
   {
    "duration": 5,
    "start_time": "2022-11-04T13:41:53.642Z"
   },
   {
    "duration": 39,
    "start_time": "2022-11-04T13:41:53.648Z"
   },
   {
    "duration": 22,
    "start_time": "2022-11-04T13:41:53.688Z"
   },
   {
    "duration": 16,
    "start_time": "2022-11-04T13:41:53.713Z"
   },
   {
    "duration": 11,
    "start_time": "2022-11-04T13:41:53.731Z"
   },
   {
    "duration": 29,
    "start_time": "2022-11-04T13:41:53.743Z"
   },
   {
    "duration": 29,
    "start_time": "2022-11-04T13:41:53.773Z"
   },
   {
    "duration": 17,
    "start_time": "2022-11-04T13:41:53.803Z"
   },
   {
    "duration": 20,
    "start_time": "2022-11-04T13:41:53.822Z"
   },
   {
    "duration": 19,
    "start_time": "2022-11-04T13:41:53.844Z"
   },
   {
    "duration": 16,
    "start_time": "2022-11-04T13:41:53.865Z"
   },
   {
    "duration": 35,
    "start_time": "2022-11-04T13:41:53.883Z"
   },
   {
    "duration": 194,
    "start_time": "2022-11-04T13:42:06.357Z"
   },
   {
    "duration": 111,
    "start_time": "2022-11-04T13:43:36.955Z"
   },
   {
    "duration": 168,
    "start_time": "2022-11-04T13:43:41.507Z"
   },
   {
    "duration": 237,
    "start_time": "2022-11-04T13:45:19.885Z"
   },
   {
    "duration": 167,
    "start_time": "2022-11-04T13:46:30.917Z"
   },
   {
    "duration": 1071,
    "start_time": "2022-11-04T13:46:46.461Z"
   },
   {
    "duration": 50,
    "start_time": "2022-11-04T13:46:47.535Z"
   },
   {
    "duration": 19,
    "start_time": "2022-11-04T13:46:47.587Z"
   },
   {
    "duration": 21,
    "start_time": "2022-11-04T13:46:47.608Z"
   },
   {
    "duration": 35,
    "start_time": "2022-11-04T13:46:47.631Z"
   },
   {
    "duration": 27,
    "start_time": "2022-11-04T13:46:47.668Z"
   },
   {
    "duration": 11,
    "start_time": "2022-11-04T13:46:47.696Z"
   },
   {
    "duration": 30,
    "start_time": "2022-11-04T13:46:47.709Z"
   },
   {
    "duration": 35,
    "start_time": "2022-11-04T13:46:47.740Z"
   },
   {
    "duration": 30,
    "start_time": "2022-11-04T13:46:47.778Z"
   },
   {
    "duration": 32,
    "start_time": "2022-11-04T13:46:47.809Z"
   },
   {
    "duration": 37,
    "start_time": "2022-11-04T13:46:47.843Z"
   },
   {
    "duration": 12,
    "start_time": "2022-11-04T13:46:47.881Z"
   },
   {
    "duration": 9,
    "start_time": "2022-11-04T13:46:47.894Z"
   },
   {
    "duration": 25,
    "start_time": "2022-11-04T13:46:47.905Z"
   },
   {
    "duration": 32,
    "start_time": "2022-11-04T13:46:47.932Z"
   },
   {
    "duration": 11,
    "start_time": "2022-11-04T13:46:47.965Z"
   },
   {
    "duration": 27,
    "start_time": "2022-11-04T13:46:47.978Z"
   },
   {
    "duration": 21,
    "start_time": "2022-11-04T13:46:48.007Z"
   },
   {
    "duration": 34,
    "start_time": "2022-11-04T13:46:48.029Z"
   },
   {
    "duration": 31,
    "start_time": "2022-11-04T13:46:48.064Z"
   },
   {
    "duration": 22,
    "start_time": "2022-11-04T13:46:48.096Z"
   },
   {
    "duration": 24,
    "start_time": "2022-11-04T13:46:48.119Z"
   },
   {
    "duration": 36,
    "start_time": "2022-11-04T13:46:48.144Z"
   },
   {
    "duration": 42,
    "start_time": "2022-11-04T13:46:48.182Z"
   },
   {
    "duration": 19,
    "start_time": "2022-11-04T13:46:48.225Z"
   },
   {
    "duration": 25,
    "start_time": "2022-11-04T13:46:48.246Z"
   },
   {
    "duration": 40,
    "start_time": "2022-11-04T13:46:48.274Z"
   },
   {
    "duration": 16,
    "start_time": "2022-11-04T13:46:48.315Z"
   },
   {
    "duration": 27,
    "start_time": "2022-11-04T13:46:48.332Z"
   },
   {
    "duration": 179,
    "start_time": "2022-11-04T13:46:48.360Z"
   },
   {
    "duration": 177,
    "start_time": "2022-11-04T13:46:48.541Z"
   },
   {
    "duration": 8,
    "start_time": "2022-11-04T13:46:48.723Z"
   },
   {
    "duration": 396,
    "start_time": "2022-11-04T13:46:48.733Z"
   },
   {
    "duration": 7,
    "start_time": "2022-11-04T13:46:49.130Z"
   },
   {
    "duration": 291,
    "start_time": "2022-11-04T13:46:49.139Z"
   },
   {
    "duration": 229,
    "start_time": "2022-11-04T13:46:49.432Z"
   },
   {
    "duration": 137,
    "start_time": "2022-11-04T13:46:49.662Z"
   },
   {
    "duration": 142,
    "start_time": "2022-11-04T13:46:49.800Z"
   },
   {
    "duration": 227,
    "start_time": "2022-11-04T13:46:49.943Z"
   },
   {
    "duration": 136,
    "start_time": "2022-11-04T13:46:50.171Z"
   },
   {
    "duration": 151,
    "start_time": "2022-11-04T13:46:50.309Z"
   },
   {
    "duration": 134,
    "start_time": "2022-11-04T13:46:50.462Z"
   },
   {
    "duration": 147,
    "start_time": "2022-11-04T13:46:50.598Z"
   },
   {
    "duration": 133,
    "start_time": "2022-11-04T13:46:50.747Z"
   },
   {
    "duration": 5,
    "start_time": "2022-11-04T13:46:50.882Z"
   },
   {
    "duration": 19,
    "start_time": "2022-11-04T13:46:50.888Z"
   },
   {
    "duration": 131,
    "start_time": "2022-11-04T13:46:50.909Z"
   },
   {
    "duration": 113,
    "start_time": "2022-11-04T13:46:51.041Z"
   },
   {
    "duration": 145,
    "start_time": "2022-11-04T13:46:51.155Z"
   },
   {
    "duration": 101,
    "start_time": "2022-11-04T13:46:51.302Z"
   },
   {
    "duration": 124,
    "start_time": "2022-11-04T13:46:51.405Z"
   },
   {
    "duration": 99,
    "start_time": "2022-11-04T13:46:51.531Z"
   },
   {
    "duration": 207,
    "start_time": "2022-11-04T13:46:51.632Z"
   },
   {
    "duration": 114,
    "start_time": "2022-11-04T13:46:51.840Z"
   },
   {
    "duration": 155,
    "start_time": "2022-11-04T13:46:51.956Z"
   },
   {
    "duration": 101,
    "start_time": "2022-11-04T13:46:52.113Z"
   },
   {
    "duration": 127,
    "start_time": "2022-11-04T13:46:52.221Z"
   },
   {
    "duration": 110,
    "start_time": "2022-11-04T13:46:52.349Z"
   },
   {
    "duration": 162,
    "start_time": "2022-11-04T13:46:52.460Z"
   },
   {
    "duration": 164,
    "start_time": "2022-11-04T13:46:52.623Z"
   },
   {
    "duration": 4,
    "start_time": "2022-11-04T13:46:52.788Z"
   },
   {
    "duration": 10,
    "start_time": "2022-11-04T13:46:52.794Z"
   },
   {
    "duration": 9,
    "start_time": "2022-11-04T13:46:52.806Z"
   },
   {
    "duration": 2,
    "start_time": "2022-11-04T13:46:52.822Z"
   },
   {
    "duration": 6,
    "start_time": "2022-11-04T13:46:52.826Z"
   },
   {
    "duration": 6,
    "start_time": "2022-11-04T13:46:52.833Z"
   },
   {
    "duration": 8,
    "start_time": "2022-11-04T13:46:52.841Z"
   },
   {
    "duration": 5,
    "start_time": "2022-11-04T13:46:52.851Z"
   },
   {
    "duration": 5,
    "start_time": "2022-11-04T13:46:52.858Z"
   },
   {
    "duration": 5,
    "start_time": "2022-11-04T13:46:52.865Z"
   },
   {
    "duration": 5,
    "start_time": "2022-11-04T13:46:52.871Z"
   },
   {
    "duration": 6,
    "start_time": "2022-11-04T13:46:52.878Z"
   },
   {
    "duration": 120,
    "start_time": "2022-11-04T13:48:27.831Z"
   },
   {
    "duration": 1082,
    "start_time": "2022-11-04T13:48:36.546Z"
   },
   {
    "duration": 52,
    "start_time": "2022-11-04T13:48:37.630Z"
   },
   {
    "duration": 16,
    "start_time": "2022-11-04T13:48:37.684Z"
   },
   {
    "duration": 13,
    "start_time": "2022-11-04T13:48:37.701Z"
   },
   {
    "duration": 12,
    "start_time": "2022-11-04T13:48:37.716Z"
   },
   {
    "duration": 25,
    "start_time": "2022-11-04T13:48:37.730Z"
   },
   {
    "duration": 3,
    "start_time": "2022-11-04T13:48:37.756Z"
   },
   {
    "duration": 10,
    "start_time": "2022-11-04T13:48:37.760Z"
   },
   {
    "duration": 9,
    "start_time": "2022-11-04T13:48:37.771Z"
   },
   {
    "duration": 12,
    "start_time": "2022-11-04T13:48:37.781Z"
   },
   {
    "duration": 36,
    "start_time": "2022-11-04T13:48:37.794Z"
   },
   {
    "duration": 25,
    "start_time": "2022-11-04T13:48:37.832Z"
   },
   {
    "duration": 8,
    "start_time": "2022-11-04T13:48:37.858Z"
   },
   {
    "duration": 4,
    "start_time": "2022-11-04T13:48:37.868Z"
   },
   {
    "duration": 8,
    "start_time": "2022-11-04T13:48:37.874Z"
   },
   {
    "duration": 21,
    "start_time": "2022-11-04T13:48:37.883Z"
   },
   {
    "duration": 4,
    "start_time": "2022-11-04T13:48:37.921Z"
   },
   {
    "duration": 9,
    "start_time": "2022-11-04T13:48:37.927Z"
   },
   {
    "duration": 12,
    "start_time": "2022-11-04T13:48:37.937Z"
   },
   {
    "duration": 6,
    "start_time": "2022-11-04T13:48:37.950Z"
   },
   {
    "duration": 7,
    "start_time": "2022-11-04T13:48:37.958Z"
   },
   {
    "duration": 5,
    "start_time": "2022-11-04T13:48:37.966Z"
   },
   {
    "duration": 5,
    "start_time": "2022-11-04T13:48:37.973Z"
   },
   {
    "duration": 14,
    "start_time": "2022-11-04T13:48:37.979Z"
   },
   {
    "duration": 30,
    "start_time": "2022-11-04T13:48:37.995Z"
   },
   {
    "duration": 4,
    "start_time": "2022-11-04T13:48:38.027Z"
   },
   {
    "duration": 9,
    "start_time": "2022-11-04T13:48:38.033Z"
   },
   {
    "duration": 34,
    "start_time": "2022-11-04T13:48:38.043Z"
   },
   {
    "duration": 11,
    "start_time": "2022-11-04T13:48:38.079Z"
   },
   {
    "duration": 9,
    "start_time": "2022-11-04T13:48:38.091Z"
   },
   {
    "duration": 187,
    "start_time": "2022-11-04T13:48:38.101Z"
   },
   {
    "duration": 179,
    "start_time": "2022-11-04T13:48:38.290Z"
   },
   {
    "duration": 8,
    "start_time": "2022-11-04T13:48:38.470Z"
   },
   {
    "duration": 329,
    "start_time": "2022-11-04T13:48:38.479Z"
   },
   {
    "duration": 6,
    "start_time": "2022-11-04T13:48:38.810Z"
   },
   {
    "duration": 311,
    "start_time": "2022-11-04T13:48:38.817Z"
   },
   {
    "duration": 252,
    "start_time": "2022-11-04T13:48:39.130Z"
   },
   {
    "duration": 141,
    "start_time": "2022-11-04T13:48:39.384Z"
   },
   {
    "duration": 142,
    "start_time": "2022-11-04T13:48:39.527Z"
   },
   {
    "duration": 216,
    "start_time": "2022-11-04T13:48:39.670Z"
   },
   {
    "duration": 140,
    "start_time": "2022-11-04T13:48:39.890Z"
   },
   {
    "duration": 154,
    "start_time": "2022-11-04T13:48:40.032Z"
   },
   {
    "duration": 137,
    "start_time": "2022-11-04T13:48:40.187Z"
   },
   {
    "duration": 153,
    "start_time": "2022-11-04T13:48:40.326Z"
   },
   {
    "duration": 129,
    "start_time": "2022-11-04T13:48:40.481Z"
   },
   {
    "duration": 13,
    "start_time": "2022-11-04T13:48:40.612Z"
   },
   {
    "duration": 6,
    "start_time": "2022-11-04T13:48:40.627Z"
   },
   {
    "duration": 145,
    "start_time": "2022-11-04T13:48:40.635Z"
   },
   {
    "duration": 111,
    "start_time": "2022-11-04T13:48:40.783Z"
   },
   {
    "duration": 146,
    "start_time": "2022-11-04T13:48:40.896Z"
   },
   {
    "duration": 105,
    "start_time": "2022-11-04T13:48:41.044Z"
   },
   {
    "duration": 129,
    "start_time": "2022-11-04T13:48:41.150Z"
   },
   {
    "duration": 170,
    "start_time": "2022-11-04T13:48:41.280Z"
   },
   {
    "duration": 136,
    "start_time": "2022-11-04T13:48:41.452Z"
   },
   {
    "duration": 117,
    "start_time": "2022-11-04T13:48:41.589Z"
   },
   {
    "duration": 162,
    "start_time": "2022-11-04T13:48:41.708Z"
   },
   {
    "duration": 112,
    "start_time": "2022-11-04T13:48:41.872Z"
   },
   {
    "duration": 136,
    "start_time": "2022-11-04T13:48:41.986Z"
   },
   {
    "duration": 104,
    "start_time": "2022-11-04T13:48:42.123Z"
   },
   {
    "duration": 166,
    "start_time": "2022-11-04T13:48:42.229Z"
   },
   {
    "duration": 166,
    "start_time": "2022-11-04T13:48:42.397Z"
   },
   {
    "duration": 4,
    "start_time": "2022-11-04T13:48:42.565Z"
   },
   {
    "duration": 8,
    "start_time": "2022-11-04T13:48:42.571Z"
   },
   {
    "duration": 22,
    "start_time": "2022-11-04T13:48:42.581Z"
   },
   {
    "duration": 19,
    "start_time": "2022-11-04T13:48:42.605Z"
   },
   {
    "duration": 42,
    "start_time": "2022-11-04T13:48:42.625Z"
   },
   {
    "duration": 45,
    "start_time": "2022-11-04T13:48:42.668Z"
   },
   {
    "duration": 23,
    "start_time": "2022-11-04T13:48:42.714Z"
   },
   {
    "duration": 37,
    "start_time": "2022-11-04T13:48:42.739Z"
   },
   {
    "duration": 20,
    "start_time": "2022-11-04T13:48:42.778Z"
   },
   {
    "duration": 30,
    "start_time": "2022-11-04T13:48:42.799Z"
   },
   {
    "duration": 31,
    "start_time": "2022-11-04T13:48:42.830Z"
   },
   {
    "duration": 38,
    "start_time": "2022-11-04T13:48:42.862Z"
   },
   {
    "duration": 160,
    "start_time": "2022-11-04T13:48:58.502Z"
   },
   {
    "duration": 178,
    "start_time": "2022-11-04T13:49:04.274Z"
   },
   {
    "duration": 22,
    "start_time": "2022-11-04T13:53:14.443Z"
   },
   {
    "duration": 1103,
    "start_time": "2022-11-04T13:53:21.927Z"
   },
   {
    "duration": 58,
    "start_time": "2022-11-04T13:53:23.032Z"
   },
   {
    "duration": 17,
    "start_time": "2022-11-04T13:53:23.091Z"
   },
   {
    "duration": 14,
    "start_time": "2022-11-04T13:53:23.109Z"
   },
   {
    "duration": 17,
    "start_time": "2022-11-04T13:53:23.125Z"
   },
   {
    "duration": 26,
    "start_time": "2022-11-04T13:53:23.144Z"
   },
   {
    "duration": 2,
    "start_time": "2022-11-04T13:53:23.172Z"
   },
   {
    "duration": 14,
    "start_time": "2022-11-04T13:53:23.176Z"
   },
   {
    "duration": 33,
    "start_time": "2022-11-04T13:53:23.191Z"
   },
   {
    "duration": 18,
    "start_time": "2022-11-04T13:53:23.227Z"
   },
   {
    "duration": 18,
    "start_time": "2022-11-04T13:53:23.246Z"
   },
   {
    "duration": 34,
    "start_time": "2022-11-04T13:53:23.265Z"
   },
   {
    "duration": 23,
    "start_time": "2022-11-04T13:53:23.301Z"
   },
   {
    "duration": 4,
    "start_time": "2022-11-04T13:53:23.325Z"
   },
   {
    "duration": 9,
    "start_time": "2022-11-04T13:53:23.331Z"
   },
   {
    "duration": 21,
    "start_time": "2022-11-04T13:53:23.342Z"
   },
   {
    "duration": 4,
    "start_time": "2022-11-04T13:53:23.364Z"
   },
   {
    "duration": 8,
    "start_time": "2022-11-04T13:53:23.370Z"
   },
   {
    "duration": 10,
    "start_time": "2022-11-04T13:53:23.379Z"
   },
   {
    "duration": 13,
    "start_time": "2022-11-04T13:53:23.390Z"
   },
   {
    "duration": 20,
    "start_time": "2022-11-04T13:53:23.404Z"
   },
   {
    "duration": 8,
    "start_time": "2022-11-04T13:53:23.426Z"
   },
   {
    "duration": 8,
    "start_time": "2022-11-04T13:53:23.436Z"
   },
   {
    "duration": 16,
    "start_time": "2022-11-04T13:53:23.445Z"
   },
   {
    "duration": 14,
    "start_time": "2022-11-04T13:53:23.462Z"
   },
   {
    "duration": 4,
    "start_time": "2022-11-04T13:53:23.478Z"
   },
   {
    "duration": 7,
    "start_time": "2022-11-04T13:53:23.484Z"
   },
   {
    "duration": 53,
    "start_time": "2022-11-04T13:53:23.494Z"
   },
   {
    "duration": 12,
    "start_time": "2022-11-04T13:53:23.549Z"
   },
   {
    "duration": 6,
    "start_time": "2022-11-04T13:53:23.562Z"
   },
   {
    "duration": 191,
    "start_time": "2022-11-04T13:53:23.570Z"
   },
   {
    "duration": 186,
    "start_time": "2022-11-04T13:53:23.763Z"
   },
   {
    "duration": 8,
    "start_time": "2022-11-04T13:53:23.951Z"
   },
   {
    "duration": 373,
    "start_time": "2022-11-04T13:53:23.960Z"
   },
   {
    "duration": 17,
    "start_time": "2022-11-04T13:53:24.335Z"
   },
   {
    "duration": 5,
    "start_time": "2022-11-04T13:53:24.354Z"
   },
   {
    "duration": 314,
    "start_time": "2022-11-04T13:53:24.361Z"
   },
   {
    "duration": 251,
    "start_time": "2022-11-04T13:53:24.676Z"
   },
   {
    "duration": 156,
    "start_time": "2022-11-04T13:53:24.929Z"
   },
   {
    "duration": 164,
    "start_time": "2022-11-04T13:53:25.087Z"
   },
   {
    "duration": 215,
    "start_time": "2022-11-04T13:53:25.252Z"
   },
   {
    "duration": 140,
    "start_time": "2022-11-04T13:53:25.469Z"
   },
   {
    "duration": 180,
    "start_time": "2022-11-04T13:53:25.611Z"
   },
   {
    "duration": 145,
    "start_time": "2022-11-04T13:53:25.792Z"
   },
   {
    "duration": 145,
    "start_time": "2022-11-04T13:53:25.939Z"
   },
   {
    "duration": 151,
    "start_time": "2022-11-04T13:53:26.086Z"
   },
   {
    "duration": 6,
    "start_time": "2022-11-04T13:53:26.239Z"
   },
   {
    "duration": 9,
    "start_time": "2022-11-04T13:53:26.246Z"
   },
   {
    "duration": 154,
    "start_time": "2022-11-04T13:53:26.257Z"
   },
   {
    "duration": 114,
    "start_time": "2022-11-04T13:53:26.413Z"
   },
   {
    "duration": 142,
    "start_time": "2022-11-04T13:53:26.529Z"
   },
   {
    "duration": 112,
    "start_time": "2022-11-04T13:53:26.674Z"
   },
   {
    "duration": 139,
    "start_time": "2022-11-04T13:53:26.788Z"
   },
   {
    "duration": 112,
    "start_time": "2022-11-04T13:53:26.929Z"
   },
   {
    "duration": 222,
    "start_time": "2022-11-04T13:53:27.043Z"
   },
   {
    "duration": 123,
    "start_time": "2022-11-04T13:53:27.266Z"
   },
   {
    "duration": 194,
    "start_time": "2022-11-04T13:53:27.391Z"
   },
   {
    "duration": 127,
    "start_time": "2022-11-04T13:53:27.587Z"
   },
   {
    "duration": 128,
    "start_time": "2022-11-04T13:53:27.716Z"
   },
   {
    "duration": 107,
    "start_time": "2022-11-04T13:53:27.846Z"
   },
   {
    "duration": 171,
    "start_time": "2022-11-04T13:53:27.955Z"
   },
   {
    "duration": 178,
    "start_time": "2022-11-04T13:53:28.128Z"
   },
   {
    "duration": 5,
    "start_time": "2022-11-04T13:53:28.307Z"
   },
   {
    "duration": 4,
    "start_time": "2022-11-04T13:53:28.321Z"
   },
   {
    "duration": 7,
    "start_time": "2022-11-04T13:53:28.326Z"
   },
   {
    "duration": 4,
    "start_time": "2022-11-04T13:53:28.335Z"
   },
   {
    "duration": 5,
    "start_time": "2022-11-04T13:53:28.340Z"
   },
   {
    "duration": 7,
    "start_time": "2022-11-04T13:53:28.347Z"
   },
   {
    "duration": 8,
    "start_time": "2022-11-04T13:53:28.355Z"
   },
   {
    "duration": 7,
    "start_time": "2022-11-04T13:53:28.364Z"
   },
   {
    "duration": 7,
    "start_time": "2022-11-04T13:53:28.373Z"
   },
   {
    "duration": 5,
    "start_time": "2022-11-04T13:53:28.381Z"
   },
   {
    "duration": 5,
    "start_time": "2022-11-04T13:53:28.388Z"
   },
   {
    "duration": 28,
    "start_time": "2022-11-04T13:53:28.394Z"
   },
   {
    "duration": 22,
    "start_time": "2022-11-04T13:56:59.182Z"
   },
   {
    "duration": 102,
    "start_time": "2022-11-04T13:57:23.887Z"
   },
   {
    "duration": 20,
    "start_time": "2022-11-04T13:57:43.663Z"
   },
   {
    "duration": 20,
    "start_time": "2022-11-04T13:57:57.129Z"
   },
   {
    "duration": 18,
    "start_time": "2022-11-04T13:58:26.029Z"
   },
   {
    "duration": 20,
    "start_time": "2022-11-04T13:58:38.223Z"
   },
   {
    "duration": 18,
    "start_time": "2022-11-04T13:59:16.836Z"
   },
   {
    "duration": 28,
    "start_time": "2022-11-04T13:59:49.955Z"
   },
   {
    "duration": 19,
    "start_time": "2022-11-04T14:00:22.936Z"
   },
   {
    "duration": 24,
    "start_time": "2022-11-04T14:00:31.194Z"
   },
   {
    "duration": 20,
    "start_time": "2022-11-04T14:00:44.700Z"
   },
   {
    "duration": 18,
    "start_time": "2022-11-04T14:01:28.357Z"
   },
   {
    "duration": 22,
    "start_time": "2022-11-04T14:01:33.800Z"
   },
   {
    "duration": 274,
    "start_time": "2022-11-04T14:03:31.429Z"
   },
   {
    "duration": 22,
    "start_time": "2022-11-04T14:03:47.698Z"
   },
   {
    "duration": 99,
    "start_time": "2022-11-04T14:04:27.527Z"
   },
   {
    "duration": 262,
    "start_time": "2022-11-04T14:05:13.144Z"
   },
   {
    "duration": 251,
    "start_time": "2022-11-04T14:05:44.061Z"
   },
   {
    "duration": 169,
    "start_time": "2022-11-04T14:05:48.557Z"
   },
   {
    "duration": 1084,
    "start_time": "2022-11-04T14:05:57.850Z"
   },
   {
    "duration": 60,
    "start_time": "2022-11-04T14:05:58.937Z"
   },
   {
    "duration": 20,
    "start_time": "2022-11-04T14:05:58.999Z"
   },
   {
    "duration": 21,
    "start_time": "2022-11-04T14:05:59.021Z"
   },
   {
    "duration": 34,
    "start_time": "2022-11-04T14:05:59.044Z"
   },
   {
    "duration": 38,
    "start_time": "2022-11-04T14:05:59.080Z"
   },
   {
    "duration": 3,
    "start_time": "2022-11-04T14:05:59.120Z"
   },
   {
    "duration": 39,
    "start_time": "2022-11-04T14:05:59.125Z"
   },
   {
    "duration": 11,
    "start_time": "2022-11-04T14:05:59.166Z"
   },
   {
    "duration": 14,
    "start_time": "2022-11-04T14:05:59.179Z"
   },
   {
    "duration": 16,
    "start_time": "2022-11-04T14:05:59.195Z"
   },
   {
    "duration": 27,
    "start_time": "2022-11-04T14:05:59.212Z"
   },
   {
    "duration": 8,
    "start_time": "2022-11-04T14:05:59.241Z"
   },
   {
    "duration": 5,
    "start_time": "2022-11-04T14:05:59.251Z"
   },
   {
    "duration": 9,
    "start_time": "2022-11-04T14:05:59.258Z"
   },
   {
    "duration": 21,
    "start_time": "2022-11-04T14:05:59.268Z"
   },
   {
    "duration": 5,
    "start_time": "2022-11-04T14:05:59.291Z"
   },
   {
    "duration": 28,
    "start_time": "2022-11-04T14:05:59.297Z"
   },
   {
    "duration": 9,
    "start_time": "2022-11-04T14:05:59.327Z"
   },
   {
    "duration": 6,
    "start_time": "2022-11-04T14:05:59.337Z"
   },
   {
    "duration": 8,
    "start_time": "2022-11-04T14:05:59.344Z"
   },
   {
    "duration": 5,
    "start_time": "2022-11-04T14:05:59.354Z"
   },
   {
    "duration": 5,
    "start_time": "2022-11-04T14:05:59.360Z"
   },
   {
    "duration": 14,
    "start_time": "2022-11-04T14:05:59.366Z"
   },
   {
    "duration": 41,
    "start_time": "2022-11-04T14:05:59.382Z"
   },
   {
    "duration": 4,
    "start_time": "2022-11-04T14:05:59.424Z"
   },
   {
    "duration": 10,
    "start_time": "2022-11-04T14:05:59.429Z"
   },
   {
    "duration": 31,
    "start_time": "2022-11-04T14:05:59.442Z"
   },
   {
    "duration": 10,
    "start_time": "2022-11-04T14:05:59.474Z"
   },
   {
    "duration": 7,
    "start_time": "2022-11-04T14:05:59.486Z"
   },
   {
    "duration": 190,
    "start_time": "2022-11-04T14:05:59.494Z"
   },
   {
    "duration": 210,
    "start_time": "2022-11-04T14:05:59.685Z"
   },
   {
    "duration": 8,
    "start_time": "2022-11-04T14:05:59.896Z"
   },
   {
    "duration": 344,
    "start_time": "2022-11-04T14:05:59.905Z"
   },
   {
    "duration": 6,
    "start_time": "2022-11-04T14:06:00.250Z"
   },
   {
    "duration": 268,
    "start_time": "2022-11-04T14:06:00.257Z"
   },
   {
    "duration": 21,
    "start_time": "2022-11-04T14:06:00.526Z"
   },
   {
    "duration": 240,
    "start_time": "2022-11-04T14:06:00.548Z"
   },
   {
    "duration": 138,
    "start_time": "2022-11-04T14:06:00.789Z"
   },
   {
    "duration": 144,
    "start_time": "2022-11-04T14:06:00.928Z"
   },
   {
    "duration": 220,
    "start_time": "2022-11-04T14:06:01.074Z"
   },
   {
    "duration": 143,
    "start_time": "2022-11-04T14:06:01.296Z"
   },
   {
    "duration": 157,
    "start_time": "2022-11-04T14:06:01.440Z"
   },
   {
    "duration": 147,
    "start_time": "2022-11-04T14:06:01.599Z"
   },
   {
    "duration": 160,
    "start_time": "2022-11-04T14:06:01.748Z"
   },
   {
    "duration": 141,
    "start_time": "2022-11-04T14:06:01.910Z"
   },
   {
    "duration": 7,
    "start_time": "2022-11-04T14:06:02.052Z"
   },
   {
    "duration": 29,
    "start_time": "2022-11-04T14:06:02.060Z"
   },
   {
    "duration": 152,
    "start_time": "2022-11-04T14:06:02.090Z"
   },
   {
    "duration": 106,
    "start_time": "2022-11-04T14:06:02.244Z"
   },
   {
    "duration": 143,
    "start_time": "2022-11-04T14:06:02.351Z"
   },
   {
    "duration": 107,
    "start_time": "2022-11-04T14:06:02.496Z"
   },
   {
    "duration": 127,
    "start_time": "2022-11-04T14:06:02.605Z"
   },
   {
    "duration": 99,
    "start_time": "2022-11-04T14:06:02.734Z"
   },
   {
    "duration": 210,
    "start_time": "2022-11-04T14:06:02.835Z"
   },
   {
    "duration": 115,
    "start_time": "2022-11-04T14:06:03.047Z"
   },
   {
    "duration": 149,
    "start_time": "2022-11-04T14:06:03.163Z"
   },
   {
    "duration": 111,
    "start_time": "2022-11-04T14:06:03.313Z"
   },
   {
    "duration": 129,
    "start_time": "2022-11-04T14:06:03.425Z"
   },
   {
    "duration": 111,
    "start_time": "2022-11-04T14:06:03.556Z"
   },
   {
    "duration": 167,
    "start_time": "2022-11-04T14:06:03.668Z"
   },
   {
    "duration": 173,
    "start_time": "2022-11-04T14:06:03.836Z"
   },
   {
    "duration": 11,
    "start_time": "2022-11-04T14:06:04.011Z"
   },
   {
    "duration": 7,
    "start_time": "2022-11-04T14:06:04.024Z"
   },
   {
    "duration": 5,
    "start_time": "2022-11-04T14:06:04.033Z"
   },
   {
    "duration": 4,
    "start_time": "2022-11-04T14:06:04.039Z"
   },
   {
    "duration": 6,
    "start_time": "2022-11-04T14:06:04.044Z"
   },
   {
    "duration": 8,
    "start_time": "2022-11-04T14:06:04.051Z"
   },
   {
    "duration": 6,
    "start_time": "2022-11-04T14:06:04.060Z"
   },
   {
    "duration": 5,
    "start_time": "2022-11-04T14:06:04.068Z"
   },
   {
    "duration": 11,
    "start_time": "2022-11-04T14:06:04.074Z"
   },
   {
    "duration": 4,
    "start_time": "2022-11-04T14:06:04.087Z"
   },
   {
    "duration": 6,
    "start_time": "2022-11-04T14:06:04.092Z"
   },
   {
    "duration": 9,
    "start_time": "2022-11-04T14:06:04.099Z"
   },
   {
    "duration": 230,
    "start_time": "2022-11-04T14:08:12.395Z"
   },
   {
    "duration": 311,
    "start_time": "2022-11-04T14:08:55.007Z"
   },
   {
    "duration": 223,
    "start_time": "2022-11-04T14:09:13.583Z"
   },
   {
    "duration": 222,
    "start_time": "2022-11-04T14:10:34.467Z"
   },
   {
    "duration": 232,
    "start_time": "2022-11-04T14:11:17.982Z"
   },
   {
    "duration": 229,
    "start_time": "2022-11-04T14:11:42.609Z"
   },
   {
    "duration": 48,
    "start_time": "2022-11-04T14:15:25.943Z"
   },
   {
    "duration": 16,
    "start_time": "2022-11-04T14:26:55.020Z"
   },
   {
    "duration": 45,
    "start_time": "2022-11-04T14:27:26.507Z"
   },
   {
    "duration": 17,
    "start_time": "2022-11-04T14:27:58.555Z"
   },
   {
    "duration": 101,
    "start_time": "2022-11-04T14:28:34.296Z"
   },
   {
    "duration": 18,
    "start_time": "2022-11-04T14:28:47.637Z"
   },
   {
    "duration": 25,
    "start_time": "2022-11-04T14:29:06.957Z"
   },
   {
    "duration": 19,
    "start_time": "2022-11-04T14:29:15.697Z"
   },
   {
    "duration": 31,
    "start_time": "2022-11-04T14:29:40.578Z"
   },
   {
    "duration": 20,
    "start_time": "2022-11-04T14:29:43.024Z"
   },
   {
    "duration": 20,
    "start_time": "2022-11-04T14:29:51.847Z"
   },
   {
    "duration": 30,
    "start_time": "2022-11-04T14:30:34.769Z"
   },
   {
    "duration": 28,
    "start_time": "2022-11-04T14:30:41.270Z"
   },
   {
    "duration": 76,
    "start_time": "2022-11-04T14:54:11.931Z"
   },
   {
    "duration": 281,
    "start_time": "2022-11-04T15:04:35.496Z"
   },
   {
    "duration": 300,
    "start_time": "2022-11-04T15:05:05.869Z"
   },
   {
    "duration": 234,
    "start_time": "2022-11-04T15:05:17.053Z"
   },
   {
    "duration": 270,
    "start_time": "2022-11-04T15:05:29.567Z"
   },
   {
    "duration": 241,
    "start_time": "2022-11-04T15:05:37.540Z"
   },
   {
    "duration": 261,
    "start_time": "2022-11-04T15:05:50.922Z"
   },
   {
    "duration": 232,
    "start_time": "2022-11-04T15:06:03.772Z"
   },
   {
    "duration": 178,
    "start_time": "2022-11-04T15:06:11.765Z"
   },
   {
    "duration": 276,
    "start_time": "2022-11-04T15:06:21.801Z"
   },
   {
    "duration": 231,
    "start_time": "2022-11-04T15:06:27.144Z"
   },
   {
    "duration": 194,
    "start_time": "2022-11-04T15:06:35.150Z"
   },
   {
    "duration": 291,
    "start_time": "2022-11-04T15:06:41.920Z"
   },
   {
    "duration": 287,
    "start_time": "2022-11-04T15:06:49.038Z"
   },
   {
    "duration": 217,
    "start_time": "2022-11-04T15:06:53.679Z"
   },
   {
    "duration": 236,
    "start_time": "2022-11-04T15:06:59.846Z"
   },
   {
    "duration": 219,
    "start_time": "2022-11-04T15:07:05.962Z"
   },
   {
    "duration": 231,
    "start_time": "2022-11-04T15:07:36.331Z"
   },
   {
    "duration": 953,
    "start_time": "2022-11-04T15:13:14.922Z"
   },
   {
    "duration": 978,
    "start_time": "2022-11-04T15:14:45.890Z"
   },
   {
    "duration": 925,
    "start_time": "2022-11-04T15:14:51.620Z"
   },
   {
    "duration": 934,
    "start_time": "2022-11-04T15:14:55.222Z"
   },
   {
    "duration": 1037,
    "start_time": "2022-11-04T15:15:41.829Z"
   },
   {
    "duration": 903,
    "start_time": "2022-11-04T15:15:53.794Z"
   },
   {
    "duration": 1045,
    "start_time": "2022-11-04T15:15:59.752Z"
   },
   {
    "duration": 244,
    "start_time": "2022-11-04T15:17:47.330Z"
   },
   {
    "duration": 228,
    "start_time": "2022-11-04T15:17:50.435Z"
   },
   {
    "duration": 231,
    "start_time": "2022-11-04T15:17:57.522Z"
   },
   {
    "duration": 299,
    "start_time": "2022-11-04T15:20:28.878Z"
   },
   {
    "duration": 994,
    "start_time": "2022-11-04T15:20:36.500Z"
   },
   {
    "duration": 77,
    "start_time": "2022-11-04T15:24:46.006Z"
   },
   {
    "duration": 52,
    "start_time": "2022-11-04T15:25:03.254Z"
   },
   {
    "duration": 170,
    "start_time": "2022-11-04T15:26:46.302Z"
   },
   {
    "duration": 1098,
    "start_time": "2022-11-04T15:29:28.076Z"
   },
   {
    "duration": 948,
    "start_time": "2022-11-04T15:29:52.249Z"
   },
   {
    "duration": 1054,
    "start_time": "2022-11-04T15:30:19.643Z"
   },
   {
    "duration": 1054,
    "start_time": "2022-11-04T15:30:41.472Z"
   },
   {
    "duration": 1388,
    "start_time": "2022-11-04T15:32:29.162Z"
   },
   {
    "duration": 1118,
    "start_time": "2022-11-04T15:32:58.747Z"
   },
   {
    "duration": 16,
    "start_time": "2022-11-04T15:33:36.773Z"
   },
   {
    "duration": 17,
    "start_time": "2022-11-04T15:33:53.693Z"
   },
   {
    "duration": 992,
    "start_time": "2022-11-04T15:34:08.163Z"
   },
   {
    "duration": 951,
    "start_time": "2022-11-04T15:34:15.318Z"
   },
   {
    "duration": 16,
    "start_time": "2022-11-04T15:34:19.354Z"
   },
   {
    "duration": 130,
    "start_time": "2022-11-04T15:35:08.579Z"
   },
   {
    "duration": 275,
    "start_time": "2022-11-04T15:35:22.884Z"
   },
   {
    "duration": 131,
    "start_time": "2022-11-04T15:36:03.575Z"
   },
   {
    "duration": 125,
    "start_time": "2022-11-04T15:36:26.717Z"
   },
   {
    "duration": 1012,
    "start_time": "2022-11-04T15:37:08.485Z"
   },
   {
    "duration": 1355,
    "start_time": "2022-11-04T18:24:46.174Z"
   },
   {
    "duration": 91,
    "start_time": "2022-11-04T18:24:47.531Z"
   },
   {
    "duration": 21,
    "start_time": "2022-11-04T18:24:47.624Z"
   },
   {
    "duration": 14,
    "start_time": "2022-11-04T18:24:47.647Z"
   },
   {
    "duration": 17,
    "start_time": "2022-11-04T18:24:47.662Z"
   },
   {
    "duration": 25,
    "start_time": "2022-11-04T18:24:47.681Z"
   },
   {
    "duration": 2,
    "start_time": "2022-11-04T18:24:47.708Z"
   },
   {
    "duration": 13,
    "start_time": "2022-11-04T18:24:47.712Z"
   },
   {
    "duration": 15,
    "start_time": "2022-11-04T18:24:47.727Z"
   },
   {
    "duration": 12,
    "start_time": "2022-11-04T18:24:47.745Z"
   },
   {
    "duration": 31,
    "start_time": "2022-11-04T18:24:47.758Z"
   },
   {
    "duration": 31,
    "start_time": "2022-11-04T18:24:47.790Z"
   },
   {
    "duration": 7,
    "start_time": "2022-11-04T18:24:47.823Z"
   },
   {
    "duration": 10,
    "start_time": "2022-11-04T18:24:47.832Z"
   },
   {
    "duration": 10,
    "start_time": "2022-11-04T18:24:47.843Z"
   },
   {
    "duration": 32,
    "start_time": "2022-11-04T18:24:47.854Z"
   },
   {
    "duration": 5,
    "start_time": "2022-11-04T18:24:47.887Z"
   },
   {
    "duration": 11,
    "start_time": "2022-11-04T18:24:47.893Z"
   },
   {
    "duration": 10,
    "start_time": "2022-11-04T18:24:47.905Z"
   },
   {
    "duration": 7,
    "start_time": "2022-11-04T18:24:47.917Z"
   },
   {
    "duration": 17,
    "start_time": "2022-11-04T18:24:47.925Z"
   },
   {
    "duration": 7,
    "start_time": "2022-11-04T18:24:47.944Z"
   },
   {
    "duration": 9,
    "start_time": "2022-11-04T18:24:47.952Z"
   },
   {
    "duration": 19,
    "start_time": "2022-11-04T18:24:47.962Z"
   },
   {
    "duration": 14,
    "start_time": "2022-11-04T18:24:47.982Z"
   },
   {
    "duration": 4,
    "start_time": "2022-11-04T18:24:47.997Z"
   },
   {
    "duration": 16,
    "start_time": "2022-11-04T18:24:48.002Z"
   },
   {
    "duration": 29,
    "start_time": "2022-11-04T18:24:48.021Z"
   },
   {
    "duration": 25,
    "start_time": "2022-11-04T18:24:48.052Z"
   },
   {
    "duration": 6,
    "start_time": "2022-11-04T18:24:48.079Z"
   },
   {
    "duration": 207,
    "start_time": "2022-11-04T18:24:48.087Z"
   },
   {
    "duration": 8,
    "start_time": "2022-11-04T18:24:48.295Z"
   },
   {
    "duration": 360,
    "start_time": "2022-11-04T18:24:48.304Z"
   },
   {
    "duration": 6,
    "start_time": "2022-11-04T18:24:48.666Z"
   },
   {
    "duration": 279,
    "start_time": "2022-11-04T18:24:48.674Z"
   },
   {
    "duration": 65,
    "start_time": "2022-11-04T18:24:48.954Z"
   },
   {
    "duration": 271,
    "start_time": "2022-11-04T18:24:49.021Z"
   },
   {
    "duration": 254,
    "start_time": "2022-11-04T18:24:49.293Z"
   },
   {
    "duration": 217,
    "start_time": "2022-11-04T18:24:49.549Z"
   },
   {
    "duration": 140,
    "start_time": "2022-11-04T18:24:49.768Z"
   },
   {
    "duration": 988,
    "start_time": "2022-11-04T18:24:49.909Z"
   },
   {
    "duration": 17,
    "start_time": "2022-11-04T18:24:50.899Z"
   },
   {
    "duration": 53,
    "start_time": "2022-11-04T18:24:50.917Z"
   },
   {
    "duration": 19,
    "start_time": "2022-11-04T18:24:50.972Z"
   },
   {
    "duration": 140,
    "start_time": "2022-11-04T18:24:50.992Z"
   },
   {
    "duration": 116,
    "start_time": "2022-11-04T18:24:51.134Z"
   },
   {
    "duration": 156,
    "start_time": "2022-11-04T18:24:51.252Z"
   },
   {
    "duration": 118,
    "start_time": "2022-11-04T18:24:51.409Z"
   },
   {
    "duration": 135,
    "start_time": "2022-11-04T18:24:51.529Z"
   },
   {
    "duration": 181,
    "start_time": "2022-11-04T18:24:51.666Z"
   },
   {
    "duration": 144,
    "start_time": "2022-11-04T18:24:51.849Z"
   },
   {
    "duration": 123,
    "start_time": "2022-11-04T18:24:51.995Z"
   },
   {
    "duration": 165,
    "start_time": "2022-11-04T18:24:52.120Z"
   },
   {
    "duration": 117,
    "start_time": "2022-11-04T18:24:52.287Z"
   },
   {
    "duration": 145,
    "start_time": "2022-11-04T18:24:52.406Z"
   },
   {
    "duration": 123,
    "start_time": "2022-11-04T18:24:52.553Z"
   },
   {
    "duration": 205,
    "start_time": "2022-11-04T18:24:52.678Z"
   },
   {
    "duration": 184,
    "start_time": "2022-11-04T18:24:52.884Z"
   },
   {
    "duration": 10,
    "start_time": "2022-11-04T18:24:53.069Z"
   },
   {
    "duration": 18,
    "start_time": "2022-11-04T18:24:53.080Z"
   },
   {
    "duration": 19,
    "start_time": "2022-11-04T18:24:53.100Z"
   },
   {
    "duration": 15,
    "start_time": "2022-11-04T18:24:53.120Z"
   },
   {
    "duration": 27,
    "start_time": "2022-11-04T18:24:53.136Z"
   },
   {
    "duration": 19,
    "start_time": "2022-11-04T18:24:53.165Z"
   },
   {
    "duration": 15,
    "start_time": "2022-11-04T18:24:53.186Z"
   },
   {
    "duration": 42,
    "start_time": "2022-11-04T18:24:53.202Z"
   },
   {
    "duration": 23,
    "start_time": "2022-11-04T18:24:53.246Z"
   },
   {
    "duration": 14,
    "start_time": "2022-11-04T18:24:53.271Z"
   },
   {
    "duration": 24,
    "start_time": "2022-11-04T18:24:53.287Z"
   },
   {
    "duration": 10,
    "start_time": "2022-11-04T18:24:53.313Z"
   },
   {
    "duration": 7,
    "start_time": "2022-11-04T18:27:42.059Z"
   },
   {
    "duration": 120,
    "start_time": "2022-11-04T18:36:06.894Z"
   },
   {
    "duration": 21,
    "start_time": "2022-11-04T18:36:56.586Z"
   },
   {
    "duration": 22,
    "start_time": "2022-11-04T18:37:48.382Z"
   },
   {
    "duration": 382,
    "start_time": "2022-11-04T18:39:04.031Z"
   },
   {
    "duration": 1113,
    "start_time": "2022-11-04T18:39:26.004Z"
   },
   {
    "duration": 49,
    "start_time": "2022-11-04T18:39:27.120Z"
   },
   {
    "duration": 17,
    "start_time": "2022-11-04T18:39:27.171Z"
   },
   {
    "duration": 14,
    "start_time": "2022-11-04T18:39:27.189Z"
   },
   {
    "duration": 18,
    "start_time": "2022-11-04T18:39:27.204Z"
   },
   {
    "duration": 28,
    "start_time": "2022-11-04T18:39:27.224Z"
   },
   {
    "duration": 3,
    "start_time": "2022-11-04T18:39:27.253Z"
   },
   {
    "duration": 9,
    "start_time": "2022-11-04T18:39:27.276Z"
   },
   {
    "duration": 13,
    "start_time": "2022-11-04T18:39:27.286Z"
   },
   {
    "duration": 13,
    "start_time": "2022-11-04T18:39:27.302Z"
   },
   {
    "duration": 17,
    "start_time": "2022-11-04T18:39:27.316Z"
   },
   {
    "duration": 43,
    "start_time": "2022-11-04T18:39:27.335Z"
   },
   {
    "duration": 8,
    "start_time": "2022-11-04T18:39:27.380Z"
   },
   {
    "duration": 9,
    "start_time": "2022-11-04T18:39:27.390Z"
   },
   {
    "duration": 8,
    "start_time": "2022-11-04T18:39:27.400Z"
   },
   {
    "duration": 22,
    "start_time": "2022-11-04T18:39:27.409Z"
   },
   {
    "duration": 4,
    "start_time": "2022-11-04T18:39:27.433Z"
   },
   {
    "duration": 11,
    "start_time": "2022-11-04T18:39:27.439Z"
   },
   {
    "duration": 26,
    "start_time": "2022-11-04T18:39:27.451Z"
   },
   {
    "duration": 9,
    "start_time": "2022-11-04T18:39:27.478Z"
   },
   {
    "duration": 12,
    "start_time": "2022-11-04T18:39:27.489Z"
   },
   {
    "duration": 6,
    "start_time": "2022-11-04T18:39:27.503Z"
   },
   {
    "duration": 11,
    "start_time": "2022-11-04T18:39:27.511Z"
   },
   {
    "duration": 15,
    "start_time": "2022-11-04T18:39:27.523Z"
   },
   {
    "duration": 13,
    "start_time": "2022-11-04T18:39:27.540Z"
   },
   {
    "duration": 4,
    "start_time": "2022-11-04T18:39:27.554Z"
   },
   {
    "duration": 20,
    "start_time": "2022-11-04T18:39:27.559Z"
   },
   {
    "duration": 33,
    "start_time": "2022-11-04T18:39:27.583Z"
   },
   {
    "duration": 13,
    "start_time": "2022-11-04T18:39:27.617Z"
   },
   {
    "duration": 23,
    "start_time": "2022-11-04T18:39:27.631Z"
   },
   {
    "duration": 222,
    "start_time": "2022-11-04T18:39:27.656Z"
   },
   {
    "duration": 7,
    "start_time": "2022-11-04T18:39:27.880Z"
   },
   {
    "duration": 363,
    "start_time": "2022-11-04T18:39:27.889Z"
   },
   {
    "duration": 472,
    "start_time": "2022-11-04T18:39:28.254Z"
   },
   {
    "duration": 7,
    "start_time": "2022-11-04T18:39:28.728Z"
   },
   {
    "duration": 314,
    "start_time": "2022-11-04T18:39:28.736Z"
   },
   {
    "duration": 81,
    "start_time": "2022-11-04T18:39:29.052Z"
   },
   {
    "duration": 265,
    "start_time": "2022-11-04T18:39:29.135Z"
   },
   {
    "duration": 328,
    "start_time": "2022-11-04T18:39:29.401Z"
   },
   {
    "duration": 156,
    "start_time": "2022-11-04T18:39:29.731Z"
   },
   {
    "duration": 147,
    "start_time": "2022-11-04T18:39:29.888Z"
   },
   {
    "duration": 1062,
    "start_time": "2022-11-04T18:39:30.037Z"
   },
   {
    "duration": 21,
    "start_time": "2022-11-04T18:39:31.102Z"
   },
   {
    "duration": 38,
    "start_time": "2022-11-04T18:39:31.125Z"
   },
   {
    "duration": 23,
    "start_time": "2022-11-04T18:39:31.165Z"
   },
   {
    "duration": 21,
    "start_time": "2022-11-04T18:39:31.190Z"
   },
   {
    "duration": 144,
    "start_time": "2022-11-04T18:39:31.213Z"
   },
   {
    "duration": 117,
    "start_time": "2022-11-04T18:39:31.359Z"
   },
   {
    "duration": 151,
    "start_time": "2022-11-04T18:39:31.478Z"
   },
   {
    "duration": 127,
    "start_time": "2022-11-04T18:39:31.630Z"
   },
   {
    "duration": 223,
    "start_time": "2022-11-04T18:39:31.759Z"
   },
   {
    "duration": 113,
    "start_time": "2022-11-04T18:39:31.984Z"
   },
   {
    "duration": 153,
    "start_time": "2022-11-04T18:39:32.098Z"
   },
   {
    "duration": 125,
    "start_time": "2022-11-04T18:39:32.253Z"
   },
   {
    "duration": 164,
    "start_time": "2022-11-04T18:39:32.380Z"
   },
   {
    "duration": 137,
    "start_time": "2022-11-04T18:39:32.546Z"
   },
   {
    "duration": 139,
    "start_time": "2022-11-04T18:39:32.685Z"
   },
   {
    "duration": 123,
    "start_time": "2022-11-04T18:39:32.826Z"
   },
   {
    "duration": 186,
    "start_time": "2022-11-04T18:39:32.951Z"
   },
   {
    "duration": 184,
    "start_time": "2022-11-04T18:39:33.138Z"
   },
   {
    "duration": 4,
    "start_time": "2022-11-04T18:39:33.324Z"
   },
   {
    "duration": 7,
    "start_time": "2022-11-04T18:39:33.329Z"
   },
   {
    "duration": 7,
    "start_time": "2022-11-04T18:39:33.337Z"
   },
   {
    "duration": 5,
    "start_time": "2022-11-04T18:39:33.345Z"
   },
   {
    "duration": 6,
    "start_time": "2022-11-04T18:39:33.352Z"
   },
   {
    "duration": 17,
    "start_time": "2022-11-04T18:39:33.360Z"
   },
   {
    "duration": 7,
    "start_time": "2022-11-04T18:39:33.378Z"
   },
   {
    "duration": 10,
    "start_time": "2022-11-04T18:39:33.387Z"
   },
   {
    "duration": 6,
    "start_time": "2022-11-04T18:39:33.398Z"
   },
   {
    "duration": 5,
    "start_time": "2022-11-04T18:39:33.405Z"
   },
   {
    "duration": 6,
    "start_time": "2022-11-04T18:39:33.411Z"
   },
   {
    "duration": 8,
    "start_time": "2022-11-04T18:39:33.418Z"
   },
   {
    "duration": 125,
    "start_time": "2022-11-04T18:40:07.222Z"
   },
   {
    "duration": 295,
    "start_time": "2022-11-04T18:40:17.187Z"
   },
   {
    "duration": 1078,
    "start_time": "2022-11-04T18:40:25.221Z"
   },
   {
    "duration": 52,
    "start_time": "2022-11-04T18:40:26.301Z"
   },
   {
    "duration": 17,
    "start_time": "2022-11-04T18:40:26.355Z"
   },
   {
    "duration": 15,
    "start_time": "2022-11-04T18:40:26.374Z"
   },
   {
    "duration": 16,
    "start_time": "2022-11-04T18:40:26.390Z"
   },
   {
    "duration": 29,
    "start_time": "2022-11-04T18:40:26.408Z"
   },
   {
    "duration": 3,
    "start_time": "2022-11-04T18:40:26.439Z"
   },
   {
    "duration": 32,
    "start_time": "2022-11-04T18:40:26.444Z"
   },
   {
    "duration": 10,
    "start_time": "2022-11-04T18:40:26.478Z"
   },
   {
    "duration": 14,
    "start_time": "2022-11-04T18:40:26.491Z"
   },
   {
    "duration": 17,
    "start_time": "2022-11-04T18:40:26.507Z"
   },
   {
    "duration": 51,
    "start_time": "2022-11-04T18:40:26.526Z"
   },
   {
    "duration": 21,
    "start_time": "2022-11-04T18:40:26.579Z"
   },
   {
    "duration": 12,
    "start_time": "2022-11-04T18:40:26.602Z"
   },
   {
    "duration": 12,
    "start_time": "2022-11-04T18:40:26.615Z"
   },
   {
    "duration": 22,
    "start_time": "2022-11-04T18:40:26.629Z"
   },
   {
    "duration": 5,
    "start_time": "2022-11-04T18:40:26.653Z"
   },
   {
    "duration": 17,
    "start_time": "2022-11-04T18:40:26.659Z"
   },
   {
    "duration": 10,
    "start_time": "2022-11-04T18:40:26.678Z"
   },
   {
    "duration": 6,
    "start_time": "2022-11-04T18:40:26.690Z"
   },
   {
    "duration": 8,
    "start_time": "2022-11-04T18:40:26.697Z"
   },
   {
    "duration": 13,
    "start_time": "2022-11-04T18:40:26.707Z"
   },
   {
    "duration": 6,
    "start_time": "2022-11-04T18:40:26.722Z"
   },
   {
    "duration": 14,
    "start_time": "2022-11-04T18:40:26.730Z"
   },
   {
    "duration": 15,
    "start_time": "2022-11-04T18:40:26.745Z"
   },
   {
    "duration": 5,
    "start_time": "2022-11-04T18:40:26.777Z"
   },
   {
    "duration": 6,
    "start_time": "2022-11-04T18:40:26.784Z"
   },
   {
    "duration": 35,
    "start_time": "2022-11-04T18:40:26.794Z"
   },
   {
    "duration": 15,
    "start_time": "2022-11-04T18:40:26.831Z"
   },
   {
    "duration": 31,
    "start_time": "2022-11-04T18:40:26.847Z"
   },
   {
    "duration": 247,
    "start_time": "2022-11-04T18:40:26.880Z"
   },
   {
    "duration": 9,
    "start_time": "2022-11-04T18:40:27.129Z"
   },
   {
    "duration": 341,
    "start_time": "2022-11-04T18:40:27.139Z"
   },
   {
    "duration": 431,
    "start_time": "2022-11-04T18:40:27.482Z"
   },
   {
    "duration": 9,
    "start_time": "2022-11-04T18:40:27.915Z"
   },
   {
    "duration": 287,
    "start_time": "2022-11-04T18:40:27.926Z"
   },
   {
    "duration": 69,
    "start_time": "2022-11-04T18:40:28.215Z"
   },
   {
    "duration": 251,
    "start_time": "2022-11-04T18:40:28.286Z"
   },
   {
    "duration": 356,
    "start_time": "2022-11-04T18:40:28.539Z"
   },
   {
    "duration": 159,
    "start_time": "2022-11-04T18:40:28.897Z"
   },
   {
    "duration": 160,
    "start_time": "2022-11-04T18:40:29.058Z"
   },
   {
    "duration": 1016,
    "start_time": "2022-11-04T18:40:29.221Z"
   },
   {
    "duration": 20,
    "start_time": "2022-11-04T18:40:30.239Z"
   },
   {
    "duration": 7,
    "start_time": "2022-11-04T18:40:30.276Z"
   },
   {
    "duration": 35,
    "start_time": "2022-11-04T18:40:30.285Z"
   },
   {
    "duration": 43,
    "start_time": "2022-11-04T18:40:30.321Z"
   },
   {
    "duration": 179,
    "start_time": "2022-11-04T18:40:30.366Z"
   },
   {
    "duration": 135,
    "start_time": "2022-11-04T18:40:30.547Z"
   },
   {
    "duration": 176,
    "start_time": "2022-11-04T18:40:30.684Z"
   },
   {
    "duration": 128,
    "start_time": "2022-11-04T18:40:30.862Z"
   },
   {
    "duration": 240,
    "start_time": "2022-11-04T18:40:30.993Z"
   },
   {
    "duration": 115,
    "start_time": "2022-11-04T18:40:31.235Z"
   },
   {
    "duration": 150,
    "start_time": "2022-11-04T18:40:31.352Z"
   },
   {
    "duration": 117,
    "start_time": "2022-11-04T18:40:31.504Z"
   },
   {
    "duration": 154,
    "start_time": "2022-11-04T18:40:31.622Z"
   },
   {
    "duration": 119,
    "start_time": "2022-11-04T18:40:31.778Z"
   },
   {
    "duration": 148,
    "start_time": "2022-11-04T18:40:31.899Z"
   },
   {
    "duration": 117,
    "start_time": "2022-11-04T18:40:32.049Z"
   },
   {
    "duration": 171,
    "start_time": "2022-11-04T18:40:32.177Z"
   },
   {
    "duration": 184,
    "start_time": "2022-11-04T18:40:32.350Z"
   },
   {
    "duration": 4,
    "start_time": "2022-11-04T18:40:32.536Z"
   },
   {
    "duration": 12,
    "start_time": "2022-11-04T18:40:32.542Z"
   },
   {
    "duration": 12,
    "start_time": "2022-11-04T18:40:32.556Z"
   },
   {
    "duration": 13,
    "start_time": "2022-11-04T18:40:32.570Z"
   },
   {
    "duration": 7,
    "start_time": "2022-11-04T18:40:32.585Z"
   },
   {
    "duration": 13,
    "start_time": "2022-11-04T18:40:32.594Z"
   },
   {
    "duration": 9,
    "start_time": "2022-11-04T18:40:32.609Z"
   },
   {
    "duration": 7,
    "start_time": "2022-11-04T18:40:32.620Z"
   },
   {
    "duration": 11,
    "start_time": "2022-11-04T18:40:32.629Z"
   },
   {
    "duration": 13,
    "start_time": "2022-11-04T18:40:32.641Z"
   },
   {
    "duration": 8,
    "start_time": "2022-11-04T18:40:32.655Z"
   },
   {
    "duration": 20,
    "start_time": "2022-11-04T18:40:32.664Z"
   },
   {
    "duration": 12,
    "start_time": "2022-11-04T18:42:07.386Z"
   },
   {
    "duration": 316,
    "start_time": "2022-11-04T18:42:22.834Z"
   },
   {
    "duration": 17,
    "start_time": "2022-11-04T18:42:36.256Z"
   },
   {
    "duration": 1121,
    "start_time": "2022-11-04T18:42:49.368Z"
   },
   {
    "duration": 49,
    "start_time": "2022-11-04T18:42:50.491Z"
   },
   {
    "duration": 18,
    "start_time": "2022-11-04T18:42:50.542Z"
   },
   {
    "duration": 14,
    "start_time": "2022-11-04T18:42:50.562Z"
   },
   {
    "duration": 21,
    "start_time": "2022-11-04T18:42:50.578Z"
   },
   {
    "duration": 28,
    "start_time": "2022-11-04T18:42:50.600Z"
   },
   {
    "duration": 3,
    "start_time": "2022-11-04T18:42:50.630Z"
   },
   {
    "duration": 13,
    "start_time": "2022-11-04T18:42:50.634Z"
   },
   {
    "duration": 13,
    "start_time": "2022-11-04T18:42:50.649Z"
   },
   {
    "duration": 14,
    "start_time": "2022-11-04T18:42:50.678Z"
   },
   {
    "duration": 15,
    "start_time": "2022-11-04T18:42:50.693Z"
   },
   {
    "duration": 26,
    "start_time": "2022-11-04T18:42:50.710Z"
   },
   {
    "duration": 8,
    "start_time": "2022-11-04T18:42:50.737Z"
   },
   {
    "duration": 4,
    "start_time": "2022-11-04T18:42:50.747Z"
   },
   {
    "duration": 29,
    "start_time": "2022-11-04T18:42:50.752Z"
   },
   {
    "duration": 27,
    "start_time": "2022-11-04T18:42:50.783Z"
   },
   {
    "duration": 4,
    "start_time": "2022-11-04T18:42:50.811Z"
   },
   {
    "duration": 13,
    "start_time": "2022-11-04T18:42:50.816Z"
   },
   {
    "duration": 9,
    "start_time": "2022-11-04T18:42:50.830Z"
   },
   {
    "duration": 8,
    "start_time": "2022-11-04T18:42:50.841Z"
   },
   {
    "duration": 15,
    "start_time": "2022-11-04T18:42:50.851Z"
   },
   {
    "duration": 16,
    "start_time": "2022-11-04T18:42:50.867Z"
   },
   {
    "duration": 12,
    "start_time": "2022-11-04T18:42:50.885Z"
   },
   {
    "duration": 14,
    "start_time": "2022-11-04T18:42:50.899Z"
   },
   {
    "duration": 20,
    "start_time": "2022-11-04T18:42:50.915Z"
   },
   {
    "duration": 4,
    "start_time": "2022-11-04T18:42:50.937Z"
   },
   {
    "duration": 13,
    "start_time": "2022-11-04T18:42:50.942Z"
   },
   {
    "duration": 30,
    "start_time": "2022-11-04T18:42:50.958Z"
   },
   {
    "duration": 13,
    "start_time": "2022-11-04T18:42:50.990Z"
   },
   {
    "duration": 11,
    "start_time": "2022-11-04T18:42:51.005Z"
   },
   {
    "duration": 213,
    "start_time": "2022-11-04T18:42:51.017Z"
   },
   {
    "duration": 9,
    "start_time": "2022-11-04T18:42:51.232Z"
   },
   {
    "duration": 353,
    "start_time": "2022-11-04T18:42:51.243Z"
   },
   {
    "duration": 44,
    "start_time": "2022-11-04T18:42:51.598Z"
   },
   {
    "duration": 443,
    "start_time": "2022-11-04T18:42:51.644Z"
   },
   {
    "duration": 7,
    "start_time": "2022-11-04T18:42:52.088Z"
   },
   {
    "duration": 283,
    "start_time": "2022-11-04T18:42:52.096Z"
   },
   {
    "duration": 66,
    "start_time": "2022-11-04T18:42:52.380Z"
   },
   {
    "duration": 269,
    "start_time": "2022-11-04T18:42:52.448Z"
   },
   {
    "duration": 334,
    "start_time": "2022-11-04T18:42:52.719Z"
   },
   {
    "duration": 149,
    "start_time": "2022-11-04T18:42:53.054Z"
   },
   {
    "duration": 156,
    "start_time": "2022-11-04T18:42:53.204Z"
   },
   {
    "duration": 1068,
    "start_time": "2022-11-04T18:42:53.361Z"
   },
   {
    "duration": 20,
    "start_time": "2022-11-04T18:42:54.430Z"
   },
   {
    "duration": 25,
    "start_time": "2022-11-04T18:42:54.452Z"
   },
   {
    "duration": 7,
    "start_time": "2022-11-04T18:42:54.479Z"
   },
   {
    "duration": 14,
    "start_time": "2022-11-04T18:42:54.488Z"
   },
   {
    "duration": 176,
    "start_time": "2022-11-04T18:42:54.504Z"
   },
   {
    "duration": 145,
    "start_time": "2022-11-04T18:42:54.682Z"
   },
   {
    "duration": 165,
    "start_time": "2022-11-04T18:42:54.829Z"
   },
   {
    "duration": 123,
    "start_time": "2022-11-04T18:42:54.996Z"
   },
   {
    "duration": 293,
    "start_time": "2022-11-04T18:42:55.121Z"
   },
   {
    "duration": 131,
    "start_time": "2022-11-04T18:42:55.416Z"
   },
   {
    "duration": 177,
    "start_time": "2022-11-04T18:42:55.548Z"
   },
   {
    "duration": 126,
    "start_time": "2022-11-04T18:42:55.727Z"
   },
   {
    "duration": 161,
    "start_time": "2022-11-04T18:42:55.854Z"
   },
   {
    "duration": 128,
    "start_time": "2022-11-04T18:42:56.016Z"
   },
   {
    "duration": 146,
    "start_time": "2022-11-04T18:42:56.146Z"
   },
   {
    "duration": 122,
    "start_time": "2022-11-04T18:42:56.293Z"
   },
   {
    "duration": 200,
    "start_time": "2022-11-04T18:42:56.417Z"
   },
   {
    "duration": 197,
    "start_time": "2022-11-04T18:42:56.619Z"
   },
   {
    "duration": 6,
    "start_time": "2022-11-04T18:42:56.817Z"
   },
   {
    "duration": 22,
    "start_time": "2022-11-04T18:42:56.825Z"
   },
   {
    "duration": 21,
    "start_time": "2022-11-04T18:42:56.849Z"
   },
   {
    "duration": 25,
    "start_time": "2022-11-04T18:42:56.872Z"
   },
   {
    "duration": 19,
    "start_time": "2022-11-04T18:42:56.899Z"
   },
   {
    "duration": 31,
    "start_time": "2022-11-04T18:42:56.920Z"
   },
   {
    "duration": 18,
    "start_time": "2022-11-04T18:42:56.953Z"
   },
   {
    "duration": 15,
    "start_time": "2022-11-04T18:42:56.973Z"
   },
   {
    "duration": 35,
    "start_time": "2022-11-04T18:42:56.990Z"
   },
   {
    "duration": 17,
    "start_time": "2022-11-04T18:42:57.027Z"
   },
   {
    "duration": 7,
    "start_time": "2022-11-04T18:42:57.046Z"
   },
   {
    "duration": 31,
    "start_time": "2022-11-04T18:42:57.055Z"
   },
   {
    "duration": 635,
    "start_time": "2022-11-04T18:44:58.831Z"
   },
   {
    "duration": 510,
    "start_time": "2022-11-04T18:45:50.965Z"
   },
   {
    "duration": 520,
    "start_time": "2022-11-04T18:46:03.009Z"
   },
   {
    "duration": 38,
    "start_time": "2022-11-04T18:46:44.179Z"
   },
   {
    "duration": 6,
    "start_time": "2022-11-04T18:46:54.136Z"
   },
   {
    "duration": 515,
    "start_time": "2022-11-04T18:47:09.674Z"
   },
   {
    "duration": 510,
    "start_time": "2022-11-04T18:47:16.922Z"
   },
   {
    "duration": 33,
    "start_time": "2022-11-04T18:47:22.093Z"
   },
   {
    "duration": 8,
    "start_time": "2022-11-04T18:47:35.441Z"
   },
   {
    "duration": 21,
    "start_time": "2022-11-04T18:47:48.890Z"
   },
   {
    "duration": 334,
    "start_time": "2022-11-04T18:48:05.121Z"
   },
   {
    "duration": 8,
    "start_time": "2022-11-04T18:48:16.660Z"
   },
   {
    "duration": 7,
    "start_time": "2022-11-04T18:48:23.506Z"
   },
   {
    "duration": 1067,
    "start_time": "2022-11-04T18:48:32.423Z"
   },
   {
    "duration": 50,
    "start_time": "2022-11-04T18:48:33.492Z"
   },
   {
    "duration": 18,
    "start_time": "2022-11-04T18:48:33.543Z"
   },
   {
    "duration": 14,
    "start_time": "2022-11-04T18:48:33.564Z"
   },
   {
    "duration": 15,
    "start_time": "2022-11-04T18:48:33.580Z"
   },
   {
    "duration": 29,
    "start_time": "2022-11-04T18:48:33.597Z"
   },
   {
    "duration": 3,
    "start_time": "2022-11-04T18:48:33.628Z"
   },
   {
    "duration": 12,
    "start_time": "2022-11-04T18:48:33.633Z"
   },
   {
    "duration": 36,
    "start_time": "2022-11-04T18:48:33.646Z"
   },
   {
    "duration": 13,
    "start_time": "2022-11-04T18:48:33.686Z"
   },
   {
    "duration": 14,
    "start_time": "2022-11-04T18:48:33.700Z"
   },
   {
    "duration": 26,
    "start_time": "2022-11-04T18:48:33.716Z"
   },
   {
    "duration": 34,
    "start_time": "2022-11-04T18:48:33.743Z"
   },
   {
    "duration": 4,
    "start_time": "2022-11-04T18:48:33.779Z"
   },
   {
    "duration": 7,
    "start_time": "2022-11-04T18:48:33.785Z"
   },
   {
    "duration": 19,
    "start_time": "2022-11-04T18:48:33.794Z"
   },
   {
    "duration": 4,
    "start_time": "2022-11-04T18:48:33.814Z"
   },
   {
    "duration": 8,
    "start_time": "2022-11-04T18:48:33.820Z"
   },
   {
    "duration": 10,
    "start_time": "2022-11-04T18:48:33.829Z"
   },
   {
    "duration": 7,
    "start_time": "2022-11-04T18:48:33.841Z"
   },
   {
    "duration": 6,
    "start_time": "2022-11-04T18:48:33.877Z"
   },
   {
    "duration": 6,
    "start_time": "2022-11-04T18:48:33.884Z"
   },
   {
    "duration": 5,
    "start_time": "2022-11-04T18:48:33.892Z"
   },
   {
    "duration": 16,
    "start_time": "2022-11-04T18:48:33.898Z"
   },
   {
    "duration": 13,
    "start_time": "2022-11-04T18:48:33.915Z"
   },
   {
    "duration": 4,
    "start_time": "2022-11-04T18:48:33.929Z"
   },
   {
    "duration": 13,
    "start_time": "2022-11-04T18:48:33.934Z"
   },
   {
    "duration": 53,
    "start_time": "2022-11-04T18:48:33.950Z"
   },
   {
    "duration": 12,
    "start_time": "2022-11-04T18:48:34.004Z"
   },
   {
    "duration": 7,
    "start_time": "2022-11-04T18:48:34.017Z"
   },
   {
    "duration": 212,
    "start_time": "2022-11-04T18:48:34.025Z"
   },
   {
    "duration": 8,
    "start_time": "2022-11-04T18:48:34.238Z"
   },
   {
    "duration": 357,
    "start_time": "2022-11-04T18:48:34.247Z"
   },
   {
    "duration": 60,
    "start_time": "2022-11-04T18:48:34.606Z"
   },
   {
    "duration": 432,
    "start_time": "2022-11-04T18:48:34.668Z"
   },
   {
    "duration": 7,
    "start_time": "2022-11-04T18:48:35.102Z"
   },
   {
    "duration": 9,
    "start_time": "2022-11-04T18:48:35.110Z"
   },
   {
    "duration": 361,
    "start_time": "2022-11-04T18:48:35.121Z"
   },
   {
    "duration": 65,
    "start_time": "2022-11-04T18:48:35.484Z"
   },
   {
    "duration": 269,
    "start_time": "2022-11-04T18:48:35.551Z"
   },
   {
    "duration": 323,
    "start_time": "2022-11-04T18:48:35.821Z"
   },
   {
    "duration": 147,
    "start_time": "2022-11-04T18:48:36.147Z"
   },
   {
    "duration": 150,
    "start_time": "2022-11-04T18:48:36.296Z"
   },
   {
    "duration": 1041,
    "start_time": "2022-11-04T18:48:36.448Z"
   },
   {
    "duration": 18,
    "start_time": "2022-11-04T18:48:37.490Z"
   },
   {
    "duration": 6,
    "start_time": "2022-11-04T18:48:37.509Z"
   },
   {
    "duration": 17,
    "start_time": "2022-11-04T18:48:37.516Z"
   },
   {
    "duration": 6,
    "start_time": "2022-11-04T18:48:37.534Z"
   },
   {
    "duration": 163,
    "start_time": "2022-11-04T18:48:37.542Z"
   },
   {
    "duration": 113,
    "start_time": "2022-11-04T18:48:37.706Z"
   },
   {
    "duration": 153,
    "start_time": "2022-11-04T18:48:37.820Z"
   },
   {
    "duration": 108,
    "start_time": "2022-11-04T18:48:37.974Z"
   },
   {
    "duration": 211,
    "start_time": "2022-11-04T18:48:38.084Z"
   },
   {
    "duration": 106,
    "start_time": "2022-11-04T18:48:38.297Z"
   },
   {
    "duration": 148,
    "start_time": "2022-11-04T18:48:38.404Z"
   },
   {
    "duration": 131,
    "start_time": "2022-11-04T18:48:38.554Z"
   },
   {
    "duration": 153,
    "start_time": "2022-11-04T18:48:38.687Z"
   },
   {
    "duration": 118,
    "start_time": "2022-11-04T18:48:38.842Z"
   },
   {
    "duration": 130,
    "start_time": "2022-11-04T18:48:38.961Z"
   },
   {
    "duration": 113,
    "start_time": "2022-11-04T18:48:39.093Z"
   },
   {
    "duration": 176,
    "start_time": "2022-11-04T18:48:39.208Z"
   },
   {
    "duration": 199,
    "start_time": "2022-11-04T18:48:39.385Z"
   },
   {
    "duration": 5,
    "start_time": "2022-11-04T18:48:39.586Z"
   },
   {
    "duration": 7,
    "start_time": "2022-11-04T18:48:39.592Z"
   },
   {
    "duration": 6,
    "start_time": "2022-11-04T18:48:39.600Z"
   },
   {
    "duration": 4,
    "start_time": "2022-11-04T18:48:39.607Z"
   },
   {
    "duration": 5,
    "start_time": "2022-11-04T18:48:39.612Z"
   },
   {
    "duration": 7,
    "start_time": "2022-11-04T18:48:39.619Z"
   },
   {
    "duration": 6,
    "start_time": "2022-11-04T18:48:39.627Z"
   },
   {
    "duration": 8,
    "start_time": "2022-11-04T18:48:39.634Z"
   },
   {
    "duration": 5,
    "start_time": "2022-11-04T18:48:39.644Z"
   },
   {
    "duration": 25,
    "start_time": "2022-11-04T18:48:39.651Z"
   },
   {
    "duration": 4,
    "start_time": "2022-11-04T18:48:39.678Z"
   },
   {
    "duration": 7,
    "start_time": "2022-11-04T18:48:39.683Z"
   },
   {
    "duration": 7,
    "start_time": "2022-11-04T18:49:04.866Z"
   },
   {
    "duration": 7,
    "start_time": "2022-11-04T18:49:07.896Z"
   },
   {
    "duration": 6,
    "start_time": "2022-11-04T18:49:21.043Z"
   },
   {
    "duration": 6,
    "start_time": "2022-11-04T18:49:39.063Z"
   },
   {
    "duration": 5,
    "start_time": "2022-11-04T18:49:58.499Z"
   },
   {
    "duration": 5,
    "start_time": "2022-11-04T18:51:13.410Z"
   },
   {
    "duration": 5,
    "start_time": "2022-11-04T18:51:21.430Z"
   },
   {
    "duration": 4,
    "start_time": "2022-11-04T18:52:00.971Z"
   },
   {
    "duration": 449,
    "start_time": "2022-11-04T18:52:42.861Z"
   },
   {
    "duration": 11,
    "start_time": "2022-11-04T18:53:27.276Z"
   },
   {
    "duration": 417,
    "start_time": "2022-11-04T18:53:29.146Z"
   },
   {
    "duration": 5,
    "start_time": "2022-11-04T18:53:30.842Z"
   },
   {
    "duration": 1097,
    "start_time": "2022-11-04T18:53:48.721Z"
   },
   {
    "duration": 50,
    "start_time": "2022-11-04T18:53:49.820Z"
   },
   {
    "duration": 17,
    "start_time": "2022-11-04T18:53:49.872Z"
   },
   {
    "duration": 13,
    "start_time": "2022-11-04T18:53:49.891Z"
   },
   {
    "duration": 26,
    "start_time": "2022-11-04T18:53:49.906Z"
   },
   {
    "duration": 36,
    "start_time": "2022-11-04T18:53:49.934Z"
   },
   {
    "duration": 5,
    "start_time": "2022-11-04T18:53:49.972Z"
   },
   {
    "duration": 15,
    "start_time": "2022-11-04T18:53:49.978Z"
   },
   {
    "duration": 23,
    "start_time": "2022-11-04T18:53:49.994Z"
   },
   {
    "duration": 22,
    "start_time": "2022-11-04T18:53:50.019Z"
   },
   {
    "duration": 23,
    "start_time": "2022-11-04T18:53:50.042Z"
   },
   {
    "duration": 33,
    "start_time": "2022-11-04T18:53:50.067Z"
   },
   {
    "duration": 8,
    "start_time": "2022-11-04T18:53:50.102Z"
   },
   {
    "duration": 21,
    "start_time": "2022-11-04T18:53:50.111Z"
   },
   {
    "duration": 13,
    "start_time": "2022-11-04T18:53:50.133Z"
   },
   {
    "duration": 34,
    "start_time": "2022-11-04T18:53:50.147Z"
   },
   {
    "duration": 4,
    "start_time": "2022-11-04T18:53:50.183Z"
   },
   {
    "duration": 10,
    "start_time": "2022-11-04T18:53:50.189Z"
   },
   {
    "duration": 19,
    "start_time": "2022-11-04T18:53:50.200Z"
   },
   {
    "duration": 27,
    "start_time": "2022-11-04T18:53:50.221Z"
   },
   {
    "duration": 13,
    "start_time": "2022-11-04T18:53:50.250Z"
   },
   {
    "duration": 16,
    "start_time": "2022-11-04T18:53:50.265Z"
   },
   {
    "duration": 11,
    "start_time": "2022-11-04T18:53:50.282Z"
   },
   {
    "duration": 19,
    "start_time": "2022-11-04T18:53:50.294Z"
   },
   {
    "duration": 19,
    "start_time": "2022-11-04T18:53:50.315Z"
   },
   {
    "duration": 4,
    "start_time": "2022-11-04T18:53:50.336Z"
   },
   {
    "duration": 29,
    "start_time": "2022-11-04T18:53:50.342Z"
   },
   {
    "duration": 47,
    "start_time": "2022-11-04T18:53:50.375Z"
   },
   {
    "duration": 14,
    "start_time": "2022-11-04T18:53:50.424Z"
   },
   {
    "duration": 27,
    "start_time": "2022-11-04T18:53:50.440Z"
   },
   {
    "duration": 256,
    "start_time": "2022-11-04T18:53:50.468Z"
   },
   {
    "duration": 8,
    "start_time": "2022-11-04T18:53:50.726Z"
   },
   {
    "duration": 352,
    "start_time": "2022-11-04T18:53:50.736Z"
   },
   {
    "duration": 13,
    "start_time": "2022-11-04T18:53:51.090Z"
   },
   {
    "duration": 398,
    "start_time": "2022-11-04T18:53:51.104Z"
   },
   {
    "duration": 5,
    "start_time": "2022-11-04T18:53:51.504Z"
   },
   {
    "duration": 18,
    "start_time": "2022-11-04T18:53:51.510Z"
   },
   {
    "duration": 300,
    "start_time": "2022-11-04T18:53:51.529Z"
   },
   {
    "duration": 67,
    "start_time": "2022-11-04T18:53:51.830Z"
   },
   {
    "duration": 261,
    "start_time": "2022-11-04T18:53:51.898Z"
   },
   {
    "duration": 327,
    "start_time": "2022-11-04T18:53:52.161Z"
   },
   {
    "duration": 153,
    "start_time": "2022-11-04T18:53:52.489Z"
   },
   {
    "duration": 152,
    "start_time": "2022-11-04T18:53:52.643Z"
   },
   {
    "duration": 1002,
    "start_time": "2022-11-04T18:53:52.796Z"
   },
   {
    "duration": 18,
    "start_time": "2022-11-04T18:53:53.800Z"
   },
   {
    "duration": 6,
    "start_time": "2022-11-04T18:53:53.819Z"
   },
   {
    "duration": 8,
    "start_time": "2022-11-04T18:53:53.827Z"
   },
   {
    "duration": 18,
    "start_time": "2022-11-04T18:53:53.837Z"
   },
   {
    "duration": 154,
    "start_time": "2022-11-04T18:53:53.876Z"
   },
   {
    "duration": 125,
    "start_time": "2022-11-04T18:53:54.031Z"
   },
   {
    "duration": 163,
    "start_time": "2022-11-04T18:53:54.158Z"
   },
   {
    "duration": 130,
    "start_time": "2022-11-04T18:53:54.323Z"
   },
   {
    "duration": 249,
    "start_time": "2022-11-04T18:53:54.455Z"
   },
   {
    "duration": 132,
    "start_time": "2022-11-04T18:53:54.706Z"
   },
   {
    "duration": 160,
    "start_time": "2022-11-04T18:53:54.840Z"
   },
   {
    "duration": 122,
    "start_time": "2022-11-04T18:53:55.002Z"
   },
   {
    "duration": 205,
    "start_time": "2022-11-04T18:53:55.126Z"
   },
   {
    "duration": 126,
    "start_time": "2022-11-04T18:53:55.333Z"
   },
   {
    "duration": 156,
    "start_time": "2022-11-04T18:53:55.460Z"
   },
   {
    "duration": 139,
    "start_time": "2022-11-04T18:53:55.619Z"
   },
   {
    "duration": 190,
    "start_time": "2022-11-04T18:53:55.760Z"
   },
   {
    "duration": 188,
    "start_time": "2022-11-04T18:53:55.951Z"
   },
   {
    "duration": 5,
    "start_time": "2022-11-04T18:53:56.141Z"
   },
   {
    "duration": 12,
    "start_time": "2022-11-04T18:53:56.147Z"
   },
   {
    "duration": 18,
    "start_time": "2022-11-04T18:53:56.160Z"
   },
   {
    "duration": 5,
    "start_time": "2022-11-04T18:53:56.179Z"
   },
   {
    "duration": 7,
    "start_time": "2022-11-04T18:53:56.186Z"
   },
   {
    "duration": 9,
    "start_time": "2022-11-04T18:53:56.195Z"
   },
   {
    "duration": 9,
    "start_time": "2022-11-04T18:53:56.205Z"
   },
   {
    "duration": 8,
    "start_time": "2022-11-04T18:53:56.216Z"
   },
   {
    "duration": 8,
    "start_time": "2022-11-04T18:53:56.225Z"
   },
   {
    "duration": 5,
    "start_time": "2022-11-04T18:53:56.234Z"
   },
   {
    "duration": 5,
    "start_time": "2022-11-04T18:53:56.241Z"
   },
   {
    "duration": 8,
    "start_time": "2022-11-04T18:53:56.248Z"
   },
   {
    "duration": 48,
    "start_time": "2022-11-04T19:11:59.882Z"
   },
   {
    "duration": 45,
    "start_time": "2022-11-04T19:13:15.839Z"
   },
   {
    "duration": 58,
    "start_time": "2022-11-04T19:14:47.903Z"
   },
   {
    "duration": 46,
    "start_time": "2022-11-04T19:15:21.270Z"
   },
   {
    "duration": 309,
    "start_time": "2022-11-04T19:15:30.276Z"
   },
   {
    "duration": 275,
    "start_time": "2022-11-04T19:16:36.746Z"
   },
   {
    "duration": 201,
    "start_time": "2022-11-04T19:16:54.541Z"
   },
   {
    "duration": 195,
    "start_time": "2022-11-04T19:19:14.671Z"
   },
   {
    "duration": 127,
    "start_time": "2022-11-04T19:20:23.051Z"
   },
   {
    "duration": 7,
    "start_time": "2022-11-04T19:20:32.204Z"
   },
   {
    "duration": 203,
    "start_time": "2022-11-04T19:20:32.326Z"
   },
   {
    "duration": 14,
    "start_time": "2022-11-04T19:22:23.852Z"
   },
   {
    "duration": 6,
    "start_time": "2022-11-04T19:22:47.857Z"
   },
   {
    "duration": 16,
    "start_time": "2022-11-04T19:23:10.028Z"
   },
   {
    "duration": 13,
    "start_time": "2022-11-04T19:23:21.609Z"
   },
   {
    "duration": 19,
    "start_time": "2022-11-04T19:24:03.430Z"
   },
   {
    "duration": 20,
    "start_time": "2022-11-04T19:24:18.419Z"
   },
   {
    "duration": 58,
    "start_time": "2022-11-04T19:24:53.910Z"
   },
   {
    "duration": 9,
    "start_time": "2022-11-04T19:25:03.527Z"
   },
   {
    "duration": 7,
    "start_time": "2022-11-04T19:25:09.968Z"
   },
   {
    "duration": 95,
    "start_time": "2022-11-04T19:25:26.463Z"
   },
   {
    "duration": 13,
    "start_time": "2022-11-04T19:25:51.016Z"
   },
   {
    "duration": 661,
    "start_time": "2022-11-04T19:26:06.469Z"
   },
   {
    "duration": 104,
    "start_time": "2022-11-04T19:26:16.036Z"
   },
   {
    "duration": 797,
    "start_time": "2022-11-04T19:26:50.789Z"
   },
   {
    "duration": 129,
    "start_time": "2022-11-04T19:28:23.073Z"
   },
   {
    "duration": 203,
    "start_time": "2022-11-04T19:28:37.215Z"
   },
   {
    "duration": 207,
    "start_time": "2022-11-04T19:29:00.632Z"
   },
   {
    "duration": 244,
    "start_time": "2022-11-04T19:29:36.881Z"
   },
   {
    "duration": 299,
    "start_time": "2022-11-04T19:29:43.980Z"
   },
   {
    "duration": 227,
    "start_time": "2022-11-04T19:29:53.948Z"
   },
   {
    "duration": 197,
    "start_time": "2022-11-04T19:29:59.437Z"
   },
   {
    "duration": 585,
    "start_time": "2022-11-04T19:31:03.832Z"
   },
   {
    "duration": 45,
    "start_time": "2022-11-04T19:32:11.478Z"
   },
   {
    "duration": 630,
    "start_time": "2022-11-04T19:32:47.368Z"
   },
   {
    "duration": 689,
    "start_time": "2022-11-04T19:33:03.596Z"
   },
   {
    "duration": 621,
    "start_time": "2022-11-04T19:33:19.551Z"
   },
   {
    "duration": 47,
    "start_time": "2022-11-04T19:33:27.766Z"
   },
   {
    "duration": 663,
    "start_time": "2022-11-04T19:36:08.538Z"
   },
   {
    "duration": 47,
    "start_time": "2022-11-05T07:57:22.742Z"
   },
   {
    "duration": 1355,
    "start_time": "2022-11-05T07:57:28.961Z"
   },
   {
    "duration": 194,
    "start_time": "2022-11-05T07:57:30.318Z"
   },
   {
    "duration": 27,
    "start_time": "2022-11-05T07:57:30.514Z"
   },
   {
    "duration": 18,
    "start_time": "2022-11-05T07:57:30.544Z"
   },
   {
    "duration": 42,
    "start_time": "2022-11-05T07:57:30.564Z"
   },
   {
    "duration": 37,
    "start_time": "2022-11-05T07:57:30.608Z"
   },
   {
    "duration": 3,
    "start_time": "2022-11-05T07:57:30.647Z"
   },
   {
    "duration": 28,
    "start_time": "2022-11-05T07:57:30.652Z"
   },
   {
    "duration": 33,
    "start_time": "2022-11-05T07:57:30.682Z"
   },
   {
    "duration": 24,
    "start_time": "2022-11-05T07:57:30.717Z"
   },
   {
    "duration": 22,
    "start_time": "2022-11-05T07:57:30.743Z"
   },
   {
    "duration": 44,
    "start_time": "2022-11-05T07:57:30.767Z"
   },
   {
    "duration": 20,
    "start_time": "2022-11-05T07:57:30.813Z"
   },
   {
    "duration": 19,
    "start_time": "2022-11-05T07:57:30.836Z"
   },
   {
    "duration": 19,
    "start_time": "2022-11-05T07:57:30.857Z"
   },
   {
    "duration": 42,
    "start_time": "2022-11-05T07:57:30.878Z"
   },
   {
    "duration": 4,
    "start_time": "2022-11-05T07:57:30.922Z"
   },
   {
    "duration": 17,
    "start_time": "2022-11-05T07:57:30.927Z"
   },
   {
    "duration": 8,
    "start_time": "2022-11-05T07:57:30.946Z"
   },
   {
    "duration": 10,
    "start_time": "2022-11-05T07:57:30.955Z"
   },
   {
    "duration": 12,
    "start_time": "2022-11-05T07:57:30.966Z"
   },
   {
    "duration": 12,
    "start_time": "2022-11-05T07:57:30.980Z"
   },
   {
    "duration": 27,
    "start_time": "2022-11-05T07:57:30.995Z"
   },
   {
    "duration": 31,
    "start_time": "2022-11-05T07:57:31.024Z"
   },
   {
    "duration": 29,
    "start_time": "2022-11-05T07:57:31.056Z"
   },
   {
    "duration": 18,
    "start_time": "2022-11-05T07:57:31.087Z"
   },
   {
    "duration": 10,
    "start_time": "2022-11-05T07:57:31.108Z"
   },
   {
    "duration": 56,
    "start_time": "2022-11-05T07:57:31.125Z"
   },
   {
    "duration": 18,
    "start_time": "2022-11-05T07:57:31.183Z"
   },
   {
    "duration": 25,
    "start_time": "2022-11-05T07:57:31.203Z"
   },
   {
    "duration": 226,
    "start_time": "2022-11-05T07:57:31.229Z"
   },
   {
    "duration": 8,
    "start_time": "2022-11-05T07:57:31.457Z"
   },
   {
    "duration": 373,
    "start_time": "2022-11-05T07:57:31.467Z"
   },
   {
    "duration": 12,
    "start_time": "2022-11-05T07:57:31.842Z"
   },
   {
    "duration": 505,
    "start_time": "2022-11-05T07:57:31.855Z"
   },
   {
    "duration": 5,
    "start_time": "2022-11-05T07:57:32.361Z"
   },
   {
    "duration": 6,
    "start_time": "2022-11-05T07:57:32.368Z"
   },
   {
    "duration": 332,
    "start_time": "2022-11-05T07:57:32.375Z"
   },
   {
    "duration": 66,
    "start_time": "2022-11-05T07:57:32.708Z"
   },
   {
    "duration": 284,
    "start_time": "2022-11-05T07:57:32.775Z"
   },
   {
    "duration": 350,
    "start_time": "2022-11-05T07:57:33.060Z"
   },
   {
    "duration": 151,
    "start_time": "2022-11-05T07:57:33.411Z"
   },
   {
    "duration": 151,
    "start_time": "2022-11-05T07:57:33.564Z"
   },
   {
    "duration": 1068,
    "start_time": "2022-11-05T07:57:33.717Z"
   },
   {
    "duration": 26,
    "start_time": "2022-11-05T07:57:34.787Z"
   },
   {
    "duration": 7,
    "start_time": "2022-11-05T07:57:34.814Z"
   },
   {
    "duration": 6,
    "start_time": "2022-11-05T07:57:34.823Z"
   },
   {
    "duration": 7,
    "start_time": "2022-11-05T07:57:34.831Z"
   },
   {
    "duration": 646,
    "start_time": "2022-11-05T07:57:34.840Z"
   },
   {
    "duration": 155,
    "start_time": "2022-11-05T07:57:35.491Z"
   },
   {
    "duration": 224,
    "start_time": "2022-11-05T07:57:35.648Z"
   },
   {
    "duration": 161,
    "start_time": "2022-11-05T07:57:35.874Z"
   },
   {
    "duration": 115,
    "start_time": "2022-11-05T07:57:36.037Z"
   },
   {
    "duration": 141,
    "start_time": "2022-11-05T07:57:36.153Z"
   },
   {
    "duration": 106,
    "start_time": "2022-11-05T07:57:36.295Z"
   },
   {
    "duration": 152,
    "start_time": "2022-11-05T07:57:36.404Z"
   },
   {
    "duration": 154,
    "start_time": "2022-11-05T07:57:36.558Z"
   },
   {
    "duration": 188,
    "start_time": "2022-11-05T07:57:36.714Z"
   },
   {
    "duration": 108,
    "start_time": "2022-11-05T07:57:36.904Z"
   },
   {
    "duration": 141,
    "start_time": "2022-11-05T07:57:37.013Z"
   },
   {
    "duration": 126,
    "start_time": "2022-11-05T07:57:37.156Z"
   },
   {
    "duration": 183,
    "start_time": "2022-11-05T07:57:37.284Z"
   },
   {
    "duration": 289,
    "start_time": "2022-11-05T07:57:37.469Z"
   },
   {
    "duration": 4,
    "start_time": "2022-11-05T07:57:37.760Z"
   },
   {
    "duration": 16,
    "start_time": "2022-11-05T07:57:37.766Z"
   },
   {
    "duration": 21,
    "start_time": "2022-11-05T07:57:37.783Z"
   },
   {
    "duration": 15,
    "start_time": "2022-11-05T07:57:37.808Z"
   },
   {
    "duration": 19,
    "start_time": "2022-11-05T07:57:37.825Z"
   },
   {
    "duration": 9,
    "start_time": "2022-11-05T07:57:37.846Z"
   },
   {
    "duration": 22,
    "start_time": "2022-11-05T07:57:37.857Z"
   },
   {
    "duration": 6,
    "start_time": "2022-11-05T07:57:37.880Z"
   },
   {
    "duration": 21,
    "start_time": "2022-11-05T07:57:37.888Z"
   },
   {
    "duration": 25,
    "start_time": "2022-11-05T07:57:37.911Z"
   },
   {
    "duration": 8,
    "start_time": "2022-11-05T07:57:37.937Z"
   },
   {
    "duration": 18,
    "start_time": "2022-11-05T07:57:37.946Z"
   },
   {
    "duration": 77,
    "start_time": "2022-11-05T07:58:34.563Z"
   },
   {
    "duration": 69,
    "start_time": "2022-11-05T07:58:39.607Z"
   },
   {
    "duration": 657,
    "start_time": "2022-11-05T07:58:44.665Z"
   },
   {
    "duration": 84,
    "start_time": "2022-11-05T07:58:47.919Z"
   },
   {
    "duration": 603,
    "start_time": "2022-11-05T07:58:56.622Z"
   },
   {
    "duration": 597,
    "start_time": "2022-11-05T07:59:02.664Z"
   },
   {
    "duration": 662,
    "start_time": "2022-11-05T07:59:10.942Z"
   },
   {
    "duration": 615,
    "start_time": "2022-11-05T07:59:33.036Z"
   },
   {
    "duration": 606,
    "start_time": "2022-11-05T07:59:36.559Z"
   },
   {
    "duration": 616,
    "start_time": "2022-11-05T08:02:09.260Z"
   },
   {
    "duration": 671,
    "start_time": "2022-11-05T08:02:17.596Z"
   },
   {
    "duration": 522,
    "start_time": "2022-11-05T08:02:32.847Z"
   },
   {
    "duration": 73,
    "start_time": "2022-11-05T08:02:53.219Z"
   },
   {
    "duration": 538,
    "start_time": "2022-11-05T08:03:11.027Z"
   },
   {
    "duration": 685,
    "start_time": "2022-11-05T08:03:20.270Z"
   },
   {
    "duration": 546,
    "start_time": "2022-11-05T08:03:39.566Z"
   },
   {
    "duration": 539,
    "start_time": "2022-11-05T08:03:42.780Z"
   },
   {
    "duration": 561,
    "start_time": "2022-11-05T08:03:49.301Z"
   },
   {
    "duration": 236,
    "start_time": "2022-11-05T08:04:40.107Z"
   },
   {
    "duration": 388,
    "start_time": "2022-11-05T08:04:57.168Z"
   },
   {
    "duration": 24,
    "start_time": "2022-11-05T08:05:08.117Z"
   },
   {
    "duration": 310,
    "start_time": "2022-11-05T08:05:10.821Z"
   },
   {
    "duration": 304,
    "start_time": "2022-11-05T08:05:31.869Z"
   },
   {
    "duration": 294,
    "start_time": "2022-11-05T08:05:52.035Z"
   },
   {
    "duration": 42,
    "start_time": "2022-11-05T08:06:19.392Z"
   },
   {
    "duration": 50,
    "start_time": "2022-11-05T08:06:23.646Z"
   },
   {
    "duration": 36,
    "start_time": "2022-11-05T08:06:26.747Z"
   },
   {
    "duration": 240,
    "start_time": "2022-11-05T08:06:36.247Z"
   },
   {
    "duration": 383,
    "start_time": "2022-11-05T08:06:46.002Z"
   },
   {
    "duration": 361,
    "start_time": "2022-11-05T08:06:58.001Z"
   },
   {
    "duration": 420,
    "start_time": "2022-11-05T08:09:30.165Z"
   },
   {
    "duration": 409,
    "start_time": "2022-11-05T08:10:25.064Z"
   },
   {
    "duration": 462,
    "start_time": "2022-11-05T08:11:16.628Z"
   },
   {
    "duration": 340,
    "start_time": "2022-11-05T08:11:55.626Z"
   },
   {
    "duration": 345,
    "start_time": "2022-11-05T08:12:28.489Z"
   },
   {
    "duration": 357,
    "start_time": "2022-11-05T08:13:38.868Z"
   },
   {
    "duration": 404,
    "start_time": "2022-11-05T08:16:06.091Z"
   },
   {
    "duration": 499,
    "start_time": "2022-11-05T08:18:42.964Z"
   },
   {
    "duration": 419,
    "start_time": "2022-11-05T08:19:05.101Z"
   },
   {
    "duration": 313,
    "start_time": "2022-11-05T08:19:24.028Z"
   },
   {
    "duration": 387,
    "start_time": "2022-11-05T08:19:32.396Z"
   },
   {
    "duration": 348,
    "start_time": "2022-11-05T08:19:38.819Z"
   },
   {
    "duration": 582,
    "start_time": "2022-11-05T08:20:11.224Z"
   },
   {
    "duration": 365,
    "start_time": "2022-11-05T08:20:33.493Z"
   },
   {
    "duration": 81,
    "start_time": "2022-11-05T08:22:12.792Z"
   },
   {
    "duration": 154,
    "start_time": "2022-11-05T08:22:29.024Z"
   },
   {
    "duration": 6,
    "start_time": "2022-11-05T08:25:36.514Z"
   },
   {
    "duration": 5,
    "start_time": "2022-11-05T08:25:54.841Z"
   },
   {
    "duration": 9,
    "start_time": "2022-11-05T08:27:04.188Z"
   },
   {
    "duration": 4,
    "start_time": "2022-11-05T08:27:32.856Z"
   },
   {
    "duration": 177,
    "start_time": "2022-11-05T08:27:45.059Z"
   },
   {
    "duration": 5,
    "start_time": "2022-11-05T08:27:55.640Z"
   },
   {
    "duration": 171,
    "start_time": "2022-11-05T08:27:56.243Z"
   },
   {
    "duration": 4,
    "start_time": "2022-11-05T08:28:22.370Z"
   },
   {
    "duration": 172,
    "start_time": "2022-11-05T08:28:22.876Z"
   },
   {
    "duration": 4,
    "start_time": "2022-11-05T08:38:28.880Z"
   },
   {
    "duration": 4,
    "start_time": "2022-11-05T08:39:04.822Z"
   },
   {
    "duration": 4,
    "start_time": "2022-11-05T08:39:06.032Z"
   },
   {
    "duration": 44,
    "start_time": "2022-11-05T12:24:08.157Z"
   },
   {
    "duration": 1246,
    "start_time": "2022-11-05T12:24:15.279Z"
   },
   {
    "duration": 183,
    "start_time": "2022-11-05T12:24:16.527Z"
   },
   {
    "duration": 15,
    "start_time": "2022-11-05T12:24:16.712Z"
   },
   {
    "duration": 14,
    "start_time": "2022-11-05T12:24:16.729Z"
   },
   {
    "duration": 13,
    "start_time": "2022-11-05T12:24:16.744Z"
   },
   {
    "duration": 27,
    "start_time": "2022-11-05T12:24:16.759Z"
   },
   {
    "duration": 3,
    "start_time": "2022-11-05T12:24:16.787Z"
   },
   {
    "duration": 11,
    "start_time": "2022-11-05T12:24:16.791Z"
   },
   {
    "duration": 10,
    "start_time": "2022-11-05T12:24:16.804Z"
   },
   {
    "duration": 12,
    "start_time": "2022-11-05T12:24:16.817Z"
   },
   {
    "duration": 20,
    "start_time": "2022-11-05T12:24:16.831Z"
   },
   {
    "duration": 46,
    "start_time": "2022-11-05T12:24:16.852Z"
   },
   {
    "duration": 8,
    "start_time": "2022-11-05T12:24:16.899Z"
   },
   {
    "duration": 6,
    "start_time": "2022-11-05T12:24:16.908Z"
   },
   {
    "duration": 8,
    "start_time": "2022-11-05T12:24:16.915Z"
   },
   {
    "duration": 18,
    "start_time": "2022-11-05T12:24:16.924Z"
   },
   {
    "duration": 4,
    "start_time": "2022-11-05T12:24:16.944Z"
   },
   {
    "duration": 28,
    "start_time": "2022-11-05T12:24:16.950Z"
   },
   {
    "duration": 5,
    "start_time": "2022-11-05T12:24:16.979Z"
   },
   {
    "duration": 6,
    "start_time": "2022-11-05T12:24:16.986Z"
   },
   {
    "duration": 6,
    "start_time": "2022-11-05T12:24:16.994Z"
   },
   {
    "duration": 4,
    "start_time": "2022-11-05T12:24:17.002Z"
   },
   {
    "duration": 5,
    "start_time": "2022-11-05T12:24:17.008Z"
   },
   {
    "duration": 13,
    "start_time": "2022-11-05T12:24:17.014Z"
   },
   {
    "duration": 12,
    "start_time": "2022-11-05T12:24:17.028Z"
   },
   {
    "duration": 35,
    "start_time": "2022-11-05T12:24:17.042Z"
   },
   {
    "duration": 4,
    "start_time": "2022-11-05T12:24:17.079Z"
   },
   {
    "duration": 30,
    "start_time": "2022-11-05T12:24:17.087Z"
   },
   {
    "duration": 13,
    "start_time": "2022-11-05T12:24:17.118Z"
   },
   {
    "duration": 5,
    "start_time": "2022-11-05T12:24:17.132Z"
   },
   {
    "duration": 214,
    "start_time": "2022-11-05T12:24:17.139Z"
   },
   {
    "duration": 8,
    "start_time": "2022-11-05T12:24:17.354Z"
   },
   {
    "duration": 325,
    "start_time": "2022-11-05T12:24:17.363Z"
   },
   {
    "duration": 13,
    "start_time": "2022-11-05T12:24:17.690Z"
   },
   {
    "duration": 478,
    "start_time": "2022-11-05T12:24:17.705Z"
   },
   {
    "duration": 4,
    "start_time": "2022-11-05T12:24:18.185Z"
   },
   {
    "duration": 12,
    "start_time": "2022-11-05T12:24:18.191Z"
   },
   {
    "duration": 260,
    "start_time": "2022-11-05T12:24:18.205Z"
   },
   {
    "duration": 60,
    "start_time": "2022-11-05T12:24:18.467Z"
   },
   {
    "duration": 237,
    "start_time": "2022-11-05T12:24:18.529Z"
   },
   {
    "duration": 312,
    "start_time": "2022-11-05T12:24:18.768Z"
   },
   {
    "duration": 133,
    "start_time": "2022-11-05T12:24:19.082Z"
   },
   {
    "duration": 141,
    "start_time": "2022-11-05T12:24:19.216Z"
   },
   {
    "duration": 949,
    "start_time": "2022-11-05T12:24:19.359Z"
   },
   {
    "duration": 17,
    "start_time": "2022-11-05T12:24:20.309Z"
   },
   {
    "duration": 6,
    "start_time": "2022-11-05T12:24:20.328Z"
   },
   {
    "duration": 16,
    "start_time": "2022-11-05T12:24:20.336Z"
   },
   {
    "duration": 12,
    "start_time": "2022-11-05T12:24:20.377Z"
   },
   {
    "duration": 390,
    "start_time": "2022-11-05T12:24:20.392Z"
   },
   {
    "duration": 407,
    "start_time": "2022-11-05T12:24:20.784Z"
   },
   {
    "duration": 387,
    "start_time": "2022-11-05T12:24:21.193Z"
   },
   {
    "duration": 352,
    "start_time": "2022-11-05T12:24:21.582Z"
   },
   {
    "duration": 15,
    "start_time": "2022-11-05T12:24:21.935Z"
   },
   {
    "duration": 163,
    "start_time": "2022-11-05T12:24:21.951Z"
   },
   {
    "duration": 5,
    "start_time": "2022-11-05T12:24:22.116Z"
   },
   {
    "duration": 12,
    "start_time": "2022-11-05T12:24:22.123Z"
   },
   {
    "duration": 174,
    "start_time": "2022-11-05T12:24:22.137Z"
   },
   {
    "duration": 5,
    "start_time": "2022-11-05T12:24:22.312Z"
   },
   {
    "duration": 9,
    "start_time": "2022-11-05T12:24:22.318Z"
   },
   {
    "duration": 7,
    "start_time": "2022-11-05T12:24:22.328Z"
   },
   {
    "duration": 6,
    "start_time": "2022-11-05T12:24:22.337Z"
   },
   {
    "duration": 6,
    "start_time": "2022-11-05T12:24:22.344Z"
   },
   {
    "duration": 6,
    "start_time": "2022-11-05T12:24:22.351Z"
   },
   {
    "duration": 20,
    "start_time": "2022-11-05T12:24:22.359Z"
   },
   {
    "duration": 5,
    "start_time": "2022-11-05T12:24:22.381Z"
   },
   {
    "duration": 13,
    "start_time": "2022-11-05T12:24:22.388Z"
   },
   {
    "duration": 7,
    "start_time": "2022-11-05T12:24:22.403Z"
   },
   {
    "duration": 5,
    "start_time": "2022-11-05T12:24:22.412Z"
   },
   {
    "duration": 5,
    "start_time": "2022-11-05T12:24:22.420Z"
   },
   {
    "duration": 15,
    "start_time": "2022-11-05T12:25:04.614Z"
   },
   {
    "duration": 1071,
    "start_time": "2022-11-05T12:52:06.307Z"
   },
   {
    "duration": 51,
    "start_time": "2022-11-05T12:52:07.379Z"
   },
   {
    "duration": 16,
    "start_time": "2022-11-05T12:52:07.432Z"
   },
   {
    "duration": 15,
    "start_time": "2022-11-05T12:52:07.450Z"
   },
   {
    "duration": 14,
    "start_time": "2022-11-05T12:52:07.467Z"
   },
   {
    "duration": 26,
    "start_time": "2022-11-05T12:52:07.483Z"
   },
   {
    "duration": 3,
    "start_time": "2022-11-05T12:52:07.511Z"
   },
   {
    "duration": 25,
    "start_time": "2022-11-05T12:52:07.515Z"
   },
   {
    "duration": 9,
    "start_time": "2022-11-05T12:52:07.542Z"
   },
   {
    "duration": 23,
    "start_time": "2022-11-05T12:52:07.554Z"
   },
   {
    "duration": 11,
    "start_time": "2022-11-05T12:52:07.579Z"
   },
   {
    "duration": 23,
    "start_time": "2022-11-05T12:52:07.592Z"
   },
   {
    "duration": 8,
    "start_time": "2022-11-05T12:52:07.616Z"
   },
   {
    "duration": 4,
    "start_time": "2022-11-05T12:52:07.626Z"
   },
   {
    "duration": 6,
    "start_time": "2022-11-05T12:52:07.631Z"
   },
   {
    "duration": 46,
    "start_time": "2022-11-05T12:52:07.639Z"
   },
   {
    "duration": 4,
    "start_time": "2022-11-05T12:52:07.687Z"
   },
   {
    "duration": 8,
    "start_time": "2022-11-05T12:52:07.692Z"
   },
   {
    "duration": 6,
    "start_time": "2022-11-05T12:52:07.701Z"
   },
   {
    "duration": 5,
    "start_time": "2022-11-05T12:52:07.708Z"
   },
   {
    "duration": 7,
    "start_time": "2022-11-05T12:52:07.715Z"
   },
   {
    "duration": 5,
    "start_time": "2022-11-05T12:52:07.724Z"
   },
   {
    "duration": 5,
    "start_time": "2022-11-05T12:52:07.730Z"
   },
   {
    "duration": 14,
    "start_time": "2022-11-05T12:52:07.736Z"
   },
   {
    "duration": 37,
    "start_time": "2022-11-05T12:52:07.752Z"
   },
   {
    "duration": 6,
    "start_time": "2022-11-05T12:52:07.790Z"
   },
   {
    "duration": 11,
    "start_time": "2022-11-05T12:52:07.798Z"
   },
   {
    "duration": 43,
    "start_time": "2022-11-05T12:52:07.813Z"
   },
   {
    "duration": 35,
    "start_time": "2022-11-05T12:52:07.857Z"
   },
   {
    "duration": 23,
    "start_time": "2022-11-05T12:52:07.895Z"
   },
   {
    "duration": 223,
    "start_time": "2022-11-05T12:52:07.920Z"
   },
   {
    "duration": 7,
    "start_time": "2022-11-05T12:52:08.144Z"
   },
   {
    "duration": 314,
    "start_time": "2022-11-05T12:52:08.153Z"
   },
   {
    "duration": 13,
    "start_time": "2022-11-05T12:52:08.469Z"
   },
   {
    "duration": 388,
    "start_time": "2022-11-05T12:52:08.483Z"
   },
   {
    "duration": 7,
    "start_time": "2022-11-05T12:52:08.872Z"
   },
   {
    "duration": 8,
    "start_time": "2022-11-05T12:52:08.880Z"
   },
   {
    "duration": 258,
    "start_time": "2022-11-05T12:52:08.889Z"
   },
   {
    "duration": 68,
    "start_time": "2022-11-05T12:52:09.149Z"
   },
   {
    "duration": 228,
    "start_time": "2022-11-05T12:52:09.218Z"
   },
   {
    "duration": 295,
    "start_time": "2022-11-05T12:52:09.447Z"
   },
   {
    "duration": 138,
    "start_time": "2022-11-05T12:52:09.743Z"
   },
   {
    "duration": 133,
    "start_time": "2022-11-05T12:52:09.883Z"
   },
   {
    "duration": 936,
    "start_time": "2022-11-05T12:52:10.017Z"
   },
   {
    "duration": 33,
    "start_time": "2022-11-05T12:52:10.955Z"
   },
   {
    "duration": 9,
    "start_time": "2022-11-05T12:52:10.990Z"
   },
   {
    "duration": 10,
    "start_time": "2022-11-05T12:52:11.001Z"
   },
   {
    "duration": 7,
    "start_time": "2022-11-05T12:52:11.013Z"
   },
   {
    "duration": 437,
    "start_time": "2022-11-05T12:52:11.023Z"
   },
   {
    "duration": 454,
    "start_time": "2022-11-05T12:52:11.462Z"
   },
   {
    "duration": 430,
    "start_time": "2022-11-05T12:52:11.918Z"
   },
   {
    "duration": 399,
    "start_time": "2022-11-05T12:52:12.349Z"
   },
   {
    "duration": 204,
    "start_time": "2022-11-05T12:52:12.751Z"
   },
   {
    "duration": 6,
    "start_time": "2022-11-05T12:52:12.957Z"
   },
   {
    "duration": 15,
    "start_time": "2022-11-05T12:52:12.965Z"
   },
   {
    "duration": 194,
    "start_time": "2022-11-05T12:52:12.981Z"
   },
   {
    "duration": 5,
    "start_time": "2022-11-05T12:52:13.176Z"
   },
   {
    "duration": 30,
    "start_time": "2022-11-05T12:52:13.183Z"
   },
   {
    "duration": 8,
    "start_time": "2022-11-05T12:52:13.214Z"
   },
   {
    "duration": 9,
    "start_time": "2022-11-05T12:52:13.224Z"
   },
   {
    "duration": 10,
    "start_time": "2022-11-05T12:52:13.235Z"
   },
   {
    "duration": 16,
    "start_time": "2022-11-05T12:52:13.247Z"
   },
   {
    "duration": 13,
    "start_time": "2022-11-05T12:52:13.265Z"
   },
   {
    "duration": 5,
    "start_time": "2022-11-05T12:52:13.280Z"
   },
   {
    "duration": 10,
    "start_time": "2022-11-05T12:52:13.287Z"
   },
   {
    "duration": 14,
    "start_time": "2022-11-05T12:52:13.298Z"
   },
   {
    "duration": 18,
    "start_time": "2022-11-05T12:52:13.313Z"
   },
   {
    "duration": 9,
    "start_time": "2022-11-05T12:52:13.333Z"
   }
  ],
  "kernelspec": {
   "display_name": "Python 3 (ipykernel)",
   "language": "python",
   "name": "python3"
  },
  "language_info": {
   "codemirror_mode": {
    "name": "ipython",
    "version": 3
   },
   "file_extension": ".py",
   "mimetype": "text/x-python",
   "name": "python",
   "nbconvert_exporter": "python",
   "pygments_lexer": "ipython3",
   "version": "3.9.12"
  },
  "toc": {
   "base_numbering": "1",
   "nav_menu": {},
   "number_sections": true,
   "sideBar": true,
   "skip_h1_title": true,
   "title_cell": "Table of Contents",
   "title_sidebar": "Contents",
   "toc_cell": false,
   "toc_position": {},
   "toc_section_display": true,
   "toc_window_display": false
  }
 },
 "nbformat": 4,
 "nbformat_minor": 2
}
